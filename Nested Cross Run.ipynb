{
 "cells": [
  {
   "cell_type": "code",
   "execution_count": 144,
   "metadata": {
    "collapsed": false
   },
   "outputs": [
    {
     "name": "stdout",
     "output_type": "stream",
     "text": [
      "The autoreload extension is already loaded. To reload it, use:\n",
      "  %reload_ext autoreload\n"
     ]
    }
   ],
   "source": [
    "import pandas as pd\n",
    "import numpy as np\n",
    "import scipy as sp\n",
    "pd.options.display.max_rows = 400\n",
    "pd.options.display.max_columns = 400\n",
    "%matplotlib inline\n",
    "%load_ext autoreload\n",
    "%autoreload 2"
   ]
  },
  {
   "cell_type": "code",
   "execution_count": 145,
   "metadata": {
    "collapsed": true
   },
   "outputs": [],
   "source": [
    "from loadcreon import LoadCreon\n",
    "from creonmetrics import pu_scorer, prior_squared_error_scorer_015, brier_score_labeled_loss_scorer, \\\n",
    "    f1_assumed_scorer, f1_labeled_scorer, report_metrics, f1_assumed_beta10_scorer\n",
    "from semisuperhelper import SemiSupervisedHelper\n",
    "from pnuwrapper import PNUWrapper\n",
    "from jeffsearchcv import JeffRandomSearchCV\n",
    "from nestedcross import NestedCV\n",
    "from frankenscorer import FrankenScorer, extract_scores_from_nested, extract_score_grid\n",
    "from searchrf import save_search, load_search"
   ]
  },
  {
   "cell_type": "code",
   "execution_count": 3,
   "metadata": {
    "collapsed": true
   },
   "outputs": [],
   "source": [
    "path = \"C:\\Data\\\\010317\\membership14_final_0103.txt\"\n",
    "lc = LoadCreon(path)"
   ]
  },
  {
   "cell_type": "code",
   "execution_count": 4,
   "metadata": {
    "collapsed": false
   },
   "outputs": [],
   "source": [
    "from sklearn.model_selection import train_test_split\n",
    "from sklearn.ensemble import RandomForestClassifier"
   ]
  },
  {
   "cell_type": "code",
   "execution_count": 5,
   "metadata": {
    "collapsed": true
   },
   "outputs": [],
   "source": [
    "X_train, X_test, y_train, y_test = train_test_split(lc.X, lc.y, test_size=0.2, random_state=771, stratify=lc.y)"
   ]
  },
  {
   "cell_type": "code",
   "execution_count": 146,
   "metadata": {
    "collapsed": true
   },
   "outputs": [],
   "source": [
    "rf_param_search = {'base_estimator__n_estimators':sp.stats.randint(low=10, high=500),\n",
    "                   'num_unlabeled':sp.stats.randint(low=0, high=15000),\n",
    "                   'pu_learning':[False, True],\n",
    "                   'base_estimator__max_features':['sqrt','log2',5, 10, 20, 50, None],\n",
    "                   #todo - make custom rvs for this type of thing where I want a None some % of the time\n",
    "                   'base_estimator__max_depth':sp.stats.randint(low=2, high=50),\n",
    "                   'base_estimator__min_samples_split':[2,0.005,0.01,0.015,0.02,0.025,0.03,0.035,0.04,0.045,0.05,0.07,0.09,0.1,0.12,0.15,0.17,0.2,0.25],\n",
    "                   'base_estimator__min_samples_leaf':[1,2,3,4,5,6,7,8,9,10,50,100],\n",
    "                   'base_estimator__class_weight':[None,'balanced','balanced_subsample']}"
   ]
  },
  {
   "cell_type": "code",
   "execution_count": 150,
   "metadata": {
    "collapsed": true
   },
   "outputs": [],
   "source": [
    "pnu = PNUWrapper(base_estimator=RandomForestClassifier(), random_state=None)"
   ]
  },
  {
   "cell_type": "code",
   "execution_count": 151,
   "metadata": {
    "collapsed": true
   },
   "outputs": [],
   "source": [
    "jeffsearch = JeffRandomSearchCV(pnu, rf_param_search, n_iter=40, scoring=FrankenScorer(), n_jobs=-1, cv=5, verbose=100, pre_dispatch=8)"
   ]
  },
  {
   "cell_type": "code",
   "execution_count": 152,
   "metadata": {
    "collapsed": true
   },
   "outputs": [],
   "source": [
    "nested_cross = NestedCV(jeffsearch, scoring=FrankenScorer(), cv=5, random_state=None)"
   ]
  },
  {
   "cell_type": "code",
   "execution_count": null,
   "metadata": {
    "collapsed": false,
    "scrolled": false
   },
   "outputs": [
    {
     "name": "stdout",
     "output_type": "stream",
     "text": [
      "Pickling array (shape=(624,), dtype=uint32).\n",
      "Memmaping (shape=(352556, 288), dtype=int64) to new file C:\\Users\\JEFFRE~1.GOM\\AppData\\Local\\Temp\\joblib_memmaping_pool_5244_200709736\\5244-241728144-d47a562ce4fdf84a63c4c4a1b92e0b10.pkl\n",
      "Memmaping (shape=(352556,), dtype=int64) to new file C:\\Users\\JEFFRE~1.GOM\\AppData\\Local\\Temp\\joblib_memmaping_pool_5244_200709736\\5244-241728144-37e9d47f2d553d0c8c1a28b850ef16f7.pkl\n",
      "Memmaping (shape=(282044,), dtype=int32) to new file C:\\Users\\JEFFRE~1.GOM\\AppData\\Local\\Temp\\joblib_memmaping_pool_5244_200709736\\5244-241728144-c9c654a2f7eb2665bd3c539dafc8097f.pkl\n",
      "Pickling array (shape=(70512,), dtype=int32).\n",
      "Pickling array (shape=(624,), dtype=uint32).\n",
      "Memmaping (shape=(352556, 288), dtype=int64) to old file C:\\Users\\JEFFRE~1.GOM\\AppData\\Local\\Temp\\joblib_memmaping_pool_5244_200709736\\5244-241728144-d47a562ce4fdf84a63c4c4a1b92e0b10.pkl\n",
      "Memmaping (shape=(352556,), dtype=int64) to old file C:\\Users\\JEFFRE~1.GOM\\AppData\\Local\\Temp\\joblib_memmaping_pool_5244_200709736\\5244-241728144-37e9d47f2d553d0c8c1a28b850ef16f7.pkl\n",
      "Memmaping (shape=(282044,), dtype=int32) to new file C:\\Users\\JEFFRE~1.GOM\\AppData\\Local\\Temp\\joblib_memmaping_pool_5244_200709736\\5244-241728144-9d68bb4ff57a66ba212c10397f5911c1.pkl\n",
      "Pickling array (shape=(70512,), dtype=int32).\n",
      "Pickling array (shape=(624,), dtype=uint32).\n",
      "Memmaping (shape=(352556, 288), dtype=int64) to old file C:\\Users\\JEFFRE~1.GOM\\AppData\\Local\\Temp\\joblib_memmaping_pool_5244_200709736\\5244-241728144-d47a562ce4fdf84a63c4c4a1b92e0b10.pkl\n",
      "Memmaping (shape=(352556,), dtype=int64) to old file C:\\Users\\JEFFRE~1.GOM\\AppData\\Local\\Temp\\joblib_memmaping_pool_5244_200709736\\5244-241728144-37e9d47f2d553d0c8c1a28b850ef16f7.pkl\n",
      "Memmaping (shape=(282045,), dtype=int32) to new file C:\\Users\\JEFFRE~1.GOM\\AppData\\Local\\Temp\\joblib_memmaping_pool_5244_200709736\\5244-241728144-6097f0888cd889868dab25b51665e462.pkl\n",
      "Pickling array (shape=(70511,), dtype=int32).\n",
      "Pickling array (shape=(624,), dtype=uint32).\n",
      "Memmaping (shape=(352556, 288), dtype=int64) to old file C:\\Users\\JEFFRE~1.GOM\\AppData\\Local\\Temp\\joblib_memmaping_pool_5244_200709736\\5244-241728144-d47a562ce4fdf84a63c4c4a1b92e0b10.pkl\n",
      "Memmaping (shape=(352556,), dtype=int64) to old file C:\\Users\\JEFFRE~1.GOM\\AppData\\Local\\Temp\\joblib_memmaping_pool_5244_200709736\\5244-241728144-37e9d47f2d553d0c8c1a28b850ef16f7.pkl\n",
      "Memmaping (shape=(282045,), dtype=int32) to new file C:\\Users\\JEFFRE~1.GOM\\AppData\\Local\\Temp\\joblib_memmaping_pool_5244_200709736\\5244-241728144-76e611c15899f98a4ef078d5bd7c2e1e.pkl\n",
      "Pickling array (shape=(70511,), dtype=int32).\n",
      "Pickling array (shape=(624,), dtype=uint32).\n",
      "Memmaping (shape=(352556, 288), dtype=int64) to old file C:\\Users\\JEFFRE~1.GOM\\AppData\\Local\\Temp\\joblib_memmaping_pool_5244_200709736\\5244-241728144-d47a562ce4fdf84a63c4c4a1b92e0b10.pkl\n",
      "Memmaping (shape=(352556,), dtype=int64) to old file C:\\Users\\JEFFRE~1.GOM\\AppData\\Local\\Temp\\joblib_memmaping_pool_5244_200709736\\5244-241728144-37e9d47f2d553d0c8c1a28b850ef16f7.pkl\n",
      "Memmaping (shape=(282046,), dtype=int32) to new file C:\\Users\\JEFFRE~1.GOM\\AppData\\Local\\Temp\\joblib_memmaping_pool_5244_200709736\\5244-241728144-ddab571a0f2a1f158dd18cfa4816996e.pkl\n",
      "Pickling array (shape=(70510,), dtype=int32).\n"
     ]
    }
   ],
   "source": [
    "scores = nested_cross.score(X_train.values, y=y_train.values, n_jobs=-1, verbose=100, pre_dispatch=8)"
   ]
  },
  {
   "cell_type": "code",
   "execution_count": null,
   "metadata": {
    "collapsed": false
   },
   "outputs": [],
   "source": [
    "scores"
   ]
  },
  {
   "cell_type": "code",
   "execution_count": 46,
   "metadata": {
    "collapsed": false
   },
   "outputs": [
    {
     "data": {
      "text/plain": [
       "fn_confusion_matrix_lab                                                  160\n",
       "tn_confusion_matrix_un                                                110675\n",
       "labeled_roc_auc                                                      0.80994\n",
       "confusion_matrix_lab       [[260.666666667, 26.6666666667], [160.0, 396.6...\n",
       "labeled_acc                                                         0.778905\n",
       "confusion_matrix_un        [[110675.333333, 6286.66666667], [160.0, 396.6...\n",
       "labeled_brier_neg                                                   0.112656\n",
       "labeled_prec                                                        0.932286\n",
       "fn_confusion_matrix_un                                                   160\n",
       "assumed_brier                                                      0.0526838\n",
       "assumed_brier_neg                                                  0.0519083\n",
       "labeled_brier_pos                                                   0.215562\n",
       "labeled_recall                                                       0.71263\n",
       "assumed_f1                                                          0.132669\n",
       "fp_confusion_matrix_lab                                              26.6667\n",
       "labeled_brier                                                        0.18053\n",
       "tp_confusion_matrix_un                                               396.667\n",
       "pr_one_unlabeled                                                   0.0536535\n",
       "assumed_f1beta10                                                    0.638502\n",
       "tn_confusion_matrix_lab                                              260.667\n",
       "tp_confusion_matrix_lab                                              396.667\n",
       "labeled_f1                                                          0.803783\n",
       "pu_score                                                             10.5629\n",
       "labeled_avg_prec                                                     0.91721\n",
       "fp_confusion_matrix_un                                               6286.67\n",
       "dtype: object"
      ]
     },
     "execution_count": 46,
     "metadata": {},
     "output_type": "execute_result"
    }
   ],
   "source": [
    "extract_scores_from_nested(nested_cross.test_score_datas_).mean()"
   ]
  },
  {
   "cell_type": "code",
   "execution_count": 26,
   "metadata": {
    "collapsed": false
   },
   "outputs": [
    {
     "data": {
      "text/plain": [
       "[{'base_estimator__class_weight': None,\n",
       "  'base_estimator__max_depth': 43,\n",
       "  'base_estimator__max_features': 20,\n",
       "  'base_estimator__min_samples_leaf': 1,\n",
       "  'base_estimator__min_samples_split': 0.01,\n",
       "  'base_estimator__n_estimators': 843,\n",
       "  'num_unlabeled': 7766,\n",
       "  'pu_learning': True},\n",
       " {'base_estimator__class_weight': None,\n",
       "  'base_estimator__max_depth': 21,\n",
       "  'base_estimator__max_features': 20,\n",
       "  'base_estimator__min_samples_leaf': 3,\n",
       "  'base_estimator__min_samples_split': 0.015,\n",
       "  'base_estimator__n_estimators': 248,\n",
       "  'num_unlabeled': 1698,\n",
       "  'pu_learning': False},\n",
       " {'base_estimator__class_weight': 'balanced',\n",
       "  'base_estimator__max_depth': 7,\n",
       "  'base_estimator__max_features': 50,\n",
       "  'base_estimator__min_samples_leaf': 2,\n",
       "  'base_estimator__min_samples_split': 2,\n",
       "  'base_estimator__n_estimators': 1677,\n",
       "  'num_unlabeled': 10654,\n",
       "  'pu_learning': False}]"
      ]
     },
     "execution_count": 26,
     "metadata": {},
     "output_type": "execute_result"
    }
   ],
   "source": [
    "[x.best_params_ for x in nested_cross.estimators_]"
   ]
  },
  {
   "cell_type": "code",
   "execution_count": 28,
   "metadata": {
    "collapsed": false
   },
   "outputs": [
    {
     "data": {
      "text/plain": [
       "({'SCORE': 9.3434642717522998,\n",
       "  'assumed_brier': 0.069094091001995928,\n",
       "  'assumed_brier_neg': 0.068738740745030974,\n",
       "  'assumed_f1': 0.10185185185185185,\n",
       "  'assumed_f1beta10': 0.71635675360871909,\n",
       "  'confusion_matrix_lab': array([[181,  34],\n",
       "         [ 77, 341]]),\n",
       "  'confusion_matrix_un': array([[81785,  5937],\n",
       "         [   77,   341]]),\n",
       "  'labeled_acc': 0.82464454976303314,\n",
       "  'labeled_avg_prec': 0.92338288850087302,\n",
       "  'labeled_brier': 0.13249194499481634,\n",
       "  'labeled_brier_neg': 0.1107629576809509,\n",
       "  'labeled_brier_pos': 0.14366833799118253,\n",
       "  'labeled_f1': 0.86002522068095844,\n",
       "  'labeled_prec': 0.90933333333333333,\n",
       "  'labeled_recall': 0.81578947368421051,\n",
       "  'labeled_roc_auc': 0.82882496940024486,\n",
       "  'pr_one_unlabeled': 0.067457460546013467,\n",
       "  'pu_score': 9.3434642717522998},\n",
       " 9.3434642717522998)"
      ]
     },
     "execution_count": 28,
     "metadata": {},
     "output_type": "execute_result"
    }
   ],
   "source": [
    "FrankenScorer()(nested_cross.estimators_[-1], X_test.values, y_test.values)"
   ]
  },
  {
   "cell_type": "markdown",
   "metadata": {},
   "source": [
    "## Lets do a validation curve on this last random forest model to see how many estimators we need"
   ]
  },
  {
   "cell_type": "code",
   "execution_count": 37,
   "metadata": {
    "collapsed": true
   },
   "outputs": [],
   "source": [
    "params = {'base_estimator__class_weight': 'balanced',\n",
    "  'base_estimator__max_depth': 7,\n",
    "  'base_estimator__max_features': 50,\n",
    "  'base_estimator__min_samples_leaf': 2,\n",
    "  'base_estimator__min_samples_split': 2,\n",
    "  'base_estimator__n_estimators': 1677,\n",
    "  'num_unlabeled': 10654,\n",
    "  'pu_learning': False}\n",
    "valid_curve_clf = PNUWrapper(RandomForestClassifier())"
   ]
  },
  {
   "cell_type": "code",
   "execution_count": 38,
   "metadata": {
    "collapsed": false
   },
   "outputs": [
    {
     "data": {
      "text/plain": [
       "PNUWrapper(base_estimator=RandomForestClassifier(bootstrap=True, class_weight='balanced',\n",
       "            criterion='gini', max_depth=7, max_features=50,\n",
       "            max_leaf_nodes=None, min_impurity_split=1e-07,\n",
       "            min_samples_leaf=2, min_samples_split=2,\n",
       "            min_weight_fraction_leaf=0.0, n_estimators=1677, n_jobs=1,\n",
       "            oob_score=False, random_state=None, verbose=0,\n",
       "            warm_start=False),\n",
       "      num_unlabeled=10654, pu_learning=False, random_state=None,\n",
       "      threshold_set_pct=None)"
      ]
     },
     "execution_count": 38,
     "metadata": {},
     "output_type": "execute_result"
    }
   ],
   "source": [
    "valid_curve_clf.set_params(**params)"
   ]
  },
  {
   "cell_type": "code",
   "execution_count": 39,
   "metadata": {
    "collapsed": true
   },
   "outputs": [],
   "source": [
    "from sklearn.model_selection import validation_curve"
   ]
  },
  {
   "cell_type": "code",
   "execution_count": 40,
   "metadata": {
    "collapsed": false
   },
   "outputs": [
    {
     "name": "stdout",
     "output_type": "stream",
     "text": [
      "Memmaping (shape=(352556, 288), dtype=int64) to new file C:\\Users\\JEFFRE~1.GOM\\AppData\\Local\\Temp\\joblib_memmaping_pool_5244_33009448\\5244-239272232-d47a562ce4fdf84a63c4c4a1b92e0b10.pkl\n",
      "Memmaping (shape=(352556,), dtype=int64) to new file C:\\Users\\JEFFRE~1.GOM\\AppData\\Local\\Temp\\joblib_memmaping_pool_5244_33009448\\5244-239272232-37e9d47f2d553d0c8c1a28b850ef16f7.pkl\n",
      "Memmaping (shape=(282044,), dtype=int32) to new file C:\\Users\\JEFFRE~1.GOM\\AppData\\Local\\Temp\\joblib_memmaping_pool_5244_33009448\\5244-239272232-c9c654a2f7eb2665bd3c539dafc8097f.pkl\n",
      "Pickling array (shape=(70512,), dtype=int32).\n",
      "Memmaping (shape=(352556, 288), dtype=int64) to old file C:\\Users\\JEFFRE~1.GOM\\AppData\\Local\\Temp\\joblib_memmaping_pool_5244_33009448\\5244-239272232-d47a562ce4fdf84a63c4c4a1b92e0b10.pkl\n",
      "Memmaping (shape=(352556,), dtype=int64) to old file C:\\Users\\JEFFRE~1.GOM\\AppData\\Local\\Temp\\joblib_memmaping_pool_5244_33009448\\5244-239272232-37e9d47f2d553d0c8c1a28b850ef16f7.pkl\n",
      "Memmaping (shape=(282044,), dtype=int32) to old file C:\\Users\\JEFFRE~1.GOM\\AppData\\Local\\Temp\\joblib_memmaping_pool_5244_33009448\\5244-239272232-c9c654a2f7eb2665bd3c539dafc8097f.pkl\n",
      "Pickling array (shape=(70512,), dtype=int32).\n",
      "Memmaping (shape=(352556, 288), dtype=int64) to old file C:\\Users\\JEFFRE~1.GOM\\AppData\\Local\\Temp\\joblib_memmaping_pool_5244_33009448\\5244-239272232-d47a562ce4fdf84a63c4c4a1b92e0b10.pkl\n",
      "Memmaping (shape=(352556,), dtype=int64) to old file C:\\Users\\JEFFRE~1.GOM\\AppData\\Local\\Temp\\joblib_memmaping_pool_5244_33009448\\5244-239272232-37e9d47f2d553d0c8c1a28b850ef16f7.pkl\n",
      "Memmaping (shape=(282044,), dtype=int32) to old file C:\\Users\\JEFFRE~1.GOM\\AppData\\Local\\Temp\\joblib_memmaping_pool_5244_33009448\\5244-239272232-c9c654a2f7eb2665bd3c539dafc8097f.pkl\n",
      "Pickling array (shape=(70512,), dtype=int32).\n",
      "[Parallel(n_jobs=3)]: Done   1 out of  45 | elapsed:    7.6s remaining:  5.6min\n",
      "Memmaping (shape=(352556, 288), dtype=int64) to old file C:\\Users\\JEFFRE~1.GOM\\AppData\\Local\\Temp\\joblib_memmaping_pool_5244_33009448\\5244-239272232-d47a562ce4fdf84a63c4c4a1b92e0b10.pkl\n",
      "Memmaping (shape=(352556,), dtype=int64) to old file C:\\Users\\JEFFRE~1.GOM\\AppData\\Local\\Temp\\joblib_memmaping_pool_5244_33009448\\5244-239272232-37e9d47f2d553d0c8c1a28b850ef16f7.pkl\n",
      "Memmaping (shape=(282044,), dtype=int32) to old file C:\\Users\\JEFFRE~1.GOM\\AppData\\Local\\Temp\\joblib_memmaping_pool_5244_33009448\\5244-239272232-c9c654a2f7eb2665bd3c539dafc8097f.pkl\n",
      "Pickling array (shape=(70512,), dtype=int32).\n",
      "Memmaping (shape=(352556, 288), dtype=int64) to old file C:\\Users\\JEFFRE~1.GOM\\AppData\\Local\\Temp\\joblib_memmaping_pool_5244_33009448\\5244-239272232-d47a562ce4fdf84a63c4c4a1b92e0b10.pkl\n",
      "Memmaping (shape=(352556,), dtype=int64) to old file C:\\Users\\JEFFRE~1.GOM\\AppData\\Local\\Temp\\joblib_memmaping_pool_5244_33009448\\5244-239272232-37e9d47f2d553d0c8c1a28b850ef16f7.pkl\n",
      "Memmaping (shape=(282044,), dtype=int32) to old file C:\\Users\\JEFFRE~1.GOM\\AppData\\Local\\Temp\\joblib_memmaping_pool_5244_33009448\\5244-239272232-c9c654a2f7eb2665bd3c539dafc8097f.pkl\n",
      "Pickling array (shape=(70512,), dtype=int32).\n",
      "[Parallel(n_jobs=3)]: Done   2 out of  45 | elapsed:   15.6s remaining:  5.6min\n",
      "Memmaping (shape=(352556, 288), dtype=int64) to old file C:\\Users\\JEFFRE~1.GOM\\AppData\\Local\\Temp\\joblib_memmaping_pool_5244_33009448\\5244-239272232-d47a562ce4fdf84a63c4c4a1b92e0b10.pkl\n",
      "Memmaping (shape=(352556,), dtype=int64) to old file C:\\Users\\JEFFRE~1.GOM\\AppData\\Local\\Temp\\joblib_memmaping_pool_5244_33009448\\5244-239272232-37e9d47f2d553d0c8c1a28b850ef16f7.pkl\n",
      "Memmaping (shape=(282044,), dtype=int32) to old file C:\\Users\\JEFFRE~1.GOM\\AppData\\Local\\Temp\\joblib_memmaping_pool_5244_33009448\\5244-239272232-c9c654a2f7eb2665bd3c539dafc8097f.pkl\n",
      "Pickling array (shape=(70512,), dtype=int32).\n",
      "[Parallel(n_jobs=3)]: Done   3 out of  45 | elapsed:   23.3s remaining:  5.5min\n",
      "Memmaping (shape=(352556, 288), dtype=int64) to old file C:\\Users\\JEFFRE~1.GOM\\AppData\\Local\\Temp\\joblib_memmaping_pool_5244_33009448\\5244-239272232-d47a562ce4fdf84a63c4c4a1b92e0b10.pkl\n",
      "Memmaping (shape=(352556,), dtype=int64) to old file C:\\Users\\JEFFRE~1.GOM\\AppData\\Local\\Temp\\joblib_memmaping_pool_5244_33009448\\5244-239272232-37e9d47f2d553d0c8c1a28b850ef16f7.pkl\n",
      "Memmaping (shape=(282044,), dtype=int32) to old file C:\\Users\\JEFFRE~1.GOM\\AppData\\Local\\Temp\\joblib_memmaping_pool_5244_33009448\\5244-239272232-c9c654a2f7eb2665bd3c539dafc8097f.pkl\n",
      "Pickling array (shape=(70512,), dtype=int32).\n",
      "[Parallel(n_jobs=3)]: Done   4 out of  45 | elapsed:   32.7s remaining:  5.6min\n",
      "Memmaping (shape=(352556, 288), dtype=int64) to old file C:\\Users\\JEFFRE~1.GOM\\AppData\\Local\\Temp\\joblib_memmaping_pool_5244_33009448\\5244-239272232-d47a562ce4fdf84a63c4c4a1b92e0b10.pkl\n",
      "Memmaping (shape=(352556,), dtype=int64) to old file C:\\Users\\JEFFRE~1.GOM\\AppData\\Local\\Temp\\joblib_memmaping_pool_5244_33009448\\5244-239272232-37e9d47f2d553d0c8c1a28b850ef16f7.pkl\n",
      "Memmaping (shape=(282044,), dtype=int32) to old file C:\\Users\\JEFFRE~1.GOM\\AppData\\Local\\Temp\\joblib_memmaping_pool_5244_33009448\\5244-239272232-c9c654a2f7eb2665bd3c539dafc8097f.pkl\n",
      "Pickling array (shape=(70512,), dtype=int32).\n",
      "[Parallel(n_jobs=3)]: Done   5 out of  45 | elapsed:   46.9s remaining:  6.3min\n",
      "Memmaping (shape=(352556, 288), dtype=int64) to old file C:\\Users\\JEFFRE~1.GOM\\AppData\\Local\\Temp\\joblib_memmaping_pool_5244_33009448\\5244-239272232-d47a562ce4fdf84a63c4c4a1b92e0b10.pkl\n",
      "Memmaping (shape=(352556,), dtype=int64) to old file C:\\Users\\JEFFRE~1.GOM\\AppData\\Local\\Temp\\joblib_memmaping_pool_5244_33009448\\5244-239272232-37e9d47f2d553d0c8c1a28b850ef16f7.pkl\n",
      "Memmaping (shape=(282044,), dtype=int32) to old file C:\\Users\\JEFFRE~1.GOM\\AppData\\Local\\Temp\\joblib_memmaping_pool_5244_33009448\\5244-239272232-c9c654a2f7eb2665bd3c539dafc8097f.pkl\n",
      "Pickling array (shape=(70512,), dtype=int32).\n",
      "[Parallel(n_jobs=3)]: Done   6 out of  45 | elapsed:  1.1min remaining:  7.4min\n",
      "Memmaping (shape=(352556, 288), dtype=int64) to old file C:\\Users\\JEFFRE~1.GOM\\AppData\\Local\\Temp\\joblib_memmaping_pool_5244_33009448\\5244-239272232-d47a562ce4fdf84a63c4c4a1b92e0b10.pkl\n",
      "Memmaping (shape=(352556,), dtype=int64) to old file C:\\Users\\JEFFRE~1.GOM\\AppData\\Local\\Temp\\joblib_memmaping_pool_5244_33009448\\5244-239272232-37e9d47f2d553d0c8c1a28b850ef16f7.pkl\n",
      "Memmaping (shape=(282044,), dtype=int32) to new file C:\\Users\\JEFFRE~1.GOM\\AppData\\Local\\Temp\\joblib_memmaping_pool_5244_33009448\\5244-239272232-9d68bb4ff57a66ba212c10397f5911c1.pkl\n",
      "Pickling array (shape=(70512,), dtype=int32).\n",
      "[Parallel(n_jobs=3)]: Done   7 out of  45 | elapsed:  1.5min remaining:  8.3min\n",
      "Memmaping (shape=(352556, 288), dtype=int64) to old file C:\\Users\\JEFFRE~1.GOM\\AppData\\Local\\Temp\\joblib_memmaping_pool_5244_33009448\\5244-239272232-d47a562ce4fdf84a63c4c4a1b92e0b10.pkl\n",
      "Memmaping (shape=(352556,), dtype=int64) to old file C:\\Users\\JEFFRE~1.GOM\\AppData\\Local\\Temp\\joblib_memmaping_pool_5244_33009448\\5244-239272232-37e9d47f2d553d0c8c1a28b850ef16f7.pkl\n",
      "Memmaping (shape=(282044,), dtype=int32) to old file C:\\Users\\JEFFRE~1.GOM\\AppData\\Local\\Temp\\joblib_memmaping_pool_5244_33009448\\5244-239272232-9d68bb4ff57a66ba212c10397f5911c1.pkl\n",
      "Pickling array (shape=(70512,), dtype=int32).\n",
      "[Parallel(n_jobs=3)]: Done   8 out of  45 | elapsed:  1.6min remaining:  7.4min\n",
      "Memmaping (shape=(352556, 288), dtype=int64) to old file C:\\Users\\JEFFRE~1.GOM\\AppData\\Local\\Temp\\joblib_memmaping_pool_5244_33009448\\5244-239272232-d47a562ce4fdf84a63c4c4a1b92e0b10.pkl\n",
      "Memmaping (shape=(352556,), dtype=int64) to old file C:\\Users\\JEFFRE~1.GOM\\AppData\\Local\\Temp\\joblib_memmaping_pool_5244_33009448\\5244-239272232-37e9d47f2d553d0c8c1a28b850ef16f7.pkl\n",
      "Memmaping (shape=(282044,), dtype=int32) to old file C:\\Users\\JEFFRE~1.GOM\\AppData\\Local\\Temp\\joblib_memmaping_pool_5244_33009448\\5244-239272232-9d68bb4ff57a66ba212c10397f5911c1.pkl\n",
      "Pickling array (shape=(70512,), dtype=int32).\n",
      "[Parallel(n_jobs=3)]: Done   9 out of  45 | elapsed:  1.8min remaining:  7.1min\n",
      "Memmaping (shape=(352556, 288), dtype=int64) to old file C:\\Users\\JEFFRE~1.GOM\\AppData\\Local\\Temp\\joblib_memmaping_pool_5244_33009448\\5244-239272232-d47a562ce4fdf84a63c4c4a1b92e0b10.pkl\n",
      "Memmaping (shape=(352556,), dtype=int64) to old file C:\\Users\\JEFFRE~1.GOM\\AppData\\Local\\Temp\\joblib_memmaping_pool_5244_33009448\\5244-239272232-37e9d47f2d553d0c8c1a28b850ef16f7.pkl\n",
      "Memmaping (shape=(282044,), dtype=int32) to old file C:\\Users\\JEFFRE~1.GOM\\AppData\\Local\\Temp\\joblib_memmaping_pool_5244_33009448\\5244-239272232-9d68bb4ff57a66ba212c10397f5911c1.pkl\n",
      "Pickling array (shape=(70512,), dtype=int32).\n",
      "[Parallel(n_jobs=3)]: Done  10 out of  45 | elapsed:  2.0min remaining:  7.0min\n",
      "Memmaping (shape=(352556, 288), dtype=int64) to old file C:\\Users\\JEFFRE~1.GOM\\AppData\\Local\\Temp\\joblib_memmaping_pool_5244_33009448\\5244-239272232-d47a562ce4fdf84a63c4c4a1b92e0b10.pkl\n",
      "Memmaping (shape=(352556,), dtype=int64) to old file C:\\Users\\JEFFRE~1.GOM\\AppData\\Local\\Temp\\joblib_memmaping_pool_5244_33009448\\5244-239272232-37e9d47f2d553d0c8c1a28b850ef16f7.pkl\n",
      "Memmaping (shape=(282044,), dtype=int32) to old file C:\\Users\\JEFFRE~1.GOM\\AppData\\Local\\Temp\\joblib_memmaping_pool_5244_33009448\\5244-239272232-9d68bb4ff57a66ba212c10397f5911c1.pkl\n",
      "Pickling array (shape=(70512,), dtype=int32).\n",
      "[Parallel(n_jobs=3)]: Done  11 out of  45 | elapsed:  2.1min remaining:  6.4min\n",
      "Memmaping (shape=(352556, 288), dtype=int64) to old file C:\\Users\\JEFFRE~1.GOM\\AppData\\Local\\Temp\\joblib_memmaping_pool_5244_33009448\\5244-239272232-d47a562ce4fdf84a63c4c4a1b92e0b10.pkl\n",
      "Memmaping (shape=(352556,), dtype=int64) to old file C:\\Users\\JEFFRE~1.GOM\\AppData\\Local\\Temp\\joblib_memmaping_pool_5244_33009448\\5244-239272232-37e9d47f2d553d0c8c1a28b850ef16f7.pkl\n",
      "Memmaping (shape=(282044,), dtype=int32) to old file C:\\Users\\JEFFRE~1.GOM\\AppData\\Local\\Temp\\joblib_memmaping_pool_5244_33009448\\5244-239272232-9d68bb4ff57a66ba212c10397f5911c1.pkl\n",
      "Pickling array (shape=(70512,), dtype=int32).\n",
      "[Parallel(n_jobs=3)]: Done  12 out of  45 | elapsed:  2.4min remaining:  6.6min\n",
      "Memmaping (shape=(352556, 288), dtype=int64) to old file C:\\Users\\JEFFRE~1.GOM\\AppData\\Local\\Temp\\joblib_memmaping_pool_5244_33009448\\5244-239272232-d47a562ce4fdf84a63c4c4a1b92e0b10.pkl\n",
      "Memmaping (shape=(352556,), dtype=int64) to old file C:\\Users\\JEFFRE~1.GOM\\AppData\\Local\\Temp\\joblib_memmaping_pool_5244_33009448\\5244-239272232-37e9d47f2d553d0c8c1a28b850ef16f7.pkl\n",
      "Memmaping (shape=(282044,), dtype=int32) to old file C:\\Users\\JEFFRE~1.GOM\\AppData\\Local\\Temp\\joblib_memmaping_pool_5244_33009448\\5244-239272232-9d68bb4ff57a66ba212c10397f5911c1.pkl\n",
      "Pickling array (shape=(70512,), dtype=int32).\n",
      "[Parallel(n_jobs=3)]: Done  13 out of  45 | elapsed:  2.6min remaining:  6.4min\n",
      "Memmaping (shape=(352556, 288), dtype=int64) to old file C:\\Users\\JEFFRE~1.GOM\\AppData\\Local\\Temp\\joblib_memmaping_pool_5244_33009448\\5244-239272232-d47a562ce4fdf84a63c4c4a1b92e0b10.pkl\n",
      "Memmaping (shape=(352556,), dtype=int64) to old file C:\\Users\\JEFFRE~1.GOM\\AppData\\Local\\Temp\\joblib_memmaping_pool_5244_33009448\\5244-239272232-37e9d47f2d553d0c8c1a28b850ef16f7.pkl\n",
      "Memmaping (shape=(282044,), dtype=int32) to old file C:\\Users\\JEFFRE~1.GOM\\AppData\\Local\\Temp\\joblib_memmaping_pool_5244_33009448\\5244-239272232-9d68bb4ff57a66ba212c10397f5911c1.pkl\n",
      "Pickling array (shape=(70512,), dtype=int32).\n",
      "[Parallel(n_jobs=3)]: Done  14 out of  45 | elapsed:  3.2min remaining:  7.0min\n",
      "Memmaping (shape=(352556, 288), dtype=int64) to old file C:\\Users\\JEFFRE~1.GOM\\AppData\\Local\\Temp\\joblib_memmaping_pool_5244_33009448\\5244-239272232-d47a562ce4fdf84a63c4c4a1b92e0b10.pkl\n",
      "Memmaping (shape=(352556,), dtype=int64) to old file C:\\Users\\JEFFRE~1.GOM\\AppData\\Local\\Temp\\joblib_memmaping_pool_5244_33009448\\5244-239272232-37e9d47f2d553d0c8c1a28b850ef16f7.pkl\n",
      "Memmaping (shape=(282044,), dtype=int32) to old file C:\\Users\\JEFFRE~1.GOM\\AppData\\Local\\Temp\\joblib_memmaping_pool_5244_33009448\\5244-239272232-9d68bb4ff57a66ba212c10397f5911c1.pkl\n",
      "Pickling array (shape=(70512,), dtype=int32).\n",
      "[Parallel(n_jobs=3)]: Done  15 out of  45 | elapsed:  3.5min remaining:  7.0min\n",
      "Memmaping (shape=(352556, 288), dtype=int64) to old file C:\\Users\\JEFFRE~1.GOM\\AppData\\Local\\Temp\\joblib_memmaping_pool_5244_33009448\\5244-239272232-d47a562ce4fdf84a63c4c4a1b92e0b10.pkl\n",
      "Memmaping (shape=(352556,), dtype=int64) to old file C:\\Users\\JEFFRE~1.GOM\\AppData\\Local\\Temp\\joblib_memmaping_pool_5244_33009448\\5244-239272232-37e9d47f2d553d0c8c1a28b850ef16f7.pkl\n",
      "Memmaping (shape=(282045,), dtype=int32) to new file C:\\Users\\JEFFRE~1.GOM\\AppData\\Local\\Temp\\joblib_memmaping_pool_5244_33009448\\5244-239272232-6097f0888cd889868dab25b51665e462.pkl\n",
      "Pickling array (shape=(70511,), dtype=int32).\n",
      "[Parallel(n_jobs=3)]: Done  16 out of  45 | elapsed:  3.6min remaining:  6.5min\n",
      "Memmaping (shape=(352556, 288), dtype=int64) to old file C:\\Users\\JEFFRE~1.GOM\\AppData\\Local\\Temp\\joblib_memmaping_pool_5244_33009448\\5244-239272232-d47a562ce4fdf84a63c4c4a1b92e0b10.pkl\n",
      "Memmaping (shape=(352556,), dtype=int64) to old file C:\\Users\\JEFFRE~1.GOM\\AppData\\Local\\Temp\\joblib_memmaping_pool_5244_33009448\\5244-239272232-37e9d47f2d553d0c8c1a28b850ef16f7.pkl\n",
      "Memmaping (shape=(282045,), dtype=int32) to old file C:\\Users\\JEFFRE~1.GOM\\AppData\\Local\\Temp\\joblib_memmaping_pool_5244_33009448\\5244-239272232-6097f0888cd889868dab25b51665e462.pkl\n",
      "Pickling array (shape=(70511,), dtype=int32).\n",
      "[Parallel(n_jobs=3)]: Done  17 out of  45 | elapsed:  3.7min remaining:  6.1min\n",
      "Memmaping (shape=(352556, 288), dtype=int64) to old file C:\\Users\\JEFFRE~1.GOM\\AppData\\Local\\Temp\\joblib_memmaping_pool_5244_33009448\\5244-239272232-d47a562ce4fdf84a63c4c4a1b92e0b10.pkl\n",
      "Memmaping (shape=(352556,), dtype=int64) to old file C:\\Users\\JEFFRE~1.GOM\\AppData\\Local\\Temp\\joblib_memmaping_pool_5244_33009448\\5244-239272232-37e9d47f2d553d0c8c1a28b850ef16f7.pkl\n",
      "Memmaping (shape=(282045,), dtype=int32) to old file C:\\Users\\JEFFRE~1.GOM\\AppData\\Local\\Temp\\joblib_memmaping_pool_5244_33009448\\5244-239272232-6097f0888cd889868dab25b51665e462.pkl\n",
      "Pickling array (shape=(70511,), dtype=int32).\n",
      "[Parallel(n_jobs=3)]: Done  18 out of  45 | elapsed:  3.9min remaining:  5.8min\n",
      "Memmaping (shape=(352556, 288), dtype=int64) to old file C:\\Users\\JEFFRE~1.GOM\\AppData\\Local\\Temp\\joblib_memmaping_pool_5244_33009448\\5244-239272232-d47a562ce4fdf84a63c4c4a1b92e0b10.pkl\n",
      "Memmaping (shape=(352556,), dtype=int64) to old file C:\\Users\\JEFFRE~1.GOM\\AppData\\Local\\Temp\\joblib_memmaping_pool_5244_33009448\\5244-239272232-37e9d47f2d553d0c8c1a28b850ef16f7.pkl\n",
      "Memmaping (shape=(282045,), dtype=int32) to old file C:\\Users\\JEFFRE~1.GOM\\AppData\\Local\\Temp\\joblib_memmaping_pool_5244_33009448\\5244-239272232-6097f0888cd889868dab25b51665e462.pkl\n",
      "Pickling array (shape=(70511,), dtype=int32).\n",
      "[Parallel(n_jobs=3)]: Done  19 out of  45 | elapsed:  4.2min remaining:  5.7min\n",
      "Memmaping (shape=(352556, 288), dtype=int64) to old file C:\\Users\\JEFFRE~1.GOM\\AppData\\Local\\Temp\\joblib_memmaping_pool_5244_33009448\\5244-239272232-d47a562ce4fdf84a63c4c4a1b92e0b10.pkl\n",
      "Memmaping (shape=(352556,), dtype=int64) to old file C:\\Users\\JEFFRE~1.GOM\\AppData\\Local\\Temp\\joblib_memmaping_pool_5244_33009448\\5244-239272232-37e9d47f2d553d0c8c1a28b850ef16f7.pkl\n",
      "Memmaping (shape=(282045,), dtype=int32) to old file C:\\Users\\JEFFRE~1.GOM\\AppData\\Local\\Temp\\joblib_memmaping_pool_5244_33009448\\5244-239272232-6097f0888cd889868dab25b51665e462.pkl\n",
      "Pickling array (shape=(70511,), dtype=int32).\n",
      "[Parallel(n_jobs=3)]: Done  20 out of  45 | elapsed:  4.4min remaining:  5.5min\n",
      "Memmaping (shape=(352556, 288), dtype=int64) to old file C:\\Users\\JEFFRE~1.GOM\\AppData\\Local\\Temp\\joblib_memmaping_pool_5244_33009448\\5244-239272232-d47a562ce4fdf84a63c4c4a1b92e0b10.pkl\n",
      "Memmaping (shape=(352556,), dtype=int64) to old file C:\\Users\\JEFFRE~1.GOM\\AppData\\Local\\Temp\\joblib_memmaping_pool_5244_33009448\\5244-239272232-37e9d47f2d553d0c8c1a28b850ef16f7.pkl\n",
      "Memmaping (shape=(282045,), dtype=int32) to old file C:\\Users\\JEFFRE~1.GOM\\AppData\\Local\\Temp\\joblib_memmaping_pool_5244_33009448\\5244-239272232-6097f0888cd889868dab25b51665e462.pkl\n",
      "Pickling array (shape=(70511,), dtype=int32).\n",
      "[Parallel(n_jobs=3)]: Done  21 out of  45 | elapsed:  4.6min remaining:  5.2min\n",
      "Memmaping (shape=(352556, 288), dtype=int64) to old file C:\\Users\\JEFFRE~1.GOM\\AppData\\Local\\Temp\\joblib_memmaping_pool_5244_33009448\\5244-239272232-d47a562ce4fdf84a63c4c4a1b92e0b10.pkl\n",
      "Memmaping (shape=(352556,), dtype=int64) to old file C:\\Users\\JEFFRE~1.GOM\\AppData\\Local\\Temp\\joblib_memmaping_pool_5244_33009448\\5244-239272232-37e9d47f2d553d0c8c1a28b850ef16f7.pkl\n",
      "Memmaping (shape=(282045,), dtype=int32) to old file C:\\Users\\JEFFRE~1.GOM\\AppData\\Local\\Temp\\joblib_memmaping_pool_5244_33009448\\5244-239272232-6097f0888cd889868dab25b51665e462.pkl\n",
      "Pickling array (shape=(70511,), dtype=int32).\n",
      "[Parallel(n_jobs=3)]: Done  22 out of  45 | elapsed:  4.9min remaining:  5.2min\n",
      "Memmaping (shape=(352556, 288), dtype=int64) to old file C:\\Users\\JEFFRE~1.GOM\\AppData\\Local\\Temp\\joblib_memmaping_pool_5244_33009448\\5244-239272232-d47a562ce4fdf84a63c4c4a1b92e0b10.pkl\n",
      "Memmaping (shape=(352556,), dtype=int64) to old file C:\\Users\\JEFFRE~1.GOM\\AppData\\Local\\Temp\\joblib_memmaping_pool_5244_33009448\\5244-239272232-37e9d47f2d553d0c8c1a28b850ef16f7.pkl\n",
      "Memmaping (shape=(282045,), dtype=int32) to old file C:\\Users\\JEFFRE~1.GOM\\AppData\\Local\\Temp\\joblib_memmaping_pool_5244_33009448\\5244-239272232-6097f0888cd889868dab25b51665e462.pkl\n",
      "Pickling array (shape=(70511,), dtype=int32).\n",
      "[Parallel(n_jobs=3)]: Done  23 out of  45 | elapsed:  5.3min remaining:  5.1min\n",
      "Memmaping (shape=(352556, 288), dtype=int64) to old file C:\\Users\\JEFFRE~1.GOM\\AppData\\Local\\Temp\\joblib_memmaping_pool_5244_33009448\\5244-239272232-d47a562ce4fdf84a63c4c4a1b92e0b10.pkl\n",
      "Memmaping (shape=(352556,), dtype=int64) to old file C:\\Users\\JEFFRE~1.GOM\\AppData\\Local\\Temp\\joblib_memmaping_pool_5244_33009448\\5244-239272232-37e9d47f2d553d0c8c1a28b850ef16f7.pkl\n",
      "Memmaping (shape=(282045,), dtype=int32) to old file C:\\Users\\JEFFRE~1.GOM\\AppData\\Local\\Temp\\joblib_memmaping_pool_5244_33009448\\5244-239272232-6097f0888cd889868dab25b51665e462.pkl\n",
      "Pickling array (shape=(70511,), dtype=int32).\n",
      "[Parallel(n_jobs=3)]: Done  24 out of  45 | elapsed:  5.9min remaining:  5.2min\n",
      "[Parallel(n_jobs=3)]: Done  25 out of  45 | elapsed:  5.9min remaining:  4.7min\n",
      "Memmaping (shape=(352556, 288), dtype=int64) to old file C:\\Users\\JEFFRE~1.GOM\\AppData\\Local\\Temp\\joblib_memmaping_pool_5244_33009448\\5244-239272232-d47a562ce4fdf84a63c4c4a1b92e0b10.pkl\n",
      "Memmaping (shape=(352556,), dtype=int64) to old file C:\\Users\\JEFFRE~1.GOM\\AppData\\Local\\Temp\\joblib_memmaping_pool_5244_33009448\\5244-239272232-37e9d47f2d553d0c8c1a28b850ef16f7.pkl\n",
      "Memmaping (shape=(282045,), dtype=int32) to new file C:\\Users\\JEFFRE~1.GOM\\AppData\\Local\\Temp\\joblib_memmaping_pool_5244_33009448\\5244-239272232-76e611c15899f98a4ef078d5bd7c2e1e.pkl\n",
      "Pickling array (shape=(70511,), dtype=int32).\n",
      "Memmaping (shape=(352556, 288), dtype=int64) to old file C:\\Users\\JEFFRE~1.GOM\\AppData\\Local\\Temp\\joblib_memmaping_pool_5244_33009448\\5244-239272232-d47a562ce4fdf84a63c4c4a1b92e0b10.pkl\n",
      "Memmaping (shape=(352556,), dtype=int64) to old file C:\\Users\\JEFFRE~1.GOM\\AppData\\Local\\Temp\\joblib_memmaping_pool_5244_33009448\\5244-239272232-37e9d47f2d553d0c8c1a28b850ef16f7.pkl\n",
      "Memmaping (shape=(282045,), dtype=int32) to old file C:\\Users\\JEFFRE~1.GOM\\AppData\\Local\\Temp\\joblib_memmaping_pool_5244_33009448\\5244-239272232-76e611c15899f98a4ef078d5bd7c2e1e.pkl\n",
      "Pickling array (shape=(70511,), dtype=int32).\n",
      "[Parallel(n_jobs=3)]: Done  26 out of  45 | elapsed:  6.0min remaining:  4.4min\n",
      "Memmaping (shape=(352556, 288), dtype=int64) to old file C:\\Users\\JEFFRE~1.GOM\\AppData\\Local\\Temp\\joblib_memmaping_pool_5244_33009448\\5244-239272232-d47a562ce4fdf84a63c4c4a1b92e0b10.pkl\n",
      "Memmaping (shape=(352556,), dtype=int64) to old file C:\\Users\\JEFFRE~1.GOM\\AppData\\Local\\Temp\\joblib_memmaping_pool_5244_33009448\\5244-239272232-37e9d47f2d553d0c8c1a28b850ef16f7.pkl\n",
      "Memmaping (shape=(282045,), dtype=int32) to old file C:\\Users\\JEFFRE~1.GOM\\AppData\\Local\\Temp\\joblib_memmaping_pool_5244_33009448\\5244-239272232-76e611c15899f98a4ef078d5bd7c2e1e.pkl\n",
      "Pickling array (shape=(70511,), dtype=int32).\n",
      "[Parallel(n_jobs=3)]: Done  27 out of  45 | elapsed:  6.2min remaining:  4.1min\n",
      "Memmaping (shape=(352556, 288), dtype=int64) to old file C:\\Users\\JEFFRE~1.GOM\\AppData\\Local\\Temp\\joblib_memmaping_pool_5244_33009448\\5244-239272232-d47a562ce4fdf84a63c4c4a1b92e0b10.pkl\n",
      "Memmaping (shape=(352556,), dtype=int64) to old file C:\\Users\\JEFFRE~1.GOM\\AppData\\Local\\Temp\\joblib_memmaping_pool_5244_33009448\\5244-239272232-37e9d47f2d553d0c8c1a28b850ef16f7.pkl\n",
      "Memmaping (shape=(282045,), dtype=int32) to old file C:\\Users\\JEFFRE~1.GOM\\AppData\\Local\\Temp\\joblib_memmaping_pool_5244_33009448\\5244-239272232-76e611c15899f98a4ef078d5bd7c2e1e.pkl\n",
      "Pickling array (shape=(70511,), dtype=int32).\n",
      "[Parallel(n_jobs=3)]: Done  28 out of  45 | elapsed:  6.5min remaining:  3.9min\n",
      "Memmaping (shape=(352556, 288), dtype=int64) to old file C:\\Users\\JEFFRE~1.GOM\\AppData\\Local\\Temp\\joblib_memmaping_pool_5244_33009448\\5244-239272232-d47a562ce4fdf84a63c4c4a1b92e0b10.pkl\n",
      "Memmaping (shape=(352556,), dtype=int64) to old file C:\\Users\\JEFFRE~1.GOM\\AppData\\Local\\Temp\\joblib_memmaping_pool_5244_33009448\\5244-239272232-37e9d47f2d553d0c8c1a28b850ef16f7.pkl\n",
      "Memmaping (shape=(282045,), dtype=int32) to old file C:\\Users\\JEFFRE~1.GOM\\AppData\\Local\\Temp\\joblib_memmaping_pool_5244_33009448\\5244-239272232-76e611c15899f98a4ef078d5bd7c2e1e.pkl\n",
      "Pickling array (shape=(70511,), dtype=int32).\n",
      "[Parallel(n_jobs=3)]: Done  29 out of  45 | elapsed:  6.6min remaining:  3.6min\n",
      "Memmaping (shape=(352556, 288), dtype=int64) to old file C:\\Users\\JEFFRE~1.GOM\\AppData\\Local\\Temp\\joblib_memmaping_pool_5244_33009448\\5244-239272232-d47a562ce4fdf84a63c4c4a1b92e0b10.pkl\n",
      "Memmaping (shape=(352556,), dtype=int64) to old file C:\\Users\\JEFFRE~1.GOM\\AppData\\Local\\Temp\\joblib_memmaping_pool_5244_33009448\\5244-239272232-37e9d47f2d553d0c8c1a28b850ef16f7.pkl\n",
      "Memmaping (shape=(282045,), dtype=int32) to old file C:\\Users\\JEFFRE~1.GOM\\AppData\\Local\\Temp\\joblib_memmaping_pool_5244_33009448\\5244-239272232-76e611c15899f98a4ef078d5bd7c2e1e.pkl\n",
      "Pickling array (shape=(70511,), dtype=int32).\n",
      "[Parallel(n_jobs=3)]: Done  30 out of  45 | elapsed:  6.9min remaining:  3.4min\n",
      "Memmaping (shape=(352556, 288), dtype=int64) to old file C:\\Users\\JEFFRE~1.GOM\\AppData\\Local\\Temp\\joblib_memmaping_pool_5244_33009448\\5244-239272232-d47a562ce4fdf84a63c4c4a1b92e0b10.pkl\n",
      "Memmaping (shape=(352556,), dtype=int64) to old file C:\\Users\\JEFFRE~1.GOM\\AppData\\Local\\Temp\\joblib_memmaping_pool_5244_33009448\\5244-239272232-37e9d47f2d553d0c8c1a28b850ef16f7.pkl\n",
      "Memmaping (shape=(282045,), dtype=int32) to old file C:\\Users\\JEFFRE~1.GOM\\AppData\\Local\\Temp\\joblib_memmaping_pool_5244_33009448\\5244-239272232-76e611c15899f98a4ef078d5bd7c2e1e.pkl\n",
      "Pickling array (shape=(70511,), dtype=int32).\n",
      "[Parallel(n_jobs=3)]: Done  31 out of  45 | elapsed:  7.1min remaining:  3.2min\n",
      "Memmaping (shape=(352556, 288), dtype=int64) to old file C:\\Users\\JEFFRE~1.GOM\\AppData\\Local\\Temp\\joblib_memmaping_pool_5244_33009448\\5244-239272232-d47a562ce4fdf84a63c4c4a1b92e0b10.pkl\n",
      "Memmaping (shape=(352556,), dtype=int64) to old file C:\\Users\\JEFFRE~1.GOM\\AppData\\Local\\Temp\\joblib_memmaping_pool_5244_33009448\\5244-239272232-37e9d47f2d553d0c8c1a28b850ef16f7.pkl\n",
      "Memmaping (shape=(282045,), dtype=int32) to old file C:\\Users\\JEFFRE~1.GOM\\AppData\\Local\\Temp\\joblib_memmaping_pool_5244_33009448\\5244-239272232-76e611c15899f98a4ef078d5bd7c2e1e.pkl\n",
      "Pickling array (shape=(70511,), dtype=int32).\n",
      "[Parallel(n_jobs=3)]: Done  32 out of  45 | elapsed:  7.6min remaining:  3.1min\n",
      "Memmaping (shape=(352556, 288), dtype=int64) to old file C:\\Users\\JEFFRE~1.GOM\\AppData\\Local\\Temp\\joblib_memmaping_pool_5244_33009448\\5244-239272232-d47a562ce4fdf84a63c4c4a1b92e0b10.pkl\n",
      "Memmaping (shape=(352556,), dtype=int64) to old file C:\\Users\\JEFFRE~1.GOM\\AppData\\Local\\Temp\\joblib_memmaping_pool_5244_33009448\\5244-239272232-37e9d47f2d553d0c8c1a28b850ef16f7.pkl\n",
      "Memmaping (shape=(282045,), dtype=int32) to old file C:\\Users\\JEFFRE~1.GOM\\AppData\\Local\\Temp\\joblib_memmaping_pool_5244_33009448\\5244-239272232-76e611c15899f98a4ef078d5bd7c2e1e.pkl\n",
      "Pickling array (shape=(70511,), dtype=int32).\n",
      "[Parallel(n_jobs=3)]: Done  33 out of  45 | elapsed:  8.1min remaining:  2.9min\n",
      "Memmaping (shape=(352556, 288), dtype=int64) to old file C:\\Users\\JEFFRE~1.GOM\\AppData\\Local\\Temp\\joblib_memmaping_pool_5244_33009448\\5244-239272232-d47a562ce4fdf84a63c4c4a1b92e0b10.pkl\n",
      "Memmaping (shape=(352556,), dtype=int64) to old file C:\\Users\\JEFFRE~1.GOM\\AppData\\Local\\Temp\\joblib_memmaping_pool_5244_33009448\\5244-239272232-37e9d47f2d553d0c8c1a28b850ef16f7.pkl\n",
      "Memmaping (shape=(282046,), dtype=int32) to new file C:\\Users\\JEFFRE~1.GOM\\AppData\\Local\\Temp\\joblib_memmaping_pool_5244_33009448\\5244-239272232-ddab571a0f2a1f158dd18cfa4816996e.pkl\n",
      "Pickling array (shape=(70510,), dtype=int32).\n",
      "[Parallel(n_jobs=3)]: Done  34 out of  45 | elapsed:  8.3min remaining:  2.7min\n",
      "Memmaping (shape=(352556, 288), dtype=int64) to old file C:\\Users\\JEFFRE~1.GOM\\AppData\\Local\\Temp\\joblib_memmaping_pool_5244_33009448\\5244-239272232-d47a562ce4fdf84a63c4c4a1b92e0b10.pkl\n",
      "Memmaping (shape=(352556,), dtype=int64) to old file C:\\Users\\JEFFRE~1.GOM\\AppData\\Local\\Temp\\joblib_memmaping_pool_5244_33009448\\5244-239272232-37e9d47f2d553d0c8c1a28b850ef16f7.pkl\n",
      "Memmaping (shape=(282046,), dtype=int32) to old file C:\\Users\\JEFFRE~1.GOM\\AppData\\Local\\Temp\\joblib_memmaping_pool_5244_33009448\\5244-239272232-ddab571a0f2a1f158dd18cfa4816996e.pkl\n",
      "Pickling array (shape=(70510,), dtype=int32).\n",
      "[Parallel(n_jobs=3)]: Done  35 out of  45 | elapsed:  8.3min remaining:  2.4min\n",
      "Memmaping (shape=(352556, 288), dtype=int64) to old file C:\\Users\\JEFFRE~1.GOM\\AppData\\Local\\Temp\\joblib_memmaping_pool_5244_33009448\\5244-239272232-d47a562ce4fdf84a63c4c4a1b92e0b10.pkl\n",
      "Memmaping (shape=(352556,), dtype=int64) to old file C:\\Users\\JEFFRE~1.GOM\\AppData\\Local\\Temp\\joblib_memmaping_pool_5244_33009448\\5244-239272232-37e9d47f2d553d0c8c1a28b850ef16f7.pkl\n",
      "Memmaping (shape=(282046,), dtype=int32) to old file C:\\Users\\JEFFRE~1.GOM\\AppData\\Local\\Temp\\joblib_memmaping_pool_5244_33009448\\5244-239272232-ddab571a0f2a1f158dd18cfa4816996e.pkl\n",
      "Pickling array (shape=(70510,), dtype=int32).\n",
      "[Parallel(n_jobs=3)]: Done  36 out of  45 | elapsed:  8.5min remaining:  2.1min\n",
      "Memmaping (shape=(352556, 288), dtype=int64) to old file C:\\Users\\JEFFRE~1.GOM\\AppData\\Local\\Temp\\joblib_memmaping_pool_5244_33009448\\5244-239272232-d47a562ce4fdf84a63c4c4a1b92e0b10.pkl\n",
      "Memmaping (shape=(352556,), dtype=int64) to old file C:\\Users\\JEFFRE~1.GOM\\AppData\\Local\\Temp\\joblib_memmaping_pool_5244_33009448\\5244-239272232-37e9d47f2d553d0c8c1a28b850ef16f7.pkl\n",
      "Memmaping (shape=(282046,), dtype=int32) to old file C:\\Users\\JEFFRE~1.GOM\\AppData\\Local\\Temp\\joblib_memmaping_pool_5244_33009448\\5244-239272232-ddab571a0f2a1f158dd18cfa4816996e.pkl\n",
      "Pickling array (shape=(70510,), dtype=int32).\n",
      "[Parallel(n_jobs=3)]: Done  37 out of  45 | elapsed:  8.8min remaining:  1.9min\n",
      "Memmaping (shape=(352556, 288), dtype=int64) to old file C:\\Users\\JEFFRE~1.GOM\\AppData\\Local\\Temp\\joblib_memmaping_pool_5244_33009448\\5244-239272232-d47a562ce4fdf84a63c4c4a1b92e0b10.pkl\n",
      "Memmaping (shape=(352556,), dtype=int64) to old file C:\\Users\\JEFFRE~1.GOM\\AppData\\Local\\Temp\\joblib_memmaping_pool_5244_33009448\\5244-239272232-37e9d47f2d553d0c8c1a28b850ef16f7.pkl\n",
      "Memmaping (shape=(282046,), dtype=int32) to old file C:\\Users\\JEFFRE~1.GOM\\AppData\\Local\\Temp\\joblib_memmaping_pool_5244_33009448\\5244-239272232-ddab571a0f2a1f158dd18cfa4816996e.pkl\n",
      "Pickling array (shape=(70510,), dtype=int32).\n",
      "[Parallel(n_jobs=3)]: Done  38 out of  45 | elapsed:  8.9min remaining:  1.6min\n",
      "Memmaping (shape=(352556, 288), dtype=int64) to old file C:\\Users\\JEFFRE~1.GOM\\AppData\\Local\\Temp\\joblib_memmaping_pool_5244_33009448\\5244-239272232-d47a562ce4fdf84a63c4c4a1b92e0b10.pkl\n",
      "Memmaping (shape=(352556,), dtype=int64) to old file C:\\Users\\JEFFRE~1.GOM\\AppData\\Local\\Temp\\joblib_memmaping_pool_5244_33009448\\5244-239272232-37e9d47f2d553d0c8c1a28b850ef16f7.pkl\n",
      "Memmaping (shape=(282046,), dtype=int32) to old file C:\\Users\\JEFFRE~1.GOM\\AppData\\Local\\Temp\\joblib_memmaping_pool_5244_33009448\\5244-239272232-ddab571a0f2a1f158dd18cfa4816996e.pkl\n",
      "Pickling array (shape=(70510,), dtype=int32).\n",
      "[Parallel(n_jobs=3)]: Done  39 out of  45 | elapsed:  9.2min remaining:  1.4min\n",
      "Memmaping (shape=(352556, 288), dtype=int64) to old file C:\\Users\\JEFFRE~1.GOM\\AppData\\Local\\Temp\\joblib_memmaping_pool_5244_33009448\\5244-239272232-d47a562ce4fdf84a63c4c4a1b92e0b10.pkl\n",
      "Memmaping (shape=(352556,), dtype=int64) to old file C:\\Users\\JEFFRE~1.GOM\\AppData\\Local\\Temp\\joblib_memmaping_pool_5244_33009448\\5244-239272232-37e9d47f2d553d0c8c1a28b850ef16f7.pkl\n",
      "Memmaping (shape=(282046,), dtype=int32) to old file C:\\Users\\JEFFRE~1.GOM\\AppData\\Local\\Temp\\joblib_memmaping_pool_5244_33009448\\5244-239272232-ddab571a0f2a1f158dd18cfa4816996e.pkl\n",
      "Pickling array (shape=(70510,), dtype=int32).\n",
      "[Parallel(n_jobs=3)]: Done  40 out of  45 | elapsed:  9.4min remaining:  1.2min\n",
      "Memmaping (shape=(352556, 288), dtype=int64) to old file C:\\Users\\JEFFRE~1.GOM\\AppData\\Local\\Temp\\joblib_memmaping_pool_5244_33009448\\5244-239272232-d47a562ce4fdf84a63c4c4a1b92e0b10.pkl\n",
      "Memmaping (shape=(352556,), dtype=int64) to old file C:\\Users\\JEFFRE~1.GOM\\AppData\\Local\\Temp\\joblib_memmaping_pool_5244_33009448\\5244-239272232-37e9d47f2d553d0c8c1a28b850ef16f7.pkl\n",
      "Memmaping (shape=(282046,), dtype=int32) to old file C:\\Users\\JEFFRE~1.GOM\\AppData\\Local\\Temp\\joblib_memmaping_pool_5244_33009448\\5244-239272232-ddab571a0f2a1f158dd18cfa4816996e.pkl\n",
      "Pickling array (shape=(70510,), dtype=int32).\n",
      "[Parallel(n_jobs=3)]: Done  41 out of  45 | elapsed:  9.9min remaining:   58.0s\n",
      "Memmaping (shape=(352556, 288), dtype=int64) to old file C:\\Users\\JEFFRE~1.GOM\\AppData\\Local\\Temp\\joblib_memmaping_pool_5244_33009448\\5244-239272232-d47a562ce4fdf84a63c4c4a1b92e0b10.pkl\n",
      "Memmaping (shape=(352556,), dtype=int64) to old file C:\\Users\\JEFFRE~1.GOM\\AppData\\Local\\Temp\\joblib_memmaping_pool_5244_33009448\\5244-239272232-37e9d47f2d553d0c8c1a28b850ef16f7.pkl\n",
      "Memmaping (shape=(282046,), dtype=int32) to old file C:\\Users\\JEFFRE~1.GOM\\AppData\\Local\\Temp\\joblib_memmaping_pool_5244_33009448\\5244-239272232-ddab571a0f2a1f158dd18cfa4816996e.pkl\n",
      "Pickling array (shape=(70510,), dtype=int32).\n",
      "[Parallel(n_jobs=3)]: Done  42 out of  45 | elapsed: 10.4min remaining:   44.3s\n",
      "[Parallel(n_jobs=3)]: Done  43 out of  45 | elapsed: 10.4min remaining:   29.0s\n",
      "[Parallel(n_jobs=3)]: Done  45 out of  45 | elapsed: 12.6min remaining:    0.0s\n",
      "[Parallel(n_jobs=3)]: Done  45 out of  45 | elapsed: 12.6min finished\n"
     ]
    }
   ],
   "source": [
    "param_range=[10, 50, 100, 150, 200, 300, 400, 500, 1000]\n",
    "train_scores, test_scores = validation_curve(valid_curve_clf, X_train.values, y_train.values, 'base_estimator__n_estimators',\n",
    "                 param_range=param_range, cv=5, scoring=f1_assumed_beta10_scorer, n_jobs=3, verbose=100)"
   ]
  },
  {
   "cell_type": "code",
   "execution_count": 45,
   "metadata": {
    "collapsed": false
   },
   "outputs": [
    {
     "data": {
      "image/png": "[encoded data removed]",
      "text/plain": [
       "<matplotlib.figure.Figure at 0xb7f8d68>"
      ]
     },
     "metadata": {},
     "output_type": "display_data"
    }
   ],
   "source": [
    "import matplotlib.pyplot as plt\n",
    "train_scores_mean = np.mean(train_scores, axis=1)\n",
    "train_scores_std = np.std(train_scores, axis=1)\n",
    "test_scores_mean = np.mean(test_scores, axis=1)\n",
    "test_scores_std = np.std(test_scores, axis=1)\n",
    "\n",
    "plt.title(\"Validation Curve with assumed F1 Beta=10 for RF\")\n",
    "plt.xlabel(\"n_estimators\")\n",
    "plt.ylabel(\"F1 Beta=10\")\n",
    "plt.ylim(0.6, 0.8)\n",
    "lw = 2\n",
    "plt.plot(param_range, train_scores_mean, label=\"Training score\",\n",
    "             color=\"darkorange\", lw=lw)\n",
    "plt.fill_between(param_range, train_scores_mean - train_scores_std,\n",
    "                 train_scores_mean + train_scores_std, alpha=0.2,\n",
    "                 color=\"darkorange\", lw=lw)\n",
    "plt.plot(param_range, test_scores_mean, label=\"Cross-validation score\",\n",
    "             color=\"navy\", lw=lw)\n",
    "plt.fill_between(param_range, test_scores_mean - test_scores_std,\n",
    "                 test_scores_mean + test_scores_std, alpha=0.2,\n",
    "                 color=\"navy\", lw=lw)\n",
    "plt.legend(loc=\"best\")\n",
    "plt.show()"
   ]
  },
  {
   "cell_type": "code",
   "execution_count": 44,
   "metadata": {
    "collapsed": false
   },
   "outputs": [
    {
     "data": {
      "text/plain": [
       "array([ 0.69341837,  0.70541213,  0.70618633,  0.70617558,  0.70705154,\n",
       "        0.70670984,  0.70684229,  0.70617986,  0.7063227 ])"
      ]
     },
     "execution_count": 44,
     "metadata": {},
     "output_type": "execute_result"
    }
   ],
   "source": [
    "test_scores_mean"
   ]
  },
  {
   "cell_type": "markdown",
   "metadata": {},
   "source": [
    "## play around with nested cross"
   ]
  },
  {
   "cell_type": "code",
   "execution_count": 129,
   "metadata": {
    "collapsed": true
   },
   "outputs": [],
   "source": [
    "from nestedcross import rerun_nested_for_scoring"
   ]
  },
  {
   "cell_type": "code",
   "execution_count": 141,
   "metadata": {
    "collapsed": true
   },
   "outputs": [],
   "source": [
    "for estimator in nested_cross.estimators_:\n",
    "    estimator.scoring = FrankenScorer()"
   ]
  },
  {
   "cell_type": "code",
   "execution_count": 142,
   "metadata": {
    "collapsed": false
   },
   "outputs": [
    {
     "name": "stdout",
     "output_type": "stream",
     "text": [
      "Memmaping (shape=(352556, 288), dtype=int64) to new file C:\\Users\\JEFFRE~1.GOM\\AppData\\Local\\Temp\\joblib_memmaping_pool_5244_6810928\\5244-238978720-d47a562ce4fdf84a63c4c4a1b92e0b10.pkl\n",
      "Memmaping (shape=(352556,), dtype=int64) to new file C:\\Users\\JEFFRE~1.GOM\\AppData\\Local\\Temp\\joblib_memmaping_pool_5244_6810928\\5244-238978720-37e9d47f2d553d0c8c1a28b850ef16f7.pkl\n",
      "Memmaping (shape=(352556, 288), dtype=int64) to old file C:\\Users\\JEFFRE~1.GOM\\AppData\\Local\\Temp\\joblib_memmaping_pool_5244_6810928\\5244-238978720-d47a562ce4fdf84a63c4c4a1b92e0b10.pkl\n",
      "Memmaping (shape=(352556,), dtype=int64) to old file C:\\Users\\JEFFRE~1.GOM\\AppData\\Local\\Temp\\joblib_memmaping_pool_5244_6810928\\5244-238978720-37e9d47f2d553d0c8c1a28b850ef16f7.pkl\n"
     ]
    },
    {
     "ename": "PicklingError",
     "evalue": "Can't pickle <class 'frankenscorer.FrankenScorer'>: it's not the same object as frankenscorer.FrankenScorer",
     "output_type": "error",
     "traceback": [
      "\u001b[0;31m---------------------------------------------------------------------------\u001b[0m",
      "\u001b[0;31mPicklingError\u001b[0m                             Traceback (most recent call last)",
      "\u001b[0;32m<ipython-input-142-a010375525aa>\u001b[0m in \u001b[0;36m<module>\u001b[0;34m()\u001b[0m\n\u001b[0;32m----> 1\u001b[0;31m \u001b[0mnext_ness\u001b[0m \u001b[1;33m=\u001b[0m \u001b[0mrerun_nested_for_scoring\u001b[0m\u001b[1;33m(\u001b[0m\u001b[0mnested_cross\u001b[0m\u001b[1;33m,\u001b[0m \u001b[1;34m'assumed_f1'\u001b[0m\u001b[1;33m,\u001b[0m \u001b[0mX_train\u001b[0m\u001b[1;33m.\u001b[0m\u001b[0mvalues\u001b[0m\u001b[1;33m,\u001b[0m \u001b[0my_train\u001b[0m\u001b[1;33m.\u001b[0m\u001b[0mvalues\u001b[0m\u001b[1;33m,\u001b[0m \u001b[0mhow\u001b[0m\u001b[1;33m=\u001b[0m\u001b[1;34m'max'\u001b[0m\u001b[1;33m,\u001b[0m \u001b[0mn_jobs\u001b[0m\u001b[1;33m=\u001b[0m\u001b[1;33m-\u001b[0m\u001b[1;36m1\u001b[0m\u001b[1;33m,\u001b[0m \u001b[0mverbose\u001b[0m\u001b[1;33m=\u001b[0m\u001b[1;36m100\u001b[0m\u001b[1;33m)\u001b[0m\u001b[1;33m\u001b[0m\u001b[0m\n\u001b[0m",
      "\u001b[0;32mC:\\Users\\jeffrey.gomberg\\Documents\\Creon\\nestedcross.py\u001b[0m in \u001b[0;36mrerun_nested_for_scoring\u001b[0;34m(nested, score, X, y, groups, how, n_jobs, verbose, pre_dispatch)\u001b[0m\n\u001b[1;32m     95\u001b[0m     scores = parallel(delayed(_fit_and_score_with_extra_data)(estimator, X, y, check_scoring(estimator, new_scoring), train, test,\n\u001b[1;32m     96\u001b[0m                       verbose, None, nested.fit_params, return_train_score=True, return_times=True)\n\u001b[0;32m---> 97\u001b[0;31m         for (train, test), estimator in zip(nested.cv_iter_, new_estimators))\n\u001b[0m\u001b[1;32m     98\u001b[0m     (nested.train_score_datas_, nested.train_scores_, nested.test_score_datas_, nested.test_scores_,\n\u001b[1;32m     99\u001b[0m                  nested.fit_times_, nested.score_times_) = zip(*scores)\n",
      "\u001b[0;32mC:\\Users\\jeffrey.gomberg\\AppData\\Local\\Continuum\\Anaconda3\\envs\\creon\\lib\\site-packages\\sklearn\\externals\\joblib\\parallel.py\u001b[0m in \u001b[0;36m__call__\u001b[0;34m(self, iterable)\u001b[0m\n\u001b[1;32m    766\u001b[0m                 \u001b[1;31m# consumption.\u001b[0m\u001b[1;33m\u001b[0m\u001b[1;33m\u001b[0m\u001b[0m\n\u001b[1;32m    767\u001b[0m                 \u001b[0mself\u001b[0m\u001b[1;33m.\u001b[0m\u001b[0m_iterating\u001b[0m \u001b[1;33m=\u001b[0m \u001b[1;32mFalse\u001b[0m\u001b[1;33m\u001b[0m\u001b[0m\n\u001b[0;32m--> 768\u001b[0;31m             \u001b[0mself\u001b[0m\u001b[1;33m.\u001b[0m\u001b[0mretrieve\u001b[0m\u001b[1;33m(\u001b[0m\u001b[1;33m)\u001b[0m\u001b[1;33m\u001b[0m\u001b[0m\n\u001b[0m\u001b[1;32m    769\u001b[0m             \u001b[1;31m# Make sure that we get a last message telling us we are done\u001b[0m\u001b[1;33m\u001b[0m\u001b[1;33m\u001b[0m\u001b[0m\n\u001b[1;32m    770\u001b[0m             \u001b[0melapsed_time\u001b[0m \u001b[1;33m=\u001b[0m \u001b[0mtime\u001b[0m\u001b[1;33m.\u001b[0m\u001b[0mtime\u001b[0m\u001b[1;33m(\u001b[0m\u001b[1;33m)\u001b[0m \u001b[1;33m-\u001b[0m \u001b[0mself\u001b[0m\u001b[1;33m.\u001b[0m\u001b[0m_start_time\u001b[0m\u001b[1;33m\u001b[0m\u001b[0m\n",
      "\u001b[0;32mC:\\Users\\jeffrey.gomberg\\AppData\\Local\\Continuum\\Anaconda3\\envs\\creon\\lib\\site-packages\\sklearn\\externals\\joblib\\parallel.py\u001b[0m in \u001b[0;36mretrieve\u001b[0;34m(self)\u001b[0m\n\u001b[1;32m    717\u001b[0m                     \u001b[0mensure_ready\u001b[0m \u001b[1;33m=\u001b[0m \u001b[0mself\u001b[0m\u001b[1;33m.\u001b[0m\u001b[0m_managed_backend\u001b[0m\u001b[1;33m\u001b[0m\u001b[0m\n\u001b[1;32m    718\u001b[0m                     \u001b[0mbackend\u001b[0m\u001b[1;33m.\u001b[0m\u001b[0mabort_everything\u001b[0m\u001b[1;33m(\u001b[0m\u001b[0mensure_ready\u001b[0m\u001b[1;33m=\u001b[0m\u001b[0mensure_ready\u001b[0m\u001b[1;33m)\u001b[0m\u001b[1;33m\u001b[0m\u001b[0m\n\u001b[0;32m--> 719\u001b[0;31m                 \u001b[1;32mraise\u001b[0m \u001b[0mexception\u001b[0m\u001b[1;33m\u001b[0m\u001b[0m\n\u001b[0m\u001b[1;32m    720\u001b[0m \u001b[1;33m\u001b[0m\u001b[0m\n\u001b[1;32m    721\u001b[0m     \u001b[1;32mdef\u001b[0m \u001b[0m__call__\u001b[0m\u001b[1;33m(\u001b[0m\u001b[0mself\u001b[0m\u001b[1;33m,\u001b[0m \u001b[0miterable\u001b[0m\u001b[1;33m)\u001b[0m\u001b[1;33m:\u001b[0m\u001b[1;33m\u001b[0m\u001b[0m\n",
      "\u001b[0;32mC:\\Users\\jeffrey.gomberg\\AppData\\Local\\Continuum\\Anaconda3\\envs\\creon\\lib\\site-packages\\sklearn\\externals\\joblib\\parallel.py\u001b[0m in \u001b[0;36mretrieve\u001b[0;34m(self)\u001b[0m\n\u001b[1;32m    680\u001b[0m                 \u001b[1;31m# check if timeout supported in backend future implementation\u001b[0m\u001b[1;33m\u001b[0m\u001b[1;33m\u001b[0m\u001b[0m\n\u001b[1;32m    681\u001b[0m                 \u001b[1;32mif\u001b[0m \u001b[1;34m'timeout'\u001b[0m \u001b[1;32min\u001b[0m \u001b[0mgetfullargspec\u001b[0m\u001b[1;33m(\u001b[0m\u001b[0mjob\u001b[0m\u001b[1;33m.\u001b[0m\u001b[0mget\u001b[0m\u001b[1;33m)\u001b[0m\u001b[1;33m.\u001b[0m\u001b[0margs\u001b[0m\u001b[1;33m:\u001b[0m\u001b[1;33m\u001b[0m\u001b[0m\n\u001b[0;32m--> 682\u001b[0;31m                     \u001b[0mself\u001b[0m\u001b[1;33m.\u001b[0m\u001b[0m_output\u001b[0m\u001b[1;33m.\u001b[0m\u001b[0mextend\u001b[0m\u001b[1;33m(\u001b[0m\u001b[0mjob\u001b[0m\u001b[1;33m.\u001b[0m\u001b[0mget\u001b[0m\u001b[1;33m(\u001b[0m\u001b[0mtimeout\u001b[0m\u001b[1;33m=\u001b[0m\u001b[0mself\u001b[0m\u001b[1;33m.\u001b[0m\u001b[0mtimeout\u001b[0m\u001b[1;33m)\u001b[0m\u001b[1;33m)\u001b[0m\u001b[1;33m\u001b[0m\u001b[0m\n\u001b[0m\u001b[1;32m    683\u001b[0m                 \u001b[1;32melse\u001b[0m\u001b[1;33m:\u001b[0m\u001b[1;33m\u001b[0m\u001b[0m\n\u001b[1;32m    684\u001b[0m                     \u001b[0mself\u001b[0m\u001b[1;33m.\u001b[0m\u001b[0m_output\u001b[0m\u001b[1;33m.\u001b[0m\u001b[0mextend\u001b[0m\u001b[1;33m(\u001b[0m\u001b[0mjob\u001b[0m\u001b[1;33m.\u001b[0m\u001b[0mget\u001b[0m\u001b[1;33m(\u001b[0m\u001b[1;33m)\u001b[0m\u001b[1;33m)\u001b[0m\u001b[1;33m\u001b[0m\u001b[0m\n",
      "\u001b[0;32mC:\\Users\\jeffrey.gomberg\\AppData\\Local\\Continuum\\Anaconda3\\envs\\creon\\lib\\multiprocessing\\pool.py\u001b[0m in \u001b[0;36mget\u001b[0;34m(self, timeout)\u001b[0m\n\u001b[1;32m    606\u001b[0m             \u001b[1;32mreturn\u001b[0m \u001b[0mself\u001b[0m\u001b[1;33m.\u001b[0m\u001b[0m_value\u001b[0m\u001b[1;33m\u001b[0m\u001b[0m\n\u001b[1;32m    607\u001b[0m         \u001b[1;32melse\u001b[0m\u001b[1;33m:\u001b[0m\u001b[1;33m\u001b[0m\u001b[0m\n\u001b[0;32m--> 608\u001b[0;31m             \u001b[1;32mraise\u001b[0m \u001b[0mself\u001b[0m\u001b[1;33m.\u001b[0m\u001b[0m_value\u001b[0m\u001b[1;33m\u001b[0m\u001b[0m\n\u001b[0m\u001b[1;32m    609\u001b[0m \u001b[1;33m\u001b[0m\u001b[0m\n\u001b[1;32m    610\u001b[0m     \u001b[1;32mdef\u001b[0m \u001b[0m_set\u001b[0m\u001b[1;33m(\u001b[0m\u001b[0mself\u001b[0m\u001b[1;33m,\u001b[0m \u001b[0mi\u001b[0m\u001b[1;33m,\u001b[0m \u001b[0mobj\u001b[0m\u001b[1;33m)\u001b[0m\u001b[1;33m:\u001b[0m\u001b[1;33m\u001b[0m\u001b[0m\n",
      "\u001b[0;32mC:\\Users\\jeffrey.gomberg\\AppData\\Local\\Continuum\\Anaconda3\\envs\\creon\\lib\\multiprocessing\\pool.py\u001b[0m in \u001b[0;36m_handle_tasks\u001b[0;34m(taskqueue, put, outqueue, pool, cache)\u001b[0m\n\u001b[1;32m    383\u001b[0m                         \u001b[1;32mbreak\u001b[0m\u001b[1;33m\u001b[0m\u001b[0m\n\u001b[1;32m    384\u001b[0m                     \u001b[1;32mtry\u001b[0m\u001b[1;33m:\u001b[0m\u001b[1;33m\u001b[0m\u001b[0m\n\u001b[0;32m--> 385\u001b[0;31m                         \u001b[0mput\u001b[0m\u001b[1;33m(\u001b[0m\u001b[0mtask\u001b[0m\u001b[1;33m)\u001b[0m\u001b[1;33m\u001b[0m\u001b[0m\n\u001b[0m\u001b[1;32m    386\u001b[0m                     \u001b[1;32mexcept\u001b[0m \u001b[0mException\u001b[0m \u001b[1;32mas\u001b[0m \u001b[0me\u001b[0m\u001b[1;33m:\u001b[0m\u001b[1;33m\u001b[0m\u001b[0m\n\u001b[1;32m    387\u001b[0m                         \u001b[0mjob\u001b[0m\u001b[1;33m,\u001b[0m \u001b[0mind\u001b[0m \u001b[1;33m=\u001b[0m \u001b[0mtask\u001b[0m\u001b[1;33m[\u001b[0m\u001b[1;33m:\u001b[0m\u001b[1;36m2\u001b[0m\u001b[1;33m]\u001b[0m\u001b[1;33m\u001b[0m\u001b[0m\n",
      "\u001b[0;32mC:\\Users\\jeffrey.gomberg\\AppData\\Local\\Continuum\\Anaconda3\\envs\\creon\\lib\\site-packages\\sklearn\\externals\\joblib\\pool.py\u001b[0m in \u001b[0;36msend\u001b[0;34m(obj)\u001b[0m\n\u001b[1;32m    369\u001b[0m             \u001b[1;32mdef\u001b[0m \u001b[0msend\u001b[0m\u001b[1;33m(\u001b[0m\u001b[0mobj\u001b[0m\u001b[1;33m)\u001b[0m\u001b[1;33m:\u001b[0m\u001b[1;33m\u001b[0m\u001b[0m\n\u001b[1;32m    370\u001b[0m                 \u001b[0mbuffer\u001b[0m \u001b[1;33m=\u001b[0m \u001b[0mBytesIO\u001b[0m\u001b[1;33m(\u001b[0m\u001b[1;33m)\u001b[0m\u001b[1;33m\u001b[0m\u001b[0m\n\u001b[0;32m--> 371\u001b[0;31m                 \u001b[0mCustomizablePickler\u001b[0m\u001b[1;33m(\u001b[0m\u001b[0mbuffer\u001b[0m\u001b[1;33m,\u001b[0m \u001b[0mself\u001b[0m\u001b[1;33m.\u001b[0m\u001b[0m_reducers\u001b[0m\u001b[1;33m)\u001b[0m\u001b[1;33m.\u001b[0m\u001b[0mdump\u001b[0m\u001b[1;33m(\u001b[0m\u001b[0mobj\u001b[0m\u001b[1;33m)\u001b[0m\u001b[1;33m\u001b[0m\u001b[0m\n\u001b[0m\u001b[1;32m    372\u001b[0m                 \u001b[0mself\u001b[0m\u001b[1;33m.\u001b[0m\u001b[0m_writer\u001b[0m\u001b[1;33m.\u001b[0m\u001b[0msend_bytes\u001b[0m\u001b[1;33m(\u001b[0m\u001b[0mbuffer\u001b[0m\u001b[1;33m.\u001b[0m\u001b[0mgetvalue\u001b[0m\u001b[1;33m(\u001b[0m\u001b[1;33m)\u001b[0m\u001b[1;33m)\u001b[0m\u001b[1;33m\u001b[0m\u001b[0m\n\u001b[1;32m    373\u001b[0m             \u001b[0mself\u001b[0m\u001b[1;33m.\u001b[0m\u001b[0m_send\u001b[0m \u001b[1;33m=\u001b[0m \u001b[0msend\u001b[0m\u001b[1;33m\u001b[0m\u001b[0m\n",
      "\u001b[0;31mPicklingError\u001b[0m: Can't pickle <class 'frankenscorer.FrankenScorer'>: it's not the same object as frankenscorer.FrankenScorer"
     ]
    }
   ],
   "source": [
    "next_ness = rerun_nested_for_scoring(nested_cross, 'assumed_f1', X_train.values, y_train.values, how='max', n_jobs=-1, verbose=100)"
   ]
  },
  {
   "cell_type": "code",
   "execution_count": 123,
   "metadata": {
    "collapsed": false
   },
   "outputs": [],
   "source": [
    "sub_scores = [extract_score_grid(searcher) for searcher in nested_cross.estimators_]"
   ]
  },
  {
   "cell_type": "code",
   "execution_count": 124,
   "metadata": {
    "collapsed": false
   },
   "outputs": [],
   "source": [
    "sum_scores_means = [sub_score[[c for c in sub_score.columns if 'test' in c and 'mean' in c]] for sub_score in sub_scores]"
   ]
  },
  {
   "cell_type": "code",
   "execution_count": 126,
   "metadata": {
    "collapsed": false
   },
   "outputs": [
    {
     "ename": "AttributeError",
     "evalue": "'list' object has no attribute 'idxmax'",
     "output_type": "error",
     "traceback": [
      "\u001b[0;31m---------------------------------------------------------------------------\u001b[0m",
      "\u001b[0;31mAttributeError\u001b[0m                            Traceback (most recent call last)",
      "\u001b[0;32m<ipython-input-126-f4237789e3e3>\u001b[0m in \u001b[0;36m<module>\u001b[0;34m()\u001b[0m\n\u001b[0;32m----> 1\u001b[0;31m \u001b[0mpd\u001b[0m\u001b[1;33m.\u001b[0m\u001b[0mDataFrame\u001b[0m\u001b[1;33m(\u001b[0m\u001b[1;33m{\u001b[0m\u001b[1;34m'maxidx'\u001b[0m\u001b[1;33m:\u001b[0m\u001b[0msum_scores_means\u001b[0m\u001b[1;33m.\u001b[0m\u001b[0midxmax\u001b[0m\u001b[1;33m(\u001b[0m\u001b[1;33m)\u001b[0m\u001b[1;33m,\u001b[0m \u001b[1;34m'max'\u001b[0m\u001b[1;33m:\u001b[0m\u001b[0msum_scores_means\u001b[0m\u001b[1;33m.\u001b[0m\u001b[0mmax\u001b[0m\u001b[1;33m(\u001b[0m\u001b[1;33m)\u001b[0m\u001b[1;33m,\u001b[0m \u001b[1;34m'min'\u001b[0m\u001b[1;33m:\u001b[0m\u001b[0msum_scores_means\u001b[0m\u001b[1;33m.\u001b[0m\u001b[0mmin\u001b[0m\u001b[1;33m(\u001b[0m\u001b[1;33m)\u001b[0m\u001b[1;33m,\u001b[0m \u001b[1;34m'minidx'\u001b[0m\u001b[1;33m:\u001b[0m\u001b[0msum_scores_means\u001b[0m\u001b[1;33m.\u001b[0m\u001b[0midxmin\u001b[0m\u001b[1;33m(\u001b[0m\u001b[1;33m)\u001b[0m\u001b[1;33m}\u001b[0m\u001b[1;33m)\u001b[0m\u001b[1;33m\u001b[0m\u001b[0m\n\u001b[0m",
      "\u001b[0;31mAttributeError\u001b[0m: 'list' object has no attribute 'idxmax'"
     ]
    }
   ],
   "source": [
    "pd.DataFrame({'maxidx':sum_scores_means.idxmax(), 'max':sum_scores_means.max(), 'min':sum_scores_means.min(), 'minidx':sum_scores_means.idxmin()})"
   ]
  },
  {
   "cell_type": "code",
   "execution_count": 94,
   "metadata": {
    "collapsed": false
   },
   "outputs": [
    {
     "data": {
      "text/plain": [
       "mean_labeled_acc_test                    0.826918\n",
       "mean_labeled_recall_test                 0.805031\n",
       "mean_labeled_f1_test                     0.859867\n",
       "mean_fp_confusion_matrix_lab_test       25.000000\n",
       "mean_labeled_brier_test                  0.182926\n",
       "mean_fn_confusion_matrix_un_test        72.333333\n",
       "mean_tp_confusion_matrix_lab_test      298.666667\n",
       "mean_tp_confusion_matrix_un_test       298.666667\n",
       "mean_tn_confusion_matrix_lab_test      166.333333\n",
       "mean_confusion_matrix_lab_test                NaN\n",
       "mean_assumed_f1_test                     0.094290\n",
       "mean_labeled_brier_neg_test              0.124743\n",
       "mean_confusion_matrix_un_test                 NaN\n",
       "mean_assumed_f1beta10_test               0.700463\n",
       "mean_labeled_prec_test                   0.922851\n",
       "mean_tn_confusion_matrix_un_test     72309.333333\n",
       "mean_labeled_roc_auc_test                0.837212\n",
       "mean_assumed_brier_test                  0.067924\n",
       "mean_pu_score_test                       8.514120\n",
       "mean_labeled_brier_pos_test              0.212920\n",
       "mean_fn_confusion_matrix_lab_test       72.333333\n",
       "mean_assumed_brier_neg_test              0.067234\n",
       "mean_fp_confusion_matrix_un_test      5665.000000\n",
       "mean_labeled_avg_prec_test               0.928257\n",
       "mean_pr_one_unlabeled_test               0.072509\n",
       "Name: 38, dtype: float64"
      ]
     },
     "execution_count": 94,
     "metadata": {},
     "output_type": "execute_result"
    }
   ],
   "source": [
    "sum_scores_means.iloc[38]"
   ]
  },
  {
   "cell_type": "code",
   "execution_count": 96,
   "metadata": {
    "collapsed": false
   },
   "outputs": [
    {
     "data": {
      "text/plain": [
       "{'base_estimator__class_weight': None,\n",
       " 'base_estimator__max_depth': 29,\n",
       " 'base_estimator__max_features': 50,\n",
       " 'base_estimator__min_samples_leaf': 7,\n",
       " 'base_estimator__min_samples_split': 0.2,\n",
       " 'base_estimator__n_estimators': 241,\n",
       " 'num_unlabeled': 1547,\n",
       " 'pu_learning': True}"
      ]
     },
     "execution_count": 96,
     "metadata": {},
     "output_type": "execute_result"
    }
   ],
   "source": [
    "pd.DataFrame(nested_cross.estimators_[0].cv_results_)['params'][38]"
   ]
  },
  {
   "cell_type": "code",
   "execution_count": 110,
   "metadata": {
    "collapsed": true
   },
   "outputs": [],
   "source": [
    "est = nested_cross.estimators_[0]"
   ]
  },
  {
   "cell_type": "code",
   "execution_count": 111,
   "metadata": {
    "collapsed": false
   },
   "outputs": [
    {
     "data": {
      "text/plain": [
       "PNUWrapper(base_estimator=RandomForestClassifier(bootstrap=True, class_weight=None, criterion='gini',\n",
       "            max_depth=None, max_features='auto', max_leaf_nodes=None,\n",
       "            min_impurity_split=1e-07, min_samples_leaf=1,\n",
       "            min_samples_split=2, min_weight_fraction_leaf=0.0,\n",
       "            n_estimators=10, n_jobs=1, oob_score=False, random_state=None,\n",
       "            verbose=0, warm_start=False),\n",
       "      num_unlabeled=0.0, pu_learning=False, random_state=828,\n",
       "      threshold_set_pct=None)"
      ]
     },
     "execution_count": 111,
     "metadata": {},
     "output_type": "execute_result"
    }
   ],
   "source": [
    "est.estimator"
   ]
  },
  {
   "cell_type": "code",
   "execution_count": null,
   "metadata": {
    "collapsed": true
   },
   "outputs": [],
   "source": []
  }
 ],
 "metadata": {
  "anaconda-cloud": {},
  "kernelspec": {
   "display_name": "Python [default]",
   "language": "python",
   "name": "python3"
  },
  "language_info": {
   "codemirror_mode": {
    "name": "ipython",
    "version": 3
   },
   "file_extension": ".py",
   "mimetype": "text/x-python",
   "name": "python",
   "nbconvert_exporter": "python",
   "pygments_lexer": "ipython3",
   "version": "3.5.2"
  }
 },
 "nbformat": 4,
 "nbformat_minor": 2
}
