{
 "cells": [
  {
   "cell_type": "code",
   "execution_count": 28,
   "metadata": {
    "collapsed": false
   },
   "outputs": [
    {
     "name": "stdout",
     "output_type": "stream",
     "text": [
      "The autoreload extension is already loaded. To reload it, use:\n",
      "  %reload_ext autoreload\n"
     ]
    }
   ],
   "source": [
    "import pandas as pd\n",
    "import numpy as np\n",
    "pd.options.display.max_rows = 400\n",
    "pd.options.display.max_columns = 400\n",
    "%load_ext autoreload\n",
    "%autoreload 2"
   ]
  },
  {
   "cell_type": "code",
   "execution_count": 89,
   "metadata": {
    "collapsed": true
   },
   "outputs": [],
   "source": [
    "from sklearn.preprocessing import MaxAbsScaler"
   ]
  },
  {
   "cell_type": "code",
   "execution_count": 2,
   "metadata": {
    "collapsed": false
   },
   "outputs": [
    {
     "name": "stderr",
     "output_type": "stream",
     "text": [
      "C:\\Program Files\\Anaconda3\\lib\\site-packages\\IPython\\core\\interactiveshell.py:2717: DtypeWarning: Columns (0) have mixed types. Specify dtype option on import or set low_memory=False.\n",
      "  interactivity=interactivity, compiler=compiler, result=result)\n"
     ]
    }
   ],
   "source": [
    "data = pd.read_csv('C:\\Data\\membership14_final.txt',sep='\\t')"
   ]
  },
  {
   "cell_type": "code",
   "execution_count": 3,
   "metadata": {
    "collapsed": false
   },
   "outputs": [
    {
     "data": {
      "text/plain": [
       "(2088, 1077, 437531)"
      ]
     },
     "execution_count": 3,
     "metadata": {},
     "output_type": "execute_result"
    }
   ],
   "source": [
    "data.true_pos_flag.sum(), data.true_neg_flag.sum(), data.unlabel_flag.sum()"
   ]
  },
  {
   "cell_type": "code",
   "execution_count": 29,
   "metadata": {
    "collapsed": false,
    "scrolled": true
   },
   "outputs": [
    {
     "data": {
      "text/plain": [
       "array(['MemberID', 'age', 'Gender', 'epi_related_cond',\n",
       "       'epi_related_cond_subgrp', 'pert_flag', 'mmos', 'h_rank',\n",
       "       'elastase_flag', 'true_pos_flag', 'true_neg_flag', 'unlabel_flag',\n",
       "       'medical_claim_count', 'rx_claim_count', 'DIAG_FLAG1_Sum',\n",
       "       'DIAG_FLAG2_Sum', 'DIAG_FLAG3_Sum', 'DIAG_FLAG4_Sum',\n",
       "       'DIAG_FLAG5_Sum', 'DIAG_FLAG6_Sum', 'DIAG_FLAG7_Sum',\n",
       "       'DIAG_FLAG8_Sum', 'DIAG_FLAG9_Sum', 'DIAG_FLAG10_Sum',\n",
       "       'DIAG_FLAG11_Sum', 'DIAG_FLAG12_Sum', 'DIAG_FLAG13_Sum',\n",
       "       'DIAG_FLAG14_Sum', 'DIAG_FLAG15_Sum', 'DIAG_FLAG16_Sum',\n",
       "       'DIAG_FLAG17_Sum', 'DIAG_FLAG18_Sum', 'DIAG_FLAG19_Sum',\n",
       "       'DIAG_FLAG20_Sum', 'DIAG_FLAG21_Sum', 'DIAG_FLAG22_Sum',\n",
       "       'DIAG_FLAG23_Sum', 'DIAG_FLAG24_Sum', 'DIAG_FLAG25_Sum',\n",
       "       'DIAG_FLAG26_Sum', 'DIAG_FLAG27_Sum', 'DIAG_FLAG28_Sum',\n",
       "       'DIAG_FLAG29_Sum', 'DIAG_FLAG30_Sum', 'DIAG_FLAG31_Sum',\n",
       "       'DIAG_FLAG32_Sum', 'DIAG_FLAG33_Sum', 'DIAG_FLAG34_Sum',\n",
       "       'DIAG_FLAG35_Sum', 'DIAG_FLAG36_Sum', 'DIAG_FLAG37_Sum',\n",
       "       'DIAG_FLAG38_Sum', 'DIAG_FLAG39_Sum', 'DIAG_FLAG40_Sum',\n",
       "       'DIAG_FLAG41_Sum', 'DIAG_FLAG42_Sum', 'DIAG_FLAG43_Sum',\n",
       "       'DIAG_FLAG44_Sum', 'DIAG_FLAG45_Sum', 'DIAG_FLAG46_Sum',\n",
       "       'DIAG_FLAG47_Sum', 'DIAG_FLAG48_Sum', 'DIAG_FLAG49_Sum',\n",
       "       'DIAG_FLAG50_Sum', 'DIAG_FLAG51_Sum', 'DIAG_FLAG52_Sum',\n",
       "       'DIAG_FLAG53_Sum', 'DIAG_FLAG54_Sum', 'DIAG_FLAG55_Sum',\n",
       "       'DIAG_FLAG56_Sum', 'DIAG_FLAG57_Sum', 'DIAG_FLAG58_Sum',\n",
       "       'DIAG_FLAG59_Sum', 'DIAG_FLAG60_Sum', 'DIAG_FLAG61_Sum',\n",
       "       'DIAG_FLAG62_Sum', 'DIAG_FLAG63_Sum', 'DIAG_FLAG64_Sum',\n",
       "       'DIAG_FLAG65_Sum', 'DIAG_FLAG66_Sum', 'DIAG_FLAG67_Sum',\n",
       "       'DIAG_FLAG68_Sum', 'DIAG_FLAG69_Sum', 'DIAG_FLAG70_Sum',\n",
       "       'DIAG_FLAG71_Sum', 'DIAG_FLAG72_Sum', 'DIAG_FLAG73_Sum',\n",
       "       'DIAG_FLAG74_Sum', 'DIAG_FLAG75_Sum', 'DIAG_FLAG76_Sum',\n",
       "       'DIAG_FLAG77_Sum', 'DIAG_FLAG78_Sum', 'DIAG_FLAG79_Sum',\n",
       "       'DIAG_FLAG80_Sum', 'DIAG_FLAG81_Sum', 'DIAG_FLAG82_Sum',\n",
       "       'DIAG_FLAG83_Sum', 'DIAG_FLAG84_Sum', 'DIAG_FLAG85_Sum',\n",
       "       'DIAG_FLAG86_Sum', 'DIAG_FLAG87_Sum', 'PROC_FLAG1_Sum',\n",
       "       'PROC_FLAG2_Sum', 'PROC_FLAG3_Sum', 'PROC_FLAG4_Sum',\n",
       "       'PROC_FLAG5_Sum', 'CPT_FLAG1_Sum', 'CPT_FLAG2_Sum', 'CPT_FLAG3_Sum',\n",
       "       'CPT_FLAG4_Sum', 'CPT_FLAG5_Sum', 'CPT_FLAG6_Sum', 'CPT_FLAG7_Sum',\n",
       "       'CPT_FLAG8_Sum', 'CPT_FLAG9_Sum', 'CPT_FLAG10_Sum',\n",
       "       'CPT_FLAG11_Sum', 'CPT_FLAG12_Sum', 'CPT_FLAG13_Sum',\n",
       "       'CPT_FLAG14_Sum', 'CPT_FLAG15_Sum', 'CPT_FLAG16_Sum',\n",
       "       'CPT_FLAG17_Sum', 'CPT_FLAG18_Sum', 'CPT_FLAG19_Sum',\n",
       "       'CPT_FLAG20_Sum', 'CPT_FLAG21_Sum', 'CPT_FLAG22_Sum',\n",
       "       'CPT_FLAG23_Sum', 'CPT_FLAG24_Sum', 'CPT_FLAG25_Sum',\n",
       "       'CPT_FLAG26_Sum', 'CPT_FLAG27_Sum', 'CPT_FLAG28_Sum',\n",
       "       'CPT_FLAG29_Sum', 'CPT_FLAG30_Sum', 'CPT_FLAG31_Sum',\n",
       "       'CPT_FLAG32_Sum', 'CPT_FLAG33_Sum', 'CPT_FLAG34_Sum',\n",
       "       'CPT_FLAG35_Sum', 'CPT_FLAG36_Sum', 'CPT_FLAG37_Sum',\n",
       "       'CPT_FLAG38_Sum', 'CPT_FLAG39_Sum', 'CPT_FLAG40_Sum',\n",
       "       'CPT_FLAG41_Sum', 'CPT_FLAG42_Sum', 'CPT_FLAG43_Sum',\n",
       "       'CPT_FLAG44_Sum', 'CPT_FLAG45_Sum', 'CPT_FLAG46_Sum',\n",
       "       'CPT_FLAG47_Sum', 'CPT_FLAG48_Sum', 'CPT_FLAG49_Sum',\n",
       "       'REVCODE_FLAG1_Sum', 'REVCODE_FLAG2_Sum', 'REVCODE_FLAG3_Sum',\n",
       "       'REVCODE_FLAG4_Sum', 'REVCODE_FLAG5_Sum', 'REVCODE_FLAG6_Sum',\n",
       "       'REVCODE_FLAG7_Sum', 'REVCODE_FLAG8_Sum', 'REVCODE_FLAG9_Sum',\n",
       "       'REVCODE_FLAG10_Sum', 'REVCODE_FLAG11_Sum', 'REVCODE_FLAG12_Sum',\n",
       "       'REVCODE_FLAG13_Sum', 'REVCODE_FLAG14_Sum', 'REVCODE_FLAG15_Sum',\n",
       "       'REVCODE_FLAG16_Sum', 'REVCODE_FLAG17_Sum', 'REVCODE_FLAG18_Sum',\n",
       "       'REVCODE_FLAG19_Sum', 'REVCODE_FLAG20_Sum', 'REVCODE_FLAG21_Sum',\n",
       "       'REVCODE_FLAG22_Sum', 'REVCODE_FLAG23_Sum', 'REVCODE_FLAG24_Sum',\n",
       "       'REVCODE_FLAG25_Sum', 'REVCODE_FLAG26_Sum', 'REVCODE_FLAG27_Sum',\n",
       "       'REVCODE_FLAG28_Sum', 'REVCODE_FLAG29_Sum', 'REVCODE_FLAG30_Sum',\n",
       "       'REVCODE_FLAG31_Sum', 'REVCODE_FLAG32_Sum', 'REVCODE_FLAG33_Sum',\n",
       "       'REVCODE_FLAG34_Sum', 'REVCODE_FLAG35_Sum', 'REVCODE_FLAG36_Sum',\n",
       "       'REVCODE_FLAG37_Sum', 'REVCODE_FLAG38_Sum', 'REVCODE_FLAG39_Sum',\n",
       "       'REVCODE_FLAG40_Sum', 'REVCODE_FLAG41_Sum', 'REVCODE_FLAG42_Sum',\n",
       "       'REVCODE_FLAG43_Sum', 'REVCODE_FLAG44_Sum', 'REVCODE_FLAG45_Sum',\n",
       "       'REVCODE_FLAG46_Sum', 'REVCODE_FLAG47_Sum', 'REVCODE_FLAG48_Sum',\n",
       "       'REVCODE_FLAG49_Sum', 'REVCODE_FLAG50_Sum', 'REVCODE_FLAG51_Sum',\n",
       "       'REVCODE_FLAG52_Sum', 'REVCODE_FLAG53_Sum', 'REVCODE_FLAG54_Sum',\n",
       "       'REVCODE_FLAG55_Sum', 'REVCODE_FLAG56_Sum', 'REVCODE_FLAG57_Sum',\n",
       "       'REVCODE_FLAG58_Sum', 'REVCODE_FLAG59_Sum', 'REVCODE_FLAG60_Sum',\n",
       "       'REVCODE_FLAG61_Sum', 'REVCODE_FLAG62_Sum', 'REVCODE_FLAG63_Sum',\n",
       "       'REVCODE_FLAG64_Sum', 'REVCODE_FLAG65_Sum', 'REVCODE_FLAG66_Sum',\n",
       "       'REVCODE_FLAG67_Sum', 'REVCODE_FLAG68_Sum', 'REVCODE_FLAG69_Sum',\n",
       "       'REVCODE_FLAG70_Sum', 'ndc_cat1_Sum', 'ndc_cat2_Sum',\n",
       "       'ndc_cat3_Sum', 'ndc_cat4_Sum', 'ndc_cat5_Sum', 'ndc_cat6_Sum',\n",
       "       'ndc_cat7_Sum', 'ndc_cat8_Sum', 'ndc_cat9_Sum', 'ndc_cat10_Sum',\n",
       "       'ndc_cat11_Sum', 'ndc_cat12_Sum', 'ndc_cat13_Sum', 'ndc_cat14_Sum',\n",
       "       'ndc_cat15_Sum', 'ndc_cat16_Sum', 'ndc_cat17_Sum', 'ndc_cat18_Sum',\n",
       "       'ndc_cat19_Sum', 'ndc_cat20_Sum', 'ndc_cat21_Sum', 'ndc_cat22_Sum',\n",
       "       'ndc_cat23_Sum', 'ndc_cat24_Sum', 'ndc_cat25_Sum', 'ndc_cat26_Sum',\n",
       "       'ndc_cat27_Sum', 'ndc_cat28_Sum', 'ndc_cat29_Sum', 'ndc_cat30_Sum',\n",
       "       'ndc_cat31_Sum', 'ndc_cat32_Sum', 'ndc_cat33_Sum', 'ndc_cat34_Sum',\n",
       "       'ndc_cat35_Sum', 'ndc_cat36_Sum', 'ndc_cat37_Sum', 'ndc_cat38_Sum',\n",
       "       'ndc_cat39_Sum', 'ndc_cat40_Sum', 'ndc_cat41_Sum', 'ndc_cat42_Sum',\n",
       "       'ndc_cat43_Sum', 'ndc_cat44_Sum', 'ndc_cat45_Sum', 'ndc_cat46_Sum',\n",
       "       'ndc_cat47_Sum', 'ndc_cat48_Sum', 'ndc_cat49_Sum', 'ndc_cat50_Sum',\n",
       "       'ndc_cat51_Sum', 'ndc_cat52_Sum', 'ndc_cat53_Sum', 'ndc_cat54_Sum',\n",
       "       'ndc_cat55_Sum', 'ndc_cat56_Sum', 'ndc_cat57_Sum', 'ndc_cat58_Sum',\n",
       "       'ndc_cat59_Sum', 'ndc_cat60_Sum', 'ndc_cat61_Sum', 'ndc_cat62_Sum',\n",
       "       'ndc_cat63_Sum', 'ndc_cat64_Sum', 'ndc_cat65_Sum', 'ndc_cat66_Sum',\n",
       "       'ndc_cat67_Sum', 'ndc_cat68_Sum', 'ndc_cat69_Sum', 'ndc_cat70_Sum',\n",
       "       'ndc_cat71_Sum', 'ndc_cat72_Sum', 'ndc_cat73_Sum', 'ndc_cat74_Sum',\n",
       "       'ndc_cat75_Sum', 'ndc_cat76_Sum', 'ndc_cat77_Sum', 'ndc_cat78_Sum',\n",
       "       'ndc_cat79_Sum', 'ndc_cat80_Sum', 'ndc_cat82_Sum', 'ndc_cat83_Sum',\n",
       "       'ndc_cat84_Sum', 'ndc_cat85_Sum', 'ndc_cat86_Sum', 'ndc_cat87_Sum',\n",
       "       'ndc_cat88_Sum', 'ndc_cat89_Sum', 'ndc_cat90_Sum', 'ndc_cat91_Sum',\n",
       "       'ndc_cat94_Sum', 'ndc_cat95_Sum', 'ndc_cat96_Sum', 'ndc_cat97_Sum',\n",
       "       'ndc_cat98_Sum', 'ndc_cat99_Sum', 'ndc_cat100_Sum',\n",
       "       'ndc_cat101_Sum', 'ndc_cat102_Sum', 'ndc_cat103_Sum',\n",
       "       'ndc_cat104_Sum', 'ndc_cat105_Sum', 'ndc_cat106_Sum',\n",
       "       'ndc_cat107_Sum'], dtype=object)"
      ]
     },
     "execution_count": 29,
     "metadata": {},
     "output_type": "execute_result"
    }
   ],
   "source": [
    "data.columns.values"
   ]
  },
  {
   "cell_type": "code",
   "execution_count": 99,
   "metadata": {
    "collapsed": true
   },
   "outputs": [],
   "source": [
    "X = data.copy()\n",
    "X = pd.get_dummies(X, columns=['Gender'], drop_first=True)\n",
    "X_sums = X.sum(numeric_only=True)\n",
    "# drop all columns that add to 0\n",
    "X = X.drop(list(X_sums[X_sums == 0].index), axis=1)\n",
    "X = X.drop(['unlabel_flag','true_pos_flag','true_neg_flag','MemberID','epi_related_cond','epi_related_cond_subgrp',\n",
    "           'h_rank','pert_flag','mmos','elastase_flag','medical_claim_count','rx_claim_count'], axis=1)"
   ]
  },
  {
   "cell_type": "code",
   "execution_count": 100,
   "metadata": {
    "collapsed": false
   },
   "outputs": [],
   "source": [
    "# Create class labels\n",
    "Y = (data.unlabel_flag * -1) + data.true_pos_flag"
   ]
  },
  {
   "cell_type": "code",
   "execution_count": 101,
   "metadata": {
    "collapsed": false
   },
   "outputs": [
    {
     "data": {
      "text/plain": [
       "-1    437531\n",
       " 1      2088\n",
       " 0      1077\n",
       "dtype: int64"
      ]
     },
     "execution_count": 101,
     "metadata": {},
     "output_type": "execute_result"
    }
   ],
   "source": [
    "Y.value_counts()"
   ]
  },
  {
   "cell_type": "code",
   "execution_count": 102,
   "metadata": {
    "collapsed": false
   },
   "outputs": [
    {
     "data": {
      "text/plain": [
       "(440696, 313)"
      ]
     },
     "execution_count": 102,
     "metadata": {},
     "output_type": "execute_result"
    }
   ],
   "source": [
    "X.shape"
   ]
  },
  {
   "cell_type": "code",
   "execution_count": 103,
   "metadata": {
    "collapsed": false
   },
   "outputs": [
    {
     "data": {
      "text/plain": [
       "Index(['age', 'DIAG_FLAG1_Sum', 'DIAG_FLAG2_Sum', 'DIAG_FLAG3_Sum',\n",
       "       'DIAG_FLAG4_Sum', 'DIAG_FLAG5_Sum', 'DIAG_FLAG6_Sum', 'DIAG_FLAG7_Sum',\n",
       "       'DIAG_FLAG8_Sum', 'DIAG_FLAG9_Sum',\n",
       "       ...\n",
       "       'ndc_cat99_Sum', 'ndc_cat100_Sum', 'ndc_cat101_Sum', 'ndc_cat102_Sum',\n",
       "       'ndc_cat103_Sum', 'ndc_cat104_Sum', 'ndc_cat105_Sum', 'ndc_cat106_Sum',\n",
       "       'ndc_cat107_Sum', 'Gender_M'],\n",
       "      dtype='object', length=313)"
      ]
     },
     "execution_count": 103,
     "metadata": {},
     "output_type": "execute_result"
    }
   ],
   "source": [
    "X.columns"
   ]
  },
  {
   "cell_type": "code",
   "execution_count": 125,
   "metadata": {
    "collapsed": false
   },
   "outputs": [
    {
     "data": {
      "text/plain": [
       "count    313.000000\n",
       "mean       0.878066\n",
       "std        0.191048\n",
       "min        0.000744\n",
       "25%        0.844401\n",
       "50%        0.961068\n",
       "75%        0.994579\n",
       "max        0.999995\n",
       "dtype: float64"
      ]
     },
     "execution_count": 125,
     "metadata": {},
     "output_type": "execute_result"
    }
   ],
   "source": [
    "((X==0).astype(int).sum(axis=0) / X.shape[0]).describe()"
   ]
  },
  {
   "cell_type": "code",
   "execution_count": null,
   "metadata": {
    "collapsed": true
   },
   "outputs": [],
   "source": [
    "#TODO - do a train / test split here 80/20? Stratify it!"
   ]
  },
  {
   "cell_type": "code",
   "execution_count": 104,
   "metadata": {
    "collapsed": false
   },
   "outputs": [],
   "source": [
    "#Probably want to scale the data using preprocessing.MaxAbsScaler\n",
    "scaler = MaxAbsScaler()"
   ]
  },
  {
   "cell_type": "code",
   "execution_count": 114,
   "metadata": {
    "collapsed": false
   },
   "outputs": [],
   "source": [
    "scaled_X = scaler.fit_transform(X)"
   ]
  },
  {
   "cell_type": "code",
   "execution_count": 118,
   "metadata": {
    "collapsed": false
   },
   "outputs": [
    {
     "data": {
      "text/plain": [
       "array([[ 0.      ,  0.      ,  0.      , ...,  0.      ,  0.      ,  0.      ],\n",
       "       [ 0.65625 ,  0.      ,  0.      , ...,  0.      ,  0.      ,  1.      ],\n",
       "       [ 1.      ,  0.      ,  0.      , ...,  0.      ,  0.      ,  1.      ],\n",
       "       ..., \n",
       "       [ 0.953125,  0.      ,  0.      , ...,  0.      ,  0.      ,  1.      ],\n",
       "       [ 0.921875,  0.      ,  0.      , ...,  0.      ,  0.      ,  0.      ],\n",
       "       [ 0.984375,  0.      ,  0.      , ...,  0.      ,  0.      ,  1.      ]])"
      ]
     },
     "execution_count": 118,
     "metadata": {},
     "output_type": "execute_result"
    }
   ],
   "source": [
    "scaled_X"
   ]
  },
  {
   "cell_type": "code",
   "execution_count": null,
   "metadata": {
    "collapsed": true
   },
   "outputs": [],
   "source": []
  }
 ],
 "metadata": {
  "anaconda-cloud": {},
  "kernelspec": {
   "display_name": "Python [conda root]",
   "language": "python",
   "name": "conda-root-py"
  },
  "language_info": {
   "codemirror_mode": {
    "name": "ipython",
    "version": 3
   },
   "file_extension": ".py",
   "mimetype": "text/x-python",
   "name": "python",
   "nbconvert_exporter": "python",
   "pygments_lexer": "ipython3",
   "version": "3.5.2"
  }
 },
 "nbformat": 4,
 "nbformat_minor": 2
}
