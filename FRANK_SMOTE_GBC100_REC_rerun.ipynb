{
 "cells": [
  {
   "cell_type": "code",
   "execution_count": 1,
   "metadata": {
    "collapsed": true
   },
   "outputs": [],
   "source": [
    "import scipy as sp\n",
    "from sklearn.svm import SVC\n",
    "import pandas as pd\n",
    "import numpy as np\n",
    "from scipy.stats import randint as sp_randint\n",
    "from sklearn import svm\n",
    "from sklearn.metrics import confusion_matrix\n",
    "from sklearn.metrics import roc_auc_score\n",
    "from sklearn.metrics import classification_report\n",
    "from sklearn.metrics import brier_score_loss\n",
    "from sklearn.model_selection import RandomizedSearchCV\n",
    "from time import time\n",
    "from sklearn.preprocessing import MinMaxScaler\n",
    "from sklearn.linear_model import SGDClassifier\n",
    "from sklearn.ensemble import RandomForestClassifier\n",
    "from sklearn.model_selection import cross_val_score\n",
    "from sklearn.ensemble import GradientBoostingClassifier"
   ]
  },
  {
   "cell_type": "code",
   "execution_count": 2,
   "metadata": {
    "collapsed": true
   },
   "outputs": [],
   "source": [
    "#NEED INSTALL IMBLANCE PACKAGE\n",
    "#code: conda install -c glemaitre imbalanced-learn\n",
    "from imblearn.over_sampling import SMOTE\n",
    "#read tables: After variable selection, choosing 50 variables by baseline RF importance\n",
    "train=pd.read_table('training_self1_0127.txt')\n",
    "test=pd.read_table('testing_self1_0127.txt')"
   ]
  },
  {
   "cell_type": "code",
   "execution_count": 3,
   "metadata": {
    "collapsed": true
   },
   "outputs": [],
   "source": [
    "train_Ycat=train['Ycat']\n",
    "train_PERT=train['PERT_Y']\n",
    "train=train.drop('Ycat',1)\n",
    "train=train.drop('MemberID',1)\n",
    "train=train.drop('PERT_Y',1)\n",
    "\n",
    "test_Ycat=test['Ycat']\n",
    "test_PERT=test['PERT_Y']\n",
    "test=test.drop('Ycat',1)\n",
    "test=test.drop('PERT_Y',1)\n",
    "test=test.drop('MemberID',1)\n",
    "\n",
    "scaler = MinMaxScaler()\n",
    "train = scaler.fit_transform(train)\n",
    "test =  scaler.transform(test)\n",
    "\n",
    "train_std=pd.DataFrame(train)\n",
    "test_std=pd.DataFrame(test)\n",
    "\n",
    "res=[1 if x =='Y' else 0 for x in train_PERT]"
   ]
  },
  {
   "cell_type": "code",
   "execution_count": 4,
   "metadata": {
    "collapsed": true
   },
   "outputs": [],
   "source": [
    "sm = SMOTE(random_state=1234)\n",
    "X_res, y_res = sm.fit_sample(train_std, res)"
   ]
  },
  {
   "cell_type": "code",
   "execution_count": 5,
   "metadata": {
    "collapsed": true
   },
   "outputs": [],
   "source": [
    "def report(results, n_top=3):\n",
    "    for i in range(1, n_top + 1):\n",
    "        candidates = np.flatnonzero(results['rank_test_score'] == i)\n",
    "        for candidate in candidates:\n",
    "            print(\"Model with rank: {0}\".format(i))\n",
    "            print(\"Mean validation score: {0:.3f} (std: {1:.3f})\".format(\n",
    "                  results['mean_test_score'][candidate],\n",
    "                  results['std_test_score'][candidate]))\n",
    "            print(\"Parameters: {0}\".format(results['params'][candidate]))\n",
    "            print(\"\")\n",
    "            "
   ]
  },
  {
   "cell_type": "code",
   "execution_count": 6,
   "metadata": {
    "collapsed": true
   },
   "outputs": [],
   "source": [
    "#hyper parameter options, could also apply to other model. \n",
    "param_dist = {\"loss\": ['deviance', 'exponential'],\n",
    "              \"learning_rate\": sp.stats.expon(scale=.1),\n",
    "              \"min_samples_split\": sp_randint(2, 11),\n",
    "              \"min_samples_leaf\": sp_randint(1, 11),\n",
    "              \"max_depth\": sp_randint(1, 5),\n",
    "              \"max_features\": ['auto', 'sqrt','log2']}\n"
   ]
  },
  {
   "cell_type": "markdown",
   "metadata": {},
   "source": [
    "# Optimize Hyper-parameters by Recall"
   ]
  },
  {
   "cell_type": "code",
   "execution_count": 7,
   "metadata": {
    "collapsed": true
   },
   "outputs": [],
   "source": [
    "gbc=GradientBoostingClassifier(random_state=1234)"
   ]
  },
  {
   "cell_type": "code",
   "execution_count": 8,
   "metadata": {
    "collapsed": false
   },
   "outputs": [
    {
     "name": "stdout",
     "output_type": "stream",
     "text": [
      "Fitting 3 folds for each of 20 candidates, totalling 60 fits\n",
      "[CV] max_depth=2, min_samples_leaf=5, loss=deviance, learning_rate=0.0212598657618, min_samples_split=10, max_features=auto \n",
      "[CV]  max_depth=2, min_samples_leaf=5, loss=deviance, learning_rate=0.0212598657618, min_samples_split=10, max_features=auto, score=0.949556, total= 6.6min\n",
      "[Parallel(n_jobs=1)]: Done   1 out of   1 | elapsed:  6.7min remaining:    0.0s\n",
      "[CV] max_depth=2, min_samples_leaf=5, loss=deviance, learning_rate=0.0212598657618, min_samples_split=10, max_features=auto \n",
      "[CV]  max_depth=2, min_samples_leaf=5, loss=deviance, learning_rate=0.0212598657618, min_samples_split=10, max_features=auto, score=0.950642, total= 6.3min\n",
      "[Parallel(n_jobs=1)]: Done   2 out of   2 | elapsed: 13.0min remaining:    0.0s\n",
      "[CV] max_depth=2, min_samples_leaf=5, loss=deviance, learning_rate=0.0212598657618, min_samples_split=10, max_features=auto \n",
      "[CV]  max_depth=2, min_samples_leaf=5, loss=deviance, learning_rate=0.0212598657618, min_samples_split=10, max_features=auto, score=0.950625, total= 6.2min\n",
      "[Parallel(n_jobs=1)]: Done   3 out of   3 | elapsed: 19.3min remaining:    0.0s\n",
      "[CV] max_depth=4, min_samples_leaf=7, loss=exponential, learning_rate=0.147560620993, min_samples_split=10, max_features=sqrt \n",
      "[CV]  max_depth=4, min_samples_leaf=7, loss=exponential, learning_rate=0.147560620993, min_samples_split=10, max_features=sqrt, score=0.981387, total= 2.6min\n",
      "[Parallel(n_jobs=1)]: Done   4 out of   4 | elapsed: 22.0min remaining:    0.0s\n",
      "[CV] max_depth=4, min_samples_leaf=7, loss=exponential, learning_rate=0.147560620993, min_samples_split=10, max_features=sqrt \n",
      "[CV]  max_depth=4, min_samples_leaf=7, loss=exponential, learning_rate=0.147560620993, min_samples_split=10, max_features=sqrt, score=0.990364, total= 2.7min\n",
      "[Parallel(n_jobs=1)]: Done   5 out of   5 | elapsed: 24.7min remaining:    0.0s\n",
      "[CV] max_depth=4, min_samples_leaf=7, loss=exponential, learning_rate=0.147560620993, min_samples_split=10, max_features=sqrt \n",
      "[CV]  max_depth=4, min_samples_leaf=7, loss=exponential, learning_rate=0.147560620993, min_samples_split=10, max_features=sqrt, score=0.990450, total= 2.5min\n",
      "[Parallel(n_jobs=1)]: Done   6 out of   6 | elapsed: 27.3min remaining:    0.0s\n",
      "[CV] max_depth=1, min_samples_leaf=7, loss=exponential, learning_rate=0.0695139414788, min_samples_split=4, max_features=sqrt \n",
      "[CV]  max_depth=1, min_samples_leaf=7, loss=exponential, learning_rate=0.0695139414788, min_samples_split=4, max_features=sqrt, score=0.910954, total=  43.0s\n",
      "[Parallel(n_jobs=1)]: Done   7 out of   7 | elapsed: 28.1min remaining:    0.0s\n",
      "[CV] max_depth=1, min_samples_leaf=7, loss=exponential, learning_rate=0.0695139414788, min_samples_split=4, max_features=sqrt \n",
      "[CV]  max_depth=1, min_samples_leaf=7, loss=exponential, learning_rate=0.0695139414788, min_samples_split=4, max_features=sqrt, score=0.916768, total=  40.6s\n",
      "[Parallel(n_jobs=1)]: Done   8 out of   8 | elapsed: 28.8min remaining:    0.0s\n",
      "[CV] max_depth=1, min_samples_leaf=7, loss=exponential, learning_rate=0.0695139414788, min_samples_split=4, max_features=sqrt \n",
      "[CV]  max_depth=1, min_samples_leaf=7, loss=exponential, learning_rate=0.0695139414788, min_samples_split=4, max_features=sqrt, score=0.916895, total=  37.6s\n",
      "[Parallel(n_jobs=1)]: Done   9 out of   9 | elapsed: 29.4min remaining:    0.0s\n",
      "[CV] max_depth=2, min_samples_leaf=7, loss=deviance, learning_rate=0.0699332601511, min_samples_split=5, max_features=log2 \n",
      "[CV]  max_depth=2, min_samples_leaf=7, loss=deviance, learning_rate=0.0699332601511, min_samples_split=5, max_features=log2, score=0.951642, total=  53.2s\n",
      "[Parallel(n_jobs=1)]: Done  10 out of  10 | elapsed: 30.3min remaining:    0.0s\n",
      "[CV] max_depth=2, min_samples_leaf=7, loss=deviance, learning_rate=0.0699332601511, min_samples_split=5, max_features=log2 \n",
      "[CV]  max_depth=2, min_samples_leaf=7, loss=deviance, learning_rate=0.0699332601511, min_samples_split=5, max_features=log2, score=0.956627, total=  51.1s\n",
      "[Parallel(n_jobs=1)]: Done  11 out of  11 | elapsed: 31.2min remaining:    0.0s\n",
      "[CV] max_depth=2, min_samples_leaf=7, loss=deviance, learning_rate=0.0699332601511, min_samples_split=5, max_features=log2 \n",
      "[CV]  max_depth=2, min_samples_leaf=7, loss=deviance, learning_rate=0.0699332601511, min_samples_split=5, max_features=log2, score=0.956250, total=  52.5s\n",
      "[Parallel(n_jobs=1)]: Done  12 out of  12 | elapsed: 32.1min remaining:    0.0s\n",
      "[CV] max_depth=2, min_samples_leaf=4, loss=deviance, learning_rate=0.0453950743296, min_samples_split=4, max_features=auto \n",
      "[CV]  max_depth=2, min_samples_leaf=4, loss=deviance, learning_rate=0.0453950743296, min_samples_split=4, max_features=auto, score=0.949796, total= 5.5min\n",
      "[Parallel(n_jobs=1)]: Done  13 out of  13 | elapsed: 37.7min remaining:    0.0s\n",
      "[CV] max_depth=2, min_samples_leaf=4, loss=deviance, learning_rate=0.0453950743296, min_samples_split=4, max_features=auto \n",
      "[CV]  max_depth=2, min_samples_leaf=4, loss=deviance, learning_rate=0.0453950743296, min_samples_split=4, max_features=auto, score=0.951121, total= 5.5min\n",
      "[Parallel(n_jobs=1)]: Done  14 out of  14 | elapsed: 43.3min remaining:    0.0s\n",
      "[CV] max_depth=2, min_samples_leaf=4, loss=deviance, learning_rate=0.0453950743296, min_samples_split=4, max_features=auto \n",
      "[CV]  max_depth=2, min_samples_leaf=4, loss=deviance, learning_rate=0.0453950743296, min_samples_split=4, max_features=auto, score=0.950941, total= 5.5min\n",
      "[Parallel(n_jobs=1)]: Done  15 out of  15 | elapsed: 48.9min remaining:    0.0s\n",
      "[CV] max_depth=4, min_samples_leaf=2, loss=exponential, learning_rate=0.270515592331, min_samples_split=5, max_features=log2 \n",
      "[CV]  max_depth=4, min_samples_leaf=2, loss=exponential, learning_rate=0.270515592331, min_samples_split=5, max_features=log2, score=0.986038, total= 1.8min\n",
      "[Parallel(n_jobs=1)]: Done  16 out of  16 | elapsed: 50.7min remaining:    0.0s\n",
      "[CV] max_depth=4, min_samples_leaf=2, loss=exponential, learning_rate=0.270515592331, min_samples_split=5, max_features=log2 \n",
      "[CV]  max_depth=4, min_samples_leaf=2, loss=exponential, learning_rate=0.270515592331, min_samples_split=5, max_features=log2, score=0.996059, total= 1.9min\n",
      "[Parallel(n_jobs=1)]: Done  17 out of  17 | elapsed: 52.7min remaining:    0.0s\n",
      "[CV] max_depth=4, min_samples_leaf=2, loss=exponential, learning_rate=0.270515592331, min_samples_split=5, max_features=log2 \n",
      "[CV]  max_depth=4, min_samples_leaf=2, loss=exponential, learning_rate=0.270515592331, min_samples_split=5, max_features=log2, score=0.995802, total= 1.9min\n",
      "[Parallel(n_jobs=1)]: Done  18 out of  18 | elapsed: 54.6min remaining:    0.0s\n",
      "[CV] max_depth=4, min_samples_leaf=2, loss=deviance, learning_rate=0.0839558079377, min_samples_split=9, max_features=log2 \n",
      "[CV]  max_depth=4, min_samples_leaf=2, loss=deviance, learning_rate=0.0839558079377, min_samples_split=9, max_features=log2, score=0.974094, total= 1.8min\n",
      "[Parallel(n_jobs=1)]: Done  19 out of  19 | elapsed: 56.4min remaining:    0.0s\n",
      "[CV] max_depth=4, min_samples_leaf=2, loss=deviance, learning_rate=0.0839558079377, min_samples_split=9, max_features=log2 \n",
      "[CV]  max_depth=4, min_samples_leaf=2, loss=deviance, learning_rate=0.0839558079377, min_samples_split=9, max_features=log2, score=0.977805, total= 1.8min\n",
      "[Parallel(n_jobs=1)]: Done  20 out of  20 | elapsed: 58.3min remaining:    0.0s\n",
      "[CV] max_depth=4, min_samples_leaf=2, loss=deviance, learning_rate=0.0839558079377, min_samples_split=9, max_features=log2 \n",
      "[CV]  max_depth=4, min_samples_leaf=2, loss=deviance, learning_rate=0.0839558079377, min_samples_split=9, max_features=log2, score=0.978035, total= 1.8min\n",
      "[Parallel(n_jobs=1)]: Done  21 out of  21 | elapsed: 60.1min remaining:    0.0s\n",
      "[CV] max_depth=1, min_samples_leaf=2, loss=deviance, learning_rate=0.0155212538667, min_samples_split=7, max_features=sqrt \n",
      "[CV]  max_depth=1, min_samples_leaf=2, loss=deviance, learning_rate=0.0155212538667, min_samples_split=7, max_features=sqrt, score=0.862451, total=  37.2s\n",
      "[Parallel(n_jobs=1)]: Done  22 out of  22 | elapsed: 60.8min remaining:    0.0s\n",
      "[CV] max_depth=1, min_samples_leaf=2, loss=deviance, learning_rate=0.0155212538667, min_samples_split=7, max_features=sqrt \n",
      "[CV]  max_depth=1, min_samples_leaf=2, loss=deviance, learning_rate=0.0155212538667, min_samples_split=7, max_features=sqrt, score=0.867025, total=  37.4s\n",
      "[Parallel(n_jobs=1)]: Done  23 out of  23 | elapsed: 61.4min remaining:    0.0s\n",
      "[CV] max_depth=1, min_samples_leaf=2, loss=deviance, learning_rate=0.0155212538667, min_samples_split=7, max_features=sqrt \n",
      "[CV]  max_depth=1, min_samples_leaf=2, loss=deviance, learning_rate=0.0155212538667, min_samples_split=7, max_features=sqrt, score=0.865451, total=  37.7s\n",
      "[Parallel(n_jobs=1)]: Done  24 out of  24 | elapsed: 62.1min remaining:    0.0s\n",
      "[CV] max_depth=2, min_samples_leaf=1, loss=deviance, learning_rate=0.167947916439, min_samples_split=10, max_features=auto \n",
      "[CV]  max_depth=2, min_samples_leaf=1, loss=deviance, learning_rate=0.167947916439, min_samples_split=10, max_features=auto, score=0.978207, total= 5.6min\n",
      "[Parallel(n_jobs=1)]: Done  25 out of  25 | elapsed: 67.7min remaining:    0.0s\n",
      "[CV] max_depth=2, min_samples_leaf=1, loss=deviance, learning_rate=0.167947916439, min_samples_split=10, max_features=auto \n",
      "[CV]  max_depth=2, min_samples_leaf=1, loss=deviance, learning_rate=0.167947916439, min_samples_split=10, max_features=auto, score=0.985038, total= 5.5min\n",
      "[Parallel(n_jobs=1)]: Done  26 out of  26 | elapsed: 73.2min remaining:    0.0s\n",
      "[CV] max_depth=2, min_samples_leaf=1, loss=deviance, learning_rate=0.167947916439, min_samples_split=10, max_features=auto \n",
      "[CV]  max_depth=2, min_samples_leaf=1, loss=deviance, learning_rate=0.167947916439, min_samples_split=10, max_features=auto, score=0.983995, total= 5.8min\n",
      "[Parallel(n_jobs=1)]: Done  27 out of  27 | elapsed: 79.1min remaining:    0.0s\n",
      "[CV] max_depth=1, min_samples_leaf=4, loss=deviance, learning_rate=0.00485132452566, min_samples_split=3, max_features=log2 \n",
      "[CV]  max_depth=1, min_samples_leaf=4, loss=deviance, learning_rate=0.00485132452566, min_samples_split=3, max_features=log2, score=0.825824, total=  33.2s\n",
      "[Parallel(n_jobs=1)]: Done  28 out of  28 | elapsed: 79.7min remaining:    0.0s\n",
      "[CV] max_depth=1, min_samples_leaf=4, loss=deviance, learning_rate=0.00485132452566, min_samples_split=3, max_features=log2 \n",
      "[CV]  max_depth=1, min_samples_leaf=4, loss=deviance, learning_rate=0.00485132452566, min_samples_split=3, max_features=log2, score=0.833373, total=  32.6s\n",
      "[Parallel(n_jobs=1)]: Done  29 out of  29 | elapsed: 80.3min remaining:    0.0s\n",
      "[CV] max_depth=1, min_samples_leaf=4, loss=deviance, learning_rate=0.00485132452566, min_samples_split=3, max_features=log2 \n",
      "[CV]  max_depth=1, min_samples_leaf=4, loss=deviance, learning_rate=0.00485132452566, min_samples_split=3, max_features=log2, score=0.831491, total=  32.7s\n",
      "[Parallel(n_jobs=1)]: Done  30 out of  30 | elapsed: 80.8min remaining:    0.0s\n",
      "[CV] max_depth=3, min_samples_leaf=7, loss=deviance, learning_rate=0.0824242867784, min_samples_split=9, max_features=sqrt \n",
      "[CV]  max_depth=3, min_samples_leaf=7, loss=deviance, learning_rate=0.0824242867784, min_samples_split=9, max_features=sqrt, score=0.967639, total= 1.7min\n",
      "[Parallel(n_jobs=1)]: Done  31 out of  31 | elapsed: 82.6min remaining:    0.0s\n",
      "[CV] max_depth=3, min_samples_leaf=7, loss=deviance, learning_rate=0.0824242867784, min_samples_split=9, max_features=sqrt \n",
      "[CV]  max_depth=3, min_samples_leaf=7, loss=deviance, learning_rate=0.0824242867784, min_samples_split=9, max_features=sqrt, score=0.970033, total= 1.7min\n",
      "[Parallel(n_jobs=1)]: Done  32 out of  32 | elapsed: 84.3min remaining:    0.0s\n",
      "[CV] max_depth=3, min_samples_leaf=7, loss=deviance, learning_rate=0.0824242867784, min_samples_split=9, max_features=sqrt \n",
      "[CV]  max_depth=3, min_samples_leaf=7, loss=deviance, learning_rate=0.0824242867784, min_samples_split=9, max_features=sqrt, score=0.971785, total= 1.7min\n",
      "[Parallel(n_jobs=1)]: Done  33 out of  33 | elapsed: 86.1min remaining:    0.0s\n",
      "[CV] max_depth=3, min_samples_leaf=5, loss=exponential, learning_rate=0.0934438679765, min_samples_split=8, max_features=log2 \n",
      "[CV]  max_depth=3, min_samples_leaf=5, loss=exponential, learning_rate=0.0934438679765, min_samples_split=8, max_features=log2, score=0.966074, total= 1.4min\n",
      "[Parallel(n_jobs=1)]: Done  34 out of  34 | elapsed: 87.5min remaining:    0.0s\n",
      "[CV] max_depth=3, min_samples_leaf=5, loss=exponential, learning_rate=0.0934438679765, min_samples_split=8, max_features=log2 \n",
      "[CV]  max_depth=3, min_samples_leaf=5, loss=exponential, learning_rate=0.0934438679765, min_samples_split=8, max_features=log2, score=0.972837, total= 1.4min\n",
      "[Parallel(n_jobs=1)]: Done  35 out of  35 | elapsed: 88.9min remaining:    0.0s\n",
      "[CV] max_depth=3, min_samples_leaf=5, loss=exponential, learning_rate=0.0934438679765, min_samples_split=8, max_features=log2 \n",
      "[CV]  max_depth=3, min_samples_leaf=5, loss=exponential, learning_rate=0.0934438679765, min_samples_split=8, max_features=log2, score=0.973128, total= 1.3min\n",
      "[Parallel(n_jobs=1)]: Done  36 out of  36 | elapsed: 90.3min remaining:    0.0s\n",
      "[CV] max_depth=3, min_samples_leaf=5, loss=deviance, learning_rate=0.243181587717, min_samples_split=4, max_features=auto \n",
      "[CV]  max_depth=3, min_samples_leaf=5, loss=deviance, learning_rate=0.243181587717, min_samples_split=4, max_features=auto, score=0.986013, total= 9.3min\n",
      "[Parallel(n_jobs=1)]: Done  37 out of  37 | elapsed: 99.7min remaining:    0.0s\n",
      "[CV] max_depth=3, min_samples_leaf=5, loss=deviance, learning_rate=0.243181587717, min_samples_split=4, max_features=auto \n",
      "[CV]  max_depth=3, min_samples_leaf=5, loss=deviance, learning_rate=0.243181587717, min_samples_split=4, max_features=auto, score=0.998341, total= 9.4min\n",
      "[Parallel(n_jobs=1)]: Done  38 out of  38 | elapsed: 109.2min remaining:    0.0s\n",
      "[CV] max_depth=3, min_samples_leaf=5, loss=deviance, learning_rate=0.243181587717, min_samples_split=4, max_features=auto \n",
      "[CV]  max_depth=3, min_samples_leaf=5, loss=deviance, learning_rate=0.243181587717, min_samples_split=4, max_features=auto, score=0.998205, total= 9.2min\n",
      "[Parallel(n_jobs=1)]: Done  39 out of  39 | elapsed: 118.4min remaining:    0.0s\n",
      "[CV] max_depth=4, min_samples_leaf=8, loss=exponential, learning_rate=0.0126191701093, min_samples_split=4, max_features=log2 \n",
      "[CV]  max_depth=4, min_samples_leaf=8, loss=exponential, learning_rate=0.0126191701093, min_samples_split=4, max_features=log2, score=0.945264, total= 1.8min\n",
      "[Parallel(n_jobs=1)]: Done  40 out of  40 | elapsed: 120.2min remaining:    0.0s\n",
      "[CV] max_depth=4, min_samples_leaf=8, loss=exponential, learning_rate=0.0126191701093, min_samples_split=4, max_features=log2 \n",
      "[CV]  max_depth=4, min_samples_leaf=8, loss=exponential, learning_rate=0.0126191701093, min_samples_split=4, max_features=log2, score=0.948983, total= 1.8min\n",
      "[Parallel(n_jobs=1)]: Done  41 out of  41 | elapsed: 122.1min remaining:    0.0s\n",
      "[CV] max_depth=4, min_samples_leaf=8, loss=exponential, learning_rate=0.0126191701093, min_samples_split=4, max_features=log2 \n",
      "[CV]  max_depth=4, min_samples_leaf=8, loss=exponential, learning_rate=0.0126191701093, min_samples_split=4, max_features=log2, score=0.948598, total= 1.8min\n",
      "[Parallel(n_jobs=1)]: Done  42 out of  42 | elapsed: 124.0min remaining:    0.0s\n",
      "[CV] max_depth=1, min_samples_leaf=1, loss=exponential, learning_rate=0.0650267392438, min_samples_split=4, max_features=sqrt \n",
      "[CV]  max_depth=1, min_samples_leaf=1, loss=exponential, learning_rate=0.0650267392438, min_samples_split=4, max_features=sqrt, score=0.909150, total=  40.4s\n",
      "[Parallel(n_jobs=1)]: Done  43 out of  43 | elapsed: 124.7min remaining:    0.0s\n",
      "[CV] max_depth=1, min_samples_leaf=1, loss=exponential, learning_rate=0.0650267392438, min_samples_split=4, max_features=sqrt \n",
      "[CV]  max_depth=1, min_samples_leaf=1, loss=exponential, learning_rate=0.0650267392438, min_samples_split=4, max_features=sqrt, score=0.913827, total=  39.4s\n",
      "[Parallel(n_jobs=1)]: Done  44 out of  44 | elapsed: 125.4min remaining:    0.0s\n",
      "[CV] max_depth=1, min_samples_leaf=1, loss=exponential, learning_rate=0.0650267392438, min_samples_split=4, max_features=sqrt \n",
      "[CV]  max_depth=1, min_samples_leaf=1, loss=exponential, learning_rate=0.0650267392438, min_samples_split=4, max_features=sqrt, score=0.914955, total=  39.4s\n",
      "[Parallel(n_jobs=1)]: Done  45 out of  45 | elapsed: 126.1min remaining:    0.0s\n",
      "[CV] max_depth=3, min_samples_leaf=2, loss=exponential, learning_rate=0.0600838607001, min_samples_split=7, max_features=sqrt \n",
      "[CV]  max_depth=3, min_samples_leaf=2, loss=exponential, learning_rate=0.0600838607001, min_samples_split=7, max_features=sqrt, score=0.961235, total= 1.6min\n",
      "[Parallel(n_jobs=1)]: Done  46 out of  46 | elapsed: 127.7min remaining:    0.0s\n",
      "[CV] max_depth=3, min_samples_leaf=2, loss=exponential, learning_rate=0.0600838607001, min_samples_split=7, max_features=sqrt \n",
      "[CV]  max_depth=3, min_samples_leaf=2, loss=exponential, learning_rate=0.0600838607001, min_samples_split=7, max_features=sqrt, score=0.965399, total= 1.6min\n",
      "[Parallel(n_jobs=1)]: Done  47 out of  47 | elapsed: 129.4min remaining:    0.0s\n",
      "[CV] max_depth=3, min_samples_leaf=2, loss=exponential, learning_rate=0.0600838607001, min_samples_split=7, max_features=sqrt \n",
      "[CV]  max_depth=3, min_samples_leaf=2, loss=exponential, learning_rate=0.0600838607001, min_samples_split=7, max_features=sqrt, score=0.965373, total= 1.7min\n",
      "[Parallel(n_jobs=1)]: Done  48 out of  48 | elapsed: 131.1min remaining:    0.0s\n",
      "[CV] max_depth=4, min_samples_leaf=5, loss=exponential, learning_rate=0.217384872629, min_samples_split=2, max_features=sqrt \n",
      "[CV]  max_depth=4, min_samples_leaf=5, loss=exponential, learning_rate=0.217384872629, min_samples_split=2, max_features=sqrt, score=0.985500, total= 2.3min\n",
      "[Parallel(n_jobs=1)]: Done  49 out of  49 | elapsed: 133.5min remaining:    0.0s\n",
      "[CV] max_depth=4, min_samples_leaf=5, loss=exponential, learning_rate=0.217384872629, min_samples_split=2, max_features=sqrt \n",
      "[CV]  max_depth=4, min_samples_leaf=5, loss=exponential, learning_rate=0.217384872629, min_samples_split=2, max_features=sqrt, score=0.995682, total= 2.3min\n",
      "[Parallel(n_jobs=1)]: Done  50 out of  50 | elapsed: 135.8min remaining:    0.0s\n",
      "[CV] max_depth=4, min_samples_leaf=5, loss=exponential, learning_rate=0.217384872629, min_samples_split=2, max_features=sqrt \n",
      "[CV]  max_depth=4, min_samples_leaf=5, loss=exponential, learning_rate=0.217384872629, min_samples_split=2, max_features=sqrt, score=0.994366, total= 2.3min\n",
      "[Parallel(n_jobs=1)]: Done  51 out of  51 | elapsed: 138.2min remaining:    0.0s\n",
      "[CV] max_depth=3, min_samples_leaf=2, loss=exponential, learning_rate=0.00117002534447, min_samples_split=5, max_features=sqrt \n",
      "[CV]  max_depth=3, min_samples_leaf=2, loss=exponential, learning_rate=0.00117002534447, min_samples_split=5, max_features=sqrt, score=0.928310, total= 1.6min\n",
      "[Parallel(n_jobs=1)]: Done  52 out of  52 | elapsed: 139.9min remaining:    0.0s\n",
      "[CV] max_depth=3, min_samples_leaf=2, loss=exponential, learning_rate=0.00117002534447, min_samples_split=5, max_features=sqrt \n",
      "[CV]  max_depth=3, min_samples_leaf=2, loss=exponential, learning_rate=0.00117002534447, min_samples_split=5, max_features=sqrt, score=0.929935, total= 1.7min\n",
      "[Parallel(n_jobs=1)]: Done  53 out of  53 | elapsed: 141.6min remaining:    0.0s\n",
      "[CV] max_depth=3, min_samples_leaf=2, loss=exponential, learning_rate=0.00117002534447, min_samples_split=5, max_features=sqrt \n",
      "[CV]  max_depth=3, min_samples_leaf=2, loss=exponential, learning_rate=0.00117002534447, min_samples_split=5, max_features=sqrt, score=0.931524, total= 1.7min\n",
      "[Parallel(n_jobs=1)]: Done  54 out of  54 | elapsed: 143.3min remaining:    0.0s\n",
      "[CV] max_depth=2, min_samples_leaf=4, loss=exponential, learning_rate=0.11712352736, min_samples_split=2, max_features=sqrt \n",
      "[CV]  max_depth=2, min_samples_leaf=4, loss=exponential, learning_rate=0.11712352736, min_samples_split=2, max_features=sqrt, score=0.956635, total= 1.2min\n",
      "[Parallel(n_jobs=1)]: Done  55 out of  55 | elapsed: 144.5min remaining:    0.0s\n",
      "[CV] max_depth=2, min_samples_leaf=4, loss=exponential, learning_rate=0.11712352736, min_samples_split=2, max_features=sqrt \n",
      "[CV]  max_depth=2, min_samples_leaf=4, loss=exponential, learning_rate=0.11712352736, min_samples_split=2, max_features=sqrt, score=0.959739, total= 1.2min\n",
      "[Parallel(n_jobs=1)]: Done  56 out of  56 | elapsed: 145.7min remaining:    0.0s\n",
      "[CV] max_depth=2, min_samples_leaf=4, loss=exponential, learning_rate=0.11712352736, min_samples_split=2, max_features=sqrt \n",
      "[CV]  max_depth=2, min_samples_leaf=4, loss=exponential, learning_rate=0.11712352736, min_samples_split=2, max_features=sqrt, score=0.959542, total= 1.2min\n",
      "[Parallel(n_jobs=1)]: Done  57 out of  57 | elapsed: 147.0min remaining:    0.0s\n",
      "[CV] max_depth=1, min_samples_leaf=9, loss=deviance, learning_rate=0.0876216177258, min_samples_split=6, max_features=log2 \n",
      "[CV]  max_depth=1, min_samples_leaf=9, loss=deviance, learning_rate=0.0876216177258, min_samples_split=6, max_features=log2, score=0.914459, total=  32.1s\n",
      "[Parallel(n_jobs=1)]: Done  58 out of  58 | elapsed: 147.6min remaining:    0.0s\n",
      "[CV] max_depth=1, min_samples_leaf=9, loss=deviance, learning_rate=0.0876216177258, min_samples_split=6, max_features=log2 \n",
      "[CV]  max_depth=1, min_samples_leaf=9, loss=deviance, learning_rate=0.0876216177258, min_samples_split=6, max_features=log2, score=0.918221, total=  32.5s\n",
      "[Parallel(n_jobs=1)]: Done  59 out of  59 | elapsed: 148.1min remaining:    0.0s\n",
      "[CV] max_depth=1, min_samples_leaf=9, loss=deviance, learning_rate=0.0876216177258, min_samples_split=6, max_features=log2 \n",
      "[CV]  max_depth=1, min_samples_leaf=9, loss=deviance, learning_rate=0.0876216177258, min_samples_split=6, max_features=log2, score=0.918289, total=  32.6s\n",
      "[Parallel(n_jobs=1)]: Done  60 out of  60 | elapsed: 148.7min remaining:    0.0s\n",
      "[Parallel(n_jobs=1)]: Done  60 out of  60 | elapsed: 148.7min finished\n",
      "RandomizedSearchCV took 9764.45 seconds for 20 candidates parameter settings.\n",
      "Model with rank: 1\n",
      "Mean validation score: 0.994 (std: 0.006)\n",
      "Parameters: {'max_depth': 3, 'min_samples_leaf': 5, 'loss': 'deviance', 'learning_rate': 0.24318158771707576, 'min_samples_split': 4, 'max_features': 'auto'}\n",
      "\n",
      "Model with rank: 2\n",
      "Mean validation score: 0.993 (std: 0.005)\n",
      "Parameters: {'max_depth': 4, 'min_samples_leaf': 2, 'loss': 'exponential', 'learning_rate': 0.27051559233057604, 'min_samples_split': 5, 'max_features': 'log2'}\n",
      "\n",
      "Model with rank: 3\n",
      "Mean validation score: 0.992 (std: 0.005)\n",
      "Parameters: {'max_depth': 4, 'min_samples_leaf': 5, 'loss': 'exponential', 'learning_rate': 0.21738487262856962, 'min_samples_split': 2, 'max_features': 'sqrt'}\n",
      "\n"
     ]
    }
   ],
   "source": [
    "#search 50 times      \n",
    "seed = np.random.seed(1234)\n",
    "n_iter_search = 20\n",
    "random_search = RandomizedSearchCV(gbc, param_distributions=param_dist,\n",
    "                                   n_iter=n_iter_search,scoring ='recall', verbose=100)\n",
    "\n",
    "start = time()\n",
    "random_search.fit(X_res, y_res)\n",
    "print(\"RandomizedSearchCV took %.2f seconds for %d candidates\"\n",
    "      \" parameter settings.\" % ((time() - start), n_iter_search))\n",
    "\n",
    "report(random_search.cv_results_)"
   ]
  },
  {
   "cell_type": "code",
   "execution_count": 9,
   "metadata": {
    "collapsed": true
   },
   "outputs": [],
   "source": [
    "#RandomizedSearchCV took 9764.45 seconds for 20 candidates parameter settings.\n",
    "#Model with rank: 1\n",
    "#Mean validation score: 0.994 (std: 0.006)\n",
    "#Parameters: {'max_depth': 3, 'min_samples_leaf': 5, 'loss': 'deviance', 'learning_rate': 0.24318158771707576, \n",
    "#'min_samples_split': 4, 'max_features': 'auto'}\n",
    "\n",
    "\n",
    "gbc=GradientBoostingClassifier(random_state=1234,loss='deviance',learning_rate=\n",
    "                                0.24318158771707576,min_samples_leaf=5,\n",
    "                                min_samples_split=4,max_features='auto',max_depth=3)"
   ]
  },
  {
   "cell_type": "code",
   "execution_count": 10,
   "metadata": {
    "collapsed": false
   },
   "outputs": [
    {
     "data": {
      "text/plain": [
       "0    0.20641\n",
       "Name: 6679, dtype: float64"
      ]
     },
     "execution_count": 10,
     "metadata": {},
     "output_type": "execute_result"
    }
   ],
   "source": [
    "#fit the model\n",
    "gbc.fit(X_res,y_res)\n",
    "\n",
    "predicted_probs = gbc.predict_proba(train_std)\n",
    "a= predicted_probs[:,1]\n",
    "np.mean(a)\n",
    "b= predicted_probs[:,0]\n",
    "np.mean(b)\n",
    "a1=sorted(a,reverse=True)\n",
    "a2=pd.DataFrame(a1)\n",
    "a2.iloc[train_PERT.value_counts()[\"Y\"]*4-1,:]"
   ]
  },
  {
   "cell_type": "code",
   "execution_count": 11,
   "metadata": {
    "collapsed": false
   },
   "outputs": [],
   "source": [
    "#Synchronize with Jeff's Scoring Functions\n",
    "from sklearn.metrics import accuracy_score, precision_score, recall_score, \\\n",
    "    f1_score, roc_auc_score, average_precision_score, brier_score_loss, \\\n",
    "    fbeta_score, confusion_matrix\n",
    "from creonmetrics import labeled_metric, assumed_metric, pu_score, \\\n",
    "    pr_one_unlabeled, brier_score_partial_loss\n",
    "\n",
    "y_true = test_Ycat.values\n",
    "y_prob = gbc.predict_proba(test_std)\n",
    "\n",
    "y_pred=np.array([1 if x >= 0.20641 else 0 for x in y_prob[:,1]])"
   ]
  },
  {
   "cell_type": "code",
   "execution_count": 12,
   "metadata": {
    "collapsed": false
   },
   "outputs": [
    {
     "name": "stdout",
     "output_type": "stream",
     "text": [
      "assumed_brier :  0.00640939879289\n",
      "assumed_brier_neg :  0.00353866878448\n",
      "assumed_f1 :  0.190697674419\n",
      "assumed_f1beta10 :  0.475627124874\n",
      "confusion_matrix_lab :  [[199  17]\n",
      " [213 205]]\n",
      "confusion_matrix_un :  [[86195  1527]\n",
      " [  213   205]]\n",
      "labeled_acc :  0.637223974763\n",
      "labeled_avg_prec :  0.874908095272\n",
      "labeled_brier :  0.410339547276\n",
      "labeled_brier_neg :  0.0261572522252\n",
      "labeled_brier_pos :  0.6088643696\n",
      "labeled_f1 :  0.640625\n",
      "labeled_prec :  0.923423423423\n",
      "labeled_recall :  0.49043062201\n",
      "labeled_roc_auc :  0.705863459153\n",
      "pr_one_unlabeled :  0.0172559595913\n",
      "pu_score :  12.2399689767\n"
     ]
    }
   ],
   "source": [
    "import collections\n",
    "data = {'labeled_acc' : labeled_metric(y_true, y_pred, accuracy_score),\n",
    "        'labeled_prec' : labeled_metric(y_true, y_pred, precision_score),\n",
    "        'labeled_recall' : labeled_metric(y_true, y_pred, recall_score),\n",
    "        'labeled_f1' : labeled_metric(y_true, y_pred, f1_score),\n",
    "        'labeled_roc_auc' : labeled_metric(y_true, y_pred, roc_auc_score),\n",
    "        'labeled_avg_prec' : labeled_metric(y_true, y_pred, average_precision_score),\n",
    "        'labeled_brier' : labeled_metric(y_true, y_prob, brier_score_loss),\n",
    "        'labeled_brier_pos' : labeled_metric(y_true, y_prob, brier_score_partial_loss, label=1),\n",
    "        'labeled_brier_neg' : labeled_metric(y_true, y_prob, brier_score_partial_loss, label=0),\n",
    "        'confusion_matrix_lab' : labeled_metric(y_true, y_pred, confusion_matrix),\n",
    "        'pr_one_unlabeled' : pr_one_unlabeled(y_true, y_pred),\n",
    "        'assumed_brier' : assumed_metric(y_true, y_prob, brier_score_loss),\n",
    "        'assumed_brier_neg' : assumed_metric(y_true, y_prob, brier_score_partial_loss, label=0),\n",
    "        'assumed_f1' : assumed_metric(y_true, y_pred, f1_score),\n",
    "        'assumed_f1beta10' : assumed_metric(y_true, y_pred, fbeta_score, beta=10),\n",
    "        'confusion_matrix_un' : assumed_metric(y_true, y_pred, confusion_matrix),\n",
    "        'pu_score' : pu_score(y_true, y_pred),\n",
    "        }\n",
    "data_s = collections.OrderedDict(sorted(data.items()))\n",
    "for k, v in data_s.items():\n",
    "    print(k, ': ', v)\n"
   ]
  },
  {
   "cell_type": "code",
   "execution_count": null,
   "metadata": {
    "collapsed": true
   },
   "outputs": [],
   "source": []
  }
 ],
 "metadata": {
  "anaconda-cloud": {},
  "kernelspec": {
   "display_name": "Python [conda root]",
   "language": "python",
   "name": "conda-root-py"
  },
  "language_info": {
   "codemirror_mode": {
    "name": "ipython",
    "version": 3
   },
   "file_extension": ".py",
   "mimetype": "text/x-python",
   "name": "python",
   "nbconvert_exporter": "python",
   "pygments_lexer": "ipython3",
   "version": "3.5.2"
  }
 },
 "nbformat": 4,
 "nbformat_minor": 1
}
