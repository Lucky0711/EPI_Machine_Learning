{
 "cells": [
  {
   "cell_type": "code",
   "execution_count": 1,
   "metadata": {},
   "outputs": [],
   "source": [
    "import pandas as pd\n",
    "import numpy as np\n",
    "import scipy as sp\n",
    "pd.options.display.max_rows = 400\n",
    "pd.options.display.max_columns = 400\n",
    "%matplotlib inline\n",
    "%load_ext autoreload\n",
    "%autoreload 2"
   ]
  },
  {
   "cell_type": "code",
   "execution_count": 2,
   "metadata": {
    "collapsed": true
   },
   "outputs": [],
   "source": [
    "from sklearn.pipeline import Pipeline\n",
    "from sklearn.preprocessing import MaxAbsScaler\n",
    "from sklearn.semi_supervised import LabelPropagation, LabelSpreading"
   ]
  },
  {
   "cell_type": "code",
   "execution_count": 1,
   "metadata": {},
   "outputs": [],
   "source": [
    "from creon.loadcreon import LoadCreon, load_search, save_search\n",
    "from creon.creonsklearn.pnuwrapper import PNUWrapper\n",
    "from creon.creonsklearn.nestedcross import NestedCV\n",
    "from creon.creonsklearn.jeffsearchcv import JeffRandomSearchCV, extract_score_grid\n",
    "from creon.creonsklearn.frankenscorer import FrankenScorer, extract_scores_from_nested"
   ]
  },
  {
   "cell_type": "code",
   "execution_count": 4,
   "metadata": {},
   "outputs": [],
   "source": [
    "path = \"C:\\Data\\\\010317\\membership14_final_0103.txt\"\n",
    "lc = LoadCreon(path)"
   ]
  },
  {
   "cell_type": "markdown",
   "metadata": {},
   "source": [
    "## Let's stratify 80/20 train test holdout for future use"
   ]
  },
  {
   "cell_type": "code",
   "execution_count": 5,
   "metadata": {},
   "outputs": [],
   "source": [
    "from sklearn.model_selection import train_test_split"
   ]
  },
  {
   "cell_type": "code",
   "execution_count": 24,
   "metadata": {},
   "outputs": [],
   "source": [
    "X_train, X_test, y_train, y_test = train_test_split(lc.X, lc.y, test_size=0.5, random_state=42, stratify=lc.y)"
   ]
  },
  {
   "cell_type": "code",
   "execution_count": 25,
   "metadata": {},
   "outputs": [
    {
     "data": {
      "text/plain": [
       "220348"
      ]
     },
     "execution_count": 25,
     "metadata": {},
     "output_type": "execute_result"
    }
   ],
   "source": [
    "len(X_test)"
   ]
  },
  {
   "cell_type": "markdown",
   "metadata": {},
   "source": [
    "## Label Propagation pipeline and model"
   ]
  },
  {
   "cell_type": "code",
   "execution_count": 26,
   "metadata": {},
   "outputs": [],
   "source": [
    "estimators = [('scaler', MaxAbsScaler()),\n",
    "              ('clf',LabelPropagation(kernel='knn', n_jobs=-1))]\n",
    "pipe = Pipeline(estimators)"
   ]
  },
  {
   "cell_type": "code",
   "execution_count": 27,
   "metadata": {},
   "outputs": [
    {
     "name": "stderr",
     "output_type": "stream",
     "text": [
      "C:\\Users\\jeffrey.gomberg\\AppData\\Local\\Continuum\\Anaconda3\\envs\\creon\\lib\\site-packages\\sklearn\\semi_supervised\\label_propagation.py:267: RuntimeWarning: invalid value encountered in true_divide\n",
      "  self.label_distributions_ /= normalizer\n"
     ]
    },
    {
     "data": {
      "text/plain": [
       "Pipeline(steps=[('scaler', MaxAbsScaler(copy=True)), ('clf', LabelPropagation(alpha=1, gamma=20, kernel='knn', max_iter=30, n_jobs=-1,\n",
       "         n_neighbors=7, tol=0.001))])"
      ]
     },
     "execution_count": 27,
     "metadata": {},
     "output_type": "execute_result"
    }
   ],
   "source": [
    "pipe.fit(X_test.values, y_test.values)"
   ]
  },
  {
   "cell_type": "code",
   "execution_count": 28,
   "metadata": {
    "scrolled": true
   },
   "outputs": [],
   "source": [
    "y_pred = pipe.predict(X_train.values)"
   ]
  },
  {
   "cell_type": "code",
   "execution_count": 31,
   "metadata": {},
   "outputs": [],
   "source": [
    "import creonmetrics as cm"
   ]
  },
  {
   "cell_type": "code",
   "execution_count": 32,
   "metadata": {},
   "outputs": [
    {
     "data": {
      "text/plain": [
       "(0.90526363906474983, 0.95411448397496013)"
      ]
     },
     "execution_count": 32,
     "metadata": {},
     "output_type": "execute_result"
    }
   ],
   "source": [
    "cm.pr_one_unlabeled(y_train.values, y_pred), cm.pu_score(y_train.values, y_pred)"
   ]
  },
  {
   "cell_type": "markdown",
   "metadata": {},
   "source": [
    "## Nested Cross grid search for pipline with PNU wrapper"
   ]
  },
  {
   "cell_type": "code",
   "execution_count": 11,
   "metadata": {},
   "outputs": [],
   "source": [
    "param_search = {'clf__base_estimator__C': sp.stats.expon(scale=4), \n",
    "               'clf__num_unlabeled': sp.stats.randint(low=1000, high=10000),\n",
    "               'clf__base_estimator__class_weight': [None, 'balanced'],\n",
    "               'clf__base_estimator__penalty': ['l1','l2'],\n",
    "               'clf__pu_learning': [True, False]}"
   ]
  },
  {
   "cell_type": "code",
   "execution_count": 13,
   "metadata": {
    "collapsed": true
   },
   "outputs": [],
   "source": [
    "jeffsearch = JeffRandomSearchCV(pipe, param_search, n_iter=20, \n",
    "                            scoring=FrankenScorer('assumed_f1beta10'), n_jobs=-1, cv=5, verbose=100)"
   ]
  },
  {
   "cell_type": "code",
   "execution_count": 14,
   "metadata": {},
   "outputs": [],
   "source": [
    "nested_cross = NestedCV(jeffsearch, scoring=FrankenScorer('assumed_f1beta10'), cv=5)"
   ]
  },
  {
   "cell_type": "code",
   "execution_count": 15,
   "metadata": {},
   "outputs": [
    {
     "name": "stdout",
     "output_type": "stream",
     "text": [
      "Pickling array (shape=(624,), dtype=uint32).\n",
      "Memmaping (shape=(352556, 288), dtype=int64) to new file C:\\Users\\JEFFRE~1.GOM\\AppData\\Local\\Temp\\joblib_memmaping_pool_4404_191771704\\4404-199370344-d47a562ce4fdf84a63c4c4a1b92e0b10.pkl\n",
      "Memmaping (shape=(352556,), dtype=int64) to new file C:\\Users\\JEFFRE~1.GOM\\AppData\\Local\\Temp\\joblib_memmaping_pool_4404_191771704\\4404-199370344-37e9d47f2d553d0c8c1a28b850ef16f7.pkl\n",
      "Memmaping (shape=(282044,), dtype=int32) to new file C:\\Users\\JEFFRE~1.GOM\\AppData\\Local\\Temp\\joblib_memmaping_pool_4404_191771704\\4404-199370344-c9c654a2f7eb2665bd3c539dafc8097f.pkl\n",
      "Pickling array (shape=(70512,), dtype=int32).\n",
      "Pickling array (shape=(624,), dtype=uint32).\n",
      "Memmaping (shape=(352556, 288), dtype=int64) to old file C:\\Users\\JEFFRE~1.GOM\\AppData\\Local\\Temp\\joblib_memmaping_pool_4404_191771704\\4404-199370344-d47a562ce4fdf84a63c4c4a1b92e0b10.pkl\n",
      "Memmaping (shape=(352556,), dtype=int64) to old file C:\\Users\\JEFFRE~1.GOM\\AppData\\Local\\Temp\\joblib_memmaping_pool_4404_191771704\\4404-199370344-37e9d47f2d553d0c8c1a28b850ef16f7.pkl\n",
      "Memmaping (shape=(282044,), dtype=int32) to new file C:\\Users\\JEFFRE~1.GOM\\AppData\\Local\\Temp\\joblib_memmaping_pool_4404_191771704\\4404-199370344-9d68bb4ff57a66ba212c10397f5911c1.pkl\n",
      "Pickling array (shape=(70512,), dtype=int32).\n",
      "Pickling array (shape=(624,), dtype=uint32).\n",
      "Memmaping (shape=(352556, 288), dtype=int64) to old file C:\\Users\\JEFFRE~1.GOM\\AppData\\Local\\Temp\\joblib_memmaping_pool_4404_191771704\\4404-199370344-d47a562ce4fdf84a63c4c4a1b92e0b10.pkl\n",
      "Memmaping (shape=(352556,), dtype=int64) to old file C:\\Users\\JEFFRE~1.GOM\\AppData\\Local\\Temp\\joblib_memmaping_pool_4404_191771704\\4404-199370344-37e9d47f2d553d0c8c1a28b850ef16f7.pkl\n",
      "Memmaping (shape=(282045,), dtype=int32) to new file C:\\Users\\JEFFRE~1.GOM\\AppData\\Local\\Temp\\joblib_memmaping_pool_4404_191771704\\4404-199370344-6097f0888cd889868dab25b51665e462.pkl\n",
      "Pickling array (shape=(70511,), dtype=int32).\n",
      "Pickling array (shape=(624,), dtype=uint32).\n",
      "Memmaping (shape=(352556, 288), dtype=int64) to old file C:\\Users\\JEFFRE~1.GOM\\AppData\\Local\\Temp\\joblib_memmaping_pool_4404_191771704\\4404-199370344-d47a562ce4fdf84a63c4c4a1b92e0b10.pkl\n",
      "Memmaping (shape=(352556,), dtype=int64) to old file C:\\Users\\JEFFRE~1.GOM\\AppData\\Local\\Temp\\joblib_memmaping_pool_4404_191771704\\4404-199370344-37e9d47f2d553d0c8c1a28b850ef16f7.pkl\n",
      "Memmaping (shape=(282045,), dtype=int32) to new file C:\\Users\\JEFFRE~1.GOM\\AppData\\Local\\Temp\\joblib_memmaping_pool_4404_191771704\\4404-199370344-76e611c15899f98a4ef078d5bd7c2e1e.pkl\n",
      "Pickling array (shape=(70511,), dtype=int32).\n",
      "Pickling array (shape=(624,), dtype=uint32).\n",
      "Memmaping (shape=(352556, 288), dtype=int64) to old file C:\\Users\\JEFFRE~1.GOM\\AppData\\Local\\Temp\\joblib_memmaping_pool_4404_191771704\\4404-199370344-d47a562ce4fdf84a63c4c4a1b92e0b10.pkl\n",
      "Memmaping (shape=(352556,), dtype=int64) to old file C:\\Users\\JEFFRE~1.GOM\\AppData\\Local\\Temp\\joblib_memmaping_pool_4404_191771704\\4404-199370344-37e9d47f2d553d0c8c1a28b850ef16f7.pkl\n",
      "Memmaping (shape=(282046,), dtype=int32) to new file C:\\Users\\JEFFRE~1.GOM\\AppData\\Local\\Temp\\joblib_memmaping_pool_4404_191771704\\4404-199370344-ddab571a0f2a1f158dd18cfa4816996e.pkl\n",
      "Pickling array (shape=(70510,), dtype=int32).\n",
      "[Parallel(n_jobs=-1)]: Done   1 tasks      | elapsed: 12.7min\n",
      "[Parallel(n_jobs=-1)]: Done   2 out of   5 | elapsed: 12.9min remaining: 19.4min\n",
      "[Parallel(n_jobs=-1)]: Done   3 out of   5 | elapsed: 13.1min remaining:  8.7min\n",
      "[Parallel(n_jobs=-1)]: Done   5 out of   5 | elapsed: 22.7min remaining:    0.0s\n",
      "[Parallel(n_jobs=-1)]: Done   5 out of   5 | elapsed: 22.7min finished\n"
     ]
    },
    {
     "data": {
      "text/plain": [
       "(0.55428519162169576,\n",
       " 0.57867621577913819,\n",
       " 0.53450171821305836,\n",
       " 0.55285273008085756,\n",
       " 0.54992157741429537)"
      ]
     },
     "execution_count": 15,
     "metadata": {},
     "output_type": "execute_result"
    }
   ],
   "source": [
    "nested_cross.score(X_train.values, y_train.values, n_jobs=-1, verbose=100)"
   ]
  },
  {
   "cell_type": "code",
   "execution_count": 16,
   "metadata": {},
   "outputs": [
    {
     "data": {
      "text/plain": [
       "labeled_brier                                         0.299873\n",
       "assumed_brier                                         0.129452\n",
       "tn_confusion_matrix_un                                 59952.8\n",
       "labeled_brier_pos                                     0.170663\n",
       "labeled_roc_auc                                       0.557804\n",
       "assumed_f1beta10                                      0.554047\n",
       "labeled_f1                                            0.718223\n",
       "labeled_prec                                          0.736439\n",
       "tp_confusion_matrix_lab                                  240.6\n",
       "fp_confusion_matrix_lab                                  104.4\n",
       "fp_confusion_matrix_un                                 10224.4\n",
       "labeled_avg_prec                                      0.820621\n",
       "fn_confusion_matrix_un                                    93.4\n",
       "labeled_recall                                        0.720359\n",
       "pu_score                                               3.50494\n",
       "confusion_matrix_lab            [[68.0, 104.4], [93.4, 240.6]]\n",
       "confusion_matrix_un        [[59952.8, 10224.4], [93.4, 240.6]]\n",
       "labeled_acc                                           0.609489\n",
       "tn_confusion_matrix_lab                                     68\n",
       "labeled_brier_neg                                     0.549742\n",
       "fn_confusion_matrix_lab                                   93.4\n",
       "assumed_f1                                           0.0446375\n",
       "pr_one_unlabeled                                      0.144562\n",
       "tp_confusion_matrix_un                                   240.6\n",
       "assumed_brier_neg                                     0.129256\n",
       "dtype: object"
      ]
     },
     "execution_count": 16,
     "metadata": {},
     "output_type": "execute_result"
    }
   ],
   "source": [
    "extract_scores_from_nested(nested_cross.test_score_datas_).mean()"
   ]
  },
  {
   "cell_type": "code",
   "execution_count": 18,
   "metadata": {},
   "outputs": [
    {
     "data": {
      "text/plain": [
       "[{'clf__base_estimator__C': 13.376507992043008,\n",
       "  'clf__base_estimator__class_weight': 'balanced',\n",
       "  'clf__base_estimator__penalty': 'l1',\n",
       "  'clf__num_unlabeled': 4362,\n",
       "  'clf__pu_learning': True},\n",
       " {'clf__base_estimator__C': 9.2583371272535455,\n",
       "  'clf__base_estimator__class_weight': 'balanced',\n",
       "  'clf__base_estimator__penalty': 'l1',\n",
       "  'clf__num_unlabeled': 5620,\n",
       "  'clf__pu_learning': True},\n",
       " {'clf__base_estimator__C': 5.409346407713377,\n",
       "  'clf__base_estimator__class_weight': 'balanced',\n",
       "  'clf__base_estimator__penalty': 'l1',\n",
       "  'clf__num_unlabeled': 3618,\n",
       "  'clf__pu_learning': True},\n",
       " {'clf__base_estimator__C': 4.8954480062572152,\n",
       "  'clf__base_estimator__class_weight': 'balanced',\n",
       "  'clf__base_estimator__penalty': 'l1',\n",
       "  'clf__num_unlabeled': 7026,\n",
       "  'clf__pu_learning': False},\n",
       " {'clf__base_estimator__C': 1.3738660955586304,\n",
       "  'clf__base_estimator__class_weight': 'balanced',\n",
       "  'clf__base_estimator__penalty': 'l1',\n",
       "  'clf__num_unlabeled': 7233,\n",
       "  'clf__pu_learning': False}]"
      ]
     },
     "execution_count": 18,
     "metadata": {},
     "output_type": "execute_result"
    }
   ],
   "source": [
    "[est.best_params_ for est in nested_cross.estimators_]"
   ]
  },
  {
   "cell_type": "code",
   "execution_count": null,
   "metadata": {
    "collapsed": true
   },
   "outputs": [],
   "source": []
  }
 ],
 "metadata": {
  "anaconda-cloud": {},
  "kernelspec": {
   "display_name": "Python 3",
   "language": "python",
   "name": "python3"
  },
  "language_info": {
   "codemirror_mode": {
    "name": "ipython",
    "version": 3
   },
   "file_extension": ".py",
   "mimetype": "text/x-python",
   "name": "python",
   "nbconvert_exporter": "python",
   "pygments_lexer": "ipython3",
   "version": "3.6.1"
  }
 },
 "nbformat": 4,
 "nbformat_minor": 2
}
