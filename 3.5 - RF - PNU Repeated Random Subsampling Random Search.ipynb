{
 "cells": [
  {
   "cell_type": "markdown",
   "metadata": {},
   "source": [
    "# Setup, matplotlib inline, automatically reload libraries on every evaluation"
   ]
  },
  {
   "cell_type": "code",
   "execution_count": 1,
   "metadata": {
    "collapsed": true
   },
   "outputs": [],
   "source": [
    "import pandas as pd\n",
    "import numpy as np\n",
    "import scipy as sp\n",
    "pd.options.display.max_rows = 400\n",
    "pd.options.display.max_columns = 400\n",
    "%matplotlib inline\n",
    "%load_ext autoreload\n",
    "%autoreload 2"
   ]
  },
  {
   "cell_type": "code",
   "execution_count": 2,
   "metadata": {
    "collapsed": true
   },
   "outputs": [],
   "source": [
    "from epiml.loadepiml import LoadEpiml, load_search, save_search\n",
    "from epiml.epimlsklearn.epimlmetrics import pu_scorer, prior_squared_error_scorer_015, brier_score_labeled_loss_scorer, \\\n",
    "    f1_assumed_scorer, f1_labeled_scorer, report_metrics, f1_assumed_beta10_scorer, pu_mix_assumed_f1beta10_scorer\n",
    "from epiml.semisuperhelper import SemiSupervisedHelper\n",
    "from epiml.epimlsklearn.pnuwrapper import PNUWrapper\n",
    "from epiml.epimlsklearn.jsearchcv import JRandomSearchCV, extract_score_grid\n",
    "from epiml.epimlsklearn.nestedcross import NestedCV\n",
    "from epiml.epimlsklearn.frankenscorer import FrankenScorer, extract_scores_from_nested\n",
    "from epiml.epimlsklearn.repeatedsampling import RepeatedRandomSubSampler"
   ]
  },
  {
   "cell_type": "code",
   "execution_count": 3,
   "metadata": {
    "collapsed": true
   },
   "outputs": [],
   "source": [
    "path = \"C:\\Data\\membership14_final_0103.txt\"\n",
    "lc = LoadEpiml(path)"
   ]
  },
  {
   "cell_type": "code",
   "execution_count": 4,
   "metadata": {
    "collapsed": true
   },
   "outputs": [],
   "source": [
    "from sklearn.model_selection import train_test_split\n",
    "from sklearn.ensemble import RandomForestClassifier, ExtraTreesClassifier\n",
    "from sklearn.base import clone"
   ]
  },
  {
   "cell_type": "code",
   "execution_count": 5,
   "metadata": {
    "collapsed": true
   },
   "outputs": [],
   "source": [
    "X_train, X_test, y_train, y_test = train_test_split(lc.X, lc.y, test_size=0.2, random_state=771, stratify=lc.y)"
   ]
  },
  {
   "cell_type": "markdown",
   "metadata": {},
   "source": [
    "# FIRST REPEATED SUB SAMPLER"
   ]
  },
  {
   "cell_type": "markdown",
   "metadata": {},
   "source": [
    "## Set up PNU Wrapper with Random Forest, then JSearchCV, then NestedCV"
   ]
  },
  {
   "cell_type": "code",
   "execution_count": 6,
   "metadata": {
    "collapsed": true
   },
   "outputs": [],
   "source": [
    "rf = RandomForestClassifier()\n",
    "et = ExtraTreesClassifier()\n",
    "rep = RepeatedRandomSubSampler(base_estimator=rf, verbose=1)\n",
    "pnu = PNUWrapper(base_estimator=rep, num_unlabeled=1.0)"
   ]
  },
  {
   "cell_type": "markdown",
   "metadata": {},
   "source": [
    "## Set up randomized search parameters"
   ]
  },
  {
   "cell_type": "code",
   "execution_count": 7,
   "metadata": {
    "collapsed": true
   },
   "outputs": [],
   "source": [
    "rf_param_search = {'base_estimator__base_estimator':[rf, et],\n",
    " 'base_estimator__base_estimator__bootstrap': [True, False],\n",
    " 'base_estimator__base_estimator__class_weight': [None,'balanced','balanced_subsample'],\n",
    " 'base_estimator__base_estimator__criterion': ['gini','entropy'],\n",
    " 'base_estimator__base_estimator__max_depth': [None] + list(range(2,100)),\n",
    " 'base_estimator__base_estimator__max_features': ['sqrt','log2',None] + list(range(5,100)),\n",
    " 'base_estimator__base_estimator__min_samples_leaf': [1,2,3,4,5,6,7,8,9,10,15,20,25,30,35,40,45,50,75,100],\n",
    " 'base_estimator__base_estimator__min_samples_split':[2,0.005,0.01,0.015,0.02,0.025,0.03,0.035,0.04,\n",
    "                                                        0.045,0.05,0.07,0.09,0.1,0.12,0.15,0.17,0.2,0.25],\n",
    " 'base_estimator__base_estimator__n_estimators': sp.stats.randint(low=10, high=300),\n",
    " 'base_estimator__sample_imbalance': sp.stats.uniform(loc=0.1, scale=0.9),\n",
    " 'pu_learning': [True, False]\n",
    "                  }"
   ]
  },
  {
   "cell_type": "markdown",
   "metadata": {},
   "source": [
    "### notice random_state is set in jsearch, this is so that the same random parameters are searched for each outer fold, sort of like grid search"
   ]
  },
  {
   "cell_type": "code",
   "execution_count": 8,
   "metadata": {
    "collapsed": true
   },
   "outputs": [],
   "source": [
    "jsearch = JRandomSearchCV(pnu, rf_param_search, n_iter=60, scoring=FrankenScorer(decision_score='assumed_f1beta10'),\n",
    "                                n_jobs=-1, cv=3, verbose=1, pre_dispatch=8, random_state=77)"
   ]
  },
  {
   "cell_type": "markdown",
   "metadata": {},
   "source": [
    "#### 3x3 (x60) nested cross validation"
   ]
  },
  {
   "cell_type": "code",
   "execution_count": 11,
   "metadata": {
    "collapsed": true
   },
   "outputs": [],
   "source": [
    "nested_cross = NestedCV(jsearch, scoring=FrankenScorer(decision_score='assumed_f1beta10'), cv=3, random_state=77)"
   ]
  },
  {
   "cell_type": "markdown",
   "metadata": {},
   "source": [
    "## Score the nested cross"
   ]
  },
  {
   "cell_type": "code",
   "execution_count": 12,
   "metadata": {
    "collapsed": false,
    "scrolled": true
   },
   "outputs": [
    {
     "name": "stdout",
     "output_type": "stream",
     "text": [
      "[CV]  ................................................................\n",
      "Fitting 3 folds for each of 60 candidates, totalling 180 fits\n"
     ]
    },
    {
     "name": "stderr",
     "output_type": "stream",
     "text": [
      "[Parallel(n_jobs=-1)]: Done  42 tasks      | elapsed: 34.0min\n",
      "[Parallel(n_jobs=-1)]: Done 180 out of 180 | elapsed: 167.2min finished\n"
     ]
    },
    {
     "name": "stdout",
     "output_type": "stream",
     "text": [
      "generating 163 samples of indices to use to train multiple estimators, sized 2556 elements with last being 1270 elements\n"
     ]
    },
    {
     "name": "stderr",
     "output_type": "stream",
     "text": [
      "[Parallel(n_jobs=1)]: Done 163 out of 163 | elapsed:   11.3s finished\n",
      "[Parallel(n_jobs=1)]: Done 163 out of 163 | elapsed:   47.1s finished\n",
      "[Parallel(n_jobs=1)]: Done 163 out of 163 | elapsed:   47.2s finished\n",
      "[Parallel(n_jobs=1)]: Done 163 out of 163 | elapsed:  1.5min finished\n",
      "[Parallel(n_jobs=1)]: Done 163 out of 163 | elapsed:  1.5min finished\n"
     ]
    },
    {
     "name": "stdout",
     "output_type": "stream",
     "text": [
      "[CV]  , score=0.720898174243 score_data={'assumed_brier_neg': 0.060216497411651609, 'labeled_brier_neg': 0.17186147389815198, 'labeled_recall': 0.83662477558348292, 'pu_mix_assumed_f1beta10': 80.668985978456618, 'pu_score': 8.579168554121372, 'pr_one_unlabeled': 0.077643025498178697, 'assumed_f1beta10': 0.72089817424335245, 'confusion_matrix_un': array([[107841,   9122],\n",
      "       [    91,    466]]), 'assumed_brier': 0.060556496729516927, 'labeled_f1': 0.85819521178637204, 'labeled_brier': 0.14555433535679457, 'confusion_matrix_lab': array([[225,  63],\n",
      "       [ 91, 466]]), 'labeled_brier_pos': 0.13195208059932428, 'labeled_roc_auc': 0.8089373877917414, 'labeled_acc': 0.81775147928994085, 'SCORE': 0.72089817424335245, 'labeled_prec': 0.88090737240075612, 'labeled_avg_prec': 0.91261222783827345, 'assumed_f1': 0.09186791522917695}, total=169.1min\n",
      "[Parallel(n_jobs=1)]: Done   1 out of   1 | elapsed: 172.3min remaining:    0.0s\n",
      "[CV]  ................................................................\n",
      "Fitting 3 folds for each of 60 candidates, totalling 180 fits\n"
     ]
    },
    {
     "name": "stderr",
     "output_type": "stream",
     "text": [
      "[Parallel(n_jobs=-1)]: Done  42 tasks      | elapsed: 46.7min\n",
      "[Parallel(n_jobs=-1)]: Done 180 out of 180 | elapsed: 245.4min finished\n"
     ]
    },
    {
     "name": "stdout",
     "output_type": "stream",
     "text": [
      "generating 137 samples of indices to use to train multiple estimators, sized 2830 elements with last being 1525 elements\n"
     ]
    },
    {
     "name": "stderr",
     "output_type": "stream",
     "text": [
      "[Parallel(n_jobs=1)]: Done 137 out of 137 | elapsed:  1.6min finished\n",
      "[Parallel(n_jobs=1)]: Done 137 out of 137 | elapsed:  5.9min finished\n",
      "[Parallel(n_jobs=1)]: Done 137 out of 137 | elapsed:  5.8min finished\n",
      "[Parallel(n_jobs=1)]: Done 137 out of 137 | elapsed: 11.8min finished\n",
      "[Parallel(n_jobs=1)]: Done 137 out of 137 | elapsed: 11.9min finished\n"
     ]
    },
    {
     "name": "stdout",
     "output_type": "stream",
     "text": [
      "[CV]  , score=0.69584506829 score_data={'assumed_brier_neg': 0.076135022230612762, 'labeled_brier_neg': 0.20617212421030082, 'labeled_recall': 0.81687612208258531, 'pu_mix_assumed_f1beta10': 77.167068597286587, 'pu_score': 7.582561768298973, 'pr_one_unlabeled': 0.084156845939575745, 'assumed_f1beta10': 0.69584506828987613, 'confusion_matrix_un': array([[107075,   9887],\n",
      "       [   102,    455]]), 'assumed_brier': 0.07658313657131971, 'labeled_f1': 0.84259259259259267, 'labeled_brier': 0.18274947421368148, 'confusion_matrix_lab': array([[219,  68],\n",
      "       [102, 455]]), 'labeled_brier_pos': 0.17068071200716486, 'labeled_roc_auc': 0.7899711620865888, 'labeled_acc': 0.79857819905213268, 'SCORE': 0.69584506828987613, 'labeled_prec': 0.86998087954110903, 'labeled_avg_prec': 0.90385504109620729, 'assumed_f1': 0.083493898522800272}, total=258.8min\n",
      "[Parallel(n_jobs=1)]: Done   2 out of   2 | elapsed: 454.9min remaining:    0.0s\n",
      "[CV]  ................................................................\n",
      "Fitting 3 folds for each of 60 candidates, totalling 180 fits\n"
     ]
    },
    {
     "name": "stderr",
     "output_type": "stream",
     "text": [
      "[Parallel(n_jobs=-1)]: Done  42 tasks      | elapsed: 96.9min\n",
      "[Parallel(n_jobs=-1)]: Done 180 out of 180 | elapsed: 422.1min finished\n"
     ]
    },
    {
     "name": "stdout",
     "output_type": "stream",
     "text": [
      "generating 93 samples of indices to use to train multiple estimators, sized 3642 elements with last being 1888 elements\n"
     ]
    },
    {
     "name": "stderr",
     "output_type": "stream",
     "text": [
      "[Parallel(n_jobs=1)]: Done  93 out of  93 | elapsed:    8.9s finished\n",
      "[Parallel(n_jobs=1)]: Done  93 out of  93 | elapsed:   27.1s finished\n",
      "[Parallel(n_jobs=1)]: Done  93 out of  93 | elapsed:   26.9s finished\n",
      "[Parallel(n_jobs=1)]: Done  93 out of  93 | elapsed:   54.0s finished\n",
      "[Parallel(n_jobs=1)]: Done  93 out of  93 | elapsed:   53.0s finished\n"
     ]
    },
    {
     "name": "stdout",
     "output_type": "stream",
     "text": [
      "[CV]  , score=0.714747090952 score_data={'assumed_brier_neg': 0.046902410237535136, 'labeled_brier_neg': 0.10768520499237993, 'labeled_recall': 0.8039568345323741, 'pu_mix_assumed_f1beta10': 81.515252707591628, 'pu_score': 10.040543612364836, 'pr_one_unlabeled': 0.060716183554176593, 'assumed_f1beta10': 0.71474709095226785, 'confusion_matrix_un': array([[109843,   7118],\n",
      "       [   109,    447]]), 'assumed_brier': 0.047506686985623665, 'labeled_f1': 0.86210221793635489, 'labeled_brier': 0.1518341453499448, 'confusion_matrix_lab': array([[253,  34],\n",
      "       [109, 447]]), 'labeled_brier_pos': 0.17462325664962308, 'labeled_roc_auc': 0.84274496778883512, 'labeled_acc': 0.83036773428232502, 'SCORE': 0.71474709095226785, 'labeled_prec': 0.92931392931392931, 'labeled_avg_prec': 0.93128544123513279, 'assumed_f1': 0.11008496490579979}, total=423.3min\n",
      "[Parallel(n_jobs=1)]: Done   3 out of   3 | elapsed: 880.0min remaining:    0.0s\n",
      "[Parallel(n_jobs=1)]: Done   3 out of   3 | elapsed: 880.0min finished\n"
     ]
    }
   ],
   "source": [
    "scores = nested_cross.score(X_train.values, y=y_train.values, verbose=100, pre_dispatch=8)"
   ]
  },
  {
   "cell_type": "markdown",
   "metadata": {},
   "source": [
    "## The scores of the 3 folds of the outer loop"
   ]
  },
  {
   "cell_type": "code",
   "execution_count": 13,
   "metadata": {
    "collapsed": false
   },
   "outputs": [
    {
     "data": {
      "text/plain": [
       "(0.72089817424335245, 0.69584506828987613, 0.71474709095226785)"
      ]
     },
     "execution_count": 13,
     "metadata": {},
     "output_type": "execute_result"
    }
   ],
   "source": [
    "scores"
   ]
  },
  {
   "cell_type": "code",
   "execution_count": 14,
   "metadata": {
    "collapsed": true
   },
   "outputs": [],
   "source": [
    "save_search(nested_cross, './res/nested_cross_repreated_rf_large_20170131.pkl')"
   ]
  },
  {
   "cell_type": "code",
   "execution_count": 15,
   "metadata": {
    "collapsed": true
   },
   "outputs": [],
   "source": [
    "nested_cross = load_search('./res/nested_cross_repreated_rf_large_20170131.pkl')"
   ]
  },
  {
   "cell_type": "code",
   "execution_count": 16,
   "metadata": {
    "collapsed": false
   },
   "outputs": [
    {
     "data": {
      "text/plain": [
       "assumed_brier                                                    0.0615488\n",
       "assumed_brier_neg                                                0.0610846\n",
       "assumed_f1                                                       0.0951489\n",
       "assumed_f1beta10                                                  0.710497\n",
       "confusion_matrix_lab       [[232.333333333, 55.0], [100.666666667, 456.0]]\n",
       "confusion_matrix_un           [[108253.0, 8709.0], [100.666666667, 456.0]]\n",
       "fn_confusion_matrix_lab                                            100.667\n",
       "fn_confusion_matrix_un                                             100.667\n",
       "fp_confusion_matrix_lab                                                 55\n",
       "fp_confusion_matrix_un                                                8709\n",
       "labeled_acc                                                       0.815566\n",
       "labeled_avg_prec                                                  0.915918\n",
       "labeled_brier                                                     0.160046\n",
       "labeled_brier_neg                                                 0.161906\n",
       "labeled_brier_pos                                                 0.159085\n",
       "labeled_f1                                                        0.854297\n",
       "labeled_prec                                                      0.893401\n",
       "labeled_recall                                                    0.819153\n",
       "labeled_roc_auc                                                   0.813885\n",
       "pr_one_unlabeled                                                  0.074172\n",
       "pu_mix_assumed_f1beta10                                            79.7838\n",
       "pu_score                                                           8.73409\n",
       "tn_confusion_matrix_lab                                            232.333\n",
       "tn_confusion_matrix_un                                              108253\n",
       "tp_confusion_matrix_lab                                                456\n",
       "tp_confusion_matrix_un                                                 456\n",
       "dtype: object"
      ]
     },
     "execution_count": 16,
     "metadata": {},
     "output_type": "execute_result"
    }
   ],
   "source": [
    "extract_scores_from_nested(nested_cross.test_score_datas_).mean().sort_index()"
   ]
  },
  {
   "cell_type": "code",
   "execution_count": 17,
   "metadata": {
    "collapsed": false
   },
   "outputs": [
    {
     "data": {
      "text/plain": [
       "[12, 57, 34]"
      ]
     },
     "execution_count": 17,
     "metadata": {},
     "output_type": "execute_result"
    }
   ],
   "source": [
    "[est.best_index_ for est in nested_cross.estimators_]"
   ]
  },
  {
   "cell_type": "code",
   "execution_count": 18,
   "metadata": {
    "collapsed": false,
    "scrolled": true
   },
   "outputs": [
    {
     "data": {
      "text/plain": [
       "mean_pu_score_test             9.819111\n",
       "mean_assumed_f1beta10_test     0.670147\n",
       "optimize_score                76.833783\n",
       "mean_pr_one_unlabeled_test     0.053366\n",
       "Name: 34, dtype: float64"
      ]
     },
     "execution_count": 18,
     "metadata": {},
     "output_type": "execute_result"
    }
   ],
   "source": [
    "t = extract_score_grid(nested_cross.estimators_[0])\n",
    "t['optimize_score'] = t.mean_pu_score_test + (t.mean_assumed_f1beta10_test * 100)\n",
    "t[['mean_pu_score_test','mean_assumed_f1beta10_test','optimize_score','mean_pr_one_unlabeled_test']].iloc[34]"
   ]
  },
  {
   "cell_type": "markdown",
   "metadata": {},
   "source": [
    "## Let's rescore for estimator 34, looks a little better than 57 based on PU + f1beta10"
   ]
  },
  {
   "cell_type": "code",
   "execution_count": 19,
   "metadata": {
    "collapsed": false
   },
   "outputs": [
    {
     "data": {
      "text/plain": [
       "PNUWrapper(base_estimator=RepeatedRandomSubSampler(base_estimator=RandomForestClassifier(bootstrap=True, class_weight=None, criterion='gini',\n",
       "            max_depth=64, max_features='auto', max_leaf_nodes=None,\n",
       "            min_impurity_split=1e-07, min_samples_leaf=1,\n",
       "            min_samples_split=2, min_weight...      random_state=83, sample_imbalance=0.4406340820472374,\n",
       "             verbose=1, voting='thresh'),\n",
       "      num_unlabeled=1.0, pu_learning=True, random_state=None,\n",
       "      threshold_set_pct=None)"
      ]
     },
     "execution_count": 19,
     "metadata": {},
     "output_type": "execute_result"
    }
   ],
   "source": [
    "rf = RandomForestClassifier()\n",
    "et = ExtraTreesClassifier()\n",
    "rep_test = RepeatedRandomSubSampler(base_estimator=rf, voting='thresh', verbose=1, random_state=83)\n",
    "pnu_test = PNUWrapper(base_estimator=rep_test, num_unlabeled=1.0)\n",
    "pnu_test.set_params(**{'base_estimator__base_estimator': RandomForestClassifier(bootstrap=True, class_weight=None, criterion='gini',\n",
    "              max_depth=64, max_features='auto', max_leaf_nodes=None,\n",
    "              min_impurity_split=1e-07, min_samples_leaf=1,\n",
    "              min_samples_split=2, min_weight_fraction_leaf=0.0,\n",
    "              n_estimators=10, n_jobs=-1, oob_score=False, random_state=324,\n",
    "              verbose=0, warm_start=False),\n",
    "  'base_estimator__base_estimator__bootstrap': False,\n",
    "  'base_estimator__base_estimator__class_weight': None,\n",
    "  'base_estimator__base_estimator__criterion': 'gini',\n",
    "  'base_estimator__base_estimator__max_depth': 64,\n",
    "  'base_estimator__base_estimator__max_features': 87,\n",
    "  'base_estimator__base_estimator__min_samples_leaf': 8,\n",
    "  'base_estimator__base_estimator__min_samples_split': 0.01,\n",
    "  'base_estimator__base_estimator__n_estimators': 79,\n",
    "  'base_estimator__sample_imbalance': 0.44063408204723742,\n",
    "  'pu_learning': True})"
   ]
  },
  {
   "cell_type": "code",
   "execution_count": 21,
   "metadata": {
    "collapsed": false
   },
   "outputs": [],
   "source": [
    "from epiml.epimlsklearn.nestedcross import rerun_nested_for_estimator"
   ]
  },
  {
   "cell_type": "code",
   "execution_count": 22,
   "metadata": {
    "collapsed": true
   },
   "outputs": [],
   "source": [
    "nested_cross = rerun_nested_for_estimator(nested_cross, pnu_test, X_train.values, y_train.values, n_jobs=-1)"
   ]
  },
  {
   "cell_type": "code",
   "execution_count": 23,
   "metadata": {
    "collapsed": false
   },
   "outputs": [
    {
     "data": {
      "text/plain": [
       "assumed_brier                                                      0.0540218\n",
       "assumed_brier_neg                                                  0.0534038\n",
       "assumed_f1                                                          0.113748\n",
       "assumed_f1beta10                                                    0.712211\n",
       "confusion_matrix_lab       [[240.666666667, 46.6666666667], [113.0, 443.6...\n",
       "confusion_matrix_un        [[110157.666667, 6804.33333333], [113.0, 443.6...\n",
       "fn_confusion_matrix_lab                                                  113\n",
       "fn_confusion_matrix_un                                                   113\n",
       "fp_confusion_matrix_lab                                              46.6667\n",
       "fp_confusion_matrix_un                                               6804.33\n",
       "labeled_acc                                                         0.810822\n",
       "labeled_avg_prec                                                    0.918036\n",
       "labeled_brier                                                        0.16635\n",
       "labeled_brier_neg                                                   0.132423\n",
       "labeled_brier_pos                                                    0.18386\n",
       "labeled_f1                                                          0.847466\n",
       "labeled_prec                                                        0.905178\n",
       "labeled_recall                                                      0.796999\n",
       "labeled_roc_auc                                                      0.81731\n",
       "pr_one_unlabeled                                                   0.0579189\n",
       "pu_mix_assumed_f1beta10                                              81.5255\n",
       "pu_score                                                             10.3044\n",
       "tn_confusion_matrix_lab                                              240.667\n",
       "tn_confusion_matrix_un                                                110158\n",
       "tp_confusion_matrix_lab                                              443.667\n",
       "tp_confusion_matrix_un                                               443.667\n",
       "dtype: object"
      ]
     },
     "execution_count": 23,
     "metadata": {},
     "output_type": "execute_result"
    }
   ],
   "source": [
    "extract_scores_from_nested(nested_cross.test_score_datas_).mean().sort_index()"
   ]
  },
  {
   "cell_type": "code",
   "execution_count": 24,
   "metadata": {
    "collapsed": false
   },
   "outputs": [
    {
     "data": {
      "text/plain": [
       "assumed_brier                0.000632\n",
       "assumed_brier_neg            0.000675\n",
       "assumed_f1                   0.002770\n",
       "assumed_f1beta10             0.013161\n",
       "fn_confusion_matrix_lab      9.539392\n",
       "fn_confusion_matrix_un       9.539392\n",
       "fp_confusion_matrix_lab      9.073772\n",
       "fp_confusion_matrix_un     277.822485\n",
       "labeled_acc                  0.006510\n",
       "labeled_avg_prec             0.005631\n",
       "labeled_brier                0.005533\n",
       "labeled_brier_neg            0.010273\n",
       "labeled_brier_pos            0.008384\n",
       "labeled_f1                   0.006004\n",
       "labeled_prec                 0.015240\n",
       "labeled_recall               0.017248\n",
       "labeled_roc_auc              0.009793\n",
       "pr_one_unlabeled             0.002304\n",
       "pu_mix_assumed_f1beta10      1.512160\n",
       "pu_score                     0.301345\n",
       "tn_confusion_matrix_lab      8.621678\n",
       "tn_confusion_matrix_un     276.861578\n",
       "tp_confusion_matrix_lab      9.865766\n",
       "tp_confusion_matrix_un       9.865766\n",
       "dtype: float64"
      ]
     },
     "execution_count": 24,
     "metadata": {},
     "output_type": "execute_result"
    }
   ],
   "source": [
    "extract_scores_from_nested(nested_cross.test_score_datas_).std().sort_index()"
   ]
  },
  {
   "cell_type": "markdown",
   "metadata": {},
   "source": [
    "# Let's dive in and see the parameters for one of the best models"
   ]
  },
  {
   "cell_type": "code",
   "execution_count": 25,
   "metadata": {
    "collapsed": false,
    "scrolled": false
   },
   "outputs": [
    {
     "data": {
      "text/plain": [
       "[{'base_estimator__base_estimator': RandomForestClassifier(bootstrap=True, class_weight=None, criterion='gini',\n",
       "              max_depth=64, max_features='auto', max_leaf_nodes=None,\n",
       "              min_impurity_split=1e-07, min_samples_leaf=8,\n",
       "              min_samples_split=0.01, min_weight_fraction_leaf=0.0,\n",
       "              n_estimators=10, n_jobs=1, oob_score=False, random_state=None,\n",
       "              verbose=0, warm_start=False),\n",
       "  'base_estimator__base_estimator__bootstrap': False,\n",
       "  'base_estimator__base_estimator__class_weight': None,\n",
       "  'base_estimator__base_estimator__criterion': 'gini',\n",
       "  'base_estimator__base_estimator__max_depth': 64,\n",
       "  'base_estimator__base_estimator__max_features': 87,\n",
       "  'base_estimator__base_estimator__min_samples_leaf': 8,\n",
       "  'base_estimator__base_estimator__min_samples_split': 0.01,\n",
       "  'base_estimator__base_estimator__n_estimators': 79,\n",
       "  'base_estimator__sample_imbalance': 0.44063408204723742,\n",
       "  'pu_learning': True},\n",
       " {'base_estimator__base_estimator': RandomForestClassifier(bootstrap=True, class_weight=None, criterion='gini',\n",
       "              max_depth=None, max_features='auto', max_leaf_nodes=None,\n",
       "              min_impurity_split=1e-07, min_samples_leaf=1,\n",
       "              min_samples_split=2, min_weight_fraction_leaf=0.0,\n",
       "              n_estimators=10, n_jobs=1, oob_score=False, random_state=None,\n",
       "              verbose=0, warm_start=False),\n",
       "  'base_estimator__base_estimator__bootstrap': False,\n",
       "  'base_estimator__base_estimator__class_weight': None,\n",
       "  'base_estimator__base_estimator__criterion': 'gini',\n",
       "  'base_estimator__base_estimator__max_depth': 64,\n",
       "  'base_estimator__base_estimator__max_features': 87,\n",
       "  'base_estimator__base_estimator__min_samples_leaf': 8,\n",
       "  'base_estimator__base_estimator__min_samples_split': 0.01,\n",
       "  'base_estimator__base_estimator__n_estimators': 79,\n",
       "  'base_estimator__sample_imbalance': 0.44063408204723742,\n",
       "  'pu_learning': True},\n",
       " {'base_estimator__base_estimator': RandomForestClassifier(bootstrap=False, class_weight=None, criterion='gini',\n",
       "              max_depth=None, max_features='auto', max_leaf_nodes=None,\n",
       "              min_impurity_split=1e-07, min_samples_leaf=1,\n",
       "              min_samples_split=0.01, min_weight_fraction_leaf=0.0,\n",
       "              n_estimators=10, n_jobs=1, oob_score=False, random_state=None,\n",
       "              verbose=0, warm_start=False),\n",
       "  'base_estimator__base_estimator__bootstrap': False,\n",
       "  'base_estimator__base_estimator__class_weight': None,\n",
       "  'base_estimator__base_estimator__criterion': 'gini',\n",
       "  'base_estimator__base_estimator__max_depth': 64,\n",
       "  'base_estimator__base_estimator__max_features': 87,\n",
       "  'base_estimator__base_estimator__min_samples_leaf': 8,\n",
       "  'base_estimator__base_estimator__min_samples_split': 0.01,\n",
       "  'base_estimator__base_estimator__n_estimators': 79,\n",
       "  'base_estimator__sample_imbalance': 0.44063408204723742,\n",
       "  'pu_learning': True}]"
      ]
     },
     "execution_count": 25,
     "metadata": {},
     "output_type": "execute_result"
    }
   ],
   "source": [
    "[est.cv_results_['params'][34] for est in nested_cross.estimators_]"
   ]
  },
  {
   "cell_type": "markdown",
   "metadata": {},
   "source": [
    "## Let's see what feature importance looks like for this specific estimator"
   ]
  },
  {
   "cell_type": "code",
   "execution_count": 26,
   "metadata": {
    "collapsed": true
   },
   "outputs": [],
   "source": [
    "feature_importances = np.array([est.best_estimator_.feature_importances_ for est in nested_cross.estimators_])"
   ]
  },
  {
   "cell_type": "code",
   "execution_count": 27,
   "metadata": {
    "collapsed": true
   },
   "outputs": [],
   "source": [
    "feature_importance = np.mean(feature_importances, axis=0)"
   ]
  },
  {
   "cell_type": "code",
   "execution_count": 28,
   "metadata": {
    "collapsed": false
   },
   "outputs": [
    {
     "data": {
      "text/plain": [
       "288"
      ]
     },
     "execution_count": 28,
     "metadata": {},
     "output_type": "execute_result"
    }
   ],
   "source": [
    "cc = X_test.columns.values\n",
    "cc = np.insert(cc, 109, ['CPT_FLAG44_Sum'])\n",
    "len(cc)"
   ]
  },
  {
   "cell_type": "code",
   "execution_count": 29,
   "metadata": {
    "collapsed": false,
    "scrolled": true
   },
   "outputs": [
    {
     "data": {
      "text/plain": [
       "Index(['CPT_FLAG1_Sum', 'CPT_FLAG2_Sum', 'CPT_FLAG3_Sum', 'CPT_FLAG4_Sum',\n",
       "       'CPT_FLAG5_Sum', 'CPT_FLAG6_Sum', 'CPT_FLAG7_Sum', 'CPT_FLAG8_Sum',\n",
       "       'CPT_FLAG9_Sum', 'CPT_FLAG10_Sum', 'CPT_FLAG11_Sum', 'CPT_FLAG12_Sum',\n",
       "       'CPT_FLAG13_Sum', 'CPT_FLAG14_Sum', 'CPT_FLAG15_Sum', 'CPT_FLAG16_Sum',\n",
       "       'CPT_FLAG17_Sum', 'CPT_FLAG18_Sum', 'CPT_FLAG19_Sum', 'CPT_FLAG20_Sum',\n",
       "       'CPT_FLAG21_Sum', 'CPT_FLAG22_Sum', 'CPT_FLAG26_Sum', 'CPT_FLAG29_Sum',\n",
       "       'CPT_FLAG32_Sum', 'CPT_FLAG33_Sum', 'CPT_FLAG34_Sum', 'CPT_FLAG35_Sum',\n",
       "       'CPT_FLAG36_Sum', 'CPT_FLAG37_Sum', 'CPT_FLAG43_Sum', 'CPT_FLAG45_Sum',\n",
       "       'CPT_FLAG46_Sum', 'CPT_FLAG47_Sum', 'CPT_FLAG48_Sum', 'CPT_FLAG49_Sum'],\n",
       "      dtype='object')"
      ]
     },
     "execution_count": 29,
     "metadata": {},
     "output_type": "execute_result"
    }
   ],
   "source": [
    "X_test.columns[X_test.columns.str.contains('CPT')]"
   ]
  },
  {
   "cell_type": "code",
   "execution_count": 30,
   "metadata": {
    "collapsed": false
   },
   "outputs": [
    {
     "data": {
      "text/html": [
       "<div>\n",
       "<table border=\"1\" class=\"dataframe\">\n",
       "  <thead>\n",
       "    <tr style=\"text-align: right;\">\n",
       "      <th></th>\n",
       "      <th>0</th>\n",
       "      <th>1</th>\n",
       "    </tr>\n",
       "  </thead>\n",
       "  <tbody>\n",
       "    <tr>\n",
       "      <th>78</th>\n",
       "      <td>78</td>\n",
       "      <td>CPT_FLAG1_Sum</td>\n",
       "    </tr>\n",
       "    <tr>\n",
       "      <th>79</th>\n",
       "      <td>79</td>\n",
       "      <td>CPT_FLAG2_Sum</td>\n",
       "    </tr>\n",
       "    <tr>\n",
       "      <th>80</th>\n",
       "      <td>80</td>\n",
       "      <td>CPT_FLAG3_Sum</td>\n",
       "    </tr>\n",
       "    <tr>\n",
       "      <th>81</th>\n",
       "      <td>81</td>\n",
       "      <td>CPT_FLAG4_Sum</td>\n",
       "    </tr>\n",
       "    <tr>\n",
       "      <th>82</th>\n",
       "      <td>82</td>\n",
       "      <td>CPT_FLAG5_Sum</td>\n",
       "    </tr>\n",
       "    <tr>\n",
       "      <th>83</th>\n",
       "      <td>83</td>\n",
       "      <td>CPT_FLAG6_Sum</td>\n",
       "    </tr>\n",
       "    <tr>\n",
       "      <th>84</th>\n",
       "      <td>84</td>\n",
       "      <td>CPT_FLAG7_Sum</td>\n",
       "    </tr>\n",
       "    <tr>\n",
       "      <th>85</th>\n",
       "      <td>85</td>\n",
       "      <td>CPT_FLAG8_Sum</td>\n",
       "    </tr>\n",
       "    <tr>\n",
       "      <th>86</th>\n",
       "      <td>86</td>\n",
       "      <td>CPT_FLAG9_Sum</td>\n",
       "    </tr>\n",
       "    <tr>\n",
       "      <th>87</th>\n",
       "      <td>87</td>\n",
       "      <td>CPT_FLAG10_Sum</td>\n",
       "    </tr>\n",
       "    <tr>\n",
       "      <th>88</th>\n",
       "      <td>88</td>\n",
       "      <td>CPT_FLAG11_Sum</td>\n",
       "    </tr>\n",
       "    <tr>\n",
       "      <th>89</th>\n",
       "      <td>89</td>\n",
       "      <td>CPT_FLAG12_Sum</td>\n",
       "    </tr>\n",
       "    <tr>\n",
       "      <th>90</th>\n",
       "      <td>90</td>\n",
       "      <td>CPT_FLAG13_Sum</td>\n",
       "    </tr>\n",
       "    <tr>\n",
       "      <th>91</th>\n",
       "      <td>91</td>\n",
       "      <td>CPT_FLAG14_Sum</td>\n",
       "    </tr>\n",
       "    <tr>\n",
       "      <th>92</th>\n",
       "      <td>92</td>\n",
       "      <td>CPT_FLAG15_Sum</td>\n",
       "    </tr>\n",
       "    <tr>\n",
       "      <th>93</th>\n",
       "      <td>93</td>\n",
       "      <td>CPT_FLAG16_Sum</td>\n",
       "    </tr>\n",
       "    <tr>\n",
       "      <th>94</th>\n",
       "      <td>94</td>\n",
       "      <td>CPT_FLAG17_Sum</td>\n",
       "    </tr>\n",
       "    <tr>\n",
       "      <th>95</th>\n",
       "      <td>95</td>\n",
       "      <td>CPT_FLAG18_Sum</td>\n",
       "    </tr>\n",
       "    <tr>\n",
       "      <th>96</th>\n",
       "      <td>96</td>\n",
       "      <td>CPT_FLAG19_Sum</td>\n",
       "    </tr>\n",
       "    <tr>\n",
       "      <th>97</th>\n",
       "      <td>97</td>\n",
       "      <td>CPT_FLAG20_Sum</td>\n",
       "    </tr>\n",
       "    <tr>\n",
       "      <th>98</th>\n",
       "      <td>98</td>\n",
       "      <td>CPT_FLAG21_Sum</td>\n",
       "    </tr>\n",
       "    <tr>\n",
       "      <th>99</th>\n",
       "      <td>99</td>\n",
       "      <td>CPT_FLAG22_Sum</td>\n",
       "    </tr>\n",
       "    <tr>\n",
       "      <th>100</th>\n",
       "      <td>100</td>\n",
       "      <td>CPT_FLAG26_Sum</td>\n",
       "    </tr>\n",
       "    <tr>\n",
       "      <th>101</th>\n",
       "      <td>101</td>\n",
       "      <td>CPT_FLAG29_Sum</td>\n",
       "    </tr>\n",
       "    <tr>\n",
       "      <th>102</th>\n",
       "      <td>102</td>\n",
       "      <td>CPT_FLAG32_Sum</td>\n",
       "    </tr>\n",
       "    <tr>\n",
       "      <th>103</th>\n",
       "      <td>103</td>\n",
       "      <td>CPT_FLAG33_Sum</td>\n",
       "    </tr>\n",
       "    <tr>\n",
       "      <th>104</th>\n",
       "      <td>104</td>\n",
       "      <td>CPT_FLAG34_Sum</td>\n",
       "    </tr>\n",
       "    <tr>\n",
       "      <th>105</th>\n",
       "      <td>105</td>\n",
       "      <td>CPT_FLAG35_Sum</td>\n",
       "    </tr>\n",
       "    <tr>\n",
       "      <th>106</th>\n",
       "      <td>106</td>\n",
       "      <td>CPT_FLAG36_Sum</td>\n",
       "    </tr>\n",
       "    <tr>\n",
       "      <th>107</th>\n",
       "      <td>107</td>\n",
       "      <td>CPT_FLAG37_Sum</td>\n",
       "    </tr>\n",
       "    <tr>\n",
       "      <th>108</th>\n",
       "      <td>108</td>\n",
       "      <td>CPT_FLAG43_Sum</td>\n",
       "    </tr>\n",
       "    <tr>\n",
       "      <th>109</th>\n",
       "      <td>109</td>\n",
       "      <td>CPT_FLAG44_Sum</td>\n",
       "    </tr>\n",
       "    <tr>\n",
       "      <th>110</th>\n",
       "      <td>110</td>\n",
       "      <td>CPT_FLAG45_Sum</td>\n",
       "    </tr>\n",
       "    <tr>\n",
       "      <th>111</th>\n",
       "      <td>111</td>\n",
       "      <td>CPT_FLAG46_Sum</td>\n",
       "    </tr>\n",
       "    <tr>\n",
       "      <th>112</th>\n",
       "      <td>112</td>\n",
       "      <td>CPT_FLAG47_Sum</td>\n",
       "    </tr>\n",
       "    <tr>\n",
       "      <th>113</th>\n",
       "      <td>113</td>\n",
       "      <td>CPT_FLAG48_Sum</td>\n",
       "    </tr>\n",
       "    <tr>\n",
       "      <th>114</th>\n",
       "      <td>114</td>\n",
       "      <td>CPT_FLAG49_Sum</td>\n",
       "    </tr>\n",
       "  </tbody>\n",
       "</table>\n",
       "</div>"
      ],
      "text/plain": [
       "       0               1\n",
       "78    78   CPT_FLAG1_Sum\n",
       "79    79   CPT_FLAG2_Sum\n",
       "80    80   CPT_FLAG3_Sum\n",
       "81    81   CPT_FLAG4_Sum\n",
       "82    82   CPT_FLAG5_Sum\n",
       "83    83   CPT_FLAG6_Sum\n",
       "84    84   CPT_FLAG7_Sum\n",
       "85    85   CPT_FLAG8_Sum\n",
       "86    86   CPT_FLAG9_Sum\n",
       "87    87  CPT_FLAG10_Sum\n",
       "88    88  CPT_FLAG11_Sum\n",
       "89    89  CPT_FLAG12_Sum\n",
       "90    90  CPT_FLAG13_Sum\n",
       "91    91  CPT_FLAG14_Sum\n",
       "92    92  CPT_FLAG15_Sum\n",
       "93    93  CPT_FLAG16_Sum\n",
       "94    94  CPT_FLAG17_Sum\n",
       "95    95  CPT_FLAG18_Sum\n",
       "96    96  CPT_FLAG19_Sum\n",
       "97    97  CPT_FLAG20_Sum\n",
       "98    98  CPT_FLAG21_Sum\n",
       "99    99  CPT_FLAG22_Sum\n",
       "100  100  CPT_FLAG26_Sum\n",
       "101  101  CPT_FLAG29_Sum\n",
       "102  102  CPT_FLAG32_Sum\n",
       "103  103  CPT_FLAG33_Sum\n",
       "104  104  CPT_FLAG34_Sum\n",
       "105  105  CPT_FLAG35_Sum\n",
       "106  106  CPT_FLAG36_Sum\n",
       "107  107  CPT_FLAG37_Sum\n",
       "108  108  CPT_FLAG43_Sum\n",
       "109  109  CPT_FLAG44_Sum\n",
       "110  110  CPT_FLAG45_Sum\n",
       "111  111  CPT_FLAG46_Sum\n",
       "112  112  CPT_FLAG47_Sum\n",
       "113  113  CPT_FLAG48_Sum\n",
       "114  114  CPT_FLAG49_Sum"
      ]
     },
     "execution_count": 30,
     "metadata": {},
     "output_type": "execute_result"
    }
   ],
   "source": [
    "c = pd.DataFrame(list(enumerate(cc)))\n",
    "c[c[1].str.contains('CPT')]"
   ]
  },
  {
   "cell_type": "code",
   "execution_count": 31,
   "metadata": {
    "collapsed": false
   },
   "outputs": [
    {
     "ename": "ValueError",
     "evalue": "Shape of passed values is (1, 287), indices imply (1, 288)",
     "output_type": "error",
     "traceback": [
      "\u001b[0;31m---------------------------------------------------------------------------\u001b[0m",
      "\u001b[0;31mValueError\u001b[0m                                Traceback (most recent call last)",
      "\u001b[0;32mC:\\Users\\motoharu.dei\\AppData\\Local\\Continuum\\Anaconda3\\lib\\site-packages\\pandas\\core\\internals.py\u001b[0m in \u001b[0;36mcreate_block_manager_from_blocks\u001b[0;34m(blocks, axes)\u001b[0m\n\u001b[1;32m   3985\u001b[0m \u001b[1;33m\u001b[0m\u001b[0m\n\u001b[0;32m-> 3986\u001b[0;31m         \u001b[0mmgr\u001b[0m \u001b[1;33m=\u001b[0m \u001b[0mBlockManager\u001b[0m\u001b[1;33m(\u001b[0m\u001b[0mblocks\u001b[0m\u001b[1;33m,\u001b[0m \u001b[0maxes\u001b[0m\u001b[1;33m)\u001b[0m\u001b[1;33m\u001b[0m\u001b[0m\n\u001b[0m\u001b[1;32m   3987\u001b[0m         \u001b[0mmgr\u001b[0m\u001b[1;33m.\u001b[0m\u001b[0m_consolidate_inplace\u001b[0m\u001b[1;33m(\u001b[0m\u001b[1;33m)\u001b[0m\u001b[1;33m\u001b[0m\u001b[0m\n",
      "\u001b[0;32mC:\\Users\\motoharu.dei\\AppData\\Local\\Continuum\\Anaconda3\\lib\\site-packages\\pandas\\core\\internals.py\u001b[0m in \u001b[0;36m__init__\u001b[0;34m(self, blocks, axes, do_integrity_check, fastpath)\u001b[0m\n\u001b[1;32m   2593\u001b[0m         \u001b[1;32mif\u001b[0m \u001b[0mdo_integrity_check\u001b[0m\u001b[1;33m:\u001b[0m\u001b[1;33m\u001b[0m\u001b[0m\n\u001b[0;32m-> 2594\u001b[0;31m             \u001b[0mself\u001b[0m\u001b[1;33m.\u001b[0m\u001b[0m_verify_integrity\u001b[0m\u001b[1;33m(\u001b[0m\u001b[1;33m)\u001b[0m\u001b[1;33m\u001b[0m\u001b[0m\n\u001b[0m\u001b[1;32m   2595\u001b[0m \u001b[1;33m\u001b[0m\u001b[0m\n",
      "\u001b[0;32mC:\\Users\\motoharu.dei\\AppData\\Local\\Continuum\\Anaconda3\\lib\\site-packages\\pandas\\core\\internals.py\u001b[0m in \u001b[0;36m_verify_integrity\u001b[0;34m(self)\u001b[0m\n\u001b[1;32m   2803\u001b[0m             \u001b[1;32mif\u001b[0m \u001b[0mblock\u001b[0m\u001b[1;33m.\u001b[0m\u001b[0m_verify_integrity\u001b[0m \u001b[1;32mand\u001b[0m \u001b[0mblock\u001b[0m\u001b[1;33m.\u001b[0m\u001b[0mshape\u001b[0m\u001b[1;33m[\u001b[0m\u001b[1;36m1\u001b[0m\u001b[1;33m:\u001b[0m\u001b[1;33m]\u001b[0m \u001b[1;33m!=\u001b[0m \u001b[0mmgr_shape\u001b[0m\u001b[1;33m[\u001b[0m\u001b[1;36m1\u001b[0m\u001b[1;33m:\u001b[0m\u001b[1;33m]\u001b[0m\u001b[1;33m:\u001b[0m\u001b[1;33m\u001b[0m\u001b[0m\n\u001b[0;32m-> 2804\u001b[0;31m                 \u001b[0mconstruction_error\u001b[0m\u001b[1;33m(\u001b[0m\u001b[0mtot_items\u001b[0m\u001b[1;33m,\u001b[0m \u001b[0mblock\u001b[0m\u001b[1;33m.\u001b[0m\u001b[0mshape\u001b[0m\u001b[1;33m[\u001b[0m\u001b[1;36m1\u001b[0m\u001b[1;33m:\u001b[0m\u001b[1;33m]\u001b[0m\u001b[1;33m,\u001b[0m \u001b[0mself\u001b[0m\u001b[1;33m.\u001b[0m\u001b[0maxes\u001b[0m\u001b[1;33m)\u001b[0m\u001b[1;33m\u001b[0m\u001b[0m\n\u001b[0m\u001b[1;32m   2805\u001b[0m         \u001b[1;32mif\u001b[0m \u001b[0mlen\u001b[0m\u001b[1;33m(\u001b[0m\u001b[0mself\u001b[0m\u001b[1;33m.\u001b[0m\u001b[0mitems\u001b[0m\u001b[1;33m)\u001b[0m \u001b[1;33m!=\u001b[0m \u001b[0mtot_items\u001b[0m\u001b[1;33m:\u001b[0m\u001b[1;33m\u001b[0m\u001b[0m\n",
      "\u001b[0;32mC:\\Users\\motoharu.dei\\AppData\\Local\\Continuum\\Anaconda3\\lib\\site-packages\\pandas\\core\\internals.py\u001b[0m in \u001b[0;36mconstruction_error\u001b[0;34m(tot_items, block_shape, axes, e)\u001b[0m\n\u001b[1;32m   3969\u001b[0m     raise ValueError(\"Shape of passed values is {0}, indices imply {1}\".format(\n\u001b[0;32m-> 3970\u001b[0;31m         passed, implied))\n\u001b[0m\u001b[1;32m   3971\u001b[0m \u001b[1;33m\u001b[0m\u001b[0m\n",
      "\u001b[0;31mValueError\u001b[0m: Shape of passed values is (1, 287), indices imply (1, 288)",
      "\nDuring handling of the above exception, another exception occurred:\n",
      "\u001b[0;31mValueError\u001b[0m                                Traceback (most recent call last)",
      "\u001b[0;32m<ipython-input-31-55c9372b77ec>\u001b[0m in \u001b[0;36m<module>\u001b[0;34m()\u001b[0m\n\u001b[0;32m----> 1\u001b[0;31m \u001b[0mimportance\u001b[0m \u001b[1;33m=\u001b[0m \u001b[0mpd\u001b[0m\u001b[1;33m.\u001b[0m\u001b[0mDataFrame\u001b[0m\u001b[1;33m(\u001b[0m\u001b[0mfeature_importance\u001b[0m\u001b[1;33m,\u001b[0m \u001b[0mindex\u001b[0m\u001b[1;33m=\u001b[0m\u001b[0mcc\u001b[0m\u001b[1;33m,\u001b[0m \u001b[0mcolumns\u001b[0m\u001b[1;33m=\u001b[0m\u001b[1;33m[\u001b[0m\u001b[1;34m'Importance'\u001b[0m\u001b[1;33m]\u001b[0m\u001b[1;33m)\u001b[0m\u001b[1;33m.\u001b[0m\u001b[0msort_values\u001b[0m\u001b[1;33m(\u001b[0m\u001b[0mby\u001b[0m\u001b[1;33m=\u001b[0m\u001b[1;34m'Importance'\u001b[0m\u001b[1;33m,\u001b[0m \u001b[0mascending\u001b[0m\u001b[1;33m=\u001b[0m\u001b[1;32mFalse\u001b[0m\u001b[1;33m)\u001b[0m\u001b[1;33m\u001b[0m\u001b[0m\n\u001b[0m\u001b[1;32m      2\u001b[0m \u001b[0mimportance\u001b[0m\u001b[1;33m.\u001b[0m\u001b[0mround\u001b[0m\u001b[1;33m(\u001b[0m\u001b[1;36m5\u001b[0m\u001b[1;33m)\u001b[0m \u001b[1;33m*\u001b[0m \u001b[1;36m100\u001b[0m\u001b[1;33m\u001b[0m\u001b[0m\n",
      "\u001b[0;32mC:\\Users\\motoharu.dei\\AppData\\Local\\Continuum\\Anaconda3\\lib\\site-packages\\pandas\\core\\frame.py\u001b[0m in \u001b[0;36m__init__\u001b[0;34m(self, data, index, columns, dtype, copy)\u001b[0m\n\u001b[1;32m    253\u001b[0m             \u001b[1;32melse\u001b[0m\u001b[1;33m:\u001b[0m\u001b[1;33m\u001b[0m\u001b[0m\n\u001b[1;32m    254\u001b[0m                 mgr = self._init_ndarray(data, index, columns, dtype=dtype,\n\u001b[0;32m--> 255\u001b[0;31m                                          copy=copy)\n\u001b[0m\u001b[1;32m    256\u001b[0m         \u001b[1;32melif\u001b[0m \u001b[0misinstance\u001b[0m\u001b[1;33m(\u001b[0m\u001b[0mdata\u001b[0m\u001b[1;33m,\u001b[0m \u001b[1;33m(\u001b[0m\u001b[0mlist\u001b[0m\u001b[1;33m,\u001b[0m \u001b[0mtypes\u001b[0m\u001b[1;33m.\u001b[0m\u001b[0mGeneratorType\u001b[0m\u001b[1;33m)\u001b[0m\u001b[1;33m)\u001b[0m\u001b[1;33m:\u001b[0m\u001b[1;33m\u001b[0m\u001b[0m\n\u001b[1;32m    257\u001b[0m             \u001b[1;32mif\u001b[0m \u001b[0misinstance\u001b[0m\u001b[1;33m(\u001b[0m\u001b[0mdata\u001b[0m\u001b[1;33m,\u001b[0m \u001b[0mtypes\u001b[0m\u001b[1;33m.\u001b[0m\u001b[0mGeneratorType\u001b[0m\u001b[1;33m)\u001b[0m\u001b[1;33m:\u001b[0m\u001b[1;33m\u001b[0m\u001b[0m\n",
      "\u001b[0;32mC:\\Users\\motoharu.dei\\AppData\\Local\\Continuum\\Anaconda3\\lib\\site-packages\\pandas\\core\\frame.py\u001b[0m in \u001b[0;36m_init_ndarray\u001b[0;34m(self, values, index, columns, dtype, copy)\u001b[0m\n\u001b[1;32m    430\u001b[0m             \u001b[0mvalues\u001b[0m \u001b[1;33m=\u001b[0m \u001b[0m_possibly_infer_to_datetimelike\u001b[0m\u001b[1;33m(\u001b[0m\u001b[0mvalues\u001b[0m\u001b[1;33m)\u001b[0m\u001b[1;33m\u001b[0m\u001b[0m\n\u001b[1;32m    431\u001b[0m \u001b[1;33m\u001b[0m\u001b[0m\n\u001b[0;32m--> 432\u001b[0;31m         \u001b[1;32mreturn\u001b[0m \u001b[0mcreate_block_manager_from_blocks\u001b[0m\u001b[1;33m(\u001b[0m\u001b[1;33m[\u001b[0m\u001b[0mvalues\u001b[0m\u001b[1;33m]\u001b[0m\u001b[1;33m,\u001b[0m \u001b[1;33m[\u001b[0m\u001b[0mcolumns\u001b[0m\u001b[1;33m,\u001b[0m \u001b[0mindex\u001b[0m\u001b[1;33m]\u001b[0m\u001b[1;33m)\u001b[0m\u001b[1;33m\u001b[0m\u001b[0m\n\u001b[0m\u001b[1;32m    433\u001b[0m \u001b[1;33m\u001b[0m\u001b[0m\n\u001b[1;32m    434\u001b[0m     \u001b[1;33m@\u001b[0m\u001b[0mproperty\u001b[0m\u001b[1;33m\u001b[0m\u001b[0m\n",
      "\u001b[0;32mC:\\Users\\motoharu.dei\\AppData\\Local\\Continuum\\Anaconda3\\lib\\site-packages\\pandas\\core\\internals.py\u001b[0m in \u001b[0;36mcreate_block_manager_from_blocks\u001b[0;34m(blocks, axes)\u001b[0m\n\u001b[1;32m   3991\u001b[0m         \u001b[0mblocks\u001b[0m \u001b[1;33m=\u001b[0m \u001b[1;33m[\u001b[0m\u001b[0mgetattr\u001b[0m\u001b[1;33m(\u001b[0m\u001b[0mb\u001b[0m\u001b[1;33m,\u001b[0m \u001b[1;34m'values'\u001b[0m\u001b[1;33m,\u001b[0m \u001b[0mb\u001b[0m\u001b[1;33m)\u001b[0m \u001b[1;32mfor\u001b[0m \u001b[0mb\u001b[0m \u001b[1;32min\u001b[0m \u001b[0mblocks\u001b[0m\u001b[1;33m]\u001b[0m\u001b[1;33m\u001b[0m\u001b[0m\n\u001b[1;32m   3992\u001b[0m         \u001b[0mtot_items\u001b[0m \u001b[1;33m=\u001b[0m \u001b[0msum\u001b[0m\u001b[1;33m(\u001b[0m\u001b[0mb\u001b[0m\u001b[1;33m.\u001b[0m\u001b[0mshape\u001b[0m\u001b[1;33m[\u001b[0m\u001b[1;36m0\u001b[0m\u001b[1;33m]\u001b[0m \u001b[1;32mfor\u001b[0m \u001b[0mb\u001b[0m \u001b[1;32min\u001b[0m \u001b[0mblocks\u001b[0m\u001b[1;33m)\u001b[0m\u001b[1;33m\u001b[0m\u001b[0m\n\u001b[0;32m-> 3993\u001b[0;31m         \u001b[0mconstruction_error\u001b[0m\u001b[1;33m(\u001b[0m\u001b[0mtot_items\u001b[0m\u001b[1;33m,\u001b[0m \u001b[0mblocks\u001b[0m\u001b[1;33m[\u001b[0m\u001b[1;36m0\u001b[0m\u001b[1;33m]\u001b[0m\u001b[1;33m.\u001b[0m\u001b[0mshape\u001b[0m\u001b[1;33m[\u001b[0m\u001b[1;36m1\u001b[0m\u001b[1;33m:\u001b[0m\u001b[1;33m]\u001b[0m\u001b[1;33m,\u001b[0m \u001b[0maxes\u001b[0m\u001b[1;33m,\u001b[0m \u001b[0me\u001b[0m\u001b[1;33m)\u001b[0m\u001b[1;33m\u001b[0m\u001b[0m\n\u001b[0m\u001b[1;32m   3994\u001b[0m \u001b[1;33m\u001b[0m\u001b[0m\n\u001b[1;32m   3995\u001b[0m \u001b[1;33m\u001b[0m\u001b[0m\n",
      "\u001b[0;32mC:\\Users\\motoharu.dei\\AppData\\Local\\Continuum\\Anaconda3\\lib\\site-packages\\pandas\\core\\internals.py\u001b[0m in \u001b[0;36mconstruction_error\u001b[0;34m(tot_items, block_shape, axes, e)\u001b[0m\n\u001b[1;32m   3968\u001b[0m         \u001b[1;32mraise\u001b[0m \u001b[0mValueError\u001b[0m\u001b[1;33m(\u001b[0m\u001b[1;34m\"Empty data passed with indices specified.\"\u001b[0m\u001b[1;33m)\u001b[0m\u001b[1;33m\u001b[0m\u001b[0m\n\u001b[1;32m   3969\u001b[0m     raise ValueError(\"Shape of passed values is {0}, indices imply {1}\".format(\n\u001b[0;32m-> 3970\u001b[0;31m         passed, implied))\n\u001b[0m\u001b[1;32m   3971\u001b[0m \u001b[1;33m\u001b[0m\u001b[0m\n\u001b[1;32m   3972\u001b[0m \u001b[1;33m\u001b[0m\u001b[0m\n",
      "\u001b[0;31mValueError\u001b[0m: Shape of passed values is (1, 287), indices imply (1, 288)"
     ]
    }
   ],
   "source": [
    "importance = pd.DataFrame(feature_importance, index=cc, columns=['Importance']).sort_values(by='Importance', ascending=False)\n",
    "importance.round(5) * 100"
   ]
  },
  {
   "cell_type": "code",
   "execution_count": 32,
   "metadata": {
    "collapsed": false
   },
   "outputs": [
    {
     "ename": "NameError",
     "evalue": "name 'importance' is not defined",
     "output_type": "error",
     "traceback": [
      "\u001b[0;31m---------------------------------------------------------------------------\u001b[0m",
      "\u001b[0;31mNameError\u001b[0m                                 Traceback (most recent call last)",
      "\u001b[0;32m<ipython-input-32-47d6b3a42a5d>\u001b[0m in \u001b[0;36m<module>\u001b[0;34m()\u001b[0m\n\u001b[0;32m----> 1\u001b[0;31m \u001b[0max\u001b[0m \u001b[1;33m=\u001b[0m \u001b[0mimportance\u001b[0m\u001b[1;33m.\u001b[0m\u001b[0miloc\u001b[0m\u001b[1;33m[\u001b[0m\u001b[1;33m:\u001b[0m\u001b[1;36m20\u001b[0m\u001b[1;33m]\u001b[0m\u001b[1;33m.\u001b[0m\u001b[0miloc\u001b[0m\u001b[1;33m[\u001b[0m\u001b[1;33m:\u001b[0m\u001b[1;33m:\u001b[0m\u001b[1;33m-\u001b[0m\u001b[1;36m1\u001b[0m\u001b[1;33m]\u001b[0m\u001b[1;33m.\u001b[0m\u001b[0mplot\u001b[0m\u001b[1;33m(\u001b[0m\u001b[0mkind\u001b[0m\u001b[1;33m=\u001b[0m\u001b[1;34m'barh'\u001b[0m\u001b[1;33m)\u001b[0m\u001b[1;33m\u001b[0m\u001b[0m\n\u001b[0m\u001b[1;32m      2\u001b[0m \u001b[0max\u001b[0m\u001b[1;33m.\u001b[0m\u001b[0mlegend\u001b[0m\u001b[1;33m(\u001b[0m\u001b[0mloc\u001b[0m\u001b[1;33m=\u001b[0m\u001b[1;34m'right'\u001b[0m\u001b[1;33m)\u001b[0m\u001b[1;33m\u001b[0m\u001b[0m\n",
      "\u001b[0;31mNameError\u001b[0m: name 'importance' is not defined"
     ]
    }
   ],
   "source": [
    "ax = importance.iloc[:20].iloc[::-1].plot(kind='barh')\n",
    "ax.legend(loc='right')"
   ]
  },
  {
   "cell_type": "markdown",
   "metadata": {
    "collapsed": true
   },
   "source": [
    "## This is model 6 in draft, lets retrain on whole training set and then test on test set!"
   ]
  },
  {
   "cell_type": "code",
   "execution_count": 33,
   "metadata": {
    "collapsed": false
   },
   "outputs": [
    {
     "name": "stdout",
     "output_type": "stream",
     "text": [
      "generating 93 samples of indices to use to train multiple estimators, sized 5459 elements with last being 3106 elements\n"
     ]
    },
    {
     "name": "stderr",
     "output_type": "stream",
     "text": [
      "[Parallel(n_jobs=1)]: Done  93 out of  93 | elapsed:   34.1s finished\n"
     ]
    },
    {
     "data": {
      "text/plain": [
       "PNUWrapper(base_estimator=RepeatedRandomSubSampler(base_estimator=RandomForestClassifier(bootstrap=True, class_weight=None, criterion='gini',\n",
       "            max_depth=64, max_features='auto', max_leaf_nodes=None,\n",
       "            min_impurity_split=1e-07, min_samples_leaf=1,\n",
       "            min_samples_split=2, min_weight...      random_state=83, sample_imbalance=0.4406340820472374,\n",
       "             verbose=1, voting='thresh'),\n",
       "      num_unlabeled=1.0, pu_learning=True, random_state=None,\n",
       "      threshold_set_pct=None)"
      ]
     },
     "execution_count": 33,
     "metadata": {},
     "output_type": "execute_result"
    }
   ],
   "source": [
    "pnu_test.fit(X_train.values, y_train.values)"
   ]
  },
  {
   "cell_type": "code",
   "execution_count": 34,
   "metadata": {
    "collapsed": false,
    "scrolled": false
   },
   "outputs": [
    {
     "name": "stderr",
     "output_type": "stream",
     "text": [
      "[Parallel(n_jobs=1)]: Done  93 out of  93 | elapsed:   26.1s finished\n",
      "[Parallel(n_jobs=1)]: Done  93 out of  93 | elapsed:   26.0s finished\n"
     ]
    },
    {
     "data": {
      "text/plain": [
       "({'SCORE': 0.85063291139240504,\n",
       "  'assumed_brier': 0.053293939447126112,\n",
       "  'assumed_brier_neg': 0.052741841468729858,\n",
       "  'assumed_f1': 0.11449991480661099,\n",
       "  'assumed_f1beta10': 0.71820702207360698,\n",
       "  'confusion_matrix_lab': array([[179,  36],\n",
       "         [ 82, 336]]),\n",
       "  'confusion_matrix_un': array([[82607,  5115],\n",
       "         [   82,   336]]),\n",
       "  'labeled_acc': 0.81358609794628756,\n",
       "  'labeled_avg_prec': 0.91829771089340295,\n",
       "  'labeled_brier': 0.15411354753957987,\n",
       "  'labeled_brier_neg': 0.12486451182688144,\n",
       "  'labeled_brier_pos': 0.1691579080138147,\n",
       "  'labeled_f1': 0.85063291139240504,\n",
       "  'labeled_prec': 0.90322580645161288,\n",
       "  'labeled_recall': 0.80382775119617222,\n",
       "  'labeled_roc_auc': 0.818192945365528,\n",
       "  'pr_one_unlabeled': 0.058041071000034285,\n",
       "  'pu_mix_assumed_f1beta10': 82.268454213175303,\n",
       "  'pu_score': 10.447752005814607},\n",
       " 0.85063291139240504)"
      ]
     },
     "execution_count": 34,
     "metadata": {},
     "output_type": "execute_result"
    }
   ],
   "source": [
    "FrankenScorer()(pnu_test, X_test.values, y_test.values)"
   ]
  },
  {
   "cell_type": "code",
   "execution_count": 35,
   "metadata": {
    "collapsed": true
   },
   "outputs": [],
   "source": [
    "pnu_test.base_estimator.voting = 'soft'"
   ]
  },
  {
   "cell_type": "code",
   "execution_count": 36,
   "metadata": {
    "collapsed": false
   },
   "outputs": [
    {
     "name": "stderr",
     "output_type": "stream",
     "text": [
      "[Parallel(n_jobs=1)]: Done  93 out of  93 | elapsed:   26.0s finished\n",
      "[Parallel(n_jobs=1)]: Done  93 out of  93 | elapsed:   26.0s finished\n"
     ]
    },
    {
     "data": {
      "text/plain": [
       "({'SCORE': 0.85063291139240504,\n",
       "  'assumed_brier': 0.053293939447126112,\n",
       "  'assumed_brier_neg': 0.052741841468729858,\n",
       "  'assumed_f1': 0.11469534050179211,\n",
       "  'assumed_f1beta10': 0.71835905251793997,\n",
       "  'confusion_matrix_lab': array([[179,  36],\n",
       "         [ 82, 336]]),\n",
       "  'confusion_matrix_un': array([[82617,  5105],\n",
       "         [   82,   336]]),\n",
       "  'labeled_acc': 0.81358609794628756,\n",
       "  'labeled_avg_prec': 0.91829771089340295,\n",
       "  'labeled_brier': 0.15411354753957987,\n",
       "  'labeled_brier_neg': 0.12486451182688144,\n",
       "  'labeled_brier_pos': 0.1691579080138147,\n",
       "  'labeled_f1': 0.85063291139240504,\n",
       "  'labeled_prec': 0.90322580645161288,\n",
       "  'labeled_recall': 0.80382775119617222,\n",
       "  'labeled_roc_auc': 0.818192945365528,\n",
       "  'pr_one_unlabeled': 0.057926794427874344,\n",
       "  'pu_mix_assumed_f1beta10': 82.302859154329454,\n",
       "  'pu_score': 10.466953902535456},\n",
       " 0.85063291139240504)"
      ]
     },
     "execution_count": 36,
     "metadata": {},
     "output_type": "execute_result"
    }
   ],
   "source": [
    "FrankenScorer()(pnu_test, X_test.values, y_test.values)"
   ]
  },
  {
   "cell_type": "code",
   "execution_count": 37,
   "metadata": {
    "collapsed": true
   },
   "outputs": [],
   "source": [
    "pnu_test.base_estimator.voting = 'thresh'\n",
    "pnu_test.base_estimator.binary_thresh = 0.8"
   ]
  },
  {
   "cell_type": "code",
   "execution_count": 38,
   "metadata": {
    "collapsed": false
   },
   "outputs": [
    {
     "name": "stderr",
     "output_type": "stream",
     "text": [
      "[Parallel(n_jobs=1)]: Done  93 out of  93 | elapsed:   26.0s finished\n",
      "[Parallel(n_jobs=1)]: Done  93 out of  93 | elapsed:   26.0s finished\n"
     ]
    },
    {
     "data": {
      "text/plain": [
       "({'SCORE': 0.30120481927710846,\n",
       "  'assumed_brier': 0.053293939447126112,\n",
       "  'assumed_brier_neg': 0.052741841468729858,\n",
       "  'assumed_f1': 0.19505851755526657,\n",
       "  'assumed_f1beta10': 0.17971103888401221,\n",
       "  'confusion_matrix_lab': array([[210,   5],\n",
       "         [343,  75]]),\n",
       "  'confusion_matrix_un': array([[87446,   276],\n",
       "         [  343,    75]]),\n",
       "  'labeled_acc': 0.45023696682464454,\n",
       "  'labeled_avg_prec': 0.82939498817055579,\n",
       "  'labeled_brier': 0.15411354753957987,\n",
       "  'labeled_brier_neg': 0.12486451182688144,\n",
       "  'labeled_brier_pos': 0.1691579080138147,\n",
       "  'labeled_f1': 0.30120481927710846,\n",
       "  'labeled_prec': 0.9375,\n",
       "  'labeled_recall': 0.17942583732057416,\n",
       "  'labeled_roc_auc': 0.57808501168354287,\n",
       "  'pr_one_unlabeled': 0.0030968951055344142,\n",
       "  'pu_mix_assumed_f1beta10': 26.055282364168718,\n",
       "  'pu_score': 8.0841784757674962},\n",
       " 0.30120481927710846)"
      ]
     },
     "execution_count": 38,
     "metadata": {},
     "output_type": "execute_result"
    }
   ],
   "source": [
    "FrankenScorer()(pnu_test, X_test.values, y_test.values)"
   ]
  },
  {
   "cell_type": "code",
   "execution_count": 39,
   "metadata": {
    "collapsed": true
   },
   "outputs": [],
   "source": [
    "pnu_test.base_estimator.voting = 'thresh'\n",
    "pnu_test.base_estimator.binary_thresh = 0.35"
   ]
  },
  {
   "cell_type": "code",
   "execution_count": 40,
   "metadata": {
    "collapsed": false
   },
   "outputs": [
    {
     "name": "stderr",
     "output_type": "stream",
     "text": [
      "[Parallel(n_jobs=1)]: Done  93 out of  93 | elapsed:   26.0s finished\n",
      "[Parallel(n_jobs=1)]: Done  93 out of  93 | elapsed:   26.0s finished\n"
     ]
    },
    {
     "data": {
      "text/plain": [
       "({'SCORE': 0.8683274021352313,\n",
       "  'assumed_brier': 0.053293939447126112,\n",
       "  'assumed_brier_neg': 0.052741841468729858,\n",
       "  'assumed_f1': 0.066394557823129252,\n",
       "  'assumed_f1beta10': 0.70536378728032512,\n",
       "  'confusion_matrix_lab': array([[156,  59],\n",
       "         [ 52, 366]]),\n",
       "  'confusion_matrix_un': array([[77481, 10241],\n",
       "         [   52,   366]]),\n",
       "  'labeled_acc': 0.82464454976303314,\n",
       "  'labeled_avg_prec': 0.90946152796137392,\n",
       "  'labeled_brier': 0.15411354753957987,\n",
       "  'labeled_brier_neg': 0.12486451182688144,\n",
       "  'labeled_brier_pos': 0.1691579080138147,\n",
       "  'labeled_f1': 0.8683274021352313,\n",
       "  'labeled_prec': 0.86117647058823532,\n",
       "  'labeled_recall': 0.87559808612440193,\n",
       "  'labeled_roc_auc': 0.80058974073661959,\n",
       "  'pr_one_unlabeled': 0.11635640577325243,\n",
       "  'pu_mix_assumed_f1beta10': 76.907121711209143,\n",
       "  'pu_score': 6.3707429831766218},\n",
       " 0.8683274021352313)"
      ]
     },
     "execution_count": 40,
     "metadata": {},
     "output_type": "execute_result"
    }
   ],
   "source": [
    "FrankenScorer()(pnu_test, X_test.values, y_test.values)"
   ]
  },
  {
   "cell_type": "code",
   "execution_count": 41,
   "metadata": {
    "collapsed": true
   },
   "outputs": [],
   "source": [
    "pnu_test.base_estimator.voting = 'thresh'\n",
    "pnu_test.base_estimator.binary_thresh = 0.40"
   ]
  },
  {
   "cell_type": "code",
   "execution_count": 42,
   "metadata": {
    "collapsed": false
   },
   "outputs": [
    {
     "name": "stderr",
     "output_type": "stream",
     "text": [
      "[Parallel(n_jobs=1)]: Done  93 out of  93 | elapsed:   25.9s finished\n",
      "[Parallel(n_jobs=1)]: Done  93 out of  93 | elapsed:   26.0s finished\n"
     ]
    },
    {
     "data": {
      "text/plain": [
       "({'SCORE': 0.87167070217917675,\n",
       "  'assumed_brier': 0.053293939447126112,\n",
       "  'assumed_brier_neg': 0.052741841468729858,\n",
       "  'assumed_f1': 0.082323347816144532,\n",
       "  'assumed_f1beta10': 0.72534312160868197,\n",
       "  'confusion_matrix_lab': array([[167,  48],\n",
       "         [ 58, 360]]),\n",
       "  'confusion_matrix_un': array([[79754,  7968],\n",
       "         [   58,   360]]),\n",
       "  'labeled_acc': 0.83254344391785151,\n",
       "  'labeled_avg_prec': 0.91761206625555958,\n",
       "  'labeled_brier': 0.15411354753957987,\n",
       "  'labeled_brier_neg': 0.12486451182688144,\n",
       "  'labeled_brier_pos': 0.1691579080138147,\n",
       "  'labeled_f1': 0.87167070217917675,\n",
       "  'labeled_prec': 0.88235294117647056,\n",
       "  'labeled_recall': 0.86124401913875603,\n",
       "  'labeled_roc_auc': 0.81899410259263383,\n",
       "  'pr_one_unlabeled': 0.090507045150673662,\n",
       "  'pu_mix_assumed_f1beta10': 80.384585299757575,\n",
       "  'pu_score': 7.8502731388893823},\n",
       " 0.87167070217917675)"
      ]
     },
     "execution_count": 42,
     "metadata": {},
     "output_type": "execute_result"
    }
   ],
   "source": [
    "FrankenScorer()(pnu_test, X_test.values, y_test.values)"
   ]
  },
  {
   "cell_type": "code",
   "execution_count": 43,
   "metadata": {
    "collapsed": true
   },
   "outputs": [],
   "source": [
    "pnu_test.base_estimator.voting = 'thresh'\n",
    "pnu_test.base_estimator.binary_thresh = 0.20"
   ]
  },
  {
   "cell_type": "code",
   "execution_count": 45,
   "metadata": {
    "collapsed": false
   },
   "outputs": [
    {
     "name": "stderr",
     "output_type": "stream",
     "text": [
      "[Parallel(n_jobs=1)]: Done  93 out of  93 | elapsed:   26.0s finished\n",
      "[Parallel(n_jobs=1)]: Done  93 out of  93 | elapsed:   26.0s finished\n"
     ]
    },
    {
     "data": {
      "text/plain": [
       "({'SCORE': 0.83560209424083776,\n",
       "  'assumed_brier': 0.053293939447126112,\n",
       "  'assumed_brier_neg': 0.052741841468729858,\n",
       "  'assumed_f1': 0.031096563011456628,\n",
       "  'assumed_f1beta10': 0.60108287095042057,\n",
       "  'confusion_matrix_lab': array([[ 77, 138],\n",
       "         [ 19, 399]]),\n",
       "  'confusion_matrix_un': array([[62877, 24845],\n",
       "         [   19,   399]]),\n",
       "  'labeled_acc': 0.75197472353870454,\n",
       "  'labeled_avg_prec': 0.86378900605515019,\n",
       "  'labeled_brier': 0.15411354753957987,\n",
       "  'labeled_brier_neg': 0.12486451182688144,\n",
       "  'labeled_brier_pos': 0.1691579080138147,\n",
       "  'labeled_f1': 0.83560209424083776,\n",
       "  'labeled_prec': 0.74301675977653636,\n",
       "  'labeled_recall': 0.95454545454545459,\n",
       "  'labeled_roc_auc': 0.65634249471458772,\n",
       "  'pr_one_unlabeled': 0.28234312683556745,\n",
       "  'pu_mix_assumed_f1beta10': 63.289612565066193,\n",
       "  'pu_score': 3.1813254700241353},\n",
       " 0.83560209424083776)"
      ]
     },
     "execution_count": 45,
     "metadata": {},
     "output_type": "execute_result"
    }
   ],
   "source": [
    "FrankenScorer()(pnu_test, X_test.values, y_test.values)"
   ]
  },
  {
   "cell_type": "markdown",
   "metadata": {},
   "source": [
    "# Feature importance for 80/20"
   ]
  },
  {
   "cell_type": "code",
   "execution_count": 46,
   "metadata": {
    "collapsed": false
   },
   "outputs": [
    {
     "data": {
      "text/html": [
       "<div>\n",
       "<table border=\"1\" class=\"dataframe\">\n",
       "  <thead>\n",
       "    <tr style=\"text-align: right;\">\n",
       "      <th></th>\n",
       "      <th>Importance</th>\n",
       "    </tr>\n",
       "  </thead>\n",
       "  <tbody>\n",
       "    <tr>\n",
       "      <th>DIAG_FLAG4_Sum</th>\n",
       "      <td>14.798</td>\n",
       "    </tr>\n",
       "    <tr>\n",
       "      <th>DIAG_FLAG5_Sum</th>\n",
       "      <td>11.083</td>\n",
       "    </tr>\n",
       "    <tr>\n",
       "      <th>CPT_FLAG9_Sum</th>\n",
       "      <td>2.867</td>\n",
       "    </tr>\n",
       "    <tr>\n",
       "      <th>ndc_cat87_Sum</th>\n",
       "      <td>2.798</td>\n",
       "    </tr>\n",
       "    <tr>\n",
       "      <th>ndc_cat58_Sum</th>\n",
       "      <td>2.792</td>\n",
       "    </tr>\n",
       "    <tr>\n",
       "      <th>age</th>\n",
       "      <td>1.806</td>\n",
       "    </tr>\n",
       "    <tr>\n",
       "      <th>DIAG_FLAG75_Sum</th>\n",
       "      <td>1.615</td>\n",
       "    </tr>\n",
       "    <tr>\n",
       "      <th>DIAG_FLAG42_Sum</th>\n",
       "      <td>1.565</td>\n",
       "    </tr>\n",
       "    <tr>\n",
       "      <th>CPT_FLAG43_Sum</th>\n",
       "      <td>1.518</td>\n",
       "    </tr>\n",
       "    <tr>\n",
       "      <th>ndc_cat54_Sum</th>\n",
       "      <td>1.328</td>\n",
       "    </tr>\n",
       "    <tr>\n",
       "      <th>CPT_FLAG48_Sum</th>\n",
       "      <td>1.323</td>\n",
       "    </tr>\n",
       "    <tr>\n",
       "      <th>DIAG_FLAG38_Sum</th>\n",
       "      <td>1.089</td>\n",
       "    </tr>\n",
       "    <tr>\n",
       "      <th>DIAG_FLAG7_Sum</th>\n",
       "      <td>1.078</td>\n",
       "    </tr>\n",
       "    <tr>\n",
       "      <th>DIAG_FLAG54_Sum</th>\n",
       "      <td>0.963</td>\n",
       "    </tr>\n",
       "    <tr>\n",
       "      <th>CPT_FLAG49_Sum</th>\n",
       "      <td>0.935</td>\n",
       "    </tr>\n",
       "    <tr>\n",
       "      <th>REVCODE_FLAG16_Sum</th>\n",
       "      <td>0.928</td>\n",
       "    </tr>\n",
       "    <tr>\n",
       "      <th>DIAG_FLAG71_Sum</th>\n",
       "      <td>0.868</td>\n",
       "    </tr>\n",
       "    <tr>\n",
       "      <th>DIAG_FLAG72_Sum</th>\n",
       "      <td>0.848</td>\n",
       "    </tr>\n",
       "    <tr>\n",
       "      <th>REVCODE_FLAG11_Sum</th>\n",
       "      <td>0.847</td>\n",
       "    </tr>\n",
       "    <tr>\n",
       "      <th>REVCODE_FLAG19_Sum</th>\n",
       "      <td>0.840</td>\n",
       "    </tr>\n",
       "    <tr>\n",
       "      <th>DIAG_FLAG53_Sum</th>\n",
       "      <td>0.824</td>\n",
       "    </tr>\n",
       "    <tr>\n",
       "      <th>ndc_cat16_Sum</th>\n",
       "      <td>0.817</td>\n",
       "    </tr>\n",
       "    <tr>\n",
       "      <th>DIAG_FLAG31_Sum</th>\n",
       "      <td>0.762</td>\n",
       "    </tr>\n",
       "    <tr>\n",
       "      <th>DIAG_FLAG48_Sum</th>\n",
       "      <td>0.738</td>\n",
       "    </tr>\n",
       "    <tr>\n",
       "      <th>ndc_cat15_Sum</th>\n",
       "      <td>0.736</td>\n",
       "    </tr>\n",
       "    <tr>\n",
       "      <th>DIAG_FLAG49_Sum</th>\n",
       "      <td>0.727</td>\n",
       "    </tr>\n",
       "    <tr>\n",
       "      <th>DIAG_FLAG55_Sum</th>\n",
       "      <td>0.712</td>\n",
       "    </tr>\n",
       "    <tr>\n",
       "      <th>CPT_FLAG20_Sum</th>\n",
       "      <td>0.680</td>\n",
       "    </tr>\n",
       "    <tr>\n",
       "      <th>CPT_FLAG46_Sum</th>\n",
       "      <td>0.672</td>\n",
       "    </tr>\n",
       "    <tr>\n",
       "      <th>DIAG_FLAG24_Sum</th>\n",
       "      <td>0.662</td>\n",
       "    </tr>\n",
       "    <tr>\n",
       "      <th>DIAG_FLAG9_Sum</th>\n",
       "      <td>0.650</td>\n",
       "    </tr>\n",
       "    <tr>\n",
       "      <th>CPT_FLAG47_Sum</th>\n",
       "      <td>0.633</td>\n",
       "    </tr>\n",
       "    <tr>\n",
       "      <th>ndc_cat21_Sum</th>\n",
       "      <td>0.632</td>\n",
       "    </tr>\n",
       "    <tr>\n",
       "      <th>ndc_cat22_Sum</th>\n",
       "      <td>0.617</td>\n",
       "    </tr>\n",
       "    <tr>\n",
       "      <th>CPT_FLAG6_Sum</th>\n",
       "      <td>0.612</td>\n",
       "    </tr>\n",
       "    <tr>\n",
       "      <th>DIAG_FLAG67_Sum</th>\n",
       "      <td>0.609</td>\n",
       "    </tr>\n",
       "    <tr>\n",
       "      <th>DIAG_FLAG45_Sum</th>\n",
       "      <td>0.592</td>\n",
       "    </tr>\n",
       "    <tr>\n",
       "      <th>ndc_cat11_Sum</th>\n",
       "      <td>0.586</td>\n",
       "    </tr>\n",
       "    <tr>\n",
       "      <th>ndc_cat85_Sum</th>\n",
       "      <td>0.566</td>\n",
       "    </tr>\n",
       "    <tr>\n",
       "      <th>ndc_cat40_Sum</th>\n",
       "      <td>0.563</td>\n",
       "    </tr>\n",
       "    <tr>\n",
       "      <th>DIAG_FLAG77_Sum</th>\n",
       "      <td>0.547</td>\n",
       "    </tr>\n",
       "    <tr>\n",
       "      <th>REVCODE_FLAG15_Sum</th>\n",
       "      <td>0.539</td>\n",
       "    </tr>\n",
       "    <tr>\n",
       "      <th>REVCODE_FLAG22_Sum</th>\n",
       "      <td>0.537</td>\n",
       "    </tr>\n",
       "    <tr>\n",
       "      <th>ndc_cat77_Sum</th>\n",
       "      <td>0.521</td>\n",
       "    </tr>\n",
       "    <tr>\n",
       "      <th>REVCODE_FLAG38_Sum</th>\n",
       "      <td>0.519</td>\n",
       "    </tr>\n",
       "    <tr>\n",
       "      <th>DIAG_FLAG85_Sum</th>\n",
       "      <td>0.500</td>\n",
       "    </tr>\n",
       "    <tr>\n",
       "      <th>ndc_cat44_Sum</th>\n",
       "      <td>0.498</td>\n",
       "    </tr>\n",
       "    <tr>\n",
       "      <th>ndc_cat18_Sum</th>\n",
       "      <td>0.495</td>\n",
       "    </tr>\n",
       "    <tr>\n",
       "      <th>ndc_cat82_Sum</th>\n",
       "      <td>0.480</td>\n",
       "    </tr>\n",
       "    <tr>\n",
       "      <th>DIAG_FLAG60_Sum</th>\n",
       "      <td>0.474</td>\n",
       "    </tr>\n",
       "    <tr>\n",
       "      <th>DIAG_FLAG15_Sum</th>\n",
       "      <td>0.471</td>\n",
       "    </tr>\n",
       "    <tr>\n",
       "      <th>ndc_cat70_Sum</th>\n",
       "      <td>0.456</td>\n",
       "    </tr>\n",
       "    <tr>\n",
       "      <th>REVCODE_FLAG12_Sum</th>\n",
       "      <td>0.452</td>\n",
       "    </tr>\n",
       "    <tr>\n",
       "      <th>ndc_cat13_Sum</th>\n",
       "      <td>0.433</td>\n",
       "    </tr>\n",
       "    <tr>\n",
       "      <th>CPT_FLAG21_Sum</th>\n",
       "      <td>0.410</td>\n",
       "    </tr>\n",
       "    <tr>\n",
       "      <th>DIAG_FLAG41_Sum</th>\n",
       "      <td>0.406</td>\n",
       "    </tr>\n",
       "    <tr>\n",
       "      <th>DIAG_FLAG11_Sum</th>\n",
       "      <td>0.404</td>\n",
       "    </tr>\n",
       "    <tr>\n",
       "      <th>ndc_cat20_Sum</th>\n",
       "      <td>0.404</td>\n",
       "    </tr>\n",
       "    <tr>\n",
       "      <th>DIAG_FLAG80_Sum</th>\n",
       "      <td>0.394</td>\n",
       "    </tr>\n",
       "    <tr>\n",
       "      <th>DIAG_FLAG86_Sum</th>\n",
       "      <td>0.385</td>\n",
       "    </tr>\n",
       "    <tr>\n",
       "      <th>DIAG_FLAG34_Sum</th>\n",
       "      <td>0.383</td>\n",
       "    </tr>\n",
       "    <tr>\n",
       "      <th>DIAG_FLAG83_Sum</th>\n",
       "      <td>0.376</td>\n",
       "    </tr>\n",
       "    <tr>\n",
       "      <th>DIAG_FLAG84_Sum</th>\n",
       "      <td>0.374</td>\n",
       "    </tr>\n",
       "    <tr>\n",
       "      <th>REVCODE_FLAG63_Sum</th>\n",
       "      <td>0.373</td>\n",
       "    </tr>\n",
       "    <tr>\n",
       "      <th>DIAG_FLAG6_Sum</th>\n",
       "      <td>0.373</td>\n",
       "    </tr>\n",
       "    <tr>\n",
       "      <th>CPT_FLAG1_Sum</th>\n",
       "      <td>0.365</td>\n",
       "    </tr>\n",
       "    <tr>\n",
       "      <th>REVCODE_FLAG23_Sum</th>\n",
       "      <td>0.365</td>\n",
       "    </tr>\n",
       "    <tr>\n",
       "      <th>ndc_cat39_Sum</th>\n",
       "      <td>0.358</td>\n",
       "    </tr>\n",
       "    <tr>\n",
       "      <th>ndc_cat31_Sum</th>\n",
       "      <td>0.357</td>\n",
       "    </tr>\n",
       "    <tr>\n",
       "      <th>CPT_FLAG18_Sum</th>\n",
       "      <td>0.357</td>\n",
       "    </tr>\n",
       "    <tr>\n",
       "      <th>ndc_cat49_Sum</th>\n",
       "      <td>0.357</td>\n",
       "    </tr>\n",
       "    <tr>\n",
       "      <th>DIAG_FLAG68_Sum</th>\n",
       "      <td>0.353</td>\n",
       "    </tr>\n",
       "    <tr>\n",
       "      <th>REVCODE_FLAG67_Sum</th>\n",
       "      <td>0.343</td>\n",
       "    </tr>\n",
       "    <tr>\n",
       "      <th>ndc_cat5_Sum</th>\n",
       "      <td>0.340</td>\n",
       "    </tr>\n",
       "    <tr>\n",
       "      <th>DIAG_FLAG79_Sum</th>\n",
       "      <td>0.339</td>\n",
       "    </tr>\n",
       "    <tr>\n",
       "      <th>Gender_M</th>\n",
       "      <td>0.335</td>\n",
       "    </tr>\n",
       "    <tr>\n",
       "      <th>ndc_cat23_Sum</th>\n",
       "      <td>0.333</td>\n",
       "    </tr>\n",
       "    <tr>\n",
       "      <th>DIAG_FLAG73_Sum</th>\n",
       "      <td>0.329</td>\n",
       "    </tr>\n",
       "    <tr>\n",
       "      <th>ndc_cat76_Sum</th>\n",
       "      <td>0.314</td>\n",
       "    </tr>\n",
       "    <tr>\n",
       "      <th>REVCODE_FLAG34_Sum</th>\n",
       "      <td>0.299</td>\n",
       "    </tr>\n",
       "    <tr>\n",
       "      <th>ndc_cat83_Sum</th>\n",
       "      <td>0.295</td>\n",
       "    </tr>\n",
       "    <tr>\n",
       "      <th>CPT_FLAG22_Sum</th>\n",
       "      <td>0.289</td>\n",
       "    </tr>\n",
       "    <tr>\n",
       "      <th>ndc_cat29_Sum</th>\n",
       "      <td>0.283</td>\n",
       "    </tr>\n",
       "    <tr>\n",
       "      <th>DIAG_FLAG66_Sum</th>\n",
       "      <td>0.279</td>\n",
       "    </tr>\n",
       "    <tr>\n",
       "      <th>REVCODE_FLAG20_Sum</th>\n",
       "      <td>0.274</td>\n",
       "    </tr>\n",
       "    <tr>\n",
       "      <th>DIAG_FLAG8_Sum</th>\n",
       "      <td>0.272</td>\n",
       "    </tr>\n",
       "    <tr>\n",
       "      <th>ndc_cat100_Sum</th>\n",
       "      <td>0.270</td>\n",
       "    </tr>\n",
       "    <tr>\n",
       "      <th>DIAG_FLAG30_Sum</th>\n",
       "      <td>0.269</td>\n",
       "    </tr>\n",
       "    <tr>\n",
       "      <th>DIAG_FLAG10_Sum</th>\n",
       "      <td>0.268</td>\n",
       "    </tr>\n",
       "    <tr>\n",
       "      <th>ndc_cat72_Sum</th>\n",
       "      <td>0.267</td>\n",
       "    </tr>\n",
       "    <tr>\n",
       "      <th>DIAG_FLAG76_Sum</th>\n",
       "      <td>0.266</td>\n",
       "    </tr>\n",
       "    <tr>\n",
       "      <th>ndc_cat42_Sum</th>\n",
       "      <td>0.266</td>\n",
       "    </tr>\n",
       "    <tr>\n",
       "      <th>DIAG_FLAG70_Sum</th>\n",
       "      <td>0.265</td>\n",
       "    </tr>\n",
       "    <tr>\n",
       "      <th>DIAG_FLAG51_Sum</th>\n",
       "      <td>0.255</td>\n",
       "    </tr>\n",
       "    <tr>\n",
       "      <th>REVCODE_FLAG28_Sum</th>\n",
       "      <td>0.252</td>\n",
       "    </tr>\n",
       "    <tr>\n",
       "      <th>REVCODE_FLAG10_Sum</th>\n",
       "      <td>0.249</td>\n",
       "    </tr>\n",
       "    <tr>\n",
       "      <th>CPT_FLAG45_Sum</th>\n",
       "      <td>0.245</td>\n",
       "    </tr>\n",
       "    <tr>\n",
       "      <th>REVCODE_FLAG17_Sum</th>\n",
       "      <td>0.244</td>\n",
       "    </tr>\n",
       "    <tr>\n",
       "      <th>ndc_cat59_Sum</th>\n",
       "      <td>0.240</td>\n",
       "    </tr>\n",
       "    <tr>\n",
       "      <th>ndc_cat28_Sum</th>\n",
       "      <td>0.239</td>\n",
       "    </tr>\n",
       "    <tr>\n",
       "      <th>ndc_cat33_Sum</th>\n",
       "      <td>0.236</td>\n",
       "    </tr>\n",
       "    <tr>\n",
       "      <th>ndc_cat45_Sum</th>\n",
       "      <td>0.233</td>\n",
       "    </tr>\n",
       "    <tr>\n",
       "      <th>REVCODE_FLAG14_Sum</th>\n",
       "      <td>0.232</td>\n",
       "    </tr>\n",
       "    <tr>\n",
       "      <th>DIAG_FLAG3_Sum</th>\n",
       "      <td>0.228</td>\n",
       "    </tr>\n",
       "    <tr>\n",
       "      <th>DIAG_FLAG63_Sum</th>\n",
       "      <td>0.226</td>\n",
       "    </tr>\n",
       "    <tr>\n",
       "      <th>DIAG_FLAG2_Sum</th>\n",
       "      <td>0.225</td>\n",
       "    </tr>\n",
       "    <tr>\n",
       "      <th>CPT_FLAG4_Sum</th>\n",
       "      <td>0.223</td>\n",
       "    </tr>\n",
       "    <tr>\n",
       "      <th>DIAG_FLAG1_Sum</th>\n",
       "      <td>0.220</td>\n",
       "    </tr>\n",
       "    <tr>\n",
       "      <th>DIAG_FLAG50_Sum</th>\n",
       "      <td>0.219</td>\n",
       "    </tr>\n",
       "    <tr>\n",
       "      <th>REVCODE_FLAG2_Sum</th>\n",
       "      <td>0.216</td>\n",
       "    </tr>\n",
       "    <tr>\n",
       "      <th>DIAG_FLAG40_Sum</th>\n",
       "      <td>0.215</td>\n",
       "    </tr>\n",
       "    <tr>\n",
       "      <th>ndc_cat63_Sum</th>\n",
       "      <td>0.211</td>\n",
       "    </tr>\n",
       "    <tr>\n",
       "      <th>ndc_cat38_Sum</th>\n",
       "      <td>0.207</td>\n",
       "    </tr>\n",
       "    <tr>\n",
       "      <th>DIAG_FLAG35_Sum</th>\n",
       "      <td>0.201</td>\n",
       "    </tr>\n",
       "    <tr>\n",
       "      <th>ndc_cat19_Sum</th>\n",
       "      <td>0.199</td>\n",
       "    </tr>\n",
       "    <tr>\n",
       "      <th>ndc_cat79_Sum</th>\n",
       "      <td>0.197</td>\n",
       "    </tr>\n",
       "    <tr>\n",
       "      <th>ndc_cat104_Sum</th>\n",
       "      <td>0.195</td>\n",
       "    </tr>\n",
       "    <tr>\n",
       "      <th>ndc_cat86_Sum</th>\n",
       "      <td>0.191</td>\n",
       "    </tr>\n",
       "    <tr>\n",
       "      <th>CPT_FLAG35_Sum</th>\n",
       "      <td>0.188</td>\n",
       "    </tr>\n",
       "    <tr>\n",
       "      <th>REVCODE_FLAG3_Sum</th>\n",
       "      <td>0.184</td>\n",
       "    </tr>\n",
       "    <tr>\n",
       "      <th>DIAG_FLAG52_Sum</th>\n",
       "      <td>0.181</td>\n",
       "    </tr>\n",
       "    <tr>\n",
       "      <th>DIAG_FLAG12_Sum</th>\n",
       "      <td>0.179</td>\n",
       "    </tr>\n",
       "    <tr>\n",
       "      <th>CPT_FLAG10_Sum</th>\n",
       "      <td>0.177</td>\n",
       "    </tr>\n",
       "    <tr>\n",
       "      <th>DIAG_FLAG69_Sum</th>\n",
       "      <td>0.177</td>\n",
       "    </tr>\n",
       "    <tr>\n",
       "      <th>ndc_cat60_Sum</th>\n",
       "      <td>0.171</td>\n",
       "    </tr>\n",
       "    <tr>\n",
       "      <th>ndc_cat74_Sum</th>\n",
       "      <td>0.167</td>\n",
       "    </tr>\n",
       "    <tr>\n",
       "      <th>ndc_cat66_Sum</th>\n",
       "      <td>0.164</td>\n",
       "    </tr>\n",
       "    <tr>\n",
       "      <th>DIAG_FLAG21_Sum</th>\n",
       "      <td>0.160</td>\n",
       "    </tr>\n",
       "    <tr>\n",
       "      <th>CPT_FLAG12_Sum</th>\n",
       "      <td>0.156</td>\n",
       "    </tr>\n",
       "    <tr>\n",
       "      <th>REVCODE_FLAG65_Sum</th>\n",
       "      <td>0.151</td>\n",
       "    </tr>\n",
       "    <tr>\n",
       "      <th>CPT_FLAG36_Sum</th>\n",
       "      <td>0.145</td>\n",
       "    </tr>\n",
       "    <tr>\n",
       "      <th>ndc_cat35_Sum</th>\n",
       "      <td>0.144</td>\n",
       "    </tr>\n",
       "    <tr>\n",
       "      <th>REVCODE_FLAG25_Sum</th>\n",
       "      <td>0.139</td>\n",
       "    </tr>\n",
       "    <tr>\n",
       "      <th>REVCODE_FLAG39_Sum</th>\n",
       "      <td>0.139</td>\n",
       "    </tr>\n",
       "    <tr>\n",
       "      <th>ndc_cat53_Sum</th>\n",
       "      <td>0.138</td>\n",
       "    </tr>\n",
       "    <tr>\n",
       "      <th>CPT_FLAG32_Sum</th>\n",
       "      <td>0.137</td>\n",
       "    </tr>\n",
       "    <tr>\n",
       "      <th>DIAG_FLAG74_Sum</th>\n",
       "      <td>0.134</td>\n",
       "    </tr>\n",
       "    <tr>\n",
       "      <th>ndc_cat37_Sum</th>\n",
       "      <td>0.130</td>\n",
       "    </tr>\n",
       "    <tr>\n",
       "      <th>DIAG_FLAG17_Sum</th>\n",
       "      <td>0.128</td>\n",
       "    </tr>\n",
       "    <tr>\n",
       "      <th>REVCODE_FLAG62_Sum</th>\n",
       "      <td>0.127</td>\n",
       "    </tr>\n",
       "    <tr>\n",
       "      <th>ndc_cat78_Sum</th>\n",
       "      <td>0.124</td>\n",
       "    </tr>\n",
       "    <tr>\n",
       "      <th>DIAG_FLAG47_Sum</th>\n",
       "      <td>0.122</td>\n",
       "    </tr>\n",
       "    <tr>\n",
       "      <th>ndc_cat80_Sum</th>\n",
       "      <td>0.122</td>\n",
       "    </tr>\n",
       "    <tr>\n",
       "      <th>CPT_FLAG26_Sum</th>\n",
       "      <td>0.122</td>\n",
       "    </tr>\n",
       "    <tr>\n",
       "      <th>REVCODE_FLAG24_Sum</th>\n",
       "      <td>0.122</td>\n",
       "    </tr>\n",
       "    <tr>\n",
       "      <th>CPT_FLAG19_Sum</th>\n",
       "      <td>0.120</td>\n",
       "    </tr>\n",
       "    <tr>\n",
       "      <th>DIAG_FLAG37_Sum</th>\n",
       "      <td>0.120</td>\n",
       "    </tr>\n",
       "    <tr>\n",
       "      <th>ndc_cat43_Sum</th>\n",
       "      <td>0.119</td>\n",
       "    </tr>\n",
       "    <tr>\n",
       "      <th>REVCODE_FLAG33_Sum</th>\n",
       "      <td>0.118</td>\n",
       "    </tr>\n",
       "    <tr>\n",
       "      <th>ndc_cat1_Sum</th>\n",
       "      <td>0.117</td>\n",
       "    </tr>\n",
       "    <tr>\n",
       "      <th>ndc_cat6_Sum</th>\n",
       "      <td>0.116</td>\n",
       "    </tr>\n",
       "    <tr>\n",
       "      <th>CPT_FLAG37_Sum</th>\n",
       "      <td>0.116</td>\n",
       "    </tr>\n",
       "    <tr>\n",
       "      <th>ndc_cat105_Sum</th>\n",
       "      <td>0.114</td>\n",
       "    </tr>\n",
       "    <tr>\n",
       "      <th>ndc_cat97_Sum</th>\n",
       "      <td>0.112</td>\n",
       "    </tr>\n",
       "    <tr>\n",
       "      <th>ndc_cat14_Sum</th>\n",
       "      <td>0.111</td>\n",
       "    </tr>\n",
       "    <tr>\n",
       "      <th>DIAG_FLAG61_Sum</th>\n",
       "      <td>0.110</td>\n",
       "    </tr>\n",
       "    <tr>\n",
       "      <th>ndc_cat68_Sum</th>\n",
       "      <td>0.108</td>\n",
       "    </tr>\n",
       "    <tr>\n",
       "      <th>ndc_cat61_Sum</th>\n",
       "      <td>0.106</td>\n",
       "    </tr>\n",
       "    <tr>\n",
       "      <th>DIAG_FLAG82_Sum</th>\n",
       "      <td>0.106</td>\n",
       "    </tr>\n",
       "    <tr>\n",
       "      <th>REVCODE_FLAG8_Sum</th>\n",
       "      <td>0.105</td>\n",
       "    </tr>\n",
       "    <tr>\n",
       "      <th>REVCODE_FLAG37_Sum</th>\n",
       "      <td>0.100</td>\n",
       "    </tr>\n",
       "    <tr>\n",
       "      <th>ndc_cat67_Sum</th>\n",
       "      <td>0.098</td>\n",
       "    </tr>\n",
       "    <tr>\n",
       "      <th>REVCODE_FLAG70_Sum</th>\n",
       "      <td>0.090</td>\n",
       "    </tr>\n",
       "    <tr>\n",
       "      <th>ndc_cat7_Sum</th>\n",
       "      <td>0.089</td>\n",
       "    </tr>\n",
       "    <tr>\n",
       "      <th>ndc_cat30_Sum</th>\n",
       "      <td>0.088</td>\n",
       "    </tr>\n",
       "    <tr>\n",
       "      <th>ndc_cat103_Sum</th>\n",
       "      <td>0.088</td>\n",
       "    </tr>\n",
       "    <tr>\n",
       "      <th>CPT_FLAG7_Sum</th>\n",
       "      <td>0.086</td>\n",
       "    </tr>\n",
       "    <tr>\n",
       "      <th>DIAG_FLAG32_Sum</th>\n",
       "      <td>0.084</td>\n",
       "    </tr>\n",
       "    <tr>\n",
       "      <th>CPT_FLAG34_Sum</th>\n",
       "      <td>0.081</td>\n",
       "    </tr>\n",
       "    <tr>\n",
       "      <th>CPT_FLAG13_Sum</th>\n",
       "      <td>0.081</td>\n",
       "    </tr>\n",
       "    <tr>\n",
       "      <th>ndc_cat98_Sum</th>\n",
       "      <td>0.080</td>\n",
       "    </tr>\n",
       "    <tr>\n",
       "      <th>REVCODE_FLAG66_Sum</th>\n",
       "      <td>0.080</td>\n",
       "    </tr>\n",
       "    <tr>\n",
       "      <th>ndc_cat102_Sum</th>\n",
       "      <td>0.077</td>\n",
       "    </tr>\n",
       "    <tr>\n",
       "      <th>ndc_cat27_Sum</th>\n",
       "      <td>0.077</td>\n",
       "    </tr>\n",
       "    <tr>\n",
       "      <th>ndc_cat71_Sum</th>\n",
       "      <td>0.074</td>\n",
       "    </tr>\n",
       "    <tr>\n",
       "      <th>ndc_cat10_Sum</th>\n",
       "      <td>0.070</td>\n",
       "    </tr>\n",
       "    <tr>\n",
       "      <th>REVCODE_FLAG31_Sum</th>\n",
       "      <td>0.068</td>\n",
       "    </tr>\n",
       "    <tr>\n",
       "      <th>CPT_FLAG33_Sum</th>\n",
       "      <td>0.063</td>\n",
       "    </tr>\n",
       "    <tr>\n",
       "      <th>ndc_cat41_Sum</th>\n",
       "      <td>0.063</td>\n",
       "    </tr>\n",
       "    <tr>\n",
       "      <th>REVCODE_FLAG6_Sum</th>\n",
       "      <td>0.060</td>\n",
       "    </tr>\n",
       "    <tr>\n",
       "      <th>ndc_cat26_Sum</th>\n",
       "      <td>0.060</td>\n",
       "    </tr>\n",
       "    <tr>\n",
       "      <th>CPT_FLAG5_Sum</th>\n",
       "      <td>0.058</td>\n",
       "    </tr>\n",
       "    <tr>\n",
       "      <th>DIAG_FLAG28_Sum</th>\n",
       "      <td>0.057</td>\n",
       "    </tr>\n",
       "    <tr>\n",
       "      <th>ndc_cat106_Sum</th>\n",
       "      <td>0.057</td>\n",
       "    </tr>\n",
       "    <tr>\n",
       "      <th>REVCODE_FLAG55_Sum</th>\n",
       "      <td>0.056</td>\n",
       "    </tr>\n",
       "    <tr>\n",
       "      <th>REVCODE_FLAG36_Sum</th>\n",
       "      <td>0.056</td>\n",
       "    </tr>\n",
       "    <tr>\n",
       "      <th>DIAG_FLAG87_Sum</th>\n",
       "      <td>0.055</td>\n",
       "    </tr>\n",
       "    <tr>\n",
       "      <th>REVCODE_FLAG26_Sum</th>\n",
       "      <td>0.055</td>\n",
       "    </tr>\n",
       "    <tr>\n",
       "      <th>ndc_cat96_Sum</th>\n",
       "      <td>0.054</td>\n",
       "    </tr>\n",
       "    <tr>\n",
       "      <th>ndc_cat36_Sum</th>\n",
       "      <td>0.053</td>\n",
       "    </tr>\n",
       "    <tr>\n",
       "      <th>ndc_cat88_Sum</th>\n",
       "      <td>0.053</td>\n",
       "    </tr>\n",
       "    <tr>\n",
       "      <th>CPT_FLAG3_Sum</th>\n",
       "      <td>0.052</td>\n",
       "    </tr>\n",
       "    <tr>\n",
       "      <th>REVCODE_FLAG41_Sum</th>\n",
       "      <td>0.052</td>\n",
       "    </tr>\n",
       "    <tr>\n",
       "      <th>ndc_cat48_Sum</th>\n",
       "      <td>0.052</td>\n",
       "    </tr>\n",
       "    <tr>\n",
       "      <th>ndc_cat4_Sum</th>\n",
       "      <td>0.051</td>\n",
       "    </tr>\n",
       "    <tr>\n",
       "      <th>ndc_cat24_Sum</th>\n",
       "      <td>0.048</td>\n",
       "    </tr>\n",
       "    <tr>\n",
       "      <th>DIAG_FLAG81_Sum</th>\n",
       "      <td>0.042</td>\n",
       "    </tr>\n",
       "    <tr>\n",
       "      <th>ndc_cat47_Sum</th>\n",
       "      <td>0.042</td>\n",
       "    </tr>\n",
       "    <tr>\n",
       "      <th>REVCODE_FLAG64_Sum</th>\n",
       "      <td>0.042</td>\n",
       "    </tr>\n",
       "    <tr>\n",
       "      <th>REVCODE_FLAG68_Sum</th>\n",
       "      <td>0.039</td>\n",
       "    </tr>\n",
       "    <tr>\n",
       "      <th>ndc_cat94_Sum</th>\n",
       "      <td>0.038</td>\n",
       "    </tr>\n",
       "    <tr>\n",
       "      <th>DIAG_FLAG29_Sum</th>\n",
       "      <td>0.033</td>\n",
       "    </tr>\n",
       "    <tr>\n",
       "      <th>ndc_cat101_Sum</th>\n",
       "      <td>0.032</td>\n",
       "    </tr>\n",
       "    <tr>\n",
       "      <th>DIAG_FLAG46_Sum</th>\n",
       "      <td>0.030</td>\n",
       "    </tr>\n",
       "    <tr>\n",
       "      <th>CPT_FLAG29_Sum</th>\n",
       "      <td>0.029</td>\n",
       "    </tr>\n",
       "    <tr>\n",
       "      <th>REVCODE_FLAG61_Sum</th>\n",
       "      <td>0.028</td>\n",
       "    </tr>\n",
       "    <tr>\n",
       "      <th>REVCODE_FLAG48_Sum</th>\n",
       "      <td>0.028</td>\n",
       "    </tr>\n",
       "    <tr>\n",
       "      <th>REVCODE_FLAG43_Sum</th>\n",
       "      <td>0.026</td>\n",
       "    </tr>\n",
       "    <tr>\n",
       "      <th>REVCODE_FLAG13_Sum</th>\n",
       "      <td>0.025</td>\n",
       "    </tr>\n",
       "    <tr>\n",
       "      <th>DIAG_FLAG33_Sum</th>\n",
       "      <td>0.025</td>\n",
       "    </tr>\n",
       "    <tr>\n",
       "      <th>ndc_cat95_Sum</th>\n",
       "      <td>0.024</td>\n",
       "    </tr>\n",
       "    <tr>\n",
       "      <th>ndc_cat52_Sum</th>\n",
       "      <td>0.022</td>\n",
       "    </tr>\n",
       "    <tr>\n",
       "      <th>REVCODE_FLAG60_Sum</th>\n",
       "      <td>0.022</td>\n",
       "    </tr>\n",
       "    <tr>\n",
       "      <th>REVCODE_FLAG7_Sum</th>\n",
       "      <td>0.022</td>\n",
       "    </tr>\n",
       "    <tr>\n",
       "      <th>CPT_FLAG2_Sum</th>\n",
       "      <td>0.020</td>\n",
       "    </tr>\n",
       "    <tr>\n",
       "      <th>ndc_cat65_Sum</th>\n",
       "      <td>0.020</td>\n",
       "    </tr>\n",
       "    <tr>\n",
       "      <th>REVCODE_FLAG30_Sum</th>\n",
       "      <td>0.019</td>\n",
       "    </tr>\n",
       "    <tr>\n",
       "      <th>REVCODE_FLAG1_Sum</th>\n",
       "      <td>0.018</td>\n",
       "    </tr>\n",
       "    <tr>\n",
       "      <th>REVCODE_FLAG4_Sum</th>\n",
       "      <td>0.018</td>\n",
       "    </tr>\n",
       "    <tr>\n",
       "      <th>REVCODE_FLAG54_Sum</th>\n",
       "      <td>0.018</td>\n",
       "    </tr>\n",
       "    <tr>\n",
       "      <th>REVCODE_FLAG29_Sum</th>\n",
       "      <td>0.018</td>\n",
       "    </tr>\n",
       "    <tr>\n",
       "      <th>DIAG_FLAG78_Sum</th>\n",
       "      <td>0.017</td>\n",
       "    </tr>\n",
       "    <tr>\n",
       "      <th>REVCODE_FLAG69_Sum</th>\n",
       "      <td>0.016</td>\n",
       "    </tr>\n",
       "    <tr>\n",
       "      <th>PROC_FLAG4_Sum</th>\n",
       "      <td>0.016</td>\n",
       "    </tr>\n",
       "    <tr>\n",
       "      <th>ndc_cat12_Sum</th>\n",
       "      <td>0.015</td>\n",
       "    </tr>\n",
       "    <tr>\n",
       "      <th>DIAG_FLAG26_Sum</th>\n",
       "      <td>0.014</td>\n",
       "    </tr>\n",
       "    <tr>\n",
       "      <th>ndc_cat34_Sum</th>\n",
       "      <td>0.014</td>\n",
       "    </tr>\n",
       "    <tr>\n",
       "      <th>DIAG_FLAG22_Sum</th>\n",
       "      <td>0.013</td>\n",
       "    </tr>\n",
       "    <tr>\n",
       "      <th>CPT_FLAG16_Sum</th>\n",
       "      <td>0.012</td>\n",
       "    </tr>\n",
       "    <tr>\n",
       "      <th>DIAG_FLAG16_Sum</th>\n",
       "      <td>0.012</td>\n",
       "    </tr>\n",
       "    <tr>\n",
       "      <th>DIAG_FLAG39_Sum</th>\n",
       "      <td>0.012</td>\n",
       "    </tr>\n",
       "    <tr>\n",
       "      <th>DIAG_FLAG36_Sum</th>\n",
       "      <td>0.011</td>\n",
       "    </tr>\n",
       "    <tr>\n",
       "      <th>ndc_cat107_Sum</th>\n",
       "      <td>0.011</td>\n",
       "    </tr>\n",
       "    <tr>\n",
       "      <th>REVCODE_FLAG50_Sum</th>\n",
       "      <td>0.010</td>\n",
       "    </tr>\n",
       "    <tr>\n",
       "      <th>CPT_FLAG14_Sum</th>\n",
       "      <td>0.010</td>\n",
       "    </tr>\n",
       "    <tr>\n",
       "      <th>REVCODE_FLAG27_Sum</th>\n",
       "      <td>0.010</td>\n",
       "    </tr>\n",
       "    <tr>\n",
       "      <th>CPT_FLAG15_Sum</th>\n",
       "      <td>0.010</td>\n",
       "    </tr>\n",
       "    <tr>\n",
       "      <th>ndc_cat55_Sum</th>\n",
       "      <td>0.009</td>\n",
       "    </tr>\n",
       "    <tr>\n",
       "      <th>REVCODE_FLAG44_Sum</th>\n",
       "      <td>0.009</td>\n",
       "    </tr>\n",
       "    <tr>\n",
       "      <th>REVCODE_FLAG18_Sum</th>\n",
       "      <td>0.009</td>\n",
       "    </tr>\n",
       "    <tr>\n",
       "      <th>DIAG_FLAG23_Sum</th>\n",
       "      <td>0.009</td>\n",
       "    </tr>\n",
       "    <tr>\n",
       "      <th>ndc_cat17_Sum</th>\n",
       "      <td>0.008</td>\n",
       "    </tr>\n",
       "    <tr>\n",
       "      <th>ndc_cat73_Sum</th>\n",
       "      <td>0.008</td>\n",
       "    </tr>\n",
       "    <tr>\n",
       "      <th>ndc_cat69_Sum</th>\n",
       "      <td>0.007</td>\n",
       "    </tr>\n",
       "    <tr>\n",
       "      <th>REVCODE_FLAG40_Sum</th>\n",
       "      <td>0.007</td>\n",
       "    </tr>\n",
       "    <tr>\n",
       "      <th>REVCODE_FLAG49_Sum</th>\n",
       "      <td>0.006</td>\n",
       "    </tr>\n",
       "    <tr>\n",
       "      <th>REVCODE_FLAG52_Sum</th>\n",
       "      <td>0.006</td>\n",
       "    </tr>\n",
       "    <tr>\n",
       "      <th>REVCODE_FLAG32_Sum</th>\n",
       "      <td>0.006</td>\n",
       "    </tr>\n",
       "    <tr>\n",
       "      <th>REVCODE_FLAG35_Sum</th>\n",
       "      <td>0.005</td>\n",
       "    </tr>\n",
       "    <tr>\n",
       "      <th>REVCODE_FLAG57_Sum</th>\n",
       "      <td>0.005</td>\n",
       "    </tr>\n",
       "    <tr>\n",
       "      <th>ndc_cat84_Sum</th>\n",
       "      <td>0.005</td>\n",
       "    </tr>\n",
       "    <tr>\n",
       "      <th>REVCODE_FLAG51_Sum</th>\n",
       "      <td>0.004</td>\n",
       "    </tr>\n",
       "    <tr>\n",
       "      <th>ndc_cat91_Sum</th>\n",
       "      <td>0.003</td>\n",
       "    </tr>\n",
       "    <tr>\n",
       "      <th>PROC_FLAG5_Sum</th>\n",
       "      <td>0.003</td>\n",
       "    </tr>\n",
       "    <tr>\n",
       "      <th>REVCODE_FLAG53_Sum</th>\n",
       "      <td>0.003</td>\n",
       "    </tr>\n",
       "    <tr>\n",
       "      <th>ndc_cat75_Sum</th>\n",
       "      <td>0.003</td>\n",
       "    </tr>\n",
       "    <tr>\n",
       "      <th>REVCODE_FLAG21_Sum</th>\n",
       "      <td>0.003</td>\n",
       "    </tr>\n",
       "    <tr>\n",
       "      <th>REVCODE_FLAG56_Sum</th>\n",
       "      <td>0.003</td>\n",
       "    </tr>\n",
       "    <tr>\n",
       "      <th>ndc_cat64_Sum</th>\n",
       "      <td>0.002</td>\n",
       "    </tr>\n",
       "    <tr>\n",
       "      <th>DIAG_FLAG25_Sum</th>\n",
       "      <td>0.002</td>\n",
       "    </tr>\n",
       "    <tr>\n",
       "      <th>REVCODE_FLAG5_Sum</th>\n",
       "      <td>0.002</td>\n",
       "    </tr>\n",
       "    <tr>\n",
       "      <th>ndc_cat9_Sum</th>\n",
       "      <td>0.001</td>\n",
       "    </tr>\n",
       "    <tr>\n",
       "      <th>ndc_cat50_Sum</th>\n",
       "      <td>0.001</td>\n",
       "    </tr>\n",
       "    <tr>\n",
       "      <th>ndc_cat90_Sum</th>\n",
       "      <td>0.001</td>\n",
       "    </tr>\n",
       "    <tr>\n",
       "      <th>CPT_FLAG11_Sum</th>\n",
       "      <td>0.001</td>\n",
       "    </tr>\n",
       "    <tr>\n",
       "      <th>ndc_cat25_Sum</th>\n",
       "      <td>0.001</td>\n",
       "    </tr>\n",
       "    <tr>\n",
       "      <th>ndc_cat8_Sum</th>\n",
       "      <td>0.001</td>\n",
       "    </tr>\n",
       "    <tr>\n",
       "      <th>REVCODE_FLAG59_Sum</th>\n",
       "      <td>0.001</td>\n",
       "    </tr>\n",
       "    <tr>\n",
       "      <th>ndc_cat89_Sum</th>\n",
       "      <td>0.001</td>\n",
       "    </tr>\n",
       "    <tr>\n",
       "      <th>REVCODE_FLAG42_Sum</th>\n",
       "      <td>0.001</td>\n",
       "    </tr>\n",
       "    <tr>\n",
       "      <th>REVCODE_FLAG9_Sum</th>\n",
       "      <td>0.001</td>\n",
       "    </tr>\n",
       "    <tr>\n",
       "      <th>REVCODE_FLAG58_Sum</th>\n",
       "      <td>0.001</td>\n",
       "    </tr>\n",
       "    <tr>\n",
       "      <th>DIAG_FLAG62_Sum</th>\n",
       "      <td>0.000</td>\n",
       "    </tr>\n",
       "    <tr>\n",
       "      <th>DIAG_FLAG27_Sum</th>\n",
       "      <td>0.000</td>\n",
       "    </tr>\n",
       "    <tr>\n",
       "      <th>PROC_FLAG2_Sum</th>\n",
       "      <td>0.000</td>\n",
       "    </tr>\n",
       "    <tr>\n",
       "      <th>REVCODE_FLAG47_Sum</th>\n",
       "      <td>0.000</td>\n",
       "    </tr>\n",
       "    <tr>\n",
       "      <th>ndc_cat99_Sum</th>\n",
       "      <td>0.000</td>\n",
       "    </tr>\n",
       "    <tr>\n",
       "      <th>CPT_FLAG17_Sum</th>\n",
       "      <td>0.000</td>\n",
       "    </tr>\n",
       "    <tr>\n",
       "      <th>ndc_cat46_Sum</th>\n",
       "      <td>0.000</td>\n",
       "    </tr>\n",
       "    <tr>\n",
       "      <th>ndc_cat57_Sum</th>\n",
       "      <td>0.000</td>\n",
       "    </tr>\n",
       "    <tr>\n",
       "      <th>ndc_cat56_Sum</th>\n",
       "      <td>0.000</td>\n",
       "    </tr>\n",
       "    <tr>\n",
       "      <th>ndc_cat2_Sum</th>\n",
       "      <td>0.000</td>\n",
       "    </tr>\n",
       "    <tr>\n",
       "      <th>REVCODE_FLAG46_Sum</th>\n",
       "      <td>0.000</td>\n",
       "    </tr>\n",
       "    <tr>\n",
       "      <th>CPT_FLAG8_Sum</th>\n",
       "      <td>0.000</td>\n",
       "    </tr>\n",
       "    <tr>\n",
       "      <th>ndc_cat3_Sum</th>\n",
       "      <td>0.000</td>\n",
       "    </tr>\n",
       "    <tr>\n",
       "      <th>ndc_cat32_Sum</th>\n",
       "      <td>0.000</td>\n",
       "    </tr>\n",
       "    <tr>\n",
       "      <th>ndc_cat62_Sum</th>\n",
       "      <td>0.000</td>\n",
       "    </tr>\n",
       "  </tbody>\n",
       "</table>\n",
       "</div>"
      ],
      "text/plain": [
       "                    Importance\n",
       "DIAG_FLAG4_Sum          14.798\n",
       "DIAG_FLAG5_Sum          11.083\n",
       "CPT_FLAG9_Sum            2.867\n",
       "ndc_cat87_Sum            2.798\n",
       "ndc_cat58_Sum            2.792\n",
       "age                      1.806\n",
       "DIAG_FLAG75_Sum          1.615\n",
       "DIAG_FLAG42_Sum          1.565\n",
       "CPT_FLAG43_Sum           1.518\n",
       "ndc_cat54_Sum            1.328\n",
       "CPT_FLAG48_Sum           1.323\n",
       "DIAG_FLAG38_Sum          1.089\n",
       "DIAG_FLAG7_Sum           1.078\n",
       "DIAG_FLAG54_Sum          0.963\n",
       "CPT_FLAG49_Sum           0.935\n",
       "REVCODE_FLAG16_Sum       0.928\n",
       "DIAG_FLAG71_Sum          0.868\n",
       "DIAG_FLAG72_Sum          0.848\n",
       "REVCODE_FLAG11_Sum       0.847\n",
       "REVCODE_FLAG19_Sum       0.840\n",
       "DIAG_FLAG53_Sum          0.824\n",
       "ndc_cat16_Sum            0.817\n",
       "DIAG_FLAG31_Sum          0.762\n",
       "DIAG_FLAG48_Sum          0.738\n",
       "ndc_cat15_Sum            0.736\n",
       "DIAG_FLAG49_Sum          0.727\n",
       "DIAG_FLAG55_Sum          0.712\n",
       "CPT_FLAG20_Sum           0.680\n",
       "CPT_FLAG46_Sum           0.672\n",
       "DIAG_FLAG24_Sum          0.662\n",
       "DIAG_FLAG9_Sum           0.650\n",
       "CPT_FLAG47_Sum           0.633\n",
       "ndc_cat21_Sum            0.632\n",
       "ndc_cat22_Sum            0.617\n",
       "CPT_FLAG6_Sum            0.612\n",
       "DIAG_FLAG67_Sum          0.609\n",
       "DIAG_FLAG45_Sum          0.592\n",
       "ndc_cat11_Sum            0.586\n",
       "ndc_cat85_Sum            0.566\n",
       "ndc_cat40_Sum            0.563\n",
       "DIAG_FLAG77_Sum          0.547\n",
       "REVCODE_FLAG15_Sum       0.539\n",
       "REVCODE_FLAG22_Sum       0.537\n",
       "ndc_cat77_Sum            0.521\n",
       "REVCODE_FLAG38_Sum       0.519\n",
       "DIAG_FLAG85_Sum          0.500\n",
       "ndc_cat44_Sum            0.498\n",
       "ndc_cat18_Sum            0.495\n",
       "ndc_cat82_Sum            0.480\n",
       "DIAG_FLAG60_Sum          0.474\n",
       "DIAG_FLAG15_Sum          0.471\n",
       "ndc_cat70_Sum            0.456\n",
       "REVCODE_FLAG12_Sum       0.452\n",
       "ndc_cat13_Sum            0.433\n",
       "CPT_FLAG21_Sum           0.410\n",
       "DIAG_FLAG41_Sum          0.406\n",
       "DIAG_FLAG11_Sum          0.404\n",
       "ndc_cat20_Sum            0.404\n",
       "DIAG_FLAG80_Sum          0.394\n",
       "DIAG_FLAG86_Sum          0.385\n",
       "DIAG_FLAG34_Sum          0.383\n",
       "DIAG_FLAG83_Sum          0.376\n",
       "DIAG_FLAG84_Sum          0.374\n",
       "REVCODE_FLAG63_Sum       0.373\n",
       "DIAG_FLAG6_Sum           0.373\n",
       "CPT_FLAG1_Sum            0.365\n",
       "REVCODE_FLAG23_Sum       0.365\n",
       "ndc_cat39_Sum            0.358\n",
       "ndc_cat31_Sum            0.357\n",
       "CPT_FLAG18_Sum           0.357\n",
       "ndc_cat49_Sum            0.357\n",
       "DIAG_FLAG68_Sum          0.353\n",
       "REVCODE_FLAG67_Sum       0.343\n",
       "ndc_cat5_Sum             0.340\n",
       "DIAG_FLAG79_Sum          0.339\n",
       "Gender_M                 0.335\n",
       "ndc_cat23_Sum            0.333\n",
       "DIAG_FLAG73_Sum          0.329\n",
       "ndc_cat76_Sum            0.314\n",
       "REVCODE_FLAG34_Sum       0.299\n",
       "ndc_cat83_Sum            0.295\n",
       "CPT_FLAG22_Sum           0.289\n",
       "ndc_cat29_Sum            0.283\n",
       "DIAG_FLAG66_Sum          0.279\n",
       "REVCODE_FLAG20_Sum       0.274\n",
       "DIAG_FLAG8_Sum           0.272\n",
       "ndc_cat100_Sum           0.270\n",
       "DIAG_FLAG30_Sum          0.269\n",
       "DIAG_FLAG10_Sum          0.268\n",
       "ndc_cat72_Sum            0.267\n",
       "DIAG_FLAG76_Sum          0.266\n",
       "ndc_cat42_Sum            0.266\n",
       "DIAG_FLAG70_Sum          0.265\n",
       "DIAG_FLAG51_Sum          0.255\n",
       "REVCODE_FLAG28_Sum       0.252\n",
       "REVCODE_FLAG10_Sum       0.249\n",
       "CPT_FLAG45_Sum           0.245\n",
       "REVCODE_FLAG17_Sum       0.244\n",
       "ndc_cat59_Sum            0.240\n",
       "ndc_cat28_Sum            0.239\n",
       "ndc_cat33_Sum            0.236\n",
       "ndc_cat45_Sum            0.233\n",
       "REVCODE_FLAG14_Sum       0.232\n",
       "DIAG_FLAG3_Sum           0.228\n",
       "DIAG_FLAG63_Sum          0.226\n",
       "DIAG_FLAG2_Sum           0.225\n",
       "CPT_FLAG4_Sum            0.223\n",
       "DIAG_FLAG1_Sum           0.220\n",
       "DIAG_FLAG50_Sum          0.219\n",
       "REVCODE_FLAG2_Sum        0.216\n",
       "DIAG_FLAG40_Sum          0.215\n",
       "ndc_cat63_Sum            0.211\n",
       "ndc_cat38_Sum            0.207\n",
       "DIAG_FLAG35_Sum          0.201\n",
       "ndc_cat19_Sum            0.199\n",
       "ndc_cat79_Sum            0.197\n",
       "ndc_cat104_Sum           0.195\n",
       "ndc_cat86_Sum            0.191\n",
       "CPT_FLAG35_Sum           0.188\n",
       "REVCODE_FLAG3_Sum        0.184\n",
       "DIAG_FLAG52_Sum          0.181\n",
       "DIAG_FLAG12_Sum          0.179\n",
       "CPT_FLAG10_Sum           0.177\n",
       "DIAG_FLAG69_Sum          0.177\n",
       "ndc_cat60_Sum            0.171\n",
       "ndc_cat74_Sum            0.167\n",
       "ndc_cat66_Sum            0.164\n",
       "DIAG_FLAG21_Sum          0.160\n",
       "CPT_FLAG12_Sum           0.156\n",
       "REVCODE_FLAG65_Sum       0.151\n",
       "CPT_FLAG36_Sum           0.145\n",
       "ndc_cat35_Sum            0.144\n",
       "REVCODE_FLAG25_Sum       0.139\n",
       "REVCODE_FLAG39_Sum       0.139\n",
       "ndc_cat53_Sum            0.138\n",
       "CPT_FLAG32_Sum           0.137\n",
       "DIAG_FLAG74_Sum          0.134\n",
       "ndc_cat37_Sum            0.130\n",
       "DIAG_FLAG17_Sum          0.128\n",
       "REVCODE_FLAG62_Sum       0.127\n",
       "ndc_cat78_Sum            0.124\n",
       "DIAG_FLAG47_Sum          0.122\n",
       "ndc_cat80_Sum            0.122\n",
       "CPT_FLAG26_Sum           0.122\n",
       "REVCODE_FLAG24_Sum       0.122\n",
       "CPT_FLAG19_Sum           0.120\n",
       "DIAG_FLAG37_Sum          0.120\n",
       "ndc_cat43_Sum            0.119\n",
       "REVCODE_FLAG33_Sum       0.118\n",
       "ndc_cat1_Sum             0.117\n",
       "ndc_cat6_Sum             0.116\n",
       "CPT_FLAG37_Sum           0.116\n",
       "ndc_cat105_Sum           0.114\n",
       "ndc_cat97_Sum            0.112\n",
       "ndc_cat14_Sum            0.111\n",
       "DIAG_FLAG61_Sum          0.110\n",
       "ndc_cat68_Sum            0.108\n",
       "ndc_cat61_Sum            0.106\n",
       "DIAG_FLAG82_Sum          0.106\n",
       "REVCODE_FLAG8_Sum        0.105\n",
       "REVCODE_FLAG37_Sum       0.100\n",
       "ndc_cat67_Sum            0.098\n",
       "REVCODE_FLAG70_Sum       0.090\n",
       "ndc_cat7_Sum             0.089\n",
       "ndc_cat30_Sum            0.088\n",
       "ndc_cat103_Sum           0.088\n",
       "CPT_FLAG7_Sum            0.086\n",
       "DIAG_FLAG32_Sum          0.084\n",
       "CPT_FLAG34_Sum           0.081\n",
       "CPT_FLAG13_Sum           0.081\n",
       "ndc_cat98_Sum            0.080\n",
       "REVCODE_FLAG66_Sum       0.080\n",
       "ndc_cat102_Sum           0.077\n",
       "ndc_cat27_Sum            0.077\n",
       "ndc_cat71_Sum            0.074\n",
       "ndc_cat10_Sum            0.070\n",
       "REVCODE_FLAG31_Sum       0.068\n",
       "CPT_FLAG33_Sum           0.063\n",
       "ndc_cat41_Sum            0.063\n",
       "REVCODE_FLAG6_Sum        0.060\n",
       "ndc_cat26_Sum            0.060\n",
       "CPT_FLAG5_Sum            0.058\n",
       "DIAG_FLAG28_Sum          0.057\n",
       "ndc_cat106_Sum           0.057\n",
       "REVCODE_FLAG55_Sum       0.056\n",
       "REVCODE_FLAG36_Sum       0.056\n",
       "DIAG_FLAG87_Sum          0.055\n",
       "REVCODE_FLAG26_Sum       0.055\n",
       "ndc_cat96_Sum            0.054\n",
       "ndc_cat36_Sum            0.053\n",
       "ndc_cat88_Sum            0.053\n",
       "CPT_FLAG3_Sum            0.052\n",
       "REVCODE_FLAG41_Sum       0.052\n",
       "ndc_cat48_Sum            0.052\n",
       "ndc_cat4_Sum             0.051\n",
       "ndc_cat24_Sum            0.048\n",
       "DIAG_FLAG81_Sum          0.042\n",
       "ndc_cat47_Sum            0.042\n",
       "REVCODE_FLAG64_Sum       0.042\n",
       "REVCODE_FLAG68_Sum       0.039\n",
       "ndc_cat94_Sum            0.038\n",
       "DIAG_FLAG29_Sum          0.033\n",
       "ndc_cat101_Sum           0.032\n",
       "DIAG_FLAG46_Sum          0.030\n",
       "CPT_FLAG29_Sum           0.029\n",
       "REVCODE_FLAG61_Sum       0.028\n",
       "REVCODE_FLAG48_Sum       0.028\n",
       "REVCODE_FLAG43_Sum       0.026\n",
       "REVCODE_FLAG13_Sum       0.025\n",
       "DIAG_FLAG33_Sum          0.025\n",
       "ndc_cat95_Sum            0.024\n",
       "ndc_cat52_Sum            0.022\n",
       "REVCODE_FLAG60_Sum       0.022\n",
       "REVCODE_FLAG7_Sum        0.022\n",
       "CPT_FLAG2_Sum            0.020\n",
       "ndc_cat65_Sum            0.020\n",
       "REVCODE_FLAG30_Sum       0.019\n",
       "REVCODE_FLAG1_Sum        0.018\n",
       "REVCODE_FLAG4_Sum        0.018\n",
       "REVCODE_FLAG54_Sum       0.018\n",
       "REVCODE_FLAG29_Sum       0.018\n",
       "DIAG_FLAG78_Sum          0.017\n",
       "REVCODE_FLAG69_Sum       0.016\n",
       "PROC_FLAG4_Sum           0.016\n",
       "ndc_cat12_Sum            0.015\n",
       "DIAG_FLAG26_Sum          0.014\n",
       "ndc_cat34_Sum            0.014\n",
       "DIAG_FLAG22_Sum          0.013\n",
       "CPT_FLAG16_Sum           0.012\n",
       "DIAG_FLAG16_Sum          0.012\n",
       "DIAG_FLAG39_Sum          0.012\n",
       "DIAG_FLAG36_Sum          0.011\n",
       "ndc_cat107_Sum           0.011\n",
       "REVCODE_FLAG50_Sum       0.010\n",
       "CPT_FLAG14_Sum           0.010\n",
       "REVCODE_FLAG27_Sum       0.010\n",
       "CPT_FLAG15_Sum           0.010\n",
       "ndc_cat55_Sum            0.009\n",
       "REVCODE_FLAG44_Sum       0.009\n",
       "REVCODE_FLAG18_Sum       0.009\n",
       "DIAG_FLAG23_Sum          0.009\n",
       "ndc_cat17_Sum            0.008\n",
       "ndc_cat73_Sum            0.008\n",
       "ndc_cat69_Sum            0.007\n",
       "REVCODE_FLAG40_Sum       0.007\n",
       "REVCODE_FLAG49_Sum       0.006\n",
       "REVCODE_FLAG52_Sum       0.006\n",
       "REVCODE_FLAG32_Sum       0.006\n",
       "REVCODE_FLAG35_Sum       0.005\n",
       "REVCODE_FLAG57_Sum       0.005\n",
       "ndc_cat84_Sum            0.005\n",
       "REVCODE_FLAG51_Sum       0.004\n",
       "ndc_cat91_Sum            0.003\n",
       "PROC_FLAG5_Sum           0.003\n",
       "REVCODE_FLAG53_Sum       0.003\n",
       "ndc_cat75_Sum            0.003\n",
       "REVCODE_FLAG21_Sum       0.003\n",
       "REVCODE_FLAG56_Sum       0.003\n",
       "ndc_cat64_Sum            0.002\n",
       "DIAG_FLAG25_Sum          0.002\n",
       "REVCODE_FLAG5_Sum        0.002\n",
       "ndc_cat9_Sum             0.001\n",
       "ndc_cat50_Sum            0.001\n",
       "ndc_cat90_Sum            0.001\n",
       "CPT_FLAG11_Sum           0.001\n",
       "ndc_cat25_Sum            0.001\n",
       "ndc_cat8_Sum             0.001\n",
       "REVCODE_FLAG59_Sum       0.001\n",
       "ndc_cat89_Sum            0.001\n",
       "REVCODE_FLAG42_Sum       0.001\n",
       "REVCODE_FLAG9_Sum        0.001\n",
       "REVCODE_FLAG58_Sum       0.001\n",
       "DIAG_FLAG62_Sum          0.000\n",
       "DIAG_FLAG27_Sum          0.000\n",
       "PROC_FLAG2_Sum           0.000\n",
       "REVCODE_FLAG47_Sum       0.000\n",
       "ndc_cat99_Sum            0.000\n",
       "CPT_FLAG17_Sum           0.000\n",
       "ndc_cat46_Sum            0.000\n",
       "ndc_cat57_Sum            0.000\n",
       "ndc_cat56_Sum            0.000\n",
       "ndc_cat2_Sum             0.000\n",
       "REVCODE_FLAG46_Sum       0.000\n",
       "CPT_FLAG8_Sum            0.000\n",
       "ndc_cat3_Sum             0.000\n",
       "ndc_cat32_Sum            0.000\n",
       "ndc_cat62_Sum            0.000"
      ]
     },
     "execution_count": 46,
     "metadata": {},
     "output_type": "execute_result"
    }
   ],
   "source": [
    "importance = pd.DataFrame(pnu_test.feature_importances_, index=X_test.columns.values, columns=['Importance']).sort_values(by='Importance', ascending=False)\n",
    "importance.round(5) * 100"
   ]
  },
  {
   "cell_type": "code",
   "execution_count": 47,
   "metadata": {
    "collapsed": false
   },
   "outputs": [
    {
     "data": {
      "text/plain": [
       "Importance    0.008245\n",
       "Name: DIAG_FLAG53_Sum, dtype: float64"
      ]
     },
     "execution_count": 47,
     "metadata": {},
     "output_type": "execute_result"
    }
   ],
   "source": [
    "importance.loc['DIAG_FLAG53_Sum']"
   ]
  },
  {
   "cell_type": "code",
   "execution_count": 48,
   "metadata": {
    "collapsed": false
   },
   "outputs": [
    {
     "data": {
      "text/plain": [
       "<matplotlib.legend.Legend at 0x102fa978>"
      ]
     },
     "execution_count": 48,
     "metadata": {},
     "output_type": "execute_result"
    },
    {
     "data": {
      "image/png": "[encoded data removed]",
      "text/plain": [
       "<matplotlib.figure.Figure at 0x102facf8>"
      ]
     },
     "metadata": {},
     "output_type": "display_data"
    }
   ],
   "source": [
    "ax = importance.iloc[:20].iloc[::-1].plot(kind='barh')\n",
    "ax.legend(loc='right')"
   ]
  },
  {
   "cell_type": "markdown",
   "metadata": {},
   "source": [
    "# Probability distribution of the 20%"
   ]
  },
  {
   "cell_type": "code",
   "execution_count": 49,
   "metadata": {
    "collapsed": true
   },
   "outputs": [],
   "source": [
    "pnu_test.base_estimator.voting = 'soft'"
   ]
  },
  {
   "cell_type": "code",
   "execution_count": 50,
   "metadata": {
    "collapsed": false
   },
   "outputs": [
    {
     "name": "stderr",
     "output_type": "stream",
     "text": [
      "[Parallel(n_jobs=1)]: Done  93 out of  93 | elapsed:   26.0s finished\n"
     ]
    }
   ],
   "source": [
    "probas = pnu_test.predict_proba(X_test)[:, -1]"
   ]
  },
  {
   "cell_type": "code",
   "execution_count": 51,
   "metadata": {
    "collapsed": true
   },
   "outputs": [],
   "source": [
    "probas_df = pd.DataFrame(data={'probas':probas, 'y_test':y_test.values}).sort_values(by='probas', ascending=False)"
   ]
  },
  {
   "cell_type": "code",
   "execution_count": 52,
   "metadata": {
    "collapsed": false
   },
   "outputs": [
    {
     "data": {
      "text/plain": [
       "<matplotlib.axes._subplots.AxesSubplot at 0xc9afb00>"
      ]
     },
     "execution_count": 52,
     "metadata": {},
     "output_type": "execute_result"
    },
    {
     "data": {
      "image/png": "[encoded data removed]",
      "text/plain": [
       "<matplotlib.figure.Figure at 0xbdd1c88>"
      ]
     },
     "metadata": {},
     "output_type": "display_data"
    }
   ],
   "source": [
    "probas_df['probas'].plot.hist(bins=100)"
   ]
  },
  {
   "cell_type": "code",
   "execution_count": 53,
   "metadata": {
    "collapsed": true
   },
   "outputs": [],
   "source": [
    "bins = np.linspace(0.0, 1.0, 101)\n",
    "percent = pd.cut(probas_df['probas'], bins=bins, include_lowest=True, precision=6, labels=list(range(0,100)))\n",
    "probas_df['percent'] = percent"
   ]
  },
  {
   "cell_type": "code",
   "execution_count": 54,
   "metadata": {
    "collapsed": true
   },
   "outputs": [],
   "source": [
    "bins5 = np.linspace(0.0, 1.0, 21)\n",
    "percent5 = pd.cut(probas_df['probas'], right=True, bins=bins5, include_lowest=True, precision=6, \n",
    "                  labels=['0%-5%','5%-10%','10%-15%','15%-20%','20%-25%','25%-30%','30%-35%','35%-40%','40%-45%','45%-50%',\n",
    "                          '50%-55%','55%-60%','60%-65%','65%-70%','70%-75%','75%-80%','80%-85%','85%-90%','90%-95%',\n",
    "                          '95%-100%'])\n",
    "probas_df['percent5'] = percent5"
   ]
  },
  {
   "cell_type": "code",
   "execution_count": 55,
   "metadata": {
    "collapsed": true
   },
   "outputs": [],
   "source": [
    "probas_df.to_csv('./res/predicted_probabilities_soft.csv')"
   ]
  },
  {
   "cell_type": "code",
   "execution_count": 56,
   "metadata": {
    "collapsed": false
   },
   "outputs": [
    {
     "data": {
      "text/html": [
       "<div>\n",
       "<table border=\"1\" class=\"dataframe\">\n",
       "  <thead>\n",
       "    <tr style=\"text-align: right;\">\n",
       "      <th></th>\n",
       "      <th>probas</th>\n",
       "      <th>y_test</th>\n",
       "      <th>percent</th>\n",
       "      <th>percent5</th>\n",
       "    </tr>\n",
       "  </thead>\n",
       "  <tbody>\n",
       "    <tr>\n",
       "      <th>73802</th>\n",
       "      <td>0.937634</td>\n",
       "      <td>-1</td>\n",
       "      <td>93</td>\n",
       "      <td>90%-95%</td>\n",
       "    </tr>\n",
       "    <tr>\n",
       "      <th>85849</th>\n",
       "      <td>0.912903</td>\n",
       "      <td>-1</td>\n",
       "      <td>91</td>\n",
       "      <td>90%-95%</td>\n",
       "    </tr>\n",
       "    <tr>\n",
       "      <th>2240</th>\n",
       "      <td>0.911828</td>\n",
       "      <td>-1</td>\n",
       "      <td>91</td>\n",
       "      <td>90%-95%</td>\n",
       "    </tr>\n",
       "    <tr>\n",
       "      <th>13901</th>\n",
       "      <td>0.905376</td>\n",
       "      <td>-1</td>\n",
       "      <td>90</td>\n",
       "      <td>90%-95%</td>\n",
       "    </tr>\n",
       "    <tr>\n",
       "      <th>84088</th>\n",
       "      <td>0.904301</td>\n",
       "      <td>-1</td>\n",
       "      <td>90</td>\n",
       "      <td>90%-95%</td>\n",
       "    </tr>\n",
       "  </tbody>\n",
       "</table>\n",
       "</div>"
      ],
      "text/plain": [
       "         probas  y_test percent percent5\n",
       "73802  0.937634      -1      93  90%-95%\n",
       "85849  0.912903      -1      91  90%-95%\n",
       "2240   0.911828      -1      91  90%-95%\n",
       "13901  0.905376      -1      90  90%-95%\n",
       "84088  0.904301      -1      90  90%-95%"
      ]
     },
     "execution_count": 56,
     "metadata": {},
     "output_type": "execute_result"
    }
   ],
   "source": [
    "probas_df.head()"
   ]
  },
  {
   "cell_type": "code",
   "execution_count": 57,
   "metadata": {
    "collapsed": true
   },
   "outputs": [],
   "source": [
    "dummies = pd.get_dummies(probas_df['y_test'], prefix='y=', prefix_sep='')"
   ]
  },
  {
   "cell_type": "code",
   "execution_count": 58,
   "metadata": {
    "collapsed": true
   },
   "outputs": [],
   "source": [
    "probas_df = pd.concat([probas_df, dummies], axis=1)"
   ]
  },
  {
   "cell_type": "code",
   "execution_count": 59,
   "metadata": {
    "collapsed": true
   },
   "outputs": [],
   "source": [
    "probas_group = probas_df.groupby('percent5')"
   ]
  },
  {
   "cell_type": "code",
   "execution_count": 60,
   "metadata": {
    "collapsed": true
   },
   "outputs": [],
   "source": [
    "percentile_df = probas_group.aggregate({'probas':'count', 'y=-1':'sum', 'y=0':'sum', 'y=1':'sum'})"
   ]
  },
  {
   "cell_type": "code",
   "execution_count": 61,
   "metadata": {
    "collapsed": false
   },
   "outputs": [
    {
     "data": {
      "text/html": [
       "<div>\n",
       "<table border=\"1\" class=\"dataframe\">\n",
       "  <thead>\n",
       "    <tr style=\"text-align: right;\">\n",
       "      <th></th>\n",
       "      <th>probas</th>\n",
       "      <th>y=1</th>\n",
       "      <th>y=0</th>\n",
       "      <th>y=-1</th>\n",
       "    </tr>\n",
       "    <tr>\n",
       "      <th>percent5</th>\n",
       "      <th></th>\n",
       "      <th></th>\n",
       "      <th></th>\n",
       "      <th></th>\n",
       "    </tr>\n",
       "  </thead>\n",
       "  <tbody>\n",
       "    <tr>\n",
       "      <th>0%-5%</th>\n",
       "      <td>23532</td>\n",
       "      <td>6.0</td>\n",
       "      <td>1.0</td>\n",
       "      <td>23525.0</td>\n",
       "    </tr>\n",
       "    <tr>\n",
       "      <th>5%-10%</th>\n",
       "      <td>17709</td>\n",
       "      <td>2.0</td>\n",
       "      <td>11.0</td>\n",
       "      <td>17696.0</td>\n",
       "    </tr>\n",
       "    <tr>\n",
       "      <th>10%-15%</th>\n",
       "      <td>12378</td>\n",
       "      <td>5.0</td>\n",
       "      <td>33.0</td>\n",
       "      <td>12340.0</td>\n",
       "    </tr>\n",
       "    <tr>\n",
       "      <th>15%-20%</th>\n",
       "      <td>9307</td>\n",
       "      <td>6.0</td>\n",
       "      <td>32.0</td>\n",
       "      <td>9269.0</td>\n",
       "    </tr>\n",
       "    <tr>\n",
       "      <th>20%-25%</th>\n",
       "      <td>6495</td>\n",
       "      <td>14.0</td>\n",
       "      <td>34.0</td>\n",
       "      <td>6447.0</td>\n",
       "    </tr>\n",
       "  </tbody>\n",
       "</table>\n",
       "</div>"
      ],
      "text/plain": [
       "          probas   y=1   y=0     y=-1\n",
       "percent5                             \n",
       "0%-5%      23532   6.0   1.0  23525.0\n",
       "5%-10%     17709   2.0  11.0  17696.0\n",
       "10%-15%    12378   5.0  33.0  12340.0\n",
       "15%-20%     9307   6.0  32.0   9269.0\n",
       "20%-25%     6495  14.0  34.0   6447.0"
      ]
     },
     "execution_count": 61,
     "metadata": {},
     "output_type": "execute_result"
    }
   ],
   "source": [
    "percentile_df.head()"
   ]
  },
  {
   "cell_type": "code",
   "execution_count": 62,
   "metadata": {
    "collapsed": true
   },
   "outputs": [],
   "source": [
    "labeled_tot = percentile_df['y=1'] + percentile_df['y=0']\n",
    "percentile_df['unlabeled_pct'] = percentile_df['y=-1'] / percentile_df.probas\n",
    "percentile_df['true_pos_pct'] = percentile_df['y=1'] / labeled_tot\n",
    "percentile_df['true_neg_pct'] = percentile_df['y=0'] / labeled_tot"
   ]
  },
  {
   "cell_type": "code",
   "execution_count": 63,
   "metadata": {
    "collapsed": false,
    "scrolled": false
   },
   "outputs": [
    {
     "data": {
      "text/html": [
       "<div>\n",
       "<table border=\"1\" class=\"dataframe\">\n",
       "  <thead>\n",
       "    <tr style=\"text-align: right;\">\n",
       "      <th></th>\n",
       "      <th>probas</th>\n",
       "      <th>y=1</th>\n",
       "      <th>y=0</th>\n",
       "      <th>y=-1</th>\n",
       "      <th>unlabeled_pct</th>\n",
       "      <th>true_pos_pct</th>\n",
       "      <th>true_neg_pct</th>\n",
       "    </tr>\n",
       "    <tr>\n",
       "      <th>percent5</th>\n",
       "      <th></th>\n",
       "      <th></th>\n",
       "      <th></th>\n",
       "      <th></th>\n",
       "      <th></th>\n",
       "      <th></th>\n",
       "      <th></th>\n",
       "    </tr>\n",
       "  </thead>\n",
       "  <tbody>\n",
       "    <tr>\n",
       "      <th>0%-5%</th>\n",
       "      <td>23532</td>\n",
       "      <td>6.0</td>\n",
       "      <td>1.0</td>\n",
       "      <td>23525.0</td>\n",
       "      <td>0.999703</td>\n",
       "      <td>0.857143</td>\n",
       "      <td>0.142857</td>\n",
       "    </tr>\n",
       "    <tr>\n",
       "      <th>5%-10%</th>\n",
       "      <td>17709</td>\n",
       "      <td>2.0</td>\n",
       "      <td>11.0</td>\n",
       "      <td>17696.0</td>\n",
       "      <td>0.999266</td>\n",
       "      <td>0.153846</td>\n",
       "      <td>0.846154</td>\n",
       "    </tr>\n",
       "    <tr>\n",
       "      <th>10%-15%</th>\n",
       "      <td>12378</td>\n",
       "      <td>5.0</td>\n",
       "      <td>33.0</td>\n",
       "      <td>12340.0</td>\n",
       "      <td>0.996930</td>\n",
       "      <td>0.131579</td>\n",
       "      <td>0.868421</td>\n",
       "    </tr>\n",
       "    <tr>\n",
       "      <th>15%-20%</th>\n",
       "      <td>9307</td>\n",
       "      <td>6.0</td>\n",
       "      <td>32.0</td>\n",
       "      <td>9269.0</td>\n",
       "      <td>0.995917</td>\n",
       "      <td>0.157895</td>\n",
       "      <td>0.842105</td>\n",
       "    </tr>\n",
       "    <tr>\n",
       "      <th>20%-25%</th>\n",
       "      <td>6495</td>\n",
       "      <td>14.0</td>\n",
       "      <td>34.0</td>\n",
       "      <td>6447.0</td>\n",
       "      <td>0.992610</td>\n",
       "      <td>0.291667</td>\n",
       "      <td>0.708333</td>\n",
       "    </tr>\n",
       "    <tr>\n",
       "      <th>25%-30%</th>\n",
       "      <td>4779</td>\n",
       "      <td>7.0</td>\n",
       "      <td>28.0</td>\n",
       "      <td>4744.0</td>\n",
       "      <td>0.992676</td>\n",
       "      <td>0.200000</td>\n",
       "      <td>0.800000</td>\n",
       "    </tr>\n",
       "    <tr>\n",
       "      <th>30%-35%</th>\n",
       "      <td>3333</td>\n",
       "      <td>12.0</td>\n",
       "      <td>17.0</td>\n",
       "      <td>3304.0</td>\n",
       "      <td>0.991299</td>\n",
       "      <td>0.413793</td>\n",
       "      <td>0.586207</td>\n",
       "    </tr>\n",
       "    <tr>\n",
       "      <th>35%-40%</th>\n",
       "      <td>2284</td>\n",
       "      <td>6.0</td>\n",
       "      <td>11.0</td>\n",
       "      <td>2267.0</td>\n",
       "      <td>0.992557</td>\n",
       "      <td>0.352941</td>\n",
       "      <td>0.647059</td>\n",
       "    </tr>\n",
       "    <tr>\n",
       "      <th>40%-45%</th>\n",
       "      <td>1605</td>\n",
       "      <td>9.0</td>\n",
       "      <td>7.0</td>\n",
       "      <td>1589.0</td>\n",
       "      <td>0.990031</td>\n",
       "      <td>0.562500</td>\n",
       "      <td>0.437500</td>\n",
       "    </tr>\n",
       "    <tr>\n",
       "      <th>45%-50%</th>\n",
       "      <td>1278</td>\n",
       "      <td>15.0</td>\n",
       "      <td>5.0</td>\n",
       "      <td>1258.0</td>\n",
       "      <td>0.984351</td>\n",
       "      <td>0.750000</td>\n",
       "      <td>0.250000</td>\n",
       "    </tr>\n",
       "    <tr>\n",
       "      <th>50%-55%</th>\n",
       "      <td>1092</td>\n",
       "      <td>12.0</td>\n",
       "      <td>9.0</td>\n",
       "      <td>1071.0</td>\n",
       "      <td>0.980769</td>\n",
       "      <td>0.571429</td>\n",
       "      <td>0.428571</td>\n",
       "    </tr>\n",
       "    <tr>\n",
       "      <th>55%-60%</th>\n",
       "      <td>976</td>\n",
       "      <td>25.0</td>\n",
       "      <td>4.0</td>\n",
       "      <td>947.0</td>\n",
       "      <td>0.970287</td>\n",
       "      <td>0.862069</td>\n",
       "      <td>0.137931</td>\n",
       "    </tr>\n",
       "    <tr>\n",
       "      <th>60%-65%</th>\n",
       "      <td>981</td>\n",
       "      <td>36.0</td>\n",
       "      <td>5.0</td>\n",
       "      <td>940.0</td>\n",
       "      <td>0.958206</td>\n",
       "      <td>0.878049</td>\n",
       "      <td>0.121951</td>\n",
       "    </tr>\n",
       "    <tr>\n",
       "      <th>65%-70%</th>\n",
       "      <td>958</td>\n",
       "      <td>62.0</td>\n",
       "      <td>8.0</td>\n",
       "      <td>888.0</td>\n",
       "      <td>0.926931</td>\n",
       "      <td>0.885714</td>\n",
       "      <td>0.114286</td>\n",
       "    </tr>\n",
       "    <tr>\n",
       "      <th>70%-75%</th>\n",
       "      <td>652</td>\n",
       "      <td>64.0</td>\n",
       "      <td>4.0</td>\n",
       "      <td>584.0</td>\n",
       "      <td>0.895706</td>\n",
       "      <td>0.941176</td>\n",
       "      <td>0.058824</td>\n",
       "    </tr>\n",
       "    <tr>\n",
       "      <th>75%-80%</th>\n",
       "      <td>431</td>\n",
       "      <td>62.0</td>\n",
       "      <td>1.0</td>\n",
       "      <td>368.0</td>\n",
       "      <td>0.853828</td>\n",
       "      <td>0.984127</td>\n",
       "      <td>0.015873</td>\n",
       "    </tr>\n",
       "    <tr>\n",
       "      <th>80%-85%</th>\n",
       "      <td>264</td>\n",
       "      <td>55.0</td>\n",
       "      <td>2.0</td>\n",
       "      <td>207.0</td>\n",
       "      <td>0.784091</td>\n",
       "      <td>0.964912</td>\n",
       "      <td>0.035088</td>\n",
       "    </tr>\n",
       "    <tr>\n",
       "      <th>85%-90%</th>\n",
       "      <td>76</td>\n",
       "      <td>20.0</td>\n",
       "      <td>2.0</td>\n",
       "      <td>54.0</td>\n",
       "      <td>0.710526</td>\n",
       "      <td>0.909091</td>\n",
       "      <td>0.090909</td>\n",
       "    </tr>\n",
       "    <tr>\n",
       "      <th>90%-95%</th>\n",
       "      <td>10</td>\n",
       "      <td>0.0</td>\n",
       "      <td>1.0</td>\n",
       "      <td>9.0</td>\n",
       "      <td>0.900000</td>\n",
       "      <td>0.000000</td>\n",
       "      <td>1.000000</td>\n",
       "    </tr>\n",
       "    <tr>\n",
       "      <th>95%-100%</th>\n",
       "      <td>0</td>\n",
       "      <td>NaN</td>\n",
       "      <td>NaN</td>\n",
       "      <td>NaN</td>\n",
       "      <td>NaN</td>\n",
       "      <td>NaN</td>\n",
       "      <td>NaN</td>\n",
       "    </tr>\n",
       "  </tbody>\n",
       "</table>\n",
       "</div>"
      ],
      "text/plain": [
       "          probas   y=1   y=0     y=-1  unlabeled_pct  true_pos_pct  \\\n",
       "percent5                                                             \n",
       "0%-5%      23532   6.0   1.0  23525.0       0.999703      0.857143   \n",
       "5%-10%     17709   2.0  11.0  17696.0       0.999266      0.153846   \n",
       "10%-15%    12378   5.0  33.0  12340.0       0.996930      0.131579   \n",
       "15%-20%     9307   6.0  32.0   9269.0       0.995917      0.157895   \n",
       "20%-25%     6495  14.0  34.0   6447.0       0.992610      0.291667   \n",
       "25%-30%     4779   7.0  28.0   4744.0       0.992676      0.200000   \n",
       "30%-35%     3333  12.0  17.0   3304.0       0.991299      0.413793   \n",
       "35%-40%     2284   6.0  11.0   2267.0       0.992557      0.352941   \n",
       "40%-45%     1605   9.0   7.0   1589.0       0.990031      0.562500   \n",
       "45%-50%     1278  15.0   5.0   1258.0       0.984351      0.750000   \n",
       "50%-55%     1092  12.0   9.0   1071.0       0.980769      0.571429   \n",
       "55%-60%      976  25.0   4.0    947.0       0.970287      0.862069   \n",
       "60%-65%      981  36.0   5.0    940.0       0.958206      0.878049   \n",
       "65%-70%      958  62.0   8.0    888.0       0.926931      0.885714   \n",
       "70%-75%      652  64.0   4.0    584.0       0.895706      0.941176   \n",
       "75%-80%      431  62.0   1.0    368.0       0.853828      0.984127   \n",
       "80%-85%      264  55.0   2.0    207.0       0.784091      0.964912   \n",
       "85%-90%       76  20.0   2.0     54.0       0.710526      0.909091   \n",
       "90%-95%       10   0.0   1.0      9.0       0.900000      0.000000   \n",
       "95%-100%       0   NaN   NaN      NaN            NaN           NaN   \n",
       "\n",
       "          true_neg_pct  \n",
       "percent5                \n",
       "0%-5%         0.142857  \n",
       "5%-10%        0.846154  \n",
       "10%-15%       0.868421  \n",
       "15%-20%       0.842105  \n",
       "20%-25%       0.708333  \n",
       "25%-30%       0.800000  \n",
       "30%-35%       0.586207  \n",
       "35%-40%       0.647059  \n",
       "40%-45%       0.437500  \n",
       "45%-50%       0.250000  \n",
       "50%-55%       0.428571  \n",
       "55%-60%       0.137931  \n",
       "60%-65%       0.121951  \n",
       "65%-70%       0.114286  \n",
       "70%-75%       0.058824  \n",
       "75%-80%       0.015873  \n",
       "80%-85%       0.035088  \n",
       "85%-90%       0.090909  \n",
       "90%-95%       1.000000  \n",
       "95%-100%           NaN  "
      ]
     },
     "execution_count": 63,
     "metadata": {},
     "output_type": "execute_result"
    }
   ],
   "source": [
    "percentile_df"
   ]
  },
  {
   "cell_type": "code",
   "execution_count": 64,
   "metadata": {
    "collapsed": false
   },
   "outputs": [
    {
     "data": {
      "text/plain": [
       "<matplotlib.text.Text at 0x6eb43710>"
      ]
     },
     "execution_count": 64,
     "metadata": {},
     "output_type": "execute_result"
    },
    {
     "data": {
      "image/png": "[encoded data removed]",
      "text/plain": [
       "<matplotlib.figure.Figure at 0xc81e0b8>"
      ]
     },
     "metadata": {},
     "output_type": "display_data"
    }
   ],
   "source": [
    "ax = percentile_df.probas.plot(kind='bar')\n",
    "ax.set_title(\"Probability of EPI Assigned to Each Patient by Model #6\", fontsize=15)\n",
    "ax.set_xlabel(\"Percent\", fontsize=15)\n",
    "ax.set_ylabel(\"Count of Patients\", fontsize=15)\n",
    "ax.axvline(x=9.5, ls='--', c='r')\n",
    "ax.text(4, 30000, \"No\", fontsize=20, color='red')\n",
    "ax.text(3, 25000, \"82,921\", fontsize=20, color='red')\n",
    "ax.text(3, 20000, \"94.08%\", fontsize=20, color='red')\n",
    "ax.text(13, 30000, \"Yes\", fontsize=20, color='green')\n",
    "ax.text(12.5, 25000, \"5,219\", fontsize=20, color='green')\n",
    "ax.text(12.5, 20000, \"5.92%\", fontsize=20, color='green')"
   ]
  },
  {
   "cell_type": "code",
   "execution_count": 65,
   "metadata": {
    "collapsed": true
   },
   "outputs": [],
   "source": [
    "percentile_df.to_csv('./res/percentage_table_soft.csv')"
   ]
  },
  {
   "cell_type": "code",
   "execution_count": 66,
   "metadata": {
    "collapsed": true
   },
   "outputs": [],
   "source": [
    "tot = percentile_df.probas.sum()\n",
    "percentile_df['pct_of_total'] = percentile_df.probas / tot"
   ]
  },
  {
   "cell_type": "code",
   "execution_count": 67,
   "metadata": {
    "collapsed": true
   },
   "outputs": [],
   "source": [
    "percentile_df['cum_pct_of_total'] = percentile_df.pct_of_total.cumsum()"
   ]
  },
  {
   "cell_type": "code",
   "execution_count": 68,
   "metadata": {
    "collapsed": true
   },
   "outputs": [],
   "source": [
    "percentile_df = percentile_df.ffill()"
   ]
  },
  {
   "cell_type": "code",
   "execution_count": 69,
   "metadata": {
    "collapsed": false
   },
   "outputs": [
    {
     "ename": "ValueError",
     "evalue": "invalid literal for int() with base 10: '0%-5%'",
     "output_type": "error",
     "traceback": [
      "\u001b[0;31m---------------------------------------------------------------------------\u001b[0m",
      "\u001b[0;31mValueError\u001b[0m                                Traceback (most recent call last)",
      "\u001b[0;32m<ipython-input-69-71a400393ef5>\u001b[0m in \u001b[0;36m<module>\u001b[0;34m()\u001b[0m\n\u001b[0;32m----> 1\u001b[0;31m \u001b[0mtp\u001b[0m \u001b[1;33m=\u001b[0m \u001b[0mnp\u001b[0m\u001b[1;33m.\u001b[0m\u001b[0mpolyfit\u001b[0m\u001b[1;33m(\u001b[0m\u001b[0mx\u001b[0m\u001b[1;33m=\u001b[0m\u001b[0mpercentile_df\u001b[0m\u001b[1;33m.\u001b[0m\u001b[0mindex\u001b[0m\u001b[1;33m.\u001b[0m\u001b[0mvalues\u001b[0m\u001b[1;33m.\u001b[0m\u001b[0mastype\u001b[0m\u001b[1;33m(\u001b[0m\u001b[0mint\u001b[0m\u001b[1;33m)\u001b[0m\u001b[1;33m,\u001b[0m \u001b[0my\u001b[0m\u001b[1;33m=\u001b[0m\u001b[0mpercentile_df\u001b[0m\u001b[1;33m.\u001b[0m\u001b[0mtrue_pos_pct\u001b[0m\u001b[1;33m,\u001b[0m \u001b[0mdeg\u001b[0m\u001b[1;33m=\u001b[0m\u001b[1;36m1\u001b[0m\u001b[1;33m)\u001b[0m\u001b[1;33m\u001b[0m\u001b[0m\n\u001b[0m\u001b[1;32m      2\u001b[0m \u001b[0mtpp\u001b[0m \u001b[1;33m=\u001b[0m \u001b[0mnp\u001b[0m\u001b[1;33m.\u001b[0m\u001b[0mpoly1d\u001b[0m\u001b[1;33m(\u001b[0m\u001b[0mtp\u001b[0m\u001b[1;33m)\u001b[0m\u001b[1;33m\u001b[0m\u001b[0m\n\u001b[1;32m      3\u001b[0m \u001b[0mpercentile_df\u001b[0m\u001b[1;33m[\u001b[0m\u001b[1;34m'tp_trendline'\u001b[0m\u001b[1;33m]\u001b[0m \u001b[1;33m=\u001b[0m \u001b[0mtpp\u001b[0m\u001b[1;33m(\u001b[0m\u001b[0mpercentile_df\u001b[0m\u001b[1;33m.\u001b[0m\u001b[0mindex\u001b[0m\u001b[1;33m.\u001b[0m\u001b[0mvalues\u001b[0m\u001b[1;33m.\u001b[0m\u001b[0mastype\u001b[0m\u001b[1;33m(\u001b[0m\u001b[0mint\u001b[0m\u001b[1;33m)\u001b[0m\u001b[1;33m)\u001b[0m\u001b[1;33m\u001b[0m\u001b[0m\n",
      "\u001b[0;32mC:\\Users\\motoharu.dei\\AppData\\Local\\Continuum\\Anaconda3\\lib\\site-packages\\pandas\\core\\categorical.py\u001b[0m in \u001b[0;36mastype\u001b[0;34m(self, dtype)\u001b[0m\n\u001b[1;32m    341\u001b[0m         \u001b[1;32mif\u001b[0m \u001b[0mis_categorical_dtype\u001b[0m\u001b[1;33m(\u001b[0m\u001b[0mdtype\u001b[0m\u001b[1;33m)\u001b[0m\u001b[1;33m:\u001b[0m\u001b[1;33m\u001b[0m\u001b[0m\n\u001b[1;32m    342\u001b[0m             \u001b[1;32mreturn\u001b[0m \u001b[0mself\u001b[0m\u001b[1;33m\u001b[0m\u001b[0m\n\u001b[0;32m--> 343\u001b[0;31m         \u001b[1;32mreturn\u001b[0m \u001b[0mnp\u001b[0m\u001b[1;33m.\u001b[0m\u001b[0marray\u001b[0m\u001b[1;33m(\u001b[0m\u001b[0mself\u001b[0m\u001b[1;33m,\u001b[0m \u001b[0mdtype\u001b[0m\u001b[1;33m=\u001b[0m\u001b[0mdtype\u001b[0m\u001b[1;33m)\u001b[0m\u001b[1;33m\u001b[0m\u001b[0m\n\u001b[0m\u001b[1;32m    344\u001b[0m \u001b[1;33m\u001b[0m\u001b[0m\n\u001b[1;32m    345\u001b[0m     \u001b[1;33m@\u001b[0m\u001b[0mcache_readonly\u001b[0m\u001b[1;33m\u001b[0m\u001b[0m\n",
      "\u001b[0;31mValueError\u001b[0m: invalid literal for int() with base 10: '0%-5%'"
     ]
    }
   ],
   "source": [
    "tp = np.polyfit(x=percentile_df.index.values.astype(int), y=percentile_df.true_pos_pct, deg=1)\n",
    "tpp = np.poly1d(tp)\n",
    "percentile_df['tp_trendline'] = tpp(percentile_df.index.values.astype(int))"
   ]
  },
  {
   "cell_type": "code",
   "execution_count": 70,
   "metadata": {
    "collapsed": false
   },
   "outputs": [
    {
     "ename": "ValueError",
     "evalue": "invalid literal for int() with base 10: '0%-5%'",
     "output_type": "error",
     "traceback": [
      "\u001b[0;31m---------------------------------------------------------------------------\u001b[0m",
      "\u001b[0;31mValueError\u001b[0m                                Traceback (most recent call last)",
      "\u001b[0;32m<ipython-input-70-e1b94ba85341>\u001b[0m in \u001b[0;36m<module>\u001b[0;34m()\u001b[0m\n\u001b[0;32m----> 1\u001b[0;31m \u001b[0mtn\u001b[0m \u001b[1;33m=\u001b[0m \u001b[0mnp\u001b[0m\u001b[1;33m.\u001b[0m\u001b[0mpolyfit\u001b[0m\u001b[1;33m(\u001b[0m\u001b[0mx\u001b[0m\u001b[1;33m=\u001b[0m\u001b[0mpercentile_df\u001b[0m\u001b[1;33m.\u001b[0m\u001b[0mindex\u001b[0m\u001b[1;33m.\u001b[0m\u001b[0mvalues\u001b[0m\u001b[1;33m.\u001b[0m\u001b[0mastype\u001b[0m\u001b[1;33m(\u001b[0m\u001b[0mint\u001b[0m\u001b[1;33m)\u001b[0m\u001b[1;33m,\u001b[0m \u001b[0my\u001b[0m\u001b[1;33m=\u001b[0m\u001b[0mpercentile_df\u001b[0m\u001b[1;33m.\u001b[0m\u001b[0mtrue_neg_pct\u001b[0m\u001b[1;33m,\u001b[0m \u001b[0mdeg\u001b[0m\u001b[1;33m=\u001b[0m\u001b[1;36m1\u001b[0m\u001b[1;33m)\u001b[0m\u001b[1;33m\u001b[0m\u001b[0m\n\u001b[0m\u001b[1;32m      2\u001b[0m \u001b[0mtnp\u001b[0m \u001b[1;33m=\u001b[0m \u001b[0mnp\u001b[0m\u001b[1;33m.\u001b[0m\u001b[0mpoly1d\u001b[0m\u001b[1;33m(\u001b[0m\u001b[0mtn\u001b[0m\u001b[1;33m)\u001b[0m\u001b[1;33m\u001b[0m\u001b[0m\n\u001b[1;32m      3\u001b[0m \u001b[0mpercentile_df\u001b[0m\u001b[1;33m[\u001b[0m\u001b[1;34m'tn_trendline'\u001b[0m\u001b[1;33m]\u001b[0m \u001b[1;33m=\u001b[0m \u001b[0mtnp\u001b[0m\u001b[1;33m(\u001b[0m\u001b[0mpercentile_df\u001b[0m\u001b[1;33m.\u001b[0m\u001b[0mindex\u001b[0m\u001b[1;33m.\u001b[0m\u001b[0mvalues\u001b[0m\u001b[1;33m.\u001b[0m\u001b[0mastype\u001b[0m\u001b[1;33m(\u001b[0m\u001b[0mint\u001b[0m\u001b[1;33m)\u001b[0m\u001b[1;33m)\u001b[0m\u001b[1;33m\u001b[0m\u001b[0m\n",
      "\u001b[0;32mC:\\Users\\motoharu.dei\\AppData\\Local\\Continuum\\Anaconda3\\lib\\site-packages\\pandas\\core\\categorical.py\u001b[0m in \u001b[0;36mastype\u001b[0;34m(self, dtype)\u001b[0m\n\u001b[1;32m    341\u001b[0m         \u001b[1;32mif\u001b[0m \u001b[0mis_categorical_dtype\u001b[0m\u001b[1;33m(\u001b[0m\u001b[0mdtype\u001b[0m\u001b[1;33m)\u001b[0m\u001b[1;33m:\u001b[0m\u001b[1;33m\u001b[0m\u001b[0m\n\u001b[1;32m    342\u001b[0m             \u001b[1;32mreturn\u001b[0m \u001b[0mself\u001b[0m\u001b[1;33m\u001b[0m\u001b[0m\n\u001b[0;32m--> 343\u001b[0;31m         \u001b[1;32mreturn\u001b[0m \u001b[0mnp\u001b[0m\u001b[1;33m.\u001b[0m\u001b[0marray\u001b[0m\u001b[1;33m(\u001b[0m\u001b[0mself\u001b[0m\u001b[1;33m,\u001b[0m \u001b[0mdtype\u001b[0m\u001b[1;33m=\u001b[0m\u001b[0mdtype\u001b[0m\u001b[1;33m)\u001b[0m\u001b[1;33m\u001b[0m\u001b[0m\n\u001b[0m\u001b[1;32m    344\u001b[0m \u001b[1;33m\u001b[0m\u001b[0m\n\u001b[1;32m    345\u001b[0m     \u001b[1;33m@\u001b[0m\u001b[0mcache_readonly\u001b[0m\u001b[1;33m\u001b[0m\u001b[0m\n",
      "\u001b[0;31mValueError\u001b[0m: invalid literal for int() with base 10: '0%-5%'"
     ]
    }
   ],
   "source": [
    "tn = np.polyfit(x=percentile_df.index.values.astype(int), y=percentile_df.true_neg_pct, deg=1)\n",
    "tnp = np.poly1d(tn)\n",
    "percentile_df['tn_trendline'] = tnp(percentile_df.index.values.astype(int))"
   ]
  },
  {
   "cell_type": "code",
   "execution_count": 71,
   "metadata": {
    "collapsed": true
   },
   "outputs": [],
   "source": [
    "import matplotlib.pyplot as plt"
   ]
  },
  {
   "cell_type": "code",
   "execution_count": 72,
   "metadata": {
    "collapsed": false
   },
   "outputs": [
    {
     "ename": "ValueError",
     "evalue": "invalid literal for int() with base 10: '0%-5%'",
     "output_type": "error",
     "traceback": [
      "\u001b[0;31m---------------------------------------------------------------------------\u001b[0m",
      "\u001b[0;31mValueError\u001b[0m                                Traceback (most recent call last)",
      "\u001b[0;32m<ipython-input-72-f82859d48ffd>\u001b[0m in \u001b[0;36m<module>\u001b[0;34m()\u001b[0m\n\u001b[1;32m      1\u001b[0m \u001b[0mdf\u001b[0m \u001b[1;33m=\u001b[0m \u001b[0mpercentile_df\u001b[0m\u001b[1;33m\u001b[0m\u001b[0m\n\u001b[0;32m----> 2\u001b[0;31m \u001b[0mx_axis\u001b[0m \u001b[1;33m=\u001b[0m \u001b[0mdf\u001b[0m\u001b[1;33m.\u001b[0m\u001b[0mindex\u001b[0m\u001b[1;33m.\u001b[0m\u001b[0mvalues\u001b[0m\u001b[1;33m.\u001b[0m\u001b[0mastype\u001b[0m\u001b[1;33m(\u001b[0m\u001b[0mint\u001b[0m\u001b[1;33m)\u001b[0m\u001b[1;33m\u001b[0m\u001b[0m\n\u001b[0m",
      "\u001b[0;32mC:\\Users\\motoharu.dei\\AppData\\Local\\Continuum\\Anaconda3\\lib\\site-packages\\pandas\\core\\categorical.py\u001b[0m in \u001b[0;36mastype\u001b[0;34m(self, dtype)\u001b[0m\n\u001b[1;32m    341\u001b[0m         \u001b[1;32mif\u001b[0m \u001b[0mis_categorical_dtype\u001b[0m\u001b[1;33m(\u001b[0m\u001b[0mdtype\u001b[0m\u001b[1;33m)\u001b[0m\u001b[1;33m:\u001b[0m\u001b[1;33m\u001b[0m\u001b[0m\n\u001b[1;32m    342\u001b[0m             \u001b[1;32mreturn\u001b[0m \u001b[0mself\u001b[0m\u001b[1;33m\u001b[0m\u001b[0m\n\u001b[0;32m--> 343\u001b[0;31m         \u001b[1;32mreturn\u001b[0m \u001b[0mnp\u001b[0m\u001b[1;33m.\u001b[0m\u001b[0marray\u001b[0m\u001b[1;33m(\u001b[0m\u001b[0mself\u001b[0m\u001b[1;33m,\u001b[0m \u001b[0mdtype\u001b[0m\u001b[1;33m=\u001b[0m\u001b[0mdtype\u001b[0m\u001b[1;33m)\u001b[0m\u001b[1;33m\u001b[0m\u001b[0m\n\u001b[0m\u001b[1;32m    344\u001b[0m \u001b[1;33m\u001b[0m\u001b[0m\n\u001b[1;32m    345\u001b[0m     \u001b[1;33m@\u001b[0m\u001b[0mcache_readonly\u001b[0m\u001b[1;33m\u001b[0m\u001b[0m\n",
      "\u001b[0;31mValueError\u001b[0m: invalid literal for int() with base 10: '0%-5%'"
     ]
    }
   ],
   "source": [
    "df = percentile_df\n",
    "x_axis = df.index.values.astype(int)"
   ]
  },
  {
   "cell_type": "code",
   "execution_count": 73,
   "metadata": {
    "collapsed": false
   },
   "outputs": [
    {
     "ename": "NameError",
     "evalue": "name 'x_axis' is not defined",
     "output_type": "error",
     "traceback": [
      "\u001b[0;31m---------------------------------------------------------------------------\u001b[0m",
      "\u001b[0;31mNameError\u001b[0m                                 Traceback (most recent call last)",
      "\u001b[0;32m<ipython-input-73-cd9e150f067f>\u001b[0m in \u001b[0;36m<module>\u001b[0;34m()\u001b[0m\n\u001b[1;32m      1\u001b[0m \u001b[0mplt\u001b[0m\u001b[1;33m.\u001b[0m\u001b[0mfigure\u001b[0m\u001b[1;33m(\u001b[0m\u001b[0mfigsize\u001b[0m\u001b[1;33m=\u001b[0m\u001b[1;33m(\u001b[0m\u001b[1;36m10\u001b[0m\u001b[1;33m,\u001b[0m\u001b[1;36m10\u001b[0m\u001b[1;33m)\u001b[0m\u001b[1;33m)\u001b[0m\u001b[1;33m\u001b[0m\u001b[0m\n\u001b[0;32m----> 2\u001b[0;31m \u001b[0mplt\u001b[0m\u001b[1;33m.\u001b[0m\u001b[0mplot\u001b[0m\u001b[1;33m(\u001b[0m\u001b[0mx_axis\u001b[0m\u001b[1;33m,\u001b[0m \u001b[0mdf\u001b[0m\u001b[1;33m.\u001b[0m\u001b[0mpct_of_total\u001b[0m\u001b[1;33m,\u001b[0m \u001b[1;34m'bs'\u001b[0m\u001b[1;33m,\u001b[0m \u001b[0mlabel\u001b[0m\u001b[1;33m=\u001b[0m\u001b[1;34m'N'\u001b[0m\u001b[1;33m)\u001b[0m\u001b[1;33m\u001b[0m\u001b[0m\n\u001b[0m\u001b[1;32m      3\u001b[0m \u001b[0mplt\u001b[0m\u001b[1;33m.\u001b[0m\u001b[0mplot\u001b[0m\u001b[1;33m(\u001b[0m\u001b[0mx_axis\u001b[0m\u001b[1;33m,\u001b[0m \u001b[0mdf\u001b[0m\u001b[1;33m.\u001b[0m\u001b[0mcum_pct_of_total\u001b[0m\u001b[1;33m,\u001b[0m \u001b[1;34m'b^'\u001b[0m\u001b[1;33m,\u001b[0m \u001b[0mlabel\u001b[0m\u001b[1;33m=\u001b[0m\u001b[1;34m'Cumulative N'\u001b[0m\u001b[1;33m)\u001b[0m\u001b[1;33m\u001b[0m\u001b[0m\n\u001b[1;32m      4\u001b[0m \u001b[0mplt\u001b[0m\u001b[1;33m.\u001b[0m\u001b[0mplot\u001b[0m\u001b[1;33m(\u001b[0m\u001b[0mx_axis\u001b[0m\u001b[1;33m,\u001b[0m \u001b[0mdf\u001b[0m\u001b[1;33m.\u001b[0m\u001b[0mtp_trendline\u001b[0m\u001b[1;33m,\u001b[0m \u001b[1;34m'g-'\u001b[0m\u001b[1;33m,\u001b[0m \u001b[0mlabel\u001b[0m\u001b[1;33m=\u001b[0m\u001b[1;34m'% EPI Trend'\u001b[0m\u001b[1;33m)\u001b[0m\u001b[1;33m\u001b[0m\u001b[0m\n\u001b[1;32m      5\u001b[0m \u001b[0mplt\u001b[0m\u001b[1;33m.\u001b[0m\u001b[0mplot\u001b[0m\u001b[1;33m(\u001b[0m\u001b[0mx_axis\u001b[0m\u001b[1;33m,\u001b[0m \u001b[0mdf\u001b[0m\u001b[1;33m.\u001b[0m\u001b[0mtn_trendline\u001b[0m\u001b[1;33m,\u001b[0m \u001b[1;34m'r-'\u001b[0m\u001b[1;33m,\u001b[0m \u001b[0mlabel\u001b[0m\u001b[1;33m=\u001b[0m\u001b[1;34m'% Non-EPI Trend'\u001b[0m\u001b[1;33m)\u001b[0m\u001b[1;33m\u001b[0m\u001b[0m\n",
      "\u001b[0;31mNameError\u001b[0m: name 'x_axis' is not defined"
     ]
    },
    {
     "data": {
      "text/plain": [
       "<matplotlib.figure.Figure at 0x6a3da390>"
      ]
     },
     "metadata": {},
     "output_type": "display_data"
    }
   ],
   "source": [
    "plt.figure(figsize=(10,10))\n",
    "plt.plot(x_axis, df.pct_of_total, 'bs', label='N')\n",
    "plt.plot(x_axis, df.cum_pct_of_total, 'b^', label='Cumulative N')\n",
    "plt.plot(x_axis, df.tp_trendline, 'g-', label='% EPI Trend')\n",
    "plt.plot(x_axis, df.tn_trendline, 'r-', label='% Non-EPI Trend')\n",
    "plt.plot(x_axis, df.true_pos_pct, 'g.', label='Labeled EPI %')\n",
    "plt.plot(x_axis, df.true_neg_pct, 'r.', label='Labeled Non-EPI %')\n",
    "plt.axis([0, 100, -0.01, 1.01])\n",
    "plt.ylabel('% of test set')\n",
    "plt.xlabel('predicted probability of EPI')\n",
    "plt.title('20% test set results')\n",
    "plt.legend(loc='right')"
   ]
  },
  {
   "cell_type": "code",
   "execution_count": 74,
   "metadata": {
    "collapsed": false
   },
   "outputs": [
    {
     "data": {
      "text/plain": [
       "5451"
      ]
     },
     "execution_count": 74,
     "metadata": {},
     "output_type": "execute_result"
    }
   ],
   "source": [
    "sum(probas>=0.5)"
   ]
  },
  {
   "cell_type": "markdown",
   "metadata": {},
   "source": [
    "# learning curve"
   ]
  },
  {
   "cell_type": "code",
   "execution_count": 75,
   "metadata": {
    "collapsed": true
   },
   "outputs": [],
   "source": [
    "from sklearn.model_selection import learning_curve"
   ]
  },
  {
   "cell_type": "code",
   "execution_count": 76,
   "metadata": {
    "collapsed": false
   },
   "outputs": [
    {
     "data": {
      "text/plain": [
       "PNUWrapper(base_estimator=RepeatedRandomSubSampler(base_estimator=RandomForestClassifier(bootstrap=True, class_weight=None, criterion='gini',\n",
       "            max_depth=64, max_features='auto', max_leaf_nodes=None,\n",
       "            min_impurity_split=1e-07, min_samples_leaf=1,\n",
       "            min_samples_split=2, min_weight...        random_state=83, sample_imbalance=0.4406340820472374,\n",
       "             verbose=1, voting='soft'),\n",
       "      num_unlabeled=1.0, pu_learning=True, random_state=None,\n",
       "      threshold_set_pct=None)"
      ]
     },
     "execution_count": 76,
     "metadata": {},
     "output_type": "execute_result"
    }
   ],
   "source": [
    "pnu_test.set_params(**{'base_estimator__n_jobs':-1})"
   ]
  },
  {
   "cell_type": "code",
   "execution_count": 20,
   "metadata": {
    "collapsed": false
   },
   "outputs": [
    {
     "name": "stdout",
     "output_type": "stream",
     "text": [
      "[learning_curve] Training set sizes: [ 11751  23503  47007  70510  94014 117518 141021 164525 188028 211532\n",
      " 235036]\n",
      "[CV]  ................................................................\n",
      "generating 119 samples of indices to use to train multiple estimators, sized 143 elements with last being 59 elements\n"
     ]
    },
    {
     "name": "stderr",
     "output_type": "stream",
     "text": [
      "[Parallel(n_jobs=-1)]: Done  42 tasks      | elapsed:    2.7s\n",
      "[Parallel(n_jobs=-1)]: Done 119 out of 119 | elapsed:    6.1s finished\n",
      "[Parallel(n_jobs=-1)]: Done  42 tasks      | elapsed:   31.4s\n",
      "[Parallel(n_jobs=-1)]: Done 119 out of 119 | elapsed:  1.4min finished\n",
      "[Parallel(n_jobs=-1)]: Done  42 tasks      | elapsed:    3.7s\n",
      "[Parallel(n_jobs=-1)]: Done 119 out of 119 | elapsed:    9.0s finished\n"
     ]
    },
    {
     "name": "stdout",
     "output_type": "stream",
     "text": [
      "[CV] ................................ , score=61.152539, total= 1.6min\n",
      "[CV]  ................................................................\n"
     ]
    },
    {
     "name": "stderr",
     "output_type": "stream",
     "text": [
      "[Parallel(n_jobs=1)]: Done   1 out of   1 | elapsed:  1.7min remaining:    0.0s\n"
     ]
    },
    {
     "name": "stdout",
     "output_type": "stream",
     "text": [
      "generating 108 samples of indices to use to train multiple estimators, sized 313 elements with last being 244 elements\n"
     ]
    },
    {
     "name": "stderr",
     "output_type": "stream",
     "text": [
      "[Parallel(n_jobs=-1)]: Done  42 tasks      | elapsed:    2.9s\n",
      "[Parallel(n_jobs=-1)]: Done 108 out of 108 | elapsed:    6.0s finished\n",
      "[Parallel(n_jobs=-1)]: Done  42 tasks      | elapsed:   31.9s\n",
      "[Parallel(n_jobs=-1)]: Done 108 out of 108 | elapsed:  1.3min finished\n",
      "[Parallel(n_jobs=-1)]: Done  42 tasks      | elapsed:    6.6s\n",
      "[Parallel(n_jobs=-1)]: Done 108 out of 108 | elapsed:   15.5s finished\n"
     ]
    },
    {
     "name": "stdout",
     "output_type": "stream",
     "text": [
      "[CV] ................................ , score=73.422493, total= 1.5min\n",
      "[CV]  ................................................................\n"
     ]
    },
    {
     "name": "stderr",
     "output_type": "stream",
     "text": [
      "[Parallel(n_jobs=1)]: Done   2 out of   2 | elapsed:  3.5min remaining:    0.0s\n"
     ]
    },
    {
     "name": "stdout",
     "output_type": "stream",
     "text": [
      "generating 98 samples of indices to use to train multiple estimators, sized 689 elements with last being 539 elements\n"
     ]
    },
    {
     "name": "stderr",
     "output_type": "stream",
     "text": [
      "[Parallel(n_jobs=-1)]: Done  42 tasks      | elapsed:    4.1s\n",
      "[Parallel(n_jobs=-1)]: Done  98 out of  98 | elapsed:    8.2s finished\n",
      "[Parallel(n_jobs=-1)]: Done  42 tasks      | elapsed:   33.3s\n",
      "[Parallel(n_jobs=-1)]: Done  98 out of  98 | elapsed:  1.3min finished\n",
      "[Parallel(n_jobs=-1)]: Done  42 tasks      | elapsed:   14.3s\n",
      "[Parallel(n_jobs=-1)]: Done  98 out of  98 | elapsed:   32.3s finished\n"
     ]
    },
    {
     "name": "stdout",
     "output_type": "stream",
     "text": [
      "[CV] ................................ , score=80.470246, total= 1.5min\n",
      "[CV]  ................................................................\n"
     ]
    },
    {
     "name": "stderr",
     "output_type": "stream",
     "text": [
      "[Parallel(n_jobs=1)]: Done   3 out of   3 | elapsed:  5.5min remaining:    0.0s\n"
     ]
    },
    {
     "name": "stdout",
     "output_type": "stream",
     "text": [
      "generating 99 samples of indices to use to train multiple estimators, sized 1023 elements with last being 763 elements\n"
     ]
    },
    {
     "name": "stderr",
     "output_type": "stream",
     "text": [
      "[Parallel(n_jobs=-1)]: Done  42 tasks      | elapsed:    5.2s\n",
      "[Parallel(n_jobs=-1)]: Done  99 out of  99 | elapsed:   10.8s finished\n",
      "[Parallel(n_jobs=-1)]: Done  42 tasks      | elapsed:   34.6s\n",
      "[Parallel(n_jobs=-1)]: Done  99 out of  99 | elapsed:  1.4min finished\n",
      "[Parallel(n_jobs=-1)]: Done  42 tasks      | elapsed:   20.9s\n",
      "[Parallel(n_jobs=-1)]: Done  99 out of  99 | elapsed:   48.2s finished\n"
     ]
    },
    {
     "name": "stdout",
     "output_type": "stream",
     "text": [
      "[CV] ................................ , score=81.920278, total= 1.6min\n",
      "[CV]  ................................................................\n"
     ]
    },
    {
     "name": "stderr",
     "output_type": "stream",
     "text": [
      "[Parallel(n_jobs=1)]: Done   4 out of   4 | elapsed:  7.9min remaining:    0.0s\n"
     ]
    },
    {
     "name": "stdout",
     "output_type": "stream",
     "text": [
      "generating 99 samples of indices to use to train multiple estimators, sized 1369 elements with last being 690 elements\n"
     ]
    },
    {
     "name": "stderr",
     "output_type": "stream",
     "text": [
      "[Parallel(n_jobs=-1)]: Done  42 tasks      | elapsed:    6.4s\n",
      "[Parallel(n_jobs=-1)]: Done  99 out of  99 | elapsed:   13.7s finished\n",
      "[Parallel(n_jobs=-1)]: Done  42 tasks      | elapsed:   35.2s\n",
      "[Parallel(n_jobs=-1)]: Done  99 out of  99 | elapsed:  1.3min finished\n",
      "[Parallel(n_jobs=-1)]: Done  42 tasks      | elapsed:   28.0s\n",
      "[Parallel(n_jobs=-1)]: Done  99 out of  99 | elapsed:  1.1min finished\n"
     ]
    },
    {
     "name": "stdout",
     "output_type": "stream",
     "text": [
      "[CV] ................................ , score=82.546836, total= 1.6min\n",
      "[CV]  ................................................................\n"
     ]
    },
    {
     "name": "stderr",
     "output_type": "stream",
     "text": [
      "[Parallel(n_jobs=1)]: Done   5 out of   5 | elapsed: 10.7min remaining:    0.0s\n"
     ]
    },
    {
     "name": "stdout",
     "output_type": "stream",
     "text": [
      "generating 96 samples of indices to use to train multiple estimators, sized 1755 elements with last being 1530 elements\n"
     ]
    },
    {
     "name": "stderr",
     "output_type": "stream",
     "text": [
      "[Parallel(n_jobs=-1)]: Done  42 tasks      | elapsed:    7.8s\n",
      "[Parallel(n_jobs=-1)]: Done  96 out of  96 | elapsed:   16.1s finished\n",
      "[Parallel(n_jobs=-1)]: Done  42 tasks      | elapsed:   35.4s\n",
      "[Parallel(n_jobs=-1)]: Done  96 out of  96 | elapsed:  1.3min finished\n",
      "[Parallel(n_jobs=-1)]: Done  42 tasks      | elapsed:   35.4s\n",
      "[Parallel(n_jobs=-1)]: Done  96 out of  96 | elapsed:  1.3min finished\n"
     ]
    },
    {
     "name": "stdout",
     "output_type": "stream",
     "text": [
      "[CV] ................................ , score=83.279343, total= 1.6min\n",
      "[CV]  ................................................................\n"
     ]
    },
    {
     "name": "stderr",
     "output_type": "stream",
     "text": [
      "[Parallel(n_jobs=1)]: Done   6 out of   6 | elapsed: 13.7min remaining:    0.0s\n"
     ]
    },
    {
     "name": "stdout",
     "output_type": "stream",
     "text": [
      "generating 96 samples of indices to use to train multiple estimators, sized 2112 elements with last being 1406 elements\n"
     ]
    },
    {
     "name": "stderr",
     "output_type": "stream",
     "text": [
      "[Parallel(n_jobs=-1)]: Done  42 tasks      | elapsed:    9.0s\n",
      "[Parallel(n_jobs=-1)]: Done  96 out of  96 | elapsed:   19.1s finished\n",
      "[Parallel(n_jobs=-1)]: Done  42 tasks      | elapsed:   35.4s\n",
      "[Parallel(n_jobs=-1)]: Done  96 out of  96 | elapsed:  1.3min finished\n",
      "[Parallel(n_jobs=-1)]: Done  42 tasks      | elapsed:   45.2s\n",
      "[Parallel(n_jobs=-1)]: Done  96 out of  96 | elapsed:  1.7min finished\n"
     ]
    },
    {
     "name": "stdout",
     "output_type": "stream",
     "text": [
      "[CV] ................................ , score=83.338492, total= 1.7min\n"
     ]
    },
    {
     "name": "stderr",
     "output_type": "stream",
     "text": [
      "[Parallel(n_jobs=1)]: Done   7 out of   7 | elapsed: 17.2min remaining:    0.0s\n"
     ]
    },
    {
     "name": "stdout",
     "output_type": "stream",
     "text": [
      "[CV]  ................................................................\n",
      "generating 95 samples of indices to use to train multiple estimators, sized 2497 elements with last being 1221 elements\n"
     ]
    },
    {
     "name": "stderr",
     "output_type": "stream",
     "text": [
      "[Parallel(n_jobs=-1)]: Done  42 tasks      | elapsed:   10.3s\n",
      "[Parallel(n_jobs=-1)]: Done  95 out of  95 | elapsed:   21.9s finished\n",
      "[Parallel(n_jobs=-1)]: Done  42 tasks      | elapsed:   36.0s\n",
      "[Parallel(n_jobs=-1)]: Done  95 out of  95 | elapsed:  1.3min finished\n",
      "[Parallel(n_jobs=-1)]: Done  42 tasks      | elapsed:   53.1s\n",
      "[Parallel(n_jobs=-1)]: Done  95 out of  95 | elapsed:  2.0min finished\n"
     ]
    },
    {
     "name": "stdout",
     "output_type": "stream",
     "text": [
      "[CV] ................................ , score=83.918805, total= 1.8min\n"
     ]
    },
    {
     "name": "stderr",
     "output_type": "stream",
     "text": [
      "[Parallel(n_jobs=1)]: Done   8 out of   8 | elapsed: 20.9min remaining:    0.0s\n"
     ]
    },
    {
     "name": "stdout",
     "output_type": "stream",
     "text": [
      "[CV]  ................................................................\n",
      "generating 98 samples of indices to use to train multiple estimators, sized 2749 elements with last being 2493 elements\n"
     ]
    },
    {
     "name": "stderr",
     "output_type": "stream",
     "text": [
      "[Parallel(n_jobs=-1)]: Done  42 tasks      | elapsed:   11.4s\n",
      "[Parallel(n_jobs=-1)]: Done  98 out of  98 | elapsed:   24.9s finished\n",
      "[Parallel(n_jobs=-1)]: Done  42 tasks      | elapsed:   35.9s\n",
      "[Parallel(n_jobs=-1)]: Done  98 out of  98 | elapsed:  1.4min finished\n",
      "[Parallel(n_jobs=-1)]: Done  42 tasks      | elapsed:  1.0min\n",
      "[Parallel(n_jobs=-1)]: Done  98 out of  98 | elapsed:  2.3min finished\n"
     ]
    },
    {
     "name": "stdout",
     "output_type": "stream",
     "text": [
      "[CV] ................................ , score=83.908591, total= 1.9min\n",
      "[CV]  ................................................................\n"
     ]
    },
    {
     "name": "stderr",
     "output_type": "stream",
     "text": [
      "[Parallel(n_jobs=1)]: Done   9 out of   9 | elapsed: 25.2min remaining:    0.0s\n"
     ]
    },
    {
     "name": "stdout",
     "output_type": "stream",
     "text": [
      "generating 95 samples of indices to use to train multiple estimators, sized 3190 elements with last being 2897 elements\n"
     ]
    },
    {
     "name": "stderr",
     "output_type": "stream",
     "text": [
      "[Parallel(n_jobs=-1)]: Done  42 tasks      | elapsed:   13.3s\n",
      "[Parallel(n_jobs=-1)]: Done  95 out of  95 | elapsed:   28.1s finished\n",
      "[Parallel(n_jobs=-1)]: Done  42 tasks      | elapsed:   37.3s\n",
      "[Parallel(n_jobs=-1)]: Done  95 out of  95 | elapsed:  1.4min finished\n",
      "[Parallel(n_jobs=-1)]: Done  42 tasks      | elapsed:  1.2min\n",
      "[Parallel(n_jobs=-1)]: Done  95 out of  95 | elapsed:  2.6min finished\n"
     ]
    },
    {
     "name": "stdout",
     "output_type": "stream",
     "text": [
      "[CV] ................................ , score=83.608365, total= 1.9min\n",
      "[CV]  ................................................................\n",
      "generating 93 samples of indices to use to train multiple estimators, sized 3638 elements with last being 2162 elements\n"
     ]
    },
    {
     "name": "stderr",
     "output_type": "stream",
     "text": [
      "[Parallel(n_jobs=-1)]: Done  42 tasks      | elapsed:   14.8s\n",
      "[Parallel(n_jobs=-1)]: Done  93 out of  93 | elapsed:   31.2s finished\n",
      "[Parallel(n_jobs=-1)]: Done  42 tasks      | elapsed:   37.7s\n",
      "[Parallel(n_jobs=-1)]: Done  93 out of  93 | elapsed:  1.4min finished\n",
      "[Parallel(n_jobs=-1)]: Done  42 tasks      | elapsed:  1.3min\n",
      "[Parallel(n_jobs=-1)]: Done  93 out of  93 | elapsed:  2.8min finished\n"
     ]
    },
    {
     "name": "stdout",
     "output_type": "stream",
     "text": [
      "[CV] ................................ , score=83.577889, total= 2.0min\n",
      "[CV]  ................................................................\n",
      "generating 90 samples of indices to use to train multiple estimators, sized 189 elements with last being 65 elements\n"
     ]
    },
    {
     "name": "stderr",
     "output_type": "stream",
     "text": [
      "[Parallel(n_jobs=-1)]: Done  42 tasks      | elapsed:    2.7s\n",
      "[Parallel(n_jobs=-1)]: Done  90 out of  90 | elapsed:    4.8s finished\n",
      "[Parallel(n_jobs=-1)]: Done  42 tasks      | elapsed:   30.9s\n",
      "[Parallel(n_jobs=-1)]: Done  90 out of  90 | elapsed:  1.1min finished\n",
      "[Parallel(n_jobs=-1)]: Done  42 tasks      | elapsed:    3.7s\n",
      "[Parallel(n_jobs=-1)]: Done  90 out of  90 | elapsed:    7.1s finished\n"
     ]
    },
    {
     "name": "stdout",
     "output_type": "stream",
     "text": [
      "[CV] ................................ , score=60.451023, total= 1.2min\n",
      "[CV]  ................................................................\n",
      "generating 93 samples of indices to use to train multiple estimators, sized 362 elements with last being 351 elements\n"
     ]
    },
    {
     "name": "stderr",
     "output_type": "stream",
     "text": [
      "[Parallel(n_jobs=-1)]: Done  42 tasks      | elapsed:    3.0s\n",
      "[Parallel(n_jobs=-1)]: Done  93 out of  93 | elapsed:    5.6s finished\n",
      "[Parallel(n_jobs=-1)]: Done  42 tasks      | elapsed:   32.5s\n",
      "[Parallel(n_jobs=-1)]: Done  93 out of  93 | elapsed:  1.2min finished\n",
      "[Parallel(n_jobs=-1)]: Done  42 tasks      | elapsed:    6.8s\n",
      "[Parallel(n_jobs=-1)]: Done  93 out of  93 | elapsed:   14.0s finished\n"
     ]
    },
    {
     "name": "stdout",
     "output_type": "stream",
     "text": [
      "[CV] ................................ , score=76.027128, total= 1.3min\n",
      "[CV]  ................................................................\n",
      "generating 92 samples of indices to use to train multiple estimators, sized 732 elements with last being 665 elements\n"
     ]
    },
    {
     "name": "stderr",
     "output_type": "stream",
     "text": [
      "[Parallel(n_jobs=-1)]: Done  42 tasks      | elapsed:    4.2s\n",
      "[Parallel(n_jobs=-1)]: Done  92 out of  92 | elapsed:    8.2s finished\n",
      "[Parallel(n_jobs=-1)]: Done  42 tasks      | elapsed:   33.8s\n",
      "[Parallel(n_jobs=-1)]: Done  92 out of  92 | elapsed:  1.2min finished\n",
      "[Parallel(n_jobs=-1)]: Done  42 tasks      | elapsed:   14.5s\n",
      "[Parallel(n_jobs=-1)]: Done  92 out of  92 | elapsed:   31.0s finished\n"
     ]
    },
    {
     "name": "stdout",
     "output_type": "stream",
     "text": [
      "[CV] ................................ , score=78.564820, total= 1.4min\n",
      "[CV]  ................................................................\n",
      "generating 91 samples of indices to use to train multiple estimators, sized 1111 elements with last being 947 elements\n"
     ]
    },
    {
     "name": "stderr",
     "output_type": "stream",
     "text": [
      "[Parallel(n_jobs=-1)]: Done  42 tasks      | elapsed:    5.5s\n",
      "[Parallel(n_jobs=-1)]: Done  91 out of  91 | elapsed:   10.7s finished\n",
      "[Parallel(n_jobs=-1)]: Done  42 tasks      | elapsed:   34.3s\n",
      "[Parallel(n_jobs=-1)]: Done  91 out of  91 | elapsed:  1.2min finished\n",
      "[Parallel(n_jobs=-1)]: Done  42 tasks      | elapsed:   20.8s\n",
      "[Parallel(n_jobs=-1)]: Done  91 out of  91 | elapsed:   44.5s finished\n"
     ]
    },
    {
     "name": "stdout",
     "output_type": "stream",
     "text": [
      "[CV] ................................ , score=80.079050, total= 1.5min\n",
      "[CV]  ................................................................\n",
      "generating 94 samples of indices to use to train multiple estimators, sized 1445 elements with last being 513 elements\n"
     ]
    },
    {
     "name": "stderr",
     "output_type": "stream",
     "text": [
      "[Parallel(n_jobs=-1)]: Done  42 tasks      | elapsed:    6.7s\n",
      "[Parallel(n_jobs=-1)]: Done  94 out of  94 | elapsed:   13.4s finished\n",
      "[Parallel(n_jobs=-1)]: Done  42 tasks      | elapsed:   35.0s\n",
      "[Parallel(n_jobs=-1)]: Done  94 out of  94 | elapsed:  1.3min finished\n",
      "[Parallel(n_jobs=-1)]: Done  42 tasks      | elapsed:   28.3s\n",
      "[Parallel(n_jobs=-1)]: Done  94 out of  94 | elapsed:  1.0min finished\n"
     ]
    },
    {
     "name": "stdout",
     "output_type": "stream",
     "text": [
      "[CV] ................................ , score=80.365678, total= 1.6min\n",
      "[CV]  ................................................................\n",
      "generating 93 samples of indices to use to train multiple estimators, sized 1821 elements with last being 944 elements\n"
     ]
    },
    {
     "name": "stderr",
     "output_type": "stream",
     "text": [
      "[Parallel(n_jobs=-1)]: Done  42 tasks      | elapsed:    7.9s\n",
      "[Parallel(n_jobs=-1)]: Done  93 out of  93 | elapsed:   16.2s finished\n",
      "[Parallel(n_jobs=-1)]: Done  42 tasks      | elapsed:   35.1s\n",
      "[Parallel(n_jobs=-1)]: Done  93 out of  93 | elapsed:  1.3min finished\n",
      "[Parallel(n_jobs=-1)]: Done  42 tasks      | elapsed:   35.3s\n",
      "[Parallel(n_jobs=-1)]: Done  93 out of  93 | elapsed:  1.3min finished\n"
     ]
    },
    {
     "name": "stdout",
     "output_type": "stream",
     "text": [
      "[CV] ................................ , score=81.018526, total= 1.6min\n",
      "[CV]  ................................................................\n",
      "generating 96 samples of indices to use to train multiple estimators, sized 2112 elements with last being 1405 elements\n"
     ]
    },
    {
     "name": "stderr",
     "output_type": "stream",
     "text": [
      "[Parallel(n_jobs=-1)]: Done  42 tasks      | elapsed:    9.0s\n",
      "[Parallel(n_jobs=-1)]: Done  96 out of  96 | elapsed:   19.0s finished\n",
      "[Parallel(n_jobs=-1)]: Done  42 tasks      | elapsed:   35.6s\n",
      "[Parallel(n_jobs=-1)]: Done  96 out of  96 | elapsed:  1.4min finished\n",
      "[Parallel(n_jobs=-1)]: Done  42 tasks      | elapsed:   47.0s\n",
      "[Parallel(n_jobs=-1)]: Done  96 out of  96 | elapsed:  1.7min finished\n"
     ]
    },
    {
     "name": "stdout",
     "output_type": "stream",
     "text": [
      "[CV] ................................ , score=81.014463, total= 1.8min\n",
      "[CV]  ................................................................\n",
      "generating 95 samples of indices to use to train multiple estimators, sized 2497 elements with last being 1220 elements\n"
     ]
    },
    {
     "name": "stderr",
     "output_type": "stream",
     "text": [
      "[Parallel(n_jobs=-1)]: Done  42 tasks      | elapsed:   10.4s\n",
      "[Parallel(n_jobs=-1)]: Done  95 out of  95 | elapsed:   22.0s finished\n",
      "[Parallel(n_jobs=-1)]: Done  42 tasks      | elapsed:   36.4s\n",
      "[Parallel(n_jobs=-1)]: Done  95 out of  95 | elapsed:  1.3min finished\n",
      "[Parallel(n_jobs=-1)]: Done  42 tasks      | elapsed:   53.3s\n",
      "[Parallel(n_jobs=-1)]: Done  95 out of  95 | elapsed:  2.0min finished\n"
     ]
    },
    {
     "name": "stdout",
     "output_type": "stream",
     "text": [
      "[CV] ................................ , score=80.660443, total= 1.8min\n",
      "[CV]  ................................................................\n",
      "generating 98 samples of indices to use to train multiple estimators, sized 2749 elements with last being 2492 elements\n"
     ]
    },
    {
     "name": "stderr",
     "output_type": "stream",
     "text": [
      "[Parallel(n_jobs=-1)]: Done  42 tasks      | elapsed:   11.5s\n",
      "[Parallel(n_jobs=-1)]: Done  98 out of  98 | elapsed:   24.9s finished\n",
      "[Parallel(n_jobs=-1)]: Done  42 tasks      | elapsed:   36.3s\n",
      "[Parallel(n_jobs=-1)]: Done  98 out of  98 | elapsed:  1.4min finished\n",
      "[Parallel(n_jobs=-1)]: Done  42 tasks      | elapsed:  1.0min\n",
      "[Parallel(n_jobs=-1)]: Done  98 out of  98 | elapsed:  2.3min finished\n"
     ]
    },
    {
     "name": "stdout",
     "output_type": "stream",
     "text": [
      "[CV] ................................ , score=81.151649, total= 1.9min\n",
      "[CV]  ................................................................\n",
      "generating 95 samples of indices to use to train multiple estimators, sized 3190 elements with last being 2896 elements\n"
     ]
    },
    {
     "name": "stderr",
     "output_type": "stream",
     "text": [
      "[Parallel(n_jobs=-1)]: Done  42 tasks      | elapsed:   13.1s\n",
      "[Parallel(n_jobs=-1)]: Done  95 out of  95 | elapsed:   28.3s finished\n",
      "[Parallel(n_jobs=-1)]: Done  42 tasks      | elapsed:   38.7s\n",
      "[Parallel(n_jobs=-1)]: Done  95 out of  95 | elapsed:  1.4min finished\n",
      "[Parallel(n_jobs=-1)]: Done  42 tasks      | elapsed:  1.1min\n",
      "[Parallel(n_jobs=-1)]: Done  95 out of  95 | elapsed:  2.5min finished\n"
     ]
    },
    {
     "name": "stdout",
     "output_type": "stream",
     "text": [
      "[CV] ................................ , score=81.213881, total= 1.9min\n",
      "[CV]  ................................................................\n",
      "generating 93 samples of indices to use to train multiple estimators, sized 3638 elements with last being 2161 elements\n"
     ]
    },
    {
     "name": "stderr",
     "output_type": "stream",
     "text": [
      "[Parallel(n_jobs=-1)]: Done  42 tasks      | elapsed:   14.9s\n",
      "[Parallel(n_jobs=-1)]: Done  93 out of  93 | elapsed:   31.2s finished\n",
      "[Parallel(n_jobs=-1)]: Done  42 tasks      | elapsed:   37.6s\n",
      "[Parallel(n_jobs=-1)]: Done  93 out of  93 | elapsed:  1.4min finished\n",
      "[Parallel(n_jobs=-1)]: Done  42 tasks      | elapsed:  1.3min\n",
      "[Parallel(n_jobs=-1)]: Done  93 out of  93 | elapsed:  2.8min finished\n"
     ]
    },
    {
     "name": "stdout",
     "output_type": "stream",
     "text": [
      "[CV] ................................ , score=80.872395, total= 2.0min\n",
      "[CV]  ................................................................\n",
      "generating 90 samples of indices to use to train multiple estimators, sized 189 elements with last being 65 elements\n"
     ]
    },
    {
     "name": "stderr",
     "output_type": "stream",
     "text": [
      "[Parallel(n_jobs=-1)]: Done  42 tasks      | elapsed:    2.7s\n",
      "[Parallel(n_jobs=-1)]: Done  90 out of  90 | elapsed:    4.9s finished\n",
      "[Parallel(n_jobs=-1)]: Done  42 tasks      | elapsed:   30.4s\n",
      "[Parallel(n_jobs=-1)]: Done  90 out of  90 | elapsed:  1.1min finished\n",
      "[Parallel(n_jobs=-1)]: Done  42 tasks      | elapsed:    3.8s\n",
      "[Parallel(n_jobs=-1)]: Done  90 out of  90 | elapsed:    7.2s finished\n"
     ]
    },
    {
     "name": "stdout",
     "output_type": "stream",
     "text": [
      "[CV] ................................ , score=62.039832, total= 1.2min\n",
      "[CV]  ................................................................\n",
      "generating 93 samples of indices to use to train multiple estimators, sized 362 elements with last being 351 elements\n"
     ]
    },
    {
     "name": "stderr",
     "output_type": "stream",
     "text": [
      "[Parallel(n_jobs=-1)]: Done  42 tasks      | elapsed:    3.0s\n",
      "[Parallel(n_jobs=-1)]: Done  93 out of  93 | elapsed:    5.7s finished\n",
      "[Parallel(n_jobs=-1)]: Done  42 tasks      | elapsed:   32.9s\n",
      "[Parallel(n_jobs=-1)]: Done  93 out of  93 | elapsed:  1.2min finished\n",
      "[Parallel(n_jobs=-1)]: Done  42 tasks      | elapsed:    6.7s\n",
      "[Parallel(n_jobs=-1)]: Done  93 out of  93 | elapsed:   13.9s finished\n"
     ]
    },
    {
     "name": "stdout",
     "output_type": "stream",
     "text": [
      "[CV] ................................ , score=77.152869, total= 1.4min\n",
      "[CV]  ................................................................\n",
      "generating 92 samples of indices to use to train multiple estimators, sized 732 elements with last being 665 elements\n"
     ]
    },
    {
     "name": "stderr",
     "output_type": "stream",
     "text": [
      "[Parallel(n_jobs=-1)]: Done  42 tasks      | elapsed:    4.2s\n",
      "[Parallel(n_jobs=-1)]: Done  92 out of  92 | elapsed:    8.3s finished\n",
      "[Parallel(n_jobs=-1)]: Done  42 tasks      | elapsed:   33.5s\n",
      "[Parallel(n_jobs=-1)]: Done  92 out of  92 | elapsed:  1.2min finished\n",
      "[Parallel(n_jobs=-1)]: Done  42 tasks      | elapsed:   14.7s\n",
      "[Parallel(n_jobs=-1)]: Done  92 out of  92 | elapsed:   31.2s finished\n"
     ]
    },
    {
     "name": "stdout",
     "output_type": "stream",
     "text": [
      "[CV] ................................ , score=79.327874, total= 1.4min\n",
      "[CV]  ................................................................\n",
      "generating 91 samples of indices to use to train multiple estimators, sized 1111 elements with last being 947 elements\n"
     ]
    },
    {
     "name": "stderr",
     "output_type": "stream",
     "text": [
      "[Parallel(n_jobs=-1)]: Done  42 tasks      | elapsed:    5.4s\n",
      "[Parallel(n_jobs=-1)]: Done  91 out of  91 | elapsed:   10.7s finished\n",
      "[Parallel(n_jobs=-1)]: Done  42 tasks      | elapsed:   34.7s\n",
      "[Parallel(n_jobs=-1)]: Done  91 out of  91 | elapsed:  1.2min finished\n",
      "[Parallel(n_jobs=-1)]: Done  42 tasks      | elapsed:   21.1s\n",
      "[Parallel(n_jobs=-1)]: Done  91 out of  91 | elapsed:   44.1s finished\n"
     ]
    },
    {
     "name": "stdout",
     "output_type": "stream",
     "text": [
      "[CV] ................................ , score=80.835672, total= 1.5min\n",
      "[CV]  ................................................................\n",
      "generating 94 samples of indices to use to train multiple estimators, sized 1445 elements with last being 513 elements\n"
     ]
    },
    {
     "name": "stderr",
     "output_type": "stream",
     "text": [
      "[Parallel(n_jobs=-1)]: Done  42 tasks      | elapsed:    6.6s\n",
      "[Parallel(n_jobs=-1)]: Done  94 out of  94 | elapsed:   13.4s finished\n",
      "[Parallel(n_jobs=-1)]: Done  42 tasks      | elapsed:   34.6s\n",
      "[Parallel(n_jobs=-1)]: Done  94 out of  94 | elapsed:  1.3min finished\n",
      "[Parallel(n_jobs=-1)]: Done  42 tasks      | elapsed:   28.8s\n",
      "[Parallel(n_jobs=-1)]: Done  94 out of  94 | elapsed:  1.0min finished\n"
     ]
    },
    {
     "name": "stdout",
     "output_type": "stream",
     "text": [
      "[CV] ................................ , score=81.956585, total= 1.6min\n",
      "[CV]  ................................................................\n",
      "generating 95 samples of indices to use to train multiple estimators, sized 1788 elements with last being 593 elements\n"
     ]
    },
    {
     "name": "stderr",
     "output_type": "stream",
     "text": [
      "[Parallel(n_jobs=-1)]: Done  42 tasks      | elapsed:    7.9s\n",
      "[Parallel(n_jobs=-1)]: Done  95 out of  95 | elapsed:   16.3s finished\n",
      "[Parallel(n_jobs=-1)]: Done  42 tasks      | elapsed:   35.1s\n",
      "[Parallel(n_jobs=-1)]: Done  95 out of  95 | elapsed:  1.3min finished\n",
      "[Parallel(n_jobs=-1)]: Done  42 tasks      | elapsed:   35.1s\n",
      "[Parallel(n_jobs=-1)]: Done  95 out of  95 | elapsed:  1.3min finished\n"
     ]
    },
    {
     "name": "stdout",
     "output_type": "stream",
     "text": [
      "[CV] ................................ , score=81.746442, total= 1.6min\n",
      "[CV]  ................................................................\n",
      "generating 95 samples of indices to use to train multiple estimators, sized 2134 elements with last being 1479 elements\n"
     ]
    },
    {
     "name": "stderr",
     "output_type": "stream",
     "text": [
      "[Parallel(n_jobs=-1)]: Done  42 tasks      | elapsed:    9.0s\n",
      "[Parallel(n_jobs=-1)]: Done  95 out of  95 | elapsed:   19.3s finished\n",
      "[Parallel(n_jobs=-1)]: Done  42 tasks      | elapsed:   35.9s\n",
      "[Parallel(n_jobs=-1)]: Done  95 out of  95 | elapsed:  1.3min finished\n",
      "[Parallel(n_jobs=-1)]: Done  42 tasks      | elapsed:   45.6s\n",
      "[Parallel(n_jobs=-1)]: Done  95 out of  95 | elapsed:  1.7min finished\n"
     ]
    },
    {
     "name": "stdout",
     "output_type": "stream",
     "text": [
      "[CV] ................................ , score=82.231694, total= 1.7min\n",
      "[CV]  ................................................................\n",
      "generating 94 samples of indices to use to train multiple estimators, sized 2510 elements with last being 2129 elements\n"
     ]
    },
    {
     "name": "stderr",
     "output_type": "stream",
     "text": [
      "[Parallel(n_jobs=-1)]: Done  42 tasks      | elapsed:   10.5s\n",
      "[Parallel(n_jobs=-1)]: Done  94 out of  94 | elapsed:   22.1s finished\n",
      "[Parallel(n_jobs=-1)]: Done  42 tasks      | elapsed:   36.4s\n",
      "[Parallel(n_jobs=-1)]: Done  94 out of  94 | elapsed:  1.3min finished\n",
      "[Parallel(n_jobs=-1)]: Done  42 tasks      | elapsed:   52.8s\n",
      "[Parallel(n_jobs=-1)]: Done  94 out of  94 | elapsed:  1.9min finished\n"
     ]
    },
    {
     "name": "stdout",
     "output_type": "stream",
     "text": [
      "[CV] ................................ , score=81.639481, total= 1.8min\n",
      "[CV]  ................................................................\n",
      "generating 95 samples of indices to use to train multiple estimators, sized 2844 elements with last being 2017 elements\n"
     ]
    },
    {
     "name": "stderr",
     "output_type": "stream",
     "text": [
      "[Parallel(n_jobs=-1)]: Done  42 tasks      | elapsed:   11.9s\n",
      "[Parallel(n_jobs=-1)]: Done  95 out of  95 | elapsed:   25.0s finished\n",
      "[Parallel(n_jobs=-1)]: Done  42 tasks      | elapsed:   36.7s\n",
      "[Parallel(n_jobs=-1)]: Done  95 out of  95 | elapsed:  1.4min finished\n",
      "[Parallel(n_jobs=-1)]: Done  42 tasks      | elapsed:  1.0min\n",
      "[Parallel(n_jobs=-1)]: Done  95 out of  95 | elapsed:  2.3min finished\n"
     ]
    },
    {
     "name": "stdout",
     "output_type": "stream",
     "text": [
      "[CV] ................................ , score=81.542397, total= 1.8min\n",
      "[CV]  ................................................................\n",
      "generating 95 samples of indices to use to train multiple estimators, sized 3190 elements with last being 2904 elements\n"
     ]
    },
    {
     "name": "stderr",
     "output_type": "stream",
     "text": [
      "[Parallel(n_jobs=-1)]: Done  42 tasks      | elapsed:   13.3s\n",
      "[Parallel(n_jobs=-1)]: Done  95 out of  95 | elapsed:   28.4s finished\n",
      "[Parallel(n_jobs=-1)]: Done  42 tasks      | elapsed:   37.3s\n",
      "[Parallel(n_jobs=-1)]: Done  95 out of  95 | elapsed:  1.4min finished\n",
      "[Parallel(n_jobs=-1)]: Done  42 tasks      | elapsed:  1.2min\n",
      "[Parallel(n_jobs=-1)]: Done  95 out of  95 | elapsed:  2.6min finished\n"
     ]
    },
    {
     "name": "stdout",
     "output_type": "stream",
     "text": [
      "[CV] ................................ , score=81.469955, total= 1.9min\n",
      "[CV]  ................................................................\n",
      "generating 93 samples of indices to use to train multiple estimators, sized 3635 elements with last being 2346 elements\n"
     ]
    },
    {
     "name": "stderr",
     "output_type": "stream",
     "text": [
      "[Parallel(n_jobs=-1)]: Done  42 tasks      | elapsed:   15.2s\n",
      "[Parallel(n_jobs=-1)]: Done  93 out of  93 | elapsed:   31.7s finished\n",
      "[Parallel(n_jobs=-1)]: Done  42 tasks      | elapsed:   37.0s\n",
      "[Parallel(n_jobs=-1)]: Done  93 out of  93 | elapsed:  1.4min finished\n",
      "[Parallel(n_jobs=-1)]: Done  42 tasks      | elapsed:  1.3min\n",
      "[Parallel(n_jobs=-1)]: Done  93 out of  93 | elapsed:  2.8min finished\n"
     ]
    },
    {
     "name": "stdout",
     "output_type": "stream",
     "text": [
      "[CV] ................................ , score=82.042426, total= 2.0min\n"
     ]
    },
    {
     "name": "stderr",
     "output_type": "stream",
     "text": [
      "[Parallel(n_jobs=1)]: Done  33 out of  33 | elapsed: 101.4min finished\n"
     ]
    }
   ],
   "source": [
    "train_sizes, train_scores, test_scores = learning_curve(pnu_test, X_train.values, \n",
    "                                                        y_train.values, \n",
    "                                                        train_sizes=np.asarray([0.05, 0.1, 0.2, 0.3, 0.4, 0.5, 0.6, 0.7, 0.8, 0.9, 1.0]),\n",
    "                                                        n_jobs=1, verbose=10,\n",
    "                                                        scoring=pu_mix_assumed_f1beta10_scorer)"
   ]
  },
  {
   "cell_type": "code",
   "execution_count": 21,
   "metadata": {
    "collapsed": true
   },
   "outputs": [],
   "source": [
    "train_scores_mean = np.mean(train_scores, axis=1)\n",
    "train_scores_std = np.std(train_scores, axis=1)\n",
    "test_scores_mean = np.mean(test_scores, axis=1)\n",
    "test_scores_std = np.std(test_scores, axis=1)"
   ]
  },
  {
   "cell_type": "code",
   "execution_count": 22,
   "metadata": {
    "collapsed": true
   },
   "outputs": [],
   "source": [
    "import matplotlib.pyplot as plt"
   ]
  },
  {
   "cell_type": "code",
   "execution_count": 23,
   "metadata": {
    "collapsed": false
   },
   "outputs": [
    {
     "data": {
      "text/plain": [
       "<matplotlib.legend.Legend at 0xe46d668>"
      ]
     },
     "execution_count": 23,
     "metadata": {},
     "output_type": "execute_result"
    },
    {
     "data": {
      "image/png": "[encoded data removed]",
      "text/plain": [
       "<matplotlib.figure.Figure at 0xe511160>"
      ]
     },
     "metadata": {},
     "output_type": "display_data"
    }
   ],
   "source": [
    "plt.figure()\n",
    "plt.title('Learning Curve')\n",
    "plt.xlabel(\"Training examples\")\n",
    "plt.ylabel(\"PU-Score\")\n",
    "plt.grid()\n",
    "plt.fill_between(train_sizes, train_scores_mean - train_scores_std, \n",
    "                 train_scores_mean + train_scores_std, alpha=0.1, color=\"r\")\n",
    "plt.fill_between(train_sizes, test_scores_mean - test_scores_std, \n",
    "                 test_scores_mean + test_scores_std, alpha=0.1, color=\"g\")\n",
    "plt.plot(train_sizes, train_scores_mean, 'o-', color=\"r\", label=\"Training score\")\n",
    "plt.plot(train_sizes, test_scores_mean, 'o-', color=\"g\", label=\"Cross-Validation Score\")\n",
    "plt.legend(loc=\"best\")"
   ]
  },
  {
   "cell_type": "markdown",
   "metadata": {},
   "source": [
    "# Precision Recall curve for various thresholds used for Model #6"
   ]
  },
  {
   "cell_type": "code",
   "execution_count": 242,
   "metadata": {
    "collapsed": true
   },
   "outputs": [],
   "source": [
    "from sklearn.metrics import precision_recall_curve"
   ]
  },
  {
   "cell_type": "code",
   "execution_count": 249,
   "metadata": {
    "collapsed": true
   },
   "outputs": [],
   "source": [
    "labeled_probas = probas_df[probas_df.y_test >= 0]"
   ]
  },
  {
   "cell_type": "code",
   "execution_count": 250,
   "metadata": {
    "collapsed": true
   },
   "outputs": [],
   "source": [
    "pr, re, th = precision_recall_curve(labeled_probas.y_test, labeled_probas.probas, pos_label=1)"
   ]
  },
  {
   "cell_type": "code",
   "execution_count": 306,
   "metadata": {
    "collapsed": false,
    "scrolled": true
   },
   "outputs": [
    {
     "name": "stdout",
     "output_type": "stream",
     "text": [
      "0.0019428540833625616:0.9712251591301267 \n",
      "0.006416271426900016:0.9014478841692665 \n",
      "0.010111305976965435:0.8528003474007794 \n",
      "0.01226925457223538:0.828139463128664 \n",
      "0.017313450995566148:0.7751151336464511 \n",
      "0.019248508927969938:0.7561909332967648 \n",
      "0.01987056506248012:0.7504771046887677 \n",
      "0.021367881565321094:0.736352520369799 \n",
      "0.027083647112230224:0.6875907070291519 \n",
      "0.027090295485558854:0.687533568743072 \n",
      "0.027345289321666223:0.6853051755859532 \n",
      "0.02759095988475327:0.6833510462020181 \n",
      "0.027772676039154294:0.6818654507639389 \n",
      "0.02809738548245263:0.6791570960037483 \n",
      "0.02907388442811063:0.6721176591586959 \n",
      "0.02951963629280902:0.6687122173083296 \n",
      "0.03201092761117261:0.6508279337652988 \n",
      "0.032772067965003863:0.6449655456134937 \n",
      "0.03426497885460726:0.6345320945752911 \n",
      "0.03459112043228008:0.6323265567326043 \n",
      "0.034621524785877586:0.6321094312455003 \n",
      "0.03774263408808121:0.611402516370119 \n",
      "0.03842731342731342:0.607391408687305 \n",
      "0.039402092168527456:0.601483309906636 \n",
      "0.03993508677903669:0.5981464339995658 \n",
      "0.041561855241445185:0.5885472019381307 \n",
      "0.04219179751029486:0.5850846218016844 \n",
      "0.042618934400694065:0.5822505628121178 \n",
      "0.042674884814533666:0.5818163118379102 \n",
      "0.04413262357321156:0.5734855497274504 \n",
      "0.044341941953211846:0.572274218062555 \n",
      "0.04503840060700003:0.5681602614647971 \n",
      "0.04630528479998851:0.5607894225604809 \n",
      "0.0478634083682331:0.5519329882180855 \n",
      "0.04806317094063012:0.55077879483927 \n",
      "0.05160333632158868:0.531340349914864 \n",
      "0.051993717683795265:0.5293747928737129 \n",
      "0.0534986561849267:0.5211811626498452 \n",
      "0.0549262654152405:0.5141760087764408 \n",
      "0.05720481955169583:0.5032740237923823 \n",
      "0.05726246459709096:0.5030226153336305 \n",
      "0.05803319583944328:0.49890865873587253 \n",
      "0.058746944720811566:0.49540036797056236 \n",
      "0.06300714639322234:0.4759619230461563 \n",
      "0.06384788781685477:0.4720536642782863 \n",
      "0.06427022137005806:0.46987098175003145 \n",
      "0.06463308094976483:0.46827110973979225 \n",
      "0.06571129783665511:0.4634600660518587 \n",
      "0.0658225578856528:0.462922966162707 \n",
      "0.06623932603744295:0.4613116664952518 \n",
      "0.06664868901496095:0.45944895836904476 \n",
      "0.06706136199296674:0.4577005268149977 \n",
      "0.06893126628222587:0.4495297519055618 \n",
      "0.06908087621133764:0.44898122435919413 \n",
      "0.07035508859212414:0.4437130743826208 \n",
      "0.07128782473821266:0.43989623687247875 \n",
      "0.0727877628398249:0.4340109934062418 \n",
      "0.0729106412242386:0.4334281828882261 \n",
      "0.07607639416871274:0.4212005896671123 \n",
      "0.07721873722111915:0.4168923628966826 \n",
      "0.07730738100276689:0.4165838161518507 \n",
      "0.07770908155639017:0.41494966116996357 \n",
      "0.07873120350151791:0.41100711943044554 \n",
      "0.08077703157777859:0.4036934188122093 \n",
      "0.08204300708894423:0.3992366324979716 \n",
      "0.08216825272075916:0.3988138091809798 \n",
      "0.08306239625655709:0.39522552481515766 \n",
      "0.08546232397858194:0.38662049893151407 \n",
      "0.08667967016272443:0.38247225936210816 \n",
      "0.09166930248494154:0.36630212440147647 \n",
      "0.0924506861573011:0.36392517170054967 \n",
      "0.09274585880043089:0.3629423931799742 \n",
      "0.09794872444303176:0.34677225821934243 \n",
      "0.10387010717757958:0.3296764830242152 \n",
      "0.1052263504080572:0.3260539156867451 \n",
      "0.10673991669295872:0.3216542676585873 \n",
      "0.107293379424435:0.32023723816380406 \n",
      "0.10853093154302533:0.31704892180054167 \n",
      "0.10899499529552606:0.3156547476201904 \n",
      "0.10967166198893427:0.3142948564114871 \n",
      "0.11208385194330461:0.30799821728547433 \n",
      "0.1121777701299955:0.3077925194555864 \n",
      "0.11268853853071902:0.30650119419017907 \n",
      "0.11325467573425926:0.3049584604660199 \n",
      "0.11365347995702048:0.3040671032031723 \n",
      "0.11428492091517818:0.30266150136560505 \n",
      "0.11495294929349643:0.3010044910692859 \n",
      "0.11621601596080976:0.29777046407715957 \n",
      "0.11828290603182293:0.29323368416240986 \n",
      "0.12046533895758062:0.2880798107579965 \n",
      "0.12912861037605833:0.2684928062897825 \n",
      "0.13027250867185536:0.2657501685579439 \n",
      "0.1308916177698154:0.2644017050064566 \n",
      "0.1324527841983946:0.2611105397282503 \n",
      "0.13492516700969134:0.255933811009405 \n",
      "0.13574863841299117:0.25457391980070165 \n",
      "0.13699586126507074:0.2521284011564789 \n",
      "0.13704929528224752:0.252014124584319 \n",
      "0.1414397149246908:0.24344338167232335 \n",
      "0.14170954040288458:0.24281486052544368 \n",
      "0.14237363044529225:0.24156924588890033 \n",
      "0.14368277318767317:0.23902087832973362 \n",
      "0.14390706933071162:0.23846092312614992 \n",
      "0.14492471857736036:0.2365182213994309 \n",
      "0.14668675622126007:0.23332990503616854 \n",
      "0.14729911719829575:0.23224427760064908 \n",
      "0.15199384375969052:0.22426777286388516 \n",
      "0.15340434598294947:0.22197081376347036 \n",
      "0.15346659370390542:0.22182225421966242 \n",
      "0.153969623695262:0.22099946290011085 \n",
      "0.1552820059357646:0.21889677397236793 \n",
      "0.15709537443228272:0.21597129372507343 \n",
      "0.15756675213085986:0.21513707474830585 \n",
      "0.15921939287221476:0.21223444981544334 \n",
      "0.16130963712119287:0.20887471859394105 \n",
      "0.1616223920582842:0.20832619104757333 \n",
      "0.1646433270463487:0.2039036877049836 \n",
      "0.1671566149924664:0.1999954289371136 \n",
      "0.16733132723332803:0.19977830345000971 \n",
      "0.1677618160711658:0.19911549933148207 \n",
      "0.16982022320556903:0.19616716376975557 \n",
      "0.17000055772003503:0.1959157553110037 \n",
      "0.1703141570179136:0.1955272149656599 \n",
      "0.17056441528164681:0.19523009587804405 \n",
      "0.17064007139691978:0.19515010227753207 \n",
      "0.17218966372492422:0.19307026866422114 \n",
      "0.17224177320645265:0.1930131303781412 \n",
      "0.1760896560325656:0.18743643365673604 \n",
      "0.17898424866575136:0.1829796473424983 \n",
      "0.1831094155995834:0.17780291862365297 \n",
      "0.1851363002649241:0.1753688276366462 \n",
      "0.1852609972016452:0.1752088404356223 \n",
      "0.1854538371210843:0.17502599792016638 \n",
      "0.1872752230755496:0.17248905801821568 \n",
      "0.18748425332116533:0.1722490772166798 \n",
      "0.18814028458270998:0.1713005816677523 \n",
      "0.18859403304074598:0.17083204772189653 \n",
      "0.19046183672051376:0.1684093843921058 \n",
      "0.19052949105221353:0.16831796313437783 \n",
      "0.19112285714980695:0.1675637377581222 \n",
      "0.191849847821673:0.16674094643857063 \n",
      "0.193606675374744:0.16453540859588375 \n",
      "0.19393257012183102:0.1642154341938359 \n",
      "0.1950111910334074:0.1630840961294525 \n",
      "0.1959600575713394:0.16180419852126116 \n",
      "0.19624118604597873:0.16135851988983738 \n",
      "0.1966003111266483:0.1609356965728456 \n",
      "0.1992996679756581:0.1576102483229913 \n",
      "0.20354819260226406:0.15302775777937766 \n",
      "0.20358385593985967:0.15300490246494566 \n",
      "0.20430765074497206:0.15241066428971398 \n",
      "0.2058430019536594:0.15065080507845086 \n",
      "0.2068375354512554:0.14978230313003532 \n",
      "0.20729715796534415:0.1494051904419075 \n",
      "0.2084859837801309:0.14813672049093216 \n",
      "0.21186916315540238:0.14450272549624602 \n",
      "0.2135400016933296:0.1429485641148708 \n",
      "0.21450972918919006:0.14185150902213536 \n",
      "0.21473071146136993:0.1416343835350315 \n",
      "0.21675860076737988:0.14001165621036032 \n",
      "0.216897835382101:0.1398516690093364 \n",
      "0.21731683221577053:0.13952026695007255 \n",
      "0.21941960803741126:0.13746328865119362 \n",
      "0.222564860745811:0.134743506233787 \n",
      "0.22328457607533106:0.13403499148639536 \n",
      "0.22552603355992487:0.1322065663318363 \n",
      "0.22746603883474056:0.1304809900922212 \n",
      "0.22862385769184465:0.12965819877266963 \n",
      "0.23022061022775592:0.12826402459231834 \n",
      "0.23491786275065163:0.12476716148422412 \n",
      "0.23650425910225517:0.12340727027552081 \n",
      "0.23813613983070905:0.1222530768967054 \n",
      "0.23881832253616647:0.12175025997920166 \n",
      "0.23890353744375808:0.1216702663786897 \n",
      "0.239688826513881:0.121087455860674 \n",
      "0.2463068252165843:0.11621927388666049 \n",
      "0.24706046416018074:0.11578502291245271 \n",
      "0.2506514370948835:0.11331664895379798 \n",
      "0.25240908815717256:0.11195675774509468 \n",
      "0.25361531005941684:0.11104254516781514 \n",
      "0.2552601743189738:0.11004833899002366 \n",
      "0.2552908662953579:0.11001405601837567 \n",
      "0.2584013396977272:0.10815134789216863 \n",
      "0.2587662284783559:0.10793422240506474 \n",
      "0.25967643845349025:0.10730570125818506 \n",
      "0.2605599495554579:0.10680288434068132 \n",
      "0.26096971603302294:0.10659718651079342 \n",
      "0.26150762981101916:0.1062657844515296 \n",
      "0.26213373438261145:0.10598009302112973 \n",
      "0.2627356673089624:0.10555726970413795 \n",
      "0.2640740591928258:0.1046773400985064 \n",
      "0.26886529118502567:0.10225467676871565 \n",
      "0.2735588992602659:0.09971773686676494 \n",
      "0.2743793192802993:0.0992263476064772 \n",
      "0.27552212732898723:0.09870067537454147 \n",
      "0.275929284972592:0.09847212223022159 \n",
      "0.2772455387042974:0.09768361388231799 \n",
      "0.2785392049989847:0.0970550927354383 \n",
      "0.2812980637383755:0.09547807603963111 \n",
      "0.28172966972987384:0.09521523992366325 \n",
      "0.2818404219993704:0.09514667398036729 \n",
      "0.2825088523230622:0.09478098894945547 \n",
      "0.28747902154424615:0.09260973407841658 \n",
      "0.2926078804252369:0.09048418983624167 \n",
      "0.29394513846330916:0.09008422183368188 \n",
      "0.2977029439565169:0.08853006045230667 \n",
      "0.2986357964359189:0.08815294776417887 \n",
      "0.29963827626979445:0.08793582227707497 \n",
      "0.3006256620895248:0.08767298616110711 \n",
      "0.3012743549646366:0.08754728193173117 \n",
      "0.30144596378773597:0.08747871598843521 \n",
      "0.30190508303003194:0.08733015644462729 \n",
      "0.30207624400542277:0.08727301815854732 \n",
      "0.3049440262639527:0.08642737152456374 \n",
      "0.3098988041056232:0.08478178888546059 \n",
      "0.3101440581506843:0.08466751231330065 \n",
      "0.3116449539417086:0.0841761230530129 \n",
      "0.3119676064449442:0.08406184648085296 \n",
      "0.3125184884984803:0.08391328693704504 \n",
      "0.3133912622556816:0.08365045082107717 \n",
      "0.32170923917825417:0.08080496417429463 \n",
      "0.32456104050332185:0.08016501537019896 \n",
      "0.3256999271350868:0.07981075799650314 \n",
      "0.3267314848317299:0.07951363890888728 \n",
      "0.32700786505320034:0.07944507296559132 \n",
      "0.3282511478509847:0.0791136709063275 \n",
      "0.33012967497700635:0.07877084118984767 \n",
      "0.33089441337625325:0.07855371570274378 \n",
      "0.33183680761263457:0.07831373490120791 \n",
      "0.3347019009484228:0.07762807546824825 \n",
      "0.3358440496711219:0.07725096278012045 \n",
      "0.33769971794885933:0.07678242883426468 \n",
      "0.3377325040248683:0.07678242883426468 \n",
      "0.3409195565192611:0.07613105237295302 \n",
      "0.3440890084565174:0.07534254402504942 \n",
      "0.3481555313809776:0.07457689099157781 \n",
      "0.3556941461137051:0.0730341572674186 \n",
      "0.3599096720166544:0.0720742340612751 \n",
      "0.3608336448271115:0.07190281920303519 \n",
      "0.36555468467983765:0.07095432365410767 \n",
      "0.3664275722462739:0.07089718536802771 \n",
      "0.3706153334798279:0.07016581530620407 \n",
      "0.3716899829598891:0.07002868341961214 \n",
      "0.3870853681152351:0.06764030306146937 \n",
      "0.3963539801342747:0.0662232735666861 \n",
      "0.4015958170481024:0.06551475881929446 \n",
      "0.40356249507944075:0.0652404950461106 \n",
      "0.40415667893179735:0.06516050144559864 \n",
      "0.4247606985969583:0.06274926577302387 \n",
      "0.4265213918442726:0.062509284971488 \n",
      "0.4293460796421189:0.06215502759779218 \n",
      "0.43095893678784636:0.06200646805398425 \n",
      "0.4363479781865942:0.06150365113648051 \n",
      "0.4390588613026344:0.061183676734432674 \n",
      "0.4406178083555403:0.06105797250505674 \n",
      "0.44589037121703523:0.06049801730147303 \n",
      "0.454788029711468:0.059698081296353435 \n",
      "0.4568250861168488:0.05946952815203355 \n",
      "0.46175548888901286:0.05896671123452981 \n",
      "0.4632286036604348:0.05882957934793788 \n",
      "0.4648478357237034:0.05863530917526598 \n",
      "0.4728404155917533:0.057972505056738316 \n",
      "0.4756660346595014:0.05778966254128241 \n",
      "0.4997969256595225:0.0554584204692196 \n",
      "0.5118388936093643:0.054269944118756214 \n",
      "0.5188000175648194:0.05355000171414858 \n",
      "0.5285708984914891:0.052670072108517034 \n",
      "0.5295874754669461:0.052590078508005074 \n",
      "0.5348351437821854:0.05198441267555738 \n",
      "0.5404135156848403:0.051458740443621656 \n",
      "0.5429127794532037:0.051127338384357825 \n",
      "0.5462033105744224:0.050750225696230014 \n",
      "0.5940301909575081:0.04641914361136824 \n",
      "0.5971012429413817:0.046122024523752386 \n",
      "0.5993660637035483:0.045973464979944464 \n",
      "0.6148226872722373:0.044522152513513207 \n",
      "0.6411869416973541:0.04181379775332259 \n",
      "0.6540997676461131:0.040476761859051275 \n",
      "0.6578984352157078:0.04016821511421943 \n",
      "0.6666422287167847:0.03941398973796382 \n",
      "0.6682097684397069:0.039288285508587886 \n",
      "0.6684637954033628:0.0392654301941559 \n",
      "0.6873624461769685:0.037174168923628965 \n",
      "0.690210293158075:0.036899905150445104 \n",
      "0.6924120806828037:0.03673991794942119 \n",
      "0.7007994566947199:0.03577999474327768 \n",
      "0.7060432886604436:0.03514004593918201 \n",
      "0.7096997970875062:0.03468293965054224 \n",
      "0.7113407173788963:0.03447724182065435 \n",
      "0.7142637590167192:0.034134412104174526 \n",
      "0.7155751262937871:0.033951569588718616 \n",
      "0.7171154499962176:0.033745871758830724 \n",
      "0.7227485340026378:0.03303735701143908 \n",
      "0.7291828548271753:0.03236312523569543 \n",
      "0.7305186743069552:0.032157427405807536 \n",
      "0.7306508009342901:0.032157427405807536 \n",
      "0.7341626770092233:0.03162032751665581 \n",
      "0.740434428849568:0.030831819168752213 \n",
      "0.7410629981832516:0.030774680882672243 \n",
      "0.7428464523788544:0.03048898945227239 \n",
      "0.7493350958132499:0.02966619813272081 \n",
      "0.7493551912600502:0.02966619813272081 \n",
      "0.7501597875832255:0.0294947832744809 \n",
      "0.7501977934501416:0.029483355617264905 \n",
      "0.7516557356991532:0.02927765778737701 \n",
      "0.7527562282910102:0.029129098243569088 \n",
      "0.7555903290441164:0.028797696184305256 \n",
      "0.7558150912455192:0.02875198555544128 \n",
      "0.7561463520222198:0.0287062749265773 \n",
      "0.7565370842728948:0.02867199195492932 \n",
      "0.7567155199352013:0.028660564297713326 \n",
      "0.7605012382472571:0.028180602694641572 \n",
      "0.7619879010681476:0.02798633252196967 \n",
      "0.7622793750188986:0.02798633252196967 \n",
      "0.7668424062666609:0.027277817774578033 \n",
      "0.7670035821066855:0.027232107145714057 \n",
      "0.7687375280678671:0.02699212634417818 \n",
      "0.7729607382016529:0.026340749882866513 \n",
      "0.7738526727042444:0.026123624395762626 \n",
      "0.7738566484885508:0.026123624395762626 \n",
      "0.7742560760323114:0.02605505845246666 \n",
      "0.7758618299285209:0.0257807946792828 \n",
      "0.7778279027054038:0.025392254333938998 \n",
      "0.7781593422687256:0.02531226073342704 \n",
      "0.7800747924625016:0.024855154444787274 \n",
      "0.7812357209355985:0.024672311929331368 \n",
      "0.7827381949225448:0.0244094758133635 \n",
      "0.7842714404887854:0.02406664609688368 \n",
      "0.7850550802222017:0.023940941867507743 \n",
      "0.7873061707586007:0.023598112151027917 \n",
      "0.7882853006679056:0.023403841978356016 \n",
      "0.7890072323514542:0.023255282434548094 \n",
      "0.789139552546459:0.0232438547773321 \n",
      "0.7905207642651499:0.022946735689716252 \n",
      "0.794176273327728:0.022398208143348534 \n",
      "0.7948444400573718:0.02228393157118859 \n",
      "0.7950837641395876:0.022238220942324614 \n",
      "0.7964725178485897:0.021998240140788737 \n",
      "0.7972514120635802:0.021849680596980812 \n",
      "0.8014849582989638:0.021198304135669147 \n",
      "0.8017092791010306:0.021164021164021163 \n",
      "0.8018987164028355:0.021141165849589177 \n",
      "0.8021645304924196:0.021084027563509206 \n",
      "0.8025444033304386:0.021026889277429236 \n",
      "0.8033857111235628:0.020889757390837305 \n",
      "0.8051002691225626:0.02062692127486944 \n",
      "0.8059407560166045:0.020432651102197538 \n",
      "0.807673248669574:0.02013553201458169 \n",
      "0.8086987332251014:0.01994126184190979 \n",
      "0.8133698085458811:0.019095615207926225 \n",
      "0.8142113831592195:0.018935628006902305 \n",
      "0.815925492473243:0.018467094061046546 \n",
      "0.8161048062232225:0.018444238746614557 \n",
      "0.8161236669060993:0.018444238746614557 \n",
      "0.8169097925273917:0.01831853451723862 \n",
      "0.8169556894189395:0.018307106860022626 \n",
      "0.8171192329507245:0.018272823888374645 \n",
      "0.8182092214758606:0.017975704800758798 \n",
      "0.8184383399369105:0.01792999417189482 \n",
      "0.8189176830458985:0.017827145256950873 \n",
      "0.8196439796837918:0.017758579313654908 \n",
      "0.8198679785347809:0.017701441027574937 \n",
      "0.8202082417140514:0.017667158055926953 \n",
      "0.8214957233229995:0.017427177254391076 \n",
      "0.8240435887026332:0.016935787994103328 \n",
      "0.8245118195250902:0.016810083764727392 \n",
      "0.8245725387160668:0.016810083764727392 \n",
      "0.8245887568264046:0.016810083764727392 \n",
      "0.8258221055159339:0.0166043859348395 \n",
      "0.8261219577573193:0.016547247648759526 \n",
      "0.8270382386031576:0.016341549818871634 \n",
      "0.8305152016931139:0.01573588398642394 \n",
      "0.8308278502949797:0.01567874570034397 \n",
      "0.8310723428832862:0.015598752099832013 \n",
      "0.8313364077961873:0.015575896785400025 \n",
      "0.8314543320055776:0.01553018615653605 \n",
      "0.8316273875764845:0.015518758499320055 \n",
      "0.8321085293727187:0.015438764898808095 \n",
      "0.8321742498326388:0.015427337241592102 \n",
      "0.8334107448439827:0.015244494726136195 \n",
      "0.8337535238096423:0.015210211754488213 \n",
      "0.8339953614255247:0.015164501125624235 \n",
      "0.8350526287400283:0.014901665009656371 \n",
      "0.8352399207646243:0.014878809695224381 \n",
      "0.8367129437566349:0.014638828893688505 \n",
      "0.8369310800672951:0.01462740123647251 \n",
      "0.8370145594012476:0.01462740123647251 \n",
      "0.8370622507941461:0.01462740123647251 \n",
      "0.8380498976306391:0.014444558721016604 \n",
      "0.838584004958035:0.014387420434936633 \n",
      "0.8390546351550845:0.014284571519992685 \n",
      "0.8398030533524015:0.014090301347320786 \n",
      "0.8408612975579083:0.013998880089592833 \n",
      "0.8421139686349973:0.013838892888568915 \n",
      "0.844057248054527:0.013461780200441108 \n",
      "0.8446268509253405:0.013404641914361137 \n",
      "0.8446541072919184:0.013381786599929148 \n",
      "0.8453282729847541:0.013278937684985202 \n",
      "0.8458878268070148:0.013198944084473242 \n",
      "0.8468778185805547:0.01294753562572137 \n",
      "0.8474267065375678:0.012856114367993417 \n",
      "0.8483976678086517:0.012718982481401488 \n",
      "0.8494370062510123:0.012581850594809558 \n",
      "0.8500953901843826:0.012444718708217629 \n",
      "0.8505524995776123:0.012376152764921664 \n",
      "0.8511282121837451:0.01228473150719371 \n",
      "0.8518203738701893:0.01220473790668175 \n",
      "0.852579458750345:0.012079033677305815 \n",
      "0.8559541598596941:0.011427657215994149 \n",
      "0.8561353007351373:0.011416229558778156 \n",
      "0.8572769875648603:0.01121053172889026 \n",
      "0.8579720880239385:0.011119110471162307 \n",
      "0.8582215915974595:0.011084827499514324 \n",
      "0.8584553711340158:0.011073399842298331 \n",
      "0.8590730054694937:0.010970550927354383 \n",
      "0.8592535829667431:0.010947695612922395 \n",
      "0.8595313806318298:0.010890557326842423 \n",
      "0.8597105849249578:0.010833419040762453 \n",
      "0.8598493028032095:0.01082199138354646 \n",
      "0.8599598189289658:0.010787708411898477 \n",
      "0.8606140317042725:0.010719142468602512 \n",
      "0.8612245587325293:0.010616293553658564 \n",
      "0.8614648387633055:0.010547727610362599 \n",
      "0.8614838379487215:0.010547727610362599 \n",
      "0.86328062467303:0.010227753208314764 \n",
      "0.8635369965012314:0.010204897893882774 \n",
      "0.8641574853761304:0.010124904293370816 \n",
      "0.8648010035077021:0.00999920006399488 \n",
      "0.8667420971338536:0.009702080976379033 \n",
      "0.8670773913838307:0.009656370347515056 \n",
      "0.8674718299258924:0.00958780440421909 \n",
      "0.8678985551810067:0.00953066611813912 \n",
      "0.8679153597487609:0.00953066611813912 \n",
      "0.8681113621191205:0.00947352783205915 \n",
      "0.8690864566221855:0.009290685316603244 \n",
      "0.8702655379134976:0.009096415143931343 \n",
      "0.8706568745819458:0.009073559829499355 \n",
      "0.8710180915979204:0.008993566228987395 \n",
      "0.8715742377338951:0.008833579027963476 \n",
      "0.871687778904384:0.008799296056315496 \n",
      "0.8717379139292043:0.0087878683990995 \n",
      "0.8719607774528148:0.008719302455803535 \n",
      "0.872564403444354:0.00867359182693956 \n",
      "0.8726889668436437:0.00865073651250757 \n",
      "0.8731216573907469:0.008570742911995612 \n",
      "0.8732973293814454:0.008559315254779617 \n",
      "0.8736050744319421:0.008513604625915642 \n",
      "0.8738536983637024:0.008490749311483652 \n",
      "0.8739164116512009:0.008479321654267659 \n",
      "0.8740929585968372:0.008456466339835671 \n",
      "0.8741992984087628:0.008456466339835671 \n",
      "0.8744822629018111:0.008410755710971694 \n",
      "0.8747581939260592:0.008376472739323711 \n",
      "0.8753649587561383:0.00826219616716377 \n",
      "0.8757496237334945:0.008136491937787834 \n",
      "0.8768727588027665:0.007896511136251958 \n",
      "0.8781173637849828:0.007667957991932074 \n",
      "0.8781527748146776:0.007667957991932074 \n",
      "0.8783084816669957:0.0076565303347160794 \n",
      "0.8784028268511731:0.007633675020284092 \n",
      "0.8790162850003093:0.0075422537625561385 \n",
      "0.8792609519845126:0.007496543133692162 \n",
      "0.879603088036537:0.007462260162044179 \n",
      "0.8798073816448663:0.007439404847612191 \n",
      "0.8804950365485277:0.007313700618236255 \n",
      "0.8806264569331129:0.007302272961020261 \n",
      "0.8806861705830076:0.007290845303804267 \n",
      "0.8829972081866614:0.00691373261567646 \n",
      "0.8839506922704188:0.006822311357948507 \n",
      "0.8846467617496607:0.006730890100220554 \n",
      "0.8846754745488921:0.006730890100220554 \n",
      "0.8846921179244028:0.006730890100220554 \n",
      "0.8847317640090198:0.006708034785788565 \n",
      "0.8848047945128382:0.006708034785788565 \n",
      "0.8850016588072938:0.006696607128572571 \n",
      "0.8850956361062527:0.006685179471356577 \n",
      "0.8855441829921209:0.006616613528060612 \n",
      "0.8860637668518435:0.006513764613116665 \n",
      "0.8866795776944392:0.0064451986698207 \n",
      "0.8873456704510196:0.006239500839932805 \n",
      "0.8875065029631178:0.006216645525500817 \n",
      "0.887690636118566:0.0061937902110688284 \n",
      "0.8880035396281869:0.006170934896636841 \n",
      "0.8880834193104512:0.006159507239420847 \n",
      "0.8881017078138354:0.006159507239420847 \n",
      "0.88892937174889:0.0060909412961248815 \n",
      "0.8893807246093889:0.006056658324476899 \n",
      "0.8897080891976767:0.00597666472396494 \n",
      "0.8908591321719131:0.005770966894077046 \n",
      "0.8919140219550159:0.005656690321917104 \n",
      "0.8922035286673913:0.005622407350269121 \n",
      "0.8923292814577974:0.005588124378621139 \n",
      "0.892454687003482:0.005530986092541168 \n",
      "0.8939796135386173:0.005336715919869267 \n",
      "0.8944904663565342:0.005279577633789297 \n",
      "0.8946169136808172:0.005268149976573303 \n",
      "0.8967833166485677:0.005028169175037425 \n",
      "0.8970195927078086:0.0050053138606054376 \n",
      "0.8971112851880507:0.0050053138606054376 \n",
      "0.8971997104736567:0.004993886203389443 \n",
      "0.8979602474568437:0.004891037288445496 \n",
      "0.8984991408832502:0.0048224713451495305 \n",
      "0.898546574265083:0.0048224713451495305 \n",
      "0.8985932144772488:0.004811043687933537 \n",
      "0.8986731849430909:0.004811043687933537 \n",
      "0.8986759408717352:0.004811043687933537 \n",
      "0.8993559213649047:0.0047196224302055835 \n",
      "0.89979339656759:0.004685339458557601 \n",
      "0.9001792567942014:0.004593918200829648 \n",
      "0.9004539495862489:0.00457106288639766 \n",
      "0.9007699267295022:0.004525352257533683 \n",
      "0.9008880878696167:0.004513924600317689 \n",
      "0.901748826638337:0.004445358657021724 \n",
      "0.901979347120221:0.0044339309998057295 \n",
      "0.9031729095428561:0.004273943798781812 \n",
      "0.9050028468991007:0.004091101283325905 \n",
      "0.905572673173993:0.004056818311677923 \n",
      "0.9056041417107159:0.004056818311677923 \n",
      "0.9060000370075906:0.004033962997245935 \n",
      "0.906564382375938:0.003988252368381958 \n",
      "0.9066471519843845:0.003988252368381958 \n",
      "0.9069345793416842:0.003908258767869999 \n",
      "0.9072716619164145:0.0038854034534380106 \n",
      "0.9075113330932031:0.0038625481390060223 \n",
      "0.9075347332748307:0.0038625481390060223 \n",
      "0.9084844412649281:0.003816837510142046 \n",
      "0.9085137003930385:0.003816837510142046 \n",
      "0.9089278413237171:0.0037711268812780693 \n",
      "0.9090203769205399:0.0037711268812780693 \n",
      "0.9092516255499524:0.003748271566846081 \n",
      "0.9096905860819099:0.0037139885951980984 \n",
      "0.9102501852910186:0.00369113328076611 \n",
      "0.9105387089053889:0.0036454226519021336 \n",
      "0.9107693363001649:0.0036225673374701453 \n",
      "0.9108034771060497:0.0036225673374701453 \n",
      "0.9111447423921901:0.0035654290513901744 \n",
      "0.9126412377075913:0.0033254482498542974 \n",
      "0.9136324740244706:0.003245454649342338 \n",
      "0.91435935969419:0.0031883163632623677 \n",
      "0.914762611373473:0.0031768887060463734 \n",
      "0.9150988331572242:0.0031654610488303795 \n",
      "0.915328363506191:0.003142605734398391 \n",
      "0.9153613154838143:0.003142605734398391 \n",
      "0.9159042219066719:0.003074039791102426 \n",
      "0.9168997204642003:0.0029483355617264903 \n",
      "0.9175324898170962:0.0029026249328625137 \n",
      "0.9182960457868586:0.002834058989566549 \n",
      "0.9191385464956244:0.0027883483607025724 \n",
      "0.919426078133714:0.002765493046270584 \n",
      "0.9200375925059471:0.002685499445758625 \n",
      "0.9203657079728945:0.0026626441313266367 \n",
      "0.9203984063212318:0.0026397888168946484 \n",
      "0.9205975866290242:0.00261693350246266 \n",
      "0.9207917896872573:0.00261693350246266 \n",
      "0.9214587256299958:0.0025597952163826892 \n",
      "0.9225365166871905:0.0025140845875187127 \n",
      "0.9253585619347158:0.002296959100414824 \n",
      "0.9258982953391081:0.002228393157118859 \n",
      "0.9259878416881271:0.002228393157118859 \n",
      "0.926304743076895:0.0021941101854708765 \n",
      "0.9263461086347977:0.0021941101854708765 \n",
      "0.9263598914136759:0.0021941101854708765 \n",
      "0.9269302850560507:0.0021712548710388882 \n",
      "0.9272622550082736:0.002136971899390906 \n",
      "0.9278885751029876:0.0020455506416629525 \n",
      "0.9279435240439731:0.0020455506416629525 \n",
      "0.928402940918253:0.001999840012798976 \n",
      "0.9299127611193757:0.0018969910978550288 \n",
      "0.9304132984206482:0.001839852811775058 \n",
      "0.9307349218843707:0.0018284251545590637 \n",
      "0.9310436954271174:0.0017941421829110813 \n",
      "0.9311694352258543:0.0017941421829110813 \n",
      "0.9318524227160407:0.0017370038968311107 \n",
      "0.9328786083842171:0.0016570102963191517 \n",
      "0.9331566517356639:0.0016341549818871632 \n",
      "0.9344905241380014:0.001531306066943216 \n",
      "0.9346762129854868:0.001531306066943216 \n",
      "0.9347874289329983:0.0015198784097272219 \n",
      "0.9357202122922825:0.0014513124664312569 \n",
      "0.9358352077727331:0.0014398848092152627 \n",
      "0.9360019957508725:0.0014284571519992686 \n",
      "0.9360972564933364:0.0014284571519992686 \n",
      "0.936657910734064:0.0013256082370553214 \n",
      "0.9367716771828294:0.0013141805798393272 \n",
      "0.9371152202673918:0.0013141805798393272 \n",
      "0.9371480046653582:0.0013141805798393272 \n",
      "0.9375367311106391:0.0012913252654073388 \n",
      "0.9377403512356556:0.0012798976081913446 \n",
      "0.9377610491228295:0.0012798976081913446 \n",
      "0.9379435830238075:0.0012798976081913446 \n",
      "0.9383430795543785:0.0012798976081913446 \n",
      "0.938639218712718:0.0012456146365433622 \n",
      "0.9386829894996493:0.0012456146365433622 \n",
      "0.940095332693152:0.0010970550927354382 \n",
      "0.9405713530152079:0.0010627721210874558 \n",
      "0.9417417219422478:0.000994206177791491 \n",
      "0.9418200982206704:0.000994206177791491 \n",
      "0.9422888801044353:0.0009713508633595027 \n",
      "0.9428265215116991:0.0009370678917115202 \n",
      "0.9429389889310502:0.0009370678917115202 \n",
      "0.9429721946379406:0.0009370678917115202 \n",
      "0.9433425891436967:0.0009142125772795319 \n",
      "0.9435607220162135:0.0008913572628475436 \n",
      "0.9436969443604807:0.0008799296056315495 \n",
      "0.9438986734860407:0.0008570742911995612 \n",
      "0.9443778313972849:0.0008342189767675729 \n",
      "0.9448964261847068:0.0008227913195515787 \n",
      "0.9448973560958048:0.0008227913195515787 \n",
      "0.9458634396772413:0.000765653033471608 \n",
      "0.9471124579638261:0.0006970870901756431 \n",
      "0.9472907629494146:0.0006513764613116664 \n",
      "0.9483860104929929:0.0006285211468796782 \n",
      "0.9494105746045314:0.000617093489663684 \n",
      "0.9503473284269165:0.0005828105180157016 \n",
      "0.9504606546154114:0.0005828105180157016 \n",
      "0.9510824070746492:0.000537099889151725 \n",
      "0.9519994457997359:0.0005028169175037426 \n",
      "0.9525403645248477:0.0004685339458557601 \n",
      "0.952870129054286:0.0004685339458557601 \n",
      "0.9542914598294341:0.00041139565977578934 \n",
      "0.9550780455241681:0.00037711268812780694 \n",
      "0.9551992069754425:0.00036568503091181275 \n",
      "0.9560418624220177:0.00031997440204783615 \n",
      "0.9566277932856126:0.000308546744831842 \n",
      "0.9567880959703554:0.0002971190876158479 \n",
      "0.9591521069416705:0.0002628361159678654 \n",
      "0.9599379166498404:0.00021712548710388883 \n",
      "0.9607526040413442:0.00019427017267190054 \n",
      "0.9618004003467453:0.00019427017267190054 \n",
      "0.9642507476913538:0.00015998720102391808 \n",
      "0.9646851306316153:0.00015998720102391808 \n",
      "0.9725759034458549:2.2855314431988297e-05 \n",
      "0.975338714893638:2.2855314431988297e-05 \n"
     ]
    }
   ],
   "source": [
    "# find pr of unlabeled == pos\n",
    "unlabeled_probas = probas_df[probas_df.y_test == -1].probas.values\n",
    "total_unlabeled = len(unlabeled_probas)\n",
    "pr_one_un = []\n",
    "for thresh in th:\n",
    "    p = sum(unlabeled_probas >= thresh)\n",
    "    pr_one_un.append(p / total_unlabeled)\n",
    "    print(\"{}:{} \".format(thresh, p/total_unlabeled))\n",
    "pr_one_un.append(0.0)\n",
    "pr_one_un = np.array(pr_one_un)"
   ]
  },
  {
   "cell_type": "code",
   "execution_count": 358,
   "metadata": {
    "collapsed": true
   },
   "outputs": [],
   "source": [
    "def find_re_pr_prob(thresh):\n",
    "    idx = np.nonzero(th >= thresh)[0][0]\n",
    "    return re[idx], pr[idx], pr_one_un[idx]"
   ]
  },
  {
   "cell_type": "code",
   "execution_count": 398,
   "metadata": {
    "collapsed": true
   },
   "outputs": [],
   "source": [
    "re_50, pr_50, _ = find_re_pr_prob(0.5)\n",
    "re_35, pr_35, _ = find_re_pr_prob(0.35)\n",
    "re_40, pr_40, _ = find_re_pr_prob(0.4)\n",
    "re_80, pr_80, _ = find_re_pr_prob(0.8)\n",
    "re_20, pr_20, _ = find_re_pr_prob(0.2)"
   ]
  },
  {
   "cell_type": "code",
   "execution_count": 298,
   "metadata": {
    "collapsed": true
   },
   "outputs": [],
   "source": [
    "from matplotlib import cm, colors, colorbar"
   ]
  },
  {
   "cell_type": "code",
   "execution_count": 400,
   "metadata": {
    "collapsed": false
   },
   "outputs": [
    {
     "data": {
      "text/plain": [
       "<matplotlib.figure.Figure at 0xfd1cb780>"
      ]
     },
     "metadata": {},
     "output_type": "display_data"
    },
    {
     "data": {
      "image/png": "[encoded data removed]",
      "text/plain": [
       "<matplotlib.figure.Figure at 0xfc104320>"
      ]
     },
     "metadata": {},
     "output_type": "display_data"
    }
   ],
   "source": [
    "plt.clf()\n",
    "plt.figure(figsize=(10, 7))\n",
    "plt.xlabel('Recall', fontsize=15)\n",
    "plt.xlim((0.0, 1.0))\n",
    "plt.ylabel('Precision', fontsize=15)\n",
    "plt.ylim((0.45, 1.05))\n",
    "plt.title('Precision-Recall curve of labeled 20% test set', fontsize=15)\n",
    "norm = colors.Normalize(vmin=0.0, vmax=0.2)\n",
    "cmap = cm.plasma\n",
    "plt.scatter(re, pr, c=pr_one_un, cmap=cmap, norm=norm, edgecolors='none', s=30)\n",
    "#plt.scatter(re, pr, c=np.append(th, 1.0), cmap=cm.plasma, norm=norm)\n",
    "cb = plt.colorbar(orientation='vertical', extend='max')\n",
    "cb.set_label('Probability of unlabeled positive', fontsize=15)\n",
    "plt.axvline(x=re_80, ls=\"--\", c='r', label='Threshold=80%')\n",
    "plt.axvline(x=re_50, ls=\"--\", c='g', label='Threshold=50%')\n",
    "plt.axvline(x=re_40, ls=\"--\", c='orange', label='Threshold=40%')\n",
    "plt.axvline(x=re_35, ls=\"--\", c='b', label='Threshold=35%')\n",
    "plt.axvline(x=re_20, ls=\"--\", c='y', label='Threshold=20%')\n",
    "plt.legend(loc='center left')\n",
    "plt.show()"
   ]
  }
 ],
 "metadata": {
  "anaconda-cloud": {},
  "kernelspec": {
   "display_name": "Python [default]",
   "language": "python",
   "name": "python3"
  },
  "language_info": {
   "codemirror_mode": {
    "name": "ipython",
    "version": 3
   },
   "file_extension": ".py",
   "mimetype": "text/x-python",
   "name": "python",
   "nbconvert_exporter": "python",
   "pygments_lexer": "ipython3",
   "version": "3.5.2"
  }
 },
 "nbformat": 4,
 "nbformat_minor": 2
}
