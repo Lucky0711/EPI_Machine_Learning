{
 "cells": [
  {
   "cell_type": "markdown",
   "metadata": {},
   "source": [
    "# Setup, matplotlib inline, automatically reload libraries on every evaluation"
   ]
  },
  {
   "cell_type": "code",
   "execution_count": 1,
   "metadata": {
    "collapsed": true
   },
   "outputs": [],
   "source": [
    "import pandas as pd\n",
    "import numpy as np\n",
    "import scipy as sp\n",
    "pd.options.display.max_rows = 400\n",
    "pd.options.display.max_columns = 400\n",
    "%matplotlib inline\n",
    "%load_ext autoreload\n",
    "%autoreload 2"
   ]
  },
  {
   "cell_type": "code",
   "execution_count": 30,
   "metadata": {
    "collapsed": true
   },
   "outputs": [],
   "source": [
    "from epiml.loadepiml import LoadEpiml, load_search, save_search\n",
    "from epiml.epimlsklearn.epimlmetrics import pu_scorer, prior_squared_error_scorer_015, brier_score_labeled_loss_scorer, \\\n",
    "    f1_assumed_scorer, f1_labeled_scorer, report_metrics, f1_assumed_beta10_scorer, pu_mix_assumed_f1beta10_scorer\n",
    "from epiml.semisuperhelper import SemiSupervisedHelper\n",
    "from epiml.epimlsklearn.pnuwrapper import PNUWrapper\n",
    "from epiml.epimlsklearn.jsearchcv import JRandomSearchCV, extract_score_grid\n",
    "from epiml.epimlsklearn.nestedcross import NestedCV, rerun_nested_for_scoring\n",
    "from epiml.epimlsklearn.frankenscorer import FrankenScorer, extract_scores_from_nested\n",
    "from epiml.epimlsklearn.repeatedsampling import RepeatedRandomSubSampler"
   ]
  },
  {
   "cell_type": "code",
   "execution_count": 6,
   "metadata": {
    "collapsed": false
   },
   "outputs": [],
   "source": [
    "path = \"C:\\\\Data\\\\010317\\\\membership14_final_0103.txt\"\n",
    "lc = LoadEpiml(path)"
   ]
  },
  {
   "cell_type": "code",
   "execution_count": 7,
   "metadata": {
    "collapsed": true
   },
   "outputs": [],
   "source": [
    "from sklearn.model_selection import train_test_split\n",
    "from sklearn.ensemble import RandomForestClassifier\n",
    "from sklearn.base import clone"
   ]
  },
  {
   "cell_type": "code",
   "execution_count": 8,
   "metadata": {
    "collapsed": true
   },
   "outputs": [],
   "source": [
    "X_train, X_test, y_train, y_test = train_test_split(lc.X, lc.y, test_size=0.2, random_state=771, stratify=lc.y)"
   ]
  },
  {
   "cell_type": "markdown",
   "metadata": {},
   "source": [
    "# REPEATED SUB SAMPLER"
   ]
  },
  {
   "cell_type": "markdown",
   "metadata": {},
   "source": [
    "## Set up PNU Wrapper with Random Forest, then JSearchCV, then NestedCV"
   ]
  },
  {
   "cell_type": "code",
   "execution_count": 123,
   "metadata": {
    "collapsed": true
   },
   "outputs": [],
   "source": [
    "rf = RandomForestClassifier()\n",
    "rep = RepeatedRandomSubSampler(base_estimator=rf, voting='thresh', verbose=1, random_state=83)\n",
    "pnu = PNUWrapper(base_estimator=rep, num_unlabeled=1.0)"
   ]
  },
  {
   "cell_type": "markdown",
   "metadata": {},
   "source": [
    "## Set up randomized search parameters"
   ]
  },
  {
   "cell_type": "code",
   "execution_count": 10,
   "metadata": {
    "collapsed": true
   },
   "outputs": [],
   "source": [
    "rf_param_search = {'base_estimator__base_estimator__bootstrap': [True, False],\n",
    " 'base_estimator__base_estimator__class_weight': [None,'balanced','balanced_subsample'],\n",
    " 'base_estimator__base_estimator__criterion': ['gini','entropy'],\n",
    " 'base_estimator__base_estimator__max_depth': [None] + list(range(2,100)),\n",
    " 'base_estimator__base_estimator__max_features': ['sqrt','log2',None] + list(range(5,100)),\n",
    " 'base_estimator__base_estimator__min_samples_leaf': [1,2,3,4,5,6,7,8,9,10,15,20,25,30,35,40,45,50,75,100],\n",
    " 'base_estimator__base_estimator__min_samples_split':[2,0.005,0.01,0.015,0.02,0.025,0.03,0.035,0.04,\n",
    "                                                        0.045,0.05,0.07,0.09,0.1,0.12,0.15,0.17,0.2,0.25],\n",
    " 'base_estimator__base_estimator__n_estimators': sp.stats.randint(low=10, high=300),\n",
    " 'base_estimator__sample_imbalance': sp.stats.uniform(loc=0.1, scale=0.9),\n",
    " 'pu_learning': [True, False]\n",
    "                  }"
   ]
  },
  {
   "cell_type": "markdown",
   "metadata": {},
   "source": [
    "### notice random_state is set in jsearch, this is so that the same random parameters are searched for each outer fold, sort of like grid search"
   ]
  },
  {
   "cell_type": "code",
   "execution_count": 11,
   "metadata": {
    "collapsed": true
   },
   "outputs": [],
   "source": [
    "jsearch = JRandomSearchCV(pnu, rf_param_search, n_iter=60, scoring=FrankenScorer(decision_score='assumed_f1beta10'),\n",
    "                                n_jobs=-1, cv=3, verbose=1, pre_dispatch=8, random_state=77)"
   ]
  },
  {
   "cell_type": "markdown",
   "metadata": {},
   "source": [
    "#### 3x3 (x60) nested cross validation"
   ]
  },
  {
   "cell_type": "code",
   "execution_count": 12,
   "metadata": {
    "collapsed": true
   },
   "outputs": [],
   "source": [
    "nested_cross = NestedCV(jsearch, scoring=FrankenScorer(decision_score='pu_mix_assumed_f1beta10'), cv=3, random_state=77)"
   ]
  },
  {
   "cell_type": "markdown",
   "metadata": {},
   "source": [
    "## Score the nested cross"
   ]
  },
  {
   "cell_type": "code",
   "execution_count": 13,
   "metadata": {
    "collapsed": false,
    "scrolled": true
   },
   "outputs": [
    {
     "name": "stdout",
     "output_type": "stream",
     "text": [
      "[CV]  ................................................................\n",
      "Fitting 3 folds for each of 60 candidates, totalling 180 fits\n"
     ]
    },
    {
     "name": "stderr",
     "output_type": "stream",
     "text": [
      "[Parallel(n_jobs=-1)]: Done  42 tasks      | elapsed: 285.5min\n",
      "[Parallel(n_jobs=-1)]: Done 180 out of 180 | elapsed: 1339.8min finished\n"
     ]
    },
    {
     "name": "stdout",
     "output_type": "stream",
     "text": [
      "generating 74 samples of indices to use to train multiple estimators, sized 4299 elements with last being 1884 elements\n"
     ]
    },
    {
     "name": "stderr",
     "output_type": "stream",
     "text": [
      "[Parallel(n_jobs=1)]: Done  74 out of  74 | elapsed:  6.7min finished\n",
      "[Parallel(n_jobs=1)]: Done  74 out of  74 | elapsed:  5.4min finished\n",
      "[Parallel(n_jobs=1)]: Done  74 out of  74 | elapsed:  5.4min finished\n",
      "[Parallel(n_jobs=1)]: Done  74 out of  74 | elapsed: 11.3min finished\n",
      "[Parallel(n_jobs=1)]: Done  74 out of  74 | elapsed: 11.3min finished\n"
     ]
    },
    {
     "name": "stdout",
     "output_type": "stream",
     "text": [
      "[CV]  , score=0.72386509585 score_data={'pr_one_unlabeled': 0.058881508463681169, 'pu_score': 10.504795256161353, 'labeled_avg_prec': 0.92260361057274554, 'assumed_f1': 0.11408379606259465, 'assumed_brier': 0.055929870476330655, 'labeled_roc_auc': 0.82762006283662481, 'labeled_recall': 0.81149012567324952, 'assumed_f1beta10': 0.72386509585044467, 'labeled_brier_neg': 0.15226353887671454, 'SCORE': 0.72386509585044467, 'pu_mix_assumed_f1beta10': 82.891304841205823, 'labeled_prec': 0.9094567404426559, 'labeled_brier_pos': 0.18399826630454028, 'assumed_brier_neg': 0.055319984474122161, 'confusion_matrix_lab': array([[243,  45],\n",
      "       [105, 452]]), 'confusion_matrix_un': array([[110048,   6915],\n",
      "       [   105,    452]]), 'labeled_brier': 0.17318216985576651, 'labeled_f1': 0.85768500948766602, 'labeled_acc': 0.8224852071005917}, total=1357.4min\n",
      "[Parallel(n_jobs=1)]: Done   1 out of   1 | elapsed: 1380.0min remaining:    0.0s\n",
      "[CV]  ................................................................\n",
      "Fitting 3 folds for each of 60 candidates, totalling 180 fits\n"
     ]
    },
    {
     "name": "stderr",
     "output_type": "stream",
     "text": [
      "[Parallel(n_jobs=-1)]: Done  42 tasks      | elapsed: 284.9min\n",
      "[Parallel(n_jobs=-1)]: Done 180 out of 180 | elapsed: 1343.3min finished\n"
     ]
    },
    {
     "name": "stdout",
     "output_type": "stream",
     "text": [
      "generating 74 samples of indices to use to train multiple estimators, sized 4299 elements with last being 1884 elements\n"
     ]
    },
    {
     "name": "stderr",
     "output_type": "stream",
     "text": [
      "[Parallel(n_jobs=1)]: Done  74 out of  74 | elapsed:  7.1min finished\n",
      "[Parallel(n_jobs=1)]: Done  74 out of  74 | elapsed:  5.5min finished\n",
      "[Parallel(n_jobs=1)]: Done  74 out of  74 | elapsed:  5.5min finished\n",
      "[Parallel(n_jobs=1)]: Done  74 out of  74 | elapsed: 11.5min finished\n",
      "[Parallel(n_jobs=1)]: Done  74 out of  74 | elapsed: 11.5min finished\n"
     ]
    },
    {
     "name": "stdout",
     "output_type": "stream",
     "text": [
      "[CV]  , score=0.71242539338 score_data={'pr_one_unlabeled': 0.055556031712020573, 'pu_score': 10.629386934525813, 'labeled_avg_prec': 0.92531303090637329, 'assumed_f1': 0.11756882564170767, 'assumed_brier': 0.053152132849711362, 'labeled_roc_auc': 0.83056631156206406, 'labeled_recall': 0.79353680430879714, 'assumed_f1beta10': 0.71242539338035804, 'labeled_brier_neg': 0.13052903642883867, 'SCORE': 0.71242539338035804, 'pu_mix_assumed_f1beta10': 81.871926272561609, 'labeled_prec': 0.92083333333333328, 'labeled_brier_pos': 0.20274171740764008, 'assumed_brier_neg': 0.052439752772431868, 'confusion_matrix_lab': array([[249,  38],\n",
      "       [115, 442]]), 'confusion_matrix_un': array([[110442,   6520],\n",
      "       [   115,    442]]), 'labeled_brier': 0.17818598347290548, 'labeled_f1': 0.85245901639344257, 'labeled_acc': 0.81872037914691942}, total=1361.5min\n",
      "[Parallel(n_jobs=1)]: Done   2 out of   2 | elapsed: 2764.6min remaining:    0.0s\n",
      "[CV]  ................................................................\n",
      "Fitting 3 folds for each of 60 candidates, totalling 180 fits\n"
     ]
    },
    {
     "name": "stderr",
     "output_type": "stream",
     "text": [
      "[Parallel(n_jobs=-1)]: Done  42 tasks      | elapsed: 289.5min\n",
      "[Parallel(n_jobs=-1)]: Done 180 out of 180 | elapsed: 1354.8min finished\n"
     ]
    },
    {
     "name": "stdout",
     "output_type": "stream",
     "text": [
      "generating 156 samples of indices to use to train multiple estimators, sized 2621 elements with last being 1454 elements\n"
     ]
    },
    {
     "name": "stderr",
     "output_type": "stream",
     "text": [
      "[Parallel(n_jobs=1)]: Done 156 out of 156 | elapsed:  6.6min finished\n",
      "[Parallel(n_jobs=1)]: Done 156 out of 156 | elapsed:  7.1min finished\n",
      "[Parallel(n_jobs=1)]: Done 156 out of 156 | elapsed:  7.1min finished\n",
      "[Parallel(n_jobs=1)]: Done 156 out of 156 | elapsed: 14.8min finished\n",
      "[Parallel(n_jobs=1)]: Done 156 out of 156 | elapsed: 14.8min finished\n"
     ]
    },
    {
     "name": "stdout",
     "output_type": "stream",
     "text": [
      "[CV]  , score=0.716921316343 score_data={'pr_one_unlabeled': 0.073383958722594581, 'pu_score': 8.8360179044611566, 'labeled_avg_prec': 0.92747372050325882, 'assumed_f1': 0.095426195426195431, 'assumed_brier': 0.068176802579018383, 'labeled_roc_auc': 0.8378568921865992, 'labeled_recall': 0.82553956834532372, 'assumed_f1beta10': 0.71692131634294198, 'labeled_brier_neg': 0.13625345625814669, 'SCORE': 0.71692131634294198, 'pu_mix_assumed_f1beta10': 80.528149538755358, 'labeled_prec': 0.91434262948207168, 'labeled_brier_pos': 0.16248059244911764, 'assumed_brier_neg': 0.067728508641998544, 'confusion_matrix_lab': array([[244,  43],\n",
      "       [ 97, 459]]), 'confusion_matrix_un': array([[108356,   8605],\n",
      "       [    97,    459]]), 'labeled_brier': 0.15355154371031732, 'labeled_f1': 0.86767485822306234, 'labeled_acc': 0.83392645314353497}, total=1375.6min\n",
      "[Parallel(n_jobs=1)]: Done   3 out of   3 | elapsed: 4169.9min remaining:    0.0s\n",
      "[Parallel(n_jobs=1)]: Done   3 out of   3 | elapsed: 4169.9min finished\n"
     ]
    }
   ],
   "source": [
    "scores = nested_cross.score(X_train.values, y=y_train.values, verbose=100, pre_dispatch=8)"
   ]
  },
  {
   "cell_type": "code",
   "execution_count": 15,
   "metadata": {
    "collapsed": true
   },
   "outputs": [],
   "source": [
    "save_search(nested_cross, './res/nested_cross_repreated_rf_large_20170131.pkl')"
   ]
  },
  {
   "cell_type": "code",
   "execution_count": 15,
   "metadata": {
    "collapsed": true
   },
   "outputs": [],
   "source": [
    "nested_cross = load_search('./res/nested_cross_repreated_rf_large_20170131.pkl')"
   ]
  },
  {
   "cell_type": "code",
   "execution_count": 35,
   "metadata": {
    "collapsed": false
   },
   "outputs": [
    {
     "data": {
      "text/plain": [
       "assumed_brier                                                      0.0537134\n",
       "assumed_brier_neg                                                  0.0530405\n",
       "assumed_f1                                                          0.117128\n",
       "assumed_f1beta10                                                    0.716654\n",
       "confusion_matrix_lab       [[249.666666667, 37.6666666667], [111.66666666...\n",
       "confusion_matrix_un        [[110360.333333, 6601.66666667], [111.66666666...\n",
       "fn_confusion_matrix_lab                                              111.667\n",
       "fn_confusion_matrix_un                                               111.667\n",
       "fp_confusion_matrix_lab                                              37.6667\n",
       "fp_confusion_matrix_un                                               6601.67\n",
       "labeled_acc                                                         0.823067\n",
       "labeled_avg_prec                                                    0.926954\n",
       "labeled_brier                                                       0.172289\n",
       "labeled_brier_neg                                                    0.12808\n",
       "labeled_brier_pos                                                     0.1951\n",
       "labeled_f1                                                          0.856319\n",
       "labeled_prec                                                        0.922199\n",
       "labeled_recall                                                      0.799397\n",
       "labeled_roc_auc                                                     0.834168\n",
       "pr_one_unlabeled                                                    0.056259\n",
       "pu_mix_assumed_f1beta10                                              82.3285\n",
       "pu_score                                                             10.6631\n",
       "tn_confusion_matrix_lab                                              249.667\n",
       "tn_confusion_matrix_un                                                110360\n",
       "tp_confusion_matrix_lab                                                  445\n",
       "tp_confusion_matrix_un                                                   445\n",
       "dtype: object"
      ]
     },
     "execution_count": 35,
     "metadata": {},
     "output_type": "execute_result"
    }
   ],
   "source": [
    "extract_scores_from_nested(nested_cross.test_score_datas_).mean().sort_index()"
   ]
  },
  {
   "cell_type": "code",
   "execution_count": 36,
   "metadata": {
    "collapsed": false
   },
   "outputs": [
    {
     "data": {
      "text/plain": [
       "[51.0, 51.0, 51.0]"
      ]
     },
     "execution_count": 36,
     "metadata": {},
     "output_type": "execute_result"
    }
   ],
   "source": [
    "nested_cross.best_idxs_"
   ]
  },
  {
   "cell_type": "code",
   "execution_count": 37,
   "metadata": {
    "collapsed": false
   },
   "outputs": [
    {
     "data": {
      "text/plain": [
       "[{'base_estimator__base_estimator__bootstrap': False,\n",
       "  'base_estimator__base_estimator__class_weight': None,\n",
       "  'base_estimator__base_estimator__criterion': 'gini',\n",
       "  'base_estimator__base_estimator__max_depth': 47,\n",
       "  'base_estimator__base_estimator__max_features': 49,\n",
       "  'base_estimator__base_estimator__min_samples_leaf': 6,\n",
       "  'base_estimator__base_estimator__min_samples_split': 0.02,\n",
       "  'base_estimator__base_estimator__n_estimators': 177,\n",
       "  'base_estimator__sample_imbalance': 0.34927465901033783,\n",
       "  'pu_learning': True},\n",
       " {'base_estimator__base_estimator__bootstrap': False,\n",
       "  'base_estimator__base_estimator__class_weight': None,\n",
       "  'base_estimator__base_estimator__criterion': 'gini',\n",
       "  'base_estimator__base_estimator__max_depth': 47,\n",
       "  'base_estimator__base_estimator__max_features': 49,\n",
       "  'base_estimator__base_estimator__min_samples_leaf': 6,\n",
       "  'base_estimator__base_estimator__min_samples_split': 0.02,\n",
       "  'base_estimator__base_estimator__n_estimators': 177,\n",
       "  'base_estimator__sample_imbalance': 0.34927465901033783,\n",
       "  'pu_learning': True},\n",
       " {'base_estimator__base_estimator__bootstrap': False,\n",
       "  'base_estimator__base_estimator__class_weight': None,\n",
       "  'base_estimator__base_estimator__criterion': 'gini',\n",
       "  'base_estimator__base_estimator__max_depth': 47,\n",
       "  'base_estimator__base_estimator__max_features': 49,\n",
       "  'base_estimator__base_estimator__min_samples_leaf': 6,\n",
       "  'base_estimator__base_estimator__min_samples_split': 0.02,\n",
       "  'base_estimator__base_estimator__n_estimators': 177,\n",
       "  'base_estimator__sample_imbalance': 0.34927465901033783,\n",
       "  'pu_learning': True}]"
      ]
     },
     "execution_count": 37,
     "metadata": {},
     "output_type": "execute_result"
    }
   ],
   "source": [
    "nested_cross.best_params_"
   ]
  },
  {
   "cell_type": "markdown",
   "metadata": {},
   "source": [
    "# Now that we have comparable, nested search scores, lets do a search on the whole 80% training set and use the parameters found"
   ]
  },
  {
   "cell_type": "code",
   "execution_count": 50,
   "metadata": {
    "collapsed": true
   },
   "outputs": [],
   "source": [
    "jsearch_train = JRandomSearchCV(pnu, rf_param_search, n_iter=60, scoring=FrankenScorer(decision_score='pu_mix_assumed_f1beta10'),\n",
    "                                n_jobs=-1, cv=3, verbose=1, pre_dispatch=8, random_state=77)"
   ]
  },
  {
   "cell_type": "code",
   "execution_count": 52,
   "metadata": {
    "collapsed": false
   },
   "outputs": [
    {
     "name": "stdout",
     "output_type": "stream",
     "text": [
      "Fitting 3 folds for each of 60 candidates, totalling 180 fits\n"
     ]
    },
    {
     "name": "stderr",
     "output_type": "stream",
     "text": [
      "[Parallel(n_jobs=-1)]: Done  42 tasks      | elapsed: 441.4min\n",
      "[Parallel(n_jobs=-1)]: Done 180 out of 180 | elapsed: 2076.2min finished\n"
     ]
    },
    {
     "name": "stdout",
     "output_type": "stream",
     "text": [
      "generating 156 samples of indices to use to train multiple estimators, sized 3930 elements with last being 2256 elements\n"
     ]
    },
    {
     "name": "stderr",
     "output_type": "stream",
     "text": [
      "[Parallel(n_jobs=1)]: Done 156 out of 156 | elapsed: 10.0min finished\n"
     ]
    }
   ],
   "source": [
    "jsearch_fit = jsearch_train.fit(X_train.values, y_train.values)"
   ]
  },
  {
   "cell_type": "code",
   "execution_count": 53,
   "metadata": {
    "collapsed": true
   },
   "outputs": [],
   "source": [
    "save_search(jsearch_fit, './res/jsearch_only.pkl')"
   ]
  },
  {
   "cell_type": "code",
   "execution_count": 60,
   "metadata": {
    "collapsed": false
   },
   "outputs": [],
   "source": [
    "jsearch_score_grid = extract_score_grid(jsearch_fit)"
   ]
  },
  {
   "cell_type": "code",
   "execution_count": 124,
   "metadata": {
    "collapsed": false
   },
   "outputs": [],
   "source": [
    "best_idx = jsearch_score_grid.mean_pu_mix_assumed_f1beta10_test.idxmax()"
   ]
  },
  {
   "cell_type": "code",
   "execution_count": 125,
   "metadata": {
    "collapsed": false
   },
   "outputs": [],
   "source": [
    "model6_params = pd.DataFrame(jsearch_fit.cv_results_).params[best_idx]"
   ]
  },
  {
   "cell_type": "code",
   "execution_count": 126,
   "metadata": {
    "collapsed": false
   },
   "outputs": [
    {
     "data": {
      "text/plain": [
       "{'base_estimator__base_estimator__bootstrap': False,\n",
       " 'base_estimator__base_estimator__class_weight': None,\n",
       " 'base_estimator__base_estimator__criterion': 'gini',\n",
       " 'base_estimator__base_estimator__max_depth': 47,\n",
       " 'base_estimator__base_estimator__max_features': 49,\n",
       " 'base_estimator__base_estimator__min_samples_leaf': 6,\n",
       " 'base_estimator__base_estimator__min_samples_split': 0.02,\n",
       " 'base_estimator__base_estimator__n_estimators': 177,\n",
       " 'base_estimator__sample_imbalance': 0.34927465901033783,\n",
       " 'pu_learning': True}"
      ]
     },
     "execution_count": 126,
     "metadata": {},
     "output_type": "execute_result"
    }
   ],
   "source": [
    "model6_params"
   ]
  },
  {
   "cell_type": "markdown",
   "metadata": {
    "collapsed": true
   },
   "source": [
    "## This is model 6 in draft, lets retrain on whole training set and then test on 20% test set!"
   ]
  },
  {
   "cell_type": "code",
   "execution_count": 67,
   "metadata": {
    "collapsed": false
   },
   "outputs": [
    {
     "data": {
      "text/plain": [
       "PNUWrapper(base_estimator=RepeatedRandomSubSampler(base_estimator=RandomForestClassifier(bootstrap=False, class_weight=None, criterion='gini',\n",
       "            max_depth=47, max_features=49, max_leaf_nodes=None,\n",
       "            min_impurity_split=1e-07, min_samples_leaf=6,\n",
       "            min_samples_split=0.02, min_weight...     random_state=None, sample_imbalance=0.34927465901033783,\n",
       "             verbose=1, voting='hard'),\n",
       "      num_unlabeled=1.0, pu_learning=True, random_state=None,\n",
       "      threshold_set_pct=None)"
      ]
     },
     "execution_count": 67,
     "metadata": {},
     "output_type": "execute_result"
    }
   ],
   "source": [
    "pnu_test = clone(pnu)\n",
    "pnu_test.set_params(**model6_params)"
   ]
  },
  {
   "cell_type": "code",
   "execution_count": 68,
   "metadata": {
    "collapsed": false
   },
   "outputs": [
    {
     "name": "stdout",
     "output_type": "stream",
     "text": [
      "generating 74 samples of indices to use to train multiple estimators, sized 6451 elements with last being 2681 elements\n"
     ]
    },
    {
     "name": "stderr",
     "output_type": "stream",
     "text": [
      "[Parallel(n_jobs=1)]: Done  74 out of  74 | elapsed: 11.2min finished\n"
     ]
    },
    {
     "data": {
      "text/plain": [
       "PNUWrapper(base_estimator=RepeatedRandomSubSampler(base_estimator=RandomForestClassifier(bootstrap=False, class_weight=None, criterion='gini',\n",
       "            max_depth=47, max_features=49, max_leaf_nodes=None,\n",
       "            min_impurity_split=1e-07, min_samples_leaf=6,\n",
       "            min_samples_split=0.02, min_weight...     random_state=None, sample_imbalance=0.34927465901033783,\n",
       "             verbose=1, voting='hard'),\n",
       "      num_unlabeled=1.0, pu_learning=True, random_state=None,\n",
       "      threshold_set_pct=None)"
      ]
     },
     "execution_count": 68,
     "metadata": {},
     "output_type": "execute_result"
    }
   ],
   "source": [
    "pnu_test.fit(X_train.values, y_train.values)"
   ]
  },
  {
   "cell_type": "code",
   "execution_count": 71,
   "metadata": {
    "collapsed": false
   },
   "outputs": [
    {
     "name": "stderr",
     "output_type": "stream",
     "text": [
      "[Parallel(n_jobs=1)]: Done  74 out of  74 | elapsed:  3.6min finished\n",
      "[Parallel(n_jobs=1)]: Done  74 out of  74 | elapsed:  3.6min finished\n"
     ]
    },
    {
     "data": {
      "text/plain": [
       "({'SCORE': 0.85350318471337572,\n",
       "  'assumed_brier': 0.042549880360963133,\n",
       "  'assumed_brier_neg': 0.041951697918468568,\n",
       "  'assumed_f1': 0.11764705882352941,\n",
       "  'assumed_f1beta10': 0.71871614588865051,\n",
       "  'confusion_matrix_lab': array([[183,  32],\n",
       "         [ 83, 335]]),\n",
       "  'confusion_matrix_un': array([[82780,  4942],\n",
       "         [   83,   335]]),\n",
       "  'labeled_acc': 0.81832543443917849,\n",
       "  'labeled_avg_prec': 0.92268179458904287,\n",
       "  'labeled_brier': 0.14822197745650947,\n",
       "  'labeled_brier_neg': 0.10960419310967416,\n",
       "  'labeled_brier_pos': 0.16808519189327886,\n",
       "  'labeled_f1': 0.85350318471337572,\n",
       "  'labeled_prec': 0.91280653950953683,\n",
       "  'labeled_recall': 0.80143540669856461,\n",
       "  'labeled_roc_auc': 0.82629909869811957,\n",
       "  'pr_one_unlabeled': 0.056109796930531274,\n",
       "  'pu_mix_assumed_f1beta10': 82.599719269032505,\n",
       "  'pu_score': 10.728104680167453},\n",
       " 0.85350318471337572)"
      ]
     },
     "execution_count": 71,
     "metadata": {},
     "output_type": "execute_result"
    }
   ],
   "source": [
    "FrankenScorer()(pnu_test, X_test.values, y_test.values)"
   ]
  },
  {
   "cell_type": "markdown",
   "metadata": {},
   "source": [
    "# Feature importance for 80/20"
   ]
  },
  {
   "cell_type": "code",
   "execution_count": 72,
   "metadata": {
    "collapsed": false
   },
   "outputs": [
    {
     "data": {
      "text/html": [
       "<div>\n",
       "<table border=\"1\" class=\"dataframe\">\n",
       "  <thead>\n",
       "    <tr style=\"text-align: right;\">\n",
       "      <th></th>\n",
       "      <th>Importance</th>\n",
       "    </tr>\n",
       "  </thead>\n",
       "  <tbody>\n",
       "    <tr>\n",
       "      <th>DIAG_FLAG4_Sum</th>\n",
       "      <td>39.058</td>\n",
       "    </tr>\n",
       "    <tr>\n",
       "      <th>DIAG_FLAG5_Sum</th>\n",
       "      <td>24.451</td>\n",
       "    </tr>\n",
       "    <tr>\n",
       "      <th>ndc_cat58_Sum</th>\n",
       "      <td>5.401</td>\n",
       "    </tr>\n",
       "    <tr>\n",
       "      <th>CPT_FLAG9_Sum</th>\n",
       "      <td>3.601</td>\n",
       "    </tr>\n",
       "    <tr>\n",
       "      <th>ndc_cat87_Sum</th>\n",
       "      <td>3.243</td>\n",
       "    </tr>\n",
       "    <tr>\n",
       "      <th>DIAG_FLAG75_Sum</th>\n",
       "      <td>2.538</td>\n",
       "    </tr>\n",
       "    <tr>\n",
       "      <th>ndc_cat54_Sum</th>\n",
       "      <td>1.150</td>\n",
       "    </tr>\n",
       "    <tr>\n",
       "      <th>age</th>\n",
       "      <td>1.058</td>\n",
       "    </tr>\n",
       "    <tr>\n",
       "      <th>CPT_FLAG43_Sum</th>\n",
       "      <td>0.986</td>\n",
       "    </tr>\n",
       "    <tr>\n",
       "      <th>DIAG_FLAG42_Sum</th>\n",
       "      <td>0.843</td>\n",
       "    </tr>\n",
       "    <tr>\n",
       "      <th>DIAG_FLAG2_Sum</th>\n",
       "      <td>0.651</td>\n",
       "    </tr>\n",
       "    <tr>\n",
       "      <th>DIAG_FLAG38_Sum</th>\n",
       "      <td>0.624</td>\n",
       "    </tr>\n",
       "    <tr>\n",
       "      <th>DIAG_FLAG6_Sum</th>\n",
       "      <td>0.610</td>\n",
       "    </tr>\n",
       "    <tr>\n",
       "      <th>CPT_FLAG47_Sum</th>\n",
       "      <td>0.517</td>\n",
       "    </tr>\n",
       "    <tr>\n",
       "      <th>DIAG_FLAG48_Sum</th>\n",
       "      <td>0.515</td>\n",
       "    </tr>\n",
       "    <tr>\n",
       "      <th>DIAG_FLAG9_Sum</th>\n",
       "      <td>0.466</td>\n",
       "    </tr>\n",
       "    <tr>\n",
       "      <th>CPT_FLAG1_Sum</th>\n",
       "      <td>0.410</td>\n",
       "    </tr>\n",
       "    <tr>\n",
       "      <th>ndc_cat85_Sum</th>\n",
       "      <td>0.408</td>\n",
       "    </tr>\n",
       "    <tr>\n",
       "      <th>ndc_cat18_Sum</th>\n",
       "      <td>0.394</td>\n",
       "    </tr>\n",
       "    <tr>\n",
       "      <th>DIAG_FLAG3_Sum</th>\n",
       "      <td>0.354</td>\n",
       "    </tr>\n",
       "    <tr>\n",
       "      <th>DIAG_FLAG7_Sum</th>\n",
       "      <td>0.331</td>\n",
       "    </tr>\n",
       "    <tr>\n",
       "      <th>CPT_FLAG18_Sum</th>\n",
       "      <td>0.323</td>\n",
       "    </tr>\n",
       "    <tr>\n",
       "      <th>REVCODE_FLAG11_Sum</th>\n",
       "      <td>0.318</td>\n",
       "    </tr>\n",
       "    <tr>\n",
       "      <th>REVCODE_FLAG15_Sum</th>\n",
       "      <td>0.311</td>\n",
       "    </tr>\n",
       "    <tr>\n",
       "      <th>ndc_cat15_Sum</th>\n",
       "      <td>0.309</td>\n",
       "    </tr>\n",
       "    <tr>\n",
       "      <th>REVCODE_FLAG16_Sum</th>\n",
       "      <td>0.291</td>\n",
       "    </tr>\n",
       "    <tr>\n",
       "      <th>CPT_FLAG6_Sum</th>\n",
       "      <td>0.289</td>\n",
       "    </tr>\n",
       "    <tr>\n",
       "      <th>CPT_FLAG48_Sum</th>\n",
       "      <td>0.288</td>\n",
       "    </tr>\n",
       "    <tr>\n",
       "      <th>DIAG_FLAG77_Sum</th>\n",
       "      <td>0.286</td>\n",
       "    </tr>\n",
       "    <tr>\n",
       "      <th>DIAG_FLAG80_Sum</th>\n",
       "      <td>0.286</td>\n",
       "    </tr>\n",
       "    <tr>\n",
       "      <th>CPT_FLAG12_Sum</th>\n",
       "      <td>0.285</td>\n",
       "    </tr>\n",
       "    <tr>\n",
       "      <th>ndc_cat45_Sum</th>\n",
       "      <td>0.283</td>\n",
       "    </tr>\n",
       "    <tr>\n",
       "      <th>ndc_cat16_Sum</th>\n",
       "      <td>0.281</td>\n",
       "    </tr>\n",
       "    <tr>\n",
       "      <th>DIAG_FLAG11_Sum</th>\n",
       "      <td>0.280</td>\n",
       "    </tr>\n",
       "    <tr>\n",
       "      <th>REVCODE_FLAG22_Sum</th>\n",
       "      <td>0.259</td>\n",
       "    </tr>\n",
       "    <tr>\n",
       "      <th>DIAG_FLAG53_Sum</th>\n",
       "      <td>0.254</td>\n",
       "    </tr>\n",
       "    <tr>\n",
       "      <th>ndc_cat11_Sum</th>\n",
       "      <td>0.253</td>\n",
       "    </tr>\n",
       "    <tr>\n",
       "      <th>DIAG_FLAG41_Sum</th>\n",
       "      <td>0.217</td>\n",
       "    </tr>\n",
       "    <tr>\n",
       "      <th>REVCODE_FLAG19_Sum</th>\n",
       "      <td>0.206</td>\n",
       "    </tr>\n",
       "    <tr>\n",
       "      <th>DIAG_FLAG1_Sum</th>\n",
       "      <td>0.203</td>\n",
       "    </tr>\n",
       "    <tr>\n",
       "      <th>DIAG_FLAG54_Sum</th>\n",
       "      <td>0.203</td>\n",
       "    </tr>\n",
       "    <tr>\n",
       "      <th>DIAG_FLAG60_Sum</th>\n",
       "      <td>0.201</td>\n",
       "    </tr>\n",
       "    <tr>\n",
       "      <th>REVCODE_FLAG67_Sum</th>\n",
       "      <td>0.194</td>\n",
       "    </tr>\n",
       "    <tr>\n",
       "      <th>ndc_cat40_Sum</th>\n",
       "      <td>0.177</td>\n",
       "    </tr>\n",
       "    <tr>\n",
       "      <th>DIAG_FLAG8_Sum</th>\n",
       "      <td>0.176</td>\n",
       "    </tr>\n",
       "    <tr>\n",
       "      <th>DIAG_FLAG76_Sum</th>\n",
       "      <td>0.174</td>\n",
       "    </tr>\n",
       "    <tr>\n",
       "      <th>ndc_cat20_Sum</th>\n",
       "      <td>0.160</td>\n",
       "    </tr>\n",
       "    <tr>\n",
       "      <th>DIAG_FLAG49_Sum</th>\n",
       "      <td>0.148</td>\n",
       "    </tr>\n",
       "    <tr>\n",
       "      <th>DIAG_FLAG85_Sum</th>\n",
       "      <td>0.140</td>\n",
       "    </tr>\n",
       "    <tr>\n",
       "      <th>DIAG_FLAG31_Sum</th>\n",
       "      <td>0.137</td>\n",
       "    </tr>\n",
       "    <tr>\n",
       "      <th>CPT_FLAG4_Sum</th>\n",
       "      <td>0.129</td>\n",
       "    </tr>\n",
       "    <tr>\n",
       "      <th>ndc_cat98_Sum</th>\n",
       "      <td>0.122</td>\n",
       "    </tr>\n",
       "    <tr>\n",
       "      <th>ndc_cat70_Sum</th>\n",
       "      <td>0.121</td>\n",
       "    </tr>\n",
       "    <tr>\n",
       "      <th>ndc_cat82_Sum</th>\n",
       "      <td>0.120</td>\n",
       "    </tr>\n",
       "    <tr>\n",
       "      <th>DIAG_FLAG72_Sum</th>\n",
       "      <td>0.117</td>\n",
       "    </tr>\n",
       "    <tr>\n",
       "      <th>CPT_FLAG49_Sum</th>\n",
       "      <td>0.114</td>\n",
       "    </tr>\n",
       "    <tr>\n",
       "      <th>DIAG_FLAG10_Sum</th>\n",
       "      <td>0.110</td>\n",
       "    </tr>\n",
       "    <tr>\n",
       "      <th>Gender_M</th>\n",
       "      <td>0.101</td>\n",
       "    </tr>\n",
       "    <tr>\n",
       "      <th>DIAG_FLAG71_Sum</th>\n",
       "      <td>0.100</td>\n",
       "    </tr>\n",
       "    <tr>\n",
       "      <th>ndc_cat29_Sum</th>\n",
       "      <td>0.095</td>\n",
       "    </tr>\n",
       "    <tr>\n",
       "      <th>ndc_cat63_Sum</th>\n",
       "      <td>0.095</td>\n",
       "    </tr>\n",
       "    <tr>\n",
       "      <th>ndc_cat13_Sum</th>\n",
       "      <td>0.094</td>\n",
       "    </tr>\n",
       "    <tr>\n",
       "      <th>ndc_cat22_Sum</th>\n",
       "      <td>0.093</td>\n",
       "    </tr>\n",
       "    <tr>\n",
       "      <th>ndc_cat76_Sum</th>\n",
       "      <td>0.093</td>\n",
       "    </tr>\n",
       "    <tr>\n",
       "      <th>ndc_cat77_Sum</th>\n",
       "      <td>0.092</td>\n",
       "    </tr>\n",
       "    <tr>\n",
       "      <th>DIAG_FLAG55_Sum</th>\n",
       "      <td>0.090</td>\n",
       "    </tr>\n",
       "    <tr>\n",
       "      <th>ndc_cat59_Sum</th>\n",
       "      <td>0.089</td>\n",
       "    </tr>\n",
       "    <tr>\n",
       "      <th>ndc_cat21_Sum</th>\n",
       "      <td>0.084</td>\n",
       "    </tr>\n",
       "    <tr>\n",
       "      <th>DIAG_FLAG70_Sum</th>\n",
       "      <td>0.084</td>\n",
       "    </tr>\n",
       "    <tr>\n",
       "      <th>REVCODE_FLAG38_Sum</th>\n",
       "      <td>0.083</td>\n",
       "    </tr>\n",
       "    <tr>\n",
       "      <th>ndc_cat49_Sum</th>\n",
       "      <td>0.082</td>\n",
       "    </tr>\n",
       "    <tr>\n",
       "      <th>CPT_FLAG20_Sum</th>\n",
       "      <td>0.078</td>\n",
       "    </tr>\n",
       "    <tr>\n",
       "      <th>DIAG_FLAG45_Sum</th>\n",
       "      <td>0.072</td>\n",
       "    </tr>\n",
       "    <tr>\n",
       "      <th>ndc_cat72_Sum</th>\n",
       "      <td>0.068</td>\n",
       "    </tr>\n",
       "    <tr>\n",
       "      <th>CPT_FLAG46_Sum</th>\n",
       "      <td>0.068</td>\n",
       "    </tr>\n",
       "    <tr>\n",
       "      <th>CPT_FLAG21_Sum</th>\n",
       "      <td>0.067</td>\n",
       "    </tr>\n",
       "    <tr>\n",
       "      <th>DIAG_FLAG12_Sum</th>\n",
       "      <td>0.067</td>\n",
       "    </tr>\n",
       "    <tr>\n",
       "      <th>ndc_cat23_Sum</th>\n",
       "      <td>0.066</td>\n",
       "    </tr>\n",
       "    <tr>\n",
       "      <th>DIAG_FLAG34_Sum</th>\n",
       "      <td>0.066</td>\n",
       "    </tr>\n",
       "    <tr>\n",
       "      <th>ndc_cat44_Sum</th>\n",
       "      <td>0.063</td>\n",
       "    </tr>\n",
       "    <tr>\n",
       "      <th>CPT_FLAG35_Sum</th>\n",
       "      <td>0.058</td>\n",
       "    </tr>\n",
       "    <tr>\n",
       "      <th>REVCODE_FLAG10_Sum</th>\n",
       "      <td>0.056</td>\n",
       "    </tr>\n",
       "    <tr>\n",
       "      <th>REVCODE_FLAG12_Sum</th>\n",
       "      <td>0.055</td>\n",
       "    </tr>\n",
       "    <tr>\n",
       "      <th>DIAG_FLAG24_Sum</th>\n",
       "      <td>0.055</td>\n",
       "    </tr>\n",
       "    <tr>\n",
       "      <th>DIAG_FLAG51_Sum</th>\n",
       "      <td>0.052</td>\n",
       "    </tr>\n",
       "    <tr>\n",
       "      <th>DIAG_FLAG67_Sum</th>\n",
       "      <td>0.051</td>\n",
       "    </tr>\n",
       "    <tr>\n",
       "      <th>REVCODE_FLAG17_Sum</th>\n",
       "      <td>0.051</td>\n",
       "    </tr>\n",
       "    <tr>\n",
       "      <th>DIAG_FLAG86_Sum</th>\n",
       "      <td>0.050</td>\n",
       "    </tr>\n",
       "    <tr>\n",
       "      <th>ndc_cat66_Sum</th>\n",
       "      <td>0.048</td>\n",
       "    </tr>\n",
       "    <tr>\n",
       "      <th>DIAG_FLAG15_Sum</th>\n",
       "      <td>0.046</td>\n",
       "    </tr>\n",
       "    <tr>\n",
       "      <th>ndc_cat31_Sum</th>\n",
       "      <td>0.045</td>\n",
       "    </tr>\n",
       "    <tr>\n",
       "      <th>DIAG_FLAG66_Sum</th>\n",
       "      <td>0.044</td>\n",
       "    </tr>\n",
       "    <tr>\n",
       "      <th>ndc_cat83_Sum</th>\n",
       "      <td>0.044</td>\n",
       "    </tr>\n",
       "    <tr>\n",
       "      <th>DIAG_FLAG73_Sum</th>\n",
       "      <td>0.044</td>\n",
       "    </tr>\n",
       "    <tr>\n",
       "      <th>ndc_cat6_Sum</th>\n",
       "      <td>0.044</td>\n",
       "    </tr>\n",
       "    <tr>\n",
       "      <th>ndc_cat79_Sum</th>\n",
       "      <td>0.043</td>\n",
       "    </tr>\n",
       "    <tr>\n",
       "      <th>ndc_cat60_Sum</th>\n",
       "      <td>0.043</td>\n",
       "    </tr>\n",
       "    <tr>\n",
       "      <th>REVCODE_FLAG23_Sum</th>\n",
       "      <td>0.043</td>\n",
       "    </tr>\n",
       "    <tr>\n",
       "      <th>DIAG_FLAG79_Sum</th>\n",
       "      <td>0.041</td>\n",
       "    </tr>\n",
       "    <tr>\n",
       "      <th>REVCODE_FLAG34_Sum</th>\n",
       "      <td>0.041</td>\n",
       "    </tr>\n",
       "    <tr>\n",
       "      <th>ndc_cat100_Sum</th>\n",
       "      <td>0.040</td>\n",
       "    </tr>\n",
       "    <tr>\n",
       "      <th>DIAG_FLAG68_Sum</th>\n",
       "      <td>0.039</td>\n",
       "    </tr>\n",
       "    <tr>\n",
       "      <th>DIAG_FLAG84_Sum</th>\n",
       "      <td>0.039</td>\n",
       "    </tr>\n",
       "    <tr>\n",
       "      <th>ndc_cat53_Sum</th>\n",
       "      <td>0.038</td>\n",
       "    </tr>\n",
       "    <tr>\n",
       "      <th>CPT_FLAG45_Sum</th>\n",
       "      <td>0.038</td>\n",
       "    </tr>\n",
       "    <tr>\n",
       "      <th>DIAG_FLAG30_Sum</th>\n",
       "      <td>0.037</td>\n",
       "    </tr>\n",
       "    <tr>\n",
       "      <th>ndc_cat5_Sum</th>\n",
       "      <td>0.037</td>\n",
       "    </tr>\n",
       "    <tr>\n",
       "      <th>CPT_FLAG22_Sum</th>\n",
       "      <td>0.037</td>\n",
       "    </tr>\n",
       "    <tr>\n",
       "      <th>ndc_cat43_Sum</th>\n",
       "      <td>0.036</td>\n",
       "    </tr>\n",
       "    <tr>\n",
       "      <th>ndc_cat39_Sum</th>\n",
       "      <td>0.036</td>\n",
       "    </tr>\n",
       "    <tr>\n",
       "      <th>ndc_cat86_Sum</th>\n",
       "      <td>0.035</td>\n",
       "    </tr>\n",
       "    <tr>\n",
       "      <th>CPT_FLAG36_Sum</th>\n",
       "      <td>0.035</td>\n",
       "    </tr>\n",
       "    <tr>\n",
       "      <th>REVCODE_FLAG62_Sum</th>\n",
       "      <td>0.035</td>\n",
       "    </tr>\n",
       "    <tr>\n",
       "      <th>DIAG_FLAG74_Sum</th>\n",
       "      <td>0.034</td>\n",
       "    </tr>\n",
       "    <tr>\n",
       "      <th>ndc_cat28_Sum</th>\n",
       "      <td>0.034</td>\n",
       "    </tr>\n",
       "    <tr>\n",
       "      <th>DIAG_FLAG63_Sum</th>\n",
       "      <td>0.033</td>\n",
       "    </tr>\n",
       "    <tr>\n",
       "      <th>DIAG_FLAG83_Sum</th>\n",
       "      <td>0.033</td>\n",
       "    </tr>\n",
       "    <tr>\n",
       "      <th>DIAG_FLAG21_Sum</th>\n",
       "      <td>0.031</td>\n",
       "    </tr>\n",
       "    <tr>\n",
       "      <th>DIAG_FLAG52_Sum</th>\n",
       "      <td>0.030</td>\n",
       "    </tr>\n",
       "    <tr>\n",
       "      <th>ndc_cat30_Sum</th>\n",
       "      <td>0.030</td>\n",
       "    </tr>\n",
       "    <tr>\n",
       "      <th>REVCODE_FLAG14_Sum</th>\n",
       "      <td>0.030</td>\n",
       "    </tr>\n",
       "    <tr>\n",
       "      <th>DIAG_FLAG35_Sum</th>\n",
       "      <td>0.030</td>\n",
       "    </tr>\n",
       "    <tr>\n",
       "      <th>REVCODE_FLAG63_Sum</th>\n",
       "      <td>0.029</td>\n",
       "    </tr>\n",
       "    <tr>\n",
       "      <th>CPT_FLAG10_Sum</th>\n",
       "      <td>0.028</td>\n",
       "    </tr>\n",
       "    <tr>\n",
       "      <th>ndc_cat104_Sum</th>\n",
       "      <td>0.028</td>\n",
       "    </tr>\n",
       "    <tr>\n",
       "      <th>DIAG_FLAG37_Sum</th>\n",
       "      <td>0.028</td>\n",
       "    </tr>\n",
       "    <tr>\n",
       "      <th>ndc_cat14_Sum</th>\n",
       "      <td>0.027</td>\n",
       "    </tr>\n",
       "    <tr>\n",
       "      <th>ndc_cat37_Sum</th>\n",
       "      <td>0.026</td>\n",
       "    </tr>\n",
       "    <tr>\n",
       "      <th>ndc_cat42_Sum</th>\n",
       "      <td>0.025</td>\n",
       "    </tr>\n",
       "    <tr>\n",
       "      <th>ndc_cat105_Sum</th>\n",
       "      <td>0.025</td>\n",
       "    </tr>\n",
       "    <tr>\n",
       "      <th>DIAG_FLAG47_Sum</th>\n",
       "      <td>0.024</td>\n",
       "    </tr>\n",
       "    <tr>\n",
       "      <th>REVCODE_FLAG28_Sum</th>\n",
       "      <td>0.024</td>\n",
       "    </tr>\n",
       "    <tr>\n",
       "      <th>ndc_cat19_Sum</th>\n",
       "      <td>0.024</td>\n",
       "    </tr>\n",
       "    <tr>\n",
       "      <th>ndc_cat35_Sum</th>\n",
       "      <td>0.023</td>\n",
       "    </tr>\n",
       "    <tr>\n",
       "      <th>ndc_cat33_Sum</th>\n",
       "      <td>0.023</td>\n",
       "    </tr>\n",
       "    <tr>\n",
       "      <th>REVCODE_FLAG20_Sum</th>\n",
       "      <td>0.021</td>\n",
       "    </tr>\n",
       "    <tr>\n",
       "      <th>ndc_cat41_Sum</th>\n",
       "      <td>0.021</td>\n",
       "    </tr>\n",
       "    <tr>\n",
       "      <th>REVCODE_FLAG2_Sum</th>\n",
       "      <td>0.020</td>\n",
       "    </tr>\n",
       "    <tr>\n",
       "      <th>REVCODE_FLAG24_Sum</th>\n",
       "      <td>0.020</td>\n",
       "    </tr>\n",
       "    <tr>\n",
       "      <th>ndc_cat61_Sum</th>\n",
       "      <td>0.019</td>\n",
       "    </tr>\n",
       "    <tr>\n",
       "      <th>DIAG_FLAG40_Sum</th>\n",
       "      <td>0.019</td>\n",
       "    </tr>\n",
       "    <tr>\n",
       "      <th>ndc_cat38_Sum</th>\n",
       "      <td>0.018</td>\n",
       "    </tr>\n",
       "    <tr>\n",
       "      <th>DIAG_FLAG50_Sum</th>\n",
       "      <td>0.018</td>\n",
       "    </tr>\n",
       "    <tr>\n",
       "      <th>ndc_cat68_Sum</th>\n",
       "      <td>0.018</td>\n",
       "    </tr>\n",
       "    <tr>\n",
       "      <th>ndc_cat78_Sum</th>\n",
       "      <td>0.018</td>\n",
       "    </tr>\n",
       "    <tr>\n",
       "      <th>DIAG_FLAG69_Sum</th>\n",
       "      <td>0.017</td>\n",
       "    </tr>\n",
       "    <tr>\n",
       "      <th>REVCODE_FLAG25_Sum</th>\n",
       "      <td>0.017</td>\n",
       "    </tr>\n",
       "    <tr>\n",
       "      <th>REVCODE_FLAG39_Sum</th>\n",
       "      <td>0.016</td>\n",
       "    </tr>\n",
       "    <tr>\n",
       "      <th>ndc_cat67_Sum</th>\n",
       "      <td>0.015</td>\n",
       "    </tr>\n",
       "    <tr>\n",
       "      <th>DIAG_FLAG17_Sum</th>\n",
       "      <td>0.015</td>\n",
       "    </tr>\n",
       "    <tr>\n",
       "      <th>CPT_FLAG19_Sum</th>\n",
       "      <td>0.014</td>\n",
       "    </tr>\n",
       "    <tr>\n",
       "      <th>ndc_cat97_Sum</th>\n",
       "      <td>0.014</td>\n",
       "    </tr>\n",
       "    <tr>\n",
       "      <th>CPT_FLAG37_Sum</th>\n",
       "      <td>0.013</td>\n",
       "    </tr>\n",
       "    <tr>\n",
       "      <th>ndc_cat71_Sum</th>\n",
       "      <td>0.013</td>\n",
       "    </tr>\n",
       "    <tr>\n",
       "      <th>CPT_FLAG32_Sum</th>\n",
       "      <td>0.013</td>\n",
       "    </tr>\n",
       "    <tr>\n",
       "      <th>REVCODE_FLAG3_Sum</th>\n",
       "      <td>0.013</td>\n",
       "    </tr>\n",
       "    <tr>\n",
       "      <th>ndc_cat74_Sum</th>\n",
       "      <td>0.012</td>\n",
       "    </tr>\n",
       "    <tr>\n",
       "      <th>DIAG_FLAG82_Sum</th>\n",
       "      <td>0.012</td>\n",
       "    </tr>\n",
       "    <tr>\n",
       "      <th>ndc_cat103_Sum</th>\n",
       "      <td>0.012</td>\n",
       "    </tr>\n",
       "    <tr>\n",
       "      <th>CPT_FLAG3_Sum</th>\n",
       "      <td>0.012</td>\n",
       "    </tr>\n",
       "    <tr>\n",
       "      <th>CPT_FLAG26_Sum</th>\n",
       "      <td>0.011</td>\n",
       "    </tr>\n",
       "    <tr>\n",
       "      <th>ndc_cat4_Sum</th>\n",
       "      <td>0.011</td>\n",
       "    </tr>\n",
       "    <tr>\n",
       "      <th>ndc_cat1_Sum</th>\n",
       "      <td>0.011</td>\n",
       "    </tr>\n",
       "    <tr>\n",
       "      <th>ndc_cat96_Sum</th>\n",
       "      <td>0.010</td>\n",
       "    </tr>\n",
       "    <tr>\n",
       "      <th>ndc_cat80_Sum</th>\n",
       "      <td>0.010</td>\n",
       "    </tr>\n",
       "    <tr>\n",
       "      <th>DIAG_FLAG61_Sum</th>\n",
       "      <td>0.010</td>\n",
       "    </tr>\n",
       "    <tr>\n",
       "      <th>DIAG_FLAG28_Sum</th>\n",
       "      <td>0.009</td>\n",
       "    </tr>\n",
       "    <tr>\n",
       "      <th>REVCODE_FLAG31_Sum</th>\n",
       "      <td>0.009</td>\n",
       "    </tr>\n",
       "    <tr>\n",
       "      <th>ndc_cat27_Sum</th>\n",
       "      <td>0.008</td>\n",
       "    </tr>\n",
       "    <tr>\n",
       "      <th>ndc_cat26_Sum</th>\n",
       "      <td>0.008</td>\n",
       "    </tr>\n",
       "    <tr>\n",
       "      <th>REVCODE_FLAG65_Sum</th>\n",
       "      <td>0.008</td>\n",
       "    </tr>\n",
       "    <tr>\n",
       "      <th>REVCODE_FLAG33_Sum</th>\n",
       "      <td>0.008</td>\n",
       "    </tr>\n",
       "    <tr>\n",
       "      <th>ndc_cat7_Sum</th>\n",
       "      <td>0.007</td>\n",
       "    </tr>\n",
       "    <tr>\n",
       "      <th>REVCODE_FLAG8_Sum</th>\n",
       "      <td>0.007</td>\n",
       "    </tr>\n",
       "    <tr>\n",
       "      <th>CPT_FLAG2_Sum</th>\n",
       "      <td>0.007</td>\n",
       "    </tr>\n",
       "    <tr>\n",
       "      <th>REVCODE_FLAG64_Sum</th>\n",
       "      <td>0.007</td>\n",
       "    </tr>\n",
       "    <tr>\n",
       "      <th>ndc_cat106_Sum</th>\n",
       "      <td>0.007</td>\n",
       "    </tr>\n",
       "    <tr>\n",
       "      <th>DIAG_FLAG32_Sum</th>\n",
       "      <td>0.006</td>\n",
       "    </tr>\n",
       "    <tr>\n",
       "      <th>ndc_cat36_Sum</th>\n",
       "      <td>0.006</td>\n",
       "    </tr>\n",
       "    <tr>\n",
       "      <th>CPT_FLAG34_Sum</th>\n",
       "      <td>0.006</td>\n",
       "    </tr>\n",
       "    <tr>\n",
       "      <th>REVCODE_FLAG70_Sum</th>\n",
       "      <td>0.006</td>\n",
       "    </tr>\n",
       "    <tr>\n",
       "      <th>CPT_FLAG7_Sum</th>\n",
       "      <td>0.006</td>\n",
       "    </tr>\n",
       "    <tr>\n",
       "      <th>CPT_FLAG5_Sum</th>\n",
       "      <td>0.006</td>\n",
       "    </tr>\n",
       "    <tr>\n",
       "      <th>ndc_cat10_Sum</th>\n",
       "      <td>0.006</td>\n",
       "    </tr>\n",
       "    <tr>\n",
       "      <th>REVCODE_FLAG66_Sum</th>\n",
       "      <td>0.006</td>\n",
       "    </tr>\n",
       "    <tr>\n",
       "      <th>CPT_FLAG13_Sum</th>\n",
       "      <td>0.006</td>\n",
       "    </tr>\n",
       "    <tr>\n",
       "      <th>REVCODE_FLAG6_Sum</th>\n",
       "      <td>0.005</td>\n",
       "    </tr>\n",
       "    <tr>\n",
       "      <th>REVCODE_FLAG37_Sum</th>\n",
       "      <td>0.005</td>\n",
       "    </tr>\n",
       "    <tr>\n",
       "      <th>CPT_FLAG33_Sum</th>\n",
       "      <td>0.005</td>\n",
       "    </tr>\n",
       "    <tr>\n",
       "      <th>ndc_cat94_Sum</th>\n",
       "      <td>0.005</td>\n",
       "    </tr>\n",
       "    <tr>\n",
       "      <th>ndc_cat102_Sum</th>\n",
       "      <td>0.004</td>\n",
       "    </tr>\n",
       "    <tr>\n",
       "      <th>DIAG_FLAG87_Sum</th>\n",
       "      <td>0.004</td>\n",
       "    </tr>\n",
       "    <tr>\n",
       "      <th>REVCODE_FLAG41_Sum</th>\n",
       "      <td>0.004</td>\n",
       "    </tr>\n",
       "    <tr>\n",
       "      <th>REVCODE_FLAG43_Sum</th>\n",
       "      <td>0.004</td>\n",
       "    </tr>\n",
       "    <tr>\n",
       "      <th>ndc_cat47_Sum</th>\n",
       "      <td>0.003</td>\n",
       "    </tr>\n",
       "    <tr>\n",
       "      <th>ndc_cat95_Sum</th>\n",
       "      <td>0.003</td>\n",
       "    </tr>\n",
       "    <tr>\n",
       "      <th>REVCODE_FLAG36_Sum</th>\n",
       "      <td>0.003</td>\n",
       "    </tr>\n",
       "    <tr>\n",
       "      <th>REVCODE_FLAG26_Sum</th>\n",
       "      <td>0.003</td>\n",
       "    </tr>\n",
       "    <tr>\n",
       "      <th>ndc_cat48_Sum</th>\n",
       "      <td>0.002</td>\n",
       "    </tr>\n",
       "    <tr>\n",
       "      <th>PROC_FLAG4_Sum</th>\n",
       "      <td>0.002</td>\n",
       "    </tr>\n",
       "    <tr>\n",
       "      <th>DIAG_FLAG29_Sum</th>\n",
       "      <td>0.002</td>\n",
       "    </tr>\n",
       "    <tr>\n",
       "      <th>REVCODE_FLAG55_Sum</th>\n",
       "      <td>0.002</td>\n",
       "    </tr>\n",
       "    <tr>\n",
       "      <th>CPT_FLAG29_Sum</th>\n",
       "      <td>0.002</td>\n",
       "    </tr>\n",
       "    <tr>\n",
       "      <th>REVCODE_FLAG7_Sum</th>\n",
       "      <td>0.002</td>\n",
       "    </tr>\n",
       "    <tr>\n",
       "      <th>REVCODE_FLAG68_Sum</th>\n",
       "      <td>0.002</td>\n",
       "    </tr>\n",
       "    <tr>\n",
       "      <th>REVCODE_FLAG48_Sum</th>\n",
       "      <td>0.002</td>\n",
       "    </tr>\n",
       "    <tr>\n",
       "      <th>DIAG_FLAG78_Sum</th>\n",
       "      <td>0.001</td>\n",
       "    </tr>\n",
       "    <tr>\n",
       "      <th>ndc_cat24_Sum</th>\n",
       "      <td>0.001</td>\n",
       "    </tr>\n",
       "    <tr>\n",
       "      <th>ndc_cat88_Sum</th>\n",
       "      <td>0.001</td>\n",
       "    </tr>\n",
       "    <tr>\n",
       "      <th>DIAG_FLAG46_Sum</th>\n",
       "      <td>0.001</td>\n",
       "    </tr>\n",
       "    <tr>\n",
       "      <th>REVCODE_FLAG61_Sum</th>\n",
       "      <td>0.001</td>\n",
       "    </tr>\n",
       "    <tr>\n",
       "      <th>DIAG_FLAG81_Sum</th>\n",
       "      <td>0.001</td>\n",
       "    </tr>\n",
       "    <tr>\n",
       "      <th>REVCODE_FLAG13_Sum</th>\n",
       "      <td>0.001</td>\n",
       "    </tr>\n",
       "    <tr>\n",
       "      <th>REVCODE_FLAG1_Sum</th>\n",
       "      <td>0.001</td>\n",
       "    </tr>\n",
       "    <tr>\n",
       "      <th>REVCODE_FLAG60_Sum</th>\n",
       "      <td>0.001</td>\n",
       "    </tr>\n",
       "    <tr>\n",
       "      <th>DIAG_FLAG33_Sum</th>\n",
       "      <td>0.000</td>\n",
       "    </tr>\n",
       "    <tr>\n",
       "      <th>ndc_cat65_Sum</th>\n",
       "      <td>0.000</td>\n",
       "    </tr>\n",
       "    <tr>\n",
       "      <th>CPT_FLAG16_Sum</th>\n",
       "      <td>0.000</td>\n",
       "    </tr>\n",
       "    <tr>\n",
       "      <th>REVCODE_FLAG29_Sum</th>\n",
       "      <td>0.000</td>\n",
       "    </tr>\n",
       "    <tr>\n",
       "      <th>REVCODE_FLAG69_Sum</th>\n",
       "      <td>0.000</td>\n",
       "    </tr>\n",
       "    <tr>\n",
       "      <th>ndc_cat34_Sum</th>\n",
       "      <td>0.000</td>\n",
       "    </tr>\n",
       "    <tr>\n",
       "      <th>REVCODE_FLAG4_Sum</th>\n",
       "      <td>0.000</td>\n",
       "    </tr>\n",
       "    <tr>\n",
       "      <th>DIAG_FLAG39_Sum</th>\n",
       "      <td>0.000</td>\n",
       "    </tr>\n",
       "    <tr>\n",
       "      <th>ndc_cat12_Sum</th>\n",
       "      <td>0.000</td>\n",
       "    </tr>\n",
       "    <tr>\n",
       "      <th>DIAG_FLAG26_Sum</th>\n",
       "      <td>0.000</td>\n",
       "    </tr>\n",
       "    <tr>\n",
       "      <th>DIAG_FLAG16_Sum</th>\n",
       "      <td>0.000</td>\n",
       "    </tr>\n",
       "    <tr>\n",
       "      <th>REVCODE_FLAG18_Sum</th>\n",
       "      <td>0.000</td>\n",
       "    </tr>\n",
       "    <tr>\n",
       "      <th>REVCODE_FLAG40_Sum</th>\n",
       "      <td>0.000</td>\n",
       "    </tr>\n",
       "    <tr>\n",
       "      <th>ndc_cat73_Sum</th>\n",
       "      <td>0.000</td>\n",
       "    </tr>\n",
       "    <tr>\n",
       "      <th>REVCODE_FLAG35_Sum</th>\n",
       "      <td>0.000</td>\n",
       "    </tr>\n",
       "    <tr>\n",
       "      <th>REVCODE_FLAG50_Sum</th>\n",
       "      <td>0.000</td>\n",
       "    </tr>\n",
       "    <tr>\n",
       "      <th>REVCODE_FLAG52_Sum</th>\n",
       "      <td>0.000</td>\n",
       "    </tr>\n",
       "    <tr>\n",
       "      <th>CPT_FLAG15_Sum</th>\n",
       "      <td>0.000</td>\n",
       "    </tr>\n",
       "    <tr>\n",
       "      <th>DIAG_FLAG36_Sum</th>\n",
       "      <td>0.000</td>\n",
       "    </tr>\n",
       "    <tr>\n",
       "      <th>DIAG_FLAG23_Sum</th>\n",
       "      <td>0.000</td>\n",
       "    </tr>\n",
       "    <tr>\n",
       "      <th>REVCODE_FLAG30_Sum</th>\n",
       "      <td>0.000</td>\n",
       "    </tr>\n",
       "    <tr>\n",
       "      <th>REVCODE_FLAG27_Sum</th>\n",
       "      <td>0.000</td>\n",
       "    </tr>\n",
       "    <tr>\n",
       "      <th>REVCODE_FLAG44_Sum</th>\n",
       "      <td>0.000</td>\n",
       "    </tr>\n",
       "    <tr>\n",
       "      <th>PROC_FLAG5_Sum</th>\n",
       "      <td>0.000</td>\n",
       "    </tr>\n",
       "    <tr>\n",
       "      <th>DIAG_FLAG22_Sum</th>\n",
       "      <td>0.000</td>\n",
       "    </tr>\n",
       "    <tr>\n",
       "      <th>REVCODE_FLAG49_Sum</th>\n",
       "      <td>0.000</td>\n",
       "    </tr>\n",
       "    <tr>\n",
       "      <th>REVCODE_FLAG32_Sum</th>\n",
       "      <td>0.000</td>\n",
       "    </tr>\n",
       "    <tr>\n",
       "      <th>ndc_cat107_Sum</th>\n",
       "      <td>0.000</td>\n",
       "    </tr>\n",
       "    <tr>\n",
       "      <th>PROC_FLAG2_Sum</th>\n",
       "      <td>0.000</td>\n",
       "    </tr>\n",
       "    <tr>\n",
       "      <th>DIAG_FLAG62_Sum</th>\n",
       "      <td>0.000</td>\n",
       "    </tr>\n",
       "    <tr>\n",
       "      <th>CPT_FLAG8_Sum</th>\n",
       "      <td>0.000</td>\n",
       "    </tr>\n",
       "    <tr>\n",
       "      <th>REVCODE_FLAG21_Sum</th>\n",
       "      <td>0.000</td>\n",
       "    </tr>\n",
       "    <tr>\n",
       "      <th>CPT_FLAG11_Sum</th>\n",
       "      <td>0.000</td>\n",
       "    </tr>\n",
       "    <tr>\n",
       "      <th>ndc_cat89_Sum</th>\n",
       "      <td>0.000</td>\n",
       "    </tr>\n",
       "    <tr>\n",
       "      <th>ndc_cat101_Sum</th>\n",
       "      <td>0.000</td>\n",
       "    </tr>\n",
       "    <tr>\n",
       "      <th>CPT_FLAG14_Sum</th>\n",
       "      <td>0.000</td>\n",
       "    </tr>\n",
       "    <tr>\n",
       "      <th>ndc_cat84_Sum</th>\n",
       "      <td>0.000</td>\n",
       "    </tr>\n",
       "    <tr>\n",
       "      <th>ndc_cat99_Sum</th>\n",
       "      <td>0.000</td>\n",
       "    </tr>\n",
       "    <tr>\n",
       "      <th>CPT_FLAG17_Sum</th>\n",
       "      <td>0.000</td>\n",
       "    </tr>\n",
       "    <tr>\n",
       "      <th>REVCODE_FLAG5_Sum</th>\n",
       "      <td>0.000</td>\n",
       "    </tr>\n",
       "    <tr>\n",
       "      <th>ndc_cat91_Sum</th>\n",
       "      <td>0.000</td>\n",
       "    </tr>\n",
       "    <tr>\n",
       "      <th>REVCODE_FLAG9_Sum</th>\n",
       "      <td>0.000</td>\n",
       "    </tr>\n",
       "    <tr>\n",
       "      <th>ndc_cat90_Sum</th>\n",
       "      <td>0.000</td>\n",
       "    </tr>\n",
       "    <tr>\n",
       "      <th>ndc_cat32_Sum</th>\n",
       "      <td>0.000</td>\n",
       "    </tr>\n",
       "    <tr>\n",
       "      <th>ndc_cat75_Sum</th>\n",
       "      <td>0.000</td>\n",
       "    </tr>\n",
       "    <tr>\n",
       "      <th>REVCODE_FLAG42_Sum</th>\n",
       "      <td>0.000</td>\n",
       "    </tr>\n",
       "    <tr>\n",
       "      <th>ndc_cat25_Sum</th>\n",
       "      <td>0.000</td>\n",
       "    </tr>\n",
       "    <tr>\n",
       "      <th>DIAG_FLAG27_Sum</th>\n",
       "      <td>0.000</td>\n",
       "    </tr>\n",
       "    <tr>\n",
       "      <th>ndc_cat17_Sum</th>\n",
       "      <td>0.000</td>\n",
       "    </tr>\n",
       "    <tr>\n",
       "      <th>DIAG_FLAG25_Sum</th>\n",
       "      <td>0.000</td>\n",
       "    </tr>\n",
       "    <tr>\n",
       "      <th>ndc_cat9_Sum</th>\n",
       "      <td>0.000</td>\n",
       "    </tr>\n",
       "    <tr>\n",
       "      <th>ndc_cat8_Sum</th>\n",
       "      <td>0.000</td>\n",
       "    </tr>\n",
       "    <tr>\n",
       "      <th>ndc_cat3_Sum</th>\n",
       "      <td>0.000</td>\n",
       "    </tr>\n",
       "    <tr>\n",
       "      <th>ndc_cat2_Sum</th>\n",
       "      <td>0.000</td>\n",
       "    </tr>\n",
       "    <tr>\n",
       "      <th>ndc_cat46_Sum</th>\n",
       "      <td>0.000</td>\n",
       "    </tr>\n",
       "    <tr>\n",
       "      <th>REVCODE_FLAG59_Sum</th>\n",
       "      <td>0.000</td>\n",
       "    </tr>\n",
       "    <tr>\n",
       "      <th>REVCODE_FLAG58_Sum</th>\n",
       "      <td>0.000</td>\n",
       "    </tr>\n",
       "    <tr>\n",
       "      <th>REVCODE_FLAG57_Sum</th>\n",
       "      <td>0.000</td>\n",
       "    </tr>\n",
       "    <tr>\n",
       "      <th>ndc_cat50_Sum</th>\n",
       "      <td>0.000</td>\n",
       "    </tr>\n",
       "    <tr>\n",
       "      <th>ndc_cat52_Sum</th>\n",
       "      <td>0.000</td>\n",
       "    </tr>\n",
       "    <tr>\n",
       "      <th>REVCODE_FLAG56_Sum</th>\n",
       "      <td>0.000</td>\n",
       "    </tr>\n",
       "    <tr>\n",
       "      <th>ndc_cat55_Sum</th>\n",
       "      <td>0.000</td>\n",
       "    </tr>\n",
       "    <tr>\n",
       "      <th>ndc_cat56_Sum</th>\n",
       "      <td>0.000</td>\n",
       "    </tr>\n",
       "    <tr>\n",
       "      <th>ndc_cat57_Sum</th>\n",
       "      <td>0.000</td>\n",
       "    </tr>\n",
       "    <tr>\n",
       "      <th>REVCODE_FLAG54_Sum</th>\n",
       "      <td>0.000</td>\n",
       "    </tr>\n",
       "    <tr>\n",
       "      <th>REVCODE_FLAG53_Sum</th>\n",
       "      <td>0.000</td>\n",
       "    </tr>\n",
       "    <tr>\n",
       "      <th>ndc_cat62_Sum</th>\n",
       "      <td>0.000</td>\n",
       "    </tr>\n",
       "    <tr>\n",
       "      <th>REVCODE_FLAG51_Sum</th>\n",
       "      <td>0.000</td>\n",
       "    </tr>\n",
       "    <tr>\n",
       "      <th>ndc_cat64_Sum</th>\n",
       "      <td>0.000</td>\n",
       "    </tr>\n",
       "    <tr>\n",
       "      <th>REVCODE_FLAG47_Sum</th>\n",
       "      <td>0.000</td>\n",
       "    </tr>\n",
       "    <tr>\n",
       "      <th>ndc_cat69_Sum</th>\n",
       "      <td>0.000</td>\n",
       "    </tr>\n",
       "    <tr>\n",
       "      <th>REVCODE_FLAG46_Sum</th>\n",
       "      <td>0.000</td>\n",
       "    </tr>\n",
       "  </tbody>\n",
       "</table>\n",
       "</div>"
      ],
      "text/plain": [
       "                    Importance\n",
       "DIAG_FLAG4_Sum          39.058\n",
       "DIAG_FLAG5_Sum          24.451\n",
       "ndc_cat58_Sum            5.401\n",
       "CPT_FLAG9_Sum            3.601\n",
       "ndc_cat87_Sum            3.243\n",
       "DIAG_FLAG75_Sum          2.538\n",
       "ndc_cat54_Sum            1.150\n",
       "age                      1.058\n",
       "CPT_FLAG43_Sum           0.986\n",
       "DIAG_FLAG42_Sum          0.843\n",
       "DIAG_FLAG2_Sum           0.651\n",
       "DIAG_FLAG38_Sum          0.624\n",
       "DIAG_FLAG6_Sum           0.610\n",
       "CPT_FLAG47_Sum           0.517\n",
       "DIAG_FLAG48_Sum          0.515\n",
       "DIAG_FLAG9_Sum           0.466\n",
       "CPT_FLAG1_Sum            0.410\n",
       "ndc_cat85_Sum            0.408\n",
       "ndc_cat18_Sum            0.394\n",
       "DIAG_FLAG3_Sum           0.354\n",
       "DIAG_FLAG7_Sum           0.331\n",
       "CPT_FLAG18_Sum           0.323\n",
       "REVCODE_FLAG11_Sum       0.318\n",
       "REVCODE_FLAG15_Sum       0.311\n",
       "ndc_cat15_Sum            0.309\n",
       "REVCODE_FLAG16_Sum       0.291\n",
       "CPT_FLAG6_Sum            0.289\n",
       "CPT_FLAG48_Sum           0.288\n",
       "DIAG_FLAG77_Sum          0.286\n",
       "DIAG_FLAG80_Sum          0.286\n",
       "CPT_FLAG12_Sum           0.285\n",
       "ndc_cat45_Sum            0.283\n",
       "ndc_cat16_Sum            0.281\n",
       "DIAG_FLAG11_Sum          0.280\n",
       "REVCODE_FLAG22_Sum       0.259\n",
       "DIAG_FLAG53_Sum          0.254\n",
       "ndc_cat11_Sum            0.253\n",
       "DIAG_FLAG41_Sum          0.217\n",
       "REVCODE_FLAG19_Sum       0.206\n",
       "DIAG_FLAG1_Sum           0.203\n",
       "DIAG_FLAG54_Sum          0.203\n",
       "DIAG_FLAG60_Sum          0.201\n",
       "REVCODE_FLAG67_Sum       0.194\n",
       "ndc_cat40_Sum            0.177\n",
       "DIAG_FLAG8_Sum           0.176\n",
       "DIAG_FLAG76_Sum          0.174\n",
       "ndc_cat20_Sum            0.160\n",
       "DIAG_FLAG49_Sum          0.148\n",
       "DIAG_FLAG85_Sum          0.140\n",
       "DIAG_FLAG31_Sum          0.137\n",
       "CPT_FLAG4_Sum            0.129\n",
       "ndc_cat98_Sum            0.122\n",
       "ndc_cat70_Sum            0.121\n",
       "ndc_cat82_Sum            0.120\n",
       "DIAG_FLAG72_Sum          0.117\n",
       "CPT_FLAG49_Sum           0.114\n",
       "DIAG_FLAG10_Sum          0.110\n",
       "Gender_M                 0.101\n",
       "DIAG_FLAG71_Sum          0.100\n",
       "ndc_cat29_Sum            0.095\n",
       "ndc_cat63_Sum            0.095\n",
       "ndc_cat13_Sum            0.094\n",
       "ndc_cat22_Sum            0.093\n",
       "ndc_cat76_Sum            0.093\n",
       "ndc_cat77_Sum            0.092\n",
       "DIAG_FLAG55_Sum          0.090\n",
       "ndc_cat59_Sum            0.089\n",
       "ndc_cat21_Sum            0.084\n",
       "DIAG_FLAG70_Sum          0.084\n",
       "REVCODE_FLAG38_Sum       0.083\n",
       "ndc_cat49_Sum            0.082\n",
       "CPT_FLAG20_Sum           0.078\n",
       "DIAG_FLAG45_Sum          0.072\n",
       "ndc_cat72_Sum            0.068\n",
       "CPT_FLAG46_Sum           0.068\n",
       "CPT_FLAG21_Sum           0.067\n",
       "DIAG_FLAG12_Sum          0.067\n",
       "ndc_cat23_Sum            0.066\n",
       "DIAG_FLAG34_Sum          0.066\n",
       "ndc_cat44_Sum            0.063\n",
       "CPT_FLAG35_Sum           0.058\n",
       "REVCODE_FLAG10_Sum       0.056\n",
       "REVCODE_FLAG12_Sum       0.055\n",
       "DIAG_FLAG24_Sum          0.055\n",
       "DIAG_FLAG51_Sum          0.052\n",
       "DIAG_FLAG67_Sum          0.051\n",
       "REVCODE_FLAG17_Sum       0.051\n",
       "DIAG_FLAG86_Sum          0.050\n",
       "ndc_cat66_Sum            0.048\n",
       "DIAG_FLAG15_Sum          0.046\n",
       "ndc_cat31_Sum            0.045\n",
       "DIAG_FLAG66_Sum          0.044\n",
       "ndc_cat83_Sum            0.044\n",
       "DIAG_FLAG73_Sum          0.044\n",
       "ndc_cat6_Sum             0.044\n",
       "ndc_cat79_Sum            0.043\n",
       "ndc_cat60_Sum            0.043\n",
       "REVCODE_FLAG23_Sum       0.043\n",
       "DIAG_FLAG79_Sum          0.041\n",
       "REVCODE_FLAG34_Sum       0.041\n",
       "ndc_cat100_Sum           0.040\n",
       "DIAG_FLAG68_Sum          0.039\n",
       "DIAG_FLAG84_Sum          0.039\n",
       "ndc_cat53_Sum            0.038\n",
       "CPT_FLAG45_Sum           0.038\n",
       "DIAG_FLAG30_Sum          0.037\n",
       "ndc_cat5_Sum             0.037\n",
       "CPT_FLAG22_Sum           0.037\n",
       "ndc_cat43_Sum            0.036\n",
       "ndc_cat39_Sum            0.036\n",
       "ndc_cat86_Sum            0.035\n",
       "CPT_FLAG36_Sum           0.035\n",
       "REVCODE_FLAG62_Sum       0.035\n",
       "DIAG_FLAG74_Sum          0.034\n",
       "ndc_cat28_Sum            0.034\n",
       "DIAG_FLAG63_Sum          0.033\n",
       "DIAG_FLAG83_Sum          0.033\n",
       "DIAG_FLAG21_Sum          0.031\n",
       "DIAG_FLAG52_Sum          0.030\n",
       "ndc_cat30_Sum            0.030\n",
       "REVCODE_FLAG14_Sum       0.030\n",
       "DIAG_FLAG35_Sum          0.030\n",
       "REVCODE_FLAG63_Sum       0.029\n",
       "CPT_FLAG10_Sum           0.028\n",
       "ndc_cat104_Sum           0.028\n",
       "DIAG_FLAG37_Sum          0.028\n",
       "ndc_cat14_Sum            0.027\n",
       "ndc_cat37_Sum            0.026\n",
       "ndc_cat42_Sum            0.025\n",
       "ndc_cat105_Sum           0.025\n",
       "DIAG_FLAG47_Sum          0.024\n",
       "REVCODE_FLAG28_Sum       0.024\n",
       "ndc_cat19_Sum            0.024\n",
       "ndc_cat35_Sum            0.023\n",
       "ndc_cat33_Sum            0.023\n",
       "REVCODE_FLAG20_Sum       0.021\n",
       "ndc_cat41_Sum            0.021\n",
       "REVCODE_FLAG2_Sum        0.020\n",
       "REVCODE_FLAG24_Sum       0.020\n",
       "ndc_cat61_Sum            0.019\n",
       "DIAG_FLAG40_Sum          0.019\n",
       "ndc_cat38_Sum            0.018\n",
       "DIAG_FLAG50_Sum          0.018\n",
       "ndc_cat68_Sum            0.018\n",
       "ndc_cat78_Sum            0.018\n",
       "DIAG_FLAG69_Sum          0.017\n",
       "REVCODE_FLAG25_Sum       0.017\n",
       "REVCODE_FLAG39_Sum       0.016\n",
       "ndc_cat67_Sum            0.015\n",
       "DIAG_FLAG17_Sum          0.015\n",
       "CPT_FLAG19_Sum           0.014\n",
       "ndc_cat97_Sum            0.014\n",
       "CPT_FLAG37_Sum           0.013\n",
       "ndc_cat71_Sum            0.013\n",
       "CPT_FLAG32_Sum           0.013\n",
       "REVCODE_FLAG3_Sum        0.013\n",
       "ndc_cat74_Sum            0.012\n",
       "DIAG_FLAG82_Sum          0.012\n",
       "ndc_cat103_Sum           0.012\n",
       "CPT_FLAG3_Sum            0.012\n",
       "CPT_FLAG26_Sum           0.011\n",
       "ndc_cat4_Sum             0.011\n",
       "ndc_cat1_Sum             0.011\n",
       "ndc_cat96_Sum            0.010\n",
       "ndc_cat80_Sum            0.010\n",
       "DIAG_FLAG61_Sum          0.010\n",
       "DIAG_FLAG28_Sum          0.009\n",
       "REVCODE_FLAG31_Sum       0.009\n",
       "ndc_cat27_Sum            0.008\n",
       "ndc_cat26_Sum            0.008\n",
       "REVCODE_FLAG65_Sum       0.008\n",
       "REVCODE_FLAG33_Sum       0.008\n",
       "ndc_cat7_Sum             0.007\n",
       "REVCODE_FLAG8_Sum        0.007\n",
       "CPT_FLAG2_Sum            0.007\n",
       "REVCODE_FLAG64_Sum       0.007\n",
       "ndc_cat106_Sum           0.007\n",
       "DIAG_FLAG32_Sum          0.006\n",
       "ndc_cat36_Sum            0.006\n",
       "CPT_FLAG34_Sum           0.006\n",
       "REVCODE_FLAG70_Sum       0.006\n",
       "CPT_FLAG7_Sum            0.006\n",
       "CPT_FLAG5_Sum            0.006\n",
       "ndc_cat10_Sum            0.006\n",
       "REVCODE_FLAG66_Sum       0.006\n",
       "CPT_FLAG13_Sum           0.006\n",
       "REVCODE_FLAG6_Sum        0.005\n",
       "REVCODE_FLAG37_Sum       0.005\n",
       "CPT_FLAG33_Sum           0.005\n",
       "ndc_cat94_Sum            0.005\n",
       "ndc_cat102_Sum           0.004\n",
       "DIAG_FLAG87_Sum          0.004\n",
       "REVCODE_FLAG41_Sum       0.004\n",
       "REVCODE_FLAG43_Sum       0.004\n",
       "ndc_cat47_Sum            0.003\n",
       "ndc_cat95_Sum            0.003\n",
       "REVCODE_FLAG36_Sum       0.003\n",
       "REVCODE_FLAG26_Sum       0.003\n",
       "ndc_cat48_Sum            0.002\n",
       "PROC_FLAG4_Sum           0.002\n",
       "DIAG_FLAG29_Sum          0.002\n",
       "REVCODE_FLAG55_Sum       0.002\n",
       "CPT_FLAG29_Sum           0.002\n",
       "REVCODE_FLAG7_Sum        0.002\n",
       "REVCODE_FLAG68_Sum       0.002\n",
       "REVCODE_FLAG48_Sum       0.002\n",
       "DIAG_FLAG78_Sum          0.001\n",
       "ndc_cat24_Sum            0.001\n",
       "ndc_cat88_Sum            0.001\n",
       "DIAG_FLAG46_Sum          0.001\n",
       "REVCODE_FLAG61_Sum       0.001\n",
       "DIAG_FLAG81_Sum          0.001\n",
       "REVCODE_FLAG13_Sum       0.001\n",
       "REVCODE_FLAG1_Sum        0.001\n",
       "REVCODE_FLAG60_Sum       0.001\n",
       "DIAG_FLAG33_Sum          0.000\n",
       "ndc_cat65_Sum            0.000\n",
       "CPT_FLAG16_Sum           0.000\n",
       "REVCODE_FLAG29_Sum       0.000\n",
       "REVCODE_FLAG69_Sum       0.000\n",
       "ndc_cat34_Sum            0.000\n",
       "REVCODE_FLAG4_Sum        0.000\n",
       "DIAG_FLAG39_Sum          0.000\n",
       "ndc_cat12_Sum            0.000\n",
       "DIAG_FLAG26_Sum          0.000\n",
       "DIAG_FLAG16_Sum          0.000\n",
       "REVCODE_FLAG18_Sum       0.000\n",
       "REVCODE_FLAG40_Sum       0.000\n",
       "ndc_cat73_Sum            0.000\n",
       "REVCODE_FLAG35_Sum       0.000\n",
       "REVCODE_FLAG50_Sum       0.000\n",
       "REVCODE_FLAG52_Sum       0.000\n",
       "CPT_FLAG15_Sum           0.000\n",
       "DIAG_FLAG36_Sum          0.000\n",
       "DIAG_FLAG23_Sum          0.000\n",
       "REVCODE_FLAG30_Sum       0.000\n",
       "REVCODE_FLAG27_Sum       0.000\n",
       "REVCODE_FLAG44_Sum       0.000\n",
       "PROC_FLAG5_Sum           0.000\n",
       "DIAG_FLAG22_Sum          0.000\n",
       "REVCODE_FLAG49_Sum       0.000\n",
       "REVCODE_FLAG32_Sum       0.000\n",
       "ndc_cat107_Sum           0.000\n",
       "PROC_FLAG2_Sum           0.000\n",
       "DIAG_FLAG62_Sum          0.000\n",
       "CPT_FLAG8_Sum            0.000\n",
       "REVCODE_FLAG21_Sum       0.000\n",
       "CPT_FLAG11_Sum           0.000\n",
       "ndc_cat89_Sum            0.000\n",
       "ndc_cat101_Sum           0.000\n",
       "CPT_FLAG14_Sum           0.000\n",
       "ndc_cat84_Sum            0.000\n",
       "ndc_cat99_Sum            0.000\n",
       "CPT_FLAG17_Sum           0.000\n",
       "REVCODE_FLAG5_Sum        0.000\n",
       "ndc_cat91_Sum            0.000\n",
       "REVCODE_FLAG9_Sum        0.000\n",
       "ndc_cat90_Sum            0.000\n",
       "ndc_cat32_Sum            0.000\n",
       "ndc_cat75_Sum            0.000\n",
       "REVCODE_FLAG42_Sum       0.000\n",
       "ndc_cat25_Sum            0.000\n",
       "DIAG_FLAG27_Sum          0.000\n",
       "ndc_cat17_Sum            0.000\n",
       "DIAG_FLAG25_Sum          0.000\n",
       "ndc_cat9_Sum             0.000\n",
       "ndc_cat8_Sum             0.000\n",
       "ndc_cat3_Sum             0.000\n",
       "ndc_cat2_Sum             0.000\n",
       "ndc_cat46_Sum            0.000\n",
       "REVCODE_FLAG59_Sum       0.000\n",
       "REVCODE_FLAG58_Sum       0.000\n",
       "REVCODE_FLAG57_Sum       0.000\n",
       "ndc_cat50_Sum            0.000\n",
       "ndc_cat52_Sum            0.000\n",
       "REVCODE_FLAG56_Sum       0.000\n",
       "ndc_cat55_Sum            0.000\n",
       "ndc_cat56_Sum            0.000\n",
       "ndc_cat57_Sum            0.000\n",
       "REVCODE_FLAG54_Sum       0.000\n",
       "REVCODE_FLAG53_Sum       0.000\n",
       "ndc_cat62_Sum            0.000\n",
       "REVCODE_FLAG51_Sum       0.000\n",
       "ndc_cat64_Sum            0.000\n",
       "REVCODE_FLAG47_Sum       0.000\n",
       "ndc_cat69_Sum            0.000\n",
       "REVCODE_FLAG46_Sum       0.000"
      ]
     },
     "execution_count": 72,
     "metadata": {},
     "output_type": "execute_result"
    }
   ],
   "source": [
    "importance = pd.DataFrame(pnu_test.feature_importances_, index=X_test.columns.values, columns=['Importance']).sort_values(by='Importance', ascending=False)\n",
    "importance.round(5) * 100"
   ]
  },
  {
   "cell_type": "code",
   "execution_count": 74,
   "metadata": {
    "collapsed": false
   },
   "outputs": [
    {
     "data": {
      "text/plain": [
       "<matplotlib.legend.Legend at 0x55630dd8>"
      ]
     },
     "execution_count": 74,
     "metadata": {},
     "output_type": "execute_result"
    },
    {
     "data": {
      "image/png": "[encoded data removed]",
      "text/plain": [
       "<matplotlib.figure.Figure at 0x548e9240>"
      ]
     },
     "metadata": {},
     "output_type": "display_data"
    }
   ],
   "source": [
    "ax = importance.iloc[:20].iloc[::-1].plot(kind='barh')\n",
    "ax.legend(loc='right')"
   ]
  },
  {
   "cell_type": "markdown",
   "metadata": {},
   "source": [
    "# Probability distribution of the 20%"
   ]
  },
  {
   "cell_type": "code",
   "execution_count": 107,
   "metadata": {
    "collapsed": true
   },
   "outputs": [],
   "source": [
    "def generate_probability_table(clf, X_test, y_test):\n",
    "    probas = clf.predict_proba(X_test)[:, -1]\n",
    "    probas_df = pd.DataFrame(data={'probas':probas, 'y_test':y_test.values}).sort_values(by='probas', ascending=False)\n",
    "    bins = np.linspace(0.0, 1.0, 101)\n",
    "    percent = pd.cut(probas_df['probas'], bins=bins, include_lowest=True, precision=6, labels=list(range(0,100)))\n",
    "    probas_df['percent'] = percent\n",
    "    dummies = pd.get_dummies(probas_df['y_test'], prefix='y=', prefix_sep='')\n",
    "    probas_df = pd.concat([probas_df, dummies], axis=1)\n",
    "    probas_group = probas_df.groupby('percent')\n",
    "    percentile_df = probas_group.aggregate({'probas':'count', 'y=-1':'sum', 'y=0':'sum', 'y=1':'sum'})\n",
    "    labeled_tot = percentile_df['y=1'] + percentile_df['y=0']\n",
    "    percentile_df['unlabeled_pct'] = percentile_df['y=-1'] / percentile_df.probas\n",
    "    percentile_df['true_pos_pct'] = percentile_df['y=1'] / labeled_tot\n",
    "    percentile_df['true_neg_pct'] = percentile_df['y=0'] / labeled_tot\n",
    "    tot = percentile_df.probas.sum()\n",
    "    percentile_df['pct_of_total'] = percentile_df.probas / tot\n",
    "    percentile_df['cum_pct_of_total'] = percentile_df.pct_of_total.cumsum()\n",
    "    percentile_df = percentile_df.ffill()\n",
    "    percentile_df = percentile_df.reset_index()\n",
    "    tp = np.polyfit(x=percentile_df.index.values.astype(int), y=percentile_df.true_pos_pct, deg=1)\n",
    "    tpp = np.poly1d(tp)\n",
    "    percentile_df['tp_trendline'] = tpp(percentile_df.index.values.astype(int))\n",
    "    tn = np.polyfit(x=percentile_df.index.values.astype(int), y=percentile_df.true_neg_pct, deg=1)\n",
    "    tnp = np.poly1d(tn)\n",
    "    percentile_df['tn_trendline'] = tnp(percentile_df.index.values.astype(int))\n",
    "    return probas_df, percentile_df"
   ]
  },
  {
   "cell_type": "code",
   "execution_count": 108,
   "metadata": {
    "collapsed": false
   },
   "outputs": [
    {
     "name": "stderr",
     "output_type": "stream",
     "text": [
      "[Parallel(n_jobs=1)]: Done  74 out of  74 | elapsed:  3.7min finished\n"
     ]
    }
   ],
   "source": [
    "probas_df, percentile_df = generate_probability_table(pnu_test, X_test, y_test)"
   ]
  },
  {
   "cell_type": "code",
   "execution_count": 131,
   "metadata": {
    "collapsed": false
   },
   "outputs": [
    {
     "data": {
      "text/plain": [
       "<matplotlib.axes._subplots.AxesSubplot at 0x51614470>"
      ]
     },
     "execution_count": 131,
     "metadata": {},
     "output_type": "execute_result"
    },
    {
     "data": {
      "image/png": "[encoded data removed]",
      "text/plain": [
       "<matplotlib.figure.Figure at 0x51614080>"
      ]
     },
     "metadata": {},
     "output_type": "display_data"
    }
   ],
   "source": [
    "probas_df['probas'].plot.hist(bins=100)"
   ]
  },
  {
   "cell_type": "code",
   "execution_count": 132,
   "metadata": {
    "collapsed": true
   },
   "outputs": [],
   "source": [
    "probas_df.to_csv('./res/predicted_probabilities_soft.csv')"
   ]
  },
  {
   "cell_type": "code",
   "execution_count": 134,
   "metadata": {
    "collapsed": true
   },
   "outputs": [],
   "source": [
    "import matplotlib.pyplot as plt"
   ]
  },
  {
   "cell_type": "code",
   "execution_count": 135,
   "metadata": {
    "collapsed": false
   },
   "outputs": [],
   "source": [
    "df = percentile_df\n",
    "x_axis = df.index.values.astype(int)"
   ]
  },
  {
   "cell_type": "code",
   "execution_count": 136,
   "metadata": {
    "collapsed": false
   },
   "outputs": [
    {
     "data": {
      "text/plain": [
       "<matplotlib.legend.Legend at 0x530effd0>"
      ]
     },
     "execution_count": 136,
     "metadata": {},
     "output_type": "execute_result"
    },
    {
     "data": {
      "image/png": "[encoded data removed]",
      "text/plain": [
       "<matplotlib.figure.Figure at 0x5087ee80>"
      ]
     },
     "metadata": {},
     "output_type": "display_data"
    }
   ],
   "source": [
    "plt.figure(figsize=(10,5))\n",
    "plt.plot(x_axis, df.pct_of_total, 'bs', label='N')\n",
    "plt.plot(x_axis, df.cum_pct_of_total, 'b^', label='Cumulative N')\n",
    "plt.plot(x_axis, df.tp_trendline, 'g-', label='% EPI Trend')\n",
    "plt.plot(x_axis, df.tn_trendline, 'r-', label='% Non-EPI Trend')\n",
    "plt.plot(x_axis, df.true_pos_pct, 'g.', label='Labeled EPI %')\n",
    "plt.plot(x_axis, df.true_neg_pct, 'r.', label='Labeled Non-EPI %')\n",
    "plt.axis([0, 100, -0.01, 1.01])\n",
    "plt.ylabel('% of test set')\n",
    "plt.xlabel('predicted probability of EPI')\n",
    "plt.title('20% test set results')\n",
    "plt.legend(loc='right')"
   ]
  },
  {
   "cell_type": "markdown",
   "metadata": {},
   "source": [
    "# Precision Recall curve for various thresholds used for Model #6"
   ]
  },
  {
   "cell_type": "code",
   "execution_count": 137,
   "metadata": {
    "collapsed": true
   },
   "outputs": [],
   "source": [
    "from sklearn.metrics import precision_recall_curve"
   ]
  },
  {
   "cell_type": "code",
   "execution_count": 138,
   "metadata": {
    "collapsed": true
   },
   "outputs": [],
   "source": [
    "labeled_probas = probas_df[probas_df.y_test >= 0]"
   ]
  },
  {
   "cell_type": "code",
   "execution_count": 139,
   "metadata": {
    "collapsed": true
   },
   "outputs": [],
   "source": [
    "pr, re, th = precision_recall_curve(labeled_probas.y_test, labeled_probas.probas, pos_label=1)"
   ]
  },
  {
   "cell_type": "code",
   "execution_count": 141,
   "metadata": {
    "collapsed": false,
    "scrolled": true
   },
   "outputs": [],
   "source": [
    "# find pr of unlabeled == pos\n",
    "unlabeled_probas = probas_df[probas_df.y_test == -1].probas.values\n",
    "total_unlabeled = len(unlabeled_probas)\n",
    "pr_one_un = []\n",
    "for thresh in th:\n",
    "    p = sum(unlabeled_probas >= thresh)\n",
    "    pr_one_un.append(p / total_unlabeled)\n",
    "pr_one_un.append(0.0)\n",
    "pr_one_un = np.array(pr_one_un)"
   ]
  },
  {
   "cell_type": "code",
   "execution_count": 142,
   "metadata": {
    "collapsed": true
   },
   "outputs": [],
   "source": [
    "def find_re_pr_prob(thresh):\n",
    "    idx = np.nonzero(th >= thresh)[0][0]\n",
    "    return re[idx], pr[idx], pr_one_un[idx]"
   ]
  },
  {
   "cell_type": "code",
   "execution_count": 143,
   "metadata": {
    "collapsed": true
   },
   "outputs": [],
   "source": [
    "re_50, pr_50, _ = find_re_pr_prob(0.5)\n",
    "re_35, pr_35, _ = find_re_pr_prob(0.35)\n",
    "re_40, pr_40, _ = find_re_pr_prob(0.4)\n",
    "re_80, pr_80, _ = find_re_pr_prob(0.8)\n",
    "re_20, pr_20, _ = find_re_pr_prob(0.2)"
   ]
  },
  {
   "cell_type": "code",
   "execution_count": 144,
   "metadata": {
    "collapsed": true
   },
   "outputs": [],
   "source": [
    "from matplotlib import cm, colors, colorbar"
   ]
  },
  {
   "cell_type": "code",
   "execution_count": 145,
   "metadata": {
    "collapsed": false
   },
   "outputs": [
    {
     "data": {
      "text/plain": [
       "<matplotlib.figure.Figure at 0x557790b8>"
      ]
     },
     "metadata": {},
     "output_type": "display_data"
    },
    {
     "data": {
      "image/png": "[encoded data removed]",
      "text/plain": [
       "<matplotlib.figure.Figure at 0x5604a7f0>"
      ]
     },
     "metadata": {},
     "output_type": "display_data"
    }
   ],
   "source": [
    "plt.clf()\n",
    "plt.figure(figsize=(10, 7))\n",
    "plt.xlabel('Recall', fontsize=15)\n",
    "plt.xlim((0.0, 1.0))\n",
    "plt.ylabel('Precision', fontsize=15)\n",
    "plt.ylim((0.45, 1.05))\n",
    "plt.title('Precision-Recall curve of labeled 20% test set', fontsize=15)\n",
    "norm = colors.Normalize(vmin=0.0, vmax=0.2)\n",
    "cmap = cm.plasma\n",
    "plt.scatter(re, pr, c=pr_one_un, cmap=cmap, norm=norm, edgecolors='none', s=30)\n",
    "#plt.scatter(re, pr, c=np.append(th, 1.0), cmap=cm.plasma, norm=norm)\n",
    "cb = plt.colorbar(orientation='vertical', extend='max')\n",
    "cb.set_label('Probability of unlabeled positive', fontsize=15)\n",
    "plt.axvline(x=re_80, ls=\"--\", c='r', label='Threshold=80%')\n",
    "plt.axvline(x=re_50, ls=\"--\", c='g', label='Threshold=50%')\n",
    "plt.axvline(x=re_40, ls=\"--\", c='orange', label='Threshold=40%')\n",
    "plt.axvline(x=re_35, ls=\"--\", c='b', label='Threshold=35%')\n",
    "plt.axvline(x=re_20, ls=\"--\", c='y', label='Threshold=20%')\n",
    "plt.legend(loc='center left')\n",
    "plt.show()"
   ]
  },
  {
   "cell_type": "code",
   "execution_count": null,
   "metadata": {
    "collapsed": true
   },
   "outputs": [],
   "source": []
  }
 ],
 "metadata": {
  "anaconda-cloud": {},
  "kernelspec": {
   "display_name": "Python [default]",
   "language": "python",
   "name": "python3"
  },
  "language_info": {
   "codemirror_mode": {
    "name": "ipython",
    "version": 3
   },
   "file_extension": ".py",
   "mimetype": "text/x-python",
   "name": "python",
   "nbconvert_exporter": "python",
   "pygments_lexer": "ipython3",
   "version": "3.5.2"
  }
 },
 "nbformat": 4,
 "nbformat_minor": 2
}
