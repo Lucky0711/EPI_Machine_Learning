{
 "cells": [
  {
   "cell_type": "markdown",
   "metadata": {},
   "source": [
    "# SETUP"
   ]
  },
  {
   "cell_type": "code",
   "execution_count": 1,
   "metadata": {
    "collapsed": true
   },
   "outputs": [],
   "source": [
    "import pandas as pd\n",
    "import numpy as np\n",
    "import scipy as sp\n",
    "pd.options.display.max_rows = 400\n",
    "pd.options.display.max_columns = 400\n",
    "%matplotlib inline\n",
    "%load_ext autoreload\n",
    "%autoreload 2"
   ]
  },
  {
   "cell_type": "code",
   "execution_count": 2,
   "metadata": {
    "collapsed": true
   },
   "outputs": [],
   "source": [
    "from sklearn.pipeline import Pipeline\n",
    "from sklearn.preprocessing import MaxAbsScaler\n",
    "from sklearn.svm import SVC"
   ]
  },
  {
   "cell_type": "code",
   "execution_count": 5,
   "metadata": {
    "collapsed": false
   },
   "outputs": [],
   "source": [
    "from creon.loadcreon import LoadCreon\n",
    "from creon.creonsklearn.pnuwrapper import PNUWrapper\n",
    "from creon.creonsklearn.nestedcross import NestedCV\n",
    "from creon.creonsklearn.jeffsearchcv import JeffRandomSearchCV, extract_score_grid\n",
    "from creon.creonsklearn.frankenscorer import FrankenScorer, extract_scores_from_nested"
   ]
  },
  {
   "cell_type": "code",
   "execution_count": 6,
   "metadata": {
    "collapsed": true
   },
   "outputs": [],
   "source": [
    "path = \"C:\\Data\\\\010317\\membership14_final_0103.txt\"\n",
    "lc = LoadCreon(path)"
   ]
  },
  {
   "cell_type": "markdown",
   "metadata": {},
   "source": [
    "## Let's stratify 80/20 train test holdout for future use"
   ]
  },
  {
   "cell_type": "code",
   "execution_count": 7,
   "metadata": {
    "collapsed": true
   },
   "outputs": [],
   "source": [
    "from sklearn.model_selection import train_test_split"
   ]
  },
  {
   "cell_type": "code",
   "execution_count": 8,
   "metadata": {
    "collapsed": true
   },
   "outputs": [],
   "source": [
    "X_train, X_test, y_train, y_test = train_test_split(lc.X, lc.y, test_size=0.2, random_state=771, stratify=lc.y)"
   ]
  },
  {
   "cell_type": "markdown",
   "metadata": {},
   "source": [
    "## SVC pipeline and model on labeled data (PN)"
   ]
  },
  {
   "cell_type": "code",
   "execution_count": 9,
   "metadata": {
    "collapsed": true
   },
   "outputs": [],
   "source": [
    "estimators = [('scaler', MaxAbsScaler()),\n",
    "              ('clf',PNUWrapper(base_estimator=SVC(C=1.0, kernel='linear', probability=True, class_weight='balanced')))]\n",
    "pipe = Pipeline(estimators)"
   ]
  },
  {
   "cell_type": "code",
   "execution_count": 10,
   "metadata": {
    "collapsed": false
   },
   "outputs": [
    {
     "data": {
      "text/plain": [
       "Pipeline(steps=[('scaler', MaxAbsScaler(copy=True)), ('clf', PNUWrapper(base_estimator=SVC(C=1.0, cache_size=200, class_weight='balanced', coef0=0.0,\n",
       "  decision_function_shape=None, degree=3, gamma='auto', kernel='linear',\n",
       "  max_iter=-1, probability=True, random_state=None, shrinking=True,\n",
       "  tol=0.001, verbose=False),\n",
       "      num_unlabeled=0.0, pu_learning=False, random_state=None,\n",
       "      threshold_set_pct=None))])"
      ]
     },
     "execution_count": 10,
     "metadata": {},
     "output_type": "execute_result"
    }
   ],
   "source": [
    "pipe.fit(X_train.values, y_train.values)"
   ]
  },
  {
   "cell_type": "code",
   "execution_count": 11,
   "metadata": {
    "collapsed": false
   },
   "outputs": [
    {
     "data": {
      "text/plain": [
       "({'SCORE': 0.87792848335388396,\n",
       "  'assumed_brier': 0.58442634604747512,\n",
       "  'assumed_brier_neg': 0.58687331669745169,\n",
       "  'assumed_f1': 0.010333217229768954,\n",
       "  'assumed_f1beta10': 0.32602506211123805,\n",
       "  'confusion_matrix_lab': array([[178,  37],\n",
       "         [ 62, 356]]),\n",
       "  'confusion_matrix_un': array([[19592, 68130],\n",
       "         [   62,   356]]),\n",
       "  'labeled_acc': 0.84360189573459721,\n",
       "  'labeled_avg_prec': 0.92773667298543572,\n",
       "  'labeled_brier': 0.10836180995979061,\n",
       "  'labeled_brier_neg': 0.18119056936725547,\n",
       "  'labeled_brier_pos': 0.070902041365041954,\n",
       "  'labeled_f1': 0.87792848335388396,\n",
       "  'labeled_prec': 0.90585241730279897,\n",
       "  'labeled_recall': 0.85167464114832536,\n",
       "  'labeled_roc_auc': 0.83979080894625568,\n",
       "  'pr_one_unlabeled': 0.77814346280868962,\n",
       "  'pu_mix_assumed_f1beta10': 33.536015571609504,\n",
       "  'pu_score': 0.93350936048570299},\n",
       " 0.87792848335388396)"
      ]
     },
     "execution_count": 11,
     "metadata": {},
     "output_type": "execute_result"
    }
   ],
   "source": [
    "FrankenScorer()(pipe, X_test.values, y_test.values)"
   ]
  },
  {
   "cell_type": "markdown",
   "metadata": {},
   "source": [
    "## 3-Fold Nested Cross grid search for pipline with PNU wrapper"
   ]
  },
  {
   "cell_type": "code",
   "execution_count": 12,
   "metadata": {
    "collapsed": true
   },
   "outputs": [],
   "source": [
    "param_search = {'clf__base_estimator__C': sp.stats.expon(scale=4), \n",
    "               'clf__num_unlabeled': sp.stats.randint(low=1000, high=8000),\n",
    "               'clf__base_estimator__class_weight': [None, 'balanced'],\n",
    "               'clf__base_estimator__kernel': ['linear','rbf'],\n",
    "               'clf__pu_learning': [True, False],\n",
    "               'clf__base_estimator__gamma': ['auto',0.1,0.5,1.0,1.5,2.0,2.5,3.0,5.0,9.0]}"
   ]
  },
  {
   "cell_type": "code",
   "execution_count": 13,
   "metadata": {
    "collapsed": true
   },
   "outputs": [],
   "source": [
    "jeffsearch = JeffRandomSearchCV(pipe, param_search, n_iter=20, \n",
    "                            scoring=FrankenScorer('assumed_f1beta10'), n_jobs=-1, cv=3, verbose=1)"
   ]
  },
  {
   "cell_type": "code",
   "execution_count": 14,
   "metadata": {
    "collapsed": true
   },
   "outputs": [],
   "source": [
    "nested_cross = NestedCV(jeffsearch, scoring=FrankenScorer('assumed_f1beta10'), cv=3, random_state=721)"
   ]
  },
  {
   "cell_type": "code",
   "execution_count": 15,
   "metadata": {
    "collapsed": false
   },
   "outputs": [
    {
     "name": "stdout",
     "output_type": "stream",
     "text": [
      "Fitting 3 folds for each of 20 candidates, totalling 60 fits\n"
     ]
    },
    {
     "name": "stderr",
     "output_type": "stream",
     "text": [
      "[Parallel(n_jobs=-1)]: Done  42 tasks      | elapsed: 83.7min\n",
      "[Parallel(n_jobs=-1)]: Done  60 out of  60 | elapsed: 113.8min finished\n"
     ]
    },
    {
     "name": "stdout",
     "output_type": "stream",
     "text": [
      "Fitting 3 folds for each of 20 candidates, totalling 60 fits\n"
     ]
    },
    {
     "name": "stderr",
     "output_type": "stream",
     "text": [
      "[Parallel(n_jobs=-1)]: Done  42 tasks      | elapsed: 82.9min\n",
      "[Parallel(n_jobs=-1)]: Done  60 out of  60 | elapsed: 113.2min finished\n"
     ]
    },
    {
     "name": "stdout",
     "output_type": "stream",
     "text": [
      "Fitting 3 folds for each of 20 candidates, totalling 60 fits\n"
     ]
    },
    {
     "name": "stderr",
     "output_type": "stream",
     "text": [
      "[Parallel(n_jobs=-1)]: Done  42 tasks      | elapsed: 83.7min\n",
      "[Parallel(n_jobs=-1)]: Done  60 out of  60 | elapsed: 114.6min finished\n",
      "[Parallel(n_jobs=1)]: Done   3 out of   3 | elapsed: 383.8min finished\n"
     ]
    },
    {
     "data": {
      "text/plain": [
       "(0.53684978191660937, 0.51189951520493615, 0.52601275215742316)"
      ]
     },
     "execution_count": 15,
     "metadata": {},
     "output_type": "execute_result"
    }
   ],
   "source": [
    "nested_cross.score(X_train.values, y_train.values, n_jobs=1, verbose=1)"
   ]
  },
  {
   "cell_type": "code",
   "execution_count": 16,
   "metadata": {
    "collapsed": false,
    "scrolled": true
   },
   "outputs": [
    {
     "data": {
      "text/plain": [
       "assumed_brier                                                      0.0346932\n",
       "assumed_brier_neg                                                  0.0328337\n",
       "assumed_f1                                                         0.0439349\n",
       "assumed_f1beta10                                                    0.524921\n",
       "confusion_matrix_lab       [[175.666666667, 111.666666667], [181.33333333...\n",
       "confusion_matrix_un        [[100776.333333, 16185.6666667], [181.33333333...\n",
       "fn_confusion_matrix_lab                                              181.333\n",
       "fn_confusion_matrix_un                                               181.333\n",
       "fp_confusion_matrix_lab                                              111.667\n",
       "fp_confusion_matrix_un                                               16185.7\n",
       "labeled_acc                                                         0.652836\n",
       "labeled_avg_prec                                                    0.830134\n",
       "labeled_brier                                                       0.311251\n",
       "labeled_brier_neg                                                  0.0900861\n",
       "labeled_brier_pos                                                   0.425402\n",
       "labeled_f1                                                          0.719389\n",
       "labeled_prec                                                        0.771163\n",
       "labeled_recall                                                      0.674256\n",
       "labeled_roc_auc                                                     0.642778\n",
       "pr_one_unlabeled                                                    0.137768\n",
       "pu_mix_assumed_f1beta10                                              55.7257\n",
       "pu_score                                                             3.23364\n",
       "tn_confusion_matrix_lab                                              175.667\n",
       "tn_confusion_matrix_un                                                100776\n",
       "tp_confusion_matrix_lab                                              375.333\n",
       "tp_confusion_matrix_un                                               375.333\n",
       "dtype: object"
      ]
     },
     "execution_count": 16,
     "metadata": {},
     "output_type": "execute_result"
    }
   ],
   "source": [
    "extract_scores_from_nested(nested_cross.test_score_datas_).mean().sort_index()"
   ]
  },
  {
   "cell_type": "code",
   "execution_count": 17,
   "metadata": {
    "collapsed": false
   },
   "outputs": [
    {
     "data": {
      "text/plain": [
       "assumed_brier                0.000430\n",
       "assumed_brier_neg            0.000549\n",
       "assumed_f1                   0.002591\n",
       "assumed_f1beta10             0.012511\n",
       "fn_confusion_matrix_lab      6.658328\n",
       "fn_confusion_matrix_un       6.658328\n",
       "fp_confusion_matrix_lab     17.009801\n",
       "fp_confusion_matrix_un     842.380160\n",
       "labeled_acc                  0.027273\n",
       "labeled_avg_prec             0.016533\n",
       "labeled_brier                0.019079\n",
       "labeled_brier_neg            0.006566\n",
       "labeled_brier_pos            0.025440\n",
       "labeled_f1                   0.019015\n",
       "labeled_prec                 0.029635\n",
       "labeled_recall               0.011771\n",
       "labeled_roc_auc              0.035075\n",
       "pr_one_unlabeled             0.007110\n",
       "pu_mix_assumed_f1beta10      1.474925\n",
       "pu_score                     0.231366\n",
       "tn_confusion_matrix_lab     17.502381\n",
       "tn_confusion_matrix_un     843.311528\n",
       "tp_confusion_matrix_lab      6.350853\n",
       "tp_confusion_matrix_un       6.350853\n",
       "dtype: float64"
      ]
     },
     "execution_count": 17,
     "metadata": {},
     "output_type": "execute_result"
    }
   ],
   "source": [
    "extract_scores_from_nested(nested_cross.test_score_datas_).std().sort_index()"
   ]
  },
  {
   "cell_type": "code",
   "execution_count": 18,
   "metadata": {
    "collapsed": false,
    "scrolled": true
   },
   "outputs": [
    {
     "data": {
      "text/plain": [
       "[{'clf__base_estimator__C': 7.1311952396509097,\n",
       "  'clf__base_estimator__class_weight': 'balanced',\n",
       "  'clf__base_estimator__gamma': 'auto',\n",
       "  'clf__base_estimator__kernel': 'linear',\n",
       "  'clf__num_unlabeled': 5117,\n",
       "  'clf__pu_learning': True},\n",
       " {'clf__base_estimator__C': 7.1311952396509097,\n",
       "  'clf__base_estimator__class_weight': 'balanced',\n",
       "  'clf__base_estimator__gamma': 'auto',\n",
       "  'clf__base_estimator__kernel': 'linear',\n",
       "  'clf__num_unlabeled': 5117,\n",
       "  'clf__pu_learning': True},\n",
       " {'clf__base_estimator__C': 7.1311952396509097,\n",
       "  'clf__base_estimator__class_weight': 'balanced',\n",
       "  'clf__base_estimator__gamma': 'auto',\n",
       "  'clf__base_estimator__kernel': 'linear',\n",
       "  'clf__num_unlabeled': 5117,\n",
       "  'clf__pu_learning': True}]"
      ]
     },
     "execution_count": 18,
     "metadata": {},
     "output_type": "execute_result"
    }
   ],
   "source": [
    "[est.best_params_ for est in nested_cross.estimators_]"
   ]
  },
  {
   "cell_type": "code",
   "execution_count": null,
   "metadata": {
    "collapsed": true
   },
   "outputs": [],
   "source": []
  }
 ],
 "metadata": {
  "anaconda-cloud": {},
  "kernelspec": {
   "display_name": "Python [default]",
   "language": "python",
   "name": "python3"
  },
  "language_info": {
   "codemirror_mode": {
    "name": "ipython",
    "version": 3
   },
   "file_extension": ".py",
   "mimetype": "text/x-python",
   "name": "python",
   "nbconvert_exporter": "python",
   "pygments_lexer": "ipython3",
   "version": "3.5.2"
  }
 },
 "nbformat": 4,
 "nbformat_minor": 2
}
