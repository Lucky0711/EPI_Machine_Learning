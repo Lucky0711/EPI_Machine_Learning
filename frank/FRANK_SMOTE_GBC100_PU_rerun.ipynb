{
 "cells": [
  {
   "cell_type": "code",
   "execution_count": 1,
   "metadata": {
    "collapsed": true
   },
   "outputs": [],
   "source": [
    "import scipy as sp\n",
    "from sklearn.svm import SVC\n",
    "import pandas as pd\n",
    "import numpy as np\n",
    "from scipy.stats import randint as sp_randint\n",
    "from sklearn import svm\n",
    "from sklearn.metrics import confusion_matrix\n",
    "from sklearn.metrics import roc_auc_score\n",
    "from sklearn.metrics import classification_report\n",
    "from sklearn.metrics import brier_score_loss\n",
    "from sklearn.model_selection import RandomizedSearchCV\n",
    "from time import time\n",
    "from sklearn.preprocessing import MinMaxScaler\n",
    "from sklearn.linear_model import SGDClassifier\n",
    "from sklearn.ensemble import RandomForestClassifier\n",
    "from sklearn.model_selection import cross_val_score\n",
    "from sklearn.ensemble import GradientBoostingClassifier"
   ]
  },
  {
   "cell_type": "code",
   "execution_count": 2,
   "metadata": {
    "collapsed": true
   },
   "outputs": [],
   "source": [
    "#NEED INSTALL IMBLANCE PACKAGE\n",
    "#code: conda install -c glemaitre imbalanced-learn\n",
    "from imblearn.over_sampling import SMOTE\n",
    "#read tables: After variable selection, choosing 50 variables by baseline RF importance\n",
    "train=pd.read_table('training_self1_0127.txt')\n",
    "test=pd.read_table('testing_self1_0127.txt')"
   ]
  },
  {
   "cell_type": "code",
   "execution_count": 3,
   "metadata": {
    "collapsed": true
   },
   "outputs": [],
   "source": [
    "train_Ycat=train['Ycat']\n",
    "train_PERT=train['PERT_Y']\n",
    "train=train.drop('Ycat',1)\n",
    "train=train.drop('MemberID',1)\n",
    "train=train.drop('PERT_Y',1)\n",
    "\n",
    "test_Ycat=test['Ycat']\n",
    "test_PERT=test['PERT_Y']\n",
    "test=test.drop('Ycat',1)\n",
    "test=test.drop('PERT_Y',1)\n",
    "test=test.drop('MemberID',1)\n",
    "\n",
    "scaler = MinMaxScaler()\n",
    "train = scaler.fit_transform(train)\n",
    "test =  scaler.transform(test)\n",
    "\n",
    "train_std=pd.DataFrame(train)\n",
    "test_std=pd.DataFrame(test)\n",
    "\n",
    "res=[1 if x =='Y' else 0 for x in train_PERT]"
   ]
  },
  {
   "cell_type": "code",
   "execution_count": 4,
   "metadata": {
    "collapsed": true
   },
   "outputs": [],
   "source": [
    "sm = SMOTE(random_state=1234)\n",
    "X_res, y_res = sm.fit_sample(train_std, res)"
   ]
  },
  {
   "cell_type": "code",
   "execution_count": 5,
   "metadata": {
    "collapsed": true
   },
   "outputs": [],
   "source": [
    "def report(results, n_top=3):\n",
    "    for i in range(1, n_top + 1):\n",
    "        candidates = np.flatnonzero(results['rank_test_score'] == i)\n",
    "        for candidate in candidates:\n",
    "            print(\"Model with rank: {0}\".format(i))\n",
    "            print(\"Mean validation score: {0:.3f} (std: {1:.3f})\".format(\n",
    "                  results['mean_test_score'][candidate],\n",
    "                  results['std_test_score'][candidate]))\n",
    "            print(\"Parameters: {0}\".format(results['params'][candidate]))\n",
    "            print(\"\")\n",
    "            "
   ]
  },
  {
   "cell_type": "code",
   "execution_count": 6,
   "metadata": {
    "collapsed": true
   },
   "outputs": [],
   "source": [
    "#hyper parameter options, could also apply to other model. \n",
    "param_dist = {\"loss\": ['deviance', 'exponential'],\n",
    "              \"learning_rate\": sp.stats.expon(scale=.1),\n",
    "              \"min_samples_split\": sp_randint(2, 11),\n",
    "              \"min_samples_leaf\": sp_randint(1, 11),\n",
    "              \"max_depth\": sp_randint(1, 5),\n",
    "              \"max_features\": ['auto', 'sqrt','log2']}\n"
   ]
  },
  {
   "cell_type": "markdown",
   "metadata": {},
   "source": [
    "# Optimize Hyper-parameters by Recall*Precision"
   ]
  },
  {
   "cell_type": "code",
   "execution_count": 7,
   "metadata": {
    "collapsed": true
   },
   "outputs": [],
   "source": [
    "gbc=GradientBoostingClassifier(random_state=1234)"
   ]
  },
  {
   "cell_type": "code",
   "execution_count": 8,
   "metadata": {
    "collapsed": true
   },
   "outputs": [],
   "source": [
    "from sklearn.metrics import precision_recall_fscore_support,recall_score, make_scorer,precision_score\n",
    "\n",
    "def pu(actual,prediction):\n",
    "    precision = precision_score(actual, prediction)\n",
    "    recall = recall_score(actual, prediction)\n",
    "    pu= precision*recall\n",
    "    return pu\n",
    "\n",
    "pu_score=make_scorer(pu,greater_is_better=True)"
   ]
  },
  {
   "cell_type": "code",
   "execution_count": 10,
   "metadata": {
    "collapsed": false
   },
   "outputs": [
    {
     "name": "stdout",
     "output_type": "stream",
     "text": [
      "Fitting 3 folds for each of 20 candidates, totalling 60 fits\n",
      "[CV] max_features=auto, loss=deviance, min_samples_leaf=5, min_samples_split=10, max_depth=2, learning_rate=0.0212598657618 \n",
      "[CV]  max_features=auto, loss=deviance, min_samples_leaf=5, min_samples_split=10, max_depth=2, learning_rate=0.0212598657618, score=0.886171, total= 6.4min\n",
      "[Parallel(n_jobs=1)]: Done   1 out of   1 | elapsed:  6.5min remaining:    0.0s\n",
      "[CV] max_features=auto, loss=deviance, min_samples_leaf=5, min_samples_split=10, max_depth=2, learning_rate=0.0212598657618 \n",
      "[CV]  max_features=auto, loss=deviance, min_samples_leaf=5, min_samples_split=10, max_depth=2, learning_rate=0.0212598657618, score=0.883182, total= 6.4min\n",
      "[Parallel(n_jobs=1)]: Done   2 out of   2 | elapsed: 13.0min remaining:    0.0s\n",
      "[CV] max_features=auto, loss=deviance, min_samples_leaf=5, min_samples_split=10, max_depth=2, learning_rate=0.0212598657618 \n",
      "[CV]  max_features=auto, loss=deviance, min_samples_leaf=5, min_samples_split=10, max_depth=2, learning_rate=0.0212598657618, score=0.879248, total= 6.2min\n",
      "[Parallel(n_jobs=1)]: Done   3 out of   3 | elapsed: 19.2min remaining:    0.0s\n",
      "[CV] max_features=sqrt, loss=exponential, min_samples_leaf=7, min_samples_split=10, max_depth=4, learning_rate=0.147560620993 \n",
      "[CV]  max_features=sqrt, loss=exponential, min_samples_leaf=7, min_samples_split=10, max_depth=4, learning_rate=0.147560620993, score=0.965920, total= 2.7min\n",
      "[Parallel(n_jobs=1)]: Done   4 out of   4 | elapsed: 21.9min remaining:    0.0s\n",
      "[CV] max_features=sqrt, loss=exponential, min_samples_leaf=7, min_samples_split=10, max_depth=4, learning_rate=0.147560620993 \n",
      "[CV]  max_features=sqrt, loss=exponential, min_samples_leaf=7, min_samples_split=10, max_depth=4, learning_rate=0.147560620993, score=0.971881, total= 2.8min\n",
      "[Parallel(n_jobs=1)]: Done   5 out of   5 | elapsed: 24.8min remaining:    0.0s\n",
      "[CV] max_features=sqrt, loss=exponential, min_samples_leaf=7, min_samples_split=10, max_depth=4, learning_rate=0.147560620993 \n",
      "[CV]  max_features=sqrt, loss=exponential, min_samples_leaf=7, min_samples_split=10, max_depth=4, learning_rate=0.147560620993, score=0.970700, total= 2.7min\n",
      "[Parallel(n_jobs=1)]: Done   6 out of   6 | elapsed: 27.5min remaining:    0.0s\n",
      "[CV] max_features=sqrt, loss=exponential, min_samples_leaf=7, min_samples_split=4, max_depth=1, learning_rate=0.0695139414788 \n",
      "[CV]  max_features=sqrt, loss=exponential, min_samples_leaf=7, min_samples_split=4, max_depth=1, learning_rate=0.0695139414788, score=0.857809, total=  43.3s\n",
      "[Parallel(n_jobs=1)]: Done   7 out of   7 | elapsed: 28.2min remaining:    0.0s\n",
      "[CV] max_features=sqrt, loss=exponential, min_samples_leaf=7, min_samples_split=4, max_depth=1, learning_rate=0.0695139414788 \n",
      "[CV]  max_features=sqrt, loss=exponential, min_samples_leaf=7, min_samples_split=4, max_depth=1, learning_rate=0.0695139414788, score=0.858858, total=  43.1s\n",
      "[Parallel(n_jobs=1)]: Done   8 out of   8 | elapsed: 29.0min remaining:    0.0s\n",
      "[CV] max_features=sqrt, loss=exponential, min_samples_leaf=7, min_samples_split=4, max_depth=1, learning_rate=0.0695139414788 \n",
      "[CV]  max_features=sqrt, loss=exponential, min_samples_leaf=7, min_samples_split=4, max_depth=1, learning_rate=0.0695139414788, score=0.857224, total=  39.3s\n",
      "[Parallel(n_jobs=1)]: Done   9 out of   9 | elapsed: 29.7min remaining:    0.0s\n",
      "[CV] max_features=log2, loss=deviance, min_samples_leaf=7, min_samples_split=5, max_depth=2, learning_rate=0.0699332601511 \n",
      "[CV]  max_features=log2, loss=deviance, min_samples_leaf=7, min_samples_split=5, max_depth=2, learning_rate=0.0699332601511, score=0.904402, total=  53.5s\n",
      "[Parallel(n_jobs=1)]: Done  10 out of  10 | elapsed: 30.6min remaining:    0.0s\n",
      "[CV] max_features=log2, loss=deviance, min_samples_leaf=7, min_samples_split=5, max_depth=2, learning_rate=0.0699332601511 \n",
      "[CV]  max_features=log2, loss=deviance, min_samples_leaf=7, min_samples_split=5, max_depth=2, learning_rate=0.0699332601511, score=0.904341, total=  52.4s\n",
      "[Parallel(n_jobs=1)]: Done  11 out of  11 | elapsed: 31.5min remaining:    0.0s\n",
      "[CV] max_features=log2, loss=deviance, min_samples_leaf=7, min_samples_split=5, max_depth=2, learning_rate=0.0699332601511 \n",
      "[CV]  max_features=log2, loss=deviance, min_samples_leaf=7, min_samples_split=5, max_depth=2, learning_rate=0.0699332601511, score=0.901398, total=  52.8s\n",
      "[Parallel(n_jobs=1)]: Done  12 out of  12 | elapsed: 32.5min remaining:    0.0s\n",
      "[CV] max_features=auto, loss=deviance, min_samples_leaf=4, min_samples_split=4, max_depth=2, learning_rate=0.0453950743296 \n",
      "[CV]  max_features=auto, loss=deviance, min_samples_leaf=4, min_samples_split=4, max_depth=2, learning_rate=0.0453950743296, score=0.890524, total= 5.6min\n",
      "[Parallel(n_jobs=1)]: Done  13 out of  13 | elapsed: 38.1min remaining:    0.0s\n",
      "[CV] max_features=auto, loss=deviance, min_samples_leaf=4, min_samples_split=4, max_depth=2, learning_rate=0.0453950743296 \n",
      "[CV]  max_features=auto, loss=deviance, min_samples_leaf=4, min_samples_split=4, max_depth=2, learning_rate=0.0453950743296, score=0.886954, total= 5.5min\n",
      "[Parallel(n_jobs=1)]: Done  14 out of  14 | elapsed: 43.7min remaining:    0.0s\n",
      "[CV] max_features=auto, loss=deviance, min_samples_leaf=4, min_samples_split=4, max_depth=2, learning_rate=0.0453950743296 \n",
      "[CV]  max_features=auto, loss=deviance, min_samples_leaf=4, min_samples_split=4, max_depth=2, learning_rate=0.0453950743296, score=0.883287, total= 5.5min\n",
      "[Parallel(n_jobs=1)]: Done  15 out of  15 | elapsed: 49.2min remaining:    0.0s\n",
      "[CV] max_features=log2, loss=exponential, min_samples_leaf=2, min_samples_split=5, max_depth=4, learning_rate=0.270515592331 \n",
      "[CV]  max_features=log2, loss=exponential, min_samples_leaf=2, min_samples_split=5, max_depth=4, learning_rate=0.270515592331, score=0.977545, total= 1.8min\n",
      "[Parallel(n_jobs=1)]: Done  16 out of  16 | elapsed: 51.1min remaining:    0.0s\n",
      "[CV] max_features=log2, loss=exponential, min_samples_leaf=2, min_samples_split=5, max_depth=4, learning_rate=0.270515592331 \n",
      "[CV]  max_features=log2, loss=exponential, min_samples_leaf=2, min_samples_split=5, max_depth=4, learning_rate=0.270515592331, score=0.984523, total= 1.8min\n",
      "[Parallel(n_jobs=1)]: Done  17 out of  17 | elapsed: 53.0min remaining:    0.0s\n",
      "[CV] max_features=log2, loss=exponential, min_samples_leaf=2, min_samples_split=5, max_depth=4, learning_rate=0.270515592331 \n",
      "[CV]  max_features=log2, loss=exponential, min_samples_leaf=2, min_samples_split=5, max_depth=4, learning_rate=0.270515592331, score=0.983933, total= 1.8min\n",
      "[Parallel(n_jobs=1)]: Done  18 out of  18 | elapsed: 54.9min remaining:    0.0s\n",
      "[CV] max_features=log2, loss=deviance, min_samples_leaf=2, min_samples_split=9, max_depth=4, learning_rate=0.0839558079377 \n",
      "[CV]  max_features=log2, loss=deviance, min_samples_leaf=2, min_samples_split=9, max_depth=4, learning_rate=0.0839558079377, score=0.945553, total= 1.8min\n",
      "[Parallel(n_jobs=1)]: Done  19 out of  19 | elapsed: 56.7min remaining:    0.0s\n",
      "[CV] max_features=log2, loss=deviance, min_samples_leaf=2, min_samples_split=9, max_depth=4, learning_rate=0.0839558079377 \n",
      "[CV]  max_features=log2, loss=deviance, min_samples_leaf=2, min_samples_split=9, max_depth=4, learning_rate=0.0839558079377, score=0.946320, total= 1.8min\n",
      "[Parallel(n_jobs=1)]: Done  20 out of  20 | elapsed: 58.6min remaining:    0.0s\n",
      "[CV] max_features=log2, loss=deviance, min_samples_leaf=2, min_samples_split=9, max_depth=4, learning_rate=0.0839558079377 \n",
      "[CV]  max_features=log2, loss=deviance, min_samples_leaf=2, min_samples_split=9, max_depth=4, learning_rate=0.0839558079377, score=0.944824, total= 1.8min\n",
      "[Parallel(n_jobs=1)]: Done  21 out of  21 | elapsed: 60.4min remaining:    0.0s\n",
      "[CV] max_features=sqrt, loss=deviance, min_samples_leaf=2, min_samples_split=7, max_depth=1, learning_rate=0.0155212538667 \n",
      "[CV]  max_features=sqrt, loss=deviance, min_samples_leaf=2, min_samples_split=7, max_depth=1, learning_rate=0.0155212538667, score=0.759159, total=  38.5s\n",
      "[Parallel(n_jobs=1)]: Done  22 out of  22 | elapsed: 61.1min remaining:    0.0s\n",
      "[CV] max_features=sqrt, loss=deviance, min_samples_leaf=2, min_samples_split=7, max_depth=1, learning_rate=0.0155212538667 \n",
      "[CV]  max_features=sqrt, loss=deviance, min_samples_leaf=2, min_samples_split=7, max_depth=1, learning_rate=0.0155212538667, score=0.757810, total=  37.6s\n",
      "[Parallel(n_jobs=1)]: Done  23 out of  23 | elapsed: 61.7min remaining:    0.0s\n",
      "[CV] max_features=sqrt, loss=deviance, min_samples_leaf=2, min_samples_split=7, max_depth=1, learning_rate=0.0155212538667 \n",
      "[CV]  max_features=sqrt, loss=deviance, min_samples_leaf=2, min_samples_split=7, max_depth=1, learning_rate=0.0155212538667, score=0.756234, total=  36.9s\n",
      "[Parallel(n_jobs=1)]: Done  24 out of  24 | elapsed: 62.4min remaining:    0.0s\n",
      "[CV] max_features=auto, loss=deviance, min_samples_leaf=1, min_samples_split=10, max_depth=2, learning_rate=0.167947916439 \n",
      "[CV]  max_features=auto, loss=deviance, min_samples_leaf=1, min_samples_split=10, max_depth=2, learning_rate=0.167947916439, score=0.959587, total= 5.7min\n",
      "[Parallel(n_jobs=1)]: Done  25 out of  25 | elapsed: 68.1min remaining:    0.0s\n",
      "[CV] max_features=auto, loss=deviance, min_samples_leaf=1, min_samples_split=10, max_depth=2, learning_rate=0.167947916439 \n",
      "[CV]  max_features=auto, loss=deviance, min_samples_leaf=1, min_samples_split=10, max_depth=2, learning_rate=0.167947916439, score=0.961854, total= 5.6min\n",
      "[Parallel(n_jobs=1)]: Done  26 out of  26 | elapsed: 73.8min remaining:    0.0s\n",
      "[CV] max_features=auto, loss=deviance, min_samples_leaf=1, min_samples_split=10, max_depth=2, learning_rate=0.167947916439 \n",
      "[CV]  max_features=auto, loss=deviance, min_samples_leaf=1, min_samples_split=10, max_depth=2, learning_rate=0.167947916439, score=0.961970, total= 5.7min\n",
      "[Parallel(n_jobs=1)]: Done  27 out of  27 | elapsed: 79.6min remaining:    0.0s\n",
      "[CV] max_features=log2, loss=deviance, min_samples_leaf=4, min_samples_split=3, max_depth=1, learning_rate=0.00485132452566 \n",
      "[CV]  max_features=log2, loss=deviance, min_samples_leaf=4, min_samples_split=3, max_depth=1, learning_rate=0.00485132452566, score=0.694296, total=  31.9s\n",
      "[Parallel(n_jobs=1)]: Done  28 out of  28 | elapsed: 80.1min remaining:    0.0s\n",
      "[CV] max_features=log2, loss=deviance, min_samples_leaf=4, min_samples_split=3, max_depth=1, learning_rate=0.00485132452566 \n",
      "[CV]  max_features=log2, loss=deviance, min_samples_leaf=4, min_samples_split=3, max_depth=1, learning_rate=0.00485132452566, score=0.695105, total=  32.9s\n",
      "[Parallel(n_jobs=1)]: Done  29 out of  29 | elapsed: 80.7min remaining:    0.0s\n",
      "[CV] max_features=log2, loss=deviance, min_samples_leaf=4, min_samples_split=3, max_depth=1, learning_rate=0.00485132452566 \n",
      "[CV]  max_features=log2, loss=deviance, min_samples_leaf=4, min_samples_split=3, max_depth=1, learning_rate=0.00485132452566, score=0.693654, total=  33.3s\n",
      "[Parallel(n_jobs=1)]: Done  30 out of  30 | elapsed: 81.3min remaining:    0.0s\n",
      "[CV] max_features=sqrt, loss=deviance, min_samples_leaf=7, min_samples_split=9, max_depth=3, learning_rate=0.0824242867784 \n",
      "[CV]  max_features=sqrt, loss=deviance, min_samples_leaf=7, min_samples_split=9, max_depth=3, learning_rate=0.0824242867784, score=0.930874, total= 1.7min\n",
      "[Parallel(n_jobs=1)]: Done  31 out of  31 | elapsed: 83.1min remaining:    0.0s\n",
      "[CV] max_features=sqrt, loss=deviance, min_samples_leaf=7, min_samples_split=9, max_depth=3, learning_rate=0.0824242867784 \n",
      "[CV]  max_features=sqrt, loss=deviance, min_samples_leaf=7, min_samples_split=9, max_depth=3, learning_rate=0.0824242867784, score=0.929889, total= 1.7min\n",
      "[Parallel(n_jobs=1)]: Done  32 out of  32 | elapsed: 84.8min remaining:    0.0s\n",
      "[CV] max_features=sqrt, loss=deviance, min_samples_leaf=7, min_samples_split=9, max_depth=3, learning_rate=0.0824242867784 \n",
      "[CV]  max_features=sqrt, loss=deviance, min_samples_leaf=7, min_samples_split=9, max_depth=3, learning_rate=0.0824242867784, score=0.929866, total= 1.7min\n",
      "[Parallel(n_jobs=1)]: Done  33 out of  33 | elapsed: 86.5min remaining:    0.0s\n",
      "[CV] max_features=log2, loss=exponential, min_samples_leaf=5, min_samples_split=8, max_depth=3, learning_rate=0.0934438679765 \n",
      "[CV]  max_features=log2, loss=exponential, min_samples_leaf=5, min_samples_split=8, max_depth=3, learning_rate=0.0934438679765, score=0.933811, total= 1.4min\n",
      "[Parallel(n_jobs=1)]: Done  34 out of  34 | elapsed: 88.0min remaining:    0.0s\n",
      "[CV] max_features=log2, loss=exponential, min_samples_leaf=5, min_samples_split=8, max_depth=3, learning_rate=0.0934438679765 \n",
      "[CV]  max_features=log2, loss=exponential, min_samples_leaf=5, min_samples_split=8, max_depth=3, learning_rate=0.0934438679765, score=0.936785, total= 1.4min\n",
      "[Parallel(n_jobs=1)]: Done  35 out of  35 | elapsed: 89.4min remaining:    0.0s\n",
      "[CV] max_features=log2, loss=exponential, min_samples_leaf=5, min_samples_split=8, max_depth=3, learning_rate=0.0934438679765 \n",
      "[CV]  max_features=log2, loss=exponential, min_samples_leaf=5, min_samples_split=8, max_depth=3, learning_rate=0.0934438679765, score=0.936568, total= 1.4min\n",
      "[Parallel(n_jobs=1)]: Done  36 out of  36 | elapsed: 90.8min remaining:    0.0s\n",
      "[CV] max_features=auto, loss=deviance, min_samples_leaf=5, min_samples_split=4, max_depth=3, learning_rate=0.243181587717 \n",
      "[CV]  max_features=auto, loss=deviance, min_samples_leaf=5, min_samples_split=4, max_depth=3, learning_rate=0.243181587717, score=0.983990, total= 9.3min\n",
      "[Parallel(n_jobs=1)]: Done  37 out of  37 | elapsed: 100.2min remaining:    0.0s\n",
      "[CV] max_features=auto, loss=deviance, min_samples_leaf=5, min_samples_split=4, max_depth=3, learning_rate=0.243181587717 \n",
      "[CV]  max_features=auto, loss=deviance, min_samples_leaf=5, min_samples_split=4, max_depth=3, learning_rate=0.243181587717, score=0.993746, total= 9.4min\n",
      "[Parallel(n_jobs=1)]: Done  38 out of  38 | elapsed: 109.6min remaining:    0.0s\n",
      "[CV] max_features=auto, loss=deviance, min_samples_leaf=5, min_samples_split=4, max_depth=3, learning_rate=0.243181587717 \n",
      "[CV]  max_features=auto, loss=deviance, min_samples_leaf=5, min_samples_split=4, max_depth=3, learning_rate=0.243181587717, score=0.993380, total= 9.2min\n",
      "[Parallel(n_jobs=1)]: Done  39 out of  39 | elapsed: 118.9min remaining:    0.0s\n",
      "[CV] max_features=log2, loss=exponential, min_samples_leaf=8, min_samples_split=4, max_depth=4, learning_rate=0.0126191701093 \n",
      "[CV]  max_features=log2, loss=exponential, min_samples_leaf=8, min_samples_split=4, max_depth=4, learning_rate=0.0126191701093, score=0.889206, total= 1.9min\n",
      "[Parallel(n_jobs=1)]: Done  40 out of  40 | elapsed: 120.8min remaining:    0.0s\n",
      "[CV] max_features=log2, loss=exponential, min_samples_leaf=8, min_samples_split=4, max_depth=4, learning_rate=0.0126191701093 \n",
      "[CV]  max_features=log2, loss=exponential, min_samples_leaf=8, min_samples_split=4, max_depth=4, learning_rate=0.0126191701093, score=0.887922, total= 1.8min\n",
      "[Parallel(n_jobs=1)]: Done  41 out of  41 | elapsed: 122.6min remaining:    0.0s\n",
      "[CV] max_features=log2, loss=exponential, min_samples_leaf=8, min_samples_split=4, max_depth=4, learning_rate=0.0126191701093 \n",
      "[CV]  max_features=log2, loss=exponential, min_samples_leaf=8, min_samples_split=4, max_depth=4, learning_rate=0.0126191701093, score=0.883759, total= 1.8min\n",
      "[Parallel(n_jobs=1)]: Done  42 out of  42 | elapsed: 124.5min remaining:    0.0s\n",
      "[CV] max_features=sqrt, loss=exponential, min_samples_leaf=1, min_samples_split=4, max_depth=1, learning_rate=0.0650267392438 \n",
      "[CV]  max_features=sqrt, loss=exponential, min_samples_leaf=1, min_samples_split=4, max_depth=1, learning_rate=0.0650267392438, score=0.855633, total=  39.5s\n",
      "[Parallel(n_jobs=1)]: Done  43 out of  43 | elapsed: 125.2min remaining:    0.0s\n",
      "[CV] max_features=sqrt, loss=exponential, min_samples_leaf=1, min_samples_split=4, max_depth=1, learning_rate=0.0650267392438 \n",
      "[CV]  max_features=sqrt, loss=exponential, min_samples_leaf=1, min_samples_split=4, max_depth=1, learning_rate=0.0650267392438, score=0.854139, total=  38.9s\n",
      "[Parallel(n_jobs=1)]: Done  44 out of  44 | elapsed: 125.9min remaining:    0.0s\n",
      "[CV] max_features=sqrt, loss=exponential, min_samples_leaf=1, min_samples_split=4, max_depth=1, learning_rate=0.0650267392438 \n",
      "[CV]  max_features=sqrt, loss=exponential, min_samples_leaf=1, min_samples_split=4, max_depth=1, learning_rate=0.0650267392438, score=0.854859, total=  40.0s\n",
      "[Parallel(n_jobs=1)]: Done  45 out of  45 | elapsed: 126.6min remaining:    0.0s\n",
      "[CV] max_features=sqrt, loss=exponential, min_samples_leaf=2, min_samples_split=7, max_depth=3, learning_rate=0.0600838607001 \n",
      "[CV]  max_features=sqrt, loss=exponential, min_samples_leaf=2, min_samples_split=7, max_depth=3, learning_rate=0.0600838607001, score=0.922097, total= 1.7min\n",
      "[Parallel(n_jobs=1)]: Done  46 out of  46 | elapsed: 128.2min remaining:    0.0s\n",
      "[CV] max_features=sqrt, loss=exponential, min_samples_leaf=2, min_samples_split=7, max_depth=3, learning_rate=0.0600838607001 \n",
      "[CV]  max_features=sqrt, loss=exponential, min_samples_leaf=2, min_samples_split=7, max_depth=3, learning_rate=0.0600838607001, score=0.921898, total= 1.7min\n",
      "[Parallel(n_jobs=1)]: Done  47 out of  47 | elapsed: 129.9min remaining:    0.0s\n",
      "[CV] max_features=sqrt, loss=exponential, min_samples_leaf=2, min_samples_split=7, max_depth=3, learning_rate=0.0600838607001 \n",
      "[CV]  max_features=sqrt, loss=exponential, min_samples_leaf=2, min_samples_split=7, max_depth=3, learning_rate=0.0600838607001, score=0.920626, total= 1.7min\n",
      "[Parallel(n_jobs=1)]: Done  48 out of  48 | elapsed: 131.7min remaining:    0.0s\n",
      "[CV] max_features=sqrt, loss=exponential, min_samples_leaf=5, min_samples_split=2, max_depth=4, learning_rate=0.217384872629 \n",
      "[CV]  max_features=sqrt, loss=exponential, min_samples_leaf=5, min_samples_split=2, max_depth=4, learning_rate=0.217384872629, score=0.977158, total= 2.3min\n",
      "[Parallel(n_jobs=1)]: Done  49 out of  49 | elapsed: 134.1min remaining:    0.0s\n",
      "[CV] max_features=sqrt, loss=exponential, min_samples_leaf=5, min_samples_split=2, max_depth=4, learning_rate=0.217384872629 \n",
      "[CV]  max_features=sqrt, loss=exponential, min_samples_leaf=5, min_samples_split=2, max_depth=4, learning_rate=0.217384872629, score=0.983204, total= 2.4min\n",
      "[Parallel(n_jobs=1)]: Done  50 out of  50 | elapsed: 136.5min remaining:    0.0s\n",
      "[CV] max_features=sqrt, loss=exponential, min_samples_leaf=5, min_samples_split=2, max_depth=4, learning_rate=0.217384872629 \n",
      "[CV]  max_features=sqrt, loss=exponential, min_samples_leaf=5, min_samples_split=2, max_depth=4, learning_rate=0.217384872629, score=0.981046, total= 2.3min\n",
      "[Parallel(n_jobs=1)]: Done  51 out of  51 | elapsed: 138.8min remaining:    0.0s\n",
      "[CV] max_features=sqrt, loss=exponential, min_samples_leaf=2, min_samples_split=5, max_depth=3, learning_rate=0.00117002534447 \n",
      "[CV]  max_features=sqrt, loss=exponential, min_samples_leaf=2, min_samples_split=5, max_depth=3, learning_rate=0.00117002534447, score=0.855382, total= 1.7min\n",
      "[Parallel(n_jobs=1)]: Done  52 out of  52 | elapsed: 140.5min remaining:    0.0s\n",
      "[CV] max_features=sqrt, loss=exponential, min_samples_leaf=2, min_samples_split=5, max_depth=3, learning_rate=0.00117002534447 \n",
      "[CV]  max_features=sqrt, loss=exponential, min_samples_leaf=2, min_samples_split=5, max_depth=3, learning_rate=0.00117002534447, score=0.846348, total= 1.6min\n",
      "[Parallel(n_jobs=1)]: Done  53 out of  53 | elapsed: 142.2min remaining:    0.0s\n",
      "[CV] max_features=sqrt, loss=exponential, min_samples_leaf=2, min_samples_split=5, max_depth=3, learning_rate=0.00117002534447 \n",
      "[CV]  max_features=sqrt, loss=exponential, min_samples_leaf=2, min_samples_split=5, max_depth=3, learning_rate=0.00117002534447, score=0.847726, total= 1.7min\n",
      "[Parallel(n_jobs=1)]: Done  54 out of  54 | elapsed: 144.0min remaining:    0.0s\n",
      "[CV] max_features=sqrt, loss=exponential, min_samples_leaf=4, min_samples_split=2, max_depth=2, learning_rate=0.11712352736 \n",
      "[CV]  max_features=sqrt, loss=exponential, min_samples_leaf=4, min_samples_split=2, max_depth=2, learning_rate=0.11712352736, score=0.919183, total= 1.2min\n",
      "[Parallel(n_jobs=1)]: Done  55 out of  55 | elapsed: 145.2min remaining:    0.0s\n",
      "[CV] max_features=sqrt, loss=exponential, min_samples_leaf=4, min_samples_split=2, max_depth=2, learning_rate=0.11712352736 \n",
      "[CV]  max_features=sqrt, loss=exponential, min_samples_leaf=4, min_samples_split=2, max_depth=2, learning_rate=0.11712352736, score=0.920131, total= 1.2min\n",
      "[Parallel(n_jobs=1)]: Done  56 out of  56 | elapsed: 146.5min remaining:    0.0s\n",
      "[CV] max_features=sqrt, loss=exponential, min_samples_leaf=4, min_samples_split=2, max_depth=2, learning_rate=0.11712352736 \n",
      "[CV]  max_features=sqrt, loss=exponential, min_samples_leaf=4, min_samples_split=2, max_depth=2, learning_rate=0.11712352736, score=0.917317, total= 1.2min\n",
      "[Parallel(n_jobs=1)]: Done  57 out of  57 | elapsed: 147.6min remaining:    0.0s\n",
      "[CV] max_features=log2, loss=deviance, min_samples_leaf=9, min_samples_split=6, max_depth=1, learning_rate=0.0876216177258 \n",
      "[CV]  max_features=log2, loss=deviance, min_samples_leaf=9, min_samples_split=6, max_depth=1, learning_rate=0.0876216177258, score=0.861978, total=  32.5s\n",
      "[Parallel(n_jobs=1)]: Done  58 out of  58 | elapsed: 148.2min remaining:    0.0s\n",
      "[CV] max_features=log2, loss=deviance, min_samples_leaf=9, min_samples_split=6, max_depth=1, learning_rate=0.0876216177258 \n",
      "[CV]  max_features=log2, loss=deviance, min_samples_leaf=9, min_samples_split=6, max_depth=1, learning_rate=0.0876216177258, score=0.859975, total=  32.6s\n",
      "[Parallel(n_jobs=1)]: Done  59 out of  59 | elapsed: 148.8min remaining:    0.0s\n",
      "[CV] max_features=log2, loss=deviance, min_samples_leaf=9, min_samples_split=6, max_depth=1, learning_rate=0.0876216177258 \n",
      "[CV]  max_features=log2, loss=deviance, min_samples_leaf=9, min_samples_split=6, max_depth=1, learning_rate=0.0876216177258, score=0.857985, total=  32.4s\n",
      "[Parallel(n_jobs=1)]: Done  60 out of  60 | elapsed: 149.4min remaining:    0.0s\n",
      "[Parallel(n_jobs=1)]: Done  60 out of  60 | elapsed: 149.4min finished\n",
      "RandomizedSearchCV took 9800.68 seconds for 20 candidates parameter settings.\n",
      "Model with rank: 1\n",
      "Mean validation score: 0.990 (std: 0.005)\n",
      "Parameters: {'max_features': 'auto', 'loss': 'deviance', 'min_samples_leaf': 5, 'min_samples_split': 4, 'max_depth': 3, 'learning_rate': 0.24318158771707576}\n",
      "\n",
      "Model with rank: 2\n",
      "Mean validation score: 0.982 (std: 0.003)\n",
      "Parameters: {'max_features': 'log2', 'loss': 'exponential', 'min_samples_leaf': 2, 'min_samples_split': 5, 'max_depth': 4, 'learning_rate': 0.27051559233057604}\n",
      "\n",
      "Model with rank: 3\n",
      "Mean validation score: 0.980 (std: 0.003)\n",
      "Parameters: {'max_features': 'sqrt', 'loss': 'exponential', 'min_samples_leaf': 5, 'min_samples_split': 2, 'max_depth': 4, 'learning_rate': 0.21738487262856962}\n",
      "\n"
     ]
    }
   ],
   "source": [
    "#search 50 times     \n",
    "seed = np.random.seed(1234)\n",
    "n_iter_search = 20\n",
    "random_search = RandomizedSearchCV(gbc, param_distributions=param_dist,\n",
    "                                   n_iter=n_iter_search,scoring =pu_score, verbose=100)\n",
    "\n",
    "start = time()\n",
    "random_search.fit(X_res,y_res )\n",
    "print(\"RandomizedSearchCV took %.2f seconds for %d candidates\"\n",
    "      \" parameter settings.\" % ((time() - start), n_iter_search))\n",
    "\n",
    "report(random_search.cv_results_)"
   ]
  },
  {
   "cell_type": "code",
   "execution_count": 11,
   "metadata": {
    "collapsed": true
   },
   "outputs": [],
   "source": [
    "#RandomizedSearchCV took 9800.68 seconds for 20 candidates parameter settings.\n",
    "#Model with rank: 1\n",
    "#Mean validation score: 0.990 (std: 0.005)\n",
    "#Parameters: {'max_features': 'auto', 'loss': 'deviance', 'min_samples_leaf': 5, 'min_samples_split': 4, \n",
    "#'max_depth': 3, 'learning_rate': 0.24318158771707576}\n",
    "\n",
    "gbc=GradientBoostingClassifier(random_state=1234,loss='deviance',learning_rate=\n",
    "                                0.24318158771707576,min_samples_leaf=5,\n",
    "                                min_samples_split=4,max_features='auto',max_depth=3)"
   ]
  },
  {
   "cell_type": "code",
   "execution_count": 12,
   "metadata": {
    "collapsed": false
   },
   "outputs": [
    {
     "data": {
      "text/plain": [
       "0    0.20641\n",
       "Name: 6679, dtype: float64"
      ]
     },
     "execution_count": 12,
     "metadata": {},
     "output_type": "execute_result"
    }
   ],
   "source": [
    "#fit the model\n",
    "gbc.fit(X_res,y_res)\n",
    "\n",
    "predicted_probs = gbc.predict_proba(train_std)\n",
    "a= predicted_probs[:,1]\n",
    "np.mean(a)\n",
    "b= predicted_probs[:,0]\n",
    "np.mean(b)\n",
    "a1=sorted(a,reverse=True)\n",
    "a2=pd.DataFrame(a1)\n",
    "a2.iloc[train_PERT.value_counts()[\"Y\"]*4-1,:]"
   ]
  },
  {
   "cell_type": "code",
   "execution_count": 13,
   "metadata": {
    "collapsed": true
   },
   "outputs": [],
   "source": [
    "#Synchronize with Jeff's Scoring Functions\n",
    "from sklearn.metrics import accuracy_score, precision_score, recall_score, \\\n",
    "    f1_score, roc_auc_score, average_precision_score, brier_score_loss, \\\n",
    "    fbeta_score, confusion_matrix\n",
    "from creonmetrics import labeled_metric, assumed_metric, pu_score, \\\n",
    "    pr_one_unlabeled, brier_score_partial_loss\n",
    "\n",
    "y_true = test_Ycat.values\n",
    "y_prob = gbc.predict_proba(test_std)\n",
    "\n",
    "y_pred=np.array([1 if x >= 0.20641 else 0 for x in y_prob[:,1]])"
   ]
  },
  {
   "cell_type": "code",
   "execution_count": 14,
   "metadata": {
    "collapsed": false
   },
   "outputs": [
    {
     "name": "stdout",
     "output_type": "stream",
     "text": [
      "assumed_brier :  0.00640939879289\n",
      "assumed_brier_neg :  0.00353866878448\n",
      "assumed_f1 :  0.190697674419\n",
      "assumed_f1beta10 :  0.475627124874\n",
      "confusion_matrix_lab :  [[199  17]\n",
      " [213 205]]\n",
      "confusion_matrix_un :  [[86195  1527]\n",
      " [  213   205]]\n",
      "labeled_acc :  0.637223974763\n",
      "labeled_avg_prec :  0.874908095272\n",
      "labeled_brier :  0.410339547276\n",
      "labeled_brier_neg :  0.0261572522252\n",
      "labeled_brier_pos :  0.6088643696\n",
      "labeled_f1 :  0.640625\n",
      "labeled_prec :  0.923423423423\n",
      "labeled_recall :  0.49043062201\n",
      "labeled_roc_auc :  0.705863459153\n",
      "pr_one_unlabeled :  0.0172559595913\n",
      "pu_score :  12.2399689767\n"
     ]
    }
   ],
   "source": [
    "import collections\n",
    "data = {'labeled_acc' : labeled_metric(y_true, y_pred, accuracy_score),\n",
    "        'labeled_prec' : labeled_metric(y_true, y_pred, precision_score),\n",
    "        'labeled_recall' : labeled_metric(y_true, y_pred, recall_score),\n",
    "        'labeled_f1' : labeled_metric(y_true, y_pred, f1_score),\n",
    "        'labeled_roc_auc' : labeled_metric(y_true, y_pred, roc_auc_score),\n",
    "        'labeled_avg_prec' : labeled_metric(y_true, y_pred, average_precision_score),\n",
    "        'labeled_brier' : labeled_metric(y_true, y_prob, brier_score_loss),\n",
    "        'labeled_brier_pos' : labeled_metric(y_true, y_prob, brier_score_partial_loss, label=1),\n",
    "        'labeled_brier_neg' : labeled_metric(y_true, y_prob, brier_score_partial_loss, label=0),\n",
    "        'confusion_matrix_lab' : labeled_metric(y_true, y_pred, confusion_matrix),\n",
    "        'pr_one_unlabeled' : pr_one_unlabeled(y_true, y_pred),\n",
    "        'assumed_brier' : assumed_metric(y_true, y_prob, brier_score_loss),\n",
    "        'assumed_brier_neg' : assumed_metric(y_true, y_prob, brier_score_partial_loss, label=0),\n",
    "        'assumed_f1' : assumed_metric(y_true, y_pred, f1_score),\n",
    "        'assumed_f1beta10' : assumed_metric(y_true, y_pred, fbeta_score, beta=10),\n",
    "        'confusion_matrix_un' : assumed_metric(y_true, y_pred, confusion_matrix),\n",
    "        'pu_score' : pu_score(y_true, y_pred),\n",
    "        }\n",
    "data_s = collections.OrderedDict(sorted(data.items()))\n",
    "for k, v in data_s.items():\n",
    "    print(k, ': ', v)\n"
   ]
  },
  {
   "cell_type": "code",
   "execution_count": null,
   "metadata": {
    "collapsed": true
   },
   "outputs": [],
   "source": []
  }
 ],
 "metadata": {
  "anaconda-cloud": {},
  "kernelspec": {
   "display_name": "Python [conda root]",
   "language": "python",
   "name": "conda-root-py"
  },
  "language_info": {
   "codemirror_mode": {
    "name": "ipython",
    "version": 3
   },
   "file_extension": ".py",
   "mimetype": "text/x-python",
   "name": "python",
   "nbconvert_exporter": "python",
   "pygments_lexer": "ipython3",
   "version": "3.5.2"
  }
 },
 "nbformat": 4,
 "nbformat_minor": 1
}
