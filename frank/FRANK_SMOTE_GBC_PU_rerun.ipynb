{
 "cells": [
  {
   "cell_type": "code",
   "execution_count": 1,
   "metadata": {
    "collapsed": true
   },
   "outputs": [],
   "source": [
    "import scipy as sp\n",
    "from sklearn.svm import SVC\n",
    "import pandas as pd\n",
    "import numpy as np\n",
    "from scipy.stats import randint as sp_randint\n",
    "from sklearn import svm\n",
    "from sklearn.metrics import confusion_matrix\n",
    "from sklearn.metrics import roc_auc_score\n",
    "from sklearn.metrics import classification_report\n",
    "from sklearn.metrics import brier_score_loss\n",
    "from sklearn.model_selection import RandomizedSearchCV\n",
    "from time import time\n",
    "from sklearn.preprocessing import MinMaxScaler\n",
    "from sklearn.linear_model import SGDClassifier\n",
    "from sklearn.ensemble import RandomForestClassifier\n",
    "from sklearn.model_selection import cross_val_score\n",
    "from sklearn.ensemble import GradientBoostingClassifier"
   ]
  },
  {
   "cell_type": "code",
   "execution_count": 2,
   "metadata": {
    "collapsed": true
   },
   "outputs": [],
   "source": [
    "#NEED INSTALL IMBLANCE PACKAGE\n",
    "#code: conda install -c glemaitre imbalanced-learn\n",
    "from imblearn.over_sampling import SMOTE\n",
    "#read tables: After variable selection, choosing 50 variables by baseline RF importance\n",
    "train=pd.read_table('training_self1_0127.txt')\n",
    "test=pd.read_table('testing_self1_0127.txt')"
   ]
  },
  {
   "cell_type": "code",
   "execution_count": 3,
   "metadata": {
    "collapsed": true
   },
   "outputs": [],
   "source": [
    "train_Ycat=train['Ycat']\n",
    "train_PERT=train['PERT_Y']\n",
    "train=train.drop('Ycat',1)\n",
    "train=train.drop('MemberID',1)\n",
    "train=train.drop('PERT_Y',1)\n",
    "\n",
    "test_Ycat=test['Ycat']\n",
    "test_PERT=test['PERT_Y']\n",
    "test=test.drop('Ycat',1)\n",
    "test=test.drop('PERT_Y',1)\n",
    "test=test.drop('MemberID',1)\n",
    "\n",
    "scaler = MinMaxScaler()\n",
    "train = scaler.fit_transform(train)\n",
    "test =  scaler.transform(test)\n",
    "\n",
    "train_std=pd.DataFrame(train)\n",
    "test_std=pd.DataFrame(test)\n",
    "\n",
    "res=[1 if x =='Y' else 0 for x in train_PERT]"
   ]
  },
  {
   "cell_type": "code",
   "execution_count": 4,
   "metadata": {
    "collapsed": true
   },
   "outputs": [],
   "source": [
    "sm = SMOTE(random_state=1234,ratio=.2)\n",
    "X_res, y_res = sm.fit_sample(train_std, res)"
   ]
  },
  {
   "cell_type": "code",
   "execution_count": 5,
   "metadata": {
    "collapsed": true
   },
   "outputs": [],
   "source": [
    "def report(results, n_top=3):\n",
    "    for i in range(1, n_top + 1):\n",
    "        candidates = np.flatnonzero(results['rank_test_score'] == i)\n",
    "        for candidate in candidates:\n",
    "            print(\"Model with rank: {0}\".format(i))\n",
    "            print(\"Mean validation score: {0:.3f} (std: {1:.3f})\".format(\n",
    "                  results['mean_test_score'][candidate],\n",
    "                  results['std_test_score'][candidate]))\n",
    "            print(\"Parameters: {0}\".format(results['params'][candidate]))\n",
    "            print(\"\")\n",
    "            "
   ]
  },
  {
   "cell_type": "code",
   "execution_count": 6,
   "metadata": {
    "collapsed": true
   },
   "outputs": [],
   "source": [
    "#hyper parameter options, could also apply to other model. \n",
    "param_dist = {\"loss\": ['deviance', 'exponential'],\n",
    "              \"learning_rate\": sp.stats.expon(scale=.1),\n",
    "              \"min_samples_split\": sp_randint(2, 11),\n",
    "              \"min_samples_leaf\": sp_randint(1, 11),\n",
    "              \"max_depth\": sp_randint(1, 5),\n",
    "              \"max_features\": ['auto', 'sqrt','log2']}\n"
   ]
  },
  {
   "cell_type": "markdown",
   "metadata": {},
   "source": [
    "# Optimize Hyper-parameters by Recall*Precision"
   ]
  },
  {
   "cell_type": "code",
   "execution_count": 7,
   "metadata": {
    "collapsed": true
   },
   "outputs": [],
   "source": [
    "gbc=GradientBoostingClassifier(random_state=1234)"
   ]
  },
  {
   "cell_type": "code",
   "execution_count": 8,
   "metadata": {
    "collapsed": true
   },
   "outputs": [],
   "source": [
    "from sklearn.metrics import precision_recall_fscore_support,recall_score, make_scorer,precision_score\n",
    "\n",
    "def pu(actual,prediction):\n",
    "    precision = precision_score(actual, prediction)\n",
    "    recall = recall_score(actual, prediction)\n",
    "    pu= precision*recall\n",
    "    return pu\n",
    "\n",
    "pu_score=make_scorer(pu,greater_is_better=True)"
   ]
  },
  {
   "cell_type": "code",
   "execution_count": 10,
   "metadata": {
    "collapsed": false
   },
   "outputs": [
    {
     "name": "stdout",
     "output_type": "stream",
     "text": [
      "Fitting 3 folds for each of 20 candidates, totalling 60 fits\n",
      "[CV] learning_rate=0.0212598657618, max_features=auto, loss=deviance, max_depth=2, min_samples_split=10, min_samples_leaf=5 \n",
      "[CV]  learning_rate=0.0212598657618, max_features=auto, loss=deviance, max_depth=2, min_samples_split=10, min_samples_leaf=5, score=0.742425, total= 2.0min\n",
      "[Parallel(n_jobs=1)]: Done   1 out of   1 | elapsed:  2.0min remaining:    0.0s\n",
      "[CV] learning_rate=0.0212598657618, max_features=auto, loss=deviance, max_depth=2, min_samples_split=10, min_samples_leaf=5 \n",
      "[CV]  learning_rate=0.0212598657618, max_features=auto, loss=deviance, max_depth=2, min_samples_split=10, min_samples_leaf=5, score=0.763739, total= 2.1min\n",
      "[Parallel(n_jobs=1)]: Done   2 out of   2 | elapsed:  4.2min remaining:    0.0s\n",
      "[CV] learning_rate=0.0212598657618, max_features=auto, loss=deviance, max_depth=2, min_samples_split=10, min_samples_leaf=5 \n",
      "[CV]  learning_rate=0.0212598657618, max_features=auto, loss=deviance, max_depth=2, min_samples_split=10, min_samples_leaf=5, score=0.757132, total= 2.1min\n",
      "[Parallel(n_jobs=1)]: Done   3 out of   3 | elapsed:  6.3min remaining:    0.0s\n",
      "[CV] learning_rate=0.147560620993, max_features=sqrt, loss=exponential, max_depth=4, min_samples_split=10, min_samples_leaf=7 \n",
      "[CV]  learning_rate=0.147560620993, max_features=sqrt, loss=exponential, max_depth=4, min_samples_split=10, min_samples_leaf=7, score=0.888063, total=  57.7s\n",
      "[Parallel(n_jobs=1)]: Done   4 out of   4 | elapsed:  7.3min remaining:    0.0s\n",
      "[CV] learning_rate=0.147560620993, max_features=sqrt, loss=exponential, max_depth=4, min_samples_split=10, min_samples_leaf=7 \n",
      "[CV]  learning_rate=0.147560620993, max_features=sqrt, loss=exponential, max_depth=4, min_samples_split=10, min_samples_leaf=7, score=0.933816, total=  55.9s\n",
      "[Parallel(n_jobs=1)]: Done   5 out of   5 | elapsed:  8.3min remaining:    0.0s\n",
      "[CV] learning_rate=0.147560620993, max_features=sqrt, loss=exponential, max_depth=4, min_samples_split=10, min_samples_leaf=7 \n",
      "[CV]  learning_rate=0.147560620993, max_features=sqrt, loss=exponential, max_depth=4, min_samples_split=10, min_samples_leaf=7, score=0.929135, total=  54.5s\n",
      "[Parallel(n_jobs=1)]: Done   6 out of   6 | elapsed:  9.2min remaining:    0.0s\n",
      "[CV] learning_rate=0.0695139414788, max_features=sqrt, loss=exponential, max_depth=1, min_samples_split=4, min_samples_leaf=7 \n",
      "[CV]  learning_rate=0.0695139414788, max_features=sqrt, loss=exponential, max_depth=1, min_samples_split=4, min_samples_leaf=7, score=0.566161, total=  17.2s\n",
      "[Parallel(n_jobs=1)]: Done   7 out of   7 | elapsed:  9.5min remaining:    0.0s\n",
      "[CV] learning_rate=0.0695139414788, max_features=sqrt, loss=exponential, max_depth=1, min_samples_split=4, min_samples_leaf=7 \n",
      "[CV]  learning_rate=0.0695139414788, max_features=sqrt, loss=exponential, max_depth=1, min_samples_split=4, min_samples_leaf=7, score=0.587304, total=  16.6s\n",
      "[Parallel(n_jobs=1)]: Done   8 out of   8 | elapsed:  9.8min remaining:    0.0s\n",
      "[CV] learning_rate=0.0695139414788, max_features=sqrt, loss=exponential, max_depth=1, min_samples_split=4, min_samples_leaf=7 \n",
      "[CV]  learning_rate=0.0695139414788, max_features=sqrt, loss=exponential, max_depth=1, min_samples_split=4, min_samples_leaf=7, score=0.587261, total=  17.1s\n",
      "[Parallel(n_jobs=1)]: Done   9 out of   9 | elapsed: 10.1min remaining:    0.0s\n",
      "[CV] learning_rate=0.0699332601511, max_features=log2, loss=deviance, max_depth=2, min_samples_split=5, min_samples_leaf=7 \n",
      "[CV]  learning_rate=0.0699332601511, max_features=log2, loss=deviance, max_depth=2, min_samples_split=5, min_samples_leaf=7, score=0.714026, total=  21.7s\n",
      "[Parallel(n_jobs=1)]: Done  10 out of  10 | elapsed: 10.5min remaining:    0.0s\n",
      "[CV] learning_rate=0.0699332601511, max_features=log2, loss=deviance, max_depth=2, min_samples_split=5, min_samples_leaf=7 \n",
      "[CV]  learning_rate=0.0699332601511, max_features=log2, loss=deviance, max_depth=2, min_samples_split=5, min_samples_leaf=7, score=0.750200, total=  22.6s\n",
      "[Parallel(n_jobs=1)]: Done  11 out of  11 | elapsed: 10.9min remaining:    0.0s\n",
      "[CV] learning_rate=0.0699332601511, max_features=log2, loss=deviance, max_depth=2, min_samples_split=5, min_samples_leaf=7 \n",
      "[CV]  learning_rate=0.0699332601511, max_features=log2, loss=deviance, max_depth=2, min_samples_split=5, min_samples_leaf=7, score=0.737428, total=  22.6s\n",
      "[Parallel(n_jobs=1)]: Done  12 out of  12 | elapsed: 11.3min remaining:    0.0s\n",
      "[CV] learning_rate=0.0453950743296, max_features=auto, loss=deviance, max_depth=2, min_samples_split=4, min_samples_leaf=4 \n",
      "[CV]  learning_rate=0.0453950743296, max_features=auto, loss=deviance, max_depth=2, min_samples_split=4, min_samples_leaf=4, score=0.785386, total= 2.1min\n",
      "[Parallel(n_jobs=1)]: Done  13 out of  13 | elapsed: 13.4min remaining:    0.0s\n",
      "[CV] learning_rate=0.0453950743296, max_features=auto, loss=deviance, max_depth=2, min_samples_split=4, min_samples_leaf=4 \n",
      "[CV]  learning_rate=0.0453950743296, max_features=auto, loss=deviance, max_depth=2, min_samples_split=4, min_samples_leaf=4, score=0.800044, total= 2.1min\n",
      "[Parallel(n_jobs=1)]: Done  14 out of  14 | elapsed: 15.5min remaining:    0.0s\n",
      "[CV] learning_rate=0.0453950743296, max_features=auto, loss=deviance, max_depth=2, min_samples_split=4, min_samples_leaf=4 \n",
      "[CV]  learning_rate=0.0453950743296, max_features=auto, loss=deviance, max_depth=2, min_samples_split=4, min_samples_leaf=4, score=0.793316, total= 2.1min\n",
      "[Parallel(n_jobs=1)]: Done  15 out of  15 | elapsed: 17.6min remaining:    0.0s\n",
      "[CV] learning_rate=0.270515592331, max_features=log2, loss=exponential, max_depth=4, min_samples_split=5, min_samples_leaf=2 \n",
      "[CV]  learning_rate=0.270515592331, max_features=log2, loss=exponential, max_depth=4, min_samples_split=5, min_samples_leaf=2, score=0.909079, total=  43.9s\n",
      "[Parallel(n_jobs=1)]: Done  16 out of  16 | elapsed: 18.4min remaining:    0.0s\n",
      "[CV] learning_rate=0.270515592331, max_features=log2, loss=exponential, max_depth=4, min_samples_split=5, min_samples_leaf=2 \n",
      "[CV]  learning_rate=0.270515592331, max_features=log2, loss=exponential, max_depth=4, min_samples_split=5, min_samples_leaf=2, score=0.960774, total=  42.0s\n",
      "[Parallel(n_jobs=1)]: Done  17 out of  17 | elapsed: 19.1min remaining:    0.0s\n",
      "[CV] learning_rate=0.270515592331, max_features=log2, loss=exponential, max_depth=4, min_samples_split=5, min_samples_leaf=2 \n",
      "[CV]  learning_rate=0.270515592331, max_features=log2, loss=exponential, max_depth=4, min_samples_split=5, min_samples_leaf=2, score=0.951047, total=  43.1s\n",
      "[Parallel(n_jobs=1)]: Done  18 out of  18 | elapsed: 19.9min remaining:    0.0s\n",
      "[CV] learning_rate=0.0839558079377, max_features=log2, loss=deviance, max_depth=4, min_samples_split=9, min_samples_leaf=2 \n",
      "[CV]  learning_rate=0.0839558079377, max_features=log2, loss=deviance, max_depth=4, min_samples_split=9, min_samples_leaf=2, score=0.854853, total=  42.9s\n",
      "[Parallel(n_jobs=1)]: Done  19 out of  19 | elapsed: 20.6min remaining:    0.0s\n",
      "[CV] learning_rate=0.0839558079377, max_features=log2, loss=deviance, max_depth=4, min_samples_split=9, min_samples_leaf=2 \n",
      "[CV]  learning_rate=0.0839558079377, max_features=log2, loss=deviance, max_depth=4, min_samples_split=9, min_samples_leaf=2, score=0.897867, total=  41.8s\n",
      "[Parallel(n_jobs=1)]: Done  20 out of  20 | elapsed: 21.3min remaining:    0.0s\n",
      "[CV] learning_rate=0.0839558079377, max_features=log2, loss=deviance, max_depth=4, min_samples_split=9, min_samples_leaf=2 \n",
      "[CV]  learning_rate=0.0839558079377, max_features=log2, loss=deviance, max_depth=4, min_samples_split=9, min_samples_leaf=2, score=0.893190, total=  41.2s\n",
      "[Parallel(n_jobs=1)]: Done  21 out of  21 | elapsed: 22.0min remaining:    0.0s\n",
      "[CV] learning_rate=0.0155212538667, max_features=sqrt, loss=deviance, max_depth=1, min_samples_split=7, min_samples_leaf=2 \n",
      "[CV]  learning_rate=0.0155212538667, max_features=sqrt, loss=deviance, max_depth=1, min_samples_split=7, min_samples_leaf=2, score=0.197528, total=  16.4s\n",
      "[Parallel(n_jobs=1)]: Done  22 out of  22 | elapsed: 22.3min remaining:    0.0s\n",
      "[CV] learning_rate=0.0155212538667, max_features=sqrt, loss=deviance, max_depth=1, min_samples_split=7, min_samples_leaf=2 \n",
      "[CV]  learning_rate=0.0155212538667, max_features=sqrt, loss=deviance, max_depth=1, min_samples_split=7, min_samples_leaf=2, score=0.213056, total=  16.3s\n",
      "[Parallel(n_jobs=1)]: Done  23 out of  23 | elapsed: 22.6min remaining:    0.0s\n",
      "[CV] learning_rate=0.0155212538667, max_features=sqrt, loss=deviance, max_depth=1, min_samples_split=7, min_samples_leaf=2 \n",
      "[CV]  learning_rate=0.0155212538667, max_features=sqrt, loss=deviance, max_depth=1, min_samples_split=7, min_samples_leaf=2, score=0.213751, total=  15.8s\n",
      "[Parallel(n_jobs=1)]: Done  24 out of  24 | elapsed: 22.9min remaining:    0.0s\n",
      "[CV] learning_rate=0.167947916439, max_features=auto, loss=deviance, max_depth=2, min_samples_split=10, min_samples_leaf=1 \n",
      "[CV]  learning_rate=0.167947916439, max_features=auto, loss=deviance, max_depth=2, min_samples_split=10, min_samples_leaf=1, score=0.884374, total= 2.1min\n",
      "[Parallel(n_jobs=1)]: Done  25 out of  25 | elapsed: 25.1min remaining:    0.0s\n",
      "[CV] learning_rate=0.167947916439, max_features=auto, loss=deviance, max_depth=2, min_samples_split=10, min_samples_leaf=1 \n",
      "[CV]  learning_rate=0.167947916439, max_features=auto, loss=deviance, max_depth=2, min_samples_split=10, min_samples_leaf=1, score=0.925304, total= 2.2min\n",
      "[Parallel(n_jobs=1)]: Done  26 out of  26 | elapsed: 27.3min remaining:    0.0s\n",
      "[CV] learning_rate=0.167947916439, max_features=auto, loss=deviance, max_depth=2, min_samples_split=10, min_samples_leaf=1 \n",
      "[CV]  learning_rate=0.167947916439, max_features=auto, loss=deviance, max_depth=2, min_samples_split=10, min_samples_leaf=1, score=0.930283, total= 2.2min\n",
      "[Parallel(n_jobs=1)]: Done  27 out of  27 | elapsed: 29.5min remaining:    0.0s\n",
      "[CV] learning_rate=0.00485132452566, max_features=log2, loss=deviance, max_depth=1, min_samples_split=3, min_samples_leaf=4 \n"
     ]
    },
    {
     "name": "stderr",
     "output_type": "stream",
     "text": [
      "C:\\Users\\motoharu.dei\\AppData\\Local\\Continuum\\Anaconda3\\lib\\site-packages\\sklearn\\metrics\\classification.py:1113: UndefinedMetricWarning: Precision is ill-defined and being set to 0.0 due to no predicted samples.\n",
      "  'precision', 'predicted', average, warn_for)\n"
     ]
    },
    {
     "name": "stdout",
     "output_type": "stream",
     "text": [
      "[CV]  learning_rate=0.00485132452566, max_features=log2, loss=deviance, max_depth=1, min_samples_split=3, min_samples_leaf=4, score=0.000000, total=  14.5s\n",
      "[Parallel(n_jobs=1)]: Done  28 out of  28 | elapsed: 29.8min remaining:    0.0s\n",
      "[CV] learning_rate=0.00485132452566, max_features=log2, loss=deviance, max_depth=1, min_samples_split=3, min_samples_leaf=4 \n"
     ]
    },
    {
     "name": "stderr",
     "output_type": "stream",
     "text": [
      "C:\\Users\\motoharu.dei\\AppData\\Local\\Continuum\\Anaconda3\\lib\\site-packages\\sklearn\\metrics\\classification.py:1113: UndefinedMetricWarning: Precision is ill-defined and being set to 0.0 due to no predicted samples.\n",
      "  'precision', 'predicted', average, warn_for)\n"
     ]
    },
    {
     "name": "stdout",
     "output_type": "stream",
     "text": [
      "[CV]  learning_rate=0.00485132452566, max_features=log2, loss=deviance, max_depth=1, min_samples_split=3, min_samples_leaf=4, score=0.000000, total=  13.9s\n",
      "[Parallel(n_jobs=1)]: Done  29 out of  29 | elapsed: 30.0min remaining:    0.0s\n",
      "[CV] learning_rate=0.00485132452566, max_features=log2, loss=deviance, max_depth=1, min_samples_split=3, min_samples_leaf=4 \n"
     ]
    },
    {
     "name": "stderr",
     "output_type": "stream",
     "text": [
      "C:\\Users\\motoharu.dei\\AppData\\Local\\Continuum\\Anaconda3\\lib\\site-packages\\sklearn\\metrics\\classification.py:1113: UndefinedMetricWarning: Precision is ill-defined and being set to 0.0 due to no predicted samples.\n",
      "  'precision', 'predicted', average, warn_for)\n"
     ]
    },
    {
     "name": "stdout",
     "output_type": "stream",
     "text": [
      "[CV]  learning_rate=0.00485132452566, max_features=log2, loss=deviance, max_depth=1, min_samples_split=3, min_samples_leaf=4, score=0.000000, total=  13.5s\n",
      "[Parallel(n_jobs=1)]: Done  30 out of  30 | elapsed: 30.3min remaining:    0.0s\n",
      "[CV] learning_rate=0.0824242867784, max_features=sqrt, loss=deviance, max_depth=3, min_samples_split=9, min_samples_leaf=7 \n",
      "[CV]  learning_rate=0.0824242867784, max_features=sqrt, loss=deviance, max_depth=3, min_samples_split=9, min_samples_leaf=7, score=0.831788, total=  40.0s\n",
      "[Parallel(n_jobs=1)]: Done  31 out of  31 | elapsed: 31.0min remaining:    0.0s\n",
      "[CV] learning_rate=0.0824242867784, max_features=sqrt, loss=deviance, max_depth=3, min_samples_split=9, min_samples_leaf=7 \n",
      "[CV]  learning_rate=0.0824242867784, max_features=sqrt, loss=deviance, max_depth=3, min_samples_split=9, min_samples_leaf=7, score=0.871310, total=  39.8s\n",
      "[Parallel(n_jobs=1)]: Done  32 out of  32 | elapsed: 31.6min remaining:    0.0s\n",
      "[CV] learning_rate=0.0824242867784, max_features=sqrt, loss=deviance, max_depth=3, min_samples_split=9, min_samples_leaf=7 \n",
      "[CV]  learning_rate=0.0824242867784, max_features=sqrt, loss=deviance, max_depth=3, min_samples_split=9, min_samples_leaf=7, score=0.862747, total=  40.2s\n",
      "[Parallel(n_jobs=1)]: Done  33 out of  33 | elapsed: 32.3min remaining:    0.0s\n",
      "[CV] learning_rate=0.0934438679765, max_features=log2, loss=exponential, max_depth=3, min_samples_split=8, min_samples_leaf=5 \n",
      "[CV]  learning_rate=0.0934438679765, max_features=log2, loss=exponential, max_depth=3, min_samples_split=8, min_samples_leaf=5, score=0.814749, total=  32.2s\n",
      "[Parallel(n_jobs=1)]: Done  34 out of  34 | elapsed: 32.9min remaining:    0.0s\n",
      "[CV] learning_rate=0.0934438679765, max_features=log2, loss=exponential, max_depth=3, min_samples_split=8, min_samples_leaf=5 \n",
      "[CV]  learning_rate=0.0934438679765, max_features=log2, loss=exponential, max_depth=3, min_samples_split=8, min_samples_leaf=5, score=0.858182, total=  32.4s\n",
      "[Parallel(n_jobs=1)]: Done  35 out of  35 | elapsed: 33.5min remaining:    0.0s\n",
      "[CV] learning_rate=0.0934438679765, max_features=log2, loss=exponential, max_depth=3, min_samples_split=8, min_samples_leaf=5 \n",
      "[CV]  learning_rate=0.0934438679765, max_features=log2, loss=exponential, max_depth=3, min_samples_split=8, min_samples_leaf=5, score=0.849130, total=  32.3s\n",
      "[Parallel(n_jobs=1)]: Done  36 out of  36 | elapsed: 34.0min remaining:    0.0s\n",
      "[CV] learning_rate=0.243181587717, max_features=auto, loss=deviance, max_depth=3, min_samples_split=4, min_samples_leaf=5 \n",
      "[CV]  learning_rate=0.243181587717, max_features=auto, loss=deviance, max_depth=3, min_samples_split=4, min_samples_leaf=5, score=0.921731, total= 3.5min\n",
      "[Parallel(n_jobs=1)]: Done  37 out of  37 | elapsed: 37.5min remaining:    0.0s\n",
      "[CV] learning_rate=0.243181587717, max_features=auto, loss=deviance, max_depth=3, min_samples_split=4, min_samples_leaf=5 \n",
      "[CV]  learning_rate=0.243181587717, max_features=auto, loss=deviance, max_depth=3, min_samples_split=4, min_samples_leaf=5, score=0.980357, total= 3.3min\n",
      "[Parallel(n_jobs=1)]: Done  38 out of  38 | elapsed: 40.8min remaining:    0.0s\n",
      "[CV] learning_rate=0.243181587717, max_features=auto, loss=deviance, max_depth=3, min_samples_split=4, min_samples_leaf=5 \n",
      "[CV]  learning_rate=0.243181587717, max_features=auto, loss=deviance, max_depth=3, min_samples_split=4, min_samples_leaf=5, score=0.981374, total= 3.3min\n",
      "[Parallel(n_jobs=1)]: Done  39 out of  39 | elapsed: 44.1min remaining:    0.0s\n",
      "[CV] learning_rate=0.0126191701093, max_features=log2, loss=exponential, max_depth=4, min_samples_split=4, min_samples_leaf=8 \n",
      "[CV]  learning_rate=0.0126191701093, max_features=log2, loss=exponential, max_depth=4, min_samples_split=4, min_samples_leaf=8, score=0.236984, total=  43.5s\n",
      "[Parallel(n_jobs=1)]: Done  40 out of  40 | elapsed: 44.9min remaining:    0.0s\n",
      "[CV] learning_rate=0.0126191701093, max_features=log2, loss=exponential, max_depth=4, min_samples_split=4, min_samples_leaf=8 \n",
      "[CV]  learning_rate=0.0126191701093, max_features=log2, loss=exponential, max_depth=4, min_samples_split=4, min_samples_leaf=8, score=0.257136, total=  44.0s\n",
      "[Parallel(n_jobs=1)]: Done  41 out of  41 | elapsed: 45.6min remaining:    0.0s\n",
      "[CV] learning_rate=0.0126191701093, max_features=log2, loss=exponential, max_depth=4, min_samples_split=4, min_samples_leaf=8 \n",
      "[CV]  learning_rate=0.0126191701093, max_features=log2, loss=exponential, max_depth=4, min_samples_split=4, min_samples_leaf=8, score=0.251313, total=  43.0s\n",
      "[Parallel(n_jobs=1)]: Done  42 out of  42 | elapsed: 46.4min remaining:    0.0s\n",
      "[CV] learning_rate=0.0650267392438, max_features=sqrt, loss=exponential, max_depth=1, min_samples_split=4, min_samples_leaf=1 \n",
      "[CV]  learning_rate=0.0650267392438, max_features=sqrt, loss=exponential, max_depth=1, min_samples_split=4, min_samples_leaf=1, score=0.548936, total=  16.7s\n",
      "[Parallel(n_jobs=1)]: Done  43 out of  43 | elapsed: 46.7min remaining:    0.0s\n",
      "[CV] learning_rate=0.0650267392438, max_features=sqrt, loss=exponential, max_depth=1, min_samples_split=4, min_samples_leaf=1 \n",
      "[CV]  learning_rate=0.0650267392438, max_features=sqrt, loss=exponential, max_depth=1, min_samples_split=4, min_samples_leaf=1, score=0.572030, total=  17.0s\n",
      "[Parallel(n_jobs=1)]: Done  44 out of  44 | elapsed: 47.0min remaining:    0.0s\n",
      "[CV] learning_rate=0.0650267392438, max_features=sqrt, loss=exponential, max_depth=1, min_samples_split=4, min_samples_leaf=1 \n",
      "[CV]  learning_rate=0.0650267392438, max_features=sqrt, loss=exponential, max_depth=1, min_samples_split=4, min_samples_leaf=1, score=0.571319, total=  17.4s\n",
      "[Parallel(n_jobs=1)]: Done  45 out of  45 | elapsed: 47.3min remaining:    0.0s\n",
      "[CV] learning_rate=0.0600838607001, max_features=sqrt, loss=exponential, max_depth=3, min_samples_split=7, min_samples_leaf=2 \n",
      "[CV]  learning_rate=0.0600838607001, max_features=sqrt, loss=exponential, max_depth=3, min_samples_split=7, min_samples_leaf=2, score=0.773331, total=  42.1s\n",
      "[Parallel(n_jobs=1)]: Done  46 out of  46 | elapsed: 48.0min remaining:    0.0s\n",
      "[CV] learning_rate=0.0600838607001, max_features=sqrt, loss=exponential, max_depth=3, min_samples_split=7, min_samples_leaf=2 \n",
      "[CV]  learning_rate=0.0600838607001, max_features=sqrt, loss=exponential, max_depth=3, min_samples_split=7, min_samples_leaf=2, score=0.810192, total=  41.4s\n",
      "[Parallel(n_jobs=1)]: Done  47 out of  47 | elapsed: 48.7min remaining:    0.0s\n",
      "[CV] learning_rate=0.0600838607001, max_features=sqrt, loss=exponential, max_depth=3, min_samples_split=7, min_samples_leaf=2 \n",
      "[CV]  learning_rate=0.0600838607001, max_features=sqrt, loss=exponential, max_depth=3, min_samples_split=7, min_samples_leaf=2, score=0.809185, total=  41.6s\n",
      "[Parallel(n_jobs=1)]: Done  48 out of  48 | elapsed: 49.4min remaining:    0.0s\n",
      "[CV] learning_rate=0.217384872629, max_features=sqrt, loss=exponential, max_depth=4, min_samples_split=2, min_samples_leaf=5 \n",
      "[CV]  learning_rate=0.217384872629, max_features=sqrt, loss=exponential, max_depth=4, min_samples_split=2, min_samples_leaf=5, score=0.905417, total=  54.8s\n",
      "[Parallel(n_jobs=1)]: Done  49 out of  49 | elapsed: 50.4min remaining:    0.0s\n",
      "[CV] learning_rate=0.217384872629, max_features=sqrt, loss=exponential, max_depth=4, min_samples_split=2, min_samples_leaf=5 \n",
      "[CV]  learning_rate=0.217384872629, max_features=sqrt, loss=exponential, max_depth=4, min_samples_split=2, min_samples_leaf=5, score=0.957923, total=  54.6s\n",
      "[Parallel(n_jobs=1)]: Done  50 out of  50 | elapsed: 51.3min remaining:    0.0s\n",
      "[CV] learning_rate=0.217384872629, max_features=sqrt, loss=exponential, max_depth=4, min_samples_split=2, min_samples_leaf=5 \n",
      "[CV]  learning_rate=0.217384872629, max_features=sqrt, loss=exponential, max_depth=4, min_samples_split=2, min_samples_leaf=5, score=0.953456, total=  54.8s\n",
      "[Parallel(n_jobs=1)]: Done  51 out of  51 | elapsed: 52.2min remaining:    0.0s\n",
      "[CV] learning_rate=0.00117002534447, max_features=sqrt, loss=exponential, max_depth=3, min_samples_split=5, min_samples_leaf=2 \n"
     ]
    },
    {
     "name": "stderr",
     "output_type": "stream",
     "text": [
      "C:\\Users\\motoharu.dei\\AppData\\Local\\Continuum\\Anaconda3\\lib\\site-packages\\sklearn\\metrics\\classification.py:1113: UndefinedMetricWarning: Precision is ill-defined and being set to 0.0 due to no predicted samples.\n",
      "  'precision', 'predicted', average, warn_for)\n"
     ]
    },
    {
     "name": "stdout",
     "output_type": "stream",
     "text": [
      "[CV]  learning_rate=0.00117002534447, max_features=sqrt, loss=exponential, max_depth=3, min_samples_split=5, min_samples_leaf=2, score=0.000000, total=  41.5s\n",
      "[Parallel(n_jobs=1)]: Done  52 out of  52 | elapsed: 53.0min remaining:    0.0s\n",
      "[CV] learning_rate=0.00117002534447, max_features=sqrt, loss=exponential, max_depth=3, min_samples_split=5, min_samples_leaf=2 \n"
     ]
    },
    {
     "name": "stderr",
     "output_type": "stream",
     "text": [
      "C:\\Users\\motoharu.dei\\AppData\\Local\\Continuum\\Anaconda3\\lib\\site-packages\\sklearn\\metrics\\classification.py:1113: UndefinedMetricWarning: Precision is ill-defined and being set to 0.0 due to no predicted samples.\n",
      "  'precision', 'predicted', average, warn_for)\n"
     ]
    },
    {
     "name": "stdout",
     "output_type": "stream",
     "text": [
      "[CV]  learning_rate=0.00117002534447, max_features=sqrt, loss=exponential, max_depth=3, min_samples_split=5, min_samples_leaf=2, score=0.000000, total=  41.1s\n",
      "[Parallel(n_jobs=1)]: Done  53 out of  53 | elapsed: 53.7min remaining:    0.0s\n",
      "[CV] learning_rate=0.00117002534447, max_features=sqrt, loss=exponential, max_depth=3, min_samples_split=5, min_samples_leaf=2 \n"
     ]
    },
    {
     "name": "stderr",
     "output_type": "stream",
     "text": [
      "C:\\Users\\motoharu.dei\\AppData\\Local\\Continuum\\Anaconda3\\lib\\site-packages\\sklearn\\metrics\\classification.py:1113: UndefinedMetricWarning: Precision is ill-defined and being set to 0.0 due to no predicted samples.\n",
      "  'precision', 'predicted', average, warn_for)\n"
     ]
    },
    {
     "name": "stdout",
     "output_type": "stream",
     "text": [
      "[CV]  learning_rate=0.00117002534447, max_features=sqrt, loss=exponential, max_depth=3, min_samples_split=5, min_samples_leaf=2, score=0.000000, total=  40.7s\n",
      "[Parallel(n_jobs=1)]: Done  54 out of  54 | elapsed: 54.4min remaining:    0.0s\n",
      "[CV] learning_rate=0.11712352736, max_features=sqrt, loss=exponential, max_depth=2, min_samples_split=2, min_samples_leaf=4 \n",
      "[CV]  learning_rate=0.11712352736, max_features=sqrt, loss=exponential, max_depth=2, min_samples_split=2, min_samples_leaf=4, score=0.774687, total=  28.5s\n",
      "[Parallel(n_jobs=1)]: Done  55 out of  55 | elapsed: 54.9min remaining:    0.0s\n",
      "[CV] learning_rate=0.11712352736, max_features=sqrt, loss=exponential, max_depth=2, min_samples_split=2, min_samples_leaf=4 \n",
      "[CV]  learning_rate=0.11712352736, max_features=sqrt, loss=exponential, max_depth=2, min_samples_split=2, min_samples_leaf=4, score=0.814464, total=  28.3s\n",
      "[Parallel(n_jobs=1)]: Done  56 out of  56 | elapsed: 55.4min remaining:    0.0s\n",
      "[CV] learning_rate=0.11712352736, max_features=sqrt, loss=exponential, max_depth=2, min_samples_split=2, min_samples_leaf=4 \n",
      "[CV]  learning_rate=0.11712352736, max_features=sqrt, loss=exponential, max_depth=2, min_samples_split=2, min_samples_leaf=4, score=0.806588, total=  27.6s\n",
      "[Parallel(n_jobs=1)]: Done  57 out of  57 | elapsed: 55.8min remaining:    0.0s\n",
      "[CV] learning_rate=0.0876216177258, max_features=log2, loss=deviance, max_depth=1, min_samples_split=6, min_samples_leaf=9 \n",
      "[CV]  learning_rate=0.0876216177258, max_features=log2, loss=deviance, max_depth=1, min_samples_split=6, min_samples_leaf=9, score=0.606194, total=  14.0s\n",
      "[Parallel(n_jobs=1)]: Done  58 out of  58 | elapsed: 56.1min remaining:    0.0s\n",
      "[CV] learning_rate=0.0876216177258, max_features=log2, loss=deviance, max_depth=1, min_samples_split=6, min_samples_leaf=9 \n",
      "[CV]  learning_rate=0.0876216177258, max_features=log2, loss=deviance, max_depth=1, min_samples_split=6, min_samples_leaf=9, score=0.631460, total=  14.0s\n",
      "[Parallel(n_jobs=1)]: Done  59 out of  59 | elapsed: 56.3min remaining:    0.0s\n",
      "[CV] learning_rate=0.0876216177258, max_features=log2, loss=deviance, max_depth=1, min_samples_split=6, min_samples_leaf=9 \n",
      "[CV]  learning_rate=0.0876216177258, max_features=log2, loss=deviance, max_depth=1, min_samples_split=6, min_samples_leaf=9, score=0.625869, total=  13.6s\n",
      "[Parallel(n_jobs=1)]: Done  60 out of  60 | elapsed: 56.6min remaining:    0.0s\n",
      "[Parallel(n_jobs=1)]: Done  60 out of  60 | elapsed: 56.6min finished\n",
      "RandomizedSearchCV took 3722.75 seconds for 20 candidates parameter settings.\n",
      "Model with rank: 1\n",
      "Mean validation score: 0.961 (std: 0.028)\n",
      "Parameters: {'learning_rate': 0.24318158771707576, 'max_features': 'auto', 'loss': 'deviance', 'max_depth': 3, 'min_samples_split': 4, 'min_samples_leaf': 5}\n",
      "\n",
      "Model with rank: 2\n",
      "Mean validation score: 0.940 (std: 0.022)\n",
      "Parameters: {'learning_rate': 0.27051559233057604, 'max_features': 'log2', 'loss': 'exponential', 'max_depth': 4, 'min_samples_split': 5, 'min_samples_leaf': 2}\n",
      "\n",
      "Model with rank: 3\n",
      "Mean validation score: 0.939 (std: 0.024)\n",
      "Parameters: {'learning_rate': 0.21738487262856962, 'max_features': 'sqrt', 'loss': 'exponential', 'max_depth': 4, 'min_samples_split': 2, 'min_samples_leaf': 5}\n",
      "\n"
     ]
    }
   ],
   "source": [
    "#search 50 times     \n",
    "seed = np.random.seed(1234)\n",
    "n_iter_search = 20\n",
    "random_search = RandomizedSearchCV(gbc, param_distributions=param_dist,\n",
    "                                   n_iter=n_iter_search,scoring =pu_score, verbose=100)\n",
    "\n",
    "start = time()\n",
    "random_search.fit(X_res,y_res )\n",
    "print(\"RandomizedSearchCV took %.2f seconds for %d candidates\"\n",
    "      \" parameter settings.\" % ((time() - start), n_iter_search))\n",
    "\n",
    "report(random_search.cv_results_)"
   ]
  },
  {
   "cell_type": "code",
   "execution_count": 11,
   "metadata": {
    "collapsed": true
   },
   "outputs": [],
   "source": [
    "#RandomizedSearchCV took 3722.75 seconds for 20 candidates parameter settings.\n",
    "#Model with rank: 1\n",
    "#Mean validation score: 0.961 (std: 0.028)\n",
    "#Parameters: {'learning_rate': 0.24318158771707576, 'max_features': 'auto', 'loss': 'deviance', \n",
    "#'max_depth': 3, 'min_samples_split': 4, 'min_samples_leaf': 5}\n",
    "\n",
    "gbc=GradientBoostingClassifier(random_state=1234,loss='deviance',learning_rate=\n",
    "                                0.24318158771707576,min_samples_leaf=5,\n",
    "                                min_samples_split=4,max_features='auto',max_depth=3)"
   ]
  },
  {
   "cell_type": "code",
   "execution_count": 12,
   "metadata": {
    "collapsed": false
   },
   "outputs": [
    {
     "data": {
      "text/plain": [
       "0    0.129059\n",
       "Name: 6679, dtype: float64"
      ]
     },
     "execution_count": 12,
     "metadata": {},
     "output_type": "execute_result"
    }
   ],
   "source": [
    "#fit the model\n",
    "gbc.fit(X_res,y_res)\n",
    "\n",
    "predicted_probs = gbc.predict_proba(train_std)\n",
    "a= predicted_probs[:,1]\n",
    "np.mean(a)\n",
    "b= predicted_probs[:,0]\n",
    "np.mean(b)\n",
    "a1=sorted(a,reverse=True)\n",
    "a2=pd.DataFrame(a1)\n",
    "a2.iloc[train_PERT.value_counts()[\"Y\"]*4-1,:]"
   ]
  },
  {
   "cell_type": "code",
   "execution_count": 13,
   "metadata": {
    "collapsed": true
   },
   "outputs": [],
   "source": [
    "#Synchronize with Jeff's Scoring Functions\n",
    "from sklearn.metrics import accuracy_score, precision_score, recall_score, \\\n",
    "    f1_score, roc_auc_score, average_precision_score, brier_score_loss, \\\n",
    "    fbeta_score, confusion_matrix\n",
    "from creonmetrics import labeled_metric, assumed_metric, pu_score, \\\n",
    "    pr_one_unlabeled, brier_score_partial_loss\n",
    "\n",
    "y_true = test_Ycat.values\n",
    "y_prob = gbc.predict_proba(test_std)\n",
    "\n",
    "y_pred=np.array([1 if x >= 0.129059 else 0 for x in y_prob[:,1]])"
   ]
  },
  {
   "cell_type": "code",
   "execution_count": 14,
   "metadata": {
    "collapsed": false
   },
   "outputs": [
    {
     "name": "stdout",
     "output_type": "stream",
     "text": [
      "assumed_brier :  0.004992672206\n",
      "assumed_brier_neg :  0.00177169141347\n",
      "assumed_f1 :  0.204043253409\n",
      "assumed_f1beta10 :  0.503734859454\n",
      "confusion_matrix_lab :  [[200  16]\n",
      " [201 217]]\n",
      "confusion_matrix_un :  [[86230  1492]\n",
      " [  201   217]]\n",
      "labeled_acc :  0.657728706625\n",
      "labeled_avg_prec :  0.8837519642\n",
      "labeled_brier :  0.454738728296\n",
      "labeled_brier_neg :  0.0169747207195\n",
      "labeled_brier_pos :  0.680951708288\n",
      "labeled_f1 :  0.666666666667\n",
      "labeled_prec :  0.931330472103\n",
      "labeled_recall :  0.519138755981\n",
      "labeled_roc_auc :  0.722532340953\n",
      "pr_one_unlabeled :  0.0168674148058\n",
      "pu_score :  13.8994587053\n"
     ]
    }
   ],
   "source": [
    "import collections\n",
    "data = {'labeled_acc' : labeled_metric(y_true, y_pred, accuracy_score),\n",
    "        'labeled_prec' : labeled_metric(y_true, y_pred, precision_score),\n",
    "        'labeled_recall' : labeled_metric(y_true, y_pred, recall_score),\n",
    "        'labeled_f1' : labeled_metric(y_true, y_pred, f1_score),\n",
    "        'labeled_roc_auc' : labeled_metric(y_true, y_pred, roc_auc_score),\n",
    "        'labeled_avg_prec' : labeled_metric(y_true, y_pred, average_precision_score),\n",
    "        'labeled_brier' : labeled_metric(y_true, y_prob, brier_score_loss),\n",
    "        'labeled_brier_pos' : labeled_metric(y_true, y_prob, brier_score_partial_loss, label=1),\n",
    "        'labeled_brier_neg' : labeled_metric(y_true, y_prob, brier_score_partial_loss, label=0),\n",
    "        'confusion_matrix_lab' : labeled_metric(y_true, y_pred, confusion_matrix),\n",
    "        'pr_one_unlabeled' : pr_one_unlabeled(y_true, y_pred),\n",
    "        'assumed_brier' : assumed_metric(y_true, y_prob, brier_score_loss),\n",
    "        'assumed_brier_neg' : assumed_metric(y_true, y_prob, brier_score_partial_loss, label=0),\n",
    "        'assumed_f1' : assumed_metric(y_true, y_pred, f1_score),\n",
    "        'assumed_f1beta10' : assumed_metric(y_true, y_pred, fbeta_score, beta=10),\n",
    "        'confusion_matrix_un' : assumed_metric(y_true, y_pred, confusion_matrix),\n",
    "        'pu_score' : pu_score(y_true, y_pred),\n",
    "        }\n",
    "data_s = collections.OrderedDict(sorted(data.items()))\n",
    "for k, v in data_s.items():\n",
    "    print(k, ': ', v)\n"
   ]
  },
  {
   "cell_type": "code",
   "execution_count": null,
   "metadata": {
    "collapsed": true
   },
   "outputs": [],
   "source": []
  }
 ],
 "metadata": {
  "anaconda-cloud": {},
  "kernelspec": {
   "display_name": "Python [conda root]",
   "language": "python",
   "name": "conda-root-py"
  },
  "language_info": {
   "codemirror_mode": {
    "name": "ipython",
    "version": 3
   },
   "file_extension": ".py",
   "mimetype": "text/x-python",
   "name": "python",
   "nbconvert_exporter": "python",
   "pygments_lexer": "ipython3",
   "version": "3.5.2"
  }
 },
 "nbformat": 4,
 "nbformat_minor": 1
}
