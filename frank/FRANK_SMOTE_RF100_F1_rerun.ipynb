{
 "cells": [
  {
   "cell_type": "code",
   "execution_count": 1,
   "metadata": {
    "collapsed": true
   },
   "outputs": [],
   "source": [
    "import scipy as sp\n",
    "from sklearn.svm import SVC\n",
    "import pandas as pd\n",
    "import numpy as np\n",
    "from scipy.stats import randint as sp_randint\n",
    "from sklearn import svm\n",
    "from sklearn.metrics import confusion_matrix\n",
    "from sklearn.metrics import roc_auc_score\n",
    "from sklearn.metrics import classification_report\n",
    "from sklearn.metrics import brier_score_loss\n",
    "from sklearn.model_selection import RandomizedSearchCV\n",
    "from time import time\n",
    "from sklearn.preprocessing import MinMaxScaler\n",
    "from sklearn.linear_model import SGDClassifier\n",
    "from sklearn.ensemble import RandomForestClassifier\n",
    "from sklearn.model_selection import cross_val_score"
   ]
  },
  {
   "cell_type": "code",
   "execution_count": 2,
   "metadata": {
    "collapsed": true
   },
   "outputs": [],
   "source": [
    "#NEED INSTALL IMBLANCE PACKAGE\n",
    "#code: conda install -c glemaitre imbalanced-learn\n",
    "from imblearn.over_sampling import SMOTE\n",
    "#read tables: After variable selection, choosing 50 variables by baseline RF importance\n",
    "train=pd.read_table('training_self1_0127.txt')\n",
    "test=pd.read_table('testing_self1_0127.txt')"
   ]
  },
  {
   "cell_type": "code",
   "execution_count": 3,
   "metadata": {
    "collapsed": true
   },
   "outputs": [],
   "source": [
    "train_Ycat=train['Ycat']\n",
    "train_PERT=train['PERT_Y']\n",
    "train=train.drop('Ycat',1)\n",
    "train=train.drop('MemberID',1)\n",
    "train=train.drop('PERT_Y',1)\n",
    "\n",
    "test_Ycat=test['Ycat']\n",
    "test_PERT=test['PERT_Y']\n",
    "test=test.drop('Ycat',1)\n",
    "test=test.drop('PERT_Y',1)\n",
    "test=test.drop('MemberID',1)\n",
    "\n",
    "scaler = MinMaxScaler()\n",
    "train = scaler.fit_transform(train)\n",
    "test =  scaler.transform(test)\n",
    "\n",
    "train_std=pd.DataFrame(train)\n",
    "test_std=pd.DataFrame(test)\n",
    "\n",
    "res=[1 if x =='Y' else 0 for x in train_PERT]"
   ]
  },
  {
   "cell_type": "code",
   "execution_count": 4,
   "metadata": {
    "collapsed": true
   },
   "outputs": [],
   "source": [
    "sm = SMOTE(random_state=1234)\n",
    "X_res, y_res = sm.fit_sample(train_std, res)"
   ]
  },
  {
   "cell_type": "code",
   "execution_count": 5,
   "metadata": {
    "collapsed": true
   },
   "outputs": [],
   "source": [
    "def report(results, n_top=3):\n",
    "    for i in range(1, n_top + 1):\n",
    "        candidates = np.flatnonzero(results['rank_test_score'] == i)\n",
    "        for candidate in candidates:\n",
    "            print(\"Model with rank: {0}\".format(i))\n",
    "            print(\"Mean validation score: {0:.3f} (std: {1:.3f})\".format(\n",
    "                  results['mean_test_score'][candidate],\n",
    "                  results['std_test_score'][candidate]))\n",
    "            print(\"Parameters: {0}\".format(results['params'][candidate]))\n",
    "            print(\"\")\n"
   ]
  },
  {
   "cell_type": "code",
   "execution_count": 6,
   "metadata": {
    "collapsed": true
   },
   "outputs": [],
   "source": [
    "#hyper parameter options, could also apply to other model. \n",
    "param_dist = {\"max_depth\": [3, None],\n",
    "              \"max_features\": sp_randint(1, 20),\n",
    "              \"min_samples_split\": sp_randint(2, 11),\n",
    "              \"min_samples_leaf\": sp_randint(1, 11),\n",
    "              \"bootstrap\": [True, False],\n",
    "              \"criterion\": [\"gini\", \"entropy\"]}\n"
   ]
  },
  {
   "cell_type": "markdown",
   "metadata": {},
   "source": [
    "# Optimize Hyper-parameters by F1 Score"
   ]
  },
  {
   "cell_type": "code",
   "execution_count": 7,
   "metadata": {
    "collapsed": true
   },
   "outputs": [],
   "source": [
    "#model1\n",
    "rf=RandomForestClassifier(n_estimators=100)"
   ]
  },
  {
   "cell_type": "code",
   "execution_count": 8,
   "metadata": {
    "collapsed": false
   },
   "outputs": [
    {
     "name": "stdout",
     "output_type": "stream",
     "text": [
      "Fitting 3 folds for each of 20 candidates, totalling 60 fits\n",
      "[CV] min_samples_split=10, max_features=13, bootstrap=False, max_depth=3, min_samples_leaf=5, criterion=entropy \n",
      "[CV]  min_samples_split=10, max_features=13, bootstrap=False, max_depth=3, min_samples_leaf=5, criterion=entropy, score=0.941318, total= 3.2min\n",
      "[Parallel(n_jobs=1)]: Done   1 out of   1 | elapsed:  3.3min remaining:    0.0s\n",
      "[CV] min_samples_split=10, max_features=13, bootstrap=False, max_depth=3, min_samples_leaf=5, criterion=entropy \n",
      "[CV]  min_samples_split=10, max_features=13, bootstrap=False, max_depth=3, min_samples_leaf=5, criterion=entropy, score=0.939724, total= 3.0min\n",
      "[Parallel(n_jobs=1)]: Done   2 out of   2 | elapsed:  6.3min remaining:    0.0s\n",
      "[CV] min_samples_split=10, max_features=13, bootstrap=False, max_depth=3, min_samples_leaf=5, criterion=entropy \n",
      "[CV]  min_samples_split=10, max_features=13, bootstrap=False, max_depth=3, min_samples_leaf=5, criterion=entropy, score=0.937616, total= 4.4min\n",
      "[Parallel(n_jobs=1)]: Done   3 out of   3 | elapsed: 10.8min remaining:    0.0s\n",
      "[CV] min_samples_split=4, max_features=17, bootstrap=False, max_depth=3, min_samples_leaf=6, criterion=entropy \n",
      "[CV]  min_samples_split=4, max_features=17, bootstrap=False, max_depth=3, min_samples_leaf=6, criterion=entropy, score=0.941304, total= 6.0min\n",
      "[Parallel(n_jobs=1)]: Done   4 out of   4 | elapsed: 16.9min remaining:    0.0s\n",
      "[CV] min_samples_split=4, max_features=17, bootstrap=False, max_depth=3, min_samples_leaf=6, criterion=entropy \n",
      "[CV]  min_samples_split=4, max_features=17, bootstrap=False, max_depth=3, min_samples_leaf=6, criterion=entropy, score=0.939572, total= 5.7min\n",
      "[Parallel(n_jobs=1)]: Done   5 out of   5 | elapsed: 22.7min remaining:    0.0s\n",
      "[CV] min_samples_split=4, max_features=17, bootstrap=False, max_depth=3, min_samples_leaf=6, criterion=entropy \n",
      "[CV]  min_samples_split=4, max_features=17, bootstrap=False, max_depth=3, min_samples_leaf=6, criterion=entropy, score=0.937545, total= 5.7min\n",
      "[Parallel(n_jobs=1)]: Done   6 out of   6 | elapsed: 28.5min remaining:    0.0s\n",
      "[CV] min_samples_split=3, max_features=2, bootstrap=False, max_depth=3, min_samples_leaf=10, criterion=gini \n",
      "[CV]  min_samples_split=3, max_features=2, bootstrap=False, max_depth=3, min_samples_leaf=10, criterion=gini, score=0.862735, total=  51.3s\n",
      "[Parallel(n_jobs=1)]: Done   7 out of   7 | elapsed: 29.5min remaining:    0.0s\n",
      "[CV] min_samples_split=3, max_features=2, bootstrap=False, max_depth=3, min_samples_leaf=10, criterion=gini \n",
      "[CV]  min_samples_split=3, max_features=2, bootstrap=False, max_depth=3, min_samples_leaf=10, criterion=gini, score=0.873051, total=  52.4s\n",
      "[Parallel(n_jobs=1)]: Done   8 out of   8 | elapsed: 30.4min remaining:    0.0s\n",
      "[CV] min_samples_split=3, max_features=2, bootstrap=False, max_depth=3, min_samples_leaf=10, criterion=gini \n",
      "[CV]  min_samples_split=3, max_features=2, bootstrap=False, max_depth=3, min_samples_leaf=10, criterion=gini, score=0.850039, total=  50.0s\n",
      "[Parallel(n_jobs=1)]: Done   9 out of   9 | elapsed: 31.4min remaining:    0.0s\n",
      "[CV] min_samples_split=5, max_features=19, bootstrap=False, max_depth=None, min_samples_leaf=7, criterion=entropy \n",
      "[CV]  min_samples_split=5, max_features=19, bootstrap=False, max_depth=None, min_samples_leaf=7, criterion=entropy, score=0.994646, total=20.5min\n",
      "[Parallel(n_jobs=1)]: Done  10 out of  10 | elapsed: 52.0min remaining:    0.0s\n",
      "[CV] min_samples_split=5, max_features=19, bootstrap=False, max_depth=None, min_samples_leaf=7, criterion=entropy \n",
      "[CV]  min_samples_split=5, max_features=19, bootstrap=False, max_depth=None, min_samples_leaf=7, criterion=entropy, score=0.998451, total=21.0min\n",
      "[Parallel(n_jobs=1)]: Done  11 out of  11 | elapsed: 73.1min remaining:    0.0s\n",
      "[CV] min_samples_split=5, max_features=19, bootstrap=False, max_depth=None, min_samples_leaf=7, criterion=entropy \n",
      "[CV]  min_samples_split=5, max_features=19, bootstrap=False, max_depth=None, min_samples_leaf=7, criterion=entropy, score=0.998306, total=20.7min\n",
      "[Parallel(n_jobs=1)]: Done  12 out of  12 | elapsed: 93.9min remaining:    0.0s\n",
      "[CV] min_samples_split=6, max_features=16, bootstrap=True, max_depth=3, min_samples_leaf=7, criterion=gini \n",
      "[CV]  min_samples_split=6, max_features=16, bootstrap=True, max_depth=3, min_samples_leaf=7, criterion=gini, score=0.941362, total= 3.7min\n",
      "[Parallel(n_jobs=1)]: Done  13 out of  13 | elapsed: 97.7min remaining:    0.0s\n",
      "[CV] min_samples_split=6, max_features=16, bootstrap=True, max_depth=3, min_samples_leaf=7, criterion=gini \n",
      "[CV]  min_samples_split=6, max_features=16, bootstrap=True, max_depth=3, min_samples_leaf=7, criterion=gini, score=0.939747, total= 3.5min\n",
      "[Parallel(n_jobs=1)]: Done  14 out of  14 | elapsed: 101.2min remaining:    0.0s\n",
      "[CV] min_samples_split=6, max_features=16, bootstrap=True, max_depth=3, min_samples_leaf=7, criterion=gini \n",
      "[CV]  min_samples_split=6, max_features=16, bootstrap=True, max_depth=3, min_samples_leaf=7, criterion=gini, score=0.937608, total= 3.5min\n",
      "[Parallel(n_jobs=1)]: Done  15 out of  15 | elapsed: 104.8min remaining:    0.0s\n",
      "[CV] min_samples_split=4, max_features=5, bootstrap=True, max_depth=None, min_samples_leaf=4, criterion=gini \n",
      "[CV]  min_samples_split=4, max_features=5, bootstrap=True, max_depth=None, min_samples_leaf=4, criterion=gini, score=0.994871, total= 4.8min\n",
      "[Parallel(n_jobs=1)]: Done  16 out of  16 | elapsed: 109.8min remaining:    0.0s\n",
      "[CV] min_samples_split=4, max_features=5, bootstrap=True, max_depth=None, min_samples_leaf=4, criterion=gini \n",
      "[CV]  min_samples_split=4, max_features=5, bootstrap=True, max_depth=None, min_samples_leaf=4, criterion=gini, score=0.997531, total= 5.0min\n",
      "[Parallel(n_jobs=1)]: Done  17 out of  17 | elapsed: 115.0min remaining:    0.0s\n",
      "[CV] min_samples_split=4, max_features=5, bootstrap=True, max_depth=None, min_samples_leaf=4, criterion=gini \n",
      "[CV]  min_samples_split=4, max_features=5, bootstrap=True, max_depth=None, min_samples_leaf=4, criterion=gini, score=0.997360, total= 4.8min\n",
      "[Parallel(n_jobs=1)]: Done  18 out of  18 | elapsed: 119.9min remaining:    0.0s\n",
      "[CV] min_samples_split=7, max_features=7, bootstrap=False, max_depth=3, min_samples_leaf=10, criterion=gini \n",
      "[CV]  min_samples_split=7, max_features=7, bootstrap=False, max_depth=3, min_samples_leaf=10, criterion=gini, score=0.932018, total= 2.0min\n",
      "[Parallel(n_jobs=1)]: Done  19 out of  19 | elapsed: 122.0min remaining:    0.0s\n",
      "[CV] min_samples_split=7, max_features=7, bootstrap=False, max_depth=3, min_samples_leaf=10, criterion=gini \n",
      "[CV]  min_samples_split=7, max_features=7, bootstrap=False, max_depth=3, min_samples_leaf=10, criterion=gini, score=0.925236, total= 2.0min\n",
      "[Parallel(n_jobs=1)]: Done  20 out of  20 | elapsed: 124.1min remaining:    0.0s\n",
      "[CV] min_samples_split=7, max_features=7, bootstrap=False, max_depth=3, min_samples_leaf=10, criterion=gini \n",
      "[CV]  min_samples_split=7, max_features=7, bootstrap=False, max_depth=3, min_samples_leaf=10, criterion=gini, score=0.928854, total= 2.0min\n",
      "[Parallel(n_jobs=1)]: Done  21 out of  21 | elapsed: 126.2min remaining:    0.0s\n",
      "[CV] min_samples_split=8, max_features=10, bootstrap=False, max_depth=None, min_samples_leaf=5, criterion=entropy \n",
      "[CV]  min_samples_split=8, max_features=10, bootstrap=False, max_depth=None, min_samples_leaf=5, criterion=entropy, score=0.994934, total=11.9min\n",
      "[Parallel(n_jobs=1)]: Done  22 out of  22 | elapsed: 138.2min remaining:    0.0s\n",
      "[CV] min_samples_split=8, max_features=10, bootstrap=False, max_depth=None, min_samples_leaf=5, criterion=entropy \n",
      "[CV]  min_samples_split=8, max_features=10, bootstrap=False, max_depth=None, min_samples_leaf=5, criterion=entropy, score=0.998655, total=12.2min\n",
      "[Parallel(n_jobs=1)]: Done  23 out of  23 | elapsed: 150.6min remaining:    0.0s\n",
      "[CV] min_samples_split=8, max_features=10, bootstrap=False, max_depth=None, min_samples_leaf=5, criterion=entropy \n",
      "[CV]  min_samples_split=8, max_features=10, bootstrap=False, max_depth=None, min_samples_leaf=5, criterion=entropy, score=0.998613, total=12.0min\n",
      "[Parallel(n_jobs=1)]: Done  24 out of  24 | elapsed: 162.7min remaining:    0.0s\n",
      "[CV] min_samples_split=8, max_features=5, bootstrap=False, max_depth=3, min_samples_leaf=1, criterion=entropy \n",
      "[CV]  min_samples_split=8, max_features=5, bootstrap=False, max_depth=3, min_samples_leaf=1, criterion=entropy, score=0.912151, total= 1.7min\n",
      "[Parallel(n_jobs=1)]: Done  25 out of  25 | elapsed: 164.5min remaining:    0.0s\n",
      "[CV] min_samples_split=8, max_features=5, bootstrap=False, max_depth=3, min_samples_leaf=1, criterion=entropy \n",
      "[CV]  min_samples_split=8, max_features=5, bootstrap=False, max_depth=3, min_samples_leaf=1, criterion=entropy, score=0.924197, total= 1.7min\n",
      "[Parallel(n_jobs=1)]: Done  26 out of  26 | elapsed: 166.3min remaining:    0.0s\n",
      "[CV] min_samples_split=8, max_features=5, bootstrap=False, max_depth=3, min_samples_leaf=1, criterion=entropy \n",
      "[CV]  min_samples_split=8, max_features=5, bootstrap=False, max_depth=3, min_samples_leaf=1, criterion=entropy, score=0.898975, total= 1.7min\n",
      "[Parallel(n_jobs=1)]: Done  27 out of  27 | elapsed: 168.1min remaining:    0.0s\n",
      "[CV] min_samples_split=10, max_features=8, bootstrap=False, max_depth=None, min_samples_leaf=5, criterion=gini \n",
      "[CV]  min_samples_split=10, max_features=8, bootstrap=False, max_depth=None, min_samples_leaf=5, criterion=gini, score=0.994767, total= 6.3min\n",
      "[Parallel(n_jobs=1)]: Done  28 out of  28 | elapsed: 174.6min remaining:    0.0s\n",
      "[CV] min_samples_split=10, max_features=8, bootstrap=False, max_depth=None, min_samples_leaf=5, criterion=gini \n",
      "[CV]  min_samples_split=10, max_features=8, bootstrap=False, max_depth=None, min_samples_leaf=5, criterion=gini, score=0.998037, total= 6.6min\n",
      "[Parallel(n_jobs=1)]: Done  29 out of  29 | elapsed: 181.3min remaining:    0.0s\n",
      "[CV] min_samples_split=10, max_features=8, bootstrap=False, max_depth=None, min_samples_leaf=5, criterion=gini \n",
      "[CV]  min_samples_split=10, max_features=8, bootstrap=False, max_depth=None, min_samples_leaf=5, criterion=gini, score=0.998054, total= 9.7min\n",
      "[Parallel(n_jobs=1)]: Done  30 out of  30 | elapsed: 191.2min remaining:    0.0s\n",
      "[CV] min_samples_split=4, max_features=14, bootstrap=True, max_depth=3, min_samples_leaf=1, criterion=entropy \n",
      "[CV]  min_samples_split=4, max_features=14, bootstrap=True, max_depth=3, min_samples_leaf=1, criterion=entropy, score=0.941572, total= 3.3min\n",
      "[Parallel(n_jobs=1)]: Done  31 out of  31 | elapsed: 194.6min remaining:    0.0s\n",
      "[CV] min_samples_split=4, max_features=14, bootstrap=True, max_depth=3, min_samples_leaf=1, criterion=entropy \n",
      "[CV]  min_samples_split=4, max_features=14, bootstrap=True, max_depth=3, min_samples_leaf=1, criterion=entropy, score=0.939792, total= 2.5min\n",
      "[Parallel(n_jobs=1)]: Done  32 out of  32 | elapsed: 197.2min remaining:    0.0s\n",
      "[CV] min_samples_split=4, max_features=14, bootstrap=True, max_depth=3, min_samples_leaf=1, criterion=entropy \n",
      "[CV]  min_samples_split=4, max_features=14, bootstrap=True, max_depth=3, min_samples_leaf=1, criterion=entropy, score=0.937639, total= 2.3min\n",
      "[Parallel(n_jobs=1)]: Done  33 out of  33 | elapsed: 199.6min remaining:    0.0s\n",
      "[CV] min_samples_split=2, max_features=19, bootstrap=True, max_depth=3, min_samples_leaf=1, criterion=gini \n",
      "[CV]  min_samples_split=2, max_features=19, bootstrap=True, max_depth=3, min_samples_leaf=1, criterion=gini, score=0.941461, total= 2.5min\n",
      "[Parallel(n_jobs=1)]: Done  34 out of  34 | elapsed: 202.2min remaining:    0.0s\n",
      "[CV] min_samples_split=2, max_features=19, bootstrap=True, max_depth=3, min_samples_leaf=1, criterion=gini \n",
      "[CV]  min_samples_split=2, max_features=19, bootstrap=True, max_depth=3, min_samples_leaf=1, criterion=gini, score=0.939720, total= 2.5min\n",
      "[Parallel(n_jobs=1)]: Done  35 out of  35 | elapsed: 204.8min remaining:    0.0s\n",
      "[CV] min_samples_split=2, max_features=19, bootstrap=True, max_depth=3, min_samples_leaf=1, criterion=gini \n",
      "[CV]  min_samples_split=2, max_features=19, bootstrap=True, max_depth=3, min_samples_leaf=1, criterion=gini, score=0.937594, total= 2.5min\n",
      "[Parallel(n_jobs=1)]: Done  36 out of  36 | elapsed: 207.3min remaining:    0.0s\n",
      "[CV] min_samples_split=9, max_features=14, bootstrap=True, max_depth=None, min_samples_leaf=7, criterion=entropy \n",
      "[CV]  min_samples_split=9, max_features=14, bootstrap=True, max_depth=None, min_samples_leaf=7, criterion=entropy, score=0.994390, total= 6.9min\n",
      "[Parallel(n_jobs=1)]: Done  37 out of  37 | elapsed: 214.3min remaining:    0.0s\n",
      "[CV] min_samples_split=9, max_features=14, bootstrap=True, max_depth=None, min_samples_leaf=7, criterion=entropy \n",
      "[CV]  min_samples_split=9, max_features=14, bootstrap=True, max_depth=None, min_samples_leaf=7, criterion=entropy, score=0.997148, total= 7.0min\n",
      "[Parallel(n_jobs=1)]: Done  38 out of  38 | elapsed: 221.4min remaining:    0.0s\n",
      "[CV] min_samples_split=9, max_features=14, bootstrap=True, max_depth=None, min_samples_leaf=7, criterion=entropy \n",
      "[CV]  min_samples_split=9, max_features=14, bootstrap=True, max_depth=None, min_samples_leaf=7, criterion=entropy, score=0.997033, total= 6.8min\n",
      "[Parallel(n_jobs=1)]: Done  39 out of  39 | elapsed: 228.3min remaining:    0.0s\n",
      "[CV] min_samples_split=2, max_features=14, bootstrap=False, max_depth=None, min_samples_leaf=1, criterion=entropy \n",
      "[CV]  min_samples_split=2, max_features=14, bootstrap=False, max_depth=None, min_samples_leaf=1, criterion=entropy, score=0.994796, total= 9.7min\n",
      "[Parallel(n_jobs=1)]: Done  40 out of  40 | elapsed: 238.2min remaining:    0.0s\n",
      "[CV] min_samples_split=2, max_features=14, bootstrap=False, max_depth=None, min_samples_leaf=1, criterion=entropy \n",
      "[CV]  min_samples_split=2, max_features=14, bootstrap=False, max_depth=None, min_samples_leaf=1, criterion=entropy, score=0.999176, total=10.2min\n",
      "[Parallel(n_jobs=1)]: Done  41 out of  41 | elapsed: 248.4min remaining:    0.0s\n",
      "[CV] min_samples_split=2, max_features=14, bootstrap=False, max_depth=None, min_samples_leaf=1, criterion=entropy \n",
      "[CV]  min_samples_split=2, max_features=14, bootstrap=False, max_depth=None, min_samples_leaf=1, criterion=entropy, score=0.999150, total=10.3min\n",
      "[Parallel(n_jobs=1)]: Done  42 out of  42 | elapsed: 258.9min remaining:    0.0s\n",
      "[CV] min_samples_split=7, max_features=15, bootstrap=True, max_depth=3, min_samples_leaf=7, criterion=gini \n",
      "[CV]  min_samples_split=7, max_features=15, bootstrap=True, max_depth=3, min_samples_leaf=7, criterion=gini, score=0.941348, total= 2.0min\n",
      "[Parallel(n_jobs=1)]: Done  43 out of  43 | elapsed: 260.9min remaining:    0.0s\n",
      "[CV] min_samples_split=7, max_features=15, bootstrap=True, max_depth=3, min_samples_leaf=7, criterion=gini \n",
      "[CV]  min_samples_split=7, max_features=15, bootstrap=True, max_depth=3, min_samples_leaf=7, criterion=gini, score=0.939817, total= 2.0min\n",
      "[Parallel(n_jobs=1)]: Done  44 out of  44 | elapsed: 262.9min remaining:    0.0s\n",
      "[CV] min_samples_split=7, max_features=15, bootstrap=True, max_depth=3, min_samples_leaf=7, criterion=gini \n",
      "[CV]  min_samples_split=7, max_features=15, bootstrap=True, max_depth=3, min_samples_leaf=7, criterion=gini, score=0.937661, total= 2.0min\n",
      "[Parallel(n_jobs=1)]: Done  45 out of  45 | elapsed: 264.9min remaining:    0.0s\n",
      "[CV] min_samples_split=10, max_features=12, bootstrap=False, max_depth=None, min_samples_leaf=2, criterion=entropy \n",
      "[CV]  min_samples_split=10, max_features=12, bootstrap=False, max_depth=None, min_samples_leaf=2, criterion=entropy, score=0.994913, total= 8.6min\n",
      "[Parallel(n_jobs=1)]: Done  46 out of  46 | elapsed: 273.7min remaining:    0.0s\n",
      "[CV] min_samples_split=10, max_features=12, bootstrap=False, max_depth=None, min_samples_leaf=2, criterion=entropy \n",
      "[CV]  min_samples_split=10, max_features=12, bootstrap=False, max_depth=None, min_samples_leaf=2, criterion=entropy, score=0.999069, total= 8.8min\n",
      "[Parallel(n_jobs=1)]: Done  47 out of  47 | elapsed: 282.6min remaining:    0.0s\n",
      "[CV] min_samples_split=10, max_features=12, bootstrap=False, max_depth=None, min_samples_leaf=2, criterion=entropy \n",
      "[CV]  min_samples_split=10, max_features=12, bootstrap=False, max_depth=None, min_samples_leaf=2, criterion=entropy, score=0.999035, total= 9.2min\n",
      "[Parallel(n_jobs=1)]: Done  48 out of  48 | elapsed: 291.9min remaining:    0.0s\n",
      "[CV] min_samples_split=2, max_features=18, bootstrap=True, max_depth=3, min_samples_leaf=2, criterion=gini \n",
      "[CV]  min_samples_split=2, max_features=18, bootstrap=True, max_depth=3, min_samples_leaf=2, criterion=gini, score=0.941358, total= 2.4min\n",
      "[Parallel(n_jobs=1)]: Done  49 out of  49 | elapsed: 294.4min remaining:    0.0s\n",
      "[CV] min_samples_split=2, max_features=18, bootstrap=True, max_depth=3, min_samples_leaf=2, criterion=gini \n",
      "[CV]  min_samples_split=2, max_features=18, bootstrap=True, max_depth=3, min_samples_leaf=2, criterion=gini, score=0.939729, total= 2.4min\n",
      "[Parallel(n_jobs=1)]: Done  50 out of  50 | elapsed: 296.9min remaining:    0.0s\n",
      "[CV] min_samples_split=2, max_features=18, bootstrap=True, max_depth=3, min_samples_leaf=2, criterion=gini \n",
      "[CV]  min_samples_split=2, max_features=18, bootstrap=True, max_depth=3, min_samples_leaf=2, criterion=gini, score=0.937594, total= 2.5min\n",
      "[Parallel(n_jobs=1)]: Done  51 out of  51 | elapsed: 299.4min remaining:    0.0s\n",
      "[CV] min_samples_split=9, max_features=13, bootstrap=False, max_depth=3, min_samples_leaf=8, criterion=gini \n",
      "[CV]  min_samples_split=9, max_features=13, bootstrap=False, max_depth=3, min_samples_leaf=8, criterion=gini, score=0.941374, total= 2.1min\n",
      "[Parallel(n_jobs=1)]: Done  52 out of  52 | elapsed: 301.6min remaining:    0.0s\n",
      "[CV] min_samples_split=9, max_features=13, bootstrap=False, max_depth=3, min_samples_leaf=8, criterion=gini \n",
      "[CV]  min_samples_split=9, max_features=13, bootstrap=False, max_depth=3, min_samples_leaf=8, criterion=gini, score=0.940292, total= 2.1min\n",
      "[Parallel(n_jobs=1)]: Done  53 out of  53 | elapsed: 303.8min remaining:    0.0s\n",
      "[CV] min_samples_split=9, max_features=13, bootstrap=False, max_depth=3, min_samples_leaf=8, criterion=gini \n",
      "[CV]  min_samples_split=9, max_features=13, bootstrap=False, max_depth=3, min_samples_leaf=8, criterion=gini, score=0.937377, total= 2.1min\n",
      "[Parallel(n_jobs=1)]: Done  54 out of  54 | elapsed: 306.0min remaining:    0.0s\n",
      "[CV] min_samples_split=2, max_features=6, bootstrap=False, max_depth=3, min_samples_leaf=7, criterion=gini \n",
      "[CV]  min_samples_split=2, max_features=6, bootstrap=False, max_depth=3, min_samples_leaf=7, criterion=gini, score=0.920998, total= 1.1min\n",
      "[Parallel(n_jobs=1)]: Done  55 out of  55 | elapsed: 307.1min remaining:    0.0s\n",
      "[CV] min_samples_split=2, max_features=6, bootstrap=False, max_depth=3, min_samples_leaf=7, criterion=gini \n",
      "[CV]  min_samples_split=2, max_features=6, bootstrap=False, max_depth=3, min_samples_leaf=7, criterion=gini, score=0.913790, total= 1.1min\n",
      "[Parallel(n_jobs=1)]: Done  56 out of  56 | elapsed: 308.3min remaining:    0.0s\n",
      "[CV] min_samples_split=2, max_features=6, bootstrap=False, max_depth=3, min_samples_leaf=7, criterion=gini \n",
      "[CV]  min_samples_split=2, max_features=6, bootstrap=False, max_depth=3, min_samples_leaf=7, criterion=gini, score=0.917400, total= 1.1min\n",
      "[Parallel(n_jobs=1)]: Done  57 out of  57 | elapsed: 309.4min remaining:    0.0s\n",
      "[CV] min_samples_split=3, max_features=7, bootstrap=True, max_depth=None, min_samples_leaf=1, criterion=entropy \n",
      "[CV]  min_samples_split=3, max_features=7, bootstrap=True, max_depth=None, min_samples_leaf=1, criterion=entropy, score=0.995232, total= 4.0min\n",
      "[Parallel(n_jobs=1)]: Done  58 out of  58 | elapsed: 313.5min remaining:    0.0s\n",
      "[CV] min_samples_split=3, max_features=7, bootstrap=True, max_depth=None, min_samples_leaf=1, criterion=entropy \n",
      "[CV]  min_samples_split=3, max_features=7, bootstrap=True, max_depth=None, min_samples_leaf=1, criterion=entropy, score=0.998608, total= 4.1min\n",
      "[Parallel(n_jobs=1)]: Done  59 out of  59 | elapsed: 317.7min remaining:    0.0s\n",
      "[CV] min_samples_split=3, max_features=7, bootstrap=True, max_depth=None, min_samples_leaf=1, criterion=entropy \n",
      "[CV]  min_samples_split=3, max_features=7, bootstrap=True, max_depth=None, min_samples_leaf=1, criterion=entropy, score=0.998523, total= 3.6min\n",
      "[Parallel(n_jobs=1)]: Done  60 out of  60 | elapsed: 321.4min remaining:    0.0s\n",
      "[Parallel(n_jobs=1)]: Done  60 out of  60 | elapsed: 321.4min finished\n",
      "RandomizedSearchCV took 20131.59 seconds for 20 candidates parameter settings.\n",
      "Model with rank: 1\n",
      "Mean validation score: 0.998 (std: 0.002)\n",
      "Parameters: {'min_samples_split': 2, 'max_features': 14, 'bootstrap': False, 'max_depth': None, 'min_samples_leaf': 1, 'criterion': 'entropy'}\n",
      "\n",
      "Model with rank: 2\n",
      "Mean validation score: 0.998 (std: 0.002)\n",
      "Parameters: {'min_samples_split': 10, 'max_features': 12, 'bootstrap': False, 'max_depth': None, 'min_samples_leaf': 2, 'criterion': 'entropy'}\n",
      "\n",
      "Model with rank: 3\n",
      "Mean validation score: 0.997 (std: 0.002)\n",
      "Parameters: {'min_samples_split': 3, 'max_features': 7, 'bootstrap': True, 'max_depth': None, 'min_samples_leaf': 1, 'criterion': 'entropy'}\n",
      "\n"
     ]
    }
   ],
   "source": [
    "#search 50 times\n",
    "seed = np.random.seed(1234)\n",
    "n_iter_search = 20\n",
    "random_search = RandomizedSearchCV(rf, param_distributions=param_dist,\n",
    "                                   n_iter=n_iter_search,scoring ='f1',verbose=100)\n",
    "\n",
    "start = time()\n",
    "random_search.fit(X_res,y_res )\n",
    "print(\"RandomizedSearchCV took %.2f seconds for %d candidates\"\n",
    "      \" parameter settings.\" % ((time() - start), n_iter_search))\n",
    "\n",
    "report(random_search.cv_results_)"
   ]
  },
  {
   "cell_type": "code",
   "execution_count": 9,
   "metadata": {
    "collapsed": true
   },
   "outputs": [],
   "source": [
    "#RandomizedSearchCV took 20131.59 seconds for 20 candidates parameter settings.\n",
    "#Model with rank: 1\n",
    "#Mean validation score: 0.998 (std: 0.002)\n",
    "#Parameters: {'min_samples_split': 2, 'max_features': 14, 'bootstrap': False, 'max_depth': None, \n",
    "#'min_samples_leaf': 1, 'criterion': 'entropy'}\n",
    "\n",
    "rf=RandomForestClassifier(n_estimators=500)\n",
    "rf=RandomForestClassifier(criterion='entropy', max_depth=None, min_samples_split=2, \n",
    "                       min_samples_leaf=1,max_features=14,bootstrap=False,random_state=1234)\n"
   ]
  },
  {
   "cell_type": "code",
   "execution_count": 10,
   "metadata": {
    "collapsed": false
   },
   "outputs": [
    {
     "data": {
      "text/plain": [
       "0    0.0\n",
       "Name: 6679, dtype: float64"
      ]
     },
     "execution_count": 10,
     "metadata": {},
     "output_type": "execute_result"
    }
   ],
   "source": [
    "#fit the model\n",
    "rf.fit(X_res,y_res)\n",
    "\n",
    "predicted_probs = rf.predict_proba(train_std)\n",
    "a= predicted_probs[:,1]\n",
    "np.mean(a)\n",
    "b= predicted_probs[:,0]\n",
    "np.mean(b)\n",
    "a1=sorted(a,reverse=True)\n",
    "a2=pd.DataFrame(a1)\n",
    "a2.iloc[train_PERT.value_counts()[\"Y\"]*4-1,:]"
   ]
  },
  {
   "cell_type": "code",
   "execution_count": 11,
   "metadata": {
    "collapsed": false
   },
   "outputs": [],
   "source": [
    "#Synchronize with Jeff's Scoring Functions\n",
    "from sklearn.metrics import accuracy_score, precision_score, recall_score, \\\n",
    "    f1_score, roc_auc_score, average_precision_score, brier_score_loss, \\\n",
    "    fbeta_score, confusion_matrix\n",
    "from creonmetrics import labeled_metric, assumed_metric, pu_score, \\\n",
    "    pr_one_unlabeled, brier_score_partial_loss\n",
    "\n",
    "y_true = test_Ycat.values\n",
    "y_prob = rf.predict_proba(test_std)\n",
    "\n",
    "y_pred=np.array([1 if x >= 0.0 else 0 for x in y_prob[:,1]])"
   ]
  },
  {
   "cell_type": "code",
   "execution_count": 12,
   "metadata": {
    "collapsed": false
   },
   "outputs": [
    {
     "name": "stdout",
     "output_type": "stream",
     "text": [
      "assumed_brier :  0.00536181075562\n",
      "assumed_brier_neg :  0.00212284261645\n",
      "assumed_f1 :  0.00944014092459\n",
      "assumed_f1beta10 :  0.324903801755\n",
      "confusion_matrix_lab :  [[  0 216]\n",
      " [  0 418]]\n",
      "confusion_matrix_un :  [[    0 87722]\n",
      " [    0   418]]\n",
      "labeled_acc :  0.659305993691\n",
      "labeled_avg_prec :  0.829652996845\n",
      "labeled_brier :  0.454842271293\n",
      "labeled_brier_neg :  0.00925925925926\n",
      "labeled_brier_pos :  0.68509569378\n",
      "labeled_f1 :  0.794676806084\n",
      "labeled_prec :  0.659305993691\n",
      "labeled_recall :  1.0\n",
      "labeled_roc_auc :  0.5\n",
      "pr_one_unlabeled :  1.0\n",
      "pu_score :  1.0\n"
     ]
    }
   ],
   "source": [
    "import collections\n",
    "data = {'labeled_acc' : labeled_metric(y_true, y_pred, accuracy_score),\n",
    "        'labeled_prec' : labeled_metric(y_true, y_pred, precision_score),\n",
    "        'labeled_recall' : labeled_metric(y_true, y_pred, recall_score),\n",
    "        'labeled_f1' : labeled_metric(y_true, y_pred, f1_score),\n",
    "        'labeled_roc_auc' : labeled_metric(y_true, y_pred, roc_auc_score),\n",
    "        'labeled_avg_prec' : labeled_metric(y_true, y_pred, average_precision_score),\n",
    "        'labeled_brier' : labeled_metric(y_true, y_prob, brier_score_loss),\n",
    "        'labeled_brier_pos' : labeled_metric(y_true, y_prob, brier_score_partial_loss, label=1),\n",
    "        'labeled_brier_neg' : labeled_metric(y_true, y_prob, brier_score_partial_loss, label=0),\n",
    "        'confusion_matrix_lab' : labeled_metric(y_true, y_pred, confusion_matrix),\n",
    "        'pr_one_unlabeled' : pr_one_unlabeled(y_true, y_pred),\n",
    "        'assumed_brier' : assumed_metric(y_true, y_prob, brier_score_loss),\n",
    "        'assumed_brier_neg' : assumed_metric(y_true, y_prob, brier_score_partial_loss, label=0),\n",
    "        'assumed_f1' : assumed_metric(y_true, y_pred, f1_score),\n",
    "        'assumed_f1beta10' : assumed_metric(y_true, y_pred, fbeta_score, beta=10),\n",
    "        'confusion_matrix_un' : assumed_metric(y_true, y_pred, confusion_matrix),\n",
    "        'pu_score' : pu_score(y_true, y_pred),\n",
    "        }\n",
    "data_s = collections.OrderedDict(sorted(data.items()))\n",
    "for k, v in data_s.items():\n",
    "    print(k, ': ', v)\n"
   ]
  },
  {
   "cell_type": "code",
   "execution_count": null,
   "metadata": {
    "collapsed": true
   },
   "outputs": [],
   "source": []
  }
 ],
 "metadata": {
  "anaconda-cloud": {},
  "kernelspec": {
   "display_name": "Python [conda root]",
   "language": "python",
   "name": "conda-root-py"
  },
  "language_info": {
   "codemirror_mode": {
    "name": "ipython",
    "version": 3
   },
   "file_extension": ".py",
   "mimetype": "text/x-python",
   "name": "python",
   "nbconvert_exporter": "python",
   "pygments_lexer": "ipython3",
   "version": "3.5.2"
  }
 },
 "nbformat": 4,
 "nbformat_minor": 1
}
