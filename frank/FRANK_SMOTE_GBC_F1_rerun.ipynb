{
 "cells": [
  {
   "cell_type": "code",
   "execution_count": 1,
   "metadata": {
    "collapsed": true
   },
   "outputs": [],
   "source": [
    "import scipy as sp\n",
    "from sklearn.svm import SVC\n",
    "import pandas as pd\n",
    "import numpy as np\n",
    "from scipy.stats import randint as sp_randint\n",
    "from sklearn import svm\n",
    "from sklearn.metrics import confusion_matrix\n",
    "from sklearn.metrics import roc_auc_score\n",
    "from sklearn.metrics import classification_report\n",
    "from sklearn.metrics import brier_score_loss\n",
    "from sklearn.model_selection import RandomizedSearchCV\n",
    "from time import time\n",
    "from sklearn.preprocessing import MinMaxScaler\n",
    "from sklearn.linear_model import SGDClassifier\n",
    "from sklearn.ensemble import RandomForestClassifier\n",
    "from sklearn.model_selection import cross_val_score\n",
    "from sklearn.ensemble import GradientBoostingClassifier"
   ]
  },
  {
   "cell_type": "code",
   "execution_count": 2,
   "metadata": {
    "collapsed": true
   },
   "outputs": [],
   "source": [
    "#NEED INSTALL IMBLANCE PACKAGE\n",
    "#code: conda install -c glemaitre imbalanced-learn\n",
    "from imblearn.over_sampling import SMOTE\n",
    "#read tables: After variable selection, choosing 50 variables by baseline RF importance\n",
    "train=pd.read_table('training_self1_0127.txt')\n",
    "test=pd.read_table('testing_self1_0127.txt')"
   ]
  },
  {
   "cell_type": "code",
   "execution_count": 3,
   "metadata": {
    "collapsed": true
   },
   "outputs": [],
   "source": [
    "train_Ycat=train['Ycat']\n",
    "train_PERT=train['PERT_Y']\n",
    "train=train.drop('Ycat',1)\n",
    "train=train.drop('MemberID',1)\n",
    "train=train.drop('PERT_Y',1)\n",
    "\n",
    "test_Ycat=test['Ycat']\n",
    "test_PERT=test['PERT_Y']\n",
    "test=test.drop('Ycat',1)\n",
    "test=test.drop('PERT_Y',1)\n",
    "test=test.drop('MemberID',1)\n",
    "\n",
    "scaler = MinMaxScaler()\n",
    "train = scaler.fit_transform(train)\n",
    "test =  scaler.transform(test)\n",
    "\n",
    "train_std=pd.DataFrame(train)\n",
    "test_std=pd.DataFrame(test)\n",
    "\n",
    "res=[1 if x =='Y' else 0 for x in train_PERT]"
   ]
  },
  {
   "cell_type": "code",
   "execution_count": 4,
   "metadata": {
    "collapsed": true
   },
   "outputs": [],
   "source": [
    "sm = SMOTE(random_state=1234,ratio=.2)\n",
    "X_res, y_res = sm.fit_sample(train_std, res)"
   ]
  },
  {
   "cell_type": "code",
   "execution_count": 5,
   "metadata": {
    "collapsed": true
   },
   "outputs": [],
   "source": [
    "def report(results, n_top=3):\n",
    "    for i in range(1, n_top + 1):\n",
    "        candidates = np.flatnonzero(results['rank_test_score'] == i)\n",
    "        for candidate in candidates:\n",
    "            print(\"Model with rank: {0}\".format(i))\n",
    "            print(\"Mean validation score: {0:.3f} (std: {1:.3f})\".format(\n",
    "                  results['mean_test_score'][candidate],\n",
    "                  results['std_test_score'][candidate]))\n",
    "            print(\"Parameters: {0}\".format(results['params'][candidate]))\n",
    "            print(\"\")\n",
    "            "
   ]
  },
  {
   "cell_type": "code",
   "execution_count": 6,
   "metadata": {
    "collapsed": true
   },
   "outputs": [],
   "source": [
    "#hyper parameter options, could also apply to other model. \n",
    "param_dist = {\"loss\": ['deviance', 'exponential'],\n",
    "              \"learning_rate\": sp.stats.expon(scale=.1),\n",
    "              \"min_samples_split\": sp_randint(2, 11),\n",
    "              \"min_samples_leaf\": sp_randint(1, 11),\n",
    "              \"max_depth\": sp_randint(1, 5),\n",
    "              \"max_features\": ['auto', 'sqrt','log2']}\n"
   ]
  },
  {
   "cell_type": "markdown",
   "metadata": {},
   "source": [
    "# Optimize Hyper-parameters by F1 Score"
   ]
  },
  {
   "cell_type": "code",
   "execution_count": 7,
   "metadata": {
    "collapsed": true
   },
   "outputs": [],
   "source": [
    "gbc=GradientBoostingClassifier(random_state=1234)"
   ]
  },
  {
   "cell_type": "code",
   "execution_count": 8,
   "metadata": {
    "collapsed": false
   },
   "outputs": [
    {
     "name": "stdout",
     "output_type": "stream",
     "text": [
      "Fitting 3 folds for each of 20 candidates, totalling 60 fits\n",
      "[CV] max_features=auto, learning_rate=0.0212598657618, min_samples_leaf=5, loss=deviance, min_samples_split=10, max_depth=2 \n",
      "[CV]  max_features=auto, learning_rate=0.0212598657618, min_samples_leaf=5, loss=deviance, min_samples_split=10, max_depth=2, score=0.861600, total= 1.4min\n",
      "[Parallel(n_jobs=1)]: Done   1 out of   1 | elapsed:  1.4min remaining:    0.0s\n",
      "[CV] max_features=auto, learning_rate=0.0212598657618, min_samples_leaf=5, loss=deviance, min_samples_split=10, max_depth=2 \n",
      "[CV]  max_features=auto, learning_rate=0.0212598657618, min_samples_leaf=5, loss=deviance, min_samples_split=10, max_depth=2, score=0.873249, total= 2.1min\n",
      "[Parallel(n_jobs=1)]: Done   2 out of   2 | elapsed:  3.5min remaining:    0.0s\n",
      "[CV] max_features=auto, learning_rate=0.0212598657618, min_samples_leaf=5, loss=deviance, min_samples_split=10, max_depth=2 \n",
      "[CV]  max_features=auto, learning_rate=0.0212598657618, min_samples_leaf=5, loss=deviance, min_samples_split=10, max_depth=2, score=0.868772, total= 2.1min\n",
      "[Parallel(n_jobs=1)]: Done   3 out of   3 | elapsed:  5.7min remaining:    0.0s\n",
      "[CV] max_features=sqrt, learning_rate=0.147560620993, min_samples_leaf=7, loss=exponential, min_samples_split=10, max_depth=4 \n",
      "[CV]  max_features=sqrt, learning_rate=0.147560620993, min_samples_leaf=7, loss=exponential, min_samples_split=10, max_depth=4, score=0.941683, total=  57.3s\n",
      "[Parallel(n_jobs=1)]: Done   4 out of   4 | elapsed:  6.7min remaining:    0.0s\n",
      "[CV] max_features=sqrt, learning_rate=0.147560620993, min_samples_leaf=7, loss=exponential, min_samples_split=10, max_depth=4 \n",
      "[CV]  max_features=sqrt, learning_rate=0.147560620993, min_samples_leaf=7, loss=exponential, min_samples_split=10, max_depth=4, score=0.966342, total=  56.6s\n",
      "[Parallel(n_jobs=1)]: Done   5 out of   5 | elapsed:  7.7min remaining:    0.0s\n",
      "[CV] max_features=sqrt, learning_rate=0.147560620993, min_samples_leaf=7, loss=exponential, min_samples_split=10, max_depth=4 \n",
      "[CV]  max_features=sqrt, learning_rate=0.147560620993, min_samples_leaf=7, loss=exponential, min_samples_split=10, max_depth=4, score=0.963914, total=  58.2s\n",
      "[Parallel(n_jobs=1)]: Done   6 out of   6 | elapsed:  8.6min remaining:    0.0s\n",
      "[CV] max_features=sqrt, learning_rate=0.0695139414788, min_samples_leaf=7, loss=exponential, min_samples_split=4, max_depth=1 \n",
      "[CV]  max_features=sqrt, learning_rate=0.0695139414788, min_samples_leaf=7, loss=exponential, min_samples_split=4, max_depth=1, score=0.737543, total=  17.5s\n",
      "[Parallel(n_jobs=1)]: Done   7 out of   7 | elapsed:  9.0min remaining:    0.0s\n",
      "[CV] max_features=sqrt, learning_rate=0.0695139414788, min_samples_leaf=7, loss=exponential, min_samples_split=4, max_depth=1 \n",
      "[CV]  max_features=sqrt, learning_rate=0.0695139414788, min_samples_leaf=7, loss=exponential, min_samples_split=4, max_depth=1, score=0.755473, total=  17.0s\n",
      "[Parallel(n_jobs=1)]: Done   8 out of   8 | elapsed:  9.3min remaining:    0.0s\n",
      "[CV] max_features=sqrt, learning_rate=0.0695139414788, min_samples_leaf=7, loss=exponential, min_samples_split=4, max_depth=1 \n",
      "[CV]  max_features=sqrt, learning_rate=0.0695139414788, min_samples_leaf=7, loss=exponential, min_samples_split=4, max_depth=1, score=0.755400, total=  16.4s\n",
      "[Parallel(n_jobs=1)]: Done   9 out of   9 | elapsed:  9.5min remaining:    0.0s\n",
      "[CV] max_features=log2, learning_rate=0.0699332601511, min_samples_leaf=7, loss=deviance, min_samples_split=5, max_depth=2 \n",
      "[CV]  max_features=log2, learning_rate=0.0699332601511, min_samples_leaf=7, loss=deviance, min_samples_split=5, max_depth=2, score=0.841861, total=  22.7s\n",
      "[Parallel(n_jobs=1)]: Done  10 out of  10 | elapsed:  9.9min remaining:    0.0s\n",
      "[CV] max_features=log2, learning_rate=0.0699332601511, min_samples_leaf=7, loss=deviance, min_samples_split=5, max_depth=2 \n",
      "[CV]  max_features=log2, learning_rate=0.0699332601511, min_samples_leaf=7, loss=deviance, min_samples_split=5, max_depth=2, score=0.864717, total=  22.2s\n",
      "[Parallel(n_jobs=1)]: Done  11 out of  11 | elapsed: 10.3min remaining:    0.0s\n",
      "[CV] max_features=log2, learning_rate=0.0699332601511, min_samples_leaf=7, loss=deviance, min_samples_split=5, max_depth=2 \n",
      "[CV]  max_features=log2, learning_rate=0.0699332601511, min_samples_leaf=7, loss=deviance, min_samples_split=5, max_depth=2, score=0.857188, total=  22.6s\n",
      "[Parallel(n_jobs=1)]: Done  12 out of  12 | elapsed: 10.7min remaining:    0.0s\n",
      "[CV] max_features=auto, learning_rate=0.0453950743296, min_samples_leaf=4, loss=deviance, min_samples_split=4, max_depth=2 \n",
      "[CV]  max_features=auto, learning_rate=0.0453950743296, min_samples_leaf=4, loss=deviance, min_samples_split=4, max_depth=2, score=0.886215, total= 2.1min\n",
      "[Parallel(n_jobs=1)]: Done  13 out of  13 | elapsed: 12.9min remaining:    0.0s\n",
      "[CV] max_features=auto, learning_rate=0.0453950743296, min_samples_leaf=4, loss=deviance, min_samples_split=4, max_depth=2 \n",
      "[CV]  max_features=auto, learning_rate=0.0453950743296, min_samples_leaf=4, loss=deviance, min_samples_split=4, max_depth=2, score=0.894113, total= 2.1min\n",
      "[Parallel(n_jobs=1)]: Done  14 out of  14 | elapsed: 15.0min remaining:    0.0s\n",
      "[CV] max_features=auto, learning_rate=0.0453950743296, min_samples_leaf=4, loss=deviance, min_samples_split=4, max_depth=2 \n",
      "[CV]  max_features=auto, learning_rate=0.0453950743296, min_samples_leaf=4, loss=deviance, min_samples_split=4, max_depth=2, score=0.890208, total= 2.1min\n",
      "[Parallel(n_jobs=1)]: Done  15 out of  15 | elapsed: 17.2min remaining:    0.0s\n",
      "[CV] max_features=log2, learning_rate=0.270515592331, min_samples_leaf=2, loss=exponential, min_samples_split=5, max_depth=4 \n",
      "[CV]  max_features=log2, learning_rate=0.270515592331, min_samples_leaf=2, loss=exponential, min_samples_split=5, max_depth=4, score=0.952776, total=  43.6s\n",
      "[Parallel(n_jobs=1)]: Done  16 out of  16 | elapsed: 17.9min remaining:    0.0s\n",
      "[CV] max_features=log2, learning_rate=0.270515592331, min_samples_leaf=2, loss=exponential, min_samples_split=5, max_depth=4 \n",
      "[CV]  max_features=log2, learning_rate=0.270515592331, min_samples_leaf=2, loss=exponential, min_samples_split=5, max_depth=4, score=0.980186, total=  43.8s\n",
      "[Parallel(n_jobs=1)]: Done  17 out of  17 | elapsed: 18.7min remaining:    0.0s\n",
      "[CV] max_features=log2, learning_rate=0.270515592331, min_samples_leaf=2, loss=exponential, min_samples_split=5, max_depth=4 \n",
      "[CV]  max_features=log2, learning_rate=0.270515592331, min_samples_leaf=2, loss=exponential, min_samples_split=5, max_depth=4, score=0.975210, total=  43.4s\n",
      "[Parallel(n_jobs=1)]: Done  18 out of  18 | elapsed: 19.4min remaining:    0.0s\n",
      "[CV] max_features=log2, learning_rate=0.0839558079377, min_samples_leaf=2, loss=deviance, min_samples_split=9, max_depth=4 \n",
      "[CV]  max_features=log2, learning_rate=0.0839558079377, min_samples_leaf=2, loss=deviance, min_samples_split=9, max_depth=4, score=0.923907, total=  44.1s\n",
      "[Parallel(n_jobs=1)]: Done  19 out of  19 | elapsed: 20.2min remaining:    0.0s\n",
      "[CV] max_features=log2, learning_rate=0.0839558079377, min_samples_leaf=2, loss=deviance, min_samples_split=9, max_depth=4 \n",
      "[CV]  max_features=log2, learning_rate=0.0839558079377, min_samples_leaf=2, loss=deviance, min_samples_split=9, max_depth=4, score=0.947523, total=  45.2s\n",
      "[Parallel(n_jobs=1)]: Done  20 out of  20 | elapsed: 20.9min remaining:    0.0s\n",
      "[CV] max_features=log2, learning_rate=0.0839558079377, min_samples_leaf=2, loss=deviance, min_samples_split=9, max_depth=4 \n",
      "[CV]  max_features=log2, learning_rate=0.0839558079377, min_samples_leaf=2, loss=deviance, min_samples_split=9, max_depth=4, score=0.945071, total=  43.2s\n",
      "[Parallel(n_jobs=1)]: Done  21 out of  21 | elapsed: 21.7min remaining:    0.0s\n",
      "[CV] max_features=sqrt, learning_rate=0.0155212538667, min_samples_leaf=2, loss=deviance, min_samples_split=7, max_depth=1 \n",
      "[CV]  max_features=sqrt, learning_rate=0.0155212538667, min_samples_leaf=2, loss=deviance, min_samples_split=7, max_depth=1, score=0.339279, total=  16.6s\n",
      "[Parallel(n_jobs=1)]: Done  22 out of  22 | elapsed: 22.0min remaining:    0.0s\n",
      "[CV] max_features=sqrt, learning_rate=0.0155212538667, min_samples_leaf=2, loss=deviance, min_samples_split=7, max_depth=1 \n",
      "[CV]  max_features=sqrt, learning_rate=0.0155212538667, min_samples_leaf=2, loss=deviance, min_samples_split=7, max_depth=1, score=0.361582, total=  16.3s\n",
      "[Parallel(n_jobs=1)]: Done  23 out of  23 | elapsed: 22.3min remaining:    0.0s\n",
      "[CV] max_features=sqrt, learning_rate=0.0155212538667, min_samples_leaf=2, loss=deviance, min_samples_split=7, max_depth=1 \n",
      "[CV]  max_features=sqrt, learning_rate=0.0155212538667, min_samples_leaf=2, loss=deviance, min_samples_split=7, max_depth=1, score=0.361675, total=  16.6s\n",
      "[Parallel(n_jobs=1)]: Done  24 out of  24 | elapsed: 22.5min remaining:    0.0s\n",
      "[CV] max_features=auto, learning_rate=0.167947916439, min_samples_leaf=1, loss=deviance, min_samples_split=10, max_depth=2 \n",
      "[CV]  max_features=auto, learning_rate=0.167947916439, min_samples_leaf=1, loss=deviance, min_samples_split=10, max_depth=2, score=0.939488, total= 2.1min\n",
      "[Parallel(n_jobs=1)]: Done  25 out of  25 | elapsed: 24.7min remaining:    0.0s\n",
      "[CV] max_features=auto, learning_rate=0.167947916439, min_samples_leaf=1, loss=deviance, min_samples_split=10, max_depth=2 \n",
      "[CV]  max_features=auto, learning_rate=0.167947916439, min_samples_leaf=1, loss=deviance, min_samples_split=10, max_depth=2, score=0.961904, total= 2.2min\n",
      "[Parallel(n_jobs=1)]: Done  26 out of  26 | elapsed: 26.9min remaining:    0.0s\n",
      "[CV] max_features=auto, learning_rate=0.167947916439, min_samples_leaf=1, loss=deviance, min_samples_split=10, max_depth=2 \n",
      "[CV]  max_features=auto, learning_rate=0.167947916439, min_samples_leaf=1, loss=deviance, min_samples_split=10, max_depth=2, score=0.964483, total= 2.2min\n",
      "[Parallel(n_jobs=1)]: Done  27 out of  27 | elapsed: 29.2min remaining:    0.0s\n",
      "[CV] max_features=log2, learning_rate=0.00485132452566, min_samples_leaf=4, loss=deviance, min_samples_split=3, max_depth=1 \n"
     ]
    },
    {
     "name": "stderr",
     "output_type": "stream",
     "text": [
      "C:\\Users\\motoharu.dei\\AppData\\Local\\Continuum\\Anaconda3\\lib\\site-packages\\sklearn\\metrics\\classification.py:1113: UndefinedMetricWarning: F-score is ill-defined and being set to 0.0 due to no predicted samples.\n",
      "  'precision', 'predicted', average, warn_for)\n"
     ]
    },
    {
     "name": "stdout",
     "output_type": "stream",
     "text": [
      "[CV]  max_features=log2, learning_rate=0.00485132452566, min_samples_leaf=4, loss=deviance, min_samples_split=3, max_depth=1, score=0.000000, total=  14.7s\n",
      "[Parallel(n_jobs=1)]: Done  28 out of  28 | elapsed: 29.4min remaining:    0.0s\n",
      "[CV] max_features=log2, learning_rate=0.00485132452566, min_samples_leaf=4, loss=deviance, min_samples_split=3, max_depth=1 \n"
     ]
    },
    {
     "name": "stderr",
     "output_type": "stream",
     "text": [
      "C:\\Users\\motoharu.dei\\AppData\\Local\\Continuum\\Anaconda3\\lib\\site-packages\\sklearn\\metrics\\classification.py:1113: UndefinedMetricWarning: F-score is ill-defined and being set to 0.0 due to no predicted samples.\n",
      "  'precision', 'predicted', average, warn_for)\n"
     ]
    },
    {
     "name": "stdout",
     "output_type": "stream",
     "text": [
      "[CV]  max_features=log2, learning_rate=0.00485132452566, min_samples_leaf=4, loss=deviance, min_samples_split=3, max_depth=1, score=0.000000, total=  15.3s\n",
      "[Parallel(n_jobs=1)]: Done  29 out of  29 | elapsed: 29.7min remaining:    0.0s\n",
      "[CV] max_features=log2, learning_rate=0.00485132452566, min_samples_leaf=4, loss=deviance, min_samples_split=3, max_depth=1 \n"
     ]
    },
    {
     "name": "stderr",
     "output_type": "stream",
     "text": [
      "C:\\Users\\motoharu.dei\\AppData\\Local\\Continuum\\Anaconda3\\lib\\site-packages\\sklearn\\metrics\\classification.py:1113: UndefinedMetricWarning: F-score is ill-defined and being set to 0.0 due to no predicted samples.\n",
      "  'precision', 'predicted', average, warn_for)\n"
     ]
    },
    {
     "name": "stdout",
     "output_type": "stream",
     "text": [
      "[CV]  max_features=log2, learning_rate=0.00485132452566, min_samples_leaf=4, loss=deviance, min_samples_split=3, max_depth=1, score=0.000000, total=  14.8s\n",
      "[Parallel(n_jobs=1)]: Done  30 out of  30 | elapsed: 30.0min remaining:    0.0s\n",
      "[CV] max_features=sqrt, learning_rate=0.0824242867784, min_samples_leaf=7, loss=deviance, min_samples_split=9, max_depth=3 \n",
      "[CV]  max_features=sqrt, learning_rate=0.0824242867784, min_samples_leaf=7, loss=deviance, min_samples_split=9, max_depth=3, score=0.911232, total=  42.2s\n",
      "[Parallel(n_jobs=1)]: Done  31 out of  31 | elapsed: 30.7min remaining:    0.0s\n",
      "[CV] max_features=sqrt, learning_rate=0.0824242867784, min_samples_leaf=7, loss=deviance, min_samples_split=9, max_depth=3 \n",
      "[CV]  max_features=sqrt, learning_rate=0.0824242867784, min_samples_leaf=7, loss=deviance, min_samples_split=9, max_depth=3, score=0.933402, total=  41.0s\n",
      "[Parallel(n_jobs=1)]: Done  32 out of  32 | elapsed: 31.4min remaining:    0.0s\n",
      "[CV] max_features=sqrt, learning_rate=0.0824242867784, min_samples_leaf=7, loss=deviance, min_samples_split=9, max_depth=3 \n",
      "[CV]  max_features=sqrt, learning_rate=0.0824242867784, min_samples_leaf=7, loss=deviance, min_samples_split=9, max_depth=3, score=0.928804, total=  40.1s\n",
      "[Parallel(n_jobs=1)]: Done  33 out of  33 | elapsed: 32.1min remaining:    0.0s\n",
      "[CV] max_features=log2, learning_rate=0.0934438679765, min_samples_leaf=5, loss=exponential, min_samples_split=8, max_depth=3 \n",
      "[CV]  max_features=log2, learning_rate=0.0934438679765, min_samples_leaf=5, loss=exponential, min_samples_split=8, max_depth=3, score=0.901701, total=  33.0s\n",
      "[Parallel(n_jobs=1)]: Done  34 out of  34 | elapsed: 32.7min remaining:    0.0s\n",
      "[CV] max_features=log2, learning_rate=0.0934438679765, min_samples_leaf=5, loss=exponential, min_samples_split=8, max_depth=3 \n",
      "[CV]  max_features=log2, learning_rate=0.0934438679765, min_samples_leaf=5, loss=exponential, min_samples_split=8, max_depth=3, score=0.926291, total=  32.9s\n",
      "[Parallel(n_jobs=1)]: Done  35 out of  35 | elapsed: 33.2min remaining:    0.0s\n",
      "[CV] max_features=log2, learning_rate=0.0934438679765, min_samples_leaf=5, loss=exponential, min_samples_split=8, max_depth=3 \n",
      "[CV]  max_features=log2, learning_rate=0.0934438679765, min_samples_leaf=5, loss=exponential, min_samples_split=8, max_depth=3, score=0.921416, total=  32.7s\n",
      "[Parallel(n_jobs=1)]: Done  36 out of  36 | elapsed: 33.8min remaining:    0.0s\n",
      "[CV] max_features=auto, learning_rate=0.243181587717, min_samples_leaf=5, loss=deviance, min_samples_split=4, max_depth=3 \n",
      "[CV]  max_features=auto, learning_rate=0.243181587717, min_samples_leaf=5, loss=deviance, min_samples_split=4, max_depth=3, score=0.959332, total= 3.5min\n",
      "[Parallel(n_jobs=1)]: Done  37 out of  37 | elapsed: 37.3min remaining:    0.0s\n",
      "[CV] max_features=auto, learning_rate=0.243181587717, min_samples_leaf=5, loss=deviance, min_samples_split=4, max_depth=3 \n",
      "[CV]  max_features=auto, learning_rate=0.243181587717, min_samples_leaf=5, loss=deviance, min_samples_split=4, max_depth=3, score=0.990129, total= 3.4min\n",
      "[Parallel(n_jobs=1)]: Done  38 out of  38 | elapsed: 40.8min remaining:    0.0s\n",
      "[CV] max_features=auto, learning_rate=0.243181587717, min_samples_leaf=5, loss=deviance, min_samples_split=4, max_depth=3 \n",
      "[CV]  max_features=auto, learning_rate=0.243181587717, min_samples_leaf=5, loss=deviance, min_samples_split=4, max_depth=3, score=0.990643, total= 3.4min\n",
      "[Parallel(n_jobs=1)]: Done  39 out of  39 | elapsed: 44.2min remaining:    0.0s\n",
      "[CV] max_features=log2, learning_rate=0.0126191701093, min_samples_leaf=8, loss=exponential, min_samples_split=4, max_depth=4 \n",
      "[CV]  max_features=log2, learning_rate=0.0126191701093, min_samples_leaf=8, loss=exponential, min_samples_split=4, max_depth=4, score=0.385923, total=  43.5s\n",
      "[Parallel(n_jobs=1)]: Done  40 out of  40 | elapsed: 45.0min remaining:    0.0s\n",
      "[CV] max_features=log2, learning_rate=0.0126191701093, min_samples_leaf=8, loss=exponential, min_samples_split=4, max_depth=4 \n",
      "[CV]  max_features=log2, learning_rate=0.0126191701093, min_samples_leaf=8, loss=exponential, min_samples_split=4, max_depth=4, score=0.412071, total=  43.5s\n",
      "[Parallel(n_jobs=1)]: Done  41 out of  41 | elapsed: 45.7min remaining:    0.0s\n",
      "[CV] max_features=log2, learning_rate=0.0126191701093, min_samples_leaf=8, loss=exponential, min_samples_split=4, max_depth=4 \n",
      "[CV]  max_features=log2, learning_rate=0.0126191701093, min_samples_leaf=8, loss=exponential, min_samples_split=4, max_depth=4, score=0.404286, total=  44.5s\n",
      "[Parallel(n_jobs=1)]: Done  42 out of  42 | elapsed: 46.5min remaining:    0.0s\n",
      "[CV] max_features=sqrt, learning_rate=0.0650267392438, min_samples_leaf=1, loss=exponential, min_samples_split=4, max_depth=1 \n",
      "[CV]  max_features=sqrt, learning_rate=0.0650267392438, min_samples_leaf=1, loss=exponential, min_samples_split=4, max_depth=1, score=0.723816, total=  16.8s\n",
      "[Parallel(n_jobs=1)]: Done  43 out of  43 | elapsed: 46.8min remaining:    0.0s\n",
      "[CV] max_features=sqrt, learning_rate=0.0650267392438, min_samples_leaf=1, loss=exponential, min_samples_split=4, max_depth=1 \n",
      "[CV]  max_features=sqrt, learning_rate=0.0650267392438, min_samples_leaf=1, loss=exponential, min_samples_split=4, max_depth=1, score=0.744070, total=  16.9s\n",
      "[Parallel(n_jobs=1)]: Done  44 out of  44 | elapsed: 47.1min remaining:    0.0s\n",
      "[CV] max_features=sqrt, learning_rate=0.0650267392438, min_samples_leaf=1, loss=exponential, min_samples_split=4, max_depth=1 \n",
      "[CV]  max_features=sqrt, learning_rate=0.0650267392438, min_samples_leaf=1, loss=exponential, min_samples_split=4, max_depth=1, score=0.743143, total=  17.5s\n",
      "[Parallel(n_jobs=1)]: Done  45 out of  45 | elapsed: 47.4min remaining:    0.0s\n",
      "[CV] max_features=sqrt, learning_rate=0.0600838607001, min_samples_leaf=2, loss=exponential, min_samples_split=7, max_depth=3 \n",
      "[CV]  max_features=sqrt, learning_rate=0.0600838607001, min_samples_leaf=2, loss=exponential, min_samples_split=7, max_depth=3, score=0.877390, total=  41.0s\n",
      "[Parallel(n_jobs=1)]: Done  46 out of  46 | elapsed: 48.1min remaining:    0.0s\n",
      "[CV] max_features=sqrt, learning_rate=0.0600838607001, min_samples_leaf=2, loss=exponential, min_samples_split=7, max_depth=3 \n",
      "[CV]  max_features=sqrt, learning_rate=0.0600838607001, min_samples_leaf=2, loss=exponential, min_samples_split=7, max_depth=3, score=0.899531, total=  42.1s\n",
      "[Parallel(n_jobs=1)]: Done  47 out of  47 | elapsed: 48.8min remaining:    0.0s\n",
      "[CV] max_features=sqrt, learning_rate=0.0600838607001, min_samples_leaf=2, loss=exponential, min_samples_split=7, max_depth=3 \n",
      "[CV]  max_features=sqrt, learning_rate=0.0600838607001, min_samples_leaf=2, loss=exponential, min_samples_split=7, max_depth=3, score=0.899089, total=  41.6s\n",
      "[Parallel(n_jobs=1)]: Done  48 out of  48 | elapsed: 49.5min remaining:    0.0s\n",
      "[CV] max_features=sqrt, learning_rate=0.217384872629, min_samples_leaf=5, loss=exponential, min_samples_split=2, max_depth=4 \n",
      "[CV]  max_features=sqrt, learning_rate=0.217384872629, min_samples_leaf=5, loss=exponential, min_samples_split=2, max_depth=4, score=0.950882, total=  57.3s\n",
      "[Parallel(n_jobs=1)]: Done  49 out of  49 | elapsed: 50.5min remaining:    0.0s\n",
      "[CV] max_features=sqrt, learning_rate=0.217384872629, min_samples_leaf=5, loss=exponential, min_samples_split=2, max_depth=4 \n",
      "[CV]  max_features=sqrt, learning_rate=0.217384872629, min_samples_leaf=5, loss=exponential, min_samples_split=2, max_depth=4, score=0.978733, total=  55.6s\n",
      "[Parallel(n_jobs=1)]: Done  50 out of  50 | elapsed: 51.5min remaining:    0.0s\n",
      "[CV] max_features=sqrt, learning_rate=0.217384872629, min_samples_leaf=5, loss=exponential, min_samples_split=2, max_depth=4 \n",
      "[CV]  max_features=sqrt, learning_rate=0.217384872629, min_samples_leaf=5, loss=exponential, min_samples_split=2, max_depth=4, score=0.976441, total=  55.8s\n",
      "[Parallel(n_jobs=1)]: Done  51 out of  51 | elapsed: 52.4min remaining:    0.0s\n",
      "[CV] max_features=sqrt, learning_rate=0.00117002534447, min_samples_leaf=2, loss=exponential, min_samples_split=5, max_depth=3 \n"
     ]
    },
    {
     "name": "stderr",
     "output_type": "stream",
     "text": [
      "C:\\Users\\motoharu.dei\\AppData\\Local\\Continuum\\Anaconda3\\lib\\site-packages\\sklearn\\metrics\\classification.py:1113: UndefinedMetricWarning: F-score is ill-defined and being set to 0.0 due to no predicted samples.\n",
      "  'precision', 'predicted', average, warn_for)\n"
     ]
    },
    {
     "name": "stdout",
     "output_type": "stream",
     "text": [
      "[CV]  max_features=sqrt, learning_rate=0.00117002534447, min_samples_leaf=2, loss=exponential, min_samples_split=5, max_depth=3, score=0.000000, total=  41.3s\n",
      "[Parallel(n_jobs=1)]: Done  52 out of  52 | elapsed: 53.1min remaining:    0.0s\n",
      "[CV] max_features=sqrt, learning_rate=0.00117002534447, min_samples_leaf=2, loss=exponential, min_samples_split=5, max_depth=3 \n"
     ]
    },
    {
     "name": "stderr",
     "output_type": "stream",
     "text": [
      "C:\\Users\\motoharu.dei\\AppData\\Local\\Continuum\\Anaconda3\\lib\\site-packages\\sklearn\\metrics\\classification.py:1113: UndefinedMetricWarning: F-score is ill-defined and being set to 0.0 due to no predicted samples.\n",
      "  'precision', 'predicted', average, warn_for)\n"
     ]
    },
    {
     "name": "stdout",
     "output_type": "stream",
     "text": [
      "[CV]  max_features=sqrt, learning_rate=0.00117002534447, min_samples_leaf=2, loss=exponential, min_samples_split=5, max_depth=3, score=0.000000, total=  39.9s\n",
      "[Parallel(n_jobs=1)]: Done  53 out of  53 | elapsed: 53.8min remaining:    0.0s\n",
      "[CV] max_features=sqrt, learning_rate=0.00117002534447, min_samples_leaf=2, loss=exponential, min_samples_split=5, max_depth=3 \n"
     ]
    },
    {
     "name": "stderr",
     "output_type": "stream",
     "text": [
      "C:\\Users\\motoharu.dei\\AppData\\Local\\Continuum\\Anaconda3\\lib\\site-packages\\sklearn\\metrics\\classification.py:1113: UndefinedMetricWarning: F-score is ill-defined and being set to 0.0 due to no predicted samples.\n",
      "  'precision', 'predicted', average, warn_for)\n"
     ]
    },
    {
     "name": "stdout",
     "output_type": "stream",
     "text": [
      "[CV]  max_features=sqrt, learning_rate=0.00117002534447, min_samples_leaf=2, loss=exponential, min_samples_split=5, max_depth=3, score=0.000000, total=  41.7s\n",
      "[Parallel(n_jobs=1)]: Done  54 out of  54 | elapsed: 54.5min remaining:    0.0s\n",
      "[CV] max_features=sqrt, learning_rate=0.11712352736, min_samples_leaf=4, loss=exponential, min_samples_split=2, max_depth=2 \n",
      "[CV]  max_features=sqrt, learning_rate=0.11712352736, min_samples_leaf=4, loss=exponential, min_samples_split=2, max_depth=2, score=0.878572, total=  28.2s\n",
      "[Parallel(n_jobs=1)]: Done  55 out of  55 | elapsed: 55.0min remaining:    0.0s\n",
      "[CV] max_features=sqrt, learning_rate=0.11712352736, min_samples_leaf=4, loss=exponential, min_samples_split=2, max_depth=2 \n",
      "[CV]  max_features=sqrt, learning_rate=0.11712352736, min_samples_leaf=4, loss=exponential, min_samples_split=2, max_depth=2, score=0.902278, total=  29.3s\n",
      "[Parallel(n_jobs=1)]: Done  56 out of  56 | elapsed: 55.5min remaining:    0.0s\n",
      "[CV] max_features=sqrt, learning_rate=0.11712352736, min_samples_leaf=4, loss=exponential, min_samples_split=2, max_depth=2 \n",
      "[CV]  max_features=sqrt, learning_rate=0.11712352736, min_samples_leaf=4, loss=exponential, min_samples_split=2, max_depth=2, score=0.897784, total=  28.6s\n",
      "[Parallel(n_jobs=1)]: Done  57 out of  57 | elapsed: 56.0min remaining:    0.0s\n",
      "[CV] max_features=log2, learning_rate=0.0876216177258, min_samples_leaf=9, loss=deviance, min_samples_split=6, max_depth=1 \n",
      "[CV]  max_features=log2, learning_rate=0.0876216177258, min_samples_leaf=9, loss=deviance, min_samples_split=6, max_depth=1, score=0.766757, total=  14.7s\n",
      "[Parallel(n_jobs=1)]: Done  58 out of  58 | elapsed: 56.3min remaining:    0.0s\n",
      "[CV] max_features=log2, learning_rate=0.0876216177258, min_samples_leaf=9, loss=deviance, min_samples_split=6, max_depth=1 \n",
      "[CV]  max_features=log2, learning_rate=0.0876216177258, min_samples_leaf=9, loss=deviance, min_samples_split=6, max_depth=1, score=0.786005, total=  14.2s\n",
      "[Parallel(n_jobs=1)]: Done  59 out of  59 | elapsed: 56.6min remaining:    0.0s\n",
      "[CV] max_features=log2, learning_rate=0.0876216177258, min_samples_leaf=9, loss=deviance, min_samples_split=6, max_depth=1 \n",
      "[CV]  max_features=log2, learning_rate=0.0876216177258, min_samples_leaf=9, loss=deviance, min_samples_split=6, max_depth=1, score=0.782547, total=  13.9s\n",
      "[Parallel(n_jobs=1)]: Done  60 out of  60 | elapsed: 56.8min remaining:    0.0s\n",
      "[Parallel(n_jobs=1)]: Done  60 out of  60 | elapsed: 56.8min finished\n",
      "RandomizedSearchCV took 3751.51 seconds for 20 candidates parameter settings.\n",
      "Model with rank: 1\n",
      "Mean validation score: 0.980 (std: 0.015)\n",
      "Parameters: {'max_features': 'auto', 'learning_rate': 0.24318158771707576, 'min_samples_leaf': 5, 'loss': 'deviance', 'min_samples_split': 4, 'max_depth': 3}\n",
      "\n",
      "Model with rank: 2\n",
      "Mean validation score: 0.969 (std: 0.012)\n",
      "Parameters: {'max_features': 'log2', 'learning_rate': 0.27051559233057604, 'min_samples_leaf': 2, 'loss': 'exponential', 'min_samples_split': 5, 'max_depth': 4}\n",
      "\n",
      "Model with rank: 3\n",
      "Mean validation score: 0.969 (std: 0.013)\n",
      "Parameters: {'max_features': 'sqrt', 'learning_rate': 0.21738487262856962, 'min_samples_leaf': 5, 'loss': 'exponential', 'min_samples_split': 2, 'max_depth': 4}\n",
      "\n"
     ]
    }
   ],
   "source": [
    "#search 50 times      \n",
    "seed = np.random.seed(1234)\n",
    "n_iter_search = 20\n",
    "random_search = RandomizedSearchCV(gbc, param_distributions=param_dist,\n",
    "                                   n_iter=n_iter_search,scoring ='f1', verbose=100)\n",
    "\n",
    "start = time()\n",
    "random_search.fit(X_res, y_res)\n",
    "print(\"RandomizedSearchCV took %.2f seconds for %d candidates\"\n",
    "      \" parameter settings.\" % ((time() - start), n_iter_search))\n",
    "\n",
    "report(random_search.cv_results_)"
   ]
  },
  {
   "cell_type": "code",
   "execution_count": 9,
   "metadata": {
    "collapsed": true
   },
   "outputs": [],
   "source": [
    "#RandomizedSearchCV took 3751.51 seconds for 20 candidates parameter settings.\n",
    "#Model with rank: 1\n",
    "#Mean validation score: 0.980 (std: 0.015)\n",
    "#Parameters: {'max_features': 'auto', 'learning_rate': 0.24318158771707576, 'min_samples_leaf': 5, \n",
    "#'loss': 'deviance', 'min_samples_split': 4, 'max_depth': 3}\n",
    "\n",
    "gbc=GradientBoostingClassifier(random_state=1234,loss='deviance',learning_rate=\n",
    "                                0.24318158771707576,min_samples_leaf=5,\n",
    "                                min_samples_split=4,max_features='auto',max_depth=3,verbose=100)\n"
   ]
  },
  {
   "cell_type": "code",
   "execution_count": 10,
   "metadata": {
    "collapsed": false
   },
   "outputs": [
    {
     "name": "stdout",
     "output_type": "stream",
     "text": [
      "      Iter       Train Loss   Remaining Time \n",
      "         1           0.6110            3.21m\n",
      "         2           0.4978            3.20m\n",
      "         3           0.4279            3.16m\n",
      "         4           0.3796            3.14m\n",
      "         5           0.3440            3.13m\n",
      "         6           0.3179            3.12m\n",
      "         7           0.2991            3.08m\n",
      "         8           0.2833            3.04m\n",
      "         9           0.2728            3.02m\n",
      "        10           0.2616            2.98m\n",
      "        11           0.2551            2.96m\n",
      "        12           0.2437            2.93m\n",
      "        13           0.2346            2.91m\n",
      "        14           0.2307            2.87m\n",
      "        15           0.2225            2.85m\n",
      "        16           0.2163            2.82m\n",
      "        17           0.2033            2.79m\n",
      "        18           0.1974            2.76m\n",
      "        19           0.1901            2.74m\n",
      "        20           0.1826            2.72m\n",
      "        21           0.1739            2.69m\n",
      "        22           0.1706            2.65m\n",
      "        23           0.1636            2.61m\n",
      "        24           0.1577            2.58m\n",
      "        25           0.1536            2.54m\n",
      "        26           0.1492            2.51m\n",
      "        27           0.1449            2.48m\n",
      "        28           0.1395            2.44m\n",
      "        29           0.1333            2.41m\n",
      "        30           0.1309            2.38m\n",
      "        31           0.1293            2.34m\n",
      "        32           0.1265            2.31m\n",
      "        33           0.1238            2.27m\n",
      "        34           0.1218            2.23m\n",
      "        35           0.1171            2.20m\n",
      "        36           0.1151            2.17m\n",
      "        37           0.1098            2.13m\n",
      "        38           0.1074            2.10m\n",
      "        39           0.1059            2.07m\n",
      "        40           0.1019            2.03m\n",
      "        41           0.0993            2.00m\n",
      "        42           0.0970            1.97m\n",
      "        43           0.0962            1.93m\n",
      "        44           0.0939            1.90m\n",
      "        45           0.0907            1.87m\n",
      "        46           0.0896            1.85m\n",
      "        47           0.0881            1.83m\n",
      "        48           0.0863            1.81m\n",
      "        49           0.0856            1.79m\n",
      "        50           0.0837            1.76m\n",
      "        51           0.0823            1.73m\n",
      "        52           0.0809            1.71m\n",
      "        53           0.0794            1.69m\n",
      "        54           0.0772            1.66m\n",
      "        55           0.0755            1.63m\n",
      "        56           0.0745            1.60m\n",
      "        57           0.0732            1.57m\n",
      "        58           0.0725            1.54m\n",
      "        59           0.0717            1.51m\n",
      "        60           0.0709            1.48m\n",
      "        61           0.0697            1.44m\n",
      "        62           0.0691            1.41m\n",
      "        63           0.0680            1.38m\n",
      "        64           0.0676            1.35m\n",
      "        65           0.0651            1.32m\n",
      "        66           0.0649            1.28m\n",
      "        67           0.0645            1.25m\n",
      "        68           0.0642            1.21m\n",
      "        69           0.0626            1.18m\n",
      "        70           0.0620            1.14m\n",
      "        71           0.0617            1.11m\n",
      "        72           0.0612            1.07m\n",
      "        73           0.0610            1.03m\n",
      "        74           0.0601           59.87s\n",
      "        75           0.0595           57.67s\n",
      "        76           0.0579           55.83s\n",
      "        77           0.0573           53.87s\n",
      "        78           0.0563           51.92s\n",
      "        79           0.0561           49.73s\n",
      "        80           0.0551           47.66s\n",
      "        81           0.0550           45.49s\n",
      "        82           0.0541           43.32s\n",
      "        83           0.0538           41.09s\n",
      "        84           0.0536           38.82s\n",
      "        85           0.0529           36.59s\n",
      "        86           0.0526           34.37s\n",
      "        87           0.0526           32.05s\n",
      "        88           0.0517           29.75s\n",
      "        89           0.0514           27.35s\n",
      "        90           0.0512           24.94s\n",
      "        91           0.0508           22.55s\n",
      "        92           0.0507           20.10s\n",
      "        93           0.0503           17.65s\n",
      "        94           0.0499           15.18s\n",
      "        95           0.0492           12.70s\n",
      "        96           0.0485           10.19s\n",
      "        97           0.0484            7.66s\n",
      "        98           0.0481            5.13s\n",
      "        99           0.0480            2.57s\n",
      "       100           0.0479            0.00s\n"
     ]
    },
    {
     "data": {
      "text/plain": [
       "0    0.129059\n",
       "Name: 6679, dtype: float64"
      ]
     },
     "execution_count": 10,
     "metadata": {},
     "output_type": "execute_result"
    }
   ],
   "source": [
    "#fit the model\n",
    "gbc.fit(X_res,y_res)\n",
    "\n",
    "predicted_probs = gbc.predict_proba(train_std)\n",
    "a= predicted_probs[:,1]\n",
    "np.mean(a)\n",
    "b= predicted_probs[:,0]\n",
    "np.mean(b)\n",
    "a1=sorted(a,reverse=True)\n",
    "a2=pd.DataFrame(a1)\n",
    "a2.iloc[train_PERT.value_counts()[\"Y\"]*4-1,:]"
   ]
  },
  {
   "cell_type": "code",
   "execution_count": 11,
   "metadata": {
    "collapsed": true
   },
   "outputs": [],
   "source": [
    "#Synchronize with Jeff's Scoring Functions\n",
    "from sklearn.metrics import accuracy_score, precision_score, recall_score, \\\n",
    "    f1_score, roc_auc_score, average_precision_score, brier_score_loss, \\\n",
    "    fbeta_score, confusion_matrix\n",
    "from creonmetrics import labeled_metric, assumed_metric, pu_score, \\\n",
    "    pr_one_unlabeled, brier_score_partial_loss\n",
    "\n",
    "y_true = test_Ycat.values\n",
    "y_prob = gbc.predict_proba(test_std)\n",
    "\n",
    "y_pred=np.array([1 if x >= 0.129059 else 0 for x in y_prob[:,1]])"
   ]
  },
  {
   "cell_type": "code",
   "execution_count": 12,
   "metadata": {
    "collapsed": false
   },
   "outputs": [
    {
     "name": "stdout",
     "output_type": "stream",
     "text": [
      "assumed_brier :  0.004992672206\n",
      "assumed_brier_neg :  0.00177169141347\n",
      "assumed_f1 :  0.204043253409\n",
      "assumed_f1beta10 :  0.503734859454\n",
      "confusion_matrix_lab :  [[200  16]\n",
      " [201 217]]\n",
      "confusion_matrix_un :  [[86230  1492]\n",
      " [  201   217]]\n",
      "labeled_acc :  0.657728706625\n",
      "labeled_avg_prec :  0.8837519642\n",
      "labeled_brier :  0.454738728296\n",
      "labeled_brier_neg :  0.0169747207195\n",
      "labeled_brier_pos :  0.680951708288\n",
      "labeled_f1 :  0.666666666667\n",
      "labeled_prec :  0.931330472103\n",
      "labeled_recall :  0.519138755981\n",
      "labeled_roc_auc :  0.722532340953\n",
      "pr_one_unlabeled :  0.0168674148058\n",
      "pu_score :  13.8994587053\n"
     ]
    }
   ],
   "source": [
    "import collections\n",
    "data = {'labeled_acc' : labeled_metric(y_true, y_pred, accuracy_score),\n",
    "        'labeled_prec' : labeled_metric(y_true, y_pred, precision_score),\n",
    "        'labeled_recall' : labeled_metric(y_true, y_pred, recall_score),\n",
    "        'labeled_f1' : labeled_metric(y_true, y_pred, f1_score),\n",
    "        'labeled_roc_auc' : labeled_metric(y_true, y_pred, roc_auc_score),\n",
    "        'labeled_avg_prec' : labeled_metric(y_true, y_pred, average_precision_score),\n",
    "        'labeled_brier' : labeled_metric(y_true, y_prob, brier_score_loss),\n",
    "        'labeled_brier_pos' : labeled_metric(y_true, y_prob, brier_score_partial_loss, label=1),\n",
    "        'labeled_brier_neg' : labeled_metric(y_true, y_prob, brier_score_partial_loss, label=0),\n",
    "        'confusion_matrix_lab' : labeled_metric(y_true, y_pred, confusion_matrix),\n",
    "        'pr_one_unlabeled' : pr_one_unlabeled(y_true, y_pred),\n",
    "        'assumed_brier' : assumed_metric(y_true, y_prob, brier_score_loss),\n",
    "        'assumed_brier_neg' : assumed_metric(y_true, y_prob, brier_score_partial_loss, label=0),\n",
    "        'assumed_f1' : assumed_metric(y_true, y_pred, f1_score),\n",
    "        'assumed_f1beta10' : assumed_metric(y_true, y_pred, fbeta_score, beta=10),\n",
    "        'confusion_matrix_un' : assumed_metric(y_true, y_pred, confusion_matrix),\n",
    "        'pu_score' : pu_score(y_true, y_pred),\n",
    "        }\n",
    "data_s = collections.OrderedDict(sorted(data.items()))\n",
    "for k, v in data_s.items():\n",
    "    print(k, ': ', v)\n"
   ]
  },
  {
   "cell_type": "code",
   "execution_count": null,
   "metadata": {
    "collapsed": true
   },
   "outputs": [],
   "source": []
  }
 ],
 "metadata": {
  "anaconda-cloud": {},
  "kernelspec": {
   "display_name": "Python [conda root]",
   "language": "python",
   "name": "conda-root-py"
  },
  "language_info": {
   "codemirror_mode": {
    "name": "ipython",
    "version": 3
   },
   "file_extension": ".py",
   "mimetype": "text/x-python",
   "name": "python",
   "nbconvert_exporter": "python",
   "pygments_lexer": "ipython3",
   "version": "3.5.2"
  }
 },
 "nbformat": 4,
 "nbformat_minor": 1
}
