{
 "cells": [
  {
   "cell_type": "code",
   "execution_count": 1,
   "metadata": {
    "collapsed": true
   },
   "outputs": [],
   "source": [
    "import scipy as sp\n",
    "from sklearn.svm import SVC\n",
    "import pandas as pd\n",
    "import numpy as np\n",
    "from scipy.stats import randint as sp_randint\n",
    "from sklearn import svm\n",
    "from sklearn.metrics import confusion_matrix\n",
    "from sklearn.metrics import roc_auc_score\n",
    "from sklearn.metrics import classification_report\n",
    "from sklearn.metrics import brier_score_loss\n",
    "from sklearn.model_selection import RandomizedSearchCV\n",
    "from time import time\n",
    "from sklearn.preprocessing import MinMaxScaler\n",
    "from sklearn.linear_model import SGDClassifier\n",
    "from sklearn.ensemble import RandomForestClassifier\n",
    "from sklearn.model_selection import cross_val_score"
   ]
  },
  {
   "cell_type": "code",
   "execution_count": 2,
   "metadata": {
    "collapsed": true
   },
   "outputs": [],
   "source": [
    "#NEED INSTALL IMBLANCE PACKAGE\n",
    "#code: conda install -c glemaitre imbalanced-learn\n",
    "from imblearn.over_sampling import SMOTE\n",
    "#read tables: After variable selection, choosing 50 variables by baseline RF importance\n",
    "train=pd.read_table('training_self1_0127.txt')\n",
    "test=pd.read_table('testing_self1_0127.txt')"
   ]
  },
  {
   "cell_type": "code",
   "execution_count": 3,
   "metadata": {
    "collapsed": true
   },
   "outputs": [],
   "source": [
    "train_Ycat=train['Ycat']\n",
    "train_PERT=train['PERT_Y']\n",
    "train=train.drop('Ycat',1)\n",
    "train=train.drop('MemberID',1)\n",
    "train=train.drop('PERT_Y',1)\n",
    "\n",
    "test_Ycat=test['Ycat']\n",
    "test_PERT=test['PERT_Y']\n",
    "test=test.drop('Ycat',1)\n",
    "test=test.drop('PERT_Y',1)\n",
    "test=test.drop('MemberID',1)\n",
    "\n",
    "scaler = MinMaxScaler()\n",
    "train = scaler.fit_transform(train)\n",
    "test =  scaler.transform(test)\n",
    "\n",
    "train_std=pd.DataFrame(train)\n",
    "test_std=pd.DataFrame(test)\n",
    "\n",
    "res=[1 if x =='Y' else 0 for x in train_PERT]"
   ]
  },
  {
   "cell_type": "code",
   "execution_count": 4,
   "metadata": {
    "collapsed": true
   },
   "outputs": [],
   "source": [
    "sm = SMOTE(random_state=1234)\n",
    "X_res, y_res = sm.fit_sample(train_std, res)"
   ]
  },
  {
   "cell_type": "code",
   "execution_count": 5,
   "metadata": {
    "collapsed": true
   },
   "outputs": [],
   "source": [
    "def report(results, n_top=3):\n",
    "    for i in range(1, n_top + 1):\n",
    "        candidates = np.flatnonzero(results['rank_test_score'] == i)\n",
    "        for candidate in candidates:\n",
    "            print(\"Model with rank: {0}\".format(i))\n",
    "            print(\"Mean validation score: {0:.3f} (std: {1:.3f})\".format(\n",
    "                  results['mean_test_score'][candidate],\n",
    "                  results['std_test_score'][candidate]))\n",
    "            print(\"Parameters: {0}\".format(results['params'][candidate]))\n",
    "            print(\"\")\n"
   ]
  },
  {
   "cell_type": "code",
   "execution_count": 6,
   "metadata": {
    "collapsed": true
   },
   "outputs": [],
   "source": [
    "#hyper parameter options, could also apply to other model. \n",
    "param_dist = {\"max_depth\": [3, None],\n",
    "              \"max_features\": sp_randint(1, 20),\n",
    "              \"min_samples_split\": sp_randint(2, 11),\n",
    "              \"min_samples_leaf\": sp_randint(1, 11),\n",
    "              \"bootstrap\": [True, False],\n",
    "              \"criterion\": [\"gini\", \"entropy\"]}\n"
   ]
  },
  {
   "cell_type": "markdown",
   "metadata": {
    "collapsed": true
   },
   "source": [
    "# Optimize Hyper-parameters by Recall*Precision"
   ]
  },
  {
   "cell_type": "code",
   "execution_count": 7,
   "metadata": {
    "collapsed": false
   },
   "outputs": [],
   "source": [
    "from sklearn.metrics import precision_recall_fscore_support,recall_score, make_scorer,precision_score\n",
    "\n",
    "def pu(actual,prediction):\n",
    "    precision = precision_score(actual, prediction)\n",
    "    recall = recall_score(actual, prediction)\n",
    "    pu= precision*recall\n",
    "    return pu\n",
    "\n",
    "pu_score=make_scorer(pu,greater_is_better=True)"
   ]
  },
  {
   "cell_type": "code",
   "execution_count": 8,
   "metadata": {
    "collapsed": true
   },
   "outputs": [],
   "source": [
    "rf=RandomForestClassifier(n_estimators=100)"
   ]
  },
  {
   "cell_type": "code",
   "execution_count": 9,
   "metadata": {
    "collapsed": false
   },
   "outputs": [
    {
     "name": "stdout",
     "output_type": "stream",
     "text": [
      "Fitting 3 folds for each of 20 candidates, totalling 60 fits\n",
      "[CV] max_depth=3, bootstrap=False, max_features=13, min_samples_leaf=5, criterion=entropy, min_samples_split=10 \n",
      "[CV]  max_depth=3, bootstrap=False, max_features=13, min_samples_leaf=5, criterion=entropy, min_samples_split=10, score=0.886145, total= 4.7min\n",
      "[Parallel(n_jobs=1)]: Done   1 out of   1 | elapsed:  4.8min remaining:    0.0s\n",
      "[CV] max_depth=3, bootstrap=False, max_features=13, min_samples_leaf=5, criterion=entropy, min_samples_split=10 \n",
      "[CV]  max_depth=3, bootstrap=False, max_features=13, min_samples_leaf=5, criterion=entropy, min_samples_split=10, score=0.883199, total= 4.4min\n",
      "[Parallel(n_jobs=1)]: Done   2 out of   2 | elapsed:  9.3min remaining:    0.0s\n",
      "[CV] max_depth=3, bootstrap=False, max_features=13, min_samples_leaf=5, criterion=entropy, min_samples_split=10 \n",
      "[CV]  max_depth=3, bootstrap=False, max_features=13, min_samples_leaf=5, criterion=entropy, min_samples_split=10, score=0.879290, total= 4.3min\n",
      "[Parallel(n_jobs=1)]: Done   3 out of   3 | elapsed: 13.7min remaining:    0.0s\n",
      "[CV] max_depth=3, bootstrap=False, max_features=17, min_samples_leaf=6, criterion=entropy, min_samples_split=4 \n",
      "[CV]  max_depth=3, bootstrap=False, max_features=17, min_samples_leaf=6, criterion=entropy, min_samples_split=4, score=0.886120, total= 4.5min\n",
      "[Parallel(n_jobs=1)]: Done   4 out of   4 | elapsed: 18.2min remaining:    0.0s\n",
      "[CV] max_depth=3, bootstrap=False, max_features=17, min_samples_leaf=6, criterion=entropy, min_samples_split=4 \n",
      "[CV]  max_depth=3, bootstrap=False, max_features=17, min_samples_leaf=6, criterion=entropy, min_samples_split=4, score=0.882909, total= 3.8min\n",
      "[Parallel(n_jobs=1)]: Done   5 out of   5 | elapsed: 22.1min remaining:    0.0s\n",
      "[CV] max_depth=3, bootstrap=False, max_features=17, min_samples_leaf=6, criterion=entropy, min_samples_split=4 \n",
      "[CV]  max_depth=3, bootstrap=False, max_features=17, min_samples_leaf=6, criterion=entropy, min_samples_split=4, score=0.879154, total= 5.7min\n",
      "[Parallel(n_jobs=1)]: Done   6 out of   6 | elapsed: 27.9min remaining:    0.0s\n",
      "[CV] max_depth=3, bootstrap=False, max_features=2, min_samples_leaf=10, criterion=gini, min_samples_split=3 \n",
      "[CV]  max_depth=3, bootstrap=False, max_features=2, min_samples_leaf=10, criterion=gini, min_samples_split=3, score=0.744335, total=  55.4s\n",
      "[Parallel(n_jobs=1)]: Done   7 out of   7 | elapsed: 29.0min remaining:    0.0s\n",
      "[CV] max_depth=3, bootstrap=False, max_features=2, min_samples_leaf=10, criterion=gini, min_samples_split=3 \n",
      "[CV]  max_depth=3, bootstrap=False, max_features=2, min_samples_leaf=10, criterion=gini, min_samples_split=3, score=0.762261, total=  54.3s\n",
      "[Parallel(n_jobs=1)]: Done   8 out of   8 | elapsed: 30.0min remaining:    0.0s\n",
      "[CV] max_depth=3, bootstrap=False, max_features=2, min_samples_leaf=10, criterion=gini, min_samples_split=3 \n",
      "[CV]  max_depth=3, bootstrap=False, max_features=2, min_samples_leaf=10, criterion=gini, min_samples_split=3, score=0.722590, total=  53.9s\n",
      "[Parallel(n_jobs=1)]: Done   9 out of   9 | elapsed: 31.0min remaining:    0.0s\n",
      "[CV] max_depth=None, bootstrap=False, max_features=19, min_samples_leaf=7, criterion=entropy, min_samples_split=5 \n",
      "[CV]  max_depth=None, bootstrap=False, max_features=19, min_samples_leaf=7, criterion=entropy, min_samples_split=5, score=0.989333, total=23.6min\n",
      "[Parallel(n_jobs=1)]: Done  10 out of  10 | elapsed: 54.7min remaining:    0.0s\n",
      "[CV] max_depth=None, bootstrap=False, max_features=19, min_samples_leaf=7, criterion=entropy, min_samples_split=5 \n",
      "[CV]  max_depth=None, bootstrap=False, max_features=19, min_samples_leaf=7, criterion=entropy, min_samples_split=5, score=0.996906, total=21.2min\n",
      "[Parallel(n_jobs=1)]: Done  11 out of  11 | elapsed: 76.0min remaining:    0.0s\n",
      "[CV] max_depth=None, bootstrap=False, max_features=19, min_samples_leaf=7, criterion=entropy, min_samples_split=5 \n",
      "[CV]  max_depth=None, bootstrap=False, max_features=19, min_samples_leaf=7, criterion=entropy, min_samples_split=5, score=0.996617, total=20.6min\n",
      "[Parallel(n_jobs=1)]: Done  12 out of  12 | elapsed: 96.7min remaining:    0.0s\n",
      "[CV] max_depth=3, bootstrap=True, max_features=16, min_samples_leaf=7, criterion=gini, min_samples_split=6 \n",
      "[CV]  max_depth=3, bootstrap=True, max_features=16, min_samples_leaf=7, criterion=gini, min_samples_split=6, score=0.886230, total= 3.6min\n",
      "[Parallel(n_jobs=1)]: Done  13 out of  13 | elapsed: 100.5min remaining:    0.0s\n",
      "[CV] max_depth=3, bootstrap=True, max_features=16, min_samples_leaf=7, criterion=gini, min_samples_split=6 \n",
      "[CV]  max_depth=3, bootstrap=True, max_features=16, min_samples_leaf=7, criterion=gini, min_samples_split=6, score=0.883241, total= 3.6min\n",
      "[Parallel(n_jobs=1)]: Done  14 out of  14 | elapsed: 104.2min remaining:    0.0s\n",
      "[CV] max_depth=3, bootstrap=True, max_features=16, min_samples_leaf=7, criterion=gini, min_samples_split=6 \n",
      "[CV]  max_depth=3, bootstrap=True, max_features=16, min_samples_leaf=7, criterion=gini, min_samples_split=6, score=0.879275, total= 3.6min\n",
      "[Parallel(n_jobs=1)]: Done  15 out of  15 | elapsed: 107.9min remaining:    0.0s\n",
      "[CV] max_depth=None, bootstrap=True, max_features=5, min_samples_leaf=4, criterion=gini, min_samples_split=4 \n",
      "[CV]  max_depth=None, bootstrap=True, max_features=5, min_samples_leaf=4, criterion=gini, min_samples_split=4, score=0.989770, total= 5.1min\n",
      "[Parallel(n_jobs=1)]: Done  16 out of  16 | elapsed: 113.2min remaining:    0.0s\n",
      "[CV] max_depth=None, bootstrap=True, max_features=5, min_samples_leaf=4, criterion=gini, min_samples_split=4 \n",
      "[CV]  max_depth=None, bootstrap=True, max_features=5, min_samples_leaf=4, criterion=gini, min_samples_split=4, score=0.995073, total= 5.0min\n",
      "[Parallel(n_jobs=1)]: Done  17 out of  17 | elapsed: 118.4min remaining:    0.0s\n",
      "[CV] max_depth=None, bootstrap=True, max_features=5, min_samples_leaf=4, criterion=gini, min_samples_split=4 \n",
      "[CV]  max_depth=None, bootstrap=True, max_features=5, min_samples_leaf=4, criterion=gini, min_samples_split=4, score=0.994734, total= 5.0min\n",
      "[Parallel(n_jobs=1)]: Done  18 out of  18 | elapsed: 123.6min remaining:    0.0s\n",
      "[CV] max_depth=3, bootstrap=False, max_features=7, min_samples_leaf=10, criterion=gini, min_samples_split=7 \n",
      "[CV]  max_depth=3, bootstrap=False, max_features=7, min_samples_leaf=10, criterion=gini, min_samples_split=7, score=0.868674, total= 2.0min\n",
      "[Parallel(n_jobs=1)]: Done  19 out of  19 | elapsed: 125.8min remaining:    0.0s\n",
      "[CV] max_depth=3, bootstrap=False, max_features=7, min_samples_leaf=10, criterion=gini, min_samples_split=7 \n",
      "[CV]  max_depth=3, bootstrap=False, max_features=7, min_samples_leaf=10, criterion=gini, min_samples_split=7, score=0.856063, total= 2.1min\n",
      "[Parallel(n_jobs=1)]: Done  20 out of  20 | elapsed: 127.9min remaining:    0.0s\n",
      "[CV] max_depth=3, bootstrap=False, max_features=7, min_samples_leaf=10, criterion=gini, min_samples_split=7 \n",
      "[CV]  max_depth=3, bootstrap=False, max_features=7, min_samples_leaf=10, criterion=gini, min_samples_split=7, score=0.862825, total= 2.0min\n",
      "[Parallel(n_jobs=1)]: Done  21 out of  21 | elapsed: 130.1min remaining:    0.0s\n",
      "[CV] max_depth=None, bootstrap=False, max_features=10, min_samples_leaf=5, criterion=entropy, min_samples_split=8 \n",
      "[CV]  max_depth=None, bootstrap=False, max_features=10, min_samples_leaf=5, criterion=entropy, min_samples_split=8, score=0.989906, total=12.0min\n",
      "[Parallel(n_jobs=1)]: Done  22 out of  22 | elapsed: 142.2min remaining:    0.0s\n",
      "[CV] max_depth=None, bootstrap=False, max_features=10, min_samples_leaf=5, criterion=entropy, min_samples_split=8 \n",
      "[CV]  max_depth=None, bootstrap=False, max_features=10, min_samples_leaf=5, criterion=entropy, min_samples_split=8, score=0.997314, total=12.4min\n",
      "[Parallel(n_jobs=1)]: Done  23 out of  23 | elapsed: 154.7min remaining:    0.0s\n",
      "[CV] max_depth=None, bootstrap=False, max_features=10, min_samples_leaf=5, criterion=entropy, min_samples_split=8 \n",
      "[CV]  max_depth=None, bootstrap=False, max_features=10, min_samples_leaf=5, criterion=entropy, min_samples_split=8, score=0.997229, total=12.1min\n",
      "[Parallel(n_jobs=1)]: Done  24 out of  24 | elapsed: 167.0min remaining:    0.0s\n",
      "[CV] max_depth=3, bootstrap=False, max_features=5, min_samples_leaf=1, criterion=entropy, min_samples_split=8 \n",
      "[CV]  max_depth=3, bootstrap=False, max_features=5, min_samples_leaf=1, criterion=entropy, min_samples_split=8, score=0.832022, total= 1.8min\n",
      "[Parallel(n_jobs=1)]: Done  25 out of  25 | elapsed: 168.9min remaining:    0.0s\n",
      "[CV] max_depth=3, bootstrap=False, max_features=5, min_samples_leaf=1, criterion=entropy, min_samples_split=8 \n",
      "[CV]  max_depth=3, bootstrap=False, max_features=5, min_samples_leaf=1, criterion=entropy, min_samples_split=8, score=0.854177, total= 1.8min\n",
      "[Parallel(n_jobs=1)]: Done  26 out of  26 | elapsed: 170.8min remaining:    0.0s\n",
      "[CV] max_depth=3, bootstrap=False, max_features=5, min_samples_leaf=1, criterion=entropy, min_samples_split=8 \n",
      "[CV]  max_depth=3, bootstrap=False, max_features=5, min_samples_leaf=1, criterion=entropy, min_samples_split=8, score=0.808167, total= 1.8min\n",
      "[Parallel(n_jobs=1)]: Done  27 out of  27 | elapsed: 172.6min remaining:    0.0s\n",
      "[CV] max_depth=None, bootstrap=False, max_features=8, min_samples_leaf=5, criterion=gini, min_samples_split=10 \n",
      "[CV]  max_depth=None, bootstrap=False, max_features=8, min_samples_leaf=5, criterion=gini, min_samples_split=10, score=0.989568, total= 9.4min\n",
      "[Parallel(n_jobs=1)]: Done  28 out of  28 | elapsed: 182.2min remaining:    0.0s\n",
      "[CV] max_depth=None, bootstrap=False, max_features=8, min_samples_leaf=5, criterion=gini, min_samples_split=10 \n",
      "[CV]  max_depth=None, bootstrap=False, max_features=8, min_samples_leaf=5, criterion=gini, min_samples_split=10, score=0.996082, total= 7.1min\n",
      "[Parallel(n_jobs=1)]: Done  29 out of  29 | elapsed: 189.4min remaining:    0.0s\n",
      "[CV] max_depth=None, bootstrap=False, max_features=8, min_samples_leaf=5, criterion=gini, min_samples_split=10 \n",
      "[CV]  max_depth=None, bootstrap=False, max_features=8, min_samples_leaf=5, criterion=gini, min_samples_split=10, score=0.996116, total= 6.3min\n",
      "[Parallel(n_jobs=1)]: Done  30 out of  30 | elapsed: 195.8min remaining:    0.0s\n",
      "[CV] max_depth=3, bootstrap=True, max_features=14, min_samples_leaf=1, criterion=entropy, min_samples_split=4 \n",
      "[CV]  max_depth=3, bootstrap=True, max_features=14, min_samples_leaf=1, criterion=entropy, min_samples_split=4, score=0.886626, total= 3.2min\n",
      "[Parallel(n_jobs=1)]: Done  31 out of  31 | elapsed: 199.1min remaining:    0.0s\n",
      "[CV] max_depth=3, bootstrap=True, max_features=14, min_samples_leaf=1, criterion=entropy, min_samples_split=4 \n",
      "[CV]  max_depth=3, bootstrap=True, max_features=14, min_samples_leaf=1, criterion=entropy, min_samples_split=4, score=0.883326, total= 3.6min\n",
      "[Parallel(n_jobs=1)]: Done  32 out of  32 | elapsed: 202.8min remaining:    0.0s\n",
      "[CV] max_depth=3, bootstrap=True, max_features=14, min_samples_leaf=1, criterion=entropy, min_samples_split=4 \n",
      "[CV]  max_depth=3, bootstrap=True, max_features=14, min_samples_leaf=1, criterion=entropy, min_samples_split=4, score=0.879333, total= 3.7min\n",
      "[Parallel(n_jobs=1)]: Done  33 out of  33 | elapsed: 206.6min remaining:    0.0s\n",
      "[CV] max_depth=3, bootstrap=True, max_features=19, min_samples_leaf=1, criterion=gini, min_samples_split=2 \n",
      "[CV]  max_depth=3, bootstrap=True, max_features=19, min_samples_leaf=1, criterion=gini, min_samples_split=2, score=0.886417, total= 3.7min\n",
      "[Parallel(n_jobs=1)]: Done  34 out of  34 | elapsed: 210.4min remaining:    0.0s\n",
      "[CV] max_depth=3, bootstrap=True, max_features=19, min_samples_leaf=1, criterion=gini, min_samples_split=2 \n",
      "[CV]  max_depth=3, bootstrap=True, max_features=19, min_samples_leaf=1, criterion=gini, min_samples_split=2, score=0.883190, total= 2.7min\n",
      "[Parallel(n_jobs=1)]: Done  35 out of  35 | elapsed: 213.2min remaining:    0.0s\n",
      "[CV] max_depth=3, bootstrap=True, max_features=19, min_samples_leaf=1, criterion=gini, min_samples_split=2 \n",
      "[CV]  max_depth=3, bootstrap=True, max_features=19, min_samples_leaf=1, criterion=gini, min_samples_split=2, score=0.879248, total= 2.5min\n",
      "[Parallel(n_jobs=1)]: Done  36 out of  36 | elapsed: 215.8min remaining:    0.0s\n",
      "[CV] max_depth=None, bootstrap=True, max_features=14, min_samples_leaf=7, criterion=entropy, min_samples_split=9 \n",
      "[CV]  max_depth=None, bootstrap=True, max_features=14, min_samples_leaf=7, criterion=entropy, min_samples_split=9, score=0.988815, total= 7.0min\n",
      "[Parallel(n_jobs=1)]: Done  37 out of  37 | elapsed: 222.9min remaining:    0.0s\n",
      "[CV] max_depth=None, bootstrap=True, max_features=14, min_samples_leaf=7, criterion=entropy, min_samples_split=9 \n",
      "[CV]  max_depth=None, bootstrap=True, max_features=14, min_samples_leaf=7, criterion=entropy, min_samples_split=9, score=0.994312, total= 6.9min\n",
      "[Parallel(n_jobs=1)]: Done  38 out of  38 | elapsed: 229.9min remaining:    0.0s\n",
      "[CV] max_depth=None, bootstrap=True, max_features=14, min_samples_leaf=7, criterion=entropy, min_samples_split=9 \n",
      "[CV]  max_depth=None, bootstrap=True, max_features=14, min_samples_leaf=7, criterion=entropy, min_samples_split=9, score=0.994083, total= 7.0min\n",
      "[Parallel(n_jobs=1)]: Done  39 out of  39 | elapsed: 237.0min remaining:    0.0s\n",
      "[CV] max_depth=None, bootstrap=False, max_features=14, min_samples_leaf=1, criterion=entropy, min_samples_split=2 \n",
      "[CV]  max_depth=None, bootstrap=False, max_features=14, min_samples_leaf=1, criterion=entropy, min_samples_split=2, score=0.989638, total= 9.8min\n",
      "[Parallel(n_jobs=1)]: Done  40 out of  40 | elapsed: 246.9min remaining:    0.0s\n",
      "[CV] max_depth=None, bootstrap=False, max_features=14, min_samples_leaf=1, criterion=entropy, min_samples_split=2 \n",
      "[CV]  max_depth=None, bootstrap=False, max_features=14, min_samples_leaf=1, criterion=entropy, min_samples_split=2, score=0.998353, total=10.2min\n",
      "[Parallel(n_jobs=1)]: Done  41 out of  41 | elapsed: 257.1min remaining:    0.0s\n",
      "[CV] max_depth=None, bootstrap=False, max_features=14, min_samples_leaf=1, criterion=entropy, min_samples_split=2 \n",
      "[CV]  max_depth=None, bootstrap=False, max_features=14, min_samples_leaf=1, criterion=entropy, min_samples_split=2, score=0.998301, total=10.0min\n",
      "[Parallel(n_jobs=1)]: Done  42 out of  42 | elapsed: 267.3min remaining:    0.0s\n",
      "[CV] max_depth=3, bootstrap=True, max_features=15, min_samples_leaf=7, criterion=gini, min_samples_split=7 \n",
      "[CV]  max_depth=3, bootstrap=True, max_features=15, min_samples_leaf=7, criterion=gini, min_samples_split=7, score=0.886204, total= 2.0min\n",
      "[Parallel(n_jobs=1)]: Done  43 out of  43 | elapsed: 269.4min remaining:    0.0s\n",
      "[CV] max_depth=3, bootstrap=True, max_features=15, min_samples_leaf=7, criterion=gini, min_samples_split=7 \n",
      "[CV]  max_depth=3, bootstrap=True, max_features=15, min_samples_leaf=7, criterion=gini, min_samples_split=7, score=0.883375, total= 2.0min\n",
      "[Parallel(n_jobs=1)]: Done  44 out of  44 | elapsed: 271.4min remaining:    0.0s\n",
      "[CV] max_depth=3, bootstrap=True, max_features=15, min_samples_leaf=7, criterion=gini, min_samples_split=7 \n",
      "[CV]  max_depth=3, bootstrap=True, max_features=15, min_samples_leaf=7, criterion=gini, min_samples_split=7, score=0.879375, total= 2.0min\n",
      "[Parallel(n_jobs=1)]: Done  45 out of  45 | elapsed: 273.4min remaining:    0.0s\n",
      "[CV] max_depth=None, bootstrap=False, max_features=12, min_samples_leaf=2, criterion=entropy, min_samples_split=10 \n",
      "[CV]  max_depth=None, bootstrap=False, max_features=12, min_samples_leaf=2, criterion=entropy, min_samples_split=10, score=0.989869, total= 8.7min\n",
      "[Parallel(n_jobs=1)]: Done  46 out of  46 | elapsed: 282.3min remaining:    0.0s\n",
      "[CV] max_depth=None, bootstrap=False, max_features=12, min_samples_leaf=2, criterion=entropy, min_samples_split=10 \n",
      "[CV]  max_depth=None, bootstrap=False, max_features=12, min_samples_leaf=2, criterion=entropy, min_samples_split=10, score=0.998140, total= 8.8min\n",
      "[Parallel(n_jobs=1)]: Done  47 out of  47 | elapsed: 291.2min remaining:    0.0s\n",
      "[CV] max_depth=None, bootstrap=False, max_features=12, min_samples_leaf=2, criterion=entropy, min_samples_split=10 \n",
      "[CV]  max_depth=None, bootstrap=False, max_features=12, min_samples_leaf=2, criterion=entropy, min_samples_split=10, score=0.998071, total= 8.9min\n",
      "[Parallel(n_jobs=1)]: Done  48 out of  48 | elapsed: 300.2min remaining:    0.0s\n",
      "[CV] max_depth=3, bootstrap=True, max_features=18, min_samples_leaf=2, criterion=gini, min_samples_split=2 \n",
      "[CV]  max_depth=3, bootstrap=True, max_features=18, min_samples_leaf=2, criterion=gini, min_samples_split=2, score=0.886222, total= 2.4min\n",
      "[Parallel(n_jobs=1)]: Done  49 out of  49 | elapsed: 302.6min remaining:    0.0s\n",
      "[CV] max_depth=3, bootstrap=True, max_features=18, min_samples_leaf=2, criterion=gini, min_samples_split=2 \n",
      "[CV]  max_depth=3, bootstrap=True, max_features=18, min_samples_leaf=2, criterion=gini, min_samples_split=2, score=0.883207, total= 2.3min\n",
      "[Parallel(n_jobs=1)]: Done  50 out of  50 | elapsed: 305.0min remaining:    0.0s\n",
      "[CV] max_depth=3, bootstrap=True, max_features=18, min_samples_leaf=2, criterion=gini, min_samples_split=2 \n",
      "[CV]  max_depth=3, bootstrap=True, max_features=18, min_samples_leaf=2, criterion=gini, min_samples_split=2, score=0.879248, total= 2.3min\n",
      "[Parallel(n_jobs=1)]: Done  51 out of  51 | elapsed: 307.4min remaining:    0.0s\n",
      "[CV] max_depth=3, bootstrap=False, max_features=13, min_samples_leaf=8, criterion=gini, min_samples_split=9 \n",
      "[CV]  max_depth=3, bootstrap=False, max_features=13, min_samples_leaf=8, criterion=gini, min_samples_split=9, score=0.886253, total= 2.1min\n",
      "[Parallel(n_jobs=1)]: Done  52 out of  52 | elapsed: 309.6min remaining:    0.0s\n",
      "[CV] max_depth=3, bootstrap=False, max_features=13, min_samples_leaf=8, criterion=gini, min_samples_split=9 \n",
      "[CV]  max_depth=3, bootstrap=False, max_features=13, min_samples_leaf=8, criterion=gini, min_samples_split=9, score=0.884276, total= 2.1min\n",
      "[Parallel(n_jobs=1)]: Done  53 out of  53 | elapsed: 311.8min remaining:    0.0s\n",
      "[CV] max_depth=3, bootstrap=False, max_features=13, min_samples_leaf=8, criterion=gini, min_samples_split=9 \n",
      "[CV]  max_depth=3, bootstrap=False, max_features=13, min_samples_leaf=8, criterion=gini, min_samples_split=9, score=0.878834, total= 2.2min\n",
      "[Parallel(n_jobs=1)]: Done  54 out of  54 | elapsed: 314.0min remaining:    0.0s\n",
      "[CV] max_depth=3, bootstrap=False, max_features=6, min_samples_leaf=7, criterion=gini, min_samples_split=2 \n",
      "[CV]  max_depth=3, bootstrap=False, max_features=6, min_samples_leaf=7, criterion=gini, min_samples_split=2, score=0.848258, total= 1.1min\n",
      "[Parallel(n_jobs=1)]: Done  55 out of  55 | elapsed: 315.2min remaining:    0.0s\n",
      "[CV] max_depth=3, bootstrap=False, max_features=6, min_samples_leaf=7, criterion=gini, min_samples_split=2 \n",
      "[CV]  max_depth=3, bootstrap=False, max_features=6, min_samples_leaf=7, criterion=gini, min_samples_split=2, score=0.835182, total= 1.1min\n",
      "[Parallel(n_jobs=1)]: Done  56 out of  56 | elapsed: 316.3min remaining:    0.0s\n",
      "[CV] max_depth=3, bootstrap=False, max_features=6, min_samples_leaf=7, criterion=gini, min_samples_split=2 \n",
      "[CV]  max_depth=3, bootstrap=False, max_features=6, min_samples_leaf=7, criterion=gini, min_samples_split=2, score=0.841660, total= 1.1min\n",
      "[Parallel(n_jobs=1)]: Done  57 out of  57 | elapsed: 317.5min remaining:    0.0s\n",
      "[CV] max_depth=None, bootstrap=True, max_features=7, min_samples_leaf=1, criterion=entropy, min_samples_split=3 \n",
      "[CV]  max_depth=None, bootstrap=True, max_features=7, min_samples_leaf=1, criterion=entropy, min_samples_split=3, score=0.990495, total= 4.1min\n",
      "[Parallel(n_jobs=1)]: Done  58 out of  58 | elapsed: 321.7min remaining:    0.0s\n",
      "[CV] max_depth=None, bootstrap=True, max_features=7, min_samples_leaf=1, criterion=entropy, min_samples_split=3 \n",
      "[CV]  max_depth=None, bootstrap=True, max_features=7, min_samples_leaf=1, criterion=entropy, min_samples_split=3, score=0.997221, total= 4.2min\n",
      "[Parallel(n_jobs=1)]: Done  59 out of  59 | elapsed: 326.0min remaining:    0.0s\n",
      "[CV] max_depth=None, bootstrap=True, max_features=7, min_samples_leaf=1, criterion=entropy, min_samples_split=3 \n",
      "[CV]  max_depth=None, bootstrap=True, max_features=7, min_samples_leaf=1, criterion=entropy, min_samples_split=3, score=0.997050, total= 4.1min\n",
      "[Parallel(n_jobs=1)]: Done  60 out of  60 | elapsed: 330.2min remaining:    0.0s\n",
      "[Parallel(n_jobs=1)]: Done  60 out of  60 | elapsed: 330.2min finished\n",
      "RandomizedSearchCV took 20715.65 seconds for 20 candidates parameter settings.\n",
      "Model with rank: 1\n",
      "Mean validation score: 0.995 (std: 0.004)\n",
      "Parameters: {'max_depth': None, 'bootstrap': False, 'max_features': 14, 'min_samples_leaf': 1, 'criterion': 'entropy', 'min_samples_split': 2}\n",
      "\n",
      "Model with rank: 2\n",
      "Mean validation score: 0.995 (std: 0.004)\n",
      "Parameters: {'max_depth': None, 'bootstrap': False, 'max_features': 12, 'min_samples_leaf': 2, 'criterion': 'entropy', 'min_samples_split': 10}\n",
      "\n",
      "Model with rank: 3\n",
      "Mean validation score: 0.995 (std: 0.003)\n",
      "Parameters: {'max_depth': None, 'bootstrap': True, 'max_features': 7, 'min_samples_leaf': 1, 'criterion': 'entropy', 'min_samples_split': 3}\n",
      "\n"
     ]
    }
   ],
   "source": [
    "#search 50 times     \n",
    "seed = np.random.seed(1234)\n",
    "n_iter_search = 20\n",
    "random_search = RandomizedSearchCV(rf, param_distributions=param_dist,\n",
    "                                   n_iter=n_iter_search,scoring =pu_score, verbose=100,\n",
    "                                  )\n",
    "\n",
    "start = time()\n",
    "random_search.fit(X_res,y_res )\n",
    "print(\"RandomizedSearchCV took %.2f seconds for %d candidates\"\n",
    "      \" parameter settings.\" % ((time() - start), n_iter_search))\n",
    "\n",
    "report(random_search.cv_results_)"
   ]
  },
  {
   "cell_type": "code",
   "execution_count": 10,
   "metadata": {
    "collapsed": true
   },
   "outputs": [],
   "source": [
    "#RandomizedSearchCV took 20715.65 seconds for 20 candidates parameter settings.\n",
    "#Model with rank: 1\n",
    "#Mean validation score: 0.995 (std: 0.004)\n",
    "#Parameters: {'max_depth': None, 'bootstrap': False, 'max_features': 14, 'min_samples_leaf': 1, \n",
    "#'criterion': 'entropy', 'min_samples_split': 2}\n",
    "\n",
    "rf=RandomForestClassifier(n_estimators=500)\n",
    "rf=RandomForestClassifier(criterion='entropy', max_depth=None, min_samples_split=2, \n",
    "                       min_samples_leaf=1,max_features=14,bootstrap=False,random_state=1234)\n"
   ]
  },
  {
   "cell_type": "code",
   "execution_count": 11,
   "metadata": {
    "collapsed": false
   },
   "outputs": [
    {
     "data": {
      "text/plain": [
       "0    0.0\n",
       "Name: 6679, dtype: float64"
      ]
     },
     "execution_count": 11,
     "metadata": {},
     "output_type": "execute_result"
    }
   ],
   "source": [
    "#fit the model\n",
    "rf.fit(X_res,y_res)\n",
    "\n",
    "predicted_probs = rf.predict_proba(train_std)\n",
    "a= predicted_probs[:,1]\n",
    "np.mean(a)\n",
    "b= predicted_probs[:,0]\n",
    "np.mean(b)\n",
    "a1=sorted(a,reverse=True)\n",
    "a2=pd.DataFrame(a1)\n",
    "a2.iloc[train_PERT.value_counts()[\"Y\"]*4-1,:]"
   ]
  },
  {
   "cell_type": "code",
   "execution_count": 12,
   "metadata": {
    "collapsed": true
   },
   "outputs": [],
   "source": [
    "#Synchronize with Jeff's Scoring Functions\n",
    "from sklearn.metrics import accuracy_score, precision_score, recall_score, \\\n",
    "    f1_score, roc_auc_score, average_precision_score, brier_score_loss, \\\n",
    "    fbeta_score, confusion_matrix\n",
    "from creonmetrics import labeled_metric, assumed_metric, pu_score, \\\n",
    "    pr_one_unlabeled, brier_score_partial_loss\n",
    "\n",
    "y_true = test_Ycat.values\n",
    "y_prob = rf.predict_proba(test_std)\n",
    "\n",
    "y_pred=np.array([1 if x >= 0.0 else 0 for x in y_prob[:,1]])"
   ]
  },
  {
   "cell_type": "code",
   "execution_count": 13,
   "metadata": {
    "collapsed": false
   },
   "outputs": [
    {
     "name": "stdout",
     "output_type": "stream",
     "text": [
      "assumed_brier :  0.00536181075562\n",
      "assumed_brier_neg :  0.00212284261645\n",
      "assumed_f1 :  0.00944014092459\n",
      "assumed_f1beta10 :  0.324903801755\n",
      "confusion_matrix_lab :  [[  0 216]\n",
      " [  0 418]]\n",
      "confusion_matrix_un :  [[    0 87722]\n",
      " [    0   418]]\n",
      "labeled_acc :  0.659305993691\n",
      "labeled_avg_prec :  0.829652996845\n",
      "labeled_brier :  0.454842271293\n",
      "labeled_brier_neg :  0.00925925925926\n",
      "labeled_brier_pos :  0.68509569378\n",
      "labeled_f1 :  0.794676806084\n",
      "labeled_prec :  0.659305993691\n",
      "labeled_recall :  1.0\n",
      "labeled_roc_auc :  0.5\n",
      "pr_one_unlabeled :  1.0\n",
      "pu_score :  1.0\n"
     ]
    }
   ],
   "source": [
    "import collections\n",
    "data = {'labeled_acc' : labeled_metric(y_true, y_pred, accuracy_score),\n",
    "        'labeled_prec' : labeled_metric(y_true, y_pred, precision_score),\n",
    "        'labeled_recall' : labeled_metric(y_true, y_pred, recall_score),\n",
    "        'labeled_f1' : labeled_metric(y_true, y_pred, f1_score),\n",
    "        'labeled_roc_auc' : labeled_metric(y_true, y_pred, roc_auc_score),\n",
    "        'labeled_avg_prec' : labeled_metric(y_true, y_pred, average_precision_score),\n",
    "        'labeled_brier' : labeled_metric(y_true, y_prob, brier_score_loss),\n",
    "        'labeled_brier_pos' : labeled_metric(y_true, y_prob, brier_score_partial_loss, label=1),\n",
    "        'labeled_brier_neg' : labeled_metric(y_true, y_prob, brier_score_partial_loss, label=0),\n",
    "        'confusion_matrix_lab' : labeled_metric(y_true, y_pred, confusion_matrix),\n",
    "        'pr_one_unlabeled' : pr_one_unlabeled(y_true, y_pred),\n",
    "        'assumed_brier' : assumed_metric(y_true, y_prob, brier_score_loss),\n",
    "        'assumed_brier_neg' : assumed_metric(y_true, y_prob, brier_score_partial_loss, label=0),\n",
    "        'assumed_f1' : assumed_metric(y_true, y_pred, f1_score),\n",
    "        'assumed_f1beta10' : assumed_metric(y_true, y_pred, fbeta_score, beta=10),\n",
    "        'confusion_matrix_un' : assumed_metric(y_true, y_pred, confusion_matrix),\n",
    "        'pu_score' : pu_score(y_true, y_pred),\n",
    "        }\n",
    "data_s = collections.OrderedDict(sorted(data.items()))\n",
    "for k, v in data_s.items():\n",
    "    print(k, ': ', v)\n"
   ]
  },
  {
   "cell_type": "code",
   "execution_count": null,
   "metadata": {
    "collapsed": true
   },
   "outputs": [],
   "source": []
  }
 ],
 "metadata": {
  "anaconda-cloud": {},
  "kernelspec": {
   "display_name": "Python [conda root]",
   "language": "python",
   "name": "conda-root-py"
  },
  "language_info": {
   "codemirror_mode": {
    "name": "ipython",
    "version": 3
   },
   "file_extension": ".py",
   "mimetype": "text/x-python",
   "name": "python",
   "nbconvert_exporter": "python",
   "pygments_lexer": "ipython3",
   "version": "3.5.2"
  }
 },
 "nbformat": 4,
 "nbformat_minor": 1
}
