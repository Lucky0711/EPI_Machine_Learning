{
 "cells": [
  {
   "cell_type": "markdown",
   "metadata": {},
   "source": [
    "# Setup, matplotlib inline, automatically reload libraries on every evaluation"
   ]
  },
  {
   "cell_type": "code",
   "execution_count": 1,
   "metadata": {
    "collapsed": false
   },
   "outputs": [],
   "source": [
    "import pandas as pd\n",
    "import numpy as np\n",
    "import scipy as sp\n",
    "pd.options.display.max_rows = 400\n",
    "pd.options.display.max_columns = 400\n",
    "%matplotlib inline\n",
    "%load_ext autoreload\n",
    "%autoreload 2"
   ]
  },
  {
   "cell_type": "code",
   "execution_count": 2,
   "metadata": {
    "collapsed": true
   },
   "outputs": [],
   "source": [
    "from loadcreon import LoadCreon\n",
    "from semisuperhelper import SemiSupervisedHelper\n",
    "from pnuwrapper import PNUWrapper\n",
    "from jeffsearchcv import JeffRandomSearchCV\n",
    "from nestedcross import NestedCV\n",
    "from frankenscorer import FrankenScorer, extract_scores_from_nested, extract_score_grid\n",
    "from searchrf import save_search, load_search"
   ]
  },
  {
   "cell_type": "code",
   "execution_count": 3,
   "metadata": {
    "collapsed": false
   },
   "outputs": [],
   "source": [
    "import xgboost as xgb"
   ]
  },
  {
   "cell_type": "code",
   "execution_count": 4,
   "metadata": {
    "collapsed": true
   },
   "outputs": [],
   "source": [
    "path = \"C:\\Data\\\\010317\\membership14_final_0103.txt\"\n",
    "lc = LoadCreon(path)"
   ]
  },
  {
   "cell_type": "code",
   "execution_count": 51,
   "metadata": {
    "collapsed": false
   },
   "outputs": [],
   "source": [
    "from sklearn.model_selection import train_test_split\n",
    "from sklearn.ensemble import RandomForestClassifier, ExtraTreesClassifier\n",
    "from sklearn.base import clone\n",
    "from sklearn.metrics import f1_score, fbeta_score"
   ]
  },
  {
   "cell_type": "code",
   "execution_count": 6,
   "metadata": {
    "collapsed": true
   },
   "outputs": [],
   "source": [
    "X_train, X_test, y_train, y_test = train_test_split(lc.X, lc.y, test_size=0.2, random_state=771, stratify=lc.y)"
   ]
  },
  {
   "cell_type": "markdown",
   "metadata": {},
   "source": [
    "# SET UP XGBOOST FIRST TRY! Let's do -1 and 1 outputs and linear, rmse"
   ]
  },
  {
   "cell_type": "code",
   "execution_count": 7,
   "metadata": {
    "collapsed": false
   },
   "outputs": [
    {
     "data": {
      "text/plain": [
       "-1    350886\n",
       " 1      1670\n",
       "dtype: int64"
      ]
     },
     "execution_count": 7,
     "metadata": {},
     "output_type": "execute_result"
    }
   ],
   "source": [
    "y_train_xg = y_train.copy()\n",
    "y_train_xg[y_train_xg==0] = -1\n",
    "y_train_xg.value_counts()"
   ]
  },
  {
   "cell_type": "code",
   "execution_count": 11,
   "metadata": {
    "collapsed": true
   },
   "outputs": [],
   "source": [
    "dtrain = xgb.DMatrix(X_train.values, label=y_train_xg.values)"
   ]
  },
  {
   "cell_type": "code",
   "execution_count": 10,
   "metadata": {
    "collapsed": false
   },
   "outputs": [
    {
     "data": {
      "text/plain": [
       "-1    87722\n",
       " 1      418\n",
       "dtype: int64"
      ]
     },
     "execution_count": 10,
     "metadata": {},
     "output_type": "execute_result"
    }
   ],
   "source": [
    "y_test_xg = y_test.copy()\n",
    "y_test_xg[y_test_xg==0] = -1\n",
    "y_test_xg.value_counts()"
   ]
  },
  {
   "cell_type": "code",
   "execution_count": 12,
   "metadata": {
    "collapsed": true
   },
   "outputs": [],
   "source": [
    "dtest = xgb.DMatrix(X_test.values, label=y_test_xg.values)"
   ]
  },
  {
   "cell_type": "code",
   "execution_count": 13,
   "metadata": {
    "collapsed": true
   },
   "outputs": [],
   "source": [
    "param = {'max_depth':6, 'eta':0.3}"
   ]
  },
  {
   "cell_type": "code",
   "execution_count": 14,
   "metadata": {
    "collapsed": true
   },
   "outputs": [],
   "source": [
    "watchlist = [(dtest,'eval'),(dtrain,'train')]"
   ]
  },
  {
   "cell_type": "code",
   "execution_count": 63,
   "metadata": {
    "collapsed": true
   },
   "outputs": [],
   "source": [
    "num_round = 15"
   ]
  },
  {
   "cell_type": "code",
   "execution_count": 64,
   "metadata": {
    "collapsed": false
   },
   "outputs": [
    {
     "name": "stdout",
     "output_type": "stream",
     "text": [
      "[0]\teval-rmse:1.05202\ttrain-rmse:1.05179\n",
      "[1]\teval-rmse:0.74236\ttrain-rmse:0.741823\n",
      "[2]\teval-rmse:0.528031\ttrain-rmse:0.526893\n",
      "[3]\teval-rmse:0.381264\ttrain-rmse:0.379233\n",
      "[4]\teval-rmse:0.28282\ttrain-rmse:0.279565\n",
      "[5]\teval-rmse:0.21879\ttrain-rmse:0.21411\n",
      "[6]\teval-rmse:0.179305\ttrain-rmse:0.172974\n",
      "[7]\teval-rmse:0.156311\ttrain-rmse:0.148472\n",
      "[8]\teval-rmse:0.143785\ttrain-rmse:0.134576\n",
      "[9]\teval-rmse:0.137182\ttrain-rmse:0.127147\n",
      "[10]\teval-rmse:0.13372\ttrain-rmse:0.12337\n",
      "[11]\teval-rmse:0.132032\ttrain-rmse:0.120764\n",
      "[12]\teval-rmse:0.131139\ttrain-rmse:0.119739\n",
      "[13]\teval-rmse:0.130807\ttrain-rmse:0.118978\n",
      "[14]\teval-rmse:0.130691\ttrain-rmse:0.118268\n"
     ]
    }
   ],
   "source": [
    "bst = xgb.train(param, dtrain, num_round, watchlist)"
   ]
  },
  {
   "cell_type": "code",
   "execution_count": 65,
   "metadata": {
    "collapsed": false
   },
   "outputs": [],
   "source": [
    "preds = bst.predict(dtest)\n",
    "labels = dtest.get_label()"
   ]
  },
  {
   "cell_type": "code",
   "execution_count": 99,
   "metadata": {
    "collapsed": false
   },
   "outputs": [
    {
     "data": {
      "text/plain": [
       "0.04911504424778761"
      ]
     },
     "execution_count": 99,
     "metadata": {},
     "output_type": "execute_result"
    }
   ],
   "source": [
    "len(preds[preds >= -0.9562]) / len(preds)"
   ]
  },
  {
   "cell_type": "code",
   "execution_count": 100,
   "metadata": {
    "collapsed": true
   },
   "outputs": [],
   "source": [
    "y_pred = preds.copy()\n",
    "y_pred[y_pred >= -0.9562] = 1\n",
    "y_pred[y_pred < -0.9562] = 0"
   ]
  },
  {
   "cell_type": "code",
   "execution_count": 101,
   "metadata": {
    "collapsed": false
   },
   "outputs": [
    {
     "data": {
      "text/plain": [
       "0.0    83811\n",
       "1.0     4329\n",
       "dtype: int64"
      ]
     },
     "execution_count": 101,
     "metadata": {},
     "output_type": "execute_result"
    }
   ],
   "source": [
    "pd.Series(y_pred).value_counts()"
   ]
  },
  {
   "cell_type": "code",
   "execution_count": 102,
   "metadata": {
    "collapsed": true
   },
   "outputs": [],
   "source": [
    "import creonmetrics as cm"
   ]
  },
  {
   "cell_type": "code",
   "execution_count": 103,
   "metadata": {
    "collapsed": false
   },
   "outputs": [
    {
     "data": {
      "text/plain": [
       "0.045322088518632793"
      ]
     },
     "execution_count": 103,
     "metadata": {},
     "output_type": "execute_result"
    }
   ],
   "source": [
    "cm.pr_one_unlabeled(y_test.values, y_pred)"
   ]
  },
  {
   "cell_type": "code",
   "execution_count": 104,
   "metadata": {
    "collapsed": false
   },
   "outputs": [
    {
     "data": {
      "text/plain": [
       "12.921750875666765"
      ]
     },
     "execution_count": 104,
     "metadata": {},
     "output_type": "execute_result"
    }
   ],
   "source": [
    "cm.pu_score(y_test.values, y_pred)"
   ]
  },
  {
   "cell_type": "code",
   "execution_count": 105,
   "metadata": {
    "collapsed": false
   },
   "outputs": [
    {
     "data": {
      "text/plain": [
       "0.72910750287237958"
      ]
     },
     "execution_count": 105,
     "metadata": {},
     "output_type": "execute_result"
    }
   ],
   "source": [
    "cm.assumed_metric(y_test.values, y_pred, fbeta_score, beta=10)"
   ]
  },
  {
   "cell_type": "code",
   "execution_count": 90,
   "metadata": {
    "collapsed": false
   },
   "outputs": [
    {
     "data": {
      "text/plain": [
       "0.860759493670886"
      ]
     },
     "execution_count": 90,
     "metadata": {},
     "output_type": "execute_result"
    }
   ],
   "source": [
    "cm.labeled_metric(y_test.values, y_pred, f1_score)"
   ]
  },
  {
   "cell_type": "code",
   "execution_count": 107,
   "metadata": {
    "collapsed": true
   },
   "outputs": [],
   "source": [
    "def calc_threshold(y_true, y_calced, thresholds):\n",
    "    scores = []\n",
    "    for t in thresholds:\n",
    "        y_pred = y_calced.copy()\n",
    "        y_pred[y_pred >= t] = 1\n",
    "        y_pred[y_pred < t] = 0\n",
    "        s = cm.assumed_metric(y_test.values, y_pred, fbeta_score, beta=10)\n",
    "        scores.append(s)\n",
    "    return list(zip(thresholds, scores))"
   ]
  },
  {
   "cell_type": "code",
   "execution_count": 108,
   "metadata": {
    "collapsed": false
   },
   "outputs": [
    {
     "data": {
      "text/plain": [
       "[(-0.95899999999999996, 0.72738872788615416),\n",
       " (-0.95868965517241378, 0.72748312856895647),\n",
       " (-0.9583793103448276, 0.72764051750248793),\n",
       " (-0.9580689655172413, 0.72793974417245633),\n",
       " (-0.95775862068965512, 0.72857050018413005),\n",
       " (-0.95744827586206893, 0.72864942155206025),\n",
       " (-0.95713793103448275, 0.72877573131094253),\n",
       " (-0.95682758620689656, 0.72896527807880707),\n",
       " (-0.95651724137931027, 0.72902848224736627),\n",
       " (-0.95620689655172408, 0.72910750287237958),\n",
       " (-0.9558965517241379, 0.72731216380357455),\n",
       " (-0.95558620689655172, 0.71972017641052388),\n",
       " (-0.95527586206896553, 0.7178534167970787),\n",
       " (-0.95496551724137924, 0.71790022823606137),\n",
       " (-0.95465517241379305, 0.71813437703848659),\n",
       " (-0.95434482758620687, 0.71827493964898548),\n",
       " (-0.95403448275862068, 0.71846244208053245),\n",
       " (-0.95372413793103439, 0.71877516376852602),\n",
       " (-0.9534137931034482, 0.71677986764193669),\n",
       " (-0.95310344827586202, 0.71682668234167157),\n",
       " (-0.95279310344827584, 0.71698277551553691),\n",
       " (-0.95248275862068965, 0.71717017708174513),\n",
       " (-0.95217241379310336, 0.71726391460625205),\n",
       " (-0.95186206896551717, 0.71737330602640637),\n",
       " (-0.95155172413793099, 0.71821830555797905),\n",
       " (-0.9512413793103448, 0.71835933238791305),\n",
       " (-0.95093103448275862, 0.7183906792049396),\n",
       " (-0.95062068965517232, 0.71884551567548693),\n",
       " (-0.95031034482758614, 0.71889260059824034),\n",
       " (-0.94999999999999996, 0.71917523971779929)]"
      ]
     },
     "execution_count": 108,
     "metadata": {},
     "output_type": "execute_result"
    }
   ],
   "source": [
    "calc_threshold(y_test, preds, np.linspace(start=-.959, stop=-0.950, num=30))"
   ]
  },
  {
   "cell_type": "code",
   "execution_count": 98,
   "metadata": {
    "collapsed": false
   },
   "outputs": [
    {
     "data": {
      "text/plain": [
       "[(-0.9562, 85.83250116290472)]"
      ]
     },
     "execution_count": 98,
     "metadata": {},
     "output_type": "execute_result"
    }
   ],
   "source": [
    "calc_threshold(y_test, preds, [-0.9562])"
   ]
  },
  {
   "cell_type": "markdown",
   "metadata": {},
   "source": [
    "# May want to try probability below using binary:logistic"
   ]
  },
  {
   "cell_type": "code",
   "execution_count": 114,
   "metadata": {
    "collapsed": true
   },
   "outputs": [],
   "source": [
    "param_bin = {'max_depth':6, 'eta':0.3, 'objective':'binary:logistic'}"
   ]
  },
  {
   "cell_type": "code",
   "execution_count": 110,
   "metadata": {
    "collapsed": false
   },
   "outputs": [
    {
     "data": {
      "text/plain": [
       "0    350886\n",
       "1      1670\n",
       "dtype: int64"
      ]
     },
     "execution_count": 110,
     "metadata": {},
     "output_type": "execute_result"
    }
   ],
   "source": [
    "y_train_xg_bin = y_train.copy()\n",
    "y_train_xg_bin[y_train_xg==-1] = 0\n",
    "y_train_xg_bin.value_counts()"
   ]
  },
  {
   "cell_type": "code",
   "execution_count": 112,
   "metadata": {
    "collapsed": false
   },
   "outputs": [
    {
     "data": {
      "text/plain": [
       "0    87722\n",
       "1      418\n",
       "dtype: int64"
      ]
     },
     "execution_count": 112,
     "metadata": {},
     "output_type": "execute_result"
    }
   ],
   "source": [
    "y_test_xg_bin = y_test.copy()\n",
    "y_test_xg_bin[y_test_xg_bin==-1] = 0\n",
    "y_test_xg_bin.value_counts()"
   ]
  },
  {
   "cell_type": "code",
   "execution_count": 113,
   "metadata": {
    "collapsed": true
   },
   "outputs": [],
   "source": [
    "dtrain_bin = xgb.DMatrix(X_train.values, label=y_train_xg_bin.values)\n",
    "dtest_bin = xgb.DMatrix(X_test.values, label=y_test_xg_bin.values)\n",
    "watchlist_bin = [(dtest_bin,'eval'),(dtrain_bin,'train')]\n",
    "num_round_bin = 10"
   ]
  },
  {
   "cell_type": "code",
   "execution_count": 115,
   "metadata": {
    "collapsed": false
   },
   "outputs": [
    {
     "name": "stdout",
     "output_type": "stream",
     "text": [
      "[0]\teval-error:0.004879\ttrain-error:0.004524\n",
      "[1]\teval-error:0.004776\ttrain-error:0.004527\n",
      "[2]\teval-error:0.004788\ttrain-error:0.00451\n",
      "[3]\teval-error:0.004776\ttrain-error:0.004547\n",
      "[4]\teval-error:0.004731\ttrain-error:0.004484\n",
      "[5]\teval-error:0.004708\ttrain-error:0.004462\n",
      "[6]\teval-error:0.00472\ttrain-error:0.004456\n",
      "[7]\teval-error:0.004708\ttrain-error:0.004413\n",
      "[8]\teval-error:0.004742\ttrain-error:0.004385\n",
      "[9]\teval-error:0.004708\ttrain-error:0.004354\n",
      "[10]\teval-error:0.004708\ttrain-error:0.004343\n",
      "[11]\teval-error:0.004708\ttrain-error:0.004328\n",
      "[12]\teval-error:0.004708\ttrain-error:0.004294\n",
      "[13]\teval-error:0.004708\ttrain-error:0.004292\n",
      "[14]\teval-error:0.004742\ttrain-error:0.004263\n",
      "[15]\teval-error:0.004754\ttrain-error:0.004212\n",
      "[16]\teval-error:0.004742\ttrain-error:0.00415\n",
      "[17]\teval-error:0.004776\ttrain-error:0.004099\n",
      "[18]\teval-error:0.004788\ttrain-error:0.00405\n",
      "[19]\teval-error:0.004765\ttrain-error:0.003997\n",
      "[20]\teval-error:0.004754\ttrain-error:0.00398\n",
      "[21]\teval-error:0.004754\ttrain-error:0.003934\n",
      "[22]\teval-error:0.00472\ttrain-error:0.003872\n",
      "[23]\teval-error:0.004686\ttrain-error:0.003852\n",
      "[24]\teval-error:0.004663\ttrain-error:0.003795\n",
      "[25]\teval-error:0.004708\ttrain-error:0.003761\n",
      "[26]\teval-error:0.004652\ttrain-error:0.003736\n",
      "[27]\teval-error:0.004663\ttrain-error:0.003693\n",
      "[28]\teval-error:0.004663\ttrain-error:0.003633\n",
      "[29]\teval-error:0.004674\ttrain-error:0.003599\n",
      "[30]\teval-error:0.004686\ttrain-error:0.003551\n",
      "[31]\teval-error:0.004697\ttrain-error:0.00352\n",
      "[32]\teval-error:0.004686\ttrain-error:0.003489\n",
      "[33]\teval-error:0.004663\ttrain-error:0.003458\n",
      "[34]\teval-error:0.004708\ttrain-error:0.003435\n"
     ]
    }
   ],
   "source": [
    "bst_bin = xgb.train(param_bin, dtrain_bin, num_round_bin, watchlist_bin)"
   ]
  },
  {
   "cell_type": "code",
   "execution_count": 116,
   "metadata": {
    "collapsed": true
   },
   "outputs": [],
   "source": [
    "preds_bin = bst_bin.predict(dtest_bin)\n",
    "labels_bin = dtest_bin.get_label()"
   ]
  },
  {
   "cell_type": "code",
   "execution_count": 117,
   "metadata": {
    "collapsed": false
   },
   "outputs": [
    {
     "data": {
      "text/plain": [
       "array([ 0.00075189,  0.00044098,  0.001111  , ...,  0.00031355,\n",
       "        0.00068524,  0.00554007], dtype=float32)"
      ]
     },
     "execution_count": 117,
     "metadata": {},
     "output_type": "execute_result"
    }
   ],
   "source": [
    "preds_bin"
   ]
  },
  {
   "cell_type": "code",
   "execution_count": 125,
   "metadata": {
    "collapsed": false
   },
   "outputs": [
    {
     "data": {
      "text/plain": [
       "0.002087587928295893"
      ]
     },
     "execution_count": 125,
     "metadata": {},
     "output_type": "execute_result"
    }
   ],
   "source": [
    "len(preds_bin[preds_bin >= 0.3]) / len(preds_bin)"
   ]
  },
  {
   "cell_type": "code",
   "execution_count": 131,
   "metadata": {
    "collapsed": false
   },
   "outputs": [
    {
     "data": {
      "text/plain": [
       "<matplotlib.axes._subplots.AxesSubplot at 0x123bf550>"
      ]
     },
     "execution_count": 131,
     "metadata": {},
     "output_type": "execute_result"
    },
    {
     "data": {
      "image/png": "[encoded data removed]",
      "text/plain": [
       "<matplotlib.figure.Figure at 0x1318f550>"
      ]
     },
     "metadata": {},
     "output_type": "display_data"
    }
   ],
   "source": [
    "pd.Series(preds_bin).sort_values().reset_index(drop=True).plot()"
   ]
  },
  {
   "cell_type": "code",
   "execution_count": null,
   "metadata": {
    "collapsed": true
   },
   "outputs": [],
   "source": []
  },
  {
   "cell_type": "code",
   "execution_count": null,
   "metadata": {
    "collapsed": true
   },
   "outputs": [],
   "source": []
  }
 ],
 "metadata": {
  "anaconda-cloud": {},
  "kernelspec": {
   "display_name": "Python [default]",
   "language": "python",
   "name": "python3"
  },
  "language_info": {
   "codemirror_mode": {
    "name": "ipython",
    "version": 3
   },
   "file_extension": ".py",
   "mimetype": "text/x-python",
   "name": "python",
   "nbconvert_exporter": "python",
   "pygments_lexer": "ipython3",
   "version": "3.5.2"
  }
 },
 "nbformat": 4,
 "nbformat_minor": 2
}
