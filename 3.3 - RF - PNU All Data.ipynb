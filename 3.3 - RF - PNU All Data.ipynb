{
 "cells": [
  {
   "cell_type": "markdown",
   "metadata": {},
   "source": [
    "# SETUP"
   ]
  },
  {
   "cell_type": "code",
   "execution_count": 1,
   "metadata": {
    "collapsed": false
   },
   "outputs": [],
   "source": [
    "import pandas as pd\n",
    "import numpy as np\n",
    "import scipy as sp\n",
    "import matplotlib.pyplot as plt\n",
    "pd.options.display.max_rows = 400\n",
    "pd.options.display.max_columns = 400\n",
    "%matplotlib inline\n",
    "%load_ext autoreload\n",
    "%autoreload 2"
   ]
  },
  {
   "cell_type": "code",
   "execution_count": 2,
   "metadata": {
    "collapsed": true
   },
   "outputs": [],
   "source": [
    "from epiml.loadepiml import LoadEpiml, save_search, load_search\n",
    "from epiml.epimlsklearn.epimlmetrics import pu_scorer, prior_squared_error_scorer_015, brier_score_labeled_loss_scorer, \\\n",
    "    f1_assumed_scorer, f1_labeled_scorer, report_metrics, f1_assumed_beta10_scorer\n",
    "from epiml.semisuperhelper import SemiSupervisedHelper\n",
    "from epiml.epimlsklearn.pnuwrapper import PNUWrapper\n",
    "from epiml.epimlsklearn.jsearchcv import JRandomSearchCV, extract_score_grid\n",
    "from epiml.epimlsklearn.nestedcross import NestedCV, rerun_nested_for_estimator, rerun_nested_for_scoring\n",
    "from epiml.epimlsklearn.frankenscorer import FrankenScorer, extract_scores_from_nested"
   ]
  },
  {
   "cell_type": "code",
   "execution_count": 3,
   "metadata": {
    "collapsed": true
   },
   "outputs": [],
   "source": [
    "path = \"C:\\Data\\membership14_final_0103.txt\"\n",
    "lc = LoadEpiml(path)"
   ]
  },
  {
   "cell_type": "code",
   "execution_count": 4,
   "metadata": {
    "collapsed": true
   },
   "outputs": [],
   "source": [
    "from sklearn.model_selection import train_test_split\n",
    "from sklearn.ensemble import RandomForestClassifier\n",
    "from sklearn.base import clone\n",
    "from sklearn.model_selection import validation_curve"
   ]
  },
  {
   "cell_type": "code",
   "execution_count": 5,
   "metadata": {
    "collapsed": true
   },
   "outputs": [],
   "source": [
    "X_train, X_test, y_train, y_test = train_test_split(lc.X, lc.y, test_size=0.2, random_state=771, stratify=lc.y)"
   ]
  },
  {
   "cell_type": "markdown",
   "metadata": {},
   "source": [
    "# Set up PNU Wrapper with Random Forest"
   ]
  },
  {
   "cell_type": "code",
   "execution_count": 6,
   "metadata": {
    "collapsed": true
   },
   "outputs": [],
   "source": [
    "pnu = PNUWrapper(base_estimator=RandomForestClassifier(), random_state=337)"
   ]
  },
  {
   "cell_type": "markdown",
   "metadata": {},
   "source": [
    "### Put in params that are decent"
   ]
  },
  {
   "cell_type": "code",
   "execution_count": 7,
   "metadata": {
    "collapsed": true
   },
   "outputs": [],
   "source": [
    "params = {'base_estimator__class_weight': 'balanced',\n",
    " 'base_estimator__max_depth': 48,\n",
    " 'base_estimator__max_features': None,\n",
    " 'base_estimator__min_samples_leaf': 10,\n",
    " 'base_estimator__min_samples_split': 0.15,\n",
    " 'base_estimator__n_estimators': 56,\n",
    " 'num_unlabeled': 8303,\n",
    " 'pu_learning': True}"
   ]
  },
  {
   "cell_type": "code",
   "execution_count": 8,
   "metadata": {
    "collapsed": false
   },
   "outputs": [
    {
     "data": {
      "text/plain": [
       "PNUWrapper(base_estimator=RandomForestClassifier(bootstrap=True, class_weight='balanced',\n",
       "            criterion='gini', max_depth=48, max_features=None,\n",
       "            max_leaf_nodes=None, min_impurity_split=1e-07,\n",
       "            min_samples_leaf=10, min_samples_split=0.15,\n",
       "            min_weight_fraction_leaf=0.0, n_estimators=56, n_jobs=1,\n",
       "            oob_score=False, random_state=None, verbose=0,\n",
       "            warm_start=False),\n",
       "      num_unlabeled=8303, pu_learning=True, random_state=337,\n",
       "      threshold_set_pct=None)"
      ]
     },
     "execution_count": 8,
     "metadata": {},
     "output_type": "execute_result"
    }
   ],
   "source": [
    "pnu.set_params(**params)"
   ]
  },
  {
   "cell_type": "code",
   "execution_count": 9,
   "metadata": {
    "collapsed": false
   },
   "outputs": [
    {
     "data": {
      "text/plain": [
       "PNUWrapper(base_estimator=RandomForestClassifier(bootstrap=True, class_weight='balanced',\n",
       "            criterion='gini', max_depth=48, max_features=None,\n",
       "            max_leaf_nodes=None, min_impurity_split=1e-07,\n",
       "            min_samples_leaf=10, min_samples_split=0.15,\n",
       "            min_weight_fraction_leaf=0.0, n_estimators=56, n_jobs=-1,\n",
       "            oob_score=False, random_state=255, verbose=1, warm_start=False),\n",
       "      num_unlabeled=1.0, pu_learning=True, random_state=337,\n",
       "      threshold_set_pct=None)"
      ]
     },
     "execution_count": 9,
     "metadata": {},
     "output_type": "execute_result"
    }
   ],
   "source": [
    "pnu.set_params(num_unlabeled=1.0, base_estimator__n_jobs=-1, base_estimator__verbose=1, base_estimator__random_state=255)"
   ]
  },
  {
   "cell_type": "markdown",
   "metadata": {},
   "source": [
    "### Train model on all data (num_unlabeled=1.0)"
   ]
  },
  {
   "cell_type": "code",
   "execution_count": 10,
   "metadata": {
    "collapsed": false
   },
   "outputs": [
    {
     "name": "stderr",
     "output_type": "stream",
     "text": [
      "[Parallel(n_jobs=-1)]: Done  34 tasks      | elapsed:  4.5min\n",
      "[Parallel(n_jobs=-1)]: Done  56 out of  56 | elapsed:  7.9min finished\n"
     ]
    },
    {
     "data": {
      "text/plain": [
       "PNUWrapper(base_estimator=RandomForestClassifier(bootstrap=True, class_weight='balanced',\n",
       "            criterion='gini', max_depth=48, max_features=None,\n",
       "            max_leaf_nodes=None, min_impurity_split=1e-07,\n",
       "            min_samples_leaf=10, min_samples_split=0.15,\n",
       "            min_weight_fraction_leaf=0.0, n_estimators=56, n_jobs=-1,\n",
       "            oob_score=False, random_state=255, verbose=1, warm_start=False),\n",
       "      num_unlabeled=1.0, pu_learning=True, random_state=337,\n",
       "      threshold_set_pct=None)"
      ]
     },
     "execution_count": 10,
     "metadata": {},
     "output_type": "execute_result"
    }
   ],
   "source": [
    "pnu.fit(X_train.values, y_train.values)"
   ]
  },
  {
   "cell_type": "code",
   "execution_count": 11,
   "metadata": {
    "collapsed": false
   },
   "outputs": [
    {
     "name": "stderr",
     "output_type": "stream",
     "text": [
      "[Parallel(n_jobs=8)]: Done  34 tasks      | elapsed:    0.0s\n",
      "[Parallel(n_jobs=8)]: Done  56 out of  56 | elapsed:    0.0s finished\n",
      "[Parallel(n_jobs=8)]: Done  34 tasks      | elapsed:    0.0s\n",
      "[Parallel(n_jobs=8)]: Done  56 out of  56 | elapsed:    0.1s finished\n"
     ]
    },
    {
     "data": {
      "text/plain": [
       "({'SCORE': 0.85750315258511978,\n",
       "  'assumed_brier': 0.091438582251750583,\n",
       "  'assumed_brier_neg': 0.09135920365218797,\n",
       "  'assumed_f1': 0.095774647887323941,\n",
       "  'assumed_f1beta10': 0.70830411286663109,\n",
       "  'confusion_matrix_lab': array([[180,  35],\n",
       "         [ 78, 340]]),\n",
       "  'confusion_matrix_un': array([[81380,  6342],\n",
       "         [   78,   340]]),\n",
       "  'labeled_acc': 0.82148499210110582,\n",
       "  'labeled_avg_prec': 0.92164327233421772,\n",
       "  'labeled_brier': 0.13830509106280151,\n",
       "  'labeled_brier_neg': 0.19703509651483922,\n",
       "  'labeled_brier_pos': 0.10809707390445672,\n",
       "  'labeled_f1': 0.85750315258511978,\n",
       "  'labeled_prec': 0.90666666666666662,\n",
       "  'labeled_recall': 0.8133971291866029,\n",
       "  'labeled_roc_auc': 0.82530321575609211,\n",
       "  'pr_one_unlabeled': 0.072074234061275097,\n",
       "  'pu_mix_assumed_f1beta10': 79.557549326806821,\n",
       "  'pu_score': 8.7271380401437124},\n",
       " 0.85750315258511978)"
      ]
     },
     "execution_count": 11,
     "metadata": {},
     "output_type": "execute_result"
    }
   ],
   "source": [
    "FrankenScorer()(pnu, X_test.values, y_test.values)"
   ]
  },
  {
   "cell_type": "markdown",
   "metadata": {},
   "source": [
    "# Validation Curve on num_unlabeled"
   ]
  },
  {
   "cell_type": "code",
   "execution_count": 12,
   "metadata": {
    "collapsed": false
   },
   "outputs": [
    {
     "name": "stderr",
     "output_type": "stream",
     "text": [
      "[Parallel(n_jobs=-1)]: Done  24 out of  24 | elapsed:  1.7min finished\n"
     ]
    }
   ],
   "source": [
    "param_range=[0,500,1000,2000,5000,7500,10000,15000]\n",
    "train_scores, test_scores = validation_curve(pnu, X_train.values, y_train.values, 'num_unlabeled',\n",
    "                 param_range=param_range, cv=3, scoring=f1_assumed_beta10_scorer, n_jobs=-1, verbose=1)"
   ]
  },
  {
   "cell_type": "code",
   "execution_count": 13,
   "metadata": {
    "collapsed": false
   },
   "outputs": [
    {
     "data": {
      "image/png": "[encoded data removed]",
      "text/plain": [
       "<matplotlib.figure.Figure at 0xf0f13c8>"
      ]
     },
     "metadata": {},
     "output_type": "display_data"
    }
   ],
   "source": [
    "train_scores_mean = np.mean(train_scores, axis=1)\n",
    "train_scores_std = np.std(train_scores, axis=1)\n",
    "test_scores_mean = np.mean(test_scores, axis=1)\n",
    "test_scores_std = np.std(test_scores, axis=1)\n",
    "\n",
    "plt.title(\"Validation Curve with assumed F1 Beta=10 for RF\")\n",
    "plt.xlabel(\"num_unlabeled\")\n",
    "plt.ylabel(\"F1 Beta=10\")\n",
    "plt.ylim(0.0, 0.8)\n",
    "lw = 2\n",
    "plt.plot(param_range, train_scores_mean, label=\"Training score\",\n",
    "             color=\"darkorange\", lw=lw)\n",
    "plt.fill_between(param_range, train_scores_mean - train_scores_std,\n",
    "                 train_scores_mean + train_scores_std, alpha=0.2,\n",
    "                 color=\"darkorange\", lw=lw)\n",
    "plt.plot(param_range, test_scores_mean, label=\"Cross-validation score\",\n",
    "             color=\"navy\", lw=lw)\n",
    "plt.fill_between(param_range, test_scores_mean - test_scores_std,\n",
    "                 test_scores_mean + test_scores_std, alpha=0.2,\n",
    "                 color=\"navy\", lw=lw)\n",
    "plt.legend(loc=\"best\")\n",
    "plt.show()"
   ]
  },
  {
   "cell_type": "code",
   "execution_count": null,
   "metadata": {
    "collapsed": true
   },
   "outputs": [],
   "source": []
  }
 ],
 "metadata": {
  "anaconda-cloud": {},
  "kernelspec": {
   "display_name": "Python [conda root]",
   "language": "python",
   "name": "conda-root-py"
  },
  "language_info": {
   "codemirror_mode": {
    "name": "ipython",
    "version": 3
   },
   "file_extension": ".py",
   "mimetype": "text/x-python",
   "name": "python",
   "nbconvert_exporter": "python",
   "pygments_lexer": "ipython3",
   "version": "3.5.2"
  }
 },
 "nbformat": 4,
 "nbformat_minor": 2
}
