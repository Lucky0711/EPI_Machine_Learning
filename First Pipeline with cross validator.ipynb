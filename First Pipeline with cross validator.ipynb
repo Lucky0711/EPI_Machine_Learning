{
 "cells": [
  {
   "cell_type": "code",
   "execution_count": 195,
   "metadata": {
    "collapsed": false
   },
   "outputs": [
    {
     "name": "stdout",
     "output_type": "stream",
     "text": [
      "The autoreload extension is already loaded. To reload it, use:\n",
      "  %reload_ext autoreload\n"
     ]
    }
   ],
   "source": [
    "import pandas as pd\n",
    "import numpy as np\n",
    "import scipy as sp\n",
    "pd.options.display.max_rows = 400\n",
    "pd.options.display.max_columns = 400\n",
    "%matplotlib inline\n",
    "%load_ext autoreload\n",
    "%autoreload 2"
   ]
  },
  {
   "cell_type": "code",
   "execution_count": 196,
   "metadata": {
    "collapsed": true
   },
   "outputs": [],
   "source": [
    "from sklearn.model_selection import RandomizedSearchCV"
   ]
  },
  {
   "cell_type": "code",
   "execution_count": 197,
   "metadata": {
    "collapsed": false
   },
   "outputs": [],
   "source": [
    "from loadcreon import LoadCreon\n",
    "from creonmetrics import pu_scorer, prior_squared_error_scorer_015, \\\n",
    "    brier_score_labeled_loss_scorer, f1_assumed_scorer, f1_labeled_scorer\n",
    "from semisuperhelper import SemiSupervisedHelper"
   ]
  },
  {
   "cell_type": "code",
   "execution_count": 3,
   "metadata": {
    "collapsed": false
   },
   "outputs": [],
   "source": [
    "path = \"C:\\Data\\\\010317\\membership14_final_0103.txt\"\n",
    "lc = LoadCreon(path)"
   ]
  },
  {
   "cell_type": "markdown",
   "metadata": {},
   "source": [
    "## Let's stratify 80/20 train test holdout for future use"
   ]
  },
  {
   "cell_type": "code",
   "execution_count": 198,
   "metadata": {
    "collapsed": false
   },
   "outputs": [],
   "source": [
    "from sklearn.model_selection import train_test_split"
   ]
  },
  {
   "cell_type": "code",
   "execution_count": 199,
   "metadata": {
    "collapsed": false
   },
   "outputs": [],
   "source": [
    "X_train, X_test, y_train, y_test = train_test_split(lc.X, lc.y, test_size=0.2, random_state=771, stratify=lc.y)"
   ]
  },
  {
   "cell_type": "markdown",
   "metadata": {},
   "source": [
    "## Let's just train on PN data for now"
   ]
  },
  {
   "cell_type": "code",
   "execution_count": 162,
   "metadata": {
    "collapsed": true
   },
   "outputs": [],
   "source": [
    "semi_helper = SemiSupervisedHelper(y_train.values)"
   ]
  },
  {
   "cell_type": "code",
   "execution_count": 141,
   "metadata": {
    "collapsed": true
   },
   "outputs": [],
   "source": [
    "X_train_pn, y_train_pn = semi_helper.pn(X_train.values)"
   ]
  },
  {
   "cell_type": "markdown",
   "metadata": {},
   "source": [
    "## Quick Scaler and LASSO to test run-time"
   ]
  },
  {
   "cell_type": "code",
   "execution_count": 200,
   "metadata": {
    "collapsed": true
   },
   "outputs": [],
   "source": [
    "from sklearn.preprocessing import MaxAbsScaler\n",
    "from sklearn.linear_model import LogisticRegression\n",
    "from sklearn.pipeline import Pipeline\n",
    "from pnuwrapper import PNUWrapper"
   ]
  },
  {
   "cell_type": "code",
   "execution_count": 201,
   "metadata": {
    "collapsed": false
   },
   "outputs": [],
   "source": [
    "estimators = [('scaler', MaxAbsScaler()),\n",
    "              ('clf',PNUWrapper(base_estimator=LogisticRegression(penalty='l1', C=10), \n",
    "                                num_unlabeled=5819, threshold_set_pct=0.0143))]\n",
    "pipe = Pipeline(estimators)"
   ]
  },
  {
   "cell_type": "code",
   "execution_count": 202,
   "metadata": {
    "collapsed": true
   },
   "outputs": [],
   "source": [
    "from sklearn.model_selection import cross_val_score, cross_val_predict\n",
    "from creonmetrics import pu_scorer"
   ]
  },
  {
   "cell_type": "code",
   "execution_count": 166,
   "metadata": {
    "collapsed": false
   },
   "outputs": [],
   "source": [
    "scores = cross_val_score(pipe, X_train.values, y_train.values, cv=5, scoring=f1_assumed_scorer, n_jobs=4)"
   ]
  },
  {
   "cell_type": "code",
   "execution_count": 167,
   "metadata": {
    "collapsed": false
   },
   "outputs": [
    {
     "data": {
      "text/plain": [
       "array([ 0.14577657,  0.11467577,  0.11382114,  0.13728324,  0.13105413])"
      ]
     },
     "execution_count": 167,
     "metadata": {},
     "output_type": "execute_result"
    }
   ],
   "source": [
    "scores"
   ]
  },
  {
   "cell_type": "code",
   "execution_count": 168,
   "metadata": {
    "collapsed": false
   },
   "outputs": [
    {
     "data": {
      "text/plain": [
       "(0.12852216818706297, 0.025119307560292757)"
      ]
     },
     "execution_count": 168,
     "metadata": {},
     "output_type": "execute_result"
    }
   ],
   "source": [
    "scores.mean(), scores.std()*2"
   ]
  },
  {
   "cell_type": "code",
   "execution_count": 169,
   "metadata": {
    "collapsed": false
   },
   "outputs": [
    {
     "data": {
      "text/plain": [
       "{'clf': PNUWrapper(base_estimator=LogisticRegression(C=10, class_weight=None, dual=False, fit_intercept=True,\n",
       "           intercept_scaling=1, max_iter=100, multi_class='ovr', n_jobs=1,\n",
       "           penalty='l1', random_state=None, solver='liblinear', tol=0.0001,\n",
       "           verbose=0, warm_start=False),\n",
       "       num_unlabeled=5819, random_state=None, threshold_set_pct=0.0143),\n",
       " 'clf__base_estimator': LogisticRegression(C=10, class_weight=None, dual=False, fit_intercept=True,\n",
       "           intercept_scaling=1, max_iter=100, multi_class='ovr', n_jobs=1,\n",
       "           penalty='l1', random_state=None, solver='liblinear', tol=0.0001,\n",
       "           verbose=0, warm_start=False),\n",
       " 'clf__base_estimator__C': 10,\n",
       " 'clf__base_estimator__class_weight': None,\n",
       " 'clf__base_estimator__dual': False,\n",
       " 'clf__base_estimator__fit_intercept': True,\n",
       " 'clf__base_estimator__intercept_scaling': 1,\n",
       " 'clf__base_estimator__max_iter': 100,\n",
       " 'clf__base_estimator__multi_class': 'ovr',\n",
       " 'clf__base_estimator__n_jobs': 1,\n",
       " 'clf__base_estimator__penalty': 'l1',\n",
       " 'clf__base_estimator__random_state': None,\n",
       " 'clf__base_estimator__solver': 'liblinear',\n",
       " 'clf__base_estimator__tol': 0.0001,\n",
       " 'clf__base_estimator__verbose': 0,\n",
       " 'clf__base_estimator__warm_start': False,\n",
       " 'clf__num_unlabeled': 5819,\n",
       " 'clf__random_state': None,\n",
       " 'clf__threshold_set_pct': 0.0143,\n",
       " 'scaler': MaxAbsScaler(copy=True),\n",
       " 'scaler__copy': True,\n",
       " 'steps': [('scaler', MaxAbsScaler(copy=True)),\n",
       "  ('clf',\n",
       "   PNUWrapper(base_estimator=LogisticRegression(C=10, class_weight=None, dual=False, fit_intercept=True,\n",
       "             intercept_scaling=1, max_iter=100, multi_class='ovr', n_jobs=1,\n",
       "             penalty='l1', random_state=None, solver='liblinear', tol=0.0001,\n",
       "             verbose=0, warm_start=False),\n",
       "         num_unlabeled=5819, random_state=None, threshold_set_pct=0.0143))]}"
      ]
     },
     "execution_count": 169,
     "metadata": {},
     "output_type": "execute_result"
    }
   ],
   "source": [
    "pipe.get_params()"
   ]
  },
  {
   "cell_type": "code",
   "execution_count": 215,
   "metadata": {
    "collapsed": false
   },
   "outputs": [],
   "source": [
    "param_search = {'clf__base_estimator__C': sp.stats.expon(scale=4), \n",
    "               'clf__num_unlabeled': sp.stats.randint(low=2000, high=10000)}"
   ]
  },
  {
   "cell_type": "code",
   "execution_count": 216,
   "metadata": {
    "collapsed": false
   },
   "outputs": [],
   "source": [
    "random_log_regress = RandomizedSearchCV(pipe, param_search, n_iter=20, scoring=pu_scorer, n_jobs=-1, cv=5)"
   ]
  },
  {
   "cell_type": "code",
   "execution_count": 205,
   "metadata": {
    "collapsed": false
   },
   "outputs": [],
   "source": [
    "double_cross_scores_log = cross_val_score(random_log_regress, X_train.values, y_train.values, cv=2, scoring=pu_scorer, n_jobs=-1)"
   ]
  },
  {
   "cell_type": "code",
   "execution_count": 206,
   "metadata": {
    "collapsed": false
   },
   "outputs": [
    {
     "data": {
      "text/plain": [
       "array([ 0.72420223,  0.97423055])"
      ]
     },
     "execution_count": 206,
     "metadata": {},
     "output_type": "execute_result"
    }
   ],
   "source": [
    "double_cross_scores_log"
   ]
  },
  {
   "cell_type": "code",
   "execution_count": 217,
   "metadata": {
    "collapsed": false
   },
   "outputs": [
    {
     "data": {
      "text/plain": [
       "RandomizedSearchCV(cv=5, error_score='raise',\n",
       "          estimator=Pipeline(steps=[('scaler', MaxAbsScaler(copy=True)), ('clf', PNUWrapper(base_estimator=LogisticRegression(C=10, class_weight=None, dual=False, fit_intercept=True,\n",
       "          intercept_scaling=1, max_iter=100, multi_class='ovr', n_jobs=1,\n",
       "          penalty='l1', random_state=None, solver='liblinear', tol=0.0001,\n",
       "          verbose=0, warm_start=False),\n",
       "      num_unlabeled=5819, random_state=None, threshold_set_pct=0.0143))]),\n",
       "          fit_params={}, iid=True, n_iter=20, n_jobs=-1,\n",
       "          param_distributions={'clf__base_estimator__C': <scipy.stats._distn_infrastructure.rv_frozen object at 0x000000000D7EE2E8>, 'clf__num_unlabeled': <scipy.stats._distn_infrastructure.rv_frozen object at 0x000000000D7DE828>},\n",
       "          pre_dispatch='2*n_jobs', random_state=None, refit=True,\n",
       "          return_train_score=True, scoring=make_scorer(pu_score),\n",
       "          verbose=0)"
      ]
     },
     "execution_count": 217,
     "metadata": {},
     "output_type": "execute_result"
    }
   ],
   "source": [
    "random_log_regress.fit(X_train.values, y_train.values)"
   ]
  },
  {
   "cell_type": "code",
   "execution_count": 218,
   "metadata": {
    "collapsed": false
   },
   "outputs": [
    {
     "data": {
      "text/plain": [
       "{'clf__base_estimator__C': 2.1079407454966477, 'clf__num_unlabeled': 4477}"
      ]
     },
     "execution_count": 218,
     "metadata": {},
     "output_type": "execute_result"
    }
   ],
   "source": [
    "random_log_regress.best_params_"
   ]
  },
  {
   "cell_type": "code",
   "execution_count": 219,
   "metadata": {
    "collapsed": false
   },
   "outputs": [
    {
     "data": {
      "text/plain": [
       "4.7306442628930467"
      ]
     },
     "execution_count": 219,
     "metadata": {},
     "output_type": "execute_result"
    }
   ],
   "source": [
    "random_log_regress.best_score_"
   ]
  },
  {
   "cell_type": "code",
   "execution_count": 220,
   "metadata": {
    "collapsed": false,
    "scrolled": true
   },
   "outputs": [
    {
     "data": {
      "text/plain": [
       "{'mean_fit_time': array([ 6.07199998,  6.84040003,  6.41475997,  6.23632002,  7.05251999,\n",
       "         6.37104001,  6.62064009,  5.75971999,  6.77391996,  6.72996006,\n",
       "         6.26087995,  5.98415995,  5.65988002,  6.68032007,  6.53327994,\n",
       "         6.56148005,  7.20840001,  6.98012004,  6.51079998,  5.53500004]),\n",
       " 'mean_score_time': array([ 0.74236007,  0.51299996,  0.45552001,  0.46487999,  0.48360004,\n",
       "         0.47423992,  0.39312   ,  0.51792006,  0.63336   ,  0.62087994,\n",
       "         0.48156004,  0.55536003,  0.38687997,  0.51791992,  0.65208006,\n",
       "         0.49607992,  0.46176   ,  0.48379989,  0.50231996,  0.38171997]),\n",
       " 'mean_test_score': array([ 3.37972592,  4.60649412,  4.2117194 ,  4.38025589,  3.76724907,\n",
       "         4.60651766,  4.57080159,  4.73064426,  4.37933608,  4.46379385,\n",
       "         2.71753929,  4.64297667,  3.61092503,  4.59440701,  2.23583535,\n",
       "         2.49033771,  4.53421867,  4.56838823,  3.81706648,  3.61380793]),\n",
       " 'mean_train_score': array([ 3.39202669,  5.06057872,  4.21340636,  5.25724315,  3.80518095,\n",
       "         5.54125756,  5.10260376,  4.6597757 ,  4.68186221,  5.00124456,\n",
       "         2.64180183,  5.27728389,  3.64581343,  5.56079368,  2.14429674,\n",
       "         2.43891772,  5.22228969,  5.1202713 ,  3.903898  ,  3.90928683]),\n",
       " 'param_clf__base_estimator__C': masked_array(data = [0.59541998999786661 7.397495402072165 1.2694651613364274\n",
       "  8.7439079416676009 0.91163496400900557 12.848480273445935\n",
       "  5.9025423033134832 2.1079407454966477 1.6877709609427198\n",
       "  4.3614165800901334 0.28723834744944593 6.2206311982917928\n",
       "  0.58015577086264258 7.3133215900867627 0.12625465464869556\n",
       "  0.20809225366413092 20.781149982297947 2.3276198744338923\n",
       "  0.7677443000566142 0.70717679465058969],\n",
       "              mask = [False False False False False False False False False False False False\n",
       "  False False False False False False False False],\n",
       "        fill_value = ?),\n",
       " 'param_clf__num_unlabeled': masked_array(data = [3510 4514 4709 5748 3776 7399 4432 4477 9085 5655 4803 6007 9937 6162 9766\n",
       "  5025 5452 9721 7147 5578],\n",
       "              mask = [False False False False False False False False False False False False\n",
       "  False False False False False False False False],\n",
       "        fill_value = ?),\n",
       " 'params': ({'clf__base_estimator__C': 0.59541998999786661,\n",
       "   'clf__num_unlabeled': 3510},\n",
       "  {'clf__base_estimator__C': 7.397495402072165, 'clf__num_unlabeled': 4514},\n",
       "  {'clf__base_estimator__C': 1.2694651613364274, 'clf__num_unlabeled': 4709},\n",
       "  {'clf__base_estimator__C': 8.7439079416676009, 'clf__num_unlabeled': 5748},\n",
       "  {'clf__base_estimator__C': 0.91163496400900557, 'clf__num_unlabeled': 3776},\n",
       "  {'clf__base_estimator__C': 12.848480273445935, 'clf__num_unlabeled': 7399},\n",
       "  {'clf__base_estimator__C': 5.9025423033134832, 'clf__num_unlabeled': 4432},\n",
       "  {'clf__base_estimator__C': 2.1079407454966477, 'clf__num_unlabeled': 4477},\n",
       "  {'clf__base_estimator__C': 1.6877709609427198, 'clf__num_unlabeled': 9085},\n",
       "  {'clf__base_estimator__C': 4.3614165800901334, 'clf__num_unlabeled': 5655},\n",
       "  {'clf__base_estimator__C': 0.28723834744944593, 'clf__num_unlabeled': 4803},\n",
       "  {'clf__base_estimator__C': 6.2206311982917928, 'clf__num_unlabeled': 6007},\n",
       "  {'clf__base_estimator__C': 0.58015577086264258, 'clf__num_unlabeled': 9937},\n",
       "  {'clf__base_estimator__C': 7.3133215900867627, 'clf__num_unlabeled': 6162},\n",
       "  {'clf__base_estimator__C': 0.12625465464869556, 'clf__num_unlabeled': 9766},\n",
       "  {'clf__base_estimator__C': 0.20809225366413092, 'clf__num_unlabeled': 5025},\n",
       "  {'clf__base_estimator__C': 20.781149982297947, 'clf__num_unlabeled': 5452},\n",
       "  {'clf__base_estimator__C': 2.3276198744338923, 'clf__num_unlabeled': 9721},\n",
       "  {'clf__base_estimator__C': 0.7677443000566142, 'clf__num_unlabeled': 7147},\n",
       "  {'clf__base_estimator__C': 0.70717679465058969, 'clf__num_unlabeled': 5578}),\n",
       " 'rank_test_score': array([17,  4, 12, 10, 14,  3,  6,  1, 11,  9, 18,  2, 16,  5, 20, 19,  8,\n",
       "         7, 13, 15]),\n",
       " 'split0_test_score': array([ 4.28333141,  6.24263169,  5.56806489,  5.43897127,  4.37966212,\n",
       "         6.1756687 ,  5.54940442,  5.38855211,  5.10089591,  4.90345374,\n",
       "         3.43922718,  5.76853579,  4.70467761,  5.34973081,  2.81724224,\n",
       "         3.17743925,  6.01783309,  5.41625675,  5.00607241,  4.70120691]),\n",
       " 'split0_train_score': array([ 3.53786275,  4.61971138,  3.68849601,  5.27774776,  3.45544058,\n",
       "         5.32124954,  4.90809655,  4.14166589,  4.60483992,  4.64034907,\n",
       "         2.7139687 ,  4.68600906,  3.26566118,  5.06364097,  2.15998782,\n",
       "         2.59451656,  4.85736536,  5.23821441,  3.78904713,  3.77856084]),\n",
       " 'split1_test_score': array([ 3.86369084,  3.69251681,  4.17769678,  4.15911272,  4.24506836,\n",
       "         3.53609602,  4.23445897,  4.28307256,  4.35093827,  3.76350871,\n",
       "         3.13807065,  3.97297407,  3.72487892,  4.65613673,  2.90486526,\n",
       "         3.05225269,  3.87147262,  4.33552307,  4.00592763,  3.91910058]),\n",
       " 'split1_train_score': array([ 3.25807896,  5.17965316,  4.92915453,  5.40121779,  3.98058217,\n",
       "         5.52514788,  5.20351376,  4.85044269,  4.96566775,  4.74273145,\n",
       "         2.57016483,  5.84987258,  3.83568189,  5.57204916,  2.09430384,\n",
       "         2.19495384,  5.37080422,  5.31514859,  4.0654405 ,  3.86265931]),\n",
       " 'split2_test_score': array([ 2.25280246,  3.12684572,  2.58282277,  2.80487846,  2.26364367,\n",
       "         3.00306861,  2.74505391,  2.93845747,  2.89948745,  3.10582137,\n",
       "         1.58492527,  3.31968592,  2.31617746,  2.59011202,  1.34417719,\n",
       "         1.53137815,  3.28613798,  2.93016231,  2.208381  ,  2.15920451]),\n",
       " 'split2_train_score': array([ 3.79081395,  5.44610876,  4.3941595 ,  5.67430491,  4.16341417,\n",
       "         5.99322019,  5.41311515,  5.00162602,  4.61440549,  5.46046649,\n",
       "         2.6424859 ,  5.61994475,  4.05610044,  6.03836332,  2.2824601 ,\n",
       "         2.68033574,  5.88432631,  5.25739039,  4.26879766,  4.13881503]),\n",
       " 'split3_test_score': array([ 3.77750778,  5.39679801,  4.87595468,  4.77069798,  4.79406085,\n",
       "         5.23134723,  6.0086328 ,  6.39021576,  5.47974591,  6.15241192,\n",
       "         3.53769514,  5.73218412,  3.93888654,  5.6838792 ,  2.87382827,\n",
       "         3.40334853,  4.64929465,  6.28433499,  4.3026856 ,  3.8902738 ]),\n",
       " 'split3_train_score': array([ 3.07139604,  5.21788679,  4.03365749,  4.9856213 ,  3.66697803,\n",
       "         5.42552486,  5.09895053,  4.70027135,  4.41134607,  5.10363491,\n",
       "         2.43437755,  4.92392472,  3.25211744,  5.51123102,  2.07618514,\n",
       "         2.40043893,  4.74274826,  5.00506041,  3.53562103,  3.8501984 ]),\n",
       " 'split4_test_score': array([ 2.72126807,  4.57366764,  3.85403405,  4.72761209,  3.1537862 ,\n",
       "         5.08640747,  4.31644515,  4.65291933,  4.06559857,  4.39377622,\n",
       "         1.88775025,  4.42149385,  3.36998407,  4.69216607,  1.2390319 ,\n",
       "         1.28723517,  4.8463478 ,  3.87564546,  3.56224259,  3.39923104]),\n",
       " 'split4_train_score': array([ 3.30198173,  4.8395335 ,  4.02156426,  4.947324  ,  3.75948979,\n",
       "         5.44114534,  4.88934283,  4.60487257,  4.81305184,  5.05904087,\n",
       "         2.84801219,  5.30666836,  3.8195062 ,  5.61868391,  2.10854682,\n",
       "         2.32434353,  5.25620431,  4.7855427 ,  3.86058369,  3.91620061]),\n",
       " 'std_fit_time': array([ 0.92037748,  0.61127954,  1.3602542 ,  1.56041723,  1.16011454,\n",
       "         0.82468393,  1.35587605,  0.48025466,  0.86605046,  1.22405047,\n",
       "         0.27143496,  0.99226793,  0.73402621,  1.51018271,  0.52174008,\n",
       "         1.20294838,  1.15178276,  1.51130972,  0.93621774,  0.4005155 ]),\n",
       " 'std_score_time': array([ 0.16765999,  0.2226567 ,  0.1237818 ,  0.16012623,  0.14195143,\n",
       "         0.15430603,  0.01528485,  0.17354604,  0.18447624,  0.15951719,\n",
       "         0.12536044,  0.18047516,  0.01819263,  0.17354609,  0.25239236,\n",
       "         0.14976005,  0.03638519,  0.12960319,  0.14943464,  0.03626385]),\n",
       " 'std_test_score': array([ 0.76321413,  1.12493109,  1.00630931,  0.88596859,  0.92680747,\n",
       "         1.16617505,  1.14334561,  1.14937422,  0.89674239,  1.03770103,\n",
       "         0.8175195 ,  0.96977555,  0.78118761,  1.07592017,  0.77218261,\n",
       "         0.89313876,  0.92830387,  1.17313612,  0.93145489,  0.83833112]),\n",
       " 'std_train_score': array([ 0.24865781,  0.29352443,  0.42180827,  0.27015475,  0.24600922,\n",
       "         0.23509563,  0.19489832,  0.29199574,  0.19048261,  0.29044227,\n",
       "         0.13848316,  0.42909354,  0.32682317,  0.31021541,  0.07450082,\n",
       "         0.17698582,  0.40611058,  0.19799301,  0.24897491,  0.12287054])}"
      ]
     },
     "execution_count": 220,
     "metadata": {},
     "output_type": "execute_result"
    }
   ],
   "source": [
    "random_log_regress.cv_results_"
   ]
  },
  {
   "cell_type": "code",
   "execution_count": 221,
   "metadata": {
    "collapsed": true
   },
   "outputs": [],
   "source": [
    "best = random_log_regress.best_estimator_"
   ]
  },
  {
   "cell_type": "code",
   "execution_count": 222,
   "metadata": {
    "collapsed": true
   },
   "outputs": [],
   "source": [
    "y_predict = best.predict(X_test.values)"
   ]
  },
  {
   "cell_type": "code",
   "execution_count": 223,
   "metadata": {
    "collapsed": true
   },
   "outputs": [],
   "source": [
    "y_true = y_test.values"
   ]
  },
  {
   "cell_type": "code",
   "execution_count": 231,
   "metadata": {
    "collapsed": true
   },
   "outputs": [],
   "source": [
    "from creonmetrics import labeled_metric, pu_score\n",
    "from sklearn.metrics import f1_score, brier_score_loss, auc, average_precision_score"
   ]
  },
  {
   "cell_type": "code",
   "execution_count": 229,
   "metadata": {
    "collapsed": false
   },
   "outputs": [
    {
     "data": {
      "text/plain": [
       "(0.4473197781885398, 0.47235387045813587, 0.5, 0.87120391720255441)"
      ]
     },
     "execution_count": 229,
     "metadata": {},
     "output_type": "execute_result"
    }
   ],
   "source": [
    "(labeled_metric(y_true, y_predict, f1_score),\n",
    "labeled_metric(y_true, y_predict, brier_score_loss),\n",
    "labeled_metric(y_true, y_predict, auc, reorder=True),\n",
    "labeled_metric(y_true, y_predict, average_precision_score))"
   ]
  },
  {
   "cell_type": "code",
   "execution_count": 232,
   "metadata": {
    "collapsed": false
   },
   "outputs": [
    {
     "data": {
      "text/plain": [
       "5.4708833487226842"
      ]
     },
     "execution_count": 232,
     "metadata": {},
     "output_type": "execute_result"
    }
   ],
   "source": [
    "pu_score(y_true, y_predict)"
   ]
  }
 ],
 "metadata": {
  "anaconda-cloud": {},
  "kernelspec": {
   "display_name": "CREON",
   "language": "python",
   "name": "creon"
  },
  "language_info": {
   "codemirror_mode": {
    "name": "ipython",
    "version": 3
   },
   "file_extension": ".py",
   "mimetype": "text/x-python",
   "name": "python",
   "nbconvert_exporter": "python",
   "pygments_lexer": "ipython3",
   "version": "3.5.2"
  }
 },
 "nbformat": 4,
 "nbformat_minor": 2
}
