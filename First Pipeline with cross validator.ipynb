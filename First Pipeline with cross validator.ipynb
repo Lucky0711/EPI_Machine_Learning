{
 "cells": [
  {
   "cell_type": "code",
   "execution_count": 2,
   "metadata": {
    "collapsed": false
   },
   "outputs": [],
   "source": [
    "import pandas as pd\n",
    "import numpy as np\n",
    "import scipy as sp\n",
    "pd.options.display.max_rows = 400\n",
    "pd.options.display.max_columns = 400\n",
    "%load_ext autoreload\n",
    "%autoreload 2"
   ]
  },
  {
   "cell_type": "code",
   "execution_count": 3,
   "metadata": {
    "collapsed": true
   },
   "outputs": [],
   "source": [
    "from loadcreon import LoadCreon\n",
    "from creonmetrics import pu_scorer, prior_squared_error_scorer_015, brier_score_labeled_loss_scorer\n",
    "from semisuperhelper import SemiSupervisedHelper"
   ]
  },
  {
   "cell_type": "code",
   "execution_count": 4,
   "metadata": {
    "collapsed": false
   },
   "outputs": [],
   "source": [
    "path = \"C:\\Data\\\\010317\\membership14_final_0103.txt\"\n",
    "lc = LoadCreon(path)"
   ]
  },
  {
   "cell_type": "markdown",
   "metadata": {},
   "source": [
    "## Let's stratify 80/20 train test holdout for future use"
   ]
  },
  {
   "cell_type": "code",
   "execution_count": 5,
   "metadata": {
    "collapsed": false
   },
   "outputs": [],
   "source": [
    "from sklearn.model_selection import train_test_split"
   ]
  },
  {
   "cell_type": "code",
   "execution_count": 6,
   "metadata": {
    "collapsed": false
   },
   "outputs": [],
   "source": [
    "X_train, X_test, y_train, y_test = train_test_split(lc.X, lc.y, test_size=0.2, random_state=771, stratify=lc.y)"
   ]
  },
  {
   "cell_type": "markdown",
   "metadata": {},
   "source": [
    "## Let's just train on PN data for now"
   ]
  },
  {
   "cell_type": "code",
   "execution_count": 111,
   "metadata": {
    "collapsed": true
   },
   "outputs": [],
   "source": [
    "semi_helper = SemiSupervisedHelper(y_train.values)"
   ]
  },
  {
   "cell_type": "code",
   "execution_count": 112,
   "metadata": {
    "collapsed": true
   },
   "outputs": [],
   "source": [
    "X_train_pn, y_train_pn = semi_helper.pn(X_train.values)"
   ]
  },
  {
   "cell_type": "code",
   "execution_count": 128,
   "metadata": {
    "collapsed": false
   },
   "outputs": [],
   "source": [
    "X_t, y_t = semi_helper.pn_assume(X_train.values, unlabeled_pct=345353453)"
   ]
  },
  {
   "cell_type": "code",
   "execution_count": 129,
   "metadata": {
    "collapsed": false
   },
   "outputs": [
    {
     "data": {
      "text/plain": [
       "((352556, 288), (352556,))"
      ]
     },
     "execution_count": 129,
     "metadata": {},
     "output_type": "execute_result"
    }
   ],
   "source": [
    "X_t.shape, y_t.shape"
   ]
  },
  {
   "cell_type": "code",
   "execution_count": 130,
   "metadata": {
    "collapsed": false
   },
   "outputs": [
    {
     "data": {
      "text/plain": [
       "(array([1, 1, 1, 1, 1, 1, 0, 0, 0, 1, 1, 1, 1, 1, 1, 1, 0, 1, 1, 0], dtype=int64),\n",
       " array([0, 0, 0, 0, 0, 0, 0, 0, 0, 0, 0, 0, 0, 0, 0, 0, 0, 0, 0, 0], dtype=int64))"
      ]
     },
     "execution_count": 130,
     "metadata": {},
     "output_type": "execute_result"
    }
   ],
   "source": [
    "y_t[:20], y_t[-20:]"
   ]
  },
  {
   "cell_type": "markdown",
   "metadata": {},
   "source": [
    "## Quick Scaler and LASSO to test run-time"
   ]
  },
  {
   "cell_type": "code",
   "execution_count": 139,
   "metadata": {
    "collapsed": true
   },
   "outputs": [],
   "source": [
    "from sklearn.preprocessing import MaxAbsScaler\n",
    "from sklearn.linear_model import LogisticRegression\n",
    "from sklearn.pipeline import Pipeline\n",
    "from pnuwrapper import PNUWrapper"
   ]
  },
  {
   "cell_type": "code",
   "execution_count": 170,
   "metadata": {
    "collapsed": false
   },
   "outputs": [],
   "source": [
    "estimators = [('scaler', MaxAbsScaler()),\n",
    "              ('clf',PNUWrapper(base_estimator=LogisticRegression(penalty='l1', C=10), \n",
    "                                num_unlabeled=5819))]\n",
    "pipe = Pipeline(estimators)"
   ]
  },
  {
   "cell_type": "code",
   "execution_count": 171,
   "metadata": {
    "collapsed": true
   },
   "outputs": [],
   "source": [
    "from sklearn.model_selection import cross_val_score, cross_val_predict\n",
    "from creonmetrics import pu_scorer"
   ]
  },
  {
   "cell_type": "code",
   "execution_count": 172,
   "metadata": {
    "collapsed": false
   },
   "outputs": [
    {
     "name": "stdout",
     "output_type": "stream",
     "text": [
      "Wall time: 14.2 s\n"
     ]
    }
   ],
   "source": [
    "%%time\n",
    "scores = cross_val_score(pipe, X_train, y_train, cv=5, scoring=pu_scorer, n_jobs=4)"
   ]
  },
  {
   "cell_type": "code",
   "execution_count": 173,
   "metadata": {
    "collapsed": false
   },
   "outputs": [
    {
     "data": {
      "text/plain": [
       "array([ 4.96740673,  5.12783727,  3.78494382,  5.00711597,  4.70779884])"
      ]
     },
     "execution_count": 173,
     "metadata": {},
     "output_type": "execute_result"
    }
   ],
   "source": [
    "scores"
   ]
  },
  {
   "cell_type": "code",
   "execution_count": 174,
   "metadata": {
    "collapsed": false
   },
   "outputs": [
    {
     "data": {
      "text/plain": [
       "(4.719020525554388, 0.97342736126165508)"
      ]
     },
     "execution_count": 174,
     "metadata": {},
     "output_type": "execute_result"
    }
   ],
   "source": [
    "scores.mean(), scores.std()*2"
   ]
  },
  {
   "cell_type": "code",
   "execution_count": 175,
   "metadata": {
    "collapsed": false
   },
   "outputs": [],
   "source": [
    "X_train_u, y_u = semi_helper.u(X_train)"
   ]
  },
  {
   "cell_type": "code",
   "execution_count": 177,
   "metadata": {
    "collapsed": false
   },
   "outputs": [
    {
     "data": {
      "text/plain": [
       "Pipeline(steps=[('scaler', MaxAbsScaler(copy=True)), ('clf', PNUWrapper(base_estimator=LogisticRegression(C=10, class_weight=None, dual=False, fit_intercept=True,\n",
       "          intercept_scaling=1, max_iter=100, multi_class='ovr', n_jobs=1,\n",
       "          penalty='l1', random_state=None, solver='liblinear', tol=0.0001,\n",
       "          verbose=0, warm_start=False),\n",
       "      num_unlabeled=5819))])"
      ]
     },
     "execution_count": 177,
     "metadata": {},
     "output_type": "execute_result"
    }
   ],
   "source": [
    "pipe.fit(X_train, y_train)"
   ]
  },
  {
   "cell_type": "code",
   "execution_count": 178,
   "metadata": {
    "collapsed": false
   },
   "outputs": [],
   "source": [
    "y_predict_u = pipe.predict(X_train_u)"
   ]
  },
  {
   "cell_type": "code",
   "execution_count": 179,
   "metadata": {
    "collapsed": false
   },
   "outputs": [
    {
     "data": {
      "text/plain": [
       "0    335573\n",
       "1     14451\n",
       "dtype: int64"
      ]
     },
     "execution_count": 179,
     "metadata": {},
     "output_type": "execute_result"
    }
   ],
   "source": [
    "pd.Series(y_predict_u).value_counts()"
   ]
  },
  {
   "cell_type": "code",
   "execution_count": 180,
   "metadata": {
    "collapsed": false
   },
   "outputs": [
    {
     "data": {
      "text/plain": [
       "{'clf': PNUWrapper(base_estimator=LogisticRegression(C=10, class_weight=None, dual=False, fit_intercept=True,\n",
       "           intercept_scaling=1, max_iter=100, multi_class='ovr', n_jobs=1,\n",
       "           penalty='l1', random_state=None, solver='liblinear', tol=0.0001,\n",
       "           verbose=0, warm_start=False),\n",
       "       num_unlabeled=5819),\n",
       " 'clf__base_estimator': LogisticRegression(C=10, class_weight=None, dual=False, fit_intercept=True,\n",
       "           intercept_scaling=1, max_iter=100, multi_class='ovr', n_jobs=1,\n",
       "           penalty='l1', random_state=None, solver='liblinear', tol=0.0001,\n",
       "           verbose=0, warm_start=False),\n",
       " 'clf__base_estimator__C': 10,\n",
       " 'clf__base_estimator__class_weight': None,\n",
       " 'clf__base_estimator__dual': False,\n",
       " 'clf__base_estimator__fit_intercept': True,\n",
       " 'clf__base_estimator__intercept_scaling': 1,\n",
       " 'clf__base_estimator__max_iter': 100,\n",
       " 'clf__base_estimator__multi_class': 'ovr',\n",
       " 'clf__base_estimator__n_jobs': 1,\n",
       " 'clf__base_estimator__penalty': 'l1',\n",
       " 'clf__base_estimator__random_state': None,\n",
       " 'clf__base_estimator__solver': 'liblinear',\n",
       " 'clf__base_estimator__tol': 0.0001,\n",
       " 'clf__base_estimator__verbose': 0,\n",
       " 'clf__base_estimator__warm_start': False,\n",
       " 'clf__num_unlabeled': 5819,\n",
       " 'scaler': MaxAbsScaler(copy=True),\n",
       " 'scaler__copy': True,\n",
       " 'steps': [('scaler', MaxAbsScaler(copy=True)),\n",
       "  ('clf',\n",
       "   PNUWrapper(base_estimator=LogisticRegression(C=10, class_weight=None, dual=False, fit_intercept=True,\n",
       "             intercept_scaling=1, max_iter=100, multi_class='ovr', n_jobs=1,\n",
       "             penalty='l1', random_state=None, solver='liblinear', tol=0.0001,\n",
       "             verbose=0, warm_start=False),\n",
       "         num_unlabeled=5819))]}"
      ]
     },
     "execution_count": 180,
     "metadata": {},
     "output_type": "execute_result"
    }
   ],
   "source": [
    "pipe.get_params()"
   ]
  },
  {
   "cell_type": "code",
   "execution_count": 188,
   "metadata": {
    "collapsed": false
   },
   "outputs": [
    {
     "data": {
      "text/plain": [
       "array([[  1.69322822e+00,   0.00000000e+00,   8.38148066e+01,\n",
       "          7.06074618e+00,   5.32545252e+01,   6.07643651e+01,\n",
       "         -7.96455145e+00,  -9.55387802e-01,  -1.00547151e+01,\n",
       "         -2.26625256e+01,  -1.74198938e+01,  -2.14548174e+01,\n",
       "          3.19566412e+01,   0.00000000e+00,   0.00000000e+00,\n",
       "          2.18567414e+00,   1.54837057e+00,   0.00000000e+00,\n",
       "          0.00000000e+00,   0.00000000e+00,   0.00000000e+00,\n",
       "          0.00000000e+00,   0.00000000e+00,  -1.83695469e+01,\n",
       "         -8.65570383e+00,  -1.04783205e+00,   1.40143810e+01,\n",
       "         -6.36703387e+00,   0.00000000e+00,   0.00000000e+00,\n",
       "         -8.40208294e+00,   0.00000000e+00,   9.08820465e+00,\n",
       "         -1.59831502e+01,   3.52190504e+00,   5.52701197e+00,\n",
       "          4.24825300e-01,   0.00000000e+00,  -6.57788617e+00,\n",
       "          0.00000000e+00,  -2.04388310e+00,   0.00000000e+00,\n",
       "         -7.92311300e+00,  -5.66328865e-01,   1.00817461e+01,\n",
       "          5.01314920e+00,   7.94842146e+00,   0.00000000e+00,\n",
       "         -5.67954908e+00,   6.31337044e+00,   0.00000000e+00,\n",
       "          0.00000000e+00,  -6.24708125e+00,  -1.12198076e+01,\n",
       "         -1.24870804e+01,  -1.60475017e+00,  -9.02050587e-01,\n",
       "         -3.29527404e+00,  -9.08115750e+00,   7.37678940e-01,\n",
       "          4.12643628e+00,  -8.07079980e+00,  -7.00324942e+00,\n",
       "         -5.17948026e+00,  -2.13683708e+01,   4.16834625e-01,\n",
       "          0.00000000e+00,   7.34652722e+00,   0.00000000e+00,\n",
       "          7.69312188e+00,   2.84201321e+00,   0.00000000e+00,\n",
       "          0.00000000e+00,   6.71325447e-01,  -5.50282114e+00,\n",
       "          0.00000000e+00,   0.00000000e+00,   0.00000000e+00,\n",
       "         -7.64375546e+01,   5.42398971e+00,   2.89713457e+00,\n",
       "          5.15489721e+00,   0.00000000e+00,   1.93920979e+01,\n",
       "         -1.02170185e-01,   0.00000000e+00,   1.78812199e+01,\n",
       "          1.06217555e-01,  -8.72172448e-01,   0.00000000e+00,\n",
       "         -2.20057333e+00,   4.90659618e+00,   0.00000000e+00,\n",
       "          0.00000000e+00,   2.62012979e+00,   1.27961433e+00,\n",
       "          3.76654368e+00,  -5.09917090e-01,  -1.93935104e+00,\n",
       "          4.87012645e+00,   2.48146915e+00,  -1.49071893e+00,\n",
       "         -7.88348248e-01,   3.29678576e+00,  -6.14126027e-01,\n",
       "          8.01760842e+00,  -8.21069361e-02,   0.00000000e+00,\n",
       "          5.33193541e+00,  -8.25585181e+00,  -1.98396027e+00,\n",
       "          1.34323809e+00,   4.04251593e+00,  -6.19169174e+00,\n",
       "          4.10583743e-01,   0.00000000e+00,   3.85387803e+00,\n",
       "          0.00000000e+00,   2.98148365e+00,   0.00000000e+00,\n",
       "          0.00000000e+00,  -7.82670517e+00,  -1.94020071e+00,\n",
       "          0.00000000e+00,   0.00000000e+00,   1.58777182e+00,\n",
       "         -9.39929705e+00,  -4.85768508e+00,  -1.81532976e+00,\n",
       "         -1.28278987e+01,   4.59875504e+00,   0.00000000e+00,\n",
       "          0.00000000e+00,   4.77978222e+00,   1.36721805e+00,\n",
       "         -1.44406529e+01,   7.71390240e+00,   8.72728201e+00,\n",
       "          4.48531248e-01,   6.22902117e+00,  -1.33526047e+00,\n",
       "          1.23102545e+00,  -2.53354769e+00,   0.00000000e+00,\n",
       "          0.00000000e+00,   7.11207210e-01,  -2.99513232e+00,\n",
       "         -2.11037680e+00,   3.78903008e-01,  -4.22831852e+00,\n",
       "         -2.77365289e+00,  -4.61123643e+00,   0.00000000e+00,\n",
       "          3.81665471e-01,   0.00000000e+00,   0.00000000e+00,\n",
       "          0.00000000e+00,  -3.31138219e+00,   0.00000000e+00,\n",
       "          0.00000000e+00,   0.00000000e+00,   0.00000000e+00,\n",
       "          7.19155147e+00,  -8.72152103e+00,   0.00000000e+00,\n",
       "         -3.62693920e+00,   0.00000000e+00,   0.00000000e+00,\n",
       "          2.66551342e+00,   0.00000000e+00,   0.00000000e+00,\n",
       "          0.00000000e+00,  -8.27565526e+00,  -8.33865311e-01,\n",
       "          1.66761833e+00,   2.33106013e+00,  -1.85317658e+00,\n",
       "          1.75474012e+00,   0.00000000e+00,   0.00000000e+00,\n",
       "          0.00000000e+00,   1.13768786e+00,  -2.32632316e+00,\n",
       "          0.00000000e+00,  -1.15208027e-01,   0.00000000e+00,\n",
       "          0.00000000e+00,   0.00000000e+00,  -2.59674015e+00,\n",
       "          1.36398895e+00,   0.00000000e+00,   0.00000000e+00,\n",
       "          0.00000000e+00,  -3.90344506e+00,  -4.01088821e-01,\n",
       "          3.73029588e-01,   1.76840849e+00,  -3.83056915e+00,\n",
       "          1.68603168e+00,   1.06046202e+00,   7.59859832e-01,\n",
       "          4.15130720e+00,  -1.51016304e+00,   4.76276347e+00,\n",
       "         -3.66843471e-01,  -2.61890257e-01,   2.28655022e+00,\n",
       "         -2.17535113e-01,   0.00000000e+00,   0.00000000e+00,\n",
       "          1.38011276e+00,   7.35777609e-01,  -4.00509934e+00,\n",
       "          1.60586530e+00,   2.93708198e-01,   0.00000000e+00,\n",
       "         -7.28965267e-01,   7.21806739e-01,   1.86124867e+00,\n",
       "         -1.40363946e+00,  -1.23207485e+00,  -6.93843875e+00,\n",
       "          0.00000000e+00,   1.68068846e+00,   2.60976683e+00,\n",
       "         -7.81467559e-01,   6.61894524e+00,   9.59749224e-01,\n",
       "          6.02950003e+00,   0.00000000e+00,  -7.85769874e-02,\n",
       "         -1.13173048e+00,   2.10272715e-01,  -3.13222396e+00,\n",
       "          4.71186028e+00,   5.43834524e-01,  -6.45707397e+00,\n",
       "          4.46411527e+00,   0.00000000e+00,   0.00000000e+00,\n",
       "          6.30738450e+00,   6.05871833e-01,   3.69826471e-01,\n",
       "          2.20691417e+00,   0.00000000e+00,   7.44007418e-01,\n",
       "          2.22802118e+00,   2.72454847e-02,   2.50904768e+00,\n",
       "          4.07942299e-01,  -5.57567775e-01,  -3.82574737e+00,\n",
       "          2.53515314e-01,   1.51852627e-01,  -3.85412365e+00,\n",
       "          8.16389373e-01,   2.83984869e+00,   5.83753750e+00,\n",
       "          2.45876714e+00,   6.23339369e-01,   0.00000000e+00,\n",
       "          2.73179500e+00,  -3.66532607e-01,   6.63940666e-01,\n",
       "          9.82180270e-01,   7.65526102e-01,  -5.12451373e+00,\n",
       "         -3.57597666e-01,   6.93367479e+00,  -6.04654849e-01,\n",
       "          0.00000000e+00,   0.00000000e+00,   7.90778965e-01,\n",
       "          2.78660498e+00,   2.03869525e+00,   0.00000000e+00,\n",
       "          5.71505007e+00,   1.86775454e+00,   0.00000000e+00,\n",
       "         -5.17640193e-01,   2.95940083e+00,   5.58080225e-02,\n",
       "         -6.05955165e-01,   9.58082896e-01,   1.61826663e+00,\n",
       "         -2.71102528e+00,   4.85314229e-01,   4.62520658e-01]])"
      ]
     },
     "execution_count": 188,
     "metadata": {},
     "output_type": "execute_result"
    }
   ],
   "source": [
    "pipe.named_steps['clf'].base_estimator.coef_"
   ]
  },
  {
   "cell_type": "code",
   "execution_count": null,
   "metadata": {
    "collapsed": true
   },
   "outputs": [],
   "source": []
  }
 ],
 "metadata": {
  "anaconda-cloud": {},
  "kernelspec": {
   "display_name": "CREON",
   "language": "python",
   "name": "creon"
  },
  "language_info": {
   "codemirror_mode": {
    "name": "ipython",
    "version": 3
   },
   "file_extension": ".py",
   "mimetype": "text/x-python",
   "name": "python",
   "nbconvert_exporter": "python",
   "pygments_lexer": "ipython3",
   "version": "3.5.2"
  }
 },
 "nbformat": 4,
 "nbformat_minor": 2
}
