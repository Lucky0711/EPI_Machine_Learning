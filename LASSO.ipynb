{
 "cells": [
  {
   "cell_type": "code",
   "execution_count": 1,
   "metadata": {
    "collapsed": false
   },
   "outputs": [],
   "source": [
    "import pandas as pd\n",
    "import numpy as np\n",
    "import scipy as sp\n",
    "pd.options.display.max_rows = 400\n",
    "pd.options.display.max_columns = 400\n",
    "%matplotlib inline\n",
    "%load_ext autoreload\n",
    "%autoreload 2"
   ]
  },
  {
   "cell_type": "code",
   "execution_count": 2,
   "metadata": {
    "collapsed": true
   },
   "outputs": [],
   "source": [
    "from sklearn.pipeline import Pipeline\n",
    "from sklearn.preprocessing import MaxAbsScaler\n",
    "from sklearn.linear_model import LogisticRegression"
   ]
  },
  {
   "cell_type": "code",
   "execution_count": 1,
   "metadata": {
    "collapsed": false
   },
   "outputs": [
    {
     "ename": "ImportError",
     "evalue": "cannot import name 'extract_score_grid'",
     "output_type": "error",
     "traceback": [
      "\u001b[0;31m---------------------------------------------------------------------------\u001b[0m",
      "\u001b[0;31mImportError\u001b[0m                               Traceback (most recent call last)",
      "\u001b[0;32m<ipython-input-1-2e6adbcd41ba>\u001b[0m in \u001b[0;36m<module>\u001b[0;34m()\u001b[0m\n\u001b[1;32m      3\u001b[0m \u001b[0;32mfrom\u001b[0m \u001b[0mcreon\u001b[0m\u001b[0;34m.\u001b[0m\u001b[0mcreonsklearn\u001b[0m\u001b[0;34m.\u001b[0m\u001b[0mnestedcross\u001b[0m \u001b[0;32mimport\u001b[0m \u001b[0mNestedCV\u001b[0m\u001b[0;34m\u001b[0m\u001b[0m\n\u001b[1;32m      4\u001b[0m \u001b[0;32mfrom\u001b[0m \u001b[0mcreon\u001b[0m\u001b[0;34m.\u001b[0m\u001b[0mcreonsklearn\u001b[0m\u001b[0;34m.\u001b[0m\u001b[0mjeffsearchcv\u001b[0m \u001b[0;32mimport\u001b[0m \u001b[0mJeffRandomSearchCV\u001b[0m\u001b[0;34m\u001b[0m\u001b[0m\n\u001b[0;32m----> 5\u001b[0;31m \u001b[0;32mfrom\u001b[0m \u001b[0mcreon\u001b[0m\u001b[0;34m.\u001b[0m\u001b[0mcreonsklearn\u001b[0m\u001b[0;34m.\u001b[0m\u001b[0mfrankenscorer\u001b[0m \u001b[0;32mimport\u001b[0m \u001b[0mFrankenScorer\u001b[0m\u001b[0;34m,\u001b[0m \u001b[0mextract_scores_from_nested\u001b[0m\u001b[0;34m,\u001b[0m \u001b[0mextract_score_grid\u001b[0m\u001b[0;34m\u001b[0m\u001b[0m\n\u001b[0m",
      "\u001b[0;31mImportError\u001b[0m: cannot import name 'extract_score_grid'"
     ]
    }
   ],
   "source": [
    "from creon.loadcreon import LoadCreon\n",
    "from creon.creonsklearn.pnuwrapper import PNUWrapper\n",
    "from creon.creonsklearn.nestedcross import NestedCV\n",
    "from creon.creonsklearn.jeffsearchcv import JeffRandomSearchCV, extract_score_grid\n",
    "from creon.creonsklearn.frankenscorer import FrankenScorer, extract_scores_from_nested"
   ]
  },
  {
   "cell_type": "code",
   "execution_count": 4,
   "metadata": {
    "collapsed": false
   },
   "outputs": [],
   "source": [
    "path = \"C:\\Data\\\\010317\\membership14_final_0103.txt\"\n",
    "lc = LoadCreon(path)"
   ]
  },
  {
   "cell_type": "markdown",
   "metadata": {},
   "source": [
    "## Let's stratify 80/20 train test holdout for future use"
   ]
  },
  {
   "cell_type": "code",
   "execution_count": 5,
   "metadata": {
    "collapsed": false
   },
   "outputs": [],
   "source": [
    "from sklearn.model_selection import train_test_split"
   ]
  },
  {
   "cell_type": "code",
   "execution_count": 7,
   "metadata": {
    "collapsed": false
   },
   "outputs": [],
   "source": [
    "X_train, X_test, y_train, y_test = train_test_split(lc.X, lc.y, test_size=0.2, random_state=771, stratify=lc.y)"
   ]
  },
  {
   "cell_type": "markdown",
   "metadata": {},
   "source": [
    "## LASSO pipeline and model on labeled data (PN)"
   ]
  },
  {
   "cell_type": "code",
   "execution_count": 8,
   "metadata": {
    "collapsed": false
   },
   "outputs": [],
   "source": [
    "estimators = [('scaler', MaxAbsScaler()),\n",
    "              ('clf',PNUWrapper(base_estimator=LogisticRegression(penalty='l1', C=2)))]\n",
    "pipe = Pipeline(estimators)"
   ]
  },
  {
   "cell_type": "code",
   "execution_count": 92,
   "metadata": {
    "collapsed": false
   },
   "outputs": [
    {
     "data": {
      "text/plain": [
       "Pipeline(steps=[('scaler', MaxAbsScaler(copy=True)), ('clf', PNUWrapper(base_estimator=LogisticRegression(C=2, class_weight=None, dual=False, fit_intercept=True,\n",
       "          intercept_scaling=1, max_iter=100, multi_class='ovr', n_jobs=1,\n",
       "          penalty='l1', random_state=None, solver='liblinear', tol=0.0001,\n",
       "          verbose=0, warm_start=False),\n",
       "      num_unlabeled=0.0, pu_learning=False, random_state=None,\n",
       "      threshold_set_pct=None))])"
      ]
     },
     "execution_count": 92,
     "metadata": {},
     "output_type": "execute_result"
    }
   ],
   "source": [
    "pipe.fit(X_train.values, y_train.values)"
   ]
  },
  {
   "cell_type": "code",
   "execution_count": 93,
   "metadata": {
    "collapsed": false,
    "scrolled": true
   },
   "outputs": [
    {
     "data": {
      "text/plain": [
       "({'SCORE': 0.88551401869158874,\n",
       "  'assumed_brier': 0.59597031989103544,\n",
       "  'assumed_brier_neg': 0.59845958947742284,\n",
       "  'assumed_f1': 0.0093217733505503286,\n",
       "  'assumed_f1beta10': 0.31197991800940528,\n",
       "  'confusion_matrix_lab': array([[156,  59],\n",
       "         [ 39, 379]]),\n",
       "  'confusion_matrix_un': array([[ 7204, 80518],\n",
       "         [   39,   379]]),\n",
       "  'labeled_acc': 0.84518167456556081,\n",
       "  'labeled_avg_prec': 0.91680337132692624,\n",
       "  'labeled_brier': 0.112377322679029,\n",
       "  'labeled_brier_neg': 0.18782771255097075,\n",
       "  'labeled_brier_pos': 0.07356910779274313,\n",
       "  'labeled_f1': 0.88551401869158874,\n",
       "  'labeled_prec': 0.86529680365296802,\n",
       "  'labeled_recall': 0.90669856459330145,\n",
       "  'labeled_roc_auc': 0.81613997997106935,\n",
       "  'pr_one_unlabeled': 0.91945787194167328,\n",
       "  'pu_score': 0.89570806802864955},\n",
       " 0.88551401869158874)"
      ]
     },
     "execution_count": 93,
     "metadata": {},
     "output_type": "execute_result"
    }
   ],
   "source": [
    "FrankenScorer()(pipe, X_test.values, y_test.values)"
   ]
  },
  {
   "cell_type": "code",
   "execution_count": 94,
   "metadata": {
    "collapsed": false,
    "scrolled": true
   },
   "outputs": [
    {
     "data": {
      "text/html": [
       "<div>\n",
       "<table border=\"1\" class=\"dataframe\">\n",
       "  <thead>\n",
       "    <tr style=\"text-align: right;\">\n",
       "      <th></th>\n",
       "      <th>0</th>\n",
       "    </tr>\n",
       "  </thead>\n",
       "  <tbody>\n",
       "    <tr>\n",
       "      <th>DIAG_FLAG4_Sum</th>\n",
       "      <td>31.614798</td>\n",
       "    </tr>\n",
       "    <tr>\n",
       "      <th>DIAG_FLAG2_Sum</th>\n",
       "      <td>8.195174</td>\n",
       "    </tr>\n",
       "    <tr>\n",
       "      <th>DIAG_FLAG71_Sum</th>\n",
       "      <td>5.882953</td>\n",
       "    </tr>\n",
       "    <tr>\n",
       "      <th>ndc_cat54_Sum</th>\n",
       "      <td>5.254430</td>\n",
       "    </tr>\n",
       "    <tr>\n",
       "      <th>DIAG_FLAG69_Sum</th>\n",
       "      <td>4.939295</td>\n",
       "    </tr>\n",
       "    <tr>\n",
       "      <th>ndc_cat61_Sum</th>\n",
       "      <td>4.029930</td>\n",
       "    </tr>\n",
       "    <tr>\n",
       "      <th>DIAG_FLAG31_Sum</th>\n",
       "      <td>3.957505</td>\n",
       "    </tr>\n",
       "    <tr>\n",
       "      <th>ndc_cat59_Sum</th>\n",
       "      <td>3.950633</td>\n",
       "    </tr>\n",
       "    <tr>\n",
       "      <th>ndc_cat87_Sum</th>\n",
       "      <td>3.608643</td>\n",
       "    </tr>\n",
       "    <tr>\n",
       "      <th>ndc_cat58_Sum</th>\n",
       "      <td>3.571072</td>\n",
       "    </tr>\n",
       "    <tr>\n",
       "      <th>ndc_cat43_Sum</th>\n",
       "      <td>3.075380</td>\n",
       "    </tr>\n",
       "    <tr>\n",
       "      <th>REVCODE_FLAG19_Sum</th>\n",
       "      <td>2.573163</td>\n",
       "    </tr>\n",
       "    <tr>\n",
       "      <th>ndc_cat30_Sum</th>\n",
       "      <td>2.264344</td>\n",
       "    </tr>\n",
       "    <tr>\n",
       "      <th>REVCODE_FLAG10_Sum</th>\n",
       "      <td>2.043597</td>\n",
       "    </tr>\n",
       "    <tr>\n",
       "      <th>ndc_cat76_Sum</th>\n",
       "      <td>1.978958</td>\n",
       "    </tr>\n",
       "    <tr>\n",
       "      <th>CPT_FLAG19_Sum</th>\n",
       "      <td>1.936094</td>\n",
       "    </tr>\n",
       "    <tr>\n",
       "      <th>age</th>\n",
       "      <td>1.665501</td>\n",
       "    </tr>\n",
       "    <tr>\n",
       "      <th>ndc_cat6_Sum</th>\n",
       "      <td>1.453613</td>\n",
       "    </tr>\n",
       "    <tr>\n",
       "      <th>ndc_cat13_Sum</th>\n",
       "      <td>1.423881</td>\n",
       "    </tr>\n",
       "    <tr>\n",
       "      <th>ndc_cat45_Sum</th>\n",
       "      <td>1.335949</td>\n",
       "    </tr>\n",
       "    <tr>\n",
       "      <th>ndc_cat11_Sum</th>\n",
       "      <td>1.050481</td>\n",
       "    </tr>\n",
       "    <tr>\n",
       "      <th>ndc_cat40_Sum</th>\n",
       "      <td>0.965611</td>\n",
       "    </tr>\n",
       "    <tr>\n",
       "      <th>CPT_FLAG46_Sum</th>\n",
       "      <td>0.803786</td>\n",
       "    </tr>\n",
       "    <tr>\n",
       "      <th>ndc_cat15_Sum</th>\n",
       "      <td>0.796929</td>\n",
       "    </tr>\n",
       "    <tr>\n",
       "      <th>ndc_cat68_Sum</th>\n",
       "      <td>0.655751</td>\n",
       "    </tr>\n",
       "    <tr>\n",
       "      <th>ndc_cat47_Sum</th>\n",
       "      <td>0.640143</td>\n",
       "    </tr>\n",
       "    <tr>\n",
       "      <th>REVCODE_FLAG22_Sum</th>\n",
       "      <td>0.547234</td>\n",
       "    </tr>\n",
       "    <tr>\n",
       "      <th>Gender_M</th>\n",
       "      <td>0.508675</td>\n",
       "    </tr>\n",
       "    <tr>\n",
       "      <th>ndc_cat1_Sum</th>\n",
       "      <td>0.415511</td>\n",
       "    </tr>\n",
       "    <tr>\n",
       "      <th>ndc_cat16_Sum</th>\n",
       "      <td>0.342093</td>\n",
       "    </tr>\n",
       "    <tr>\n",
       "      <th>ndc_cat79_Sum</th>\n",
       "      <td>0.243215</td>\n",
       "    </tr>\n",
       "    <tr>\n",
       "      <th>ndc_cat22_Sum</th>\n",
       "      <td>0.139884</td>\n",
       "    </tr>\n",
       "    <tr>\n",
       "      <th>ndc_cat24_Sum</th>\n",
       "      <td>0.081842</td>\n",
       "    </tr>\n",
       "    <tr>\n",
       "      <th>ndc_cat31_Sum</th>\n",
       "      <td>0.077617</td>\n",
       "    </tr>\n",
       "    <tr>\n",
       "      <th>ndc_cat21_Sum</th>\n",
       "      <td>-0.029876</td>\n",
       "    </tr>\n",
       "    <tr>\n",
       "      <th>ndc_cat104_Sum</th>\n",
       "      <td>-0.181959</td>\n",
       "    </tr>\n",
       "    <tr>\n",
       "      <th>ndc_cat71_Sum</th>\n",
       "      <td>-0.198262</td>\n",
       "    </tr>\n",
       "    <tr>\n",
       "      <th>ndc_cat37_Sum</th>\n",
       "      <td>-0.377707</td>\n",
       "    </tr>\n",
       "    <tr>\n",
       "      <th>CPT_FLAG3_Sum</th>\n",
       "      <td>-0.559881</td>\n",
       "    </tr>\n",
       "    <tr>\n",
       "      <th>REVCODE_FLAG24_Sum</th>\n",
       "      <td>-0.596980</td>\n",
       "    </tr>\n",
       "    <tr>\n",
       "      <th>ndc_cat9_Sum</th>\n",
       "      <td>-1.341903</td>\n",
       "    </tr>\n",
       "    <tr>\n",
       "      <th>CPT_FLAG7_Sum</th>\n",
       "      <td>-1.671575</td>\n",
       "    </tr>\n",
       "    <tr>\n",
       "      <th>ndc_cat96_Sum</th>\n",
       "      <td>-2.109406</td>\n",
       "    </tr>\n",
       "    <tr>\n",
       "      <th>ndc_cat34_Sum</th>\n",
       "      <td>-2.820214</td>\n",
       "    </tr>\n",
       "    <tr>\n",
       "      <th>ndc_cat72_Sum</th>\n",
       "      <td>-3.291985</td>\n",
       "    </tr>\n",
       "    <tr>\n",
       "      <th>ndc_cat19_Sum</th>\n",
       "      <td>-3.533466</td>\n",
       "    </tr>\n",
       "    <tr>\n",
       "      <th>DIAG_FLAG10_Sum</th>\n",
       "      <td>-4.041735</td>\n",
       "    </tr>\n",
       "    <tr>\n",
       "      <th>DIAG_FLAG48_Sum</th>\n",
       "      <td>-4.685474</td>\n",
       "    </tr>\n",
       "    <tr>\n",
       "      <th>CPT_FLAG5_Sum</th>\n",
       "      <td>-4.874080</td>\n",
       "    </tr>\n",
       "    <tr>\n",
       "      <th>DIAG_FLAG55_Sum</th>\n",
       "      <td>-5.818633</td>\n",
       "    </tr>\n",
       "    <tr>\n",
       "      <th>CPT_FLAG48_Sum</th>\n",
       "      <td>-10.196427</td>\n",
       "    </tr>\n",
       "    <tr>\n",
       "      <th>CPT_FLAG4_Sum</th>\n",
       "      <td>-16.282969</td>\n",
       "    </tr>\n",
       "    <tr>\n",
       "      <th>DIAG_FLAG9_Sum</th>\n",
       "      <td>-18.926882</td>\n",
       "    </tr>\n",
       "    <tr>\n",
       "      <th>CPT_FLAG6_Sum</th>\n",
       "      <td>-25.383785</td>\n",
       "    </tr>\n",
       "  </tbody>\n",
       "</table>\n",
       "</div>"
      ],
      "text/plain": [
       "                            0\n",
       "DIAG_FLAG4_Sum      31.614798\n",
       "DIAG_FLAG2_Sum       8.195174\n",
       "DIAG_FLAG71_Sum      5.882953\n",
       "ndc_cat54_Sum        5.254430\n",
       "DIAG_FLAG69_Sum      4.939295\n",
       "ndc_cat61_Sum        4.029930\n",
       "DIAG_FLAG31_Sum      3.957505\n",
       "ndc_cat59_Sum        3.950633\n",
       "ndc_cat87_Sum        3.608643\n",
       "ndc_cat58_Sum        3.571072\n",
       "ndc_cat43_Sum        3.075380\n",
       "REVCODE_FLAG19_Sum   2.573163\n",
       "ndc_cat30_Sum        2.264344\n",
       "REVCODE_FLAG10_Sum   2.043597\n",
       "ndc_cat76_Sum        1.978958\n",
       "CPT_FLAG19_Sum       1.936094\n",
       "age                  1.665501\n",
       "ndc_cat6_Sum         1.453613\n",
       "ndc_cat13_Sum        1.423881\n",
       "ndc_cat45_Sum        1.335949\n",
       "ndc_cat11_Sum        1.050481\n",
       "ndc_cat40_Sum        0.965611\n",
       "CPT_FLAG46_Sum       0.803786\n",
       "ndc_cat15_Sum        0.796929\n",
       "ndc_cat68_Sum        0.655751\n",
       "ndc_cat47_Sum        0.640143\n",
       "REVCODE_FLAG22_Sum   0.547234\n",
       "Gender_M             0.508675\n",
       "ndc_cat1_Sum         0.415511\n",
       "ndc_cat16_Sum        0.342093\n",
       "ndc_cat79_Sum        0.243215\n",
       "ndc_cat22_Sum        0.139884\n",
       "ndc_cat24_Sum        0.081842\n",
       "ndc_cat31_Sum        0.077617\n",
       "ndc_cat21_Sum       -0.029876\n",
       "ndc_cat104_Sum      -0.181959\n",
       "ndc_cat71_Sum       -0.198262\n",
       "ndc_cat37_Sum       -0.377707\n",
       "CPT_FLAG3_Sum       -0.559881\n",
       "REVCODE_FLAG24_Sum  -0.596980\n",
       "ndc_cat9_Sum        -1.341903\n",
       "CPT_FLAG7_Sum       -1.671575\n",
       "ndc_cat96_Sum       -2.109406\n",
       "ndc_cat34_Sum       -2.820214\n",
       "ndc_cat72_Sum       -3.291985\n",
       "ndc_cat19_Sum       -3.533466\n",
       "DIAG_FLAG10_Sum     -4.041735\n",
       "DIAG_FLAG48_Sum     -4.685474\n",
       "CPT_FLAG5_Sum       -4.874080\n",
       "DIAG_FLAG55_Sum     -5.818633\n",
       "CPT_FLAG48_Sum     -10.196427\n",
       "CPT_FLAG4_Sum      -16.282969\n",
       "DIAG_FLAG9_Sum     -18.926882\n",
       "CPT_FLAG6_Sum      -25.383785"
      ]
     },
     "execution_count": 94,
     "metadata": {},
     "output_type": "execute_result"
    }
   ],
   "source": [
    "imp = pd.DataFrame(pipe.named_steps['clf'].base_estimator.coef_, columns=X_test.columns).T.sort_values(by=0, ascending=False)\n",
    "imp[imp[0] != 0.0]"
   ]
  },
  {
   "cell_type": "markdown",
   "metadata": {},
   "source": [
    "# Let's do nested cross 3x validation on the 80%, although really only 3-fold"
   ]
  },
  {
   "cell_type": "code",
   "execution_count": 10,
   "metadata": {
    "collapsed": false
   },
   "outputs": [
    {
     "name": "stderr",
     "output_type": "stream",
     "text": [
      "[Parallel(n_jobs=-1)]: Done   3 out of   3 | elapsed:   17.2s finished\n"
     ]
    },
    {
     "data": {
      "text/plain": [
       "(0.32460658700734701, 0.32100760974192261, 0.31133719159305517)"
      ]
     },
     "execution_count": 10,
     "metadata": {},
     "output_type": "execute_result"
    }
   ],
   "source": [
    "nested_lasso = NestedCV(pipe, scoring=FrankenScorer('assumed_f1beta10'), cv=3, random_state=None, use_same_random_state=False)\n",
    "nested_lasso.score(X_train.values, y_train.values, n_jobs=-1, verbose=1)"
   ]
  },
  {
   "cell_type": "code",
   "execution_count": 13,
   "metadata": {
    "collapsed": false
   },
   "outputs": [
    {
     "data": {
      "text/plain": [
       "assumed_brier                                                       0.593542\n",
       "assumed_brier_neg                                                   0.596041\n",
       "assumed_f1                                                        0.00951965\n",
       "assumed_f1beta10                                                    0.318984\n",
       "confusion_matrix_lab       [[193.333333333, 94.0], [39.3333333333, 517.33...\n",
       "confusion_matrix_un        [[9332.66666667, 107629.333333], [39.333333333...\n",
       "fn_confusion_matrix_lab                                              39.3333\n",
       "fn_confusion_matrix_un                                               39.3333\n",
       "fp_confusion_matrix_lab                                                   94\n",
       "fp_confusion_matrix_un                                                107629\n",
       "labeled_acc                                                         0.842003\n",
       "labeled_avg_prec                                                    0.911138\n",
       "labeled_brier                                                       0.116226\n",
       "labeled_brier_neg                                                   0.208441\n",
       "labeled_brier_pos                                                  0.0686232\n",
       "labeled_f1                                                          0.885875\n",
       "labeled_prec                                                        0.846335\n",
       "labeled_recall                                                       0.92933\n",
       "labeled_roc_auc                                                     0.801069\n",
       "pr_one_unlabeled                                                    0.921668\n",
       "pu_mix_assumed_f1beta10                                              32.8372\n",
       "pu_score                                                            0.938848\n",
       "tn_confusion_matrix_lab                                              193.333\n",
       "tn_confusion_matrix_un                                               9332.67\n",
       "tp_confusion_matrix_lab                                              517.333\n",
       "tp_confusion_matrix_un                                               517.333\n",
       "dtype: object"
      ]
     },
     "execution_count": 13,
     "metadata": {},
     "output_type": "execute_result"
    }
   ],
   "source": [
    "extract_scores_from_nested(nested_lasso.test_score_datas_).mean().sort_index()"
   ]
  },
  {
   "cell_type": "markdown",
   "metadata": {},
   "source": [
    "## Nested Cross grid search for pipline with PNU wrapper"
   ]
  },
  {
   "cell_type": "code",
   "execution_count": 11,
   "metadata": {
    "collapsed": false
   },
   "outputs": [],
   "source": [
    "param_search = {'clf__base_estimator__C': sp.stats.expon(scale=4), \n",
    "               'clf__num_unlabeled': sp.stats.randint(low=1000, high=10000),\n",
    "               'clf__base_estimator__class_weight': [None, 'balanced'],\n",
    "               'clf__base_estimator__penalty': ['l1','l2'],\n",
    "               'clf__pu_learning': [True, False]}"
   ]
  },
  {
   "cell_type": "code",
   "execution_count": 13,
   "metadata": {
    "collapsed": true
   },
   "outputs": [],
   "source": [
    "jeffsearch = JeffRandomSearchCV(pipe, param_search, n_iter=20, \n",
    "                            scoring=FrankenScorer('assumed_f1beta10'), n_jobs=-1, cv=5, verbose=100)"
   ]
  },
  {
   "cell_type": "code",
   "execution_count": 14,
   "metadata": {
    "collapsed": false
   },
   "outputs": [],
   "source": [
    "nested_cross = NestedCV(jeffsearch, scoring=FrankenScorer('assumed_f1beta10'), cv=5)"
   ]
  },
  {
   "cell_type": "code",
   "execution_count": 15,
   "metadata": {
    "collapsed": false
   },
   "outputs": [
    {
     "name": "stdout",
     "output_type": "stream",
     "text": [
      "Pickling array (shape=(624,), dtype=uint32).\n",
      "Memmaping (shape=(352556, 288), dtype=int64) to new file C:\\Users\\JEFFRE~1.GOM\\AppData\\Local\\Temp\\joblib_memmaping_pool_4404_191771704\\4404-199370344-d47a562ce4fdf84a63c4c4a1b92e0b10.pkl\n",
      "Memmaping (shape=(352556,), dtype=int64) to new file C:\\Users\\JEFFRE~1.GOM\\AppData\\Local\\Temp\\joblib_memmaping_pool_4404_191771704\\4404-199370344-37e9d47f2d553d0c8c1a28b850ef16f7.pkl\n",
      "Memmaping (shape=(282044,), dtype=int32) to new file C:\\Users\\JEFFRE~1.GOM\\AppData\\Local\\Temp\\joblib_memmaping_pool_4404_191771704\\4404-199370344-c9c654a2f7eb2665bd3c539dafc8097f.pkl\n",
      "Pickling array (shape=(70512,), dtype=int32).\n",
      "Pickling array (shape=(624,), dtype=uint32).\n",
      "Memmaping (shape=(352556, 288), dtype=int64) to old file C:\\Users\\JEFFRE~1.GOM\\AppData\\Local\\Temp\\joblib_memmaping_pool_4404_191771704\\4404-199370344-d47a562ce4fdf84a63c4c4a1b92e0b10.pkl\n",
      "Memmaping (shape=(352556,), dtype=int64) to old file C:\\Users\\JEFFRE~1.GOM\\AppData\\Local\\Temp\\joblib_memmaping_pool_4404_191771704\\4404-199370344-37e9d47f2d553d0c8c1a28b850ef16f7.pkl\n",
      "Memmaping (shape=(282044,), dtype=int32) to new file C:\\Users\\JEFFRE~1.GOM\\AppData\\Local\\Temp\\joblib_memmaping_pool_4404_191771704\\4404-199370344-9d68bb4ff57a66ba212c10397f5911c1.pkl\n",
      "Pickling array (shape=(70512,), dtype=int32).\n",
      "Pickling array (shape=(624,), dtype=uint32).\n",
      "Memmaping (shape=(352556, 288), dtype=int64) to old file C:\\Users\\JEFFRE~1.GOM\\AppData\\Local\\Temp\\joblib_memmaping_pool_4404_191771704\\4404-199370344-d47a562ce4fdf84a63c4c4a1b92e0b10.pkl\n",
      "Memmaping (shape=(352556,), dtype=int64) to old file C:\\Users\\JEFFRE~1.GOM\\AppData\\Local\\Temp\\joblib_memmaping_pool_4404_191771704\\4404-199370344-37e9d47f2d553d0c8c1a28b850ef16f7.pkl\n",
      "Memmaping (shape=(282045,), dtype=int32) to new file C:\\Users\\JEFFRE~1.GOM\\AppData\\Local\\Temp\\joblib_memmaping_pool_4404_191771704\\4404-199370344-6097f0888cd889868dab25b51665e462.pkl\n",
      "Pickling array (shape=(70511,), dtype=int32).\n",
      "Pickling array (shape=(624,), dtype=uint32).\n",
      "Memmaping (shape=(352556, 288), dtype=int64) to old file C:\\Users\\JEFFRE~1.GOM\\AppData\\Local\\Temp\\joblib_memmaping_pool_4404_191771704\\4404-199370344-d47a562ce4fdf84a63c4c4a1b92e0b10.pkl\n",
      "Memmaping (shape=(352556,), dtype=int64) to old file C:\\Users\\JEFFRE~1.GOM\\AppData\\Local\\Temp\\joblib_memmaping_pool_4404_191771704\\4404-199370344-37e9d47f2d553d0c8c1a28b850ef16f7.pkl\n",
      "Memmaping (shape=(282045,), dtype=int32) to new file C:\\Users\\JEFFRE~1.GOM\\AppData\\Local\\Temp\\joblib_memmaping_pool_4404_191771704\\4404-199370344-76e611c15899f98a4ef078d5bd7c2e1e.pkl\n",
      "Pickling array (shape=(70511,), dtype=int32).\n",
      "Pickling array (shape=(624,), dtype=uint32).\n",
      "Memmaping (shape=(352556, 288), dtype=int64) to old file C:\\Users\\JEFFRE~1.GOM\\AppData\\Local\\Temp\\joblib_memmaping_pool_4404_191771704\\4404-199370344-d47a562ce4fdf84a63c4c4a1b92e0b10.pkl\n",
      "Memmaping (shape=(352556,), dtype=int64) to old file C:\\Users\\JEFFRE~1.GOM\\AppData\\Local\\Temp\\joblib_memmaping_pool_4404_191771704\\4404-199370344-37e9d47f2d553d0c8c1a28b850ef16f7.pkl\n",
      "Memmaping (shape=(282046,), dtype=int32) to new file C:\\Users\\JEFFRE~1.GOM\\AppData\\Local\\Temp\\joblib_memmaping_pool_4404_191771704\\4404-199370344-ddab571a0f2a1f158dd18cfa4816996e.pkl\n",
      "Pickling array (shape=(70510,), dtype=int32).\n",
      "[Parallel(n_jobs=-1)]: Done   1 tasks      | elapsed: 12.7min\n",
      "[Parallel(n_jobs=-1)]: Done   2 out of   5 | elapsed: 12.9min remaining: 19.4min\n",
      "[Parallel(n_jobs=-1)]: Done   3 out of   5 | elapsed: 13.1min remaining:  8.7min\n",
      "[Parallel(n_jobs=-1)]: Done   5 out of   5 | elapsed: 22.7min remaining:    0.0s\n",
      "[Parallel(n_jobs=-1)]: Done   5 out of   5 | elapsed: 22.7min finished\n"
     ]
    },
    {
     "data": {
      "text/plain": [
       "(0.55428519162169576,\n",
       " 0.57867621577913819,\n",
       " 0.53450171821305836,\n",
       " 0.55285273008085756,\n",
       " 0.54992157741429537)"
      ]
     },
     "execution_count": 15,
     "metadata": {},
     "output_type": "execute_result"
    }
   ],
   "source": [
    "nested_cross.score(X_train.values, y_train.values, n_jobs=-1, verbose=100)"
   ]
  },
  {
   "cell_type": "code",
   "execution_count": 16,
   "metadata": {
    "collapsed": false
   },
   "outputs": [
    {
     "data": {
      "text/plain": [
       "labeled_brier                                         0.299873\n",
       "assumed_brier                                         0.129452\n",
       "tn_confusion_matrix_un                                 59952.8\n",
       "labeled_brier_pos                                     0.170663\n",
       "labeled_roc_auc                                       0.557804\n",
       "assumed_f1beta10                                      0.554047\n",
       "labeled_f1                                            0.718223\n",
       "labeled_prec                                          0.736439\n",
       "tp_confusion_matrix_lab                                  240.6\n",
       "fp_confusion_matrix_lab                                  104.4\n",
       "fp_confusion_matrix_un                                 10224.4\n",
       "labeled_avg_prec                                      0.820621\n",
       "fn_confusion_matrix_un                                    93.4\n",
       "labeled_recall                                        0.720359\n",
       "pu_score                                               3.50494\n",
       "confusion_matrix_lab            [[68.0, 104.4], [93.4, 240.6]]\n",
       "confusion_matrix_un        [[59952.8, 10224.4], [93.4, 240.6]]\n",
       "labeled_acc                                           0.609489\n",
       "tn_confusion_matrix_lab                                     68\n",
       "labeled_brier_neg                                     0.549742\n",
       "fn_confusion_matrix_lab                                   93.4\n",
       "assumed_f1                                           0.0446375\n",
       "pr_one_unlabeled                                      0.144562\n",
       "tp_confusion_matrix_un                                   240.6\n",
       "assumed_brier_neg                                     0.129256\n",
       "dtype: object"
      ]
     },
     "execution_count": 16,
     "metadata": {},
     "output_type": "execute_result"
    }
   ],
   "source": [
    "extract_scores_from_nested(nested_cross.test_score_datas_).mean()"
   ]
  },
  {
   "cell_type": "code",
   "execution_count": 18,
   "metadata": {
    "collapsed": false
   },
   "outputs": [
    {
     "data": {
      "text/plain": [
       "[{'clf__base_estimator__C': 13.376507992043008,\n",
       "  'clf__base_estimator__class_weight': 'balanced',\n",
       "  'clf__base_estimator__penalty': 'l1',\n",
       "  'clf__num_unlabeled': 4362,\n",
       "  'clf__pu_learning': True},\n",
       " {'clf__base_estimator__C': 9.2583371272535455,\n",
       "  'clf__base_estimator__class_weight': 'balanced',\n",
       "  'clf__base_estimator__penalty': 'l1',\n",
       "  'clf__num_unlabeled': 5620,\n",
       "  'clf__pu_learning': True},\n",
       " {'clf__base_estimator__C': 5.409346407713377,\n",
       "  'clf__base_estimator__class_weight': 'balanced',\n",
       "  'clf__base_estimator__penalty': 'l1',\n",
       "  'clf__num_unlabeled': 3618,\n",
       "  'clf__pu_learning': True},\n",
       " {'clf__base_estimator__C': 4.8954480062572152,\n",
       "  'clf__base_estimator__class_weight': 'balanced',\n",
       "  'clf__base_estimator__penalty': 'l1',\n",
       "  'clf__num_unlabeled': 7026,\n",
       "  'clf__pu_learning': False},\n",
       " {'clf__base_estimator__C': 1.3738660955586304,\n",
       "  'clf__base_estimator__class_weight': 'balanced',\n",
       "  'clf__base_estimator__penalty': 'l1',\n",
       "  'clf__num_unlabeled': 7233,\n",
       "  'clf__pu_learning': False}]"
      ]
     },
     "execution_count": 18,
     "metadata": {},
     "output_type": "execute_result"
    }
   ],
   "source": [
    "[est.best_params_ for est in nested_cross.estimators_]"
   ]
  },
  {
   "cell_type": "code",
   "execution_count": null,
   "metadata": {
    "collapsed": true
   },
   "outputs": [],
   "source": []
  }
 ],
 "metadata": {
  "anaconda-cloud": {},
  "kernelspec": {
   "display_name": "Python 3",
   "language": "python",
   "name": "python3"
  },
  "language_info": {
   "codemirror_mode": {
    "name": "ipython",
    "version": 3
   },
   "file_extension": ".py",
   "mimetype": "text/x-python",
   "name": "python",
   "nbconvert_exporter": "python",
   "pygments_lexer": "ipython3",
   "version": "3.5.2"
  }
 },
 "nbformat": 4,
 "nbformat_minor": 2
}
