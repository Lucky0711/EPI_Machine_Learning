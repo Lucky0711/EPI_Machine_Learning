{
 "cells": [
  {
   "cell_type": "markdown",
   "metadata": {},
   "source": [
    "# Setup, matplotlib inline, automatically reload libraries on every evaluation"
   ]
  },
  {
   "cell_type": "code",
   "execution_count": 17,
   "metadata": {
    "collapsed": false
   },
   "outputs": [
    {
     "name": "stdout",
     "output_type": "stream",
     "text": [
      "The autoreload extension is already loaded. To reload it, use:\n",
      "  %reload_ext autoreload\n"
     ]
    }
   ],
   "source": [
    "import pandas as pd\n",
    "import numpy as np\n",
    "import scipy as sp\n",
    "pd.options.display.max_rows = 400\n",
    "pd.options.display.max_columns = 400\n",
    "%matplotlib inline\n",
    "%load_ext autoreload\n",
    "%autoreload 2"
   ]
  },
  {
   "cell_type": "code",
   "execution_count": 18,
   "metadata": {
    "collapsed": true
   },
   "outputs": [],
   "source": [
    "from loadcreon import LoadCreon\n",
    "from creonmetrics import pu_scorer, prior_squared_error_scorer_015, brier_score_labeled_loss_scorer, \\\n",
    "    f1_assumed_scorer, f1_labeled_scorer, report_metrics, f1_assumed_beta10_scorer, pu_mix_assumed_f1beta10_scorer\n",
    "from semisuperhelper import SemiSupervisedHelper\n",
    "from pnuwrapper import PNUWrapper\n",
    "from jeffsearchcv import JeffRandomSearchCV\n",
    "from nestedcross import NestedCV\n",
    "from frankenscorer import FrankenScorer, extract_scores_from_nested, extract_score_grid\n",
    "from searchrf import save_search, load_search\n",
    "from repeatedsampling import RepeatedRandomSubSampler"
   ]
  },
  {
   "cell_type": "code",
   "execution_count": 3,
   "metadata": {
    "collapsed": true
   },
   "outputs": [],
   "source": [
    "path = \"C:\\Data\\\\010317\\membership14_final_0103.txt\"\n",
    "lc = LoadCreon(path)"
   ]
  },
  {
   "cell_type": "code",
   "execution_count": 4,
   "metadata": {
    "collapsed": false
   },
   "outputs": [],
   "source": [
    "from sklearn.model_selection import train_test_split\n",
    "from sklearn.ensemble import RandomForestClassifier, ExtraTreesClassifier\n",
    "from sklearn.base import clone"
   ]
  },
  {
   "cell_type": "code",
   "execution_count": 5,
   "metadata": {
    "collapsed": false
   },
   "outputs": [],
   "source": [
    "X_train, X_test, y_train, y_test = train_test_split(lc.X, lc.y, test_size=0.2, random_state=771, stratify=lc.y)"
   ]
  },
  {
   "cell_type": "markdown",
   "metadata": {},
   "source": [
    "# FIRST REPEATED SUB SAMPLER"
   ]
  },
  {
   "cell_type": "markdown",
   "metadata": {},
   "source": [
    "## Set up PNU Wrapper with Random Forest, then JeffSearchCV, then NestedCV"
   ]
  },
  {
   "cell_type": "code",
   "execution_count": 43,
   "metadata": {
    "collapsed": true
   },
   "outputs": [],
   "source": [
    "rf = RandomForestClassifier()\n",
    "et = ExtraTreesClassifier()\n",
    "rep = RepeatedRandomSubSampler(base_estimator=rf, verbose=1)\n",
    "pnu = PNUWrapper(base_estimator=rep, num_unlabeled=1.0)"
   ]
  },
  {
   "cell_type": "markdown",
   "metadata": {},
   "source": [
    "## Set up randomized search parameters"
   ]
  },
  {
   "cell_type": "code",
   "execution_count": 7,
   "metadata": {
    "collapsed": true
   },
   "outputs": [],
   "source": [
    "rf_param_search = {'base_estimator__base_estimator':[rf, et],\n",
    " 'base_estimator__base_estimator__bootstrap': [True, False],\n",
    " 'base_estimator__base_estimator__class_weight': [None,'balanced','balanced_subsample'],\n",
    " 'base_estimator__base_estimator__criterion': ['gini','entropy'],\n",
    " 'base_estimator__base_estimator__max_depth': [None] + list(range(2,100)),\n",
    " 'base_estimator__base_estimator__max_features': ['sqrt','log2',None] + list(range(5,100)),\n",
    " 'base_estimator__base_estimator__min_samples_leaf': [1,2,3,4,5,6,7,8,9,10,15,20,25,30,35,40,45,50,75,100],\n",
    " 'base_estimator__base_estimator__min_samples_split':[2,0.005,0.01,0.015,0.02,0.025,0.03,0.035,0.04,\n",
    "                                                        0.045,0.05,0.07,0.09,0.1,0.12,0.15,0.17,0.2,0.25],\n",
    " 'base_estimator__base_estimator__n_estimators': sp.stats.randint(low=10, high=300),\n",
    " 'base_estimator__sample_imbalance': sp.stats.uniform(loc=0.1, scale=0.9),\n",
    " 'pu_learning': [True, False]\n",
    "                  }"
   ]
  },
  {
   "cell_type": "markdown",
   "metadata": {},
   "source": [
    "### notice random_state is set in jeffsearch, this is so that the same random parameters are searched for each outer fold, sort of like grid search"
   ]
  },
  {
   "cell_type": "code",
   "execution_count": 8,
   "metadata": {
    "collapsed": true
   },
   "outputs": [],
   "source": [
    "jeffsearch = JeffRandomSearchCV(pnu, rf_param_search, n_iter=60, scoring=FrankenScorer(decision_score='assumed_f1beta10'),\n",
    "                                n_jobs=-1, cv=3, verbose=1, pre_dispatch=8, random_state=77)"
   ]
  },
  {
   "cell_type": "markdown",
   "metadata": {},
   "source": [
    "#### 3x3 (x60) nested cross validation"
   ]
  },
  {
   "cell_type": "code",
   "execution_count": 9,
   "metadata": {
    "collapsed": true
   },
   "outputs": [],
   "source": [
    "nested_cross = NestedCV(jeffsearch, scoring=FrankenScorer(decision_score='assumed_f1beta10'), cv=3, random_state=None)"
   ]
  },
  {
   "cell_type": "markdown",
   "metadata": {},
   "source": [
    "## Score the nested cross"
   ]
  },
  {
   "cell_type": "code",
   "execution_count": 10,
   "metadata": {
    "collapsed": false,
    "scrolled": true
   },
   "outputs": [
    {
     "name": "stdout",
     "output_type": "stream",
     "text": [
      "[CV]  ................................................................\n",
      "Fitting 3 folds for each of 60 candidates, totalling 180 fits\n"
     ]
    },
    {
     "name": "stderr",
     "output_type": "stream",
     "text": [
      "[Parallel(n_jobs=-1)]: Done  42 tasks      | elapsed: 112.0min\n",
      "[Parallel(n_jobs=-1)]: Done 180 out of 180 | elapsed: 489.4min finished\n"
     ]
    },
    {
     "name": "stdout",
     "output_type": "stream",
     "text": [
      "generating 137 samples of indices to use to train multiple estimators,               sized 2830 elements with last being 1524 elements\n"
     ]
    },
    {
     "name": "stderr",
     "output_type": "stream",
     "text": [
      "[Parallel(n_jobs=1)]: Done 137 out of 137 | elapsed:  1.4min finished\n",
      "[Parallel(n_jobs=1)]: Done 137 out of 137 | elapsed:  7.5min finished\n",
      "[Parallel(n_jobs=1)]: Done 137 out of 137 | elapsed:  7.5min finished\n",
      "[Parallel(n_jobs=1)]: Done 137 out of 137 | elapsed: 15.6min finished\n",
      "[Parallel(n_jobs=1)]: Done 137 out of 137 | elapsed: 15.6min finished\n"
     ]
    },
    {
     "name": "stdout",
     "output_type": "stream",
     "text": [
      "[CV]  , score=0.702562296381 score_data={'labeled_acc': 0.82011834319526622, 'assumed_f1beta10': 0.70256229638108647, 'assumed_brier_neg': 0.095473052356552665, 'labeled_brier_pos': 0.16992182157136196, 'assumed_brier': 0.095825911141888376, 'labeled_roc_auc': 0.80570204967085568, 'pu_score': 6.8401854874045922, 'pr_one_unlabeled': 0.10198414398971502, 'confusion_matrix_un': array([[104995,  11968],\n",
      "       [    83,    474]]), 'labeled_f1': 0.86181818181818171, 'labeled_brier': 0.17982954499036324, 'confusion_matrix_lab': array([[219,  69],\n",
      "       [ 83, 474]]), 'assumed_f1': 0.072928686822063243, 'labeled_prec': 0.8729281767955801, 'labeled_brier_neg': 0.19899135729725112, 'SCORE': 0.70256229638108647, 'labeled_recall': 0.85098743267504484, 'labeled_avg_prec': 0.9110702307708155}, total=505.9min\n",
      "[Parallel(n_jobs=1)]: Done   1 out of   1 | elapsed: 537.2min remaining:    0.0s\n",
      "[CV]  ................................................................\n",
      "Fitting 3 folds for each of 60 candidates, totalling 180 fits\n"
     ]
    },
    {
     "name": "stderr",
     "output_type": "stream",
     "text": [
      "[Parallel(n_jobs=-1)]: Done  42 tasks      | elapsed: 117.1min\n",
      "[Parallel(n_jobs=-1)]: Done 180 out of 180 | elapsed: 529.8min finished\n"
     ]
    },
    {
     "name": "stdout",
     "output_type": "stream",
     "text": [
      "generating 137 samples of indices to use to train multiple estimators,               sized 2830 elements with last being 1525 elements\n"
     ]
    },
    {
     "name": "stderr",
     "output_type": "stream",
     "text": [
      "[Parallel(n_jobs=1)]: Done 137 out of 137 | elapsed:  4.2min finished\n",
      "[Parallel(n_jobs=1)]: Done 137 out of 137 | elapsed:  7.4min finished\n",
      "[Parallel(n_jobs=1)]: Done 137 out of 137 | elapsed:  7.4min finished\n",
      "[Parallel(n_jobs=1)]: Done 137 out of 137 | elapsed: 15.3min finished\n",
      "[Parallel(n_jobs=1)]: Done 137 out of 137 | elapsed: 15.4min finished\n"
     ]
    },
    {
     "name": "stdout",
     "output_type": "stream",
     "text": [
      "[CV]  , score=0.70122764265 score_data={'labeled_acc': 0.81872037914691942, 'assumed_f1beta10': 0.70122764265023685, 'assumed_brier_neg': 0.074222194234285888, 'labeled_brier_pos': 0.14428425002048584, 'assumed_brier': 0.074554264495885439, 'labeled_roc_auc': 0.82127687524631066, 'pu_score': 8.141926515967004, 'pr_one_unlabeled': 0.077523034068995078, 'confusion_matrix_un': array([[107868,   9094],\n",
      "       [   104,    453]]), 'labeled_f1': 0.85552407932011321, 'labeled_brier': 0.14973095356007535, 'confusion_matrix_lab': array([[238,  49],\n",
      "       [104, 453]]), 'assumed_f1': 0.089667458432304017, 'labeled_prec': 0.90239043824701193, 'labeled_brier_neg': 0.16030173360032404, 'SCORE': 0.70122764265023685, 'labeled_recall': 0.81328545780969475, 'labeled_avg_prec': 0.91944932243593624}, total=548.9min\n",
      "[Parallel(n_jobs=1)]: Done   2 out of   2 | elapsed: 1116.8min remaining:    0.0s\n",
      "[CV]  ................................................................\n",
      "Fitting 3 folds for each of 60 candidates, totalling 180 fits\n"
     ]
    },
    {
     "name": "stderr",
     "output_type": "stream",
     "text": [
      "[Parallel(n_jobs=-1)]: Done  42 tasks      | elapsed: 118.9min\n",
      "[Parallel(n_jobs=-1)]: Done 180 out of 180 | elapsed: 564.8min finished\n"
     ]
    },
    {
     "name": "stdout",
     "output_type": "stream",
     "text": [
      "generating 137 samples of indices to use to train multiple estimators,               sized 2833 elements with last being 1255 elements\n"
     ]
    },
    {
     "name": "stderr",
     "output_type": "stream",
     "text": [
      "[Parallel(n_jobs=1)]: Done 137 out of 137 | elapsed:  4.2min finished\n",
      "[Parallel(n_jobs=1)]: Done 137 out of 137 | elapsed:  7.4min finished\n",
      "[Parallel(n_jobs=1)]: Done 137 out of 137 | elapsed:  7.5min finished\n",
      "[Parallel(n_jobs=1)]: Done 137 out of 137 | elapsed: 15.4min finished\n",
      "[Parallel(n_jobs=1)]: Done 137 out of 137 | elapsed: 15.4min finished\n"
     ]
    },
    {
     "name": "stdout",
     "output_type": "stream",
     "text": [
      "[CV]  , score=0.707446235318 score_data={'labeled_acc': 0.83867141162514824, 'assumed_f1beta10': 0.70744623531766204, 'assumed_brier_neg': 0.073830485701749118, 'labeled_brier_pos': 0.13907766980805419, 'assumed_brier': 0.074139185161087792, 'labeled_roc_auc': 0.8481970521144061, 'pu_score': 8.4090020631052518, 'pr_one_unlabeled': 0.076015221900337687, 'confusion_matrix_un': array([[108057,   8904],\n",
      "       [   101,    455]]), 'labeled_f1': 0.86998087954110903, 'labeled_brier': 0.1389149549523232, 'confusion_matrix_lab': array([[252,  35],\n",
      "       [101, 455]]), 'assumed_f1': 0.091780131114473015, 'labeled_prec': 0.9285714285714286, 'labeled_brier_neg': 0.13859973035376419, 'SCORE': 0.70744623531766204, 'labeled_recall': 0.81834532374100721, 'labeled_avg_prec': 0.93336347698658562}, total=584.0min\n",
      "[Parallel(n_jobs=1)]: Done   3 out of   3 | elapsed: 1731.7min remaining:    0.0s\n",
      "[Parallel(n_jobs=1)]: Done   3 out of   3 | elapsed: 1731.7min finished\n"
     ]
    }
   ],
   "source": [
    "scores = nested_cross.score(X_train.values, y=y_train.values, verbose=100, pre_dispatch=8)"
   ]
  },
  {
   "cell_type": "markdown",
   "metadata": {},
   "source": [
    "## The scores of the 3 folds of the outer loop"
   ]
  },
  {
   "cell_type": "code",
   "execution_count": 14,
   "metadata": {
    "collapsed": false
   },
   "outputs": [
    {
     "data": {
      "text/plain": [
       "(0.70256229638108647, 0.70122764265023685, 0.70744623531766204)"
      ]
     },
     "execution_count": 14,
     "metadata": {},
     "output_type": "execute_result"
    }
   ],
   "source": [
    "scores"
   ]
  },
  {
   "cell_type": "code",
   "execution_count": 12,
   "metadata": {
    "collapsed": true
   },
   "outputs": [],
   "source": [
    "save_search(nested_cross, './res/nested_cross_repreated_rf_large_20170131.pkl')"
   ]
  },
  {
   "cell_type": "code",
   "execution_count": 96,
   "metadata": {
    "collapsed": false
   },
   "outputs": [],
   "source": [
    "nested_cross = load_search('./res/nested_cross_repreated_rf_large_20170131.pkl')"
   ]
  },
  {
   "cell_type": "code",
   "execution_count": 5,
   "metadata": {
    "collapsed": false
   },
   "outputs": [
    {
     "data": {
      "text/plain": [
       "assumed_brier                                                      0.0815065\n",
       "assumed_brier_neg                                                  0.0811752\n",
       "assumed_f1                                                         0.0847921\n",
       "assumed_f1beta10                                                    0.703745\n",
       "confusion_matrix_lab          [[236.333333333, 51.0], [96.0, 460.666666667]]\n",
       "confusion_matrix_un        [[106973.333333, 9988.66666667], [96.0, 460.66...\n",
       "fn_confusion_matrix_lab                                                   96\n",
       "fn_confusion_matrix_un                                                    96\n",
       "fp_confusion_matrix_lab                                                   51\n",
       "fp_confusion_matrix_un                                               9988.67\n",
       "labeled_acc                                                         0.825837\n",
       "labeled_avg_prec                                                    0.921294\n",
       "labeled_brier                                                       0.156158\n",
       "labeled_brier_neg                                                   0.165964\n",
       "labeled_brier_pos                                                   0.151095\n",
       "labeled_f1                                                          0.862441\n",
       "labeled_prec                                                        0.901297\n",
       "labeled_recall                                                      0.827539\n",
       "labeled_roc_auc                                                     0.825059\n",
       "pr_one_unlabeled                                                   0.0851741\n",
       "pu_score                                                             7.79704\n",
       "tn_confusion_matrix_lab                                              236.333\n",
       "tn_confusion_matrix_un                                                106973\n",
       "tp_confusion_matrix_lab                                              460.667\n",
       "tp_confusion_matrix_un                                               460.667\n",
       "dtype: object"
      ]
     },
     "execution_count": 5,
     "metadata": {},
     "output_type": "execute_result"
    }
   ],
   "source": [
    "extract_scores_from_nested(nested_cross.test_score_datas_).mean().sort_index()"
   ]
  },
  {
   "cell_type": "code",
   "execution_count": 10,
   "metadata": {
    "collapsed": false
   },
   "outputs": [
    {
     "data": {
      "text/plain": [
       "[57, 57, 57]"
      ]
     },
     "execution_count": 10,
     "metadata": {},
     "output_type": "execute_result"
    }
   ],
   "source": [
    "[est.best_index_ for est in nested_cross.estimators_]"
   ]
  },
  {
   "cell_type": "code",
   "execution_count": 6,
   "metadata": {
    "collapsed": false,
    "scrolled": true
   },
   "outputs": [
    {
     "data": {
      "text/plain": [
       "mean_pu_score_test            11.311659\n",
       "mean_assumed_f1beta10_test     0.689577\n",
       "optimize_score                80.269381\n",
       "mean_pr_one_unlabeled_test     0.046951\n",
       "Name: 34, dtype: float64"
      ]
     },
     "execution_count": 6,
     "metadata": {},
     "output_type": "execute_result"
    }
   ],
   "source": [
    "t = extract_score_grid(nested_cross.estimators_[0])\n",
    "t['optimize_score'] = t.mean_pu_score_test + (t.mean_assumed_f1beta10_test * 100)\n",
    "t[['mean_pu_score_test','mean_assumed_f1beta10_test','optimize_score','mean_pr_one_unlabeled_test']].iloc[34]"
   ]
  },
  {
   "cell_type": "markdown",
   "metadata": {},
   "source": [
    "## Let's rescore for estimator 34, looks a little better than 57 based on PU + f1beta10"
   ]
  },
  {
   "cell_type": "code",
   "execution_count": 99,
   "metadata": {
    "collapsed": false
   },
   "outputs": [
    {
     "data": {
      "text/plain": [
       "PNUWrapper(base_estimator=RepeatedRandomSubSampler(base_estimator=RandomForestClassifier(bootstrap=False, class_weight=None, criterion='gini',\n",
       "            max_depth=64, max_features=87, max_leaf_nodes=None,\n",
       "            min_impurity_split=1e-07, min_samples_leaf=8,\n",
       "            min_samples_split=2, min_weight_fr..._jobs', random_state=83,\n",
       "             sample_imbalance=0.4406340820472374, verbose=1, voting='soft'),\n",
       "      num_unlabeled=1.0, pu_learning=True, random_state=None,\n",
       "      threshold_set_pct=None)"
      ]
     },
     "execution_count": 99,
     "metadata": {},
     "output_type": "execute_result"
    }
   ],
   "source": [
    "rf = RandomForestClassifier()\n",
    "et = ExtraTreesClassifier()\n",
    "rep_test = RepeatedRandomSubSampler(base_estimator=rf, voting='soft', verbose=1, random_state=83)\n",
    "pnu_test = PNUWrapper(base_estimator=rep_test, num_unlabeled=1.0)\n",
    "pnu_test.set_params(**{'base_estimator__base_estimator': RandomForestClassifier(bootstrap=True, class_weight=None, criterion='gini',\n",
    "              max_depth=64, max_features='auto', max_leaf_nodes=None,\n",
    "              min_impurity_split=1e-07, min_samples_leaf=1,\n",
    "              min_samples_split=2, min_weight_fraction_leaf=0.0,\n",
    "              n_estimators=10, n_jobs=-1, oob_score=False, random_state=324,\n",
    "              verbose=0, warm_start=False),\n",
    "  'base_estimator__base_estimator__bootstrap': False,\n",
    "  'base_estimator__base_estimator__class_weight': None,\n",
    "  'base_estimator__base_estimator__criterion': 'gini',\n",
    "  'base_estimator__base_estimator__max_depth': 64,\n",
    "  'base_estimator__base_estimator__max_features': 87,\n",
    "  'base_estimator__base_estimator__min_samples_leaf': 8,\n",
    "  'base_estimator__base_estimator__min_samples_split': 0.01,\n",
    "  'base_estimator__base_estimator__n_estimators': 79,\n",
    "  'base_estimator__sample_imbalance': 0.44063408204723742,\n",
    "  'pu_learning': True})"
   ]
  },
  {
   "cell_type": "code",
   "execution_count": 100,
   "metadata": {
    "collapsed": true
   },
   "outputs": [],
   "source": [
    "from nestedcross import rerun_nested_for_estimator"
   ]
  },
  {
   "cell_type": "code",
   "execution_count": 101,
   "metadata": {
    "collapsed": true
   },
   "outputs": [],
   "source": [
    "nested_cross = rerun_nested_for_estimator(nested_cross, pnu_test, X_train.values, y_train.values, n_jobs=-1)"
   ]
  },
  {
   "cell_type": "code",
   "execution_count": 102,
   "metadata": {
    "collapsed": false
   },
   "outputs": [
    {
     "data": {
      "text/plain": [
       "assumed_brier                                                       0.047308\n",
       "assumed_brier_neg                                                  0.0468077\n",
       "assumed_f1                                                          0.114702\n",
       "assumed_f1beta10                                                    0.717183\n",
       "confusion_matrix_lab         [[248.333333333, 39.0], [110.0, 446.666666667]]\n",
       "confusion_matrix_un        [[110173.666667, 6788.33333333], [110.0, 446.6...\n",
       "fn_confusion_matrix_lab                                                  110\n",
       "fn_confusion_matrix_un                                                   110\n",
       "fp_confusion_matrix_lab                                                   39\n",
       "fp_confusion_matrix_un                                               6788.33\n",
       "labeled_acc                                                         0.823463\n",
       "labeled_avg_prec                                                    0.926313\n",
       "labeled_brier                                                        0.14321\n",
       "labeled_brier_neg                                                   0.125366\n",
       "labeled_brier_pos                                                   0.152416\n",
       "labeled_f1                                                          0.857036\n",
       "labeled_prec                                                        0.919896\n",
       "labeled_recall                                                      0.802395\n",
       "labeled_roc_auc                                                     0.833346\n",
       "pr_one_unlabeled                                                   0.0578475\n",
       "pu_mix_assumed_f1beta10                                              82.1803\n",
       "pu_score                                                              10.462\n",
       "tn_confusion_matrix_lab                                              248.333\n",
       "tn_confusion_matrix_un                                                110174\n",
       "tp_confusion_matrix_lab                                              446.667\n",
       "tp_confusion_matrix_un                                               446.667\n",
       "dtype: object"
      ]
     },
     "execution_count": 102,
     "metadata": {},
     "output_type": "execute_result"
    }
   ],
   "source": [
    "extract_scores_from_nested(nested_cross.test_score_datas_).mean().sort_index()"
   ]
  },
  {
   "cell_type": "markdown",
   "metadata": {},
   "source": [
    "# Let's dive in and see the parameters for one of the best models"
   ]
  },
  {
   "cell_type": "code",
   "execution_count": 43,
   "metadata": {
    "collapsed": false,
    "scrolled": false
   },
   "outputs": [
    {
     "data": {
      "text/plain": [
       "[{'base_estimator__base_estimator': RandomForestClassifier(bootstrap=True, class_weight=None, criterion='gini',\n",
       "              max_depth=64, max_features='auto', max_leaf_nodes=None,\n",
       "              min_impurity_split=1e-07, min_samples_leaf=1,\n",
       "              min_samples_split=2, min_weight_fraction_leaf=0.0,\n",
       "              n_estimators=10, n_jobs=1, oob_score=False, random_state=None,\n",
       "              verbose=0, warm_start=False),\n",
       "  'base_estimator__base_estimator__bootstrap': False,\n",
       "  'base_estimator__base_estimator__class_weight': None,\n",
       "  'base_estimator__base_estimator__criterion': 'gini',\n",
       "  'base_estimator__base_estimator__max_depth': 64,\n",
       "  'base_estimator__base_estimator__max_features': 87,\n",
       "  'base_estimator__base_estimator__min_samples_leaf': 8,\n",
       "  'base_estimator__base_estimator__min_samples_split': 0.01,\n",
       "  'base_estimator__base_estimator__n_estimators': 79,\n",
       "  'base_estimator__sample_imbalance': 0.44063408204723742,\n",
       "  'pu_learning': True},\n",
       " {'base_estimator__base_estimator': RandomForestClassifier(bootstrap=True, class_weight=None, criterion='gini',\n",
       "              max_depth=64, max_features='auto', max_leaf_nodes=None,\n",
       "              min_impurity_split=1e-07, min_samples_leaf=1,\n",
       "              min_samples_split=2, min_weight_fraction_leaf=0.0,\n",
       "              n_estimators=10, n_jobs=1, oob_score=False, random_state=None,\n",
       "              verbose=0, warm_start=False),\n",
       "  'base_estimator__base_estimator__bootstrap': False,\n",
       "  'base_estimator__base_estimator__class_weight': None,\n",
       "  'base_estimator__base_estimator__criterion': 'gini',\n",
       "  'base_estimator__base_estimator__max_depth': 64,\n",
       "  'base_estimator__base_estimator__max_features': 87,\n",
       "  'base_estimator__base_estimator__min_samples_leaf': 8,\n",
       "  'base_estimator__base_estimator__min_samples_split': 0.01,\n",
       "  'base_estimator__base_estimator__n_estimators': 79,\n",
       "  'base_estimator__sample_imbalance': 0.44063408204723742,\n",
       "  'pu_learning': True},\n",
       " {'base_estimator__base_estimator': RandomForestClassifier(bootstrap=True, class_weight=None, criterion='gini',\n",
       "              max_depth=None, max_features='auto', max_leaf_nodes=None,\n",
       "              min_impurity_split=1e-07, min_samples_leaf=1,\n",
       "              min_samples_split=2, min_weight_fraction_leaf=0.0,\n",
       "              n_estimators=10, n_jobs=1, oob_score=False, random_state=None,\n",
       "              verbose=0, warm_start=False),\n",
       "  'base_estimator__base_estimator__bootstrap': False,\n",
       "  'base_estimator__base_estimator__class_weight': None,\n",
       "  'base_estimator__base_estimator__criterion': 'gini',\n",
       "  'base_estimator__base_estimator__max_depth': 64,\n",
       "  'base_estimator__base_estimator__max_features': 87,\n",
       "  'base_estimator__base_estimator__min_samples_leaf': 8,\n",
       "  'base_estimator__base_estimator__min_samples_split': 0.01,\n",
       "  'base_estimator__base_estimator__n_estimators': 79,\n",
       "  'base_estimator__sample_imbalance': 0.44063408204723742,\n",
       "  'pu_learning': True}]"
      ]
     },
     "execution_count": 43,
     "metadata": {},
     "output_type": "execute_result"
    }
   ],
   "source": [
    "[est.cv_results_['params'][34] for est in nested_cross.estimators_]"
   ]
  },
  {
   "cell_type": "markdown",
   "metadata": {},
   "source": [
    "## Let's see what feature importance looks like for this specific estimator"
   ]
  },
  {
   "cell_type": "code",
   "execution_count": 20,
   "metadata": {
    "collapsed": false
   },
   "outputs": [],
   "source": [
    "feature_importances = np.array([est.best_estimator_.feature_importances_ for est in nested_cross.estimators_])"
   ]
  },
  {
   "cell_type": "code",
   "execution_count": 21,
   "metadata": {
    "collapsed": false
   },
   "outputs": [],
   "source": [
    "feature_importance = np.mean(feature_importances, axis=0)"
   ]
  },
  {
   "cell_type": "code",
   "execution_count": 23,
   "metadata": {
    "collapsed": false
   },
   "outputs": [
    {
     "data": {
      "text/plain": [
       "288"
      ]
     },
     "execution_count": 23,
     "metadata": {},
     "output_type": "execute_result"
    }
   ],
   "source": [
    "cc = X_test.columns.values\n",
    "cc = np.insert(cc, 109, ['CPT_FLAG44_Sum'])\n",
    "len(cc)"
   ]
  },
  {
   "cell_type": "code",
   "execution_count": 24,
   "metadata": {
    "collapsed": false
   },
   "outputs": [
    {
     "data": {
      "text/plain": [
       "Index(['CPT_FLAG1_Sum', 'CPT_FLAG2_Sum', 'CPT_FLAG3_Sum', 'CPT_FLAG4_Sum',\n",
       "       'CPT_FLAG5_Sum', 'CPT_FLAG6_Sum', 'CPT_FLAG7_Sum', 'CPT_FLAG8_Sum',\n",
       "       'CPT_FLAG9_Sum', 'CPT_FLAG10_Sum', 'CPT_FLAG11_Sum', 'CPT_FLAG12_Sum',\n",
       "       'CPT_FLAG13_Sum', 'CPT_FLAG14_Sum', 'CPT_FLAG15_Sum', 'CPT_FLAG16_Sum',\n",
       "       'CPT_FLAG17_Sum', 'CPT_FLAG18_Sum', 'CPT_FLAG19_Sum', 'CPT_FLAG20_Sum',\n",
       "       'CPT_FLAG21_Sum', 'CPT_FLAG22_Sum', 'CPT_FLAG26_Sum', 'CPT_FLAG29_Sum',\n",
       "       'CPT_FLAG32_Sum', 'CPT_FLAG33_Sum', 'CPT_FLAG34_Sum', 'CPT_FLAG35_Sum',\n",
       "       'CPT_FLAG36_Sum', 'CPT_FLAG37_Sum', 'CPT_FLAG43_Sum', 'CPT_FLAG45_Sum',\n",
       "       'CPT_FLAG46_Sum', 'CPT_FLAG47_Sum', 'CPT_FLAG48_Sum', 'CPT_FLAG49_Sum'],\n",
       "      dtype='object')"
      ]
     },
     "execution_count": 24,
     "metadata": {},
     "output_type": "execute_result"
    }
   ],
   "source": [
    "X_test.columns[X_test.columns.str.contains('CPT')]"
   ]
  },
  {
   "cell_type": "code",
   "execution_count": 25,
   "metadata": {
    "collapsed": false
   },
   "outputs": [
    {
     "data": {
      "text/html": [
       "<div>\n",
       "<table border=\"1\" class=\"dataframe\">\n",
       "  <thead>\n",
       "    <tr style=\"text-align: right;\">\n",
       "      <th></th>\n",
       "      <th>0</th>\n",
       "      <th>1</th>\n",
       "    </tr>\n",
       "  </thead>\n",
       "  <tbody>\n",
       "    <tr>\n",
       "      <th>78</th>\n",
       "      <td>78</td>\n",
       "      <td>CPT_FLAG1_Sum</td>\n",
       "    </tr>\n",
       "    <tr>\n",
       "      <th>79</th>\n",
       "      <td>79</td>\n",
       "      <td>CPT_FLAG2_Sum</td>\n",
       "    </tr>\n",
       "    <tr>\n",
       "      <th>80</th>\n",
       "      <td>80</td>\n",
       "      <td>CPT_FLAG3_Sum</td>\n",
       "    </tr>\n",
       "    <tr>\n",
       "      <th>81</th>\n",
       "      <td>81</td>\n",
       "      <td>CPT_FLAG4_Sum</td>\n",
       "    </tr>\n",
       "    <tr>\n",
       "      <th>82</th>\n",
       "      <td>82</td>\n",
       "      <td>CPT_FLAG5_Sum</td>\n",
       "    </tr>\n",
       "    <tr>\n",
       "      <th>83</th>\n",
       "      <td>83</td>\n",
       "      <td>CPT_FLAG6_Sum</td>\n",
       "    </tr>\n",
       "    <tr>\n",
       "      <th>84</th>\n",
       "      <td>84</td>\n",
       "      <td>CPT_FLAG7_Sum</td>\n",
       "    </tr>\n",
       "    <tr>\n",
       "      <th>85</th>\n",
       "      <td>85</td>\n",
       "      <td>CPT_FLAG8_Sum</td>\n",
       "    </tr>\n",
       "    <tr>\n",
       "      <th>86</th>\n",
       "      <td>86</td>\n",
       "      <td>CPT_FLAG9_Sum</td>\n",
       "    </tr>\n",
       "    <tr>\n",
       "      <th>87</th>\n",
       "      <td>87</td>\n",
       "      <td>CPT_FLAG10_Sum</td>\n",
       "    </tr>\n",
       "    <tr>\n",
       "      <th>88</th>\n",
       "      <td>88</td>\n",
       "      <td>CPT_FLAG11_Sum</td>\n",
       "    </tr>\n",
       "    <tr>\n",
       "      <th>89</th>\n",
       "      <td>89</td>\n",
       "      <td>CPT_FLAG12_Sum</td>\n",
       "    </tr>\n",
       "    <tr>\n",
       "      <th>90</th>\n",
       "      <td>90</td>\n",
       "      <td>CPT_FLAG13_Sum</td>\n",
       "    </tr>\n",
       "    <tr>\n",
       "      <th>91</th>\n",
       "      <td>91</td>\n",
       "      <td>CPT_FLAG14_Sum</td>\n",
       "    </tr>\n",
       "    <tr>\n",
       "      <th>92</th>\n",
       "      <td>92</td>\n",
       "      <td>CPT_FLAG15_Sum</td>\n",
       "    </tr>\n",
       "    <tr>\n",
       "      <th>93</th>\n",
       "      <td>93</td>\n",
       "      <td>CPT_FLAG16_Sum</td>\n",
       "    </tr>\n",
       "    <tr>\n",
       "      <th>94</th>\n",
       "      <td>94</td>\n",
       "      <td>CPT_FLAG17_Sum</td>\n",
       "    </tr>\n",
       "    <tr>\n",
       "      <th>95</th>\n",
       "      <td>95</td>\n",
       "      <td>CPT_FLAG18_Sum</td>\n",
       "    </tr>\n",
       "    <tr>\n",
       "      <th>96</th>\n",
       "      <td>96</td>\n",
       "      <td>CPT_FLAG19_Sum</td>\n",
       "    </tr>\n",
       "    <tr>\n",
       "      <th>97</th>\n",
       "      <td>97</td>\n",
       "      <td>CPT_FLAG20_Sum</td>\n",
       "    </tr>\n",
       "    <tr>\n",
       "      <th>98</th>\n",
       "      <td>98</td>\n",
       "      <td>CPT_FLAG21_Sum</td>\n",
       "    </tr>\n",
       "    <tr>\n",
       "      <th>99</th>\n",
       "      <td>99</td>\n",
       "      <td>CPT_FLAG22_Sum</td>\n",
       "    </tr>\n",
       "    <tr>\n",
       "      <th>100</th>\n",
       "      <td>100</td>\n",
       "      <td>CPT_FLAG26_Sum</td>\n",
       "    </tr>\n",
       "    <tr>\n",
       "      <th>101</th>\n",
       "      <td>101</td>\n",
       "      <td>CPT_FLAG29_Sum</td>\n",
       "    </tr>\n",
       "    <tr>\n",
       "      <th>102</th>\n",
       "      <td>102</td>\n",
       "      <td>CPT_FLAG32_Sum</td>\n",
       "    </tr>\n",
       "    <tr>\n",
       "      <th>103</th>\n",
       "      <td>103</td>\n",
       "      <td>CPT_FLAG33_Sum</td>\n",
       "    </tr>\n",
       "    <tr>\n",
       "      <th>104</th>\n",
       "      <td>104</td>\n",
       "      <td>CPT_FLAG34_Sum</td>\n",
       "    </tr>\n",
       "    <tr>\n",
       "      <th>105</th>\n",
       "      <td>105</td>\n",
       "      <td>CPT_FLAG35_Sum</td>\n",
       "    </tr>\n",
       "    <tr>\n",
       "      <th>106</th>\n",
       "      <td>106</td>\n",
       "      <td>CPT_FLAG36_Sum</td>\n",
       "    </tr>\n",
       "    <tr>\n",
       "      <th>107</th>\n",
       "      <td>107</td>\n",
       "      <td>CPT_FLAG37_Sum</td>\n",
       "    </tr>\n",
       "    <tr>\n",
       "      <th>108</th>\n",
       "      <td>108</td>\n",
       "      <td>CPT_FLAG43_Sum</td>\n",
       "    </tr>\n",
       "    <tr>\n",
       "      <th>109</th>\n",
       "      <td>109</td>\n",
       "      <td>CPT_FLAG44_Sum</td>\n",
       "    </tr>\n",
       "    <tr>\n",
       "      <th>110</th>\n",
       "      <td>110</td>\n",
       "      <td>CPT_FLAG45_Sum</td>\n",
       "    </tr>\n",
       "    <tr>\n",
       "      <th>111</th>\n",
       "      <td>111</td>\n",
       "      <td>CPT_FLAG46_Sum</td>\n",
       "    </tr>\n",
       "    <tr>\n",
       "      <th>112</th>\n",
       "      <td>112</td>\n",
       "      <td>CPT_FLAG47_Sum</td>\n",
       "    </tr>\n",
       "    <tr>\n",
       "      <th>113</th>\n",
       "      <td>113</td>\n",
       "      <td>CPT_FLAG48_Sum</td>\n",
       "    </tr>\n",
       "    <tr>\n",
       "      <th>114</th>\n",
       "      <td>114</td>\n",
       "      <td>CPT_FLAG49_Sum</td>\n",
       "    </tr>\n",
       "  </tbody>\n",
       "</table>\n",
       "</div>"
      ],
      "text/plain": [
       "       0               1\n",
       "78    78   CPT_FLAG1_Sum\n",
       "79    79   CPT_FLAG2_Sum\n",
       "80    80   CPT_FLAG3_Sum\n",
       "81    81   CPT_FLAG4_Sum\n",
       "82    82   CPT_FLAG5_Sum\n",
       "83    83   CPT_FLAG6_Sum\n",
       "84    84   CPT_FLAG7_Sum\n",
       "85    85   CPT_FLAG8_Sum\n",
       "86    86   CPT_FLAG9_Sum\n",
       "87    87  CPT_FLAG10_Sum\n",
       "88    88  CPT_FLAG11_Sum\n",
       "89    89  CPT_FLAG12_Sum\n",
       "90    90  CPT_FLAG13_Sum\n",
       "91    91  CPT_FLAG14_Sum\n",
       "92    92  CPT_FLAG15_Sum\n",
       "93    93  CPT_FLAG16_Sum\n",
       "94    94  CPT_FLAG17_Sum\n",
       "95    95  CPT_FLAG18_Sum\n",
       "96    96  CPT_FLAG19_Sum\n",
       "97    97  CPT_FLAG20_Sum\n",
       "98    98  CPT_FLAG21_Sum\n",
       "99    99  CPT_FLAG22_Sum\n",
       "100  100  CPT_FLAG26_Sum\n",
       "101  101  CPT_FLAG29_Sum\n",
       "102  102  CPT_FLAG32_Sum\n",
       "103  103  CPT_FLAG33_Sum\n",
       "104  104  CPT_FLAG34_Sum\n",
       "105  105  CPT_FLAG35_Sum\n",
       "106  106  CPT_FLAG36_Sum\n",
       "107  107  CPT_FLAG37_Sum\n",
       "108  108  CPT_FLAG43_Sum\n",
       "109  109  CPT_FLAG44_Sum\n",
       "110  110  CPT_FLAG45_Sum\n",
       "111  111  CPT_FLAG46_Sum\n",
       "112  112  CPT_FLAG47_Sum\n",
       "113  113  CPT_FLAG48_Sum\n",
       "114  114  CPT_FLAG49_Sum"
      ]
     },
     "execution_count": 25,
     "metadata": {},
     "output_type": "execute_result"
    }
   ],
   "source": [
    "c = pd.DataFrame(list(enumerate(cc)))\n",
    "c[c[1].str.contains('CPT')]"
   ]
  },
  {
   "cell_type": "code",
   "execution_count": 44,
   "metadata": {
    "collapsed": false
   },
   "outputs": [
    {
     "data": {
      "text/html": [
       "<div>\n",
       "<table border=\"1\" class=\"dataframe\">\n",
       "  <thead>\n",
       "    <tr style=\"text-align: right;\">\n",
       "      <th></th>\n",
       "      <th>Importance</th>\n",
       "    </tr>\n",
       "  </thead>\n",
       "  <tbody>\n",
       "    <tr>\n",
       "      <th>DIAG_FLAG4_Sum</th>\n",
       "      <td>33.557</td>\n",
       "    </tr>\n",
       "    <tr>\n",
       "      <th>DIAG_FLAG5_Sum</th>\n",
       "      <td>20.414</td>\n",
       "    </tr>\n",
       "    <tr>\n",
       "      <th>ndc_cat58_Sum</th>\n",
       "      <td>6.526</td>\n",
       "    </tr>\n",
       "    <tr>\n",
       "      <th>CPT_FLAG9_Sum</th>\n",
       "      <td>4.300</td>\n",
       "    </tr>\n",
       "    <tr>\n",
       "      <th>ndc_cat87_Sum</th>\n",
       "      <td>3.695</td>\n",
       "    </tr>\n",
       "    <tr>\n",
       "      <th>DIAG_FLAG75_Sum</th>\n",
       "      <td>3.290</td>\n",
       "    </tr>\n",
       "    <tr>\n",
       "      <th>ndc_cat54_Sum</th>\n",
       "      <td>1.936</td>\n",
       "    </tr>\n",
       "    <tr>\n",
       "      <th>CPT_FLAG43_Sum</th>\n",
       "      <td>1.368</td>\n",
       "    </tr>\n",
       "    <tr>\n",
       "      <th>DIAG_FLAG42_Sum</th>\n",
       "      <td>1.265</td>\n",
       "    </tr>\n",
       "    <tr>\n",
       "      <th>age</th>\n",
       "      <td>1.173</td>\n",
       "    </tr>\n",
       "    <tr>\n",
       "      <th>DIAG_FLAG38_Sum</th>\n",
       "      <td>0.992</td>\n",
       "    </tr>\n",
       "    <tr>\n",
       "      <th>CPT_FLAG47_Sum</th>\n",
       "      <td>0.762</td>\n",
       "    </tr>\n",
       "    <tr>\n",
       "      <th>ndc_cat85_Sum</th>\n",
       "      <td>0.744</td>\n",
       "    </tr>\n",
       "    <tr>\n",
       "      <th>DIAG_FLAG7_Sum</th>\n",
       "      <td>0.662</td>\n",
       "    </tr>\n",
       "    <tr>\n",
       "      <th>DIAG_FLAG48_Sum</th>\n",
       "      <td>0.647</td>\n",
       "    </tr>\n",
       "    <tr>\n",
       "      <th>REVCODE_FLAG11_Sum</th>\n",
       "      <td>0.618</td>\n",
       "    </tr>\n",
       "    <tr>\n",
       "      <th>CPT_FLAG1_Sum</th>\n",
       "      <td>0.578</td>\n",
       "    </tr>\n",
       "    <tr>\n",
       "      <th>DIAG_FLAG77_Sum</th>\n",
       "      <td>0.548</td>\n",
       "    </tr>\n",
       "    <tr>\n",
       "      <th>DIAG_FLAG6_Sum</th>\n",
       "      <td>0.535</td>\n",
       "    </tr>\n",
       "    <tr>\n",
       "      <th>DIAG_FLAG2_Sum</th>\n",
       "      <td>0.522</td>\n",
       "    </tr>\n",
       "    <tr>\n",
       "      <th>ndc_cat18_Sum</th>\n",
       "      <td>0.506</td>\n",
       "    </tr>\n",
       "    <tr>\n",
       "      <th>REVCODE_FLAG22_Sum</th>\n",
       "      <td>0.498</td>\n",
       "    </tr>\n",
       "    <tr>\n",
       "      <th>DIAG_FLAG9_Sum</th>\n",
       "      <td>0.483</td>\n",
       "    </tr>\n",
       "    <tr>\n",
       "      <th>REVCODE_FLAG16_Sum</th>\n",
       "      <td>0.443</td>\n",
       "    </tr>\n",
       "    <tr>\n",
       "      <th>DIAG_FLAG53_Sum</th>\n",
       "      <td>0.423</td>\n",
       "    </tr>\n",
       "    <tr>\n",
       "      <th>ndc_cat15_Sum</th>\n",
       "      <td>0.422</td>\n",
       "    </tr>\n",
       "    <tr>\n",
       "      <th>CPT_FLAG6_Sum</th>\n",
       "      <td>0.413</td>\n",
       "    </tr>\n",
       "    <tr>\n",
       "      <th>CPT_FLAG48_Sum</th>\n",
       "      <td>0.408</td>\n",
       "    </tr>\n",
       "    <tr>\n",
       "      <th>ndc_cat16_Sum</th>\n",
       "      <td>0.394</td>\n",
       "    </tr>\n",
       "    <tr>\n",
       "      <th>ndc_cat11_Sum</th>\n",
       "      <td>0.385</td>\n",
       "    </tr>\n",
       "    <tr>\n",
       "      <th>DIAG_FLAG11_Sum</th>\n",
       "      <td>0.369</td>\n",
       "    </tr>\n",
       "    <tr>\n",
       "      <th>REVCODE_FLAG19_Sum</th>\n",
       "      <td>0.343</td>\n",
       "    </tr>\n",
       "    <tr>\n",
       "      <th>DIAG_FLAG80_Sum</th>\n",
       "      <td>0.331</td>\n",
       "    </tr>\n",
       "    <tr>\n",
       "      <th>DIAG_FLAG31_Sum</th>\n",
       "      <td>0.320</td>\n",
       "    </tr>\n",
       "    <tr>\n",
       "      <th>DIAG_FLAG8_Sum</th>\n",
       "      <td>0.310</td>\n",
       "    </tr>\n",
       "    <tr>\n",
       "      <th>DIAG_FLAG76_Sum</th>\n",
       "      <td>0.288</td>\n",
       "    </tr>\n",
       "    <tr>\n",
       "      <th>ndc_cat20_Sum</th>\n",
       "      <td>0.276</td>\n",
       "    </tr>\n",
       "    <tr>\n",
       "      <th>DIAG_FLAG41_Sum</th>\n",
       "      <td>0.238</td>\n",
       "    </tr>\n",
       "    <tr>\n",
       "      <th>DIAG_FLAG10_Sum</th>\n",
       "      <td>0.230</td>\n",
       "    </tr>\n",
       "    <tr>\n",
       "      <th>DIAG_FLAG54_Sum</th>\n",
       "      <td>0.223</td>\n",
       "    </tr>\n",
       "    <tr>\n",
       "      <th>ndc_cat45_Sum</th>\n",
       "      <td>0.218</td>\n",
       "    </tr>\n",
       "    <tr>\n",
       "      <th>DIAG_FLAG60_Sum</th>\n",
       "      <td>0.207</td>\n",
       "    </tr>\n",
       "    <tr>\n",
       "      <th>ndc_cat82_Sum</th>\n",
       "      <td>0.205</td>\n",
       "    </tr>\n",
       "    <tr>\n",
       "      <th>ndc_cat70_Sum</th>\n",
       "      <td>0.184</td>\n",
       "    </tr>\n",
       "    <tr>\n",
       "      <th>DIAG_FLAG85_Sum</th>\n",
       "      <td>0.184</td>\n",
       "    </tr>\n",
       "    <tr>\n",
       "      <th>DIAG_FLAG3_Sum</th>\n",
       "      <td>0.176</td>\n",
       "    </tr>\n",
       "    <tr>\n",
       "      <th>CPT_FLAG21_Sum</th>\n",
       "      <td>0.167</td>\n",
       "    </tr>\n",
       "    <tr>\n",
       "      <th>ndc_cat40_Sum</th>\n",
       "      <td>0.155</td>\n",
       "    </tr>\n",
       "    <tr>\n",
       "      <th>REVCODE_FLAG38_Sum</th>\n",
       "      <td>0.154</td>\n",
       "    </tr>\n",
       "    <tr>\n",
       "      <th>ndc_cat13_Sum</th>\n",
       "      <td>0.147</td>\n",
       "    </tr>\n",
       "    <tr>\n",
       "      <th>ndc_cat29_Sum</th>\n",
       "      <td>0.146</td>\n",
       "    </tr>\n",
       "    <tr>\n",
       "      <th>DIAG_FLAG72_Sum</th>\n",
       "      <td>0.145</td>\n",
       "    </tr>\n",
       "    <tr>\n",
       "      <th>REVCODE_FLAG12_Sum</th>\n",
       "      <td>0.140</td>\n",
       "    </tr>\n",
       "    <tr>\n",
       "      <th>ndc_cat72_Sum</th>\n",
       "      <td>0.140</td>\n",
       "    </tr>\n",
       "    <tr>\n",
       "      <th>ndc_cat77_Sum</th>\n",
       "      <td>0.133</td>\n",
       "    </tr>\n",
       "    <tr>\n",
       "      <th>REVCODE_FLAG67_Sum</th>\n",
       "      <td>0.132</td>\n",
       "    </tr>\n",
       "    <tr>\n",
       "      <th>CPT_FLAG18_Sum</th>\n",
       "      <td>0.131</td>\n",
       "    </tr>\n",
       "    <tr>\n",
       "      <th>ndc_cat22_Sum</th>\n",
       "      <td>0.131</td>\n",
       "    </tr>\n",
       "    <tr>\n",
       "      <th>DIAG_FLAG71_Sum</th>\n",
       "      <td>0.130</td>\n",
       "    </tr>\n",
       "    <tr>\n",
       "      <th>CPT_FLAG4_Sum</th>\n",
       "      <td>0.126</td>\n",
       "    </tr>\n",
       "    <tr>\n",
       "      <th>ndc_cat21_Sum</th>\n",
       "      <td>0.122</td>\n",
       "    </tr>\n",
       "    <tr>\n",
       "      <th>DIAG_FLAG34_Sum</th>\n",
       "      <td>0.118</td>\n",
       "    </tr>\n",
       "    <tr>\n",
       "      <th>REVCODE_FLAG15_Sum</th>\n",
       "      <td>0.116</td>\n",
       "    </tr>\n",
       "    <tr>\n",
       "      <th>DIAG_FLAG49_Sum</th>\n",
       "      <td>0.114</td>\n",
       "    </tr>\n",
       "    <tr>\n",
       "      <th>DIAG_FLAG12_Sum</th>\n",
       "      <td>0.111</td>\n",
       "    </tr>\n",
       "    <tr>\n",
       "      <th>ndc_cat76_Sum</th>\n",
       "      <td>0.111</td>\n",
       "    </tr>\n",
       "    <tr>\n",
       "      <th>CPT_FLAG49_Sum</th>\n",
       "      <td>0.101</td>\n",
       "    </tr>\n",
       "    <tr>\n",
       "      <th>DIAG_FLAG70_Sum</th>\n",
       "      <td>0.101</td>\n",
       "    </tr>\n",
       "    <tr>\n",
       "      <th>Gender_M</th>\n",
       "      <td>0.100</td>\n",
       "    </tr>\n",
       "    <tr>\n",
       "      <th>ndc_cat59_Sum</th>\n",
       "      <td>0.094</td>\n",
       "    </tr>\n",
       "    <tr>\n",
       "      <th>DIAG_FLAG55_Sum</th>\n",
       "      <td>0.092</td>\n",
       "    </tr>\n",
       "    <tr>\n",
       "      <th>CPT_FLAG12_Sum</th>\n",
       "      <td>0.088</td>\n",
       "    </tr>\n",
       "    <tr>\n",
       "      <th>CPT_FLAG35_Sum</th>\n",
       "      <td>0.084</td>\n",
       "    </tr>\n",
       "    <tr>\n",
       "      <th>CPT_FLAG46_Sum</th>\n",
       "      <td>0.084</td>\n",
       "    </tr>\n",
       "    <tr>\n",
       "      <th>DIAG_FLAG1_Sum</th>\n",
       "      <td>0.077</td>\n",
       "    </tr>\n",
       "    <tr>\n",
       "      <th>ndc_cat44_Sum</th>\n",
       "      <td>0.076</td>\n",
       "    </tr>\n",
       "    <tr>\n",
       "      <th>ndc_cat63_Sum</th>\n",
       "      <td>0.076</td>\n",
       "    </tr>\n",
       "    <tr>\n",
       "      <th>ndc_cat23_Sum</th>\n",
       "      <td>0.075</td>\n",
       "    </tr>\n",
       "    <tr>\n",
       "      <th>ndc_cat83_Sum</th>\n",
       "      <td>0.072</td>\n",
       "    </tr>\n",
       "    <tr>\n",
       "      <th>ndc_cat66_Sum</th>\n",
       "      <td>0.072</td>\n",
       "    </tr>\n",
       "    <tr>\n",
       "      <th>CPT_FLAG20_Sum</th>\n",
       "      <td>0.072</td>\n",
       "    </tr>\n",
       "    <tr>\n",
       "      <th>ndc_cat43_Sum</th>\n",
       "      <td>0.071</td>\n",
       "    </tr>\n",
       "    <tr>\n",
       "      <th>ndc_cat98_Sum</th>\n",
       "      <td>0.069</td>\n",
       "    </tr>\n",
       "    <tr>\n",
       "      <th>DIAG_FLAG24_Sum</th>\n",
       "      <td>0.065</td>\n",
       "    </tr>\n",
       "    <tr>\n",
       "      <th>ndc_cat49_Sum</th>\n",
       "      <td>0.061</td>\n",
       "    </tr>\n",
       "    <tr>\n",
       "      <th>REVCODE_FLAG23_Sum</th>\n",
       "      <td>0.059</td>\n",
       "    </tr>\n",
       "    <tr>\n",
       "      <th>ndc_cat100_Sum</th>\n",
       "      <td>0.059</td>\n",
       "    </tr>\n",
       "    <tr>\n",
       "      <th>DIAG_FLAG15_Sum</th>\n",
       "      <td>0.059</td>\n",
       "    </tr>\n",
       "    <tr>\n",
       "      <th>DIAG_FLAG37_Sum</th>\n",
       "      <td>0.057</td>\n",
       "    </tr>\n",
       "    <tr>\n",
       "      <th>DIAG_FLAG67_Sum</th>\n",
       "      <td>0.057</td>\n",
       "    </tr>\n",
       "    <tr>\n",
       "      <th>ndc_cat79_Sum</th>\n",
       "      <td>0.056</td>\n",
       "    </tr>\n",
       "    <tr>\n",
       "      <th>REVCODE_FLAG62_Sum</th>\n",
       "      <td>0.056</td>\n",
       "    </tr>\n",
       "    <tr>\n",
       "      <th>DIAG_FLAG86_Sum</th>\n",
       "      <td>0.054</td>\n",
       "    </tr>\n",
       "    <tr>\n",
       "      <th>DIAG_FLAG45_Sum</th>\n",
       "      <td>0.053</td>\n",
       "    </tr>\n",
       "    <tr>\n",
       "      <th>ndc_cat37_Sum</th>\n",
       "      <td>0.053</td>\n",
       "    </tr>\n",
       "    <tr>\n",
       "      <th>DIAG_FLAG51_Sum</th>\n",
       "      <td>0.051</td>\n",
       "    </tr>\n",
       "    <tr>\n",
       "      <th>CPT_FLAG44_Sum</th>\n",
       "      <td>0.051</td>\n",
       "    </tr>\n",
       "    <tr>\n",
       "      <th>DIAG_FLAG73_Sum</th>\n",
       "      <td>0.051</td>\n",
       "    </tr>\n",
       "    <tr>\n",
       "      <th>REVCODE_FLAG20_Sum</th>\n",
       "      <td>0.050</td>\n",
       "    </tr>\n",
       "    <tr>\n",
       "      <th>REVCODE_FLAG10_Sum</th>\n",
       "      <td>0.049</td>\n",
       "    </tr>\n",
       "    <tr>\n",
       "      <th>ndc_cat60_Sum</th>\n",
       "      <td>0.049</td>\n",
       "    </tr>\n",
       "    <tr>\n",
       "      <th>REVCODE_FLAG63_Sum</th>\n",
       "      <td>0.048</td>\n",
       "    </tr>\n",
       "    <tr>\n",
       "      <th>CPT_FLAG10_Sum</th>\n",
       "      <td>0.047</td>\n",
       "    </tr>\n",
       "    <tr>\n",
       "      <th>REVCODE_FLAG17_Sum</th>\n",
       "      <td>0.047</td>\n",
       "    </tr>\n",
       "    <tr>\n",
       "      <th>ndc_cat31_Sum</th>\n",
       "      <td>0.044</td>\n",
       "    </tr>\n",
       "    <tr>\n",
       "      <th>ndc_cat38_Sum</th>\n",
       "      <td>0.044</td>\n",
       "    </tr>\n",
       "    <tr>\n",
       "      <th>DIAG_FLAG84_Sum</th>\n",
       "      <td>0.042</td>\n",
       "    </tr>\n",
       "    <tr>\n",
       "      <th>REVCODE_FLAG28_Sum</th>\n",
       "      <td>0.042</td>\n",
       "    </tr>\n",
       "    <tr>\n",
       "      <th>DIAG_FLAG83_Sum</th>\n",
       "      <td>0.042</td>\n",
       "    </tr>\n",
       "    <tr>\n",
       "      <th>ndc_cat6_Sum</th>\n",
       "      <td>0.040</td>\n",
       "    </tr>\n",
       "    <tr>\n",
       "      <th>DIAG_FLAG21_Sum</th>\n",
       "      <td>0.039</td>\n",
       "    </tr>\n",
       "    <tr>\n",
       "      <th>ndc_cat104_Sum</th>\n",
       "      <td>0.039</td>\n",
       "    </tr>\n",
       "    <tr>\n",
       "      <th>ndc_cat67_Sum</th>\n",
       "      <td>0.039</td>\n",
       "    </tr>\n",
       "    <tr>\n",
       "      <th>DIAG_FLAG35_Sum</th>\n",
       "      <td>0.039</td>\n",
       "    </tr>\n",
       "    <tr>\n",
       "      <th>CPT_FLAG22_Sum</th>\n",
       "      <td>0.038</td>\n",
       "    </tr>\n",
       "    <tr>\n",
       "      <th>DIAG_FLAG79_Sum</th>\n",
       "      <td>0.037</td>\n",
       "    </tr>\n",
       "    <tr>\n",
       "      <th>ndc_cat42_Sum</th>\n",
       "      <td>0.037</td>\n",
       "    </tr>\n",
       "    <tr>\n",
       "      <th>DIAG_FLAG68_Sum</th>\n",
       "      <td>0.036</td>\n",
       "    </tr>\n",
       "    <tr>\n",
       "      <th>ndc_cat28_Sum</th>\n",
       "      <td>0.036</td>\n",
       "    </tr>\n",
       "    <tr>\n",
       "      <th>CPT_FLAG36_Sum</th>\n",
       "      <td>0.035</td>\n",
       "    </tr>\n",
       "    <tr>\n",
       "      <th>CPT_FLAG37_Sum</th>\n",
       "      <td>0.034</td>\n",
       "    </tr>\n",
       "    <tr>\n",
       "      <th>ndc_cat33_Sum</th>\n",
       "      <td>0.034</td>\n",
       "    </tr>\n",
       "    <tr>\n",
       "      <th>ndc_cat86_Sum</th>\n",
       "      <td>0.033</td>\n",
       "    </tr>\n",
       "    <tr>\n",
       "      <th>CPT_FLAG45_Sum</th>\n",
       "      <td>0.032</td>\n",
       "    </tr>\n",
       "    <tr>\n",
       "      <th>ndc_cat5_Sum</th>\n",
       "      <td>0.032</td>\n",
       "    </tr>\n",
       "    <tr>\n",
       "      <th>DIAG_FLAG66_Sum</th>\n",
       "      <td>0.032</td>\n",
       "    </tr>\n",
       "    <tr>\n",
       "      <th>DIAG_FLAG63_Sum</th>\n",
       "      <td>0.031</td>\n",
       "    </tr>\n",
       "    <tr>\n",
       "      <th>ndc_cat39_Sum</th>\n",
       "      <td>0.030</td>\n",
       "    </tr>\n",
       "    <tr>\n",
       "      <th>REVCODE_FLAG2_Sum</th>\n",
       "      <td>0.030</td>\n",
       "    </tr>\n",
       "    <tr>\n",
       "      <th>REVCODE_FLAG34_Sum</th>\n",
       "      <td>0.030</td>\n",
       "    </tr>\n",
       "    <tr>\n",
       "      <th>ndc_cat97_Sum</th>\n",
       "      <td>0.030</td>\n",
       "    </tr>\n",
       "    <tr>\n",
       "      <th>ndc_cat68_Sum</th>\n",
       "      <td>0.029</td>\n",
       "    </tr>\n",
       "    <tr>\n",
       "      <th>ndc_cat61_Sum</th>\n",
       "      <td>0.029</td>\n",
       "    </tr>\n",
       "    <tr>\n",
       "      <th>ndc_cat78_Sum</th>\n",
       "      <td>0.029</td>\n",
       "    </tr>\n",
       "    <tr>\n",
       "      <th>DIAG_FLAG30_Sum</th>\n",
       "      <td>0.029</td>\n",
       "    </tr>\n",
       "    <tr>\n",
       "      <th>REVCODE_FLAG3_Sum</th>\n",
       "      <td>0.029</td>\n",
       "    </tr>\n",
       "    <tr>\n",
       "      <th>REVCODE_FLAG24_Sum</th>\n",
       "      <td>0.029</td>\n",
       "    </tr>\n",
       "    <tr>\n",
       "      <th>DIAG_FLAG47_Sum</th>\n",
       "      <td>0.028</td>\n",
       "    </tr>\n",
       "    <tr>\n",
       "      <th>DIAG_FLAG52_Sum</th>\n",
       "      <td>0.027</td>\n",
       "    </tr>\n",
       "    <tr>\n",
       "      <th>ndc_cat53_Sum</th>\n",
       "      <td>0.027</td>\n",
       "    </tr>\n",
       "    <tr>\n",
       "      <th>DIAG_FLAG17_Sum</th>\n",
       "      <td>0.026</td>\n",
       "    </tr>\n",
       "    <tr>\n",
       "      <th>ndc_cat19_Sum</th>\n",
       "      <td>0.025</td>\n",
       "    </tr>\n",
       "    <tr>\n",
       "      <th>DIAG_FLAG40_Sum</th>\n",
       "      <td>0.024</td>\n",
       "    </tr>\n",
       "    <tr>\n",
       "      <th>REVCODE_FLAG14_Sum</th>\n",
       "      <td>0.024</td>\n",
       "    </tr>\n",
       "    <tr>\n",
       "      <th>REVCODE_FLAG41_Sum</th>\n",
       "      <td>0.022</td>\n",
       "    </tr>\n",
       "    <tr>\n",
       "      <th>REVCODE_FLAG65_Sum</th>\n",
       "      <td>0.022</td>\n",
       "    </tr>\n",
       "    <tr>\n",
       "      <th>DIAG_FLAG50_Sum</th>\n",
       "      <td>0.021</td>\n",
       "    </tr>\n",
       "    <tr>\n",
       "      <th>DIAG_FLAG82_Sum</th>\n",
       "      <td>0.021</td>\n",
       "    </tr>\n",
       "    <tr>\n",
       "      <th>ndc_cat30_Sum</th>\n",
       "      <td>0.021</td>\n",
       "    </tr>\n",
       "    <tr>\n",
       "      <th>ndc_cat4_Sum</th>\n",
       "      <td>0.021</td>\n",
       "    </tr>\n",
       "    <tr>\n",
       "      <th>ndc_cat103_Sum</th>\n",
       "      <td>0.021</td>\n",
       "    </tr>\n",
       "    <tr>\n",
       "      <th>REVCODE_FLAG39_Sum</th>\n",
       "      <td>0.020</td>\n",
       "    </tr>\n",
       "    <tr>\n",
       "      <th>ndc_cat105_Sum</th>\n",
       "      <td>0.020</td>\n",
       "    </tr>\n",
       "    <tr>\n",
       "      <th>DIAG_FLAG74_Sum</th>\n",
       "      <td>0.020</td>\n",
       "    </tr>\n",
       "    <tr>\n",
       "      <th>CPT_FLAG33_Sum</th>\n",
       "      <td>0.019</td>\n",
       "    </tr>\n",
       "    <tr>\n",
       "      <th>ndc_cat80_Sum</th>\n",
       "      <td>0.018</td>\n",
       "    </tr>\n",
       "    <tr>\n",
       "      <th>CPT_FLAG32_Sum</th>\n",
       "      <td>0.018</td>\n",
       "    </tr>\n",
       "    <tr>\n",
       "      <th>ndc_cat35_Sum</th>\n",
       "      <td>0.018</td>\n",
       "    </tr>\n",
       "    <tr>\n",
       "      <th>DIAG_FLAG69_Sum</th>\n",
       "      <td>0.016</td>\n",
       "    </tr>\n",
       "    <tr>\n",
       "      <th>ndc_cat41_Sum</th>\n",
       "      <td>0.016</td>\n",
       "    </tr>\n",
       "    <tr>\n",
       "      <th>ndc_cat14_Sum</th>\n",
       "      <td>0.016</td>\n",
       "    </tr>\n",
       "    <tr>\n",
       "      <th>CPT_FLAG19_Sum</th>\n",
       "      <td>0.016</td>\n",
       "    </tr>\n",
       "    <tr>\n",
       "      <th>DIAG_FLAG81_Sum</th>\n",
       "      <td>0.015</td>\n",
       "    </tr>\n",
       "    <tr>\n",
       "      <th>ndc_cat74_Sum</th>\n",
       "      <td>0.014</td>\n",
       "    </tr>\n",
       "    <tr>\n",
       "      <th>REVCODE_FLAG37_Sum</th>\n",
       "      <td>0.014</td>\n",
       "    </tr>\n",
       "    <tr>\n",
       "      <th>REVCODE_FLAG33_Sum</th>\n",
       "      <td>0.014</td>\n",
       "    </tr>\n",
       "    <tr>\n",
       "      <th>ndc_cat94_Sum</th>\n",
       "      <td>0.014</td>\n",
       "    </tr>\n",
       "    <tr>\n",
       "      <th>REVCODE_FLAG31_Sum</th>\n",
       "      <td>0.014</td>\n",
       "    </tr>\n",
       "    <tr>\n",
       "      <th>DIAG_FLAG28_Sum</th>\n",
       "      <td>0.014</td>\n",
       "    </tr>\n",
       "    <tr>\n",
       "      <th>ndc_cat27_Sum</th>\n",
       "      <td>0.013</td>\n",
       "    </tr>\n",
       "    <tr>\n",
       "      <th>CPT_FLAG3_Sum</th>\n",
       "      <td>0.013</td>\n",
       "    </tr>\n",
       "    <tr>\n",
       "      <th>CPT_FLAG26_Sum</th>\n",
       "      <td>0.013</td>\n",
       "    </tr>\n",
       "    <tr>\n",
       "      <th>ndc_cat1_Sum</th>\n",
       "      <td>0.013</td>\n",
       "    </tr>\n",
       "    <tr>\n",
       "      <th>ndc_cat36_Sum</th>\n",
       "      <td>0.012</td>\n",
       "    </tr>\n",
       "    <tr>\n",
       "      <th>DIAG_FLAG61_Sum</th>\n",
       "      <td>0.012</td>\n",
       "    </tr>\n",
       "    <tr>\n",
       "      <th>ndc_cat7_Sum</th>\n",
       "      <td>0.012</td>\n",
       "    </tr>\n",
       "    <tr>\n",
       "      <th>REVCODE_FLAG25_Sum</th>\n",
       "      <td>0.012</td>\n",
       "    </tr>\n",
       "    <tr>\n",
       "      <th>CPT_FLAG7_Sum</th>\n",
       "      <td>0.011</td>\n",
       "    </tr>\n",
       "    <tr>\n",
       "      <th>ndc_cat106_Sum</th>\n",
       "      <td>0.011</td>\n",
       "    </tr>\n",
       "    <tr>\n",
       "      <th>DIAG_FLAG32_Sum</th>\n",
       "      <td>0.011</td>\n",
       "    </tr>\n",
       "    <tr>\n",
       "      <th>CPT_FLAG34_Sum</th>\n",
       "      <td>0.010</td>\n",
       "    </tr>\n",
       "    <tr>\n",
       "      <th>REVCODE_FLAG68_Sum</th>\n",
       "      <td>0.010</td>\n",
       "    </tr>\n",
       "    <tr>\n",
       "      <th>REVCODE_FLAG8_Sum</th>\n",
       "      <td>0.010</td>\n",
       "    </tr>\n",
       "    <tr>\n",
       "      <th>CPT_FLAG13_Sum</th>\n",
       "      <td>0.009</td>\n",
       "    </tr>\n",
       "    <tr>\n",
       "      <th>CPT_FLAG5_Sum</th>\n",
       "      <td>0.009</td>\n",
       "    </tr>\n",
       "    <tr>\n",
       "      <th>DIAG_FLAG87_Sum</th>\n",
       "      <td>0.009</td>\n",
       "    </tr>\n",
       "    <tr>\n",
       "      <th>ndc_cat48_Sum</th>\n",
       "      <td>0.009</td>\n",
       "    </tr>\n",
       "    <tr>\n",
       "      <th>ndc_cat26_Sum</th>\n",
       "      <td>0.008</td>\n",
       "    </tr>\n",
       "    <tr>\n",
       "      <th>DIAG_FLAG78_Sum</th>\n",
       "      <td>0.008</td>\n",
       "    </tr>\n",
       "    <tr>\n",
       "      <th>REVCODE_FLAG61_Sum</th>\n",
       "      <td>0.008</td>\n",
       "    </tr>\n",
       "    <tr>\n",
       "      <th>ndc_cat96_Sum</th>\n",
       "      <td>0.007</td>\n",
       "    </tr>\n",
       "    <tr>\n",
       "      <th>ndc_cat71_Sum</th>\n",
       "      <td>0.007</td>\n",
       "    </tr>\n",
       "    <tr>\n",
       "      <th>ndc_cat52_Sum</th>\n",
       "      <td>0.007</td>\n",
       "    </tr>\n",
       "    <tr>\n",
       "      <th>REVCODE_FLAG6_Sum</th>\n",
       "      <td>0.007</td>\n",
       "    </tr>\n",
       "    <tr>\n",
       "      <th>REVCODE_FLAG70_Sum</th>\n",
       "      <td>0.006</td>\n",
       "    </tr>\n",
       "    <tr>\n",
       "      <th>ndc_cat88_Sum</th>\n",
       "      <td>0.006</td>\n",
       "    </tr>\n",
       "    <tr>\n",
       "      <th>ndc_cat10_Sum</th>\n",
       "      <td>0.006</td>\n",
       "    </tr>\n",
       "    <tr>\n",
       "      <th>DIAG_FLAG46_Sum</th>\n",
       "      <td>0.006</td>\n",
       "    </tr>\n",
       "    <tr>\n",
       "      <th>REVCODE_FLAG64_Sum</th>\n",
       "      <td>0.006</td>\n",
       "    </tr>\n",
       "    <tr>\n",
       "      <th>ndc_cat95_Sum</th>\n",
       "      <td>0.006</td>\n",
       "    </tr>\n",
       "    <tr>\n",
       "      <th>REVCODE_FLAG66_Sum</th>\n",
       "      <td>0.006</td>\n",
       "    </tr>\n",
       "    <tr>\n",
       "      <th>DIAG_FLAG33_Sum</th>\n",
       "      <td>0.006</td>\n",
       "    </tr>\n",
       "    <tr>\n",
       "      <th>REVCODE_FLAG43_Sum</th>\n",
       "      <td>0.005</td>\n",
       "    </tr>\n",
       "    <tr>\n",
       "      <th>DIAG_FLAG36_Sum</th>\n",
       "      <td>0.005</td>\n",
       "    </tr>\n",
       "    <tr>\n",
       "      <th>DIAG_FLAG29_Sum</th>\n",
       "      <td>0.005</td>\n",
       "    </tr>\n",
       "    <tr>\n",
       "      <th>ndc_cat24_Sum</th>\n",
       "      <td>0.005</td>\n",
       "    </tr>\n",
       "    <tr>\n",
       "      <th>REVCODE_FLAG36_Sum</th>\n",
       "      <td>0.004</td>\n",
       "    </tr>\n",
       "    <tr>\n",
       "      <th>REVCODE_FLAG26_Sum</th>\n",
       "      <td>0.004</td>\n",
       "    </tr>\n",
       "    <tr>\n",
       "      <th>REVCODE_FLAG30_Sum</th>\n",
       "      <td>0.004</td>\n",
       "    </tr>\n",
       "    <tr>\n",
       "      <th>REVCODE_FLAG55_Sum</th>\n",
       "      <td>0.004</td>\n",
       "    </tr>\n",
       "    <tr>\n",
       "      <th>CPT_FLAG2_Sum</th>\n",
       "      <td>0.004</td>\n",
       "    </tr>\n",
       "    <tr>\n",
       "      <th>REVCODE_FLAG48_Sum</th>\n",
       "      <td>0.004</td>\n",
       "    </tr>\n",
       "    <tr>\n",
       "      <th>REVCODE_FLAG54_Sum</th>\n",
       "      <td>0.004</td>\n",
       "    </tr>\n",
       "    <tr>\n",
       "      <th>ndc_cat102_Sum</th>\n",
       "      <td>0.004</td>\n",
       "    </tr>\n",
       "    <tr>\n",
       "      <th>REVCODE_FLAG7_Sum</th>\n",
       "      <td>0.003</td>\n",
       "    </tr>\n",
       "    <tr>\n",
       "      <th>DIAG_FLAG16_Sum</th>\n",
       "      <td>0.003</td>\n",
       "    </tr>\n",
       "    <tr>\n",
       "      <th>PROC_FLAG4_Sum</th>\n",
       "      <td>0.003</td>\n",
       "    </tr>\n",
       "    <tr>\n",
       "      <th>ndc_cat47_Sum</th>\n",
       "      <td>0.003</td>\n",
       "    </tr>\n",
       "    <tr>\n",
       "      <th>REVCODE_FLAG60_Sum</th>\n",
       "      <td>0.003</td>\n",
       "    </tr>\n",
       "    <tr>\n",
       "      <th>REVCODE_FLAG13_Sum</th>\n",
       "      <td>0.003</td>\n",
       "    </tr>\n",
       "    <tr>\n",
       "      <th>CPT_FLAG29_Sum</th>\n",
       "      <td>0.003</td>\n",
       "    </tr>\n",
       "    <tr>\n",
       "      <th>ndc_cat65_Sum</th>\n",
       "      <td>0.002</td>\n",
       "    </tr>\n",
       "    <tr>\n",
       "      <th>ndc_cat34_Sum</th>\n",
       "      <td>0.002</td>\n",
       "    </tr>\n",
       "    <tr>\n",
       "      <th>DIAG_FLAG26_Sum</th>\n",
       "      <td>0.002</td>\n",
       "    </tr>\n",
       "    <tr>\n",
       "      <th>ndc_cat91_Sum</th>\n",
       "      <td>0.002</td>\n",
       "    </tr>\n",
       "    <tr>\n",
       "      <th>REVCODE_FLAG69_Sum</th>\n",
       "      <td>0.002</td>\n",
       "    </tr>\n",
       "    <tr>\n",
       "      <th>ndc_cat17_Sum</th>\n",
       "      <td>0.002</td>\n",
       "    </tr>\n",
       "    <tr>\n",
       "      <th>ndc_cat69_Sum</th>\n",
       "      <td>0.002</td>\n",
       "    </tr>\n",
       "    <tr>\n",
       "      <th>REVCODE_FLAG27_Sum</th>\n",
       "      <td>0.002</td>\n",
       "    </tr>\n",
       "    <tr>\n",
       "      <th>REVCODE_FLAG57_Sum</th>\n",
       "      <td>0.002</td>\n",
       "    </tr>\n",
       "    <tr>\n",
       "      <th>DIAG_FLAG22_Sum</th>\n",
       "      <td>0.002</td>\n",
       "    </tr>\n",
       "    <tr>\n",
       "      <th>REVCODE_FLAG49_Sum</th>\n",
       "      <td>0.002</td>\n",
       "    </tr>\n",
       "    <tr>\n",
       "      <th>ndc_cat12_Sum</th>\n",
       "      <td>0.002</td>\n",
       "    </tr>\n",
       "    <tr>\n",
       "      <th>REVCODE_FLAG4_Sum</th>\n",
       "      <td>0.002</td>\n",
       "    </tr>\n",
       "    <tr>\n",
       "      <th>CPT_FLAG14_Sum</th>\n",
       "      <td>0.001</td>\n",
       "    </tr>\n",
       "    <tr>\n",
       "      <th>DIAG_FLAG23_Sum</th>\n",
       "      <td>0.001</td>\n",
       "    </tr>\n",
       "    <tr>\n",
       "      <th>ndc_cat55_Sum</th>\n",
       "      <td>0.001</td>\n",
       "    </tr>\n",
       "    <tr>\n",
       "      <th>REVCODE_FLAG51_Sum</th>\n",
       "      <td>0.001</td>\n",
       "    </tr>\n",
       "    <tr>\n",
       "      <th>REVCODE_FLAG18_Sum</th>\n",
       "      <td>0.001</td>\n",
       "    </tr>\n",
       "    <tr>\n",
       "      <th>DIAG_FLAG39_Sum</th>\n",
       "      <td>0.001</td>\n",
       "    </tr>\n",
       "    <tr>\n",
       "      <th>CPT_FLAG15_Sum</th>\n",
       "      <td>0.001</td>\n",
       "    </tr>\n",
       "    <tr>\n",
       "      <th>REVCODE_FLAG29_Sum</th>\n",
       "      <td>0.001</td>\n",
       "    </tr>\n",
       "    <tr>\n",
       "      <th>REVCODE_FLAG1_Sum</th>\n",
       "      <td>0.001</td>\n",
       "    </tr>\n",
       "    <tr>\n",
       "      <th>REVCODE_FLAG50_Sum</th>\n",
       "      <td>0.001</td>\n",
       "    </tr>\n",
       "    <tr>\n",
       "      <th>ndc_cat73_Sum</th>\n",
       "      <td>0.001</td>\n",
       "    </tr>\n",
       "    <tr>\n",
       "      <th>REVCODE_FLAG44_Sum</th>\n",
       "      <td>0.001</td>\n",
       "    </tr>\n",
       "    <tr>\n",
       "      <th>ndc_cat107_Sum</th>\n",
       "      <td>0.001</td>\n",
       "    </tr>\n",
       "    <tr>\n",
       "      <th>REVCODE_FLAG40_Sum</th>\n",
       "      <td>0.001</td>\n",
       "    </tr>\n",
       "    <tr>\n",
       "      <th>ndc_cat84_Sum</th>\n",
       "      <td>0.001</td>\n",
       "    </tr>\n",
       "    <tr>\n",
       "      <th>REVCODE_FLAG35_Sum</th>\n",
       "      <td>0.001</td>\n",
       "    </tr>\n",
       "    <tr>\n",
       "      <th>CPT_FLAG16_Sum</th>\n",
       "      <td>0.001</td>\n",
       "    </tr>\n",
       "    <tr>\n",
       "      <th>REVCODE_FLAG56_Sum</th>\n",
       "      <td>0.000</td>\n",
       "    </tr>\n",
       "    <tr>\n",
       "      <th>ndc_cat101_Sum</th>\n",
       "      <td>0.000</td>\n",
       "    </tr>\n",
       "    <tr>\n",
       "      <th>REVCODE_FLAG52_Sum</th>\n",
       "      <td>0.000</td>\n",
       "    </tr>\n",
       "    <tr>\n",
       "      <th>REVCODE_FLAG32_Sum</th>\n",
       "      <td>0.000</td>\n",
       "    </tr>\n",
       "    <tr>\n",
       "      <th>ndc_cat75_Sum</th>\n",
       "      <td>0.000</td>\n",
       "    </tr>\n",
       "    <tr>\n",
       "      <th>REVCODE_FLAG21_Sum</th>\n",
       "      <td>0.000</td>\n",
       "    </tr>\n",
       "    <tr>\n",
       "      <th>DIAG_FLAG25_Sum</th>\n",
       "      <td>0.000</td>\n",
       "    </tr>\n",
       "    <tr>\n",
       "      <th>ndc_cat90_Sum</th>\n",
       "      <td>0.000</td>\n",
       "    </tr>\n",
       "    <tr>\n",
       "      <th>PROC_FLAG5_Sum</th>\n",
       "      <td>0.000</td>\n",
       "    </tr>\n",
       "    <tr>\n",
       "      <th>ndc_cat50_Sum</th>\n",
       "      <td>0.000</td>\n",
       "    </tr>\n",
       "    <tr>\n",
       "      <th>ndc_cat64_Sum</th>\n",
       "      <td>0.000</td>\n",
       "    </tr>\n",
       "    <tr>\n",
       "      <th>ndc_cat25_Sum</th>\n",
       "      <td>0.000</td>\n",
       "    </tr>\n",
       "    <tr>\n",
       "      <th>REVCODE_FLAG59_Sum</th>\n",
       "      <td>0.000</td>\n",
       "    </tr>\n",
       "    <tr>\n",
       "      <th>REVCODE_FLAG53_Sum</th>\n",
       "      <td>0.000</td>\n",
       "    </tr>\n",
       "    <tr>\n",
       "      <th>DIAG_FLAG27_Sum</th>\n",
       "      <td>0.000</td>\n",
       "    </tr>\n",
       "    <tr>\n",
       "      <th>REVCODE_FLAG5_Sum</th>\n",
       "      <td>0.000</td>\n",
       "    </tr>\n",
       "    <tr>\n",
       "      <th>DIAG_FLAG62_Sum</th>\n",
       "      <td>0.000</td>\n",
       "    </tr>\n",
       "    <tr>\n",
       "      <th>ndc_cat9_Sum</th>\n",
       "      <td>0.000</td>\n",
       "    </tr>\n",
       "    <tr>\n",
       "      <th>REVCODE_FLAG9_Sum</th>\n",
       "      <td>0.000</td>\n",
       "    </tr>\n",
       "    <tr>\n",
       "      <th>CPT_FLAG17_Sum</th>\n",
       "      <td>0.000</td>\n",
       "    </tr>\n",
       "    <tr>\n",
       "      <th>ndc_cat56_Sum</th>\n",
       "      <td>0.000</td>\n",
       "    </tr>\n",
       "    <tr>\n",
       "      <th>REVCODE_FLAG42_Sum</th>\n",
       "      <td>0.000</td>\n",
       "    </tr>\n",
       "    <tr>\n",
       "      <th>ndc_cat89_Sum</th>\n",
       "      <td>0.000</td>\n",
       "    </tr>\n",
       "    <tr>\n",
       "      <th>CPT_FLAG11_Sum</th>\n",
       "      <td>0.000</td>\n",
       "    </tr>\n",
       "    <tr>\n",
       "      <th>ndc_cat8_Sum</th>\n",
       "      <td>0.000</td>\n",
       "    </tr>\n",
       "    <tr>\n",
       "      <th>ndc_cat62_Sum</th>\n",
       "      <td>0.000</td>\n",
       "    </tr>\n",
       "    <tr>\n",
       "      <th>REVCODE_FLAG58_Sum</th>\n",
       "      <td>0.000</td>\n",
       "    </tr>\n",
       "    <tr>\n",
       "      <th>PROC_FLAG2_Sum</th>\n",
       "      <td>0.000</td>\n",
       "    </tr>\n",
       "    <tr>\n",
       "      <th>ndc_cat32_Sum</th>\n",
       "      <td>0.000</td>\n",
       "    </tr>\n",
       "    <tr>\n",
       "      <th>REVCODE_FLAG47_Sum</th>\n",
       "      <td>0.000</td>\n",
       "    </tr>\n",
       "    <tr>\n",
       "      <th>ndc_cat46_Sum</th>\n",
       "      <td>0.000</td>\n",
       "    </tr>\n",
       "    <tr>\n",
       "      <th>ndc_cat99_Sum</th>\n",
       "      <td>0.000</td>\n",
       "    </tr>\n",
       "    <tr>\n",
       "      <th>CPT_FLAG8_Sum</th>\n",
       "      <td>0.000</td>\n",
       "    </tr>\n",
       "    <tr>\n",
       "      <th>REVCODE_FLAG46_Sum</th>\n",
       "      <td>0.000</td>\n",
       "    </tr>\n",
       "    <tr>\n",
       "      <th>ndc_cat2_Sum</th>\n",
       "      <td>0.000</td>\n",
       "    </tr>\n",
       "    <tr>\n",
       "      <th>ndc_cat3_Sum</th>\n",
       "      <td>0.000</td>\n",
       "    </tr>\n",
       "    <tr>\n",
       "      <th>ndc_cat57_Sum</th>\n",
       "      <td>0.000</td>\n",
       "    </tr>\n",
       "  </tbody>\n",
       "</table>\n",
       "</div>"
      ],
      "text/plain": [
       "                    Importance\n",
       "DIAG_FLAG4_Sum          33.557\n",
       "DIAG_FLAG5_Sum          20.414\n",
       "ndc_cat58_Sum            6.526\n",
       "CPT_FLAG9_Sum            4.300\n",
       "ndc_cat87_Sum            3.695\n",
       "DIAG_FLAG75_Sum          3.290\n",
       "ndc_cat54_Sum            1.936\n",
       "CPT_FLAG43_Sum           1.368\n",
       "DIAG_FLAG42_Sum          1.265\n",
       "age                      1.173\n",
       "DIAG_FLAG38_Sum          0.992\n",
       "CPT_FLAG47_Sum           0.762\n",
       "ndc_cat85_Sum            0.744\n",
       "DIAG_FLAG7_Sum           0.662\n",
       "DIAG_FLAG48_Sum          0.647\n",
       "REVCODE_FLAG11_Sum       0.618\n",
       "CPT_FLAG1_Sum            0.578\n",
       "DIAG_FLAG77_Sum          0.548\n",
       "DIAG_FLAG6_Sum           0.535\n",
       "DIAG_FLAG2_Sum           0.522\n",
       "ndc_cat18_Sum            0.506\n",
       "REVCODE_FLAG22_Sum       0.498\n",
       "DIAG_FLAG9_Sum           0.483\n",
       "REVCODE_FLAG16_Sum       0.443\n",
       "DIAG_FLAG53_Sum          0.423\n",
       "ndc_cat15_Sum            0.422\n",
       "CPT_FLAG6_Sum            0.413\n",
       "CPT_FLAG48_Sum           0.408\n",
       "ndc_cat16_Sum            0.394\n",
       "ndc_cat11_Sum            0.385\n",
       "DIAG_FLAG11_Sum          0.369\n",
       "REVCODE_FLAG19_Sum       0.343\n",
       "DIAG_FLAG80_Sum          0.331\n",
       "DIAG_FLAG31_Sum          0.320\n",
       "DIAG_FLAG8_Sum           0.310\n",
       "DIAG_FLAG76_Sum          0.288\n",
       "ndc_cat20_Sum            0.276\n",
       "DIAG_FLAG41_Sum          0.238\n",
       "DIAG_FLAG10_Sum          0.230\n",
       "DIAG_FLAG54_Sum          0.223\n",
       "ndc_cat45_Sum            0.218\n",
       "DIAG_FLAG60_Sum          0.207\n",
       "ndc_cat82_Sum            0.205\n",
       "ndc_cat70_Sum            0.184\n",
       "DIAG_FLAG85_Sum          0.184\n",
       "DIAG_FLAG3_Sum           0.176\n",
       "CPT_FLAG21_Sum           0.167\n",
       "ndc_cat40_Sum            0.155\n",
       "REVCODE_FLAG38_Sum       0.154\n",
       "ndc_cat13_Sum            0.147\n",
       "ndc_cat29_Sum            0.146\n",
       "DIAG_FLAG72_Sum          0.145\n",
       "REVCODE_FLAG12_Sum       0.140\n",
       "ndc_cat72_Sum            0.140\n",
       "ndc_cat77_Sum            0.133\n",
       "REVCODE_FLAG67_Sum       0.132\n",
       "CPT_FLAG18_Sum           0.131\n",
       "ndc_cat22_Sum            0.131\n",
       "DIAG_FLAG71_Sum          0.130\n",
       "CPT_FLAG4_Sum            0.126\n",
       "ndc_cat21_Sum            0.122\n",
       "DIAG_FLAG34_Sum          0.118\n",
       "REVCODE_FLAG15_Sum       0.116\n",
       "DIAG_FLAG49_Sum          0.114\n",
       "DIAG_FLAG12_Sum          0.111\n",
       "ndc_cat76_Sum            0.111\n",
       "CPT_FLAG49_Sum           0.101\n",
       "DIAG_FLAG70_Sum          0.101\n",
       "Gender_M                 0.100\n",
       "ndc_cat59_Sum            0.094\n",
       "DIAG_FLAG55_Sum          0.092\n",
       "CPT_FLAG12_Sum           0.088\n",
       "CPT_FLAG35_Sum           0.084\n",
       "CPT_FLAG46_Sum           0.084\n",
       "DIAG_FLAG1_Sum           0.077\n",
       "ndc_cat44_Sum            0.076\n",
       "ndc_cat63_Sum            0.076\n",
       "ndc_cat23_Sum            0.075\n",
       "ndc_cat83_Sum            0.072\n",
       "ndc_cat66_Sum            0.072\n",
       "CPT_FLAG20_Sum           0.072\n",
       "ndc_cat43_Sum            0.071\n",
       "ndc_cat98_Sum            0.069\n",
       "DIAG_FLAG24_Sum          0.065\n",
       "ndc_cat49_Sum            0.061\n",
       "REVCODE_FLAG23_Sum       0.059\n",
       "ndc_cat100_Sum           0.059\n",
       "DIAG_FLAG15_Sum          0.059\n",
       "DIAG_FLAG37_Sum          0.057\n",
       "DIAG_FLAG67_Sum          0.057\n",
       "ndc_cat79_Sum            0.056\n",
       "REVCODE_FLAG62_Sum       0.056\n",
       "DIAG_FLAG86_Sum          0.054\n",
       "DIAG_FLAG45_Sum          0.053\n",
       "ndc_cat37_Sum            0.053\n",
       "DIAG_FLAG51_Sum          0.051\n",
       "CPT_FLAG44_Sum           0.051\n",
       "DIAG_FLAG73_Sum          0.051\n",
       "REVCODE_FLAG20_Sum       0.050\n",
       "REVCODE_FLAG10_Sum       0.049\n",
       "ndc_cat60_Sum            0.049\n",
       "REVCODE_FLAG63_Sum       0.048\n",
       "CPT_FLAG10_Sum           0.047\n",
       "REVCODE_FLAG17_Sum       0.047\n",
       "ndc_cat31_Sum            0.044\n",
       "ndc_cat38_Sum            0.044\n",
       "DIAG_FLAG84_Sum          0.042\n",
       "REVCODE_FLAG28_Sum       0.042\n",
       "DIAG_FLAG83_Sum          0.042\n",
       "ndc_cat6_Sum             0.040\n",
       "DIAG_FLAG21_Sum          0.039\n",
       "ndc_cat104_Sum           0.039\n",
       "ndc_cat67_Sum            0.039\n",
       "DIAG_FLAG35_Sum          0.039\n",
       "CPT_FLAG22_Sum           0.038\n",
       "DIAG_FLAG79_Sum          0.037\n",
       "ndc_cat42_Sum            0.037\n",
       "DIAG_FLAG68_Sum          0.036\n",
       "ndc_cat28_Sum            0.036\n",
       "CPT_FLAG36_Sum           0.035\n",
       "CPT_FLAG37_Sum           0.034\n",
       "ndc_cat33_Sum            0.034\n",
       "ndc_cat86_Sum            0.033\n",
       "CPT_FLAG45_Sum           0.032\n",
       "ndc_cat5_Sum             0.032\n",
       "DIAG_FLAG66_Sum          0.032\n",
       "DIAG_FLAG63_Sum          0.031\n",
       "ndc_cat39_Sum            0.030\n",
       "REVCODE_FLAG2_Sum        0.030\n",
       "REVCODE_FLAG34_Sum       0.030\n",
       "ndc_cat97_Sum            0.030\n",
       "ndc_cat68_Sum            0.029\n",
       "ndc_cat61_Sum            0.029\n",
       "ndc_cat78_Sum            0.029\n",
       "DIAG_FLAG30_Sum          0.029\n",
       "REVCODE_FLAG3_Sum        0.029\n",
       "REVCODE_FLAG24_Sum       0.029\n",
       "DIAG_FLAG47_Sum          0.028\n",
       "DIAG_FLAG52_Sum          0.027\n",
       "ndc_cat53_Sum            0.027\n",
       "DIAG_FLAG17_Sum          0.026\n",
       "ndc_cat19_Sum            0.025\n",
       "DIAG_FLAG40_Sum          0.024\n",
       "REVCODE_FLAG14_Sum       0.024\n",
       "REVCODE_FLAG41_Sum       0.022\n",
       "REVCODE_FLAG65_Sum       0.022\n",
       "DIAG_FLAG50_Sum          0.021\n",
       "DIAG_FLAG82_Sum          0.021\n",
       "ndc_cat30_Sum            0.021\n",
       "ndc_cat4_Sum             0.021\n",
       "ndc_cat103_Sum           0.021\n",
       "REVCODE_FLAG39_Sum       0.020\n",
       "ndc_cat105_Sum           0.020\n",
       "DIAG_FLAG74_Sum          0.020\n",
       "CPT_FLAG33_Sum           0.019\n",
       "ndc_cat80_Sum            0.018\n",
       "CPT_FLAG32_Sum           0.018\n",
       "ndc_cat35_Sum            0.018\n",
       "DIAG_FLAG69_Sum          0.016\n",
       "ndc_cat41_Sum            0.016\n",
       "ndc_cat14_Sum            0.016\n",
       "CPT_FLAG19_Sum           0.016\n",
       "DIAG_FLAG81_Sum          0.015\n",
       "ndc_cat74_Sum            0.014\n",
       "REVCODE_FLAG37_Sum       0.014\n",
       "REVCODE_FLAG33_Sum       0.014\n",
       "ndc_cat94_Sum            0.014\n",
       "REVCODE_FLAG31_Sum       0.014\n",
       "DIAG_FLAG28_Sum          0.014\n",
       "ndc_cat27_Sum            0.013\n",
       "CPT_FLAG3_Sum            0.013\n",
       "CPT_FLAG26_Sum           0.013\n",
       "ndc_cat1_Sum             0.013\n",
       "ndc_cat36_Sum            0.012\n",
       "DIAG_FLAG61_Sum          0.012\n",
       "ndc_cat7_Sum             0.012\n",
       "REVCODE_FLAG25_Sum       0.012\n",
       "CPT_FLAG7_Sum            0.011\n",
       "ndc_cat106_Sum           0.011\n",
       "DIAG_FLAG32_Sum          0.011\n",
       "CPT_FLAG34_Sum           0.010\n",
       "REVCODE_FLAG68_Sum       0.010\n",
       "REVCODE_FLAG8_Sum        0.010\n",
       "CPT_FLAG13_Sum           0.009\n",
       "CPT_FLAG5_Sum            0.009\n",
       "DIAG_FLAG87_Sum          0.009\n",
       "ndc_cat48_Sum            0.009\n",
       "ndc_cat26_Sum            0.008\n",
       "DIAG_FLAG78_Sum          0.008\n",
       "REVCODE_FLAG61_Sum       0.008\n",
       "ndc_cat96_Sum            0.007\n",
       "ndc_cat71_Sum            0.007\n",
       "ndc_cat52_Sum            0.007\n",
       "REVCODE_FLAG6_Sum        0.007\n",
       "REVCODE_FLAG70_Sum       0.006\n",
       "ndc_cat88_Sum            0.006\n",
       "ndc_cat10_Sum            0.006\n",
       "DIAG_FLAG46_Sum          0.006\n",
       "REVCODE_FLAG64_Sum       0.006\n",
       "ndc_cat95_Sum            0.006\n",
       "REVCODE_FLAG66_Sum       0.006\n",
       "DIAG_FLAG33_Sum          0.006\n",
       "REVCODE_FLAG43_Sum       0.005\n",
       "DIAG_FLAG36_Sum          0.005\n",
       "DIAG_FLAG29_Sum          0.005\n",
       "ndc_cat24_Sum            0.005\n",
       "REVCODE_FLAG36_Sum       0.004\n",
       "REVCODE_FLAG26_Sum       0.004\n",
       "REVCODE_FLAG30_Sum       0.004\n",
       "REVCODE_FLAG55_Sum       0.004\n",
       "CPT_FLAG2_Sum            0.004\n",
       "REVCODE_FLAG48_Sum       0.004\n",
       "REVCODE_FLAG54_Sum       0.004\n",
       "ndc_cat102_Sum           0.004\n",
       "REVCODE_FLAG7_Sum        0.003\n",
       "DIAG_FLAG16_Sum          0.003\n",
       "PROC_FLAG4_Sum           0.003\n",
       "ndc_cat47_Sum            0.003\n",
       "REVCODE_FLAG60_Sum       0.003\n",
       "REVCODE_FLAG13_Sum       0.003\n",
       "CPT_FLAG29_Sum           0.003\n",
       "ndc_cat65_Sum            0.002\n",
       "ndc_cat34_Sum            0.002\n",
       "DIAG_FLAG26_Sum          0.002\n",
       "ndc_cat91_Sum            0.002\n",
       "REVCODE_FLAG69_Sum       0.002\n",
       "ndc_cat17_Sum            0.002\n",
       "ndc_cat69_Sum            0.002\n",
       "REVCODE_FLAG27_Sum       0.002\n",
       "REVCODE_FLAG57_Sum       0.002\n",
       "DIAG_FLAG22_Sum          0.002\n",
       "REVCODE_FLAG49_Sum       0.002\n",
       "ndc_cat12_Sum            0.002\n",
       "REVCODE_FLAG4_Sum        0.002\n",
       "CPT_FLAG14_Sum           0.001\n",
       "DIAG_FLAG23_Sum          0.001\n",
       "ndc_cat55_Sum            0.001\n",
       "REVCODE_FLAG51_Sum       0.001\n",
       "REVCODE_FLAG18_Sum       0.001\n",
       "DIAG_FLAG39_Sum          0.001\n",
       "CPT_FLAG15_Sum           0.001\n",
       "REVCODE_FLAG29_Sum       0.001\n",
       "REVCODE_FLAG1_Sum        0.001\n",
       "REVCODE_FLAG50_Sum       0.001\n",
       "ndc_cat73_Sum            0.001\n",
       "REVCODE_FLAG44_Sum       0.001\n",
       "ndc_cat107_Sum           0.001\n",
       "REVCODE_FLAG40_Sum       0.001\n",
       "ndc_cat84_Sum            0.001\n",
       "REVCODE_FLAG35_Sum       0.001\n",
       "CPT_FLAG16_Sum           0.001\n",
       "REVCODE_FLAG56_Sum       0.000\n",
       "ndc_cat101_Sum           0.000\n",
       "REVCODE_FLAG52_Sum       0.000\n",
       "REVCODE_FLAG32_Sum       0.000\n",
       "ndc_cat75_Sum            0.000\n",
       "REVCODE_FLAG21_Sum       0.000\n",
       "DIAG_FLAG25_Sum          0.000\n",
       "ndc_cat90_Sum            0.000\n",
       "PROC_FLAG5_Sum           0.000\n",
       "ndc_cat50_Sum            0.000\n",
       "ndc_cat64_Sum            0.000\n",
       "ndc_cat25_Sum            0.000\n",
       "REVCODE_FLAG59_Sum       0.000\n",
       "REVCODE_FLAG53_Sum       0.000\n",
       "DIAG_FLAG27_Sum          0.000\n",
       "REVCODE_FLAG5_Sum        0.000\n",
       "DIAG_FLAG62_Sum          0.000\n",
       "ndc_cat9_Sum             0.000\n",
       "REVCODE_FLAG9_Sum        0.000\n",
       "CPT_FLAG17_Sum           0.000\n",
       "ndc_cat56_Sum            0.000\n",
       "REVCODE_FLAG42_Sum       0.000\n",
       "ndc_cat89_Sum            0.000\n",
       "CPT_FLAG11_Sum           0.000\n",
       "ndc_cat8_Sum             0.000\n",
       "ndc_cat62_Sum            0.000\n",
       "REVCODE_FLAG58_Sum       0.000\n",
       "PROC_FLAG2_Sum           0.000\n",
       "ndc_cat32_Sum            0.000\n",
       "REVCODE_FLAG47_Sum       0.000\n",
       "ndc_cat46_Sum            0.000\n",
       "ndc_cat99_Sum            0.000\n",
       "CPT_FLAG8_Sum            0.000\n",
       "REVCODE_FLAG46_Sum       0.000\n",
       "ndc_cat2_Sum             0.000\n",
       "ndc_cat3_Sum             0.000\n",
       "ndc_cat57_Sum            0.000"
      ]
     },
     "execution_count": 44,
     "metadata": {},
     "output_type": "execute_result"
    }
   ],
   "source": [
    "importance = pd.DataFrame(feature_importance, index=cc, columns=['Importance']).sort_values(by='Importance', ascending=False)\n",
    "importance.round(5) * 100"
   ]
  },
  {
   "cell_type": "code",
   "execution_count": 46,
   "metadata": {
    "collapsed": false
   },
   "outputs": [
    {
     "data": {
      "text/plain": [
       "<matplotlib.legend.Legend at 0x6bdad278>"
      ]
     },
     "execution_count": 46,
     "metadata": {},
     "output_type": "execute_result"
    },
    {
     "data": {
      "image/png": "[encoded data removed]",
      "text/plain": [
       "<matplotlib.figure.Figure at 0x6bbf8860>"
      ]
     },
     "metadata": {},
     "output_type": "display_data"
    }
   ],
   "source": [
    "ax = importance.iloc[:20].iloc[::-1].plot(kind='barh')\n",
    "ax.legend(loc='right')"
   ]
  },
  {
   "cell_type": "markdown",
   "metadata": {
    "collapsed": true
   },
   "source": [
    "## This is model 6 in draft, lets retrain on whole training set and then test on test set!"
   ]
  },
  {
   "cell_type": "code",
   "execution_count": 27,
   "metadata": {
    "collapsed": false
   },
   "outputs": [
    {
     "name": "stdout",
     "output_type": "stream",
     "text": [
      "generating 93 samples of indices to use to train multiple estimators, sized 5459 elements with last being 3106 elements\n"
     ]
    },
    {
     "name": "stderr",
     "output_type": "stream",
     "text": [
      "[Parallel(n_jobs=1)]: Done  93 out of  93 | elapsed:  2.6min finished\n"
     ]
    },
    {
     "data": {
      "text/plain": [
       "PNUWrapper(base_estimator=RepeatedRandomSubSampler(base_estimator=RandomForestClassifier(bootstrap=False, class_weight=None, criterion='gini',\n",
       "            max_depth=64, max_features=87, max_leaf_nodes=None,\n",
       "            min_impurity_split=1e-07, min_samples_leaf=8,\n",
       "            min_samples_split=2, min_weight_fr..._jobs', random_state=83,\n",
       "             sample_imbalance=0.4406340820472374, verbose=1, voting='hard'),\n",
       "      num_unlabeled=1.0, pu_learning=True, random_state=None,\n",
       "      threshold_set_pct=None)"
      ]
     },
     "execution_count": 27,
     "metadata": {},
     "output_type": "execute_result"
    }
   ],
   "source": [
    "pnu_test.fit(X_train.values, y_train.values)"
   ]
  },
  {
   "cell_type": "code",
   "execution_count": 28,
   "metadata": {
    "collapsed": false,
    "scrolled": false
   },
   "outputs": [
    {
     "name": "stderr",
     "output_type": "stream",
     "text": [
      "[Parallel(n_jobs=1)]: Done  93 out of  93 | elapsed:   51.5s finished\n",
      "[Parallel(n_jobs=1)]: Done  93 out of  93 | elapsed:   51.4s finished\n"
     ]
    },
    {
     "data": {
      "text/plain": [
       "({'SCORE': 0.85279187817258884,\n",
       "  'assumed_brier': 0.051439278627955616,\n",
       "  'assumed_brier_neg': 0.050798734739934272,\n",
       "  'assumed_f1': 0.11963681680612426,\n",
       "  'assumed_f1beta10': 0.722057916125875,\n",
       "  'confusion_matrix_lab': array([[181,  34],\n",
       "         [ 82, 336]]),\n",
       "  'confusion_matrix_un': array([[82859,  4863],\n",
       "         [   82,   336]]),\n",
       "  'labeled_acc': 0.81674565560821488,\n",
       "  'labeled_avg_prec': 0.92073886172165054,\n",
       "  'labeled_brier': 0.17207698449098846,\n",
       "  'labeled_brier_neg': 0.14527126405257226,\n",
       "  'labeled_brier_pos': 0.18586461581696809,\n",
       "  'labeled_f1': 0.85279187817258884,\n",
       "  'labeled_prec': 0.90810810810810816,\n",
       "  'labeled_recall': 0.80382775119617222,\n",
       "  'labeled_roc_auc': 0.82284410815622566,\n",
       "  'pr_one_unlabeled': 0.055184156696035748,\n",
       "  'pu_mix_assumed_f1beta10': 83.159955140899768,\n",
       "  'pu_score': 10.954163528312257},\n",
       " 0.85279187817258884)"
      ]
     },
     "execution_count": 28,
     "metadata": {},
     "output_type": "execute_result"
    }
   ],
   "source": [
    "FrankenScorer()(pnu_test, X_test.values, y_test.values)"
   ]
  },
  {
   "cell_type": "code",
   "execution_count": 29,
   "metadata": {
    "collapsed": false
   },
   "outputs": [],
   "source": [
    "pnu_test.base_estimator.voting = 'soft'"
   ]
  },
  {
   "cell_type": "code",
   "execution_count": 30,
   "metadata": {
    "collapsed": false
   },
   "outputs": [
    {
     "name": "stderr",
     "output_type": "stream",
     "text": [
      "[Parallel(n_jobs=1)]: Done  93 out of  93 | elapsed:   51.5s finished\n",
      "[Parallel(n_jobs=1)]: Done  93 out of  93 | elapsed:   51.0s finished\n"
     ]
    },
    {
     "data": {
      "text/plain": [
       "({'SCORE': 0.85133418043202036,\n",
       "  'assumed_brier': 0.046065131103342795,\n",
       "  'assumed_brier_neg': 0.045624730612820928,\n",
       "  'assumed_f1': 0.11885754834131629,\n",
       "  'assumed_f1beta10': 0.7196027137965505,\n",
       "  'confusion_matrix_lab': array([[181,  34],\n",
       "         [ 83, 335]]),\n",
       "  'confusion_matrix_un': array([[82838,  4884],\n",
       "         [   83,   335]]),\n",
       "  'labeled_acc': 0.81516587677725116,\n",
       "  'labeled_avg_prec': 0.92020806412966749,\n",
       "  'labeled_brier': 0.13710769055497413,\n",
       "  'labeled_brier_neg': 0.13442386739787418,\n",
       "  'labeled_brier_pos': 0.13848812591089871,\n",
       "  'labeled_f1': 0.85133418043202036,\n",
       "  'labeled_prec': 0.90785907859078596,\n",
       "  'labeled_recall': 0.80143540669856461,\n",
       "  'labeled_roc_auc': 0.82164793590742191,\n",
       "  'pr_one_unlabeled': 0.055424137497571621,\n",
       "  'pu_mix_assumed_f1beta10': 82.807600062782797,\n",
       "  'pu_score': 10.847328683127737},\n",
       " 0.85133418043202036)"
      ]
     },
     "execution_count": 30,
     "metadata": {},
     "output_type": "execute_result"
    }
   ],
   "source": [
    "FrankenScorer()(pnu_test, X_test.values, y_test.values)"
   ]
  },
  {
   "cell_type": "markdown",
   "metadata": {},
   "source": [
    "# Feature importance for 80/20"
   ]
  },
  {
   "cell_type": "code",
   "execution_count": 31,
   "metadata": {
    "collapsed": false
   },
   "outputs": [
    {
     "data": {
      "text/html": [
       "<div>\n",
       "<table border=\"1\" class=\"dataframe\">\n",
       "  <thead>\n",
       "    <tr style=\"text-align: right;\">\n",
       "      <th></th>\n",
       "      <th>Importance</th>\n",
       "    </tr>\n",
       "  </thead>\n",
       "  <tbody>\n",
       "    <tr>\n",
       "      <th>DIAG_FLAG4_Sum</th>\n",
       "      <td>39.560</td>\n",
       "    </tr>\n",
       "    <tr>\n",
       "      <th>DIAG_FLAG5_Sum</th>\n",
       "      <td>23.147</td>\n",
       "    </tr>\n",
       "    <tr>\n",
       "      <th>ndc_cat58_Sum</th>\n",
       "      <td>5.072</td>\n",
       "    </tr>\n",
       "    <tr>\n",
       "      <th>ndc_cat87_Sum</th>\n",
       "      <td>2.809</td>\n",
       "    </tr>\n",
       "    <tr>\n",
       "      <th>CPT_FLAG9_Sum</th>\n",
       "      <td>2.366</td>\n",
       "    </tr>\n",
       "    <tr>\n",
       "      <th>DIAG_FLAG75_Sum</th>\n",
       "      <td>1.997</td>\n",
       "    </tr>\n",
       "    <tr>\n",
       "      <th>age</th>\n",
       "      <td>1.441</td>\n",
       "    </tr>\n",
       "    <tr>\n",
       "      <th>CPT_FLAG43_Sum</th>\n",
       "      <td>0.876</td>\n",
       "    </tr>\n",
       "    <tr>\n",
       "      <th>DIAG_FLAG6_Sum</th>\n",
       "      <td>0.863</td>\n",
       "    </tr>\n",
       "    <tr>\n",
       "      <th>ndc_cat54_Sum</th>\n",
       "      <td>0.758</td>\n",
       "    </tr>\n",
       "    <tr>\n",
       "      <th>CPT_FLAG48_Sum</th>\n",
       "      <td>0.722</td>\n",
       "    </tr>\n",
       "    <tr>\n",
       "      <th>DIAG_FLAG38_Sum</th>\n",
       "      <td>0.573</td>\n",
       "    </tr>\n",
       "    <tr>\n",
       "      <th>DIAG_FLAG54_Sum</th>\n",
       "      <td>0.559</td>\n",
       "    </tr>\n",
       "    <tr>\n",
       "      <th>DIAG_FLAG42_Sum</th>\n",
       "      <td>0.540</td>\n",
       "    </tr>\n",
       "    <tr>\n",
       "      <th>REVCODE_FLAG15_Sum</th>\n",
       "      <td>0.509</td>\n",
       "    </tr>\n",
       "    <tr>\n",
       "      <th>DIAG_FLAG72_Sum</th>\n",
       "      <td>0.465</td>\n",
       "    </tr>\n",
       "    <tr>\n",
       "      <th>DIAG_FLAG71_Sum</th>\n",
       "      <td>0.465</td>\n",
       "    </tr>\n",
       "    <tr>\n",
       "      <th>CPT_FLAG49_Sum</th>\n",
       "      <td>0.447</td>\n",
       "    </tr>\n",
       "    <tr>\n",
       "      <th>REVCODE_FLAG19_Sum</th>\n",
       "      <td>0.437</td>\n",
       "    </tr>\n",
       "    <tr>\n",
       "      <th>CPT_FLAG18_Sum</th>\n",
       "      <td>0.420</td>\n",
       "    </tr>\n",
       "    <tr>\n",
       "      <th>ndc_cat85_Sum</th>\n",
       "      <td>0.413</td>\n",
       "    </tr>\n",
       "    <tr>\n",
       "      <th>DIAG_FLAG2_Sum</th>\n",
       "      <td>0.411</td>\n",
       "    </tr>\n",
       "    <tr>\n",
       "      <th>DIAG_FLAG7_Sum</th>\n",
       "      <td>0.407</td>\n",
       "    </tr>\n",
       "    <tr>\n",
       "      <th>DIAG_FLAG49_Sum</th>\n",
       "      <td>0.392</td>\n",
       "    </tr>\n",
       "    <tr>\n",
       "      <th>CPT_FLAG6_Sum</th>\n",
       "      <td>0.381</td>\n",
       "    </tr>\n",
       "    <tr>\n",
       "      <th>CPT_FLAG12_Sum</th>\n",
       "      <td>0.372</td>\n",
       "    </tr>\n",
       "    <tr>\n",
       "      <th>ndc_cat16_Sum</th>\n",
       "      <td>0.361</td>\n",
       "    </tr>\n",
       "    <tr>\n",
       "      <th>DIAG_FLAG55_Sum</th>\n",
       "      <td>0.348</td>\n",
       "    </tr>\n",
       "    <tr>\n",
       "      <th>ndc_cat15_Sum</th>\n",
       "      <td>0.318</td>\n",
       "    </tr>\n",
       "    <tr>\n",
       "      <th>CPT_FLAG47_Sum</th>\n",
       "      <td>0.310</td>\n",
       "    </tr>\n",
       "    <tr>\n",
       "      <th>DIAG_FLAG53_Sum</th>\n",
       "      <td>0.293</td>\n",
       "    </tr>\n",
       "    <tr>\n",
       "      <th>ndc_cat40_Sum</th>\n",
       "      <td>0.291</td>\n",
       "    </tr>\n",
       "    <tr>\n",
       "      <th>CPT_FLAG20_Sum</th>\n",
       "      <td>0.290</td>\n",
       "    </tr>\n",
       "    <tr>\n",
       "      <th>DIAG_FLAG48_Sum</th>\n",
       "      <td>0.286</td>\n",
       "    </tr>\n",
       "    <tr>\n",
       "      <th>DIAG_FLAG60_Sum</th>\n",
       "      <td>0.285</td>\n",
       "    </tr>\n",
       "    <tr>\n",
       "      <th>CPT_FLAG46_Sum</th>\n",
       "      <td>0.283</td>\n",
       "    </tr>\n",
       "    <tr>\n",
       "      <th>DIAG_FLAG41_Sum</th>\n",
       "      <td>0.279</td>\n",
       "    </tr>\n",
       "    <tr>\n",
       "      <th>DIAG_FLAG77_Sum</th>\n",
       "      <td>0.278</td>\n",
       "    </tr>\n",
       "    <tr>\n",
       "      <th>ndc_cat45_Sum</th>\n",
       "      <td>0.276</td>\n",
       "    </tr>\n",
       "    <tr>\n",
       "      <th>DIAG_FLAG80_Sum</th>\n",
       "      <td>0.270</td>\n",
       "    </tr>\n",
       "    <tr>\n",
       "      <th>DIAG_FLAG45_Sum</th>\n",
       "      <td>0.266</td>\n",
       "    </tr>\n",
       "    <tr>\n",
       "      <th>DIAG_FLAG24_Sum</th>\n",
       "      <td>0.264</td>\n",
       "    </tr>\n",
       "    <tr>\n",
       "      <th>DIAG_FLAG3_Sum</th>\n",
       "      <td>0.252</td>\n",
       "    </tr>\n",
       "    <tr>\n",
       "      <th>DIAG_FLAG67_Sum</th>\n",
       "      <td>0.242</td>\n",
       "    </tr>\n",
       "    <tr>\n",
       "      <th>REVCODE_FLAG67_Sum</th>\n",
       "      <td>0.239</td>\n",
       "    </tr>\n",
       "    <tr>\n",
       "      <th>DIAG_FLAG85_Sum</th>\n",
       "      <td>0.237</td>\n",
       "    </tr>\n",
       "    <tr>\n",
       "      <th>DIAG_FLAG31_Sum</th>\n",
       "      <td>0.225</td>\n",
       "    </tr>\n",
       "    <tr>\n",
       "      <th>CPT_FLAG1_Sum</th>\n",
       "      <td>0.213</td>\n",
       "    </tr>\n",
       "    <tr>\n",
       "      <th>DIAG_FLAG9_Sum</th>\n",
       "      <td>0.211</td>\n",
       "    </tr>\n",
       "    <tr>\n",
       "      <th>ndc_cat22_Sum</th>\n",
       "      <td>0.209</td>\n",
       "    </tr>\n",
       "    <tr>\n",
       "      <th>ndc_cat21_Sum</th>\n",
       "      <td>0.200</td>\n",
       "    </tr>\n",
       "    <tr>\n",
       "      <th>REVCODE_FLAG11_Sum</th>\n",
       "      <td>0.197</td>\n",
       "    </tr>\n",
       "    <tr>\n",
       "      <th>DIAG_FLAG1_Sum</th>\n",
       "      <td>0.189</td>\n",
       "    </tr>\n",
       "    <tr>\n",
       "      <th>REVCODE_FLAG38_Sum</th>\n",
       "      <td>0.188</td>\n",
       "    </tr>\n",
       "    <tr>\n",
       "      <th>ndc_cat11_Sum</th>\n",
       "      <td>0.178</td>\n",
       "    </tr>\n",
       "    <tr>\n",
       "      <th>REVCODE_FLAG12_Sum</th>\n",
       "      <td>0.177</td>\n",
       "    </tr>\n",
       "    <tr>\n",
       "      <th>Gender_M</th>\n",
       "      <td>0.176</td>\n",
       "    </tr>\n",
       "    <tr>\n",
       "      <th>ndc_cat18_Sum</th>\n",
       "      <td>0.176</td>\n",
       "    </tr>\n",
       "    <tr>\n",
       "      <th>ndc_cat44_Sum</th>\n",
       "      <td>0.155</td>\n",
       "    </tr>\n",
       "    <tr>\n",
       "      <th>ndc_cat77_Sum</th>\n",
       "      <td>0.153</td>\n",
       "    </tr>\n",
       "    <tr>\n",
       "      <th>REVCODE_FLAG22_Sum</th>\n",
       "      <td>0.137</td>\n",
       "    </tr>\n",
       "    <tr>\n",
       "      <th>CPT_FLAG4_Sum</th>\n",
       "      <td>0.136</td>\n",
       "    </tr>\n",
       "    <tr>\n",
       "      <th>DIAG_FLAG15_Sum</th>\n",
       "      <td>0.135</td>\n",
       "    </tr>\n",
       "    <tr>\n",
       "      <th>ndc_cat49_Sum</th>\n",
       "      <td>0.133</td>\n",
       "    </tr>\n",
       "    <tr>\n",
       "      <th>REVCODE_FLAG16_Sum</th>\n",
       "      <td>0.128</td>\n",
       "    </tr>\n",
       "    <tr>\n",
       "      <th>DIAG_FLAG34_Sum</th>\n",
       "      <td>0.126</td>\n",
       "    </tr>\n",
       "    <tr>\n",
       "      <th>CPT_FLAG21_Sum</th>\n",
       "      <td>0.111</td>\n",
       "    </tr>\n",
       "    <tr>\n",
       "      <th>DIAG_FLAG11_Sum</th>\n",
       "      <td>0.110</td>\n",
       "    </tr>\n",
       "    <tr>\n",
       "      <th>REVCODE_FLAG23_Sum</th>\n",
       "      <td>0.108</td>\n",
       "    </tr>\n",
       "    <tr>\n",
       "      <th>ndc_cat63_Sum</th>\n",
       "      <td>0.107</td>\n",
       "    </tr>\n",
       "    <tr>\n",
       "      <th>DIAG_FLAG86_Sum</th>\n",
       "      <td>0.106</td>\n",
       "    </tr>\n",
       "    <tr>\n",
       "      <th>ndc_cat13_Sum</th>\n",
       "      <td>0.104</td>\n",
       "    </tr>\n",
       "    <tr>\n",
       "      <th>DIAG_FLAG84_Sum</th>\n",
       "      <td>0.101</td>\n",
       "    </tr>\n",
       "    <tr>\n",
       "      <th>ndc_cat70_Sum</th>\n",
       "      <td>0.101</td>\n",
       "    </tr>\n",
       "    <tr>\n",
       "      <th>REVCODE_FLAG34_Sum</th>\n",
       "      <td>0.100</td>\n",
       "    </tr>\n",
       "    <tr>\n",
       "      <th>DIAG_FLAG83_Sum</th>\n",
       "      <td>0.098</td>\n",
       "    </tr>\n",
       "    <tr>\n",
       "      <th>ndc_cat82_Sum</th>\n",
       "      <td>0.097</td>\n",
       "    </tr>\n",
       "    <tr>\n",
       "      <th>DIAG_FLAG73_Sum</th>\n",
       "      <td>0.093</td>\n",
       "    </tr>\n",
       "    <tr>\n",
       "      <th>ndc_cat31_Sum</th>\n",
       "      <td>0.091</td>\n",
       "    </tr>\n",
       "    <tr>\n",
       "      <th>REVCODE_FLAG63_Sum</th>\n",
       "      <td>0.091</td>\n",
       "    </tr>\n",
       "    <tr>\n",
       "      <th>ndc_cat23_Sum</th>\n",
       "      <td>0.089</td>\n",
       "    </tr>\n",
       "    <tr>\n",
       "      <th>DIAG_FLAG66_Sum</th>\n",
       "      <td>0.086</td>\n",
       "    </tr>\n",
       "    <tr>\n",
       "      <th>DIAG_FLAG79_Sum</th>\n",
       "      <td>0.086</td>\n",
       "    </tr>\n",
       "    <tr>\n",
       "      <th>ndc_cat5_Sum</th>\n",
       "      <td>0.085</td>\n",
       "    </tr>\n",
       "    <tr>\n",
       "      <th>DIAG_FLAG68_Sum</th>\n",
       "      <td>0.083</td>\n",
       "    </tr>\n",
       "    <tr>\n",
       "      <th>ndc_cat76_Sum</th>\n",
       "      <td>0.081</td>\n",
       "    </tr>\n",
       "    <tr>\n",
       "      <th>ndc_cat39_Sum</th>\n",
       "      <td>0.078</td>\n",
       "    </tr>\n",
       "    <tr>\n",
       "      <th>ndc_cat59_Sum</th>\n",
       "      <td>0.077</td>\n",
       "    </tr>\n",
       "    <tr>\n",
       "      <th>REVCODE_FLAG17_Sum</th>\n",
       "      <td>0.072</td>\n",
       "    </tr>\n",
       "    <tr>\n",
       "      <th>DIAG_FLAG51_Sum</th>\n",
       "      <td>0.071</td>\n",
       "    </tr>\n",
       "    <tr>\n",
       "      <th>REVCODE_FLAG10_Sum</th>\n",
       "      <td>0.070</td>\n",
       "    </tr>\n",
       "    <tr>\n",
       "      <th>DIAG_FLAG30_Sum</th>\n",
       "      <td>0.069</td>\n",
       "    </tr>\n",
       "    <tr>\n",
       "      <th>CPT_FLAG22_Sum</th>\n",
       "      <td>0.067</td>\n",
       "    </tr>\n",
       "    <tr>\n",
       "      <th>DIAG_FLAG70_Sum</th>\n",
       "      <td>0.066</td>\n",
       "    </tr>\n",
       "    <tr>\n",
       "      <th>CPT_FLAG35_Sum</th>\n",
       "      <td>0.064</td>\n",
       "    </tr>\n",
       "    <tr>\n",
       "      <th>DIAG_FLAG76_Sum</th>\n",
       "      <td>0.064</td>\n",
       "    </tr>\n",
       "    <tr>\n",
       "      <th>REVCODE_FLAG14_Sum</th>\n",
       "      <td>0.061</td>\n",
       "    </tr>\n",
       "    <tr>\n",
       "      <th>ndc_cat20_Sum</th>\n",
       "      <td>0.059</td>\n",
       "    </tr>\n",
       "    <tr>\n",
       "      <th>DIAG_FLAG8_Sum</th>\n",
       "      <td>0.059</td>\n",
       "    </tr>\n",
       "    <tr>\n",
       "      <th>ndc_cat83_Sum</th>\n",
       "      <td>0.057</td>\n",
       "    </tr>\n",
       "    <tr>\n",
       "      <th>CPT_FLAG45_Sum</th>\n",
       "      <td>0.057</td>\n",
       "    </tr>\n",
       "    <tr>\n",
       "      <th>ndc_cat98_Sum</th>\n",
       "      <td>0.050</td>\n",
       "    </tr>\n",
       "    <tr>\n",
       "      <th>REVCODE_FLAG28_Sum</th>\n",
       "      <td>0.048</td>\n",
       "    </tr>\n",
       "    <tr>\n",
       "      <th>DIAG_FLAG63_Sum</th>\n",
       "      <td>0.048</td>\n",
       "    </tr>\n",
       "    <tr>\n",
       "      <th>ndc_cat42_Sum</th>\n",
       "      <td>0.046</td>\n",
       "    </tr>\n",
       "    <tr>\n",
       "      <th>ndc_cat100_Sum</th>\n",
       "      <td>0.044</td>\n",
       "    </tr>\n",
       "    <tr>\n",
       "      <th>REVCODE_FLAG20_Sum</th>\n",
       "      <td>0.043</td>\n",
       "    </tr>\n",
       "    <tr>\n",
       "      <th>ndc_cat86_Sum</th>\n",
       "      <td>0.041</td>\n",
       "    </tr>\n",
       "    <tr>\n",
       "      <th>ndc_cat53_Sum</th>\n",
       "      <td>0.041</td>\n",
       "    </tr>\n",
       "    <tr>\n",
       "      <th>DIAG_FLAG35_Sum</th>\n",
       "      <td>0.041</td>\n",
       "    </tr>\n",
       "    <tr>\n",
       "      <th>DIAG_FLAG52_Sum</th>\n",
       "      <td>0.039</td>\n",
       "    </tr>\n",
       "    <tr>\n",
       "      <th>ndc_cat33_Sum</th>\n",
       "      <td>0.037</td>\n",
       "    </tr>\n",
       "    <tr>\n",
       "      <th>REVCODE_FLAG62_Sum</th>\n",
       "      <td>0.036</td>\n",
       "    </tr>\n",
       "    <tr>\n",
       "      <th>ndc_cat104_Sum</th>\n",
       "      <td>0.034</td>\n",
       "    </tr>\n",
       "    <tr>\n",
       "      <th>CPT_FLAG36_Sum</th>\n",
       "      <td>0.034</td>\n",
       "    </tr>\n",
       "    <tr>\n",
       "      <th>DIAG_FLAG10_Sum</th>\n",
       "      <td>0.034</td>\n",
       "    </tr>\n",
       "    <tr>\n",
       "      <th>ndc_cat29_Sum</th>\n",
       "      <td>0.032</td>\n",
       "    </tr>\n",
       "    <tr>\n",
       "      <th>ndc_cat72_Sum</th>\n",
       "      <td>0.029</td>\n",
       "    </tr>\n",
       "    <tr>\n",
       "      <th>ndc_cat79_Sum</th>\n",
       "      <td>0.029</td>\n",
       "    </tr>\n",
       "    <tr>\n",
       "      <th>ndc_cat6_Sum</th>\n",
       "      <td>0.028</td>\n",
       "    </tr>\n",
       "    <tr>\n",
       "      <th>REVCODE_FLAG2_Sum</th>\n",
       "      <td>0.028</td>\n",
       "    </tr>\n",
       "    <tr>\n",
       "      <th>ndc_cat66_Sum</th>\n",
       "      <td>0.027</td>\n",
       "    </tr>\n",
       "    <tr>\n",
       "      <th>DIAG_FLAG12_Sum</th>\n",
       "      <td>0.026</td>\n",
       "    </tr>\n",
       "    <tr>\n",
       "      <th>DIAG_FLAG50_Sum</th>\n",
       "      <td>0.026</td>\n",
       "    </tr>\n",
       "    <tr>\n",
       "      <th>REVCODE_FLAG3_Sum</th>\n",
       "      <td>0.025</td>\n",
       "    </tr>\n",
       "    <tr>\n",
       "      <th>ndc_cat105_Sum</th>\n",
       "      <td>0.025</td>\n",
       "    </tr>\n",
       "    <tr>\n",
       "      <th>REVCODE_FLAG65_Sum</th>\n",
       "      <td>0.024</td>\n",
       "    </tr>\n",
       "    <tr>\n",
       "      <th>ndc_cat28_Sum</th>\n",
       "      <td>0.023</td>\n",
       "    </tr>\n",
       "    <tr>\n",
       "      <th>ndc_cat14_Sum</th>\n",
       "      <td>0.023</td>\n",
       "    </tr>\n",
       "    <tr>\n",
       "      <th>ndc_cat74_Sum</th>\n",
       "      <td>0.022</td>\n",
       "    </tr>\n",
       "    <tr>\n",
       "      <th>ndc_cat19_Sum</th>\n",
       "      <td>0.022</td>\n",
       "    </tr>\n",
       "    <tr>\n",
       "      <th>DIAG_FLAG74_Sum</th>\n",
       "      <td>0.022</td>\n",
       "    </tr>\n",
       "    <tr>\n",
       "      <th>DIAG_FLAG69_Sum</th>\n",
       "      <td>0.021</td>\n",
       "    </tr>\n",
       "    <tr>\n",
       "      <th>CPT_FLAG10_Sum</th>\n",
       "      <td>0.021</td>\n",
       "    </tr>\n",
       "    <tr>\n",
       "      <th>REVCODE_FLAG24_Sum</th>\n",
       "      <td>0.021</td>\n",
       "    </tr>\n",
       "    <tr>\n",
       "      <th>ndc_cat38_Sum</th>\n",
       "      <td>0.021</td>\n",
       "    </tr>\n",
       "    <tr>\n",
       "      <th>DIAG_FLAG40_Sum</th>\n",
       "      <td>0.021</td>\n",
       "    </tr>\n",
       "    <tr>\n",
       "      <th>ndc_cat60_Sum</th>\n",
       "      <td>0.020</td>\n",
       "    </tr>\n",
       "    <tr>\n",
       "      <th>DIAG_FLAG47_Sum</th>\n",
       "      <td>0.019</td>\n",
       "    </tr>\n",
       "    <tr>\n",
       "      <th>DIAG_FLAG21_Sum</th>\n",
       "      <td>0.019</td>\n",
       "    </tr>\n",
       "    <tr>\n",
       "      <th>REVCODE_FLAG39_Sum</th>\n",
       "      <td>0.018</td>\n",
       "    </tr>\n",
       "    <tr>\n",
       "      <th>ndc_cat35_Sum</th>\n",
       "      <td>0.018</td>\n",
       "    </tr>\n",
       "    <tr>\n",
       "      <th>REVCODE_FLAG25_Sum</th>\n",
       "      <td>0.018</td>\n",
       "    </tr>\n",
       "    <tr>\n",
       "      <th>ndc_cat30_Sum</th>\n",
       "      <td>0.015</td>\n",
       "    </tr>\n",
       "    <tr>\n",
       "      <th>ndc_cat41_Sum</th>\n",
       "      <td>0.015</td>\n",
       "    </tr>\n",
       "    <tr>\n",
       "      <th>ndc_cat68_Sum</th>\n",
       "      <td>0.014</td>\n",
       "    </tr>\n",
       "    <tr>\n",
       "      <th>ndc_cat37_Sum</th>\n",
       "      <td>0.014</td>\n",
       "    </tr>\n",
       "    <tr>\n",
       "      <th>CPT_FLAG19_Sum</th>\n",
       "      <td>0.013</td>\n",
       "    </tr>\n",
       "    <tr>\n",
       "      <th>CPT_FLAG37_Sum</th>\n",
       "      <td>0.012</td>\n",
       "    </tr>\n",
       "    <tr>\n",
       "      <th>DIAG_FLAG17_Sum</th>\n",
       "      <td>0.012</td>\n",
       "    </tr>\n",
       "    <tr>\n",
       "      <th>ndc_cat67_Sum</th>\n",
       "      <td>0.012</td>\n",
       "    </tr>\n",
       "    <tr>\n",
       "      <th>ndc_cat43_Sum</th>\n",
       "      <td>0.011</td>\n",
       "    </tr>\n",
       "    <tr>\n",
       "      <th>REVCODE_FLAG33_Sum</th>\n",
       "      <td>0.011</td>\n",
       "    </tr>\n",
       "    <tr>\n",
       "      <th>REVCODE_FLAG8_Sum</th>\n",
       "      <td>0.009</td>\n",
       "    </tr>\n",
       "    <tr>\n",
       "      <th>ndc_cat71_Sum</th>\n",
       "      <td>0.008</td>\n",
       "    </tr>\n",
       "    <tr>\n",
       "      <th>CPT_FLAG32_Sum</th>\n",
       "      <td>0.008</td>\n",
       "    </tr>\n",
       "    <tr>\n",
       "      <th>ndc_cat26_Sum</th>\n",
       "      <td>0.008</td>\n",
       "    </tr>\n",
       "    <tr>\n",
       "      <th>ndc_cat97_Sum</th>\n",
       "      <td>0.008</td>\n",
       "    </tr>\n",
       "    <tr>\n",
       "      <th>CPT_FLAG7_Sum</th>\n",
       "      <td>0.007</td>\n",
       "    </tr>\n",
       "    <tr>\n",
       "      <th>CPT_FLAG3_Sum</th>\n",
       "      <td>0.007</td>\n",
       "    </tr>\n",
       "    <tr>\n",
       "      <th>ndc_cat1_Sum</th>\n",
       "      <td>0.007</td>\n",
       "    </tr>\n",
       "    <tr>\n",
       "      <th>ndc_cat78_Sum</th>\n",
       "      <td>0.007</td>\n",
       "    </tr>\n",
       "    <tr>\n",
       "      <th>DIAG_FLAG82_Sum</th>\n",
       "      <td>0.007</td>\n",
       "    </tr>\n",
       "    <tr>\n",
       "      <th>CPT_FLAG26_Sum</th>\n",
       "      <td>0.007</td>\n",
       "    </tr>\n",
       "    <tr>\n",
       "      <th>ndc_cat103_Sum</th>\n",
       "      <td>0.006</td>\n",
       "    </tr>\n",
       "    <tr>\n",
       "      <th>REVCODE_FLAG66_Sum</th>\n",
       "      <td>0.006</td>\n",
       "    </tr>\n",
       "    <tr>\n",
       "      <th>ndc_cat80_Sum</th>\n",
       "      <td>0.006</td>\n",
       "    </tr>\n",
       "    <tr>\n",
       "      <th>DIAG_FLAG61_Sum</th>\n",
       "      <td>0.005</td>\n",
       "    </tr>\n",
       "    <tr>\n",
       "      <th>DIAG_FLAG28_Sum</th>\n",
       "      <td>0.005</td>\n",
       "    </tr>\n",
       "    <tr>\n",
       "      <th>REVCODE_FLAG31_Sum</th>\n",
       "      <td>0.005</td>\n",
       "    </tr>\n",
       "    <tr>\n",
       "      <th>CPT_FLAG13_Sum</th>\n",
       "      <td>0.005</td>\n",
       "    </tr>\n",
       "    <tr>\n",
       "      <th>REVCODE_FLAG37_Sum</th>\n",
       "      <td>0.005</td>\n",
       "    </tr>\n",
       "    <tr>\n",
       "      <th>REVCODE_FLAG70_Sum</th>\n",
       "      <td>0.005</td>\n",
       "    </tr>\n",
       "    <tr>\n",
       "      <th>REVCODE_FLAG6_Sum</th>\n",
       "      <td>0.004</td>\n",
       "    </tr>\n",
       "    <tr>\n",
       "      <th>DIAG_FLAG32_Sum</th>\n",
       "      <td>0.004</td>\n",
       "    </tr>\n",
       "    <tr>\n",
       "      <th>REVCODE_FLAG64_Sum</th>\n",
       "      <td>0.003</td>\n",
       "    </tr>\n",
       "    <tr>\n",
       "      <th>ndc_cat96_Sum</th>\n",
       "      <td>0.003</td>\n",
       "    </tr>\n",
       "    <tr>\n",
       "      <th>DIAG_FLAG37_Sum</th>\n",
       "      <td>0.003</td>\n",
       "    </tr>\n",
       "    <tr>\n",
       "      <th>ndc_cat10_Sum</th>\n",
       "      <td>0.003</td>\n",
       "    </tr>\n",
       "    <tr>\n",
       "      <th>ndc_cat7_Sum</th>\n",
       "      <td>0.003</td>\n",
       "    </tr>\n",
       "    <tr>\n",
       "      <th>REVCODE_FLAG26_Sum</th>\n",
       "      <td>0.002</td>\n",
       "    </tr>\n",
       "    <tr>\n",
       "      <th>ndc_cat61_Sum</th>\n",
       "      <td>0.002</td>\n",
       "    </tr>\n",
       "    <tr>\n",
       "      <th>ndc_cat27_Sum</th>\n",
       "      <td>0.002</td>\n",
       "    </tr>\n",
       "    <tr>\n",
       "      <th>ndc_cat106_Sum</th>\n",
       "      <td>0.002</td>\n",
       "    </tr>\n",
       "    <tr>\n",
       "      <th>ndc_cat102_Sum</th>\n",
       "      <td>0.002</td>\n",
       "    </tr>\n",
       "    <tr>\n",
       "      <th>CPT_FLAG34_Sum</th>\n",
       "      <td>0.002</td>\n",
       "    </tr>\n",
       "    <tr>\n",
       "      <th>CPT_FLAG2_Sum</th>\n",
       "      <td>0.002</td>\n",
       "    </tr>\n",
       "    <tr>\n",
       "      <th>ndc_cat36_Sum</th>\n",
       "      <td>0.002</td>\n",
       "    </tr>\n",
       "    <tr>\n",
       "      <th>REVCODE_FLAG36_Sum</th>\n",
       "      <td>0.002</td>\n",
       "    </tr>\n",
       "    <tr>\n",
       "      <th>REVCODE_FLAG43_Sum</th>\n",
       "      <td>0.002</td>\n",
       "    </tr>\n",
       "    <tr>\n",
       "      <th>ndc_cat94_Sum</th>\n",
       "      <td>0.002</td>\n",
       "    </tr>\n",
       "    <tr>\n",
       "      <th>REVCODE_FLAG41_Sum</th>\n",
       "      <td>0.001</td>\n",
       "    </tr>\n",
       "    <tr>\n",
       "      <th>REVCODE_FLAG55_Sum</th>\n",
       "      <td>0.001</td>\n",
       "    </tr>\n",
       "    <tr>\n",
       "      <th>ndc_cat47_Sum</th>\n",
       "      <td>0.001</td>\n",
       "    </tr>\n",
       "    <tr>\n",
       "      <th>CPT_FLAG5_Sum</th>\n",
       "      <td>0.001</td>\n",
       "    </tr>\n",
       "    <tr>\n",
       "      <th>CPT_FLAG33_Sum</th>\n",
       "      <td>0.001</td>\n",
       "    </tr>\n",
       "    <tr>\n",
       "      <th>DIAG_FLAG87_Sum</th>\n",
       "      <td>0.001</td>\n",
       "    </tr>\n",
       "    <tr>\n",
       "      <th>ndc_cat4_Sum</th>\n",
       "      <td>0.001</td>\n",
       "    </tr>\n",
       "    <tr>\n",
       "      <th>PROC_FLAG4_Sum</th>\n",
       "      <td>0.001</td>\n",
       "    </tr>\n",
       "    <tr>\n",
       "      <th>REVCODE_FLAG7_Sum</th>\n",
       "      <td>0.001</td>\n",
       "    </tr>\n",
       "    <tr>\n",
       "      <th>DIAG_FLAG29_Sum</th>\n",
       "      <td>0.001</td>\n",
       "    </tr>\n",
       "    <tr>\n",
       "      <th>ndc_cat48_Sum</th>\n",
       "      <td>0.001</td>\n",
       "    </tr>\n",
       "    <tr>\n",
       "      <th>REVCODE_FLAG1_Sum</th>\n",
       "      <td>0.000</td>\n",
       "    </tr>\n",
       "    <tr>\n",
       "      <th>ndc_cat24_Sum</th>\n",
       "      <td>0.000</td>\n",
       "    </tr>\n",
       "    <tr>\n",
       "      <th>REVCODE_FLAG60_Sum</th>\n",
       "      <td>0.000</td>\n",
       "    </tr>\n",
       "    <tr>\n",
       "      <th>REVCODE_FLAG48_Sum</th>\n",
       "      <td>0.000</td>\n",
       "    </tr>\n",
       "    <tr>\n",
       "      <th>REVCODE_FLAG13_Sum</th>\n",
       "      <td>0.000</td>\n",
       "    </tr>\n",
       "    <tr>\n",
       "      <th>ndc_cat88_Sum</th>\n",
       "      <td>0.000</td>\n",
       "    </tr>\n",
       "    <tr>\n",
       "      <th>DIAG_FLAG33_Sum</th>\n",
       "      <td>0.000</td>\n",
       "    </tr>\n",
       "    <tr>\n",
       "      <th>CPT_FLAG29_Sum</th>\n",
       "      <td>0.000</td>\n",
       "    </tr>\n",
       "    <tr>\n",
       "      <th>ndc_cat95_Sum</th>\n",
       "      <td>0.000</td>\n",
       "    </tr>\n",
       "    <tr>\n",
       "      <th>CPT_FLAG16_Sum</th>\n",
       "      <td>0.000</td>\n",
       "    </tr>\n",
       "    <tr>\n",
       "      <th>REVCODE_FLAG68_Sum</th>\n",
       "      <td>0.000</td>\n",
       "    </tr>\n",
       "    <tr>\n",
       "      <th>REVCODE_FLAG29_Sum</th>\n",
       "      <td>0.000</td>\n",
       "    </tr>\n",
       "    <tr>\n",
       "      <th>REVCODE_FLAG61_Sum</th>\n",
       "      <td>0.000</td>\n",
       "    </tr>\n",
       "    <tr>\n",
       "      <th>DIAG_FLAG78_Sum</th>\n",
       "      <td>0.000</td>\n",
       "    </tr>\n",
       "    <tr>\n",
       "      <th>DIAG_FLAG81_Sum</th>\n",
       "      <td>0.000</td>\n",
       "    </tr>\n",
       "    <tr>\n",
       "      <th>ndc_cat55_Sum</th>\n",
       "      <td>0.000</td>\n",
       "    </tr>\n",
       "    <tr>\n",
       "      <th>DIAG_FLAG39_Sum</th>\n",
       "      <td>0.000</td>\n",
       "    </tr>\n",
       "    <tr>\n",
       "      <th>DIAG_FLAG46_Sum</th>\n",
       "      <td>0.000</td>\n",
       "    </tr>\n",
       "    <tr>\n",
       "      <th>ndc_cat65_Sum</th>\n",
       "      <td>0.000</td>\n",
       "    </tr>\n",
       "    <tr>\n",
       "      <th>DIAG_FLAG22_Sum</th>\n",
       "      <td>0.000</td>\n",
       "    </tr>\n",
       "    <tr>\n",
       "      <th>ndc_cat12_Sum</th>\n",
       "      <td>0.000</td>\n",
       "    </tr>\n",
       "    <tr>\n",
       "      <th>DIAG_FLAG36_Sum</th>\n",
       "      <td>0.000</td>\n",
       "    </tr>\n",
       "    <tr>\n",
       "      <th>PROC_FLAG5_Sum</th>\n",
       "      <td>0.000</td>\n",
       "    </tr>\n",
       "    <tr>\n",
       "      <th>REVCODE_FLAG18_Sum</th>\n",
       "      <td>0.000</td>\n",
       "    </tr>\n",
       "    <tr>\n",
       "      <th>REVCODE_FLAG35_Sum</th>\n",
       "      <td>0.000</td>\n",
       "    </tr>\n",
       "    <tr>\n",
       "      <th>DIAG_FLAG16_Sum</th>\n",
       "      <td>0.000</td>\n",
       "    </tr>\n",
       "    <tr>\n",
       "      <th>DIAG_FLAG23_Sum</th>\n",
       "      <td>0.000</td>\n",
       "    </tr>\n",
       "    <tr>\n",
       "      <th>ndc_cat75_Sum</th>\n",
       "      <td>0.000</td>\n",
       "    </tr>\n",
       "    <tr>\n",
       "      <th>ndc_cat73_Sum</th>\n",
       "      <td>0.000</td>\n",
       "    </tr>\n",
       "    <tr>\n",
       "      <th>REVCODE_FLAG9_Sum</th>\n",
       "      <td>0.000</td>\n",
       "    </tr>\n",
       "    <tr>\n",
       "      <th>REVCODE_FLAG5_Sum</th>\n",
       "      <td>0.000</td>\n",
       "    </tr>\n",
       "    <tr>\n",
       "      <th>REVCODE_FLAG21_Sum</th>\n",
       "      <td>0.000</td>\n",
       "    </tr>\n",
       "    <tr>\n",
       "      <th>REVCODE_FLAG4_Sum</th>\n",
       "      <td>0.000</td>\n",
       "    </tr>\n",
       "    <tr>\n",
       "      <th>ndc_cat90_Sum</th>\n",
       "      <td>0.000</td>\n",
       "    </tr>\n",
       "    <tr>\n",
       "      <th>ndc_cat84_Sum</th>\n",
       "      <td>0.000</td>\n",
       "    </tr>\n",
       "    <tr>\n",
       "      <th>CPT_FLAG17_Sum</th>\n",
       "      <td>0.000</td>\n",
       "    </tr>\n",
       "    <tr>\n",
       "      <th>ndc_cat89_Sum</th>\n",
       "      <td>0.000</td>\n",
       "    </tr>\n",
       "    <tr>\n",
       "      <th>ndc_cat91_Sum</th>\n",
       "      <td>0.000</td>\n",
       "    </tr>\n",
       "    <tr>\n",
       "      <th>CPT_FLAG15_Sum</th>\n",
       "      <td>0.000</td>\n",
       "    </tr>\n",
       "    <tr>\n",
       "      <th>CPT_FLAG14_Sum</th>\n",
       "      <td>0.000</td>\n",
       "    </tr>\n",
       "    <tr>\n",
       "      <th>CPT_FLAG11_Sum</th>\n",
       "      <td>0.000</td>\n",
       "    </tr>\n",
       "    <tr>\n",
       "      <th>ndc_cat99_Sum</th>\n",
       "      <td>0.000</td>\n",
       "    </tr>\n",
       "    <tr>\n",
       "      <th>CPT_FLAG8_Sum</th>\n",
       "      <td>0.000</td>\n",
       "    </tr>\n",
       "    <tr>\n",
       "      <th>ndc_cat101_Sum</th>\n",
       "      <td>0.000</td>\n",
       "    </tr>\n",
       "    <tr>\n",
       "      <th>PROC_FLAG2_Sum</th>\n",
       "      <td>0.000</td>\n",
       "    </tr>\n",
       "    <tr>\n",
       "      <th>DIAG_FLAG62_Sum</th>\n",
       "      <td>0.000</td>\n",
       "    </tr>\n",
       "    <tr>\n",
       "      <th>ndc_cat107_Sum</th>\n",
       "      <td>0.000</td>\n",
       "    </tr>\n",
       "    <tr>\n",
       "      <th>REVCODE_FLAG27_Sum</th>\n",
       "      <td>0.000</td>\n",
       "    </tr>\n",
       "    <tr>\n",
       "      <th>ndc_cat17_Sum</th>\n",
       "      <td>0.000</td>\n",
       "    </tr>\n",
       "    <tr>\n",
       "      <th>ndc_cat69_Sum</th>\n",
       "      <td>0.000</td>\n",
       "    </tr>\n",
       "    <tr>\n",
       "      <th>REVCODE_FLAG32_Sum</th>\n",
       "      <td>0.000</td>\n",
       "    </tr>\n",
       "    <tr>\n",
       "      <th>REVCODE_FLAG54_Sum</th>\n",
       "      <td>0.000</td>\n",
       "    </tr>\n",
       "    <tr>\n",
       "      <th>REVCODE_FLAG56_Sum</th>\n",
       "      <td>0.000</td>\n",
       "    </tr>\n",
       "    <tr>\n",
       "      <th>REVCODE_FLAG57_Sum</th>\n",
       "      <td>0.000</td>\n",
       "    </tr>\n",
       "    <tr>\n",
       "      <th>REVCODE_FLAG58_Sum</th>\n",
       "      <td>0.000</td>\n",
       "    </tr>\n",
       "    <tr>\n",
       "      <th>REVCODE_FLAG59_Sum</th>\n",
       "      <td>0.000</td>\n",
       "    </tr>\n",
       "    <tr>\n",
       "      <th>DIAG_FLAG26_Sum</th>\n",
       "      <td>0.000</td>\n",
       "    </tr>\n",
       "    <tr>\n",
       "      <th>REVCODE_FLAG69_Sum</th>\n",
       "      <td>0.000</td>\n",
       "    </tr>\n",
       "    <tr>\n",
       "      <th>ndc_cat34_Sum</th>\n",
       "      <td>0.000</td>\n",
       "    </tr>\n",
       "    <tr>\n",
       "      <th>ndc_cat2_Sum</th>\n",
       "      <td>0.000</td>\n",
       "    </tr>\n",
       "    <tr>\n",
       "      <th>ndc_cat32_Sum</th>\n",
       "      <td>0.000</td>\n",
       "    </tr>\n",
       "    <tr>\n",
       "      <th>ndc_cat3_Sum</th>\n",
       "      <td>0.000</td>\n",
       "    </tr>\n",
       "    <tr>\n",
       "      <th>ndc_cat8_Sum</th>\n",
       "      <td>0.000</td>\n",
       "    </tr>\n",
       "    <tr>\n",
       "      <th>ndc_cat9_Sum</th>\n",
       "      <td>0.000</td>\n",
       "    </tr>\n",
       "    <tr>\n",
       "      <th>DIAG_FLAG25_Sum</th>\n",
       "      <td>0.000</td>\n",
       "    </tr>\n",
       "    <tr>\n",
       "      <th>ndc_cat25_Sum</th>\n",
       "      <td>0.000</td>\n",
       "    </tr>\n",
       "    <tr>\n",
       "      <th>REVCODE_FLAG53_Sum</th>\n",
       "      <td>0.000</td>\n",
       "    </tr>\n",
       "    <tr>\n",
       "      <th>ndc_cat46_Sum</th>\n",
       "      <td>0.000</td>\n",
       "    </tr>\n",
       "    <tr>\n",
       "      <th>REVCODE_FLAG52_Sum</th>\n",
       "      <td>0.000</td>\n",
       "    </tr>\n",
       "    <tr>\n",
       "      <th>REVCODE_FLAG46_Sum</th>\n",
       "      <td>0.000</td>\n",
       "    </tr>\n",
       "    <tr>\n",
       "      <th>DIAG_FLAG27_Sum</th>\n",
       "      <td>0.000</td>\n",
       "    </tr>\n",
       "    <tr>\n",
       "      <th>ndc_cat64_Sum</th>\n",
       "      <td>0.000</td>\n",
       "    </tr>\n",
       "    <tr>\n",
       "      <th>REVCODE_FLAG40_Sum</th>\n",
       "      <td>0.000</td>\n",
       "    </tr>\n",
       "    <tr>\n",
       "      <th>ndc_cat62_Sum</th>\n",
       "      <td>0.000</td>\n",
       "    </tr>\n",
       "    <tr>\n",
       "      <th>REVCODE_FLAG42_Sum</th>\n",
       "      <td>0.000</td>\n",
       "    </tr>\n",
       "    <tr>\n",
       "      <th>REVCODE_FLAG44_Sum</th>\n",
       "      <td>0.000</td>\n",
       "    </tr>\n",
       "    <tr>\n",
       "      <th>REVCODE_FLAG47_Sum</th>\n",
       "      <td>0.000</td>\n",
       "    </tr>\n",
       "    <tr>\n",
       "      <th>REVCODE_FLAG51_Sum</th>\n",
       "      <td>0.000</td>\n",
       "    </tr>\n",
       "    <tr>\n",
       "      <th>ndc_cat57_Sum</th>\n",
       "      <td>0.000</td>\n",
       "    </tr>\n",
       "    <tr>\n",
       "      <th>ndc_cat56_Sum</th>\n",
       "      <td>0.000</td>\n",
       "    </tr>\n",
       "    <tr>\n",
       "      <th>REVCODE_FLAG49_Sum</th>\n",
       "      <td>0.000</td>\n",
       "    </tr>\n",
       "    <tr>\n",
       "      <th>ndc_cat52_Sum</th>\n",
       "      <td>0.000</td>\n",
       "    </tr>\n",
       "    <tr>\n",
       "      <th>ndc_cat50_Sum</th>\n",
       "      <td>0.000</td>\n",
       "    </tr>\n",
       "    <tr>\n",
       "      <th>REVCODE_FLAG50_Sum</th>\n",
       "      <td>0.000</td>\n",
       "    </tr>\n",
       "    <tr>\n",
       "      <th>REVCODE_FLAG30_Sum</th>\n",
       "      <td>0.000</td>\n",
       "    </tr>\n",
       "  </tbody>\n",
       "</table>\n",
       "</div>"
      ],
      "text/plain": [
       "                    Importance\n",
       "DIAG_FLAG4_Sum          39.560\n",
       "DIAG_FLAG5_Sum          23.147\n",
       "ndc_cat58_Sum            5.072\n",
       "ndc_cat87_Sum            2.809\n",
       "CPT_FLAG9_Sum            2.366\n",
       "DIAG_FLAG75_Sum          1.997\n",
       "age                      1.441\n",
       "CPT_FLAG43_Sum           0.876\n",
       "DIAG_FLAG6_Sum           0.863\n",
       "ndc_cat54_Sum            0.758\n",
       "CPT_FLAG48_Sum           0.722\n",
       "DIAG_FLAG38_Sum          0.573\n",
       "DIAG_FLAG54_Sum          0.559\n",
       "DIAG_FLAG42_Sum          0.540\n",
       "REVCODE_FLAG15_Sum       0.509\n",
       "DIAG_FLAG72_Sum          0.465\n",
       "DIAG_FLAG71_Sum          0.465\n",
       "CPT_FLAG49_Sum           0.447\n",
       "REVCODE_FLAG19_Sum       0.437\n",
       "CPT_FLAG18_Sum           0.420\n",
       "ndc_cat85_Sum            0.413\n",
       "DIAG_FLAG2_Sum           0.411\n",
       "DIAG_FLAG7_Sum           0.407\n",
       "DIAG_FLAG49_Sum          0.392\n",
       "CPT_FLAG6_Sum            0.381\n",
       "CPT_FLAG12_Sum           0.372\n",
       "ndc_cat16_Sum            0.361\n",
       "DIAG_FLAG55_Sum          0.348\n",
       "ndc_cat15_Sum            0.318\n",
       "CPT_FLAG47_Sum           0.310\n",
       "DIAG_FLAG53_Sum          0.293\n",
       "ndc_cat40_Sum            0.291\n",
       "CPT_FLAG20_Sum           0.290\n",
       "DIAG_FLAG48_Sum          0.286\n",
       "DIAG_FLAG60_Sum          0.285\n",
       "CPT_FLAG46_Sum           0.283\n",
       "DIAG_FLAG41_Sum          0.279\n",
       "DIAG_FLAG77_Sum          0.278\n",
       "ndc_cat45_Sum            0.276\n",
       "DIAG_FLAG80_Sum          0.270\n",
       "DIAG_FLAG45_Sum          0.266\n",
       "DIAG_FLAG24_Sum          0.264\n",
       "DIAG_FLAG3_Sum           0.252\n",
       "DIAG_FLAG67_Sum          0.242\n",
       "REVCODE_FLAG67_Sum       0.239\n",
       "DIAG_FLAG85_Sum          0.237\n",
       "DIAG_FLAG31_Sum          0.225\n",
       "CPT_FLAG1_Sum            0.213\n",
       "DIAG_FLAG9_Sum           0.211\n",
       "ndc_cat22_Sum            0.209\n",
       "ndc_cat21_Sum            0.200\n",
       "REVCODE_FLAG11_Sum       0.197\n",
       "DIAG_FLAG1_Sum           0.189\n",
       "REVCODE_FLAG38_Sum       0.188\n",
       "ndc_cat11_Sum            0.178\n",
       "REVCODE_FLAG12_Sum       0.177\n",
       "Gender_M                 0.176\n",
       "ndc_cat18_Sum            0.176\n",
       "ndc_cat44_Sum            0.155\n",
       "ndc_cat77_Sum            0.153\n",
       "REVCODE_FLAG22_Sum       0.137\n",
       "CPT_FLAG4_Sum            0.136\n",
       "DIAG_FLAG15_Sum          0.135\n",
       "ndc_cat49_Sum            0.133\n",
       "REVCODE_FLAG16_Sum       0.128\n",
       "DIAG_FLAG34_Sum          0.126\n",
       "CPT_FLAG21_Sum           0.111\n",
       "DIAG_FLAG11_Sum          0.110\n",
       "REVCODE_FLAG23_Sum       0.108\n",
       "ndc_cat63_Sum            0.107\n",
       "DIAG_FLAG86_Sum          0.106\n",
       "ndc_cat13_Sum            0.104\n",
       "DIAG_FLAG84_Sum          0.101\n",
       "ndc_cat70_Sum            0.101\n",
       "REVCODE_FLAG34_Sum       0.100\n",
       "DIAG_FLAG83_Sum          0.098\n",
       "ndc_cat82_Sum            0.097\n",
       "DIAG_FLAG73_Sum          0.093\n",
       "ndc_cat31_Sum            0.091\n",
       "REVCODE_FLAG63_Sum       0.091\n",
       "ndc_cat23_Sum            0.089\n",
       "DIAG_FLAG66_Sum          0.086\n",
       "DIAG_FLAG79_Sum          0.086\n",
       "ndc_cat5_Sum             0.085\n",
       "DIAG_FLAG68_Sum          0.083\n",
       "ndc_cat76_Sum            0.081\n",
       "ndc_cat39_Sum            0.078\n",
       "ndc_cat59_Sum            0.077\n",
       "REVCODE_FLAG17_Sum       0.072\n",
       "DIAG_FLAG51_Sum          0.071\n",
       "REVCODE_FLAG10_Sum       0.070\n",
       "DIAG_FLAG30_Sum          0.069\n",
       "CPT_FLAG22_Sum           0.067\n",
       "DIAG_FLAG70_Sum          0.066\n",
       "CPT_FLAG35_Sum           0.064\n",
       "DIAG_FLAG76_Sum          0.064\n",
       "REVCODE_FLAG14_Sum       0.061\n",
       "ndc_cat20_Sum            0.059\n",
       "DIAG_FLAG8_Sum           0.059\n",
       "ndc_cat83_Sum            0.057\n",
       "CPT_FLAG45_Sum           0.057\n",
       "ndc_cat98_Sum            0.050\n",
       "REVCODE_FLAG28_Sum       0.048\n",
       "DIAG_FLAG63_Sum          0.048\n",
       "ndc_cat42_Sum            0.046\n",
       "ndc_cat100_Sum           0.044\n",
       "REVCODE_FLAG20_Sum       0.043\n",
       "ndc_cat86_Sum            0.041\n",
       "ndc_cat53_Sum            0.041\n",
       "DIAG_FLAG35_Sum          0.041\n",
       "DIAG_FLAG52_Sum          0.039\n",
       "ndc_cat33_Sum            0.037\n",
       "REVCODE_FLAG62_Sum       0.036\n",
       "ndc_cat104_Sum           0.034\n",
       "CPT_FLAG36_Sum           0.034\n",
       "DIAG_FLAG10_Sum          0.034\n",
       "ndc_cat29_Sum            0.032\n",
       "ndc_cat72_Sum            0.029\n",
       "ndc_cat79_Sum            0.029\n",
       "ndc_cat6_Sum             0.028\n",
       "REVCODE_FLAG2_Sum        0.028\n",
       "ndc_cat66_Sum            0.027\n",
       "DIAG_FLAG12_Sum          0.026\n",
       "DIAG_FLAG50_Sum          0.026\n",
       "REVCODE_FLAG3_Sum        0.025\n",
       "ndc_cat105_Sum           0.025\n",
       "REVCODE_FLAG65_Sum       0.024\n",
       "ndc_cat28_Sum            0.023\n",
       "ndc_cat14_Sum            0.023\n",
       "ndc_cat74_Sum            0.022\n",
       "ndc_cat19_Sum            0.022\n",
       "DIAG_FLAG74_Sum          0.022\n",
       "DIAG_FLAG69_Sum          0.021\n",
       "CPT_FLAG10_Sum           0.021\n",
       "REVCODE_FLAG24_Sum       0.021\n",
       "ndc_cat38_Sum            0.021\n",
       "DIAG_FLAG40_Sum          0.021\n",
       "ndc_cat60_Sum            0.020\n",
       "DIAG_FLAG47_Sum          0.019\n",
       "DIAG_FLAG21_Sum          0.019\n",
       "REVCODE_FLAG39_Sum       0.018\n",
       "ndc_cat35_Sum            0.018\n",
       "REVCODE_FLAG25_Sum       0.018\n",
       "ndc_cat30_Sum            0.015\n",
       "ndc_cat41_Sum            0.015\n",
       "ndc_cat68_Sum            0.014\n",
       "ndc_cat37_Sum            0.014\n",
       "CPT_FLAG19_Sum           0.013\n",
       "CPT_FLAG37_Sum           0.012\n",
       "DIAG_FLAG17_Sum          0.012\n",
       "ndc_cat67_Sum            0.012\n",
       "ndc_cat43_Sum            0.011\n",
       "REVCODE_FLAG33_Sum       0.011\n",
       "REVCODE_FLAG8_Sum        0.009\n",
       "ndc_cat71_Sum            0.008\n",
       "CPT_FLAG32_Sum           0.008\n",
       "ndc_cat26_Sum            0.008\n",
       "ndc_cat97_Sum            0.008\n",
       "CPT_FLAG7_Sum            0.007\n",
       "CPT_FLAG3_Sum            0.007\n",
       "ndc_cat1_Sum             0.007\n",
       "ndc_cat78_Sum            0.007\n",
       "DIAG_FLAG82_Sum          0.007\n",
       "CPT_FLAG26_Sum           0.007\n",
       "ndc_cat103_Sum           0.006\n",
       "REVCODE_FLAG66_Sum       0.006\n",
       "ndc_cat80_Sum            0.006\n",
       "DIAG_FLAG61_Sum          0.005\n",
       "DIAG_FLAG28_Sum          0.005\n",
       "REVCODE_FLAG31_Sum       0.005\n",
       "CPT_FLAG13_Sum           0.005\n",
       "REVCODE_FLAG37_Sum       0.005\n",
       "REVCODE_FLAG70_Sum       0.005\n",
       "REVCODE_FLAG6_Sum        0.004\n",
       "DIAG_FLAG32_Sum          0.004\n",
       "REVCODE_FLAG64_Sum       0.003\n",
       "ndc_cat96_Sum            0.003\n",
       "DIAG_FLAG37_Sum          0.003\n",
       "ndc_cat10_Sum            0.003\n",
       "ndc_cat7_Sum             0.003\n",
       "REVCODE_FLAG26_Sum       0.002\n",
       "ndc_cat61_Sum            0.002\n",
       "ndc_cat27_Sum            0.002\n",
       "ndc_cat106_Sum           0.002\n",
       "ndc_cat102_Sum           0.002\n",
       "CPT_FLAG34_Sum           0.002\n",
       "CPT_FLAG2_Sum            0.002\n",
       "ndc_cat36_Sum            0.002\n",
       "REVCODE_FLAG36_Sum       0.002\n",
       "REVCODE_FLAG43_Sum       0.002\n",
       "ndc_cat94_Sum            0.002\n",
       "REVCODE_FLAG41_Sum       0.001\n",
       "REVCODE_FLAG55_Sum       0.001\n",
       "ndc_cat47_Sum            0.001\n",
       "CPT_FLAG5_Sum            0.001\n",
       "CPT_FLAG33_Sum           0.001\n",
       "DIAG_FLAG87_Sum          0.001\n",
       "ndc_cat4_Sum             0.001\n",
       "PROC_FLAG4_Sum           0.001\n",
       "REVCODE_FLAG7_Sum        0.001\n",
       "DIAG_FLAG29_Sum          0.001\n",
       "ndc_cat48_Sum            0.001\n",
       "REVCODE_FLAG1_Sum        0.000\n",
       "ndc_cat24_Sum            0.000\n",
       "REVCODE_FLAG60_Sum       0.000\n",
       "REVCODE_FLAG48_Sum       0.000\n",
       "REVCODE_FLAG13_Sum       0.000\n",
       "ndc_cat88_Sum            0.000\n",
       "DIAG_FLAG33_Sum          0.000\n",
       "CPT_FLAG29_Sum           0.000\n",
       "ndc_cat95_Sum            0.000\n",
       "CPT_FLAG16_Sum           0.000\n",
       "REVCODE_FLAG68_Sum       0.000\n",
       "REVCODE_FLAG29_Sum       0.000\n",
       "REVCODE_FLAG61_Sum       0.000\n",
       "DIAG_FLAG78_Sum          0.000\n",
       "DIAG_FLAG81_Sum          0.000\n",
       "ndc_cat55_Sum            0.000\n",
       "DIAG_FLAG39_Sum          0.000\n",
       "DIAG_FLAG46_Sum          0.000\n",
       "ndc_cat65_Sum            0.000\n",
       "DIAG_FLAG22_Sum          0.000\n",
       "ndc_cat12_Sum            0.000\n",
       "DIAG_FLAG36_Sum          0.000\n",
       "PROC_FLAG5_Sum           0.000\n",
       "REVCODE_FLAG18_Sum       0.000\n",
       "REVCODE_FLAG35_Sum       0.000\n",
       "DIAG_FLAG16_Sum          0.000\n",
       "DIAG_FLAG23_Sum          0.000\n",
       "ndc_cat75_Sum            0.000\n",
       "ndc_cat73_Sum            0.000\n",
       "REVCODE_FLAG9_Sum        0.000\n",
       "REVCODE_FLAG5_Sum        0.000\n",
       "REVCODE_FLAG21_Sum       0.000\n",
       "REVCODE_FLAG4_Sum        0.000\n",
       "ndc_cat90_Sum            0.000\n",
       "ndc_cat84_Sum            0.000\n",
       "CPT_FLAG17_Sum           0.000\n",
       "ndc_cat89_Sum            0.000\n",
       "ndc_cat91_Sum            0.000\n",
       "CPT_FLAG15_Sum           0.000\n",
       "CPT_FLAG14_Sum           0.000\n",
       "CPT_FLAG11_Sum           0.000\n",
       "ndc_cat99_Sum            0.000\n",
       "CPT_FLAG8_Sum            0.000\n",
       "ndc_cat101_Sum           0.000\n",
       "PROC_FLAG2_Sum           0.000\n",
       "DIAG_FLAG62_Sum          0.000\n",
       "ndc_cat107_Sum           0.000\n",
       "REVCODE_FLAG27_Sum       0.000\n",
       "ndc_cat17_Sum            0.000\n",
       "ndc_cat69_Sum            0.000\n",
       "REVCODE_FLAG32_Sum       0.000\n",
       "REVCODE_FLAG54_Sum       0.000\n",
       "REVCODE_FLAG56_Sum       0.000\n",
       "REVCODE_FLAG57_Sum       0.000\n",
       "REVCODE_FLAG58_Sum       0.000\n",
       "REVCODE_FLAG59_Sum       0.000\n",
       "DIAG_FLAG26_Sum          0.000\n",
       "REVCODE_FLAG69_Sum       0.000\n",
       "ndc_cat34_Sum            0.000\n",
       "ndc_cat2_Sum             0.000\n",
       "ndc_cat32_Sum            0.000\n",
       "ndc_cat3_Sum             0.000\n",
       "ndc_cat8_Sum             0.000\n",
       "ndc_cat9_Sum             0.000\n",
       "DIAG_FLAG25_Sum          0.000\n",
       "ndc_cat25_Sum            0.000\n",
       "REVCODE_FLAG53_Sum       0.000\n",
       "ndc_cat46_Sum            0.000\n",
       "REVCODE_FLAG52_Sum       0.000\n",
       "REVCODE_FLAG46_Sum       0.000\n",
       "DIAG_FLAG27_Sum          0.000\n",
       "ndc_cat64_Sum            0.000\n",
       "REVCODE_FLAG40_Sum       0.000\n",
       "ndc_cat62_Sum            0.000\n",
       "REVCODE_FLAG42_Sum       0.000\n",
       "REVCODE_FLAG44_Sum       0.000\n",
       "REVCODE_FLAG47_Sum       0.000\n",
       "REVCODE_FLAG51_Sum       0.000\n",
       "ndc_cat57_Sum            0.000\n",
       "ndc_cat56_Sum            0.000\n",
       "REVCODE_FLAG49_Sum       0.000\n",
       "ndc_cat52_Sum            0.000\n",
       "ndc_cat50_Sum            0.000\n",
       "REVCODE_FLAG50_Sum       0.000\n",
       "REVCODE_FLAG30_Sum       0.000"
      ]
     },
     "execution_count": 31,
     "metadata": {},
     "output_type": "execute_result"
    }
   ],
   "source": [
    "importance = pd.DataFrame(pnu_test.feature_importances_, index=X_test.columns.values, columns=['Importance']).sort_values(by='Importance', ascending=False)\n",
    "importance.round(5) * 100"
   ]
  },
  {
   "cell_type": "code",
   "execution_count": 32,
   "metadata": {
    "collapsed": false
   },
   "outputs": [
    {
     "data": {
      "text/plain": [
       "<matplotlib.legend.Legend at 0xe266cf8>"
      ]
     },
     "execution_count": 32,
     "metadata": {},
     "output_type": "execute_result"
    },
    {
     "data": {
      "image/png": "[encoded data removed]",
      "text/plain": [
       "<matplotlib.figure.Figure at 0x1cf79278>"
      ]
     },
     "metadata": {},
     "output_type": "display_data"
    }
   ],
   "source": [
    "ax = importance.iloc[:20].iloc[::-1].plot(kind='barh')\n",
    "ax.legend(loc='right')"
   ]
  },
  {
   "cell_type": "markdown",
   "metadata": {},
   "source": [
    "# Probability distribution of the 20%"
   ]
  },
  {
   "cell_type": "code",
   "execution_count": 70,
   "metadata": {
    "collapsed": false
   },
   "outputs": [],
   "source": [
    "pnu_test.base_estimator.voting = 'soft'"
   ]
  },
  {
   "cell_type": "code",
   "execution_count": 71,
   "metadata": {
    "collapsed": false
   },
   "outputs": [
    {
     "name": "stderr",
     "output_type": "stream",
     "text": [
      "[Parallel(n_jobs=1)]: Done  93 out of  93 | elapsed:   52.1s finished\n"
     ]
    }
   ],
   "source": [
    "probas = pnu_test.predict_proba(X_test)[:, -1]"
   ]
  },
  {
   "cell_type": "code",
   "execution_count": 215,
   "metadata": {
    "collapsed": false
   },
   "outputs": [],
   "source": [
    "probas_df = pd.DataFrame(data={'probas':probas, 'y_test':y_test.values}).sort_values(by='probas', ascending=False)"
   ]
  },
  {
   "cell_type": "code",
   "execution_count": 126,
   "metadata": {
    "collapsed": false
   },
   "outputs": [
    {
     "data": {
      "text/plain": [
       "<matplotlib.axes._subplots.AxesSubplot at 0x10f29fa58>"
      ]
     },
     "execution_count": 126,
     "metadata": {},
     "output_type": "execute_result"
    },
    {
     "data": {
      "image/png": "[encoded data removed]",
      "text/plain": [
       "<matplotlib.figure.Figure at 0x10cd68da0>"
      ]
     },
     "metadata": {},
     "output_type": "display_data"
    }
   ],
   "source": [
    "probas_df['probas'].plot.hist(bins=100)"
   ]
  },
  {
   "cell_type": "code",
   "execution_count": 127,
   "metadata": {
    "collapsed": false
   },
   "outputs": [],
   "source": [
    "bins = np.linspace(0.0, 1.0, 101)\n",
    "percent = pd.cut(probas_df['probas'], bins=bins, include_lowest=True, precision=6, labels=list(range(0,100)))\n",
    "probas_df['percent'] = percent"
   ]
  },
  {
   "cell_type": "code",
   "execution_count": 216,
   "metadata": {
    "collapsed": false
   },
   "outputs": [],
   "source": [
    "bins5 = np.linspace(0.0, 1.0, 21)\n",
    "percent5 = pd.cut(probas_df['probas'], right=True, bins=bins5, include_lowest=True, precision=6, \n",
    "                  labels=['0%-5%','5%-10%','10%-15%','15%-20%','20%-25%','25%-30%','30%-35%','35%-40%','40%-45%','45%-50%',\n",
    "                          '50%-55%','55%-60%','60%-65%','65%-70%','70%-75%','75%-80%','80%-85%','85%-90%','90%-95%',\n",
    "                          '95%-100%'])\n",
    "probas_df['percent5'] = percent5"
   ]
  },
  {
   "cell_type": "code",
   "execution_count": 75,
   "metadata": {
    "collapsed": true
   },
   "outputs": [],
   "source": [
    "probas_df.to_csv('./res/predicted_probabilities_soft.csv')"
   ]
  },
  {
   "cell_type": "code",
   "execution_count": 217,
   "metadata": {
    "collapsed": false
   },
   "outputs": [
    {
     "data": {
      "text/html": [
       "<div>\n",
       "<table border=\"1\" class=\"dataframe\">\n",
       "  <thead>\n",
       "    <tr style=\"text-align: right;\">\n",
       "      <th></th>\n",
       "      <th>probas</th>\n",
       "      <th>y_test</th>\n",
       "      <th>percent5</th>\n",
       "    </tr>\n",
       "  </thead>\n",
       "  <tbody>\n",
       "    <tr>\n",
       "      <th>72609</th>\n",
       "      <td>0.975608</td>\n",
       "      <td>-1</td>\n",
       "      <td>95%-100%</td>\n",
       "    </tr>\n",
       "    <tr>\n",
       "      <th>73802</th>\n",
       "      <td>0.975383</td>\n",
       "      <td>-1</td>\n",
       "      <td>95%-100%</td>\n",
       "    </tr>\n",
       "    <tr>\n",
       "      <th>342</th>\n",
       "      <td>0.975339</td>\n",
       "      <td>1</td>\n",
       "      <td>95%-100%</td>\n",
       "    </tr>\n",
       "    <tr>\n",
       "      <th>8513</th>\n",
       "      <td>0.972576</td>\n",
       "      <td>1</td>\n",
       "      <td>95%-100%</td>\n",
       "    </tr>\n",
       "    <tr>\n",
       "      <th>17976</th>\n",
       "      <td>0.971195</td>\n",
       "      <td>-1</td>\n",
       "      <td>95%-100%</td>\n",
       "    </tr>\n",
       "  </tbody>\n",
       "</table>\n",
       "</div>"
      ],
      "text/plain": [
       "         probas  y_test  percent5\n",
       "72609  0.975608      -1  95%-100%\n",
       "73802  0.975383      -1  95%-100%\n",
       "342    0.975339       1  95%-100%\n",
       "8513   0.972576       1  95%-100%\n",
       "17976  0.971195      -1  95%-100%"
      ]
     },
     "execution_count": 217,
     "metadata": {},
     "output_type": "execute_result"
    }
   ],
   "source": [
    "probas_df.head()"
   ]
  },
  {
   "cell_type": "code",
   "execution_count": 218,
   "metadata": {
    "collapsed": false
   },
   "outputs": [],
   "source": [
    "dummies = pd.get_dummies(probas_df['y_test'], prefix='y=', prefix_sep='')"
   ]
  },
  {
   "cell_type": "code",
   "execution_count": 219,
   "metadata": {
    "collapsed": false
   },
   "outputs": [],
   "source": [
    "probas_df = pd.concat([probas_df, dummies], axis=1)"
   ]
  },
  {
   "cell_type": "code",
   "execution_count": 220,
   "metadata": {
    "collapsed": false
   },
   "outputs": [],
   "source": [
    "probas_group = probas_df.groupby('percent5')"
   ]
  },
  {
   "cell_type": "code",
   "execution_count": 221,
   "metadata": {
    "collapsed": false
   },
   "outputs": [],
   "source": [
    "percentile_df = probas_group.aggregate({'probas':'count', 'y=-1':'sum', 'y=0':'sum', 'y=1':'sum'})"
   ]
  },
  {
   "cell_type": "code",
   "execution_count": 222,
   "metadata": {
    "collapsed": false
   },
   "outputs": [
    {
     "data": {
      "text/html": [
       "<div>\n",
       "<table border=\"1\" class=\"dataframe\">\n",
       "  <thead>\n",
       "    <tr style=\"text-align: right;\">\n",
       "      <th></th>\n",
       "      <th>probas</th>\n",
       "      <th>y=1</th>\n",
       "      <th>y=0</th>\n",
       "      <th>y=-1</th>\n",
       "    </tr>\n",
       "    <tr>\n",
       "      <th>percent5</th>\n",
       "      <th></th>\n",
       "      <th></th>\n",
       "      <th></th>\n",
       "      <th></th>\n",
       "    </tr>\n",
       "  </thead>\n",
       "  <tbody>\n",
       "    <tr>\n",
       "      <th>0%-5%</th>\n",
       "      <td>40329</td>\n",
       "      <td>6</td>\n",
       "      <td>29</td>\n",
       "      <td>40294.0</td>\n",
       "    </tr>\n",
       "    <tr>\n",
       "      <th>5%-10%</th>\n",
       "      <td>17409</td>\n",
       "      <td>9</td>\n",
       "      <td>29</td>\n",
       "      <td>17371.0</td>\n",
       "    </tr>\n",
       "    <tr>\n",
       "      <th>10%-15%</th>\n",
       "      <td>9934</td>\n",
       "      <td>6</td>\n",
       "      <td>27</td>\n",
       "      <td>9901.0</td>\n",
       "    </tr>\n",
       "    <tr>\n",
       "      <th>15%-20%</th>\n",
       "      <td>6256</td>\n",
       "      <td>13</td>\n",
       "      <td>29</td>\n",
       "      <td>6214.0</td>\n",
       "    </tr>\n",
       "    <tr>\n",
       "      <th>20%-25%</th>\n",
       "      <td>3801</td>\n",
       "      <td>9</td>\n",
       "      <td>20</td>\n",
       "      <td>3772.0</td>\n",
       "    </tr>\n",
       "  </tbody>\n",
       "</table>\n",
       "</div>"
      ],
      "text/plain": [
       "          probas  y=1  y=0     y=-1\n",
       "percent5                           \n",
       "0%-5%      40329    6   29  40294.0\n",
       "5%-10%     17409    9   29  17371.0\n",
       "10%-15%     9934    6   27   9901.0\n",
       "15%-20%     6256   13   29   6214.0\n",
       "20%-25%     3801    9   20   3772.0"
      ]
     },
     "execution_count": 222,
     "metadata": {},
     "output_type": "execute_result"
    }
   ],
   "source": [
    "percentile_df.head()"
   ]
  },
  {
   "cell_type": "code",
   "execution_count": 223,
   "metadata": {
    "collapsed": false
   },
   "outputs": [],
   "source": [
    "labeled_tot = percentile_df['y=1'] + percentile_df['y=0']\n",
    "percentile_df['unlabeled_pct'] = percentile_df['y=-1'] / percentile_df.probas\n",
    "percentile_df['true_pos_pct'] = percentile_df['y=1'] / labeled_tot\n",
    "percentile_df['true_neg_pct'] = percentile_df['y=0'] / labeled_tot"
   ]
  },
  {
   "cell_type": "code",
   "execution_count": 224,
   "metadata": {
    "collapsed": false,
    "scrolled": false
   },
   "outputs": [
    {
     "data": {
      "text/html": [
       "<div>\n",
       "<table border=\"1\" class=\"dataframe\">\n",
       "  <thead>\n",
       "    <tr style=\"text-align: right;\">\n",
       "      <th></th>\n",
       "      <th>probas</th>\n",
       "      <th>y=1</th>\n",
       "      <th>y=0</th>\n",
       "      <th>y=-1</th>\n",
       "      <th>unlabeled_pct</th>\n",
       "      <th>true_pos_pct</th>\n",
       "      <th>true_neg_pct</th>\n",
       "    </tr>\n",
       "    <tr>\n",
       "      <th>percent5</th>\n",
       "      <th></th>\n",
       "      <th></th>\n",
       "      <th></th>\n",
       "      <th></th>\n",
       "      <th></th>\n",
       "      <th></th>\n",
       "      <th></th>\n",
       "    </tr>\n",
       "  </thead>\n",
       "  <tbody>\n",
       "    <tr>\n",
       "      <th>0%-5%</th>\n",
       "      <td>40329</td>\n",
       "      <td>6</td>\n",
       "      <td>29</td>\n",
       "      <td>40294.0</td>\n",
       "      <td>0.999132</td>\n",
       "      <td>0.171429</td>\n",
       "      <td>0.828571</td>\n",
       "    </tr>\n",
       "    <tr>\n",
       "      <th>5%-10%</th>\n",
       "      <td>17409</td>\n",
       "      <td>9</td>\n",
       "      <td>29</td>\n",
       "      <td>17371.0</td>\n",
       "      <td>0.997817</td>\n",
       "      <td>0.236842</td>\n",
       "      <td>0.763158</td>\n",
       "    </tr>\n",
       "    <tr>\n",
       "      <th>10%-15%</th>\n",
       "      <td>9934</td>\n",
       "      <td>6</td>\n",
       "      <td>27</td>\n",
       "      <td>9901.0</td>\n",
       "      <td>0.996678</td>\n",
       "      <td>0.181818</td>\n",
       "      <td>0.818182</td>\n",
       "    </tr>\n",
       "    <tr>\n",
       "      <th>15%-20%</th>\n",
       "      <td>6256</td>\n",
       "      <td>13</td>\n",
       "      <td>29</td>\n",
       "      <td>6214.0</td>\n",
       "      <td>0.993286</td>\n",
       "      <td>0.309524</td>\n",
       "      <td>0.690476</td>\n",
       "    </tr>\n",
       "    <tr>\n",
       "      <th>20%-25%</th>\n",
       "      <td>3801</td>\n",
       "      <td>9</td>\n",
       "      <td>20</td>\n",
       "      <td>3772.0</td>\n",
       "      <td>0.992370</td>\n",
       "      <td>0.310345</td>\n",
       "      <td>0.689655</td>\n",
       "    </tr>\n",
       "    <tr>\n",
       "      <th>25%-30%</th>\n",
       "      <td>2294</td>\n",
       "      <td>9</td>\n",
       "      <td>22</td>\n",
       "      <td>2263.0</td>\n",
       "      <td>0.986486</td>\n",
       "      <td>0.290323</td>\n",
       "      <td>0.709677</td>\n",
       "    </tr>\n",
       "    <tr>\n",
       "      <th>30%-35%</th>\n",
       "      <td>1229</td>\n",
       "      <td>15</td>\n",
       "      <td>13</td>\n",
       "      <td>1201.0</td>\n",
       "      <td>0.977217</td>\n",
       "      <td>0.535714</td>\n",
       "      <td>0.464286</td>\n",
       "    </tr>\n",
       "    <tr>\n",
       "      <th>35%-40%</th>\n",
       "      <td>744</td>\n",
       "      <td>3</td>\n",
       "      <td>6</td>\n",
       "      <td>735.0</td>\n",
       "      <td>0.987903</td>\n",
       "      <td>0.333333</td>\n",
       "      <td>0.666667</td>\n",
       "    </tr>\n",
       "    <tr>\n",
       "      <th>40%-45%</th>\n",
       "      <td>505</td>\n",
       "      <td>6</td>\n",
       "      <td>5</td>\n",
       "      <td>494.0</td>\n",
       "      <td>0.978218</td>\n",
       "      <td>0.545455</td>\n",
       "      <td>0.454545</td>\n",
       "    </tr>\n",
       "    <tr>\n",
       "      <th>45%-50%</th>\n",
       "      <td>420</td>\n",
       "      <td>7</td>\n",
       "      <td>1</td>\n",
       "      <td>412.0</td>\n",
       "      <td>0.980952</td>\n",
       "      <td>0.875000</td>\n",
       "      <td>0.125000</td>\n",
       "    </tr>\n",
       "    <tr>\n",
       "      <th>50%-55%</th>\n",
       "      <td>456</td>\n",
       "      <td>4</td>\n",
       "      <td>4</td>\n",
       "      <td>448.0</td>\n",
       "      <td>0.982456</td>\n",
       "      <td>0.500000</td>\n",
       "      <td>0.500000</td>\n",
       "    </tr>\n",
       "    <tr>\n",
       "      <th>55%-60%</th>\n",
       "      <td>389</td>\n",
       "      <td>2</td>\n",
       "      <td>1</td>\n",
       "      <td>386.0</td>\n",
       "      <td>0.992288</td>\n",
       "      <td>0.666667</td>\n",
       "      <td>0.333333</td>\n",
       "    </tr>\n",
       "    <tr>\n",
       "      <th>60%-65%</th>\n",
       "      <td>439</td>\n",
       "      <td>1</td>\n",
       "      <td>1</td>\n",
       "      <td>437.0</td>\n",
       "      <td>0.995444</td>\n",
       "      <td>0.500000</td>\n",
       "      <td>0.500000</td>\n",
       "    </tr>\n",
       "    <tr>\n",
       "      <th>65%-70%</th>\n",
       "      <td>449</td>\n",
       "      <td>7</td>\n",
       "      <td>1</td>\n",
       "      <td>441.0</td>\n",
       "      <td>0.982183</td>\n",
       "      <td>0.875000</td>\n",
       "      <td>0.125000</td>\n",
       "    </tr>\n",
       "    <tr>\n",
       "      <th>70%-75%</th>\n",
       "      <td>570</td>\n",
       "      <td>15</td>\n",
       "      <td>2</td>\n",
       "      <td>553.0</td>\n",
       "      <td>0.970175</td>\n",
       "      <td>0.882353</td>\n",
       "      <td>0.117647</td>\n",
       "    </tr>\n",
       "    <tr>\n",
       "      <th>75%-80%</th>\n",
       "      <td>748</td>\n",
       "      <td>29</td>\n",
       "      <td>8</td>\n",
       "      <td>711.0</td>\n",
       "      <td>0.950535</td>\n",
       "      <td>0.783784</td>\n",
       "      <td>0.216216</td>\n",
       "    </tr>\n",
       "    <tr>\n",
       "      <th>80%-85%</th>\n",
       "      <td>846</td>\n",
       "      <td>59</td>\n",
       "      <td>5</td>\n",
       "      <td>782.0</td>\n",
       "      <td>0.924350</td>\n",
       "      <td>0.921875</td>\n",
       "      <td>0.078125</td>\n",
       "    </tr>\n",
       "    <tr>\n",
       "      <th>85%-90%</th>\n",
       "      <td>793</td>\n",
       "      <td>99</td>\n",
       "      <td>6</td>\n",
       "      <td>688.0</td>\n",
       "      <td>0.867591</td>\n",
       "      <td>0.942857</td>\n",
       "      <td>0.057143</td>\n",
       "    </tr>\n",
       "    <tr>\n",
       "      <th>90%-95%</th>\n",
       "      <td>457</td>\n",
       "      <td>101</td>\n",
       "      <td>4</td>\n",
       "      <td>352.0</td>\n",
       "      <td>0.770241</td>\n",
       "      <td>0.961905</td>\n",
       "      <td>0.038095</td>\n",
       "    </tr>\n",
       "    <tr>\n",
       "      <th>95%-100%</th>\n",
       "      <td>72</td>\n",
       "      <td>18</td>\n",
       "      <td>2</td>\n",
       "      <td>52.0</td>\n",
       "      <td>0.722222</td>\n",
       "      <td>0.900000</td>\n",
       "      <td>0.100000</td>\n",
       "    </tr>\n",
       "  </tbody>\n",
       "</table>\n",
       "</div>"
      ],
      "text/plain": [
       "          probas  y=1  y=0     y=-1  unlabeled_pct  true_pos_pct  true_neg_pct\n",
       "percent5                                                                      \n",
       "0%-5%      40329    6   29  40294.0       0.999132      0.171429      0.828571\n",
       "5%-10%     17409    9   29  17371.0       0.997817      0.236842      0.763158\n",
       "10%-15%     9934    6   27   9901.0       0.996678      0.181818      0.818182\n",
       "15%-20%     6256   13   29   6214.0       0.993286      0.309524      0.690476\n",
       "20%-25%     3801    9   20   3772.0       0.992370      0.310345      0.689655\n",
       "25%-30%     2294    9   22   2263.0       0.986486      0.290323      0.709677\n",
       "30%-35%     1229   15   13   1201.0       0.977217      0.535714      0.464286\n",
       "35%-40%      744    3    6    735.0       0.987903      0.333333      0.666667\n",
       "40%-45%      505    6    5    494.0       0.978218      0.545455      0.454545\n",
       "45%-50%      420    7    1    412.0       0.980952      0.875000      0.125000\n",
       "50%-55%      456    4    4    448.0       0.982456      0.500000      0.500000\n",
       "55%-60%      389    2    1    386.0       0.992288      0.666667      0.333333\n",
       "60%-65%      439    1    1    437.0       0.995444      0.500000      0.500000\n",
       "65%-70%      449    7    1    441.0       0.982183      0.875000      0.125000\n",
       "70%-75%      570   15    2    553.0       0.970175      0.882353      0.117647\n",
       "75%-80%      748   29    8    711.0       0.950535      0.783784      0.216216\n",
       "80%-85%      846   59    5    782.0       0.924350      0.921875      0.078125\n",
       "85%-90%      793   99    6    688.0       0.867591      0.942857      0.057143\n",
       "90%-95%      457  101    4    352.0       0.770241      0.961905      0.038095\n",
       "95%-100%      72   18    2     52.0       0.722222      0.900000      0.100000"
      ]
     },
     "execution_count": 224,
     "metadata": {},
     "output_type": "execute_result"
    }
   ],
   "source": [
    "percentile_df"
   ]
  },
  {
   "cell_type": "code",
   "execution_count": 227,
   "metadata": {
    "collapsed": false
   },
   "outputs": [
    {
     "data": {
      "text/plain": [
       "<matplotlib.text.Text at 0x10a70b860>"
      ]
     },
     "execution_count": 227,
     "metadata": {},
     "output_type": "execute_result"
    },
    {
     "data": {
      "image/png": "[encoded data removed]",
      "text/plain": [
       "<matplotlib.figure.Figure at 0x10a893780>"
      ]
     },
     "metadata": {},
     "output_type": "display_data"
    }
   ],
   "source": [
    "ax = percentile_df.probas.plot(kind='bar')\n",
    "ax.set_title(\"Probability of EPI Assigned to Each Patient by Model #6\", fontsize=15)\n",
    "ax.set_xlabel(\"Percent\", fontsize=15)\n",
    "ax.set_ylabel(\"Count of Patients\", fontsize=15)\n",
    "ax.axvline(x=9.5, ls='--', c='r')\n",
    "ax.text(4, 30000, \"No\", fontsize=20, color='red')\n",
    "ax.text(3, 25000, \"82,921\", fontsize=20, color='red')\n",
    "ax.text(3, 20000, \"94.08%\", fontsize=20, color='red')\n",
    "ax.text(13, 30000, \"Yes\", fontsize=20, color='green')\n",
    "ax.text(12.5, 25000, \"5,219\", fontsize=20, color='green')\n",
    "ax.text(12.5, 20000, \"5.92%\", fontsize=20, color='green')"
   ]
  },
  {
   "cell_type": "code",
   "execution_count": 84,
   "metadata": {
    "collapsed": true
   },
   "outputs": [],
   "source": [
    "percentile_df.to_csv('./res/percentage_table_soft.csv')"
   ]
  },
  {
   "cell_type": "code",
   "execution_count": 171,
   "metadata": {
    "collapsed": false
   },
   "outputs": [],
   "source": [
    "tot = percentile_df.probas.sum()\n",
    "percentile_df['pct_of_total'] = percentile_df.probas / tot"
   ]
  },
  {
   "cell_type": "code",
   "execution_count": 172,
   "metadata": {
    "collapsed": false
   },
   "outputs": [],
   "source": [
    "percentile_df['cum_pct_of_total'] = percentile_df.pct_of_total.cumsum()"
   ]
  },
  {
   "cell_type": "code",
   "execution_count": 173,
   "metadata": {
    "collapsed": false
   },
   "outputs": [],
   "source": [
    "percentile_df = percentile_df.ffill()"
   ]
  },
  {
   "cell_type": "code",
   "execution_count": 174,
   "metadata": {
    "collapsed": false
   },
   "outputs": [
    {
     "ename": "ValueError",
     "evalue": "invalid literal for int() with base 10: '[0, 0.05]'",
     "output_type": "error",
     "traceback": [
      "\u001b[0;31m---------------------------------------------------------------------------\u001b[0m",
      "\u001b[0;31mValueError\u001b[0m                                Traceback (most recent call last)",
      "\u001b[0;32m<ipython-input-174-71a400393ef5>\u001b[0m in \u001b[0;36m<module>\u001b[0;34m()\u001b[0m\n\u001b[0;32m----> 1\u001b[0;31m \u001b[0mtp\u001b[0m \u001b[1;33m=\u001b[0m \u001b[0mnp\u001b[0m\u001b[1;33m.\u001b[0m\u001b[0mpolyfit\u001b[0m\u001b[1;33m(\u001b[0m\u001b[0mx\u001b[0m\u001b[1;33m=\u001b[0m\u001b[0mpercentile_df\u001b[0m\u001b[1;33m.\u001b[0m\u001b[0mindex\u001b[0m\u001b[1;33m.\u001b[0m\u001b[0mvalues\u001b[0m\u001b[1;33m.\u001b[0m\u001b[0mastype\u001b[0m\u001b[1;33m(\u001b[0m\u001b[0mint\u001b[0m\u001b[1;33m)\u001b[0m\u001b[1;33m,\u001b[0m \u001b[0my\u001b[0m\u001b[1;33m=\u001b[0m\u001b[0mpercentile_df\u001b[0m\u001b[1;33m.\u001b[0m\u001b[0mtrue_pos_pct\u001b[0m\u001b[1;33m,\u001b[0m \u001b[0mdeg\u001b[0m\u001b[1;33m=\u001b[0m\u001b[1;36m1\u001b[0m\u001b[1;33m)\u001b[0m\u001b[1;33m\u001b[0m\u001b[0m\n\u001b[0m\u001b[1;32m      2\u001b[0m \u001b[0mtpp\u001b[0m \u001b[1;33m=\u001b[0m \u001b[0mnp\u001b[0m\u001b[1;33m.\u001b[0m\u001b[0mpoly1d\u001b[0m\u001b[1;33m(\u001b[0m\u001b[0mtp\u001b[0m\u001b[1;33m)\u001b[0m\u001b[1;33m\u001b[0m\u001b[0m\n\u001b[1;32m      3\u001b[0m \u001b[0mpercentile_df\u001b[0m\u001b[1;33m[\u001b[0m\u001b[1;34m'tp_trendline'\u001b[0m\u001b[1;33m]\u001b[0m \u001b[1;33m=\u001b[0m \u001b[0mtpp\u001b[0m\u001b[1;33m(\u001b[0m\u001b[0mpercentile_df\u001b[0m\u001b[1;33m.\u001b[0m\u001b[0mindex\u001b[0m\u001b[1;33m.\u001b[0m\u001b[0mvalues\u001b[0m\u001b[1;33m.\u001b[0m\u001b[0mastype\u001b[0m\u001b[1;33m(\u001b[0m\u001b[0mint\u001b[0m\u001b[1;33m)\u001b[0m\u001b[1;33m)\u001b[0m\u001b[1;33m\u001b[0m\u001b[0m\n",
      "\u001b[0;32mC:\\Users\\jeffrey.gomberg\\AppData\\Local\\Continuum\\Anaconda3\\lib\\site-packages\\pandas\\core\\categorical.py\u001b[0m in \u001b[0;36mastype\u001b[0;34m(self, dtype, copy)\u001b[0m\n\u001b[1;32m    363\u001b[0m                 \u001b[1;32mreturn\u001b[0m \u001b[0mself\u001b[0m\u001b[1;33m.\u001b[0m\u001b[0mcopy\u001b[0m\u001b[1;33m(\u001b[0m\u001b[1;33m)\u001b[0m\u001b[1;33m\u001b[0m\u001b[0m\n\u001b[1;32m    364\u001b[0m             \u001b[1;32mreturn\u001b[0m \u001b[0mself\u001b[0m\u001b[1;33m\u001b[0m\u001b[0m\n\u001b[0;32m--> 365\u001b[0;31m         \u001b[1;32mreturn\u001b[0m \u001b[0mnp\u001b[0m\u001b[1;33m.\u001b[0m\u001b[0marray\u001b[0m\u001b[1;33m(\u001b[0m\u001b[0mself\u001b[0m\u001b[1;33m,\u001b[0m \u001b[0mdtype\u001b[0m\u001b[1;33m=\u001b[0m\u001b[0mdtype\u001b[0m\u001b[1;33m,\u001b[0m \u001b[0mcopy\u001b[0m\u001b[1;33m=\u001b[0m\u001b[0mcopy\u001b[0m\u001b[1;33m)\u001b[0m\u001b[1;33m\u001b[0m\u001b[0m\n\u001b[0m\u001b[1;32m    366\u001b[0m \u001b[1;33m\u001b[0m\u001b[0m\n\u001b[1;32m    367\u001b[0m     \u001b[1;33m@\u001b[0m\u001b[0mcache_readonly\u001b[0m\u001b[1;33m\u001b[0m\u001b[0m\n",
      "\u001b[0;31mValueError\u001b[0m: invalid literal for int() with base 10: '[0, 0.05]'"
     ]
    }
   ],
   "source": [
    "tp = np.polyfit(x=percentile_df.index.values.astype(int), y=percentile_df.true_pos_pct, deg=1)\n",
    "tpp = np.poly1d(tp)\n",
    "percentile_df['tp_trendline'] = tpp(percentile_df.index.values.astype(int))"
   ]
  },
  {
   "cell_type": "code",
   "execution_count": null,
   "metadata": {
    "collapsed": true
   },
   "outputs": [],
   "source": [
    "tn = np.polyfit(x=percentile_df.index.values.astype(int), y=percentile_df.true_neg_pct, deg=1)\n",
    "tnp = np.poly1d(tn)\n",
    "percentile_df['tn_trendline'] = tnp(percentile_df.index.values.astype(int))"
   ]
  },
  {
   "cell_type": "code",
   "execution_count": 90,
   "metadata": {
    "collapsed": true
   },
   "outputs": [],
   "source": [
    "import matplotlib.pyplot as plt"
   ]
  },
  {
   "cell_type": "code",
   "execution_count": 91,
   "metadata": {
    "collapsed": true
   },
   "outputs": [],
   "source": [
    "df = percentile_df\n",
    "x_axis = df.index.values.astype(int)"
   ]
  },
  {
   "cell_type": "code",
   "execution_count": 92,
   "metadata": {
    "collapsed": false
   },
   "outputs": [
    {
     "data": {
      "text/plain": [
       "<matplotlib.legend.Legend at 0x6d5eaeb8>"
      ]
     },
     "execution_count": 92,
     "metadata": {},
     "output_type": "execute_result"
    },
    {
     "data": {
      "image/png": "[encoded data removed]",
      "text/plain": [
       "<matplotlib.figure.Figure at 0x6d5f8828>"
      ]
     },
     "metadata": {},
     "output_type": "display_data"
    }
   ],
   "source": [
    "plt.figure(figsize=(10,10))\n",
    "plt.plot(x_axis, df.pct_of_total, 'bs', label='N')\n",
    "plt.plot(x_axis, df.cum_pct_of_total, 'b^', label='Cumulative N')\n",
    "plt.plot(x_axis, df.tp_trendline, 'g-', label='% EPI Trend')\n",
    "plt.plot(x_axis, df.tn_trendline, 'r-', label='% Non-EPI Trend')\n",
    "plt.plot(x_axis, df.true_pos_pct, 'g.', label='Labeled EPI %')\n",
    "plt.plot(x_axis, df.true_neg_pct, 'r.', label='Labeled Non-EPI %')\n",
    "plt.axis([0, 100, -0.01, 1.01])\n",
    "plt.ylabel('% of test set')\n",
    "plt.xlabel('predicted probability of EPI')\n",
    "plt.title('20% test set results')\n",
    "plt.legend(loc='right')"
   ]
  },
  {
   "cell_type": "code",
   "execution_count": 95,
   "metadata": {
    "collapsed": false
   },
   "outputs": [
    {
     "data": {
      "text/plain": [
       "5219"
      ]
     },
     "execution_count": 95,
     "metadata": {},
     "output_type": "execute_result"
    }
   ],
   "source": [
    "sum(probas>=0.5)"
   ]
  },
  {
   "cell_type": "markdown",
   "metadata": {},
   "source": [
    "# learning curve"
   ]
  },
  {
   "cell_type": "code",
   "execution_count": 8,
   "metadata": {
    "collapsed": true
   },
   "outputs": [],
   "source": [
    "from sklearn.model_selection import learning_curve"
   ]
  },
  {
   "cell_type": "code",
   "execution_count": 10,
   "metadata": {
    "collapsed": false
   },
   "outputs": [
    {
     "data": {
      "text/plain": [
       "PNUWrapper(base_estimator=RepeatedRandomSubSampler(base_estimator=RandomForestClassifier(bootstrap=False, class_weight=None, criterion='gini',\n",
       "            max_depth=64, max_features='auto', max_leaf_nodes=None,\n",
       "            min_impurity_split=1e-07, min_samples_leaf=1,\n",
       "            min_samples_split=2, min_weigh...obs', random_state=None,\n",
       "             sample_imbalance=0.4406340820472374, verbose=1, voting='hard'),\n",
       "      num_unlabeled=1.0, pu_learning=True, random_state=None,\n",
       "      threshold_set_pct=None)"
      ]
     },
     "execution_count": 10,
     "metadata": {},
     "output_type": "execute_result"
    }
   ],
   "source": [
    "pnu_test.set_params(**{'base_estimator__n_jobs':-1})"
   ]
  },
  {
   "cell_type": "code",
   "execution_count": 20,
   "metadata": {
    "collapsed": false
   },
   "outputs": [
    {
     "name": "stdout",
     "output_type": "stream",
     "text": [
      "[learning_curve] Training set sizes: [ 11751  23503  47007  70510  94014 117518 141021 164525 188028 211532\n",
      " 235036]\n",
      "[CV]  ................................................................\n",
      "generating 119 samples of indices to use to train multiple estimators, sized 143 elements with last being 59 elements\n"
     ]
    },
    {
     "name": "stderr",
     "output_type": "stream",
     "text": [
      "[Parallel(n_jobs=-1)]: Done  42 tasks      | elapsed:    2.7s\n",
      "[Parallel(n_jobs=-1)]: Done 119 out of 119 | elapsed:    6.1s finished\n",
      "[Parallel(n_jobs=-1)]: Done  42 tasks      | elapsed:   31.4s\n",
      "[Parallel(n_jobs=-1)]: Done 119 out of 119 | elapsed:  1.4min finished\n",
      "[Parallel(n_jobs=-1)]: Done  42 tasks      | elapsed:    3.7s\n",
      "[Parallel(n_jobs=-1)]: Done 119 out of 119 | elapsed:    9.0s finished\n"
     ]
    },
    {
     "name": "stdout",
     "output_type": "stream",
     "text": [
      "[CV] ................................ , score=61.152539, total= 1.6min\n",
      "[CV]  ................................................................\n"
     ]
    },
    {
     "name": "stderr",
     "output_type": "stream",
     "text": [
      "[Parallel(n_jobs=1)]: Done   1 out of   1 | elapsed:  1.7min remaining:    0.0s\n"
     ]
    },
    {
     "name": "stdout",
     "output_type": "stream",
     "text": [
      "generating 108 samples of indices to use to train multiple estimators, sized 313 elements with last being 244 elements\n"
     ]
    },
    {
     "name": "stderr",
     "output_type": "stream",
     "text": [
      "[Parallel(n_jobs=-1)]: Done  42 tasks      | elapsed:    2.9s\n",
      "[Parallel(n_jobs=-1)]: Done 108 out of 108 | elapsed:    6.0s finished\n",
      "[Parallel(n_jobs=-1)]: Done  42 tasks      | elapsed:   31.9s\n",
      "[Parallel(n_jobs=-1)]: Done 108 out of 108 | elapsed:  1.3min finished\n",
      "[Parallel(n_jobs=-1)]: Done  42 tasks      | elapsed:    6.6s\n",
      "[Parallel(n_jobs=-1)]: Done 108 out of 108 | elapsed:   15.5s finished\n"
     ]
    },
    {
     "name": "stdout",
     "output_type": "stream",
     "text": [
      "[CV] ................................ , score=73.422493, total= 1.5min\n",
      "[CV]  ................................................................\n"
     ]
    },
    {
     "name": "stderr",
     "output_type": "stream",
     "text": [
      "[Parallel(n_jobs=1)]: Done   2 out of   2 | elapsed:  3.5min remaining:    0.0s\n"
     ]
    },
    {
     "name": "stdout",
     "output_type": "stream",
     "text": [
      "generating 98 samples of indices to use to train multiple estimators, sized 689 elements with last being 539 elements\n"
     ]
    },
    {
     "name": "stderr",
     "output_type": "stream",
     "text": [
      "[Parallel(n_jobs=-1)]: Done  42 tasks      | elapsed:    4.1s\n",
      "[Parallel(n_jobs=-1)]: Done  98 out of  98 | elapsed:    8.2s finished\n",
      "[Parallel(n_jobs=-1)]: Done  42 tasks      | elapsed:   33.3s\n",
      "[Parallel(n_jobs=-1)]: Done  98 out of  98 | elapsed:  1.3min finished\n",
      "[Parallel(n_jobs=-1)]: Done  42 tasks      | elapsed:   14.3s\n",
      "[Parallel(n_jobs=-1)]: Done  98 out of  98 | elapsed:   32.3s finished\n"
     ]
    },
    {
     "name": "stdout",
     "output_type": "stream",
     "text": [
      "[CV] ................................ , score=80.470246, total= 1.5min\n",
      "[CV]  ................................................................\n"
     ]
    },
    {
     "name": "stderr",
     "output_type": "stream",
     "text": [
      "[Parallel(n_jobs=1)]: Done   3 out of   3 | elapsed:  5.5min remaining:    0.0s\n"
     ]
    },
    {
     "name": "stdout",
     "output_type": "stream",
     "text": [
      "generating 99 samples of indices to use to train multiple estimators, sized 1023 elements with last being 763 elements\n"
     ]
    },
    {
     "name": "stderr",
     "output_type": "stream",
     "text": [
      "[Parallel(n_jobs=-1)]: Done  42 tasks      | elapsed:    5.2s\n",
      "[Parallel(n_jobs=-1)]: Done  99 out of  99 | elapsed:   10.8s finished\n",
      "[Parallel(n_jobs=-1)]: Done  42 tasks      | elapsed:   34.6s\n",
      "[Parallel(n_jobs=-1)]: Done  99 out of  99 | elapsed:  1.4min finished\n",
      "[Parallel(n_jobs=-1)]: Done  42 tasks      | elapsed:   20.9s\n",
      "[Parallel(n_jobs=-1)]: Done  99 out of  99 | elapsed:   48.2s finished\n"
     ]
    },
    {
     "name": "stdout",
     "output_type": "stream",
     "text": [
      "[CV] ................................ , score=81.920278, total= 1.6min\n",
      "[CV]  ................................................................\n"
     ]
    },
    {
     "name": "stderr",
     "output_type": "stream",
     "text": [
      "[Parallel(n_jobs=1)]: Done   4 out of   4 | elapsed:  7.9min remaining:    0.0s\n"
     ]
    },
    {
     "name": "stdout",
     "output_type": "stream",
     "text": [
      "generating 99 samples of indices to use to train multiple estimators, sized 1369 elements with last being 690 elements\n"
     ]
    },
    {
     "name": "stderr",
     "output_type": "stream",
     "text": [
      "[Parallel(n_jobs=-1)]: Done  42 tasks      | elapsed:    6.4s\n",
      "[Parallel(n_jobs=-1)]: Done  99 out of  99 | elapsed:   13.7s finished\n",
      "[Parallel(n_jobs=-1)]: Done  42 tasks      | elapsed:   35.2s\n",
      "[Parallel(n_jobs=-1)]: Done  99 out of  99 | elapsed:  1.3min finished\n",
      "[Parallel(n_jobs=-1)]: Done  42 tasks      | elapsed:   28.0s\n",
      "[Parallel(n_jobs=-1)]: Done  99 out of  99 | elapsed:  1.1min finished\n"
     ]
    },
    {
     "name": "stdout",
     "output_type": "stream",
     "text": [
      "[CV] ................................ , score=82.546836, total= 1.6min\n",
      "[CV]  ................................................................\n"
     ]
    },
    {
     "name": "stderr",
     "output_type": "stream",
     "text": [
      "[Parallel(n_jobs=1)]: Done   5 out of   5 | elapsed: 10.7min remaining:    0.0s\n"
     ]
    },
    {
     "name": "stdout",
     "output_type": "stream",
     "text": [
      "generating 96 samples of indices to use to train multiple estimators, sized 1755 elements with last being 1530 elements\n"
     ]
    },
    {
     "name": "stderr",
     "output_type": "stream",
     "text": [
      "[Parallel(n_jobs=-1)]: Done  42 tasks      | elapsed:    7.8s\n",
      "[Parallel(n_jobs=-1)]: Done  96 out of  96 | elapsed:   16.1s finished\n",
      "[Parallel(n_jobs=-1)]: Done  42 tasks      | elapsed:   35.4s\n",
      "[Parallel(n_jobs=-1)]: Done  96 out of  96 | elapsed:  1.3min finished\n",
      "[Parallel(n_jobs=-1)]: Done  42 tasks      | elapsed:   35.4s\n",
      "[Parallel(n_jobs=-1)]: Done  96 out of  96 | elapsed:  1.3min finished\n"
     ]
    },
    {
     "name": "stdout",
     "output_type": "stream",
     "text": [
      "[CV] ................................ , score=83.279343, total= 1.6min\n",
      "[CV]  ................................................................\n"
     ]
    },
    {
     "name": "stderr",
     "output_type": "stream",
     "text": [
      "[Parallel(n_jobs=1)]: Done   6 out of   6 | elapsed: 13.7min remaining:    0.0s\n"
     ]
    },
    {
     "name": "stdout",
     "output_type": "stream",
     "text": [
      "generating 96 samples of indices to use to train multiple estimators, sized 2112 elements with last being 1406 elements\n"
     ]
    },
    {
     "name": "stderr",
     "output_type": "stream",
     "text": [
      "[Parallel(n_jobs=-1)]: Done  42 tasks      | elapsed:    9.0s\n",
      "[Parallel(n_jobs=-1)]: Done  96 out of  96 | elapsed:   19.1s finished\n",
      "[Parallel(n_jobs=-1)]: Done  42 tasks      | elapsed:   35.4s\n",
      "[Parallel(n_jobs=-1)]: Done  96 out of  96 | elapsed:  1.3min finished\n",
      "[Parallel(n_jobs=-1)]: Done  42 tasks      | elapsed:   45.2s\n",
      "[Parallel(n_jobs=-1)]: Done  96 out of  96 | elapsed:  1.7min finished\n"
     ]
    },
    {
     "name": "stdout",
     "output_type": "stream",
     "text": [
      "[CV] ................................ , score=83.338492, total= 1.7min\n"
     ]
    },
    {
     "name": "stderr",
     "output_type": "stream",
     "text": [
      "[Parallel(n_jobs=1)]: Done   7 out of   7 | elapsed: 17.2min remaining:    0.0s\n"
     ]
    },
    {
     "name": "stdout",
     "output_type": "stream",
     "text": [
      "[CV]  ................................................................\n",
      "generating 95 samples of indices to use to train multiple estimators, sized 2497 elements with last being 1221 elements\n"
     ]
    },
    {
     "name": "stderr",
     "output_type": "stream",
     "text": [
      "[Parallel(n_jobs=-1)]: Done  42 tasks      | elapsed:   10.3s\n",
      "[Parallel(n_jobs=-1)]: Done  95 out of  95 | elapsed:   21.9s finished\n",
      "[Parallel(n_jobs=-1)]: Done  42 tasks      | elapsed:   36.0s\n",
      "[Parallel(n_jobs=-1)]: Done  95 out of  95 | elapsed:  1.3min finished\n",
      "[Parallel(n_jobs=-1)]: Done  42 tasks      | elapsed:   53.1s\n",
      "[Parallel(n_jobs=-1)]: Done  95 out of  95 | elapsed:  2.0min finished\n"
     ]
    },
    {
     "name": "stdout",
     "output_type": "stream",
     "text": [
      "[CV] ................................ , score=83.918805, total= 1.8min\n"
     ]
    },
    {
     "name": "stderr",
     "output_type": "stream",
     "text": [
      "[Parallel(n_jobs=1)]: Done   8 out of   8 | elapsed: 20.9min remaining:    0.0s\n"
     ]
    },
    {
     "name": "stdout",
     "output_type": "stream",
     "text": [
      "[CV]  ................................................................\n",
      "generating 98 samples of indices to use to train multiple estimators, sized 2749 elements with last being 2493 elements\n"
     ]
    },
    {
     "name": "stderr",
     "output_type": "stream",
     "text": [
      "[Parallel(n_jobs=-1)]: Done  42 tasks      | elapsed:   11.4s\n",
      "[Parallel(n_jobs=-1)]: Done  98 out of  98 | elapsed:   24.9s finished\n",
      "[Parallel(n_jobs=-1)]: Done  42 tasks      | elapsed:   35.9s\n",
      "[Parallel(n_jobs=-1)]: Done  98 out of  98 | elapsed:  1.4min finished\n",
      "[Parallel(n_jobs=-1)]: Done  42 tasks      | elapsed:  1.0min\n",
      "[Parallel(n_jobs=-1)]: Done  98 out of  98 | elapsed:  2.3min finished\n"
     ]
    },
    {
     "name": "stdout",
     "output_type": "stream",
     "text": [
      "[CV] ................................ , score=83.908591, total= 1.9min\n",
      "[CV]  ................................................................\n"
     ]
    },
    {
     "name": "stderr",
     "output_type": "stream",
     "text": [
      "[Parallel(n_jobs=1)]: Done   9 out of   9 | elapsed: 25.2min remaining:    0.0s\n"
     ]
    },
    {
     "name": "stdout",
     "output_type": "stream",
     "text": [
      "generating 95 samples of indices to use to train multiple estimators, sized 3190 elements with last being 2897 elements\n"
     ]
    },
    {
     "name": "stderr",
     "output_type": "stream",
     "text": [
      "[Parallel(n_jobs=-1)]: Done  42 tasks      | elapsed:   13.3s\n",
      "[Parallel(n_jobs=-1)]: Done  95 out of  95 | elapsed:   28.1s finished\n",
      "[Parallel(n_jobs=-1)]: Done  42 tasks      | elapsed:   37.3s\n",
      "[Parallel(n_jobs=-1)]: Done  95 out of  95 | elapsed:  1.4min finished\n",
      "[Parallel(n_jobs=-1)]: Done  42 tasks      | elapsed:  1.2min\n",
      "[Parallel(n_jobs=-1)]: Done  95 out of  95 | elapsed:  2.6min finished\n"
     ]
    },
    {
     "name": "stdout",
     "output_type": "stream",
     "text": [
      "[CV] ................................ , score=83.608365, total= 1.9min\n",
      "[CV]  ................................................................\n",
      "generating 93 samples of indices to use to train multiple estimators, sized 3638 elements with last being 2162 elements\n"
     ]
    },
    {
     "name": "stderr",
     "output_type": "stream",
     "text": [
      "[Parallel(n_jobs=-1)]: Done  42 tasks      | elapsed:   14.8s\n",
      "[Parallel(n_jobs=-1)]: Done  93 out of  93 | elapsed:   31.2s finished\n",
      "[Parallel(n_jobs=-1)]: Done  42 tasks      | elapsed:   37.7s\n",
      "[Parallel(n_jobs=-1)]: Done  93 out of  93 | elapsed:  1.4min finished\n",
      "[Parallel(n_jobs=-1)]: Done  42 tasks      | elapsed:  1.3min\n",
      "[Parallel(n_jobs=-1)]: Done  93 out of  93 | elapsed:  2.8min finished\n"
     ]
    },
    {
     "name": "stdout",
     "output_type": "stream",
     "text": [
      "[CV] ................................ , score=83.577889, total= 2.0min\n",
      "[CV]  ................................................................\n",
      "generating 90 samples of indices to use to train multiple estimators, sized 189 elements with last being 65 elements\n"
     ]
    },
    {
     "name": "stderr",
     "output_type": "stream",
     "text": [
      "[Parallel(n_jobs=-1)]: Done  42 tasks      | elapsed:    2.7s\n",
      "[Parallel(n_jobs=-1)]: Done  90 out of  90 | elapsed:    4.8s finished\n",
      "[Parallel(n_jobs=-1)]: Done  42 tasks      | elapsed:   30.9s\n",
      "[Parallel(n_jobs=-1)]: Done  90 out of  90 | elapsed:  1.1min finished\n",
      "[Parallel(n_jobs=-1)]: Done  42 tasks      | elapsed:    3.7s\n",
      "[Parallel(n_jobs=-1)]: Done  90 out of  90 | elapsed:    7.1s finished\n"
     ]
    },
    {
     "name": "stdout",
     "output_type": "stream",
     "text": [
      "[CV] ................................ , score=60.451023, total= 1.2min\n",
      "[CV]  ................................................................\n",
      "generating 93 samples of indices to use to train multiple estimators, sized 362 elements with last being 351 elements\n"
     ]
    },
    {
     "name": "stderr",
     "output_type": "stream",
     "text": [
      "[Parallel(n_jobs=-1)]: Done  42 tasks      | elapsed:    3.0s\n",
      "[Parallel(n_jobs=-1)]: Done  93 out of  93 | elapsed:    5.6s finished\n",
      "[Parallel(n_jobs=-1)]: Done  42 tasks      | elapsed:   32.5s\n",
      "[Parallel(n_jobs=-1)]: Done  93 out of  93 | elapsed:  1.2min finished\n",
      "[Parallel(n_jobs=-1)]: Done  42 tasks      | elapsed:    6.8s\n",
      "[Parallel(n_jobs=-1)]: Done  93 out of  93 | elapsed:   14.0s finished\n"
     ]
    },
    {
     "name": "stdout",
     "output_type": "stream",
     "text": [
      "[CV] ................................ , score=76.027128, total= 1.3min\n",
      "[CV]  ................................................................\n",
      "generating 92 samples of indices to use to train multiple estimators, sized 732 elements with last being 665 elements\n"
     ]
    },
    {
     "name": "stderr",
     "output_type": "stream",
     "text": [
      "[Parallel(n_jobs=-1)]: Done  42 tasks      | elapsed:    4.2s\n",
      "[Parallel(n_jobs=-1)]: Done  92 out of  92 | elapsed:    8.2s finished\n",
      "[Parallel(n_jobs=-1)]: Done  42 tasks      | elapsed:   33.8s\n",
      "[Parallel(n_jobs=-1)]: Done  92 out of  92 | elapsed:  1.2min finished\n",
      "[Parallel(n_jobs=-1)]: Done  42 tasks      | elapsed:   14.5s\n",
      "[Parallel(n_jobs=-1)]: Done  92 out of  92 | elapsed:   31.0s finished\n"
     ]
    },
    {
     "name": "stdout",
     "output_type": "stream",
     "text": [
      "[CV] ................................ , score=78.564820, total= 1.4min\n",
      "[CV]  ................................................................\n",
      "generating 91 samples of indices to use to train multiple estimators, sized 1111 elements with last being 947 elements\n"
     ]
    },
    {
     "name": "stderr",
     "output_type": "stream",
     "text": [
      "[Parallel(n_jobs=-1)]: Done  42 tasks      | elapsed:    5.5s\n",
      "[Parallel(n_jobs=-1)]: Done  91 out of  91 | elapsed:   10.7s finished\n",
      "[Parallel(n_jobs=-1)]: Done  42 tasks      | elapsed:   34.3s\n",
      "[Parallel(n_jobs=-1)]: Done  91 out of  91 | elapsed:  1.2min finished\n",
      "[Parallel(n_jobs=-1)]: Done  42 tasks      | elapsed:   20.8s\n",
      "[Parallel(n_jobs=-1)]: Done  91 out of  91 | elapsed:   44.5s finished\n"
     ]
    },
    {
     "name": "stdout",
     "output_type": "stream",
     "text": [
      "[CV] ................................ , score=80.079050, total= 1.5min\n",
      "[CV]  ................................................................\n",
      "generating 94 samples of indices to use to train multiple estimators, sized 1445 elements with last being 513 elements\n"
     ]
    },
    {
     "name": "stderr",
     "output_type": "stream",
     "text": [
      "[Parallel(n_jobs=-1)]: Done  42 tasks      | elapsed:    6.7s\n",
      "[Parallel(n_jobs=-1)]: Done  94 out of  94 | elapsed:   13.4s finished\n",
      "[Parallel(n_jobs=-1)]: Done  42 tasks      | elapsed:   35.0s\n",
      "[Parallel(n_jobs=-1)]: Done  94 out of  94 | elapsed:  1.3min finished\n",
      "[Parallel(n_jobs=-1)]: Done  42 tasks      | elapsed:   28.3s\n",
      "[Parallel(n_jobs=-1)]: Done  94 out of  94 | elapsed:  1.0min finished\n"
     ]
    },
    {
     "name": "stdout",
     "output_type": "stream",
     "text": [
      "[CV] ................................ , score=80.365678, total= 1.6min\n",
      "[CV]  ................................................................\n",
      "generating 93 samples of indices to use to train multiple estimators, sized 1821 elements with last being 944 elements\n"
     ]
    },
    {
     "name": "stderr",
     "output_type": "stream",
     "text": [
      "[Parallel(n_jobs=-1)]: Done  42 tasks      | elapsed:    7.9s\n",
      "[Parallel(n_jobs=-1)]: Done  93 out of  93 | elapsed:   16.2s finished\n",
      "[Parallel(n_jobs=-1)]: Done  42 tasks      | elapsed:   35.1s\n",
      "[Parallel(n_jobs=-1)]: Done  93 out of  93 | elapsed:  1.3min finished\n",
      "[Parallel(n_jobs=-1)]: Done  42 tasks      | elapsed:   35.3s\n",
      "[Parallel(n_jobs=-1)]: Done  93 out of  93 | elapsed:  1.3min finished\n"
     ]
    },
    {
     "name": "stdout",
     "output_type": "stream",
     "text": [
      "[CV] ................................ , score=81.018526, total= 1.6min\n",
      "[CV]  ................................................................\n",
      "generating 96 samples of indices to use to train multiple estimators, sized 2112 elements with last being 1405 elements\n"
     ]
    },
    {
     "name": "stderr",
     "output_type": "stream",
     "text": [
      "[Parallel(n_jobs=-1)]: Done  42 tasks      | elapsed:    9.0s\n",
      "[Parallel(n_jobs=-1)]: Done  96 out of  96 | elapsed:   19.0s finished\n",
      "[Parallel(n_jobs=-1)]: Done  42 tasks      | elapsed:   35.6s\n",
      "[Parallel(n_jobs=-1)]: Done  96 out of  96 | elapsed:  1.4min finished\n",
      "[Parallel(n_jobs=-1)]: Done  42 tasks      | elapsed:   47.0s\n",
      "[Parallel(n_jobs=-1)]: Done  96 out of  96 | elapsed:  1.7min finished\n"
     ]
    },
    {
     "name": "stdout",
     "output_type": "stream",
     "text": [
      "[CV] ................................ , score=81.014463, total= 1.8min\n",
      "[CV]  ................................................................\n",
      "generating 95 samples of indices to use to train multiple estimators, sized 2497 elements with last being 1220 elements\n"
     ]
    },
    {
     "name": "stderr",
     "output_type": "stream",
     "text": [
      "[Parallel(n_jobs=-1)]: Done  42 tasks      | elapsed:   10.4s\n",
      "[Parallel(n_jobs=-1)]: Done  95 out of  95 | elapsed:   22.0s finished\n",
      "[Parallel(n_jobs=-1)]: Done  42 tasks      | elapsed:   36.4s\n",
      "[Parallel(n_jobs=-1)]: Done  95 out of  95 | elapsed:  1.3min finished\n",
      "[Parallel(n_jobs=-1)]: Done  42 tasks      | elapsed:   53.3s\n",
      "[Parallel(n_jobs=-1)]: Done  95 out of  95 | elapsed:  2.0min finished\n"
     ]
    },
    {
     "name": "stdout",
     "output_type": "stream",
     "text": [
      "[CV] ................................ , score=80.660443, total= 1.8min\n",
      "[CV]  ................................................................\n",
      "generating 98 samples of indices to use to train multiple estimators, sized 2749 elements with last being 2492 elements\n"
     ]
    },
    {
     "name": "stderr",
     "output_type": "stream",
     "text": [
      "[Parallel(n_jobs=-1)]: Done  42 tasks      | elapsed:   11.5s\n",
      "[Parallel(n_jobs=-1)]: Done  98 out of  98 | elapsed:   24.9s finished\n",
      "[Parallel(n_jobs=-1)]: Done  42 tasks      | elapsed:   36.3s\n",
      "[Parallel(n_jobs=-1)]: Done  98 out of  98 | elapsed:  1.4min finished\n",
      "[Parallel(n_jobs=-1)]: Done  42 tasks      | elapsed:  1.0min\n",
      "[Parallel(n_jobs=-1)]: Done  98 out of  98 | elapsed:  2.3min finished\n"
     ]
    },
    {
     "name": "stdout",
     "output_type": "stream",
     "text": [
      "[CV] ................................ , score=81.151649, total= 1.9min\n",
      "[CV]  ................................................................\n",
      "generating 95 samples of indices to use to train multiple estimators, sized 3190 elements with last being 2896 elements\n"
     ]
    },
    {
     "name": "stderr",
     "output_type": "stream",
     "text": [
      "[Parallel(n_jobs=-1)]: Done  42 tasks      | elapsed:   13.1s\n",
      "[Parallel(n_jobs=-1)]: Done  95 out of  95 | elapsed:   28.3s finished\n",
      "[Parallel(n_jobs=-1)]: Done  42 tasks      | elapsed:   38.7s\n",
      "[Parallel(n_jobs=-1)]: Done  95 out of  95 | elapsed:  1.4min finished\n",
      "[Parallel(n_jobs=-1)]: Done  42 tasks      | elapsed:  1.1min\n",
      "[Parallel(n_jobs=-1)]: Done  95 out of  95 | elapsed:  2.5min finished\n"
     ]
    },
    {
     "name": "stdout",
     "output_type": "stream",
     "text": [
      "[CV] ................................ , score=81.213881, total= 1.9min\n",
      "[CV]  ................................................................\n",
      "generating 93 samples of indices to use to train multiple estimators, sized 3638 elements with last being 2161 elements\n"
     ]
    },
    {
     "name": "stderr",
     "output_type": "stream",
     "text": [
      "[Parallel(n_jobs=-1)]: Done  42 tasks      | elapsed:   14.9s\n",
      "[Parallel(n_jobs=-1)]: Done  93 out of  93 | elapsed:   31.2s finished\n",
      "[Parallel(n_jobs=-1)]: Done  42 tasks      | elapsed:   37.6s\n",
      "[Parallel(n_jobs=-1)]: Done  93 out of  93 | elapsed:  1.4min finished\n",
      "[Parallel(n_jobs=-1)]: Done  42 tasks      | elapsed:  1.3min\n",
      "[Parallel(n_jobs=-1)]: Done  93 out of  93 | elapsed:  2.8min finished\n"
     ]
    },
    {
     "name": "stdout",
     "output_type": "stream",
     "text": [
      "[CV] ................................ , score=80.872395, total= 2.0min\n",
      "[CV]  ................................................................\n",
      "generating 90 samples of indices to use to train multiple estimators, sized 189 elements with last being 65 elements\n"
     ]
    },
    {
     "name": "stderr",
     "output_type": "stream",
     "text": [
      "[Parallel(n_jobs=-1)]: Done  42 tasks      | elapsed:    2.7s\n",
      "[Parallel(n_jobs=-1)]: Done  90 out of  90 | elapsed:    4.9s finished\n",
      "[Parallel(n_jobs=-1)]: Done  42 tasks      | elapsed:   30.4s\n",
      "[Parallel(n_jobs=-1)]: Done  90 out of  90 | elapsed:  1.1min finished\n",
      "[Parallel(n_jobs=-1)]: Done  42 tasks      | elapsed:    3.8s\n",
      "[Parallel(n_jobs=-1)]: Done  90 out of  90 | elapsed:    7.2s finished\n"
     ]
    },
    {
     "name": "stdout",
     "output_type": "stream",
     "text": [
      "[CV] ................................ , score=62.039832, total= 1.2min\n",
      "[CV]  ................................................................\n",
      "generating 93 samples of indices to use to train multiple estimators, sized 362 elements with last being 351 elements\n"
     ]
    },
    {
     "name": "stderr",
     "output_type": "stream",
     "text": [
      "[Parallel(n_jobs=-1)]: Done  42 tasks      | elapsed:    3.0s\n",
      "[Parallel(n_jobs=-1)]: Done  93 out of  93 | elapsed:    5.7s finished\n",
      "[Parallel(n_jobs=-1)]: Done  42 tasks      | elapsed:   32.9s\n",
      "[Parallel(n_jobs=-1)]: Done  93 out of  93 | elapsed:  1.2min finished\n",
      "[Parallel(n_jobs=-1)]: Done  42 tasks      | elapsed:    6.7s\n",
      "[Parallel(n_jobs=-1)]: Done  93 out of  93 | elapsed:   13.9s finished\n"
     ]
    },
    {
     "name": "stdout",
     "output_type": "stream",
     "text": [
      "[CV] ................................ , score=77.152869, total= 1.4min\n",
      "[CV]  ................................................................\n",
      "generating 92 samples of indices to use to train multiple estimators, sized 732 elements with last being 665 elements\n"
     ]
    },
    {
     "name": "stderr",
     "output_type": "stream",
     "text": [
      "[Parallel(n_jobs=-1)]: Done  42 tasks      | elapsed:    4.2s\n",
      "[Parallel(n_jobs=-1)]: Done  92 out of  92 | elapsed:    8.3s finished\n",
      "[Parallel(n_jobs=-1)]: Done  42 tasks      | elapsed:   33.5s\n",
      "[Parallel(n_jobs=-1)]: Done  92 out of  92 | elapsed:  1.2min finished\n",
      "[Parallel(n_jobs=-1)]: Done  42 tasks      | elapsed:   14.7s\n",
      "[Parallel(n_jobs=-1)]: Done  92 out of  92 | elapsed:   31.2s finished\n"
     ]
    },
    {
     "name": "stdout",
     "output_type": "stream",
     "text": [
      "[CV] ................................ , score=79.327874, total= 1.4min\n",
      "[CV]  ................................................................\n",
      "generating 91 samples of indices to use to train multiple estimators, sized 1111 elements with last being 947 elements\n"
     ]
    },
    {
     "name": "stderr",
     "output_type": "stream",
     "text": [
      "[Parallel(n_jobs=-1)]: Done  42 tasks      | elapsed:    5.4s\n",
      "[Parallel(n_jobs=-1)]: Done  91 out of  91 | elapsed:   10.7s finished\n",
      "[Parallel(n_jobs=-1)]: Done  42 tasks      | elapsed:   34.7s\n",
      "[Parallel(n_jobs=-1)]: Done  91 out of  91 | elapsed:  1.2min finished\n",
      "[Parallel(n_jobs=-1)]: Done  42 tasks      | elapsed:   21.1s\n",
      "[Parallel(n_jobs=-1)]: Done  91 out of  91 | elapsed:   44.1s finished\n"
     ]
    },
    {
     "name": "stdout",
     "output_type": "stream",
     "text": [
      "[CV] ................................ , score=80.835672, total= 1.5min\n",
      "[CV]  ................................................................\n",
      "generating 94 samples of indices to use to train multiple estimators, sized 1445 elements with last being 513 elements\n"
     ]
    },
    {
     "name": "stderr",
     "output_type": "stream",
     "text": [
      "[Parallel(n_jobs=-1)]: Done  42 tasks      | elapsed:    6.6s\n",
      "[Parallel(n_jobs=-1)]: Done  94 out of  94 | elapsed:   13.4s finished\n",
      "[Parallel(n_jobs=-1)]: Done  42 tasks      | elapsed:   34.6s\n",
      "[Parallel(n_jobs=-1)]: Done  94 out of  94 | elapsed:  1.3min finished\n",
      "[Parallel(n_jobs=-1)]: Done  42 tasks      | elapsed:   28.8s\n",
      "[Parallel(n_jobs=-1)]: Done  94 out of  94 | elapsed:  1.0min finished\n"
     ]
    },
    {
     "name": "stdout",
     "output_type": "stream",
     "text": [
      "[CV] ................................ , score=81.956585, total= 1.6min\n",
      "[CV]  ................................................................\n",
      "generating 95 samples of indices to use to train multiple estimators, sized 1788 elements with last being 593 elements\n"
     ]
    },
    {
     "name": "stderr",
     "output_type": "stream",
     "text": [
      "[Parallel(n_jobs=-1)]: Done  42 tasks      | elapsed:    7.9s\n",
      "[Parallel(n_jobs=-1)]: Done  95 out of  95 | elapsed:   16.3s finished\n",
      "[Parallel(n_jobs=-1)]: Done  42 tasks      | elapsed:   35.1s\n",
      "[Parallel(n_jobs=-1)]: Done  95 out of  95 | elapsed:  1.3min finished\n",
      "[Parallel(n_jobs=-1)]: Done  42 tasks      | elapsed:   35.1s\n",
      "[Parallel(n_jobs=-1)]: Done  95 out of  95 | elapsed:  1.3min finished\n"
     ]
    },
    {
     "name": "stdout",
     "output_type": "stream",
     "text": [
      "[CV] ................................ , score=81.746442, total= 1.6min\n",
      "[CV]  ................................................................\n",
      "generating 95 samples of indices to use to train multiple estimators, sized 2134 elements with last being 1479 elements\n"
     ]
    },
    {
     "name": "stderr",
     "output_type": "stream",
     "text": [
      "[Parallel(n_jobs=-1)]: Done  42 tasks      | elapsed:    9.0s\n",
      "[Parallel(n_jobs=-1)]: Done  95 out of  95 | elapsed:   19.3s finished\n",
      "[Parallel(n_jobs=-1)]: Done  42 tasks      | elapsed:   35.9s\n",
      "[Parallel(n_jobs=-1)]: Done  95 out of  95 | elapsed:  1.3min finished\n",
      "[Parallel(n_jobs=-1)]: Done  42 tasks      | elapsed:   45.6s\n",
      "[Parallel(n_jobs=-1)]: Done  95 out of  95 | elapsed:  1.7min finished\n"
     ]
    },
    {
     "name": "stdout",
     "output_type": "stream",
     "text": [
      "[CV] ................................ , score=82.231694, total= 1.7min\n",
      "[CV]  ................................................................\n",
      "generating 94 samples of indices to use to train multiple estimators, sized 2510 elements with last being 2129 elements\n"
     ]
    },
    {
     "name": "stderr",
     "output_type": "stream",
     "text": [
      "[Parallel(n_jobs=-1)]: Done  42 tasks      | elapsed:   10.5s\n",
      "[Parallel(n_jobs=-1)]: Done  94 out of  94 | elapsed:   22.1s finished\n",
      "[Parallel(n_jobs=-1)]: Done  42 tasks      | elapsed:   36.4s\n",
      "[Parallel(n_jobs=-1)]: Done  94 out of  94 | elapsed:  1.3min finished\n",
      "[Parallel(n_jobs=-1)]: Done  42 tasks      | elapsed:   52.8s\n",
      "[Parallel(n_jobs=-1)]: Done  94 out of  94 | elapsed:  1.9min finished\n"
     ]
    },
    {
     "name": "stdout",
     "output_type": "stream",
     "text": [
      "[CV] ................................ , score=81.639481, total= 1.8min\n",
      "[CV]  ................................................................\n",
      "generating 95 samples of indices to use to train multiple estimators, sized 2844 elements with last being 2017 elements\n"
     ]
    },
    {
     "name": "stderr",
     "output_type": "stream",
     "text": [
      "[Parallel(n_jobs=-1)]: Done  42 tasks      | elapsed:   11.9s\n",
      "[Parallel(n_jobs=-1)]: Done  95 out of  95 | elapsed:   25.0s finished\n",
      "[Parallel(n_jobs=-1)]: Done  42 tasks      | elapsed:   36.7s\n",
      "[Parallel(n_jobs=-1)]: Done  95 out of  95 | elapsed:  1.4min finished\n",
      "[Parallel(n_jobs=-1)]: Done  42 tasks      | elapsed:  1.0min\n",
      "[Parallel(n_jobs=-1)]: Done  95 out of  95 | elapsed:  2.3min finished\n"
     ]
    },
    {
     "name": "stdout",
     "output_type": "stream",
     "text": [
      "[CV] ................................ , score=81.542397, total= 1.8min\n",
      "[CV]  ................................................................\n",
      "generating 95 samples of indices to use to train multiple estimators, sized 3190 elements with last being 2904 elements\n"
     ]
    },
    {
     "name": "stderr",
     "output_type": "stream",
     "text": [
      "[Parallel(n_jobs=-1)]: Done  42 tasks      | elapsed:   13.3s\n",
      "[Parallel(n_jobs=-1)]: Done  95 out of  95 | elapsed:   28.4s finished\n",
      "[Parallel(n_jobs=-1)]: Done  42 tasks      | elapsed:   37.3s\n",
      "[Parallel(n_jobs=-1)]: Done  95 out of  95 | elapsed:  1.4min finished\n",
      "[Parallel(n_jobs=-1)]: Done  42 tasks      | elapsed:  1.2min\n",
      "[Parallel(n_jobs=-1)]: Done  95 out of  95 | elapsed:  2.6min finished\n"
     ]
    },
    {
     "name": "stdout",
     "output_type": "stream",
     "text": [
      "[CV] ................................ , score=81.469955, total= 1.9min\n",
      "[CV]  ................................................................\n",
      "generating 93 samples of indices to use to train multiple estimators, sized 3635 elements with last being 2346 elements\n"
     ]
    },
    {
     "name": "stderr",
     "output_type": "stream",
     "text": [
      "[Parallel(n_jobs=-1)]: Done  42 tasks      | elapsed:   15.2s\n",
      "[Parallel(n_jobs=-1)]: Done  93 out of  93 | elapsed:   31.7s finished\n",
      "[Parallel(n_jobs=-1)]: Done  42 tasks      | elapsed:   37.0s\n",
      "[Parallel(n_jobs=-1)]: Done  93 out of  93 | elapsed:  1.4min finished\n",
      "[Parallel(n_jobs=-1)]: Done  42 tasks      | elapsed:  1.3min\n",
      "[Parallel(n_jobs=-1)]: Done  93 out of  93 | elapsed:  2.8min finished\n"
     ]
    },
    {
     "name": "stdout",
     "output_type": "stream",
     "text": [
      "[CV] ................................ , score=82.042426, total= 2.0min\n"
     ]
    },
    {
     "name": "stderr",
     "output_type": "stream",
     "text": [
      "[Parallel(n_jobs=1)]: Done  33 out of  33 | elapsed: 101.4min finished\n"
     ]
    }
   ],
   "source": [
    "train_sizes, train_scores, test_scores = learning_curve(pnu_test, X_train.values, \n",
    "                                                        y_train.values, \n",
    "                                                        train_sizes=np.asarray([0.05, 0.1, 0.2, 0.3, 0.4, 0.5, 0.6, 0.7, 0.8, 0.9, 1.0]),\n",
    "                                                        n_jobs=1, verbose=10,\n",
    "                                                        scoring=pu_mix_assumed_f1beta10_scorer)"
   ]
  },
  {
   "cell_type": "code",
   "execution_count": 21,
   "metadata": {
    "collapsed": false
   },
   "outputs": [],
   "source": [
    "train_scores_mean = np.mean(train_scores, axis=1)\n",
    "train_scores_std = np.std(train_scores, axis=1)\n",
    "test_scores_mean = np.mean(test_scores, axis=1)\n",
    "test_scores_std = np.std(test_scores, axis=1)"
   ]
  },
  {
   "cell_type": "code",
   "execution_count": 22,
   "metadata": {
    "collapsed": false
   },
   "outputs": [],
   "source": [
    "import matplotlib.pyplot as plt"
   ]
  },
  {
   "cell_type": "code",
   "execution_count": 23,
   "metadata": {
    "collapsed": false
   },
   "outputs": [
    {
     "data": {
      "text/plain": [
       "<matplotlib.legend.Legend at 0xe46d668>"
      ]
     },
     "execution_count": 23,
     "metadata": {},
     "output_type": "execute_result"
    },
    {
     "data": {
      "image/png": "[encoded data removed]",
      "text/plain": [
       "<matplotlib.figure.Figure at 0xe511160>"
      ]
     },
     "metadata": {},
     "output_type": "display_data"
    }
   ],
   "source": [
    "plt.figure()\n",
    "plt.title('Learning Curve')\n",
    "plt.xlabel(\"Training examples\")\n",
    "plt.ylabel(\"PU-Score\")\n",
    "plt.grid()\n",
    "plt.fill_between(train_sizes, train_scores_mean - train_scores_std, \n",
    "                 train_scores_mean + train_scores_std, alpha=0.1, color=\"r\")\n",
    "plt.fill_between(train_sizes, test_scores_mean - test_scores_std, \n",
    "                 test_scores_mean + test_scores_std, alpha=0.1, color=\"g\")\n",
    "plt.plot(train_sizes, train_scores_mean, 'o-', color=\"r\", label=\"Training score\")\n",
    "plt.plot(train_sizes, test_scores_mean, 'o-', color=\"g\", label=\"Cross-Validation Score\")\n",
    "plt.legend(loc=\"best\")"
   ]
  },
  {
   "cell_type": "markdown",
   "metadata": {},
   "source": [
    "# Looks like an overfit maybe?  Let's try some quick feature selection..."
   ]
  },
  {
   "cell_type": "code",
   "execution_count": 51,
   "metadata": {
    "collapsed": true
   },
   "outputs": [],
   "source": [
    "from sklearn.linear_model import LogisticRegression\n",
    "from sklearn.feature_selection import SelectFromModel\n",
    "from sklearn.pipeline import Pipeline\n",
    "from sklearn.preprocessing import MaxAbsScaler"
   ]
  },
  {
   "cell_type": "code",
   "execution_count": 61,
   "metadata": {
    "collapsed": false
   },
   "outputs": [],
   "source": [
    "estimators = [('scaler',MaxAbsScaler()),\n",
    "              ('feature_selection',SelectFromModel(threshold=0.00001,\n",
    "                                                   estimator=PNUWrapper(base_estimator=LogisticRegression(penalty='l1',\n",
    "                                                                                                C=9.258,\n",
    "                                                                                                class_weight='balanced'), \n",
    "                                                              num_unlabeled=5620, pu_learning=True, random_state=77))),\n",
    "              ('clf',pnu_test)]\n",
    "pipe = Pipeline(estimators)"
   ]
  },
  {
   "cell_type": "code",
   "execution_count": 62,
   "metadata": {
    "collapsed": false
   },
   "outputs": [
    {
     "name": "stdout",
     "output_type": "stream",
     "text": [
      "generating 93 samples of indices to use to train multiple estimators, sized 5459 elements with last being 3106 elements\n"
     ]
    },
    {
     "name": "stderr",
     "output_type": "stream",
     "text": [
      "[Parallel(n_jobs=-1)]: Done  42 tasks      | elapsed:   22.7s\n",
      "[Parallel(n_jobs=-1)]: Done  93 out of  93 | elapsed:   48.3s finished\n"
     ]
    },
    {
     "data": {
      "text/plain": [
       "Pipeline(steps=[('scaler', MaxAbsScaler(copy=True)), ('feature_selection', SelectFromModel(estimator=PNUWrapper(base_estimator=LogisticRegression(C=9.258, class_weight='balanced', dual=False,\n",
       "          fit_intercept=True, intercept_scaling=1, max_iter=100,\n",
       "          multi_class='ovr', n_jobs=1, penalty='l1',...ard'),\n",
       "      num_unlabeled=1.0, pu_learning=True, random_state=None,\n",
       "      threshold_set_pct=None))])"
      ]
     },
     "execution_count": 62,
     "metadata": {},
     "output_type": "execute_result"
    }
   ],
   "source": [
    "pipe.fit(X_train.values, y_train.values)"
   ]
  },
  {
   "cell_type": "code",
   "execution_count": 63,
   "metadata": {
    "collapsed": false
   },
   "outputs": [
    {
     "name": "stderr",
     "output_type": "stream",
     "text": [
      "[Parallel(n_jobs=-1)]: Done  42 tasks      | elapsed:   32.1s\n",
      "[Parallel(n_jobs=-1)]: Done  93 out of  93 | elapsed:  1.2min finished\n",
      "[Parallel(n_jobs=-1)]: Done  42 tasks      | elapsed:   34.3s\n",
      "[Parallel(n_jobs=-1)]: Done  93 out of  93 | elapsed:  1.2min finished\n"
     ]
    },
    {
     "data": {
      "text/plain": [
       "({'SCORE': 0.85569620253164558,\n",
       "  'assumed_brier': 0.05120864286440046,\n",
       "  'assumed_brier_neg': 0.050702884415465305,\n",
       "  'assumed_f1': 0.11645133505598623,\n",
       "  'assumed_f1beta10': 0.72346197045796512,\n",
       "  'confusion_matrix_lab': array([[181,  34],\n",
       "         [ 80, 338]]),\n",
       "  'confusion_matrix_un': array([[82673,  5049],\n",
       "         [   80,   338]]),\n",
       "  'labeled_acc': 0.81990521327014221,\n",
       "  'labeled_avg_prec': 0.9217984486030576,\n",
       "  'labeled_brier': 0.14666630499306055,\n",
       "  'labeled_brier_neg': 0.12589960784092399,\n",
       "  'labeled_brier_pos': 0.15734774013112121,\n",
       "  'labeled_f1': 0.85569620253164558,\n",
       "  'labeled_prec': 0.90860215053763438,\n",
       "  'labeled_recall': 0.80861244019138756,\n",
       "  'labeled_roc_auc': 0.82523645265383339,\n",
       "  'pr_one_unlabeled': 0.05730970093821066,\n",
       "  'pu_mix_assumed_f1beta10': 83.044303315152433,\n",
       "  'pu_score': 10.698106269355913},\n",
       " 0.85569620253164558)"
      ]
     },
     "execution_count": 63,
     "metadata": {},
     "output_type": "execute_result"
    }
   ],
   "source": [
    "FrankenScorer()(pipe, X_test.values, y_test.values)"
   ]
  },
  {
   "cell_type": "code",
   "execution_count": 64,
   "metadata": {
    "collapsed": false
   },
   "outputs": [
    {
     "data": {
      "text/plain": [
       "213"
      ]
     },
     "execution_count": 64,
     "metadata": {},
     "output_type": "execute_result"
    }
   ],
   "source": [
    "pipe.named_steps['feature_selection'].get_support(True).__len__()"
   ]
  },
  {
   "cell_type": "code",
   "execution_count": 65,
   "metadata": {
    "collapsed": false
   },
   "outputs": [
    {
     "data": {
      "text/plain": [
       "1e-05"
      ]
     },
     "execution_count": 65,
     "metadata": {},
     "output_type": "execute_result"
    }
   ],
   "source": [
    "pipe.named_steps['feature_selection'].threshold_"
   ]
  },
  {
   "cell_type": "code",
   "execution_count": null,
   "metadata": {
    "collapsed": true
   },
   "outputs": [],
   "source": []
  }
 ],
 "metadata": {
  "anaconda-cloud": {},
  "kernelspec": {
   "display_name": "Python [default]",
   "language": "python",
   "name": "python3"
  },
  "language_info": {
   "codemirror_mode": {
    "name": "ipython",
    "version": 3
   },
   "file_extension": ".py",
   "mimetype": "text/x-python",
   "name": "python",
   "nbconvert_exporter": "python",
   "pygments_lexer": "ipython3",
   "version": "3.5.2"
  }
 },
 "nbformat": 4,
 "nbformat_minor": 2
}
