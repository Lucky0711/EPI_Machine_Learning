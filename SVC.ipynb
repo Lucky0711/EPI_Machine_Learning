{
 "cells": [
  {
   "cell_type": "code",
   "execution_count": 1,
   "metadata": {
    "collapsed": false
   },
   "outputs": [],
   "source": [
    "import pandas as pd\n",
    "import numpy as np\n",
    "import scipy as sp\n",
    "pd.options.display.max_rows = 400\n",
    "pd.options.display.max_columns = 400\n",
    "%matplotlib inline\n",
    "%load_ext autoreload\n",
    "%autoreload 2"
   ]
  },
  {
   "cell_type": "code",
   "execution_count": 2,
   "metadata": {
    "collapsed": true
   },
   "outputs": [],
   "source": [
    "from sklearn.pipeline import Pipeline\n",
    "from sklearn.preprocessing import MaxAbsScaler\n",
    "from sklearn.svm import SVC"
   ]
  },
  {
   "cell_type": "code",
   "execution_count": 3,
   "metadata": {
    "collapsed": false
   },
   "outputs": [],
   "source": [
    "from loadcreon import LoadCreon\n",
    "from pnuwrapper import PNUWrapper\n",
    "from nestedcross import NestedCV\n",
    "from jeffsearchcv import JeffRandomSearchCV\n",
    "from frankenscorer import FrankenScorer, extract_scores_from_nested, extract_score_grid\n",
    "from blagging import BlaggingClassifier"
   ]
  },
  {
   "cell_type": "code",
   "execution_count": 4,
   "metadata": {
    "collapsed": false
   },
   "outputs": [],
   "source": [
    "path = \"C:\\Data\\\\010317\\membership14_final_0103.txt\"\n",
    "lc = LoadCreon(path)"
   ]
  },
  {
   "cell_type": "markdown",
   "metadata": {},
   "source": [
    "## Let's stratify 80/20 train test holdout for future use"
   ]
  },
  {
   "cell_type": "code",
   "execution_count": 5,
   "metadata": {
    "collapsed": false
   },
   "outputs": [],
   "source": [
    "from sklearn.model_selection import train_test_split"
   ]
  },
  {
   "cell_type": "code",
   "execution_count": 6,
   "metadata": {
    "collapsed": false
   },
   "outputs": [],
   "source": [
    "X_train, X_test, y_train, y_test = train_test_split(lc.X, lc.y, test_size=0.2, random_state=771, stratify=lc.y)"
   ]
  },
  {
   "cell_type": "markdown",
   "metadata": {},
   "source": [
    "## SVC pipeline and model on labeled data (PN)"
   ]
  },
  {
   "cell_type": "code",
   "execution_count": 7,
   "metadata": {
    "collapsed": false
   },
   "outputs": [],
   "source": [
    "estimators = [('scaler', MaxAbsScaler()),\n",
    "              ('clf',PNUWrapper(base_estimator=SVC(C=1.0, kernel='linear', probability=True, class_weight='balanced')))]\n",
    "pipe = Pipeline(estimators)"
   ]
  },
  {
   "cell_type": "code",
   "execution_count": 8,
   "metadata": {
    "collapsed": false
   },
   "outputs": [
    {
     "data": {
      "text/plain": [
       "Pipeline(steps=[('scaler', MaxAbsScaler(copy=True)), ('clf', PNUWrapper(base_estimator=SVC(C=1.0, cache_size=200, class_weight='balanced', coef0=0.0,\n",
       "  decision_function_shape=None, degree=3, gamma='auto', kernel='linear',\n",
       "  max_iter=-1, probability=True, random_state=None, shrinking=True,\n",
       "  tol=0.001, verbose=False),\n",
       "      num_unlabeled=0.0, pu_learning=False, random_state=None,\n",
       "      threshold_set_pct=None))])"
      ]
     },
     "execution_count": 8,
     "metadata": {},
     "output_type": "execute_result"
    }
   ],
   "source": [
    "pipe.fit(X_train.values, y_train.values)"
   ]
  },
  {
   "cell_type": "code",
   "execution_count": 9,
   "metadata": {
    "collapsed": false
   },
   "outputs": [
    {
     "data": {
      "text/plain": [
       "({'SCORE': 0.9903381642512078,\n",
       "  'assumed_brier': 0.98987546182088737,\n",
       "  'assumed_brier_neg': 0.99451180725273935,\n",
       "  'assumed_f1': 0.009284840798949227,\n",
       "  'assumed_f1beta10': 0.31928017394254343,\n",
       "  'confusion_matrix_lab': array([[215,   0],\n",
       "         [  8, 410]]),\n",
       "  'confusion_matrix_un': array([[  234, 87488],\n",
       "         [    8,   410]]),\n",
       "  'labeled_acc': 0.9873617693522907,\n",
       "  'labeled_avg_prec': 0.99674973733342409,\n",
       "  'labeled_brier': 0.012335177411497278,\n",
       "  'labeled_brier_neg': 0.0034870615501299967,\n",
       "  'labeled_brier_pos': 0.016886241789951739,\n",
       "  'labeled_f1': 0.9903381642512078,\n",
       "  'labeled_prec': 1.0,\n",
       "  'labeled_recall': 0.98086124401913877,\n",
       "  'labeled_roc_auc': 0.99043062200956933,\n",
       "  'pr_one_unlabeled': 0.99978287451289616,\n",
       "  'pu_score': 0.96473759438047069},\n",
       " 0.9903381642512078)"
      ]
     },
     "execution_count": 9,
     "metadata": {},
     "output_type": "execute_result"
    }
   ],
   "source": [
    "FrankenScorer()(pipe, X_test.values, y_test.values)"
   ]
  },
  {
   "cell_type": "markdown",
   "metadata": {},
   "source": [
    "## Nested Cross grid search for pipline with PNU wrapper"
   ]
  },
  {
   "cell_type": "code",
   "execution_count": 8,
   "metadata": {
    "collapsed": false
   },
   "outputs": [],
   "source": [
    "param_search = {'clf__base_estimator__C': sp.stats.expon(scale=4), \n",
    "               'clf__num_unlabeled': sp.stats.randint(low=1000, high=8000),\n",
    "               'clf__base_estimator__class_weight': [None, 'balanced'],\n",
    "               'clf__base_estimator__kernel': ['linear','rbf'],\n",
    "               'clf__pu_learning': [True, False],\n",
    "               'clf__base_estimator__gamma': ['auto',0.1,0.5,1.0,1.5,2.0,2.5,3.0,5.0,9.0]}"
   ]
  },
  {
   "cell_type": "code",
   "execution_count": 9,
   "metadata": {
    "collapsed": true
   },
   "outputs": [],
   "source": [
    "jeffsearch = JeffRandomSearchCV(pipe, param_search, n_iter=20, \n",
    "                            scoring=FrankenScorer('assumed_f1beta10'), n_jobs=-1, cv=3, verbose=100)"
   ]
  },
  {
   "cell_type": "code",
   "execution_count": 10,
   "metadata": {
    "collapsed": false
   },
   "outputs": [],
   "source": [
    "nested_cross = NestedCV(jeffsearch, scoring=FrankenScorer('assumed_f1beta10'), cv=3)"
   ]
  },
  {
   "cell_type": "code",
   "execution_count": null,
   "metadata": {
    "collapsed": false
   },
   "outputs": [
    {
     "name": "stdout",
     "output_type": "stream",
     "text": [
      "Pickling array (shape=(624,), dtype=uint32).\n",
      "Memmaping (shape=(352556, 288), dtype=int64) to new file C:\\Users\\JEFFRE~1.GOM\\AppData\\Local\\Temp\\joblib_memmaping_pool_2776_193460768\\2776-201292096-d47a562ce4fdf84a63c4c4a1b92e0b10.pkl\n",
      "Memmaping (shape=(352556,), dtype=int64) to new file C:\\Users\\JEFFRE~1.GOM\\AppData\\Local\\Temp\\joblib_memmaping_pool_2776_193460768\\2776-201292096-37e9d47f2d553d0c8c1a28b850ef16f7.pkl\n",
      "Memmaping (shape=(264416,), dtype=int32) to new file C:\\Users\\JEFFRE~1.GOM\\AppData\\Local\\Temp\\joblib_memmaping_pool_2776_193460768\\2776-201292096-2fd06626ad60dca3852b81dee263d905.pkl\n",
      "Pickling array (shape=(88140,), dtype=int32).\n",
      "Pickling array (shape=(624,), dtype=uint32).\n",
      "Memmaping (shape=(352556, 288), dtype=int64) to old file C:\\Users\\JEFFRE~1.GOM\\AppData\\Local\\Temp\\joblib_memmaping_pool_2776_193460768\\2776-201292096-d47a562ce4fdf84a63c4c4a1b92e0b10.pkl\n",
      "Memmaping (shape=(352556,), dtype=int64) to old file C:\\Users\\JEFFRE~1.GOM\\AppData\\Local\\Temp\\joblib_memmaping_pool_2776_193460768\\2776-201292096-37e9d47f2d553d0c8c1a28b850ef16f7.pkl\n",
      "Memmaping (shape=(264416,), dtype=int32) to new file C:\\Users\\JEFFRE~1.GOM\\AppData\\Local\\Temp\\joblib_memmaping_pool_2776_193460768\\2776-201292096-1acdbf2b3af094d8d820319c5cf59e0d.pkl\n",
      "Pickling array (shape=(88140,), dtype=int32).\n",
      "Pickling array (shape=(624,), dtype=uint32).\n",
      "Memmaping (shape=(352556, 288), dtype=int64) to old file C:\\Users\\JEFFRE~1.GOM\\AppData\\Local\\Temp\\joblib_memmaping_pool_2776_193460768\\2776-201292096-d47a562ce4fdf84a63c4c4a1b92e0b10.pkl\n",
      "Memmaping (shape=(352556,), dtype=int64) to old file C:\\Users\\JEFFRE~1.GOM\\AppData\\Local\\Temp\\joblib_memmaping_pool_2776_193460768\\2776-201292096-37e9d47f2d553d0c8c1a28b850ef16f7.pkl\n",
      "Memmaping (shape=(264418,), dtype=int32) to new file C:\\Users\\JEFFRE~1.GOM\\AppData\\Local\\Temp\\joblib_memmaping_pool_2776_193460768\\2776-201292096-7d987e2a19606017bb14d71b562654ce.pkl\n",
      "Pickling array (shape=(88138,), dtype=int32).\n",
      "Pickling array (shape=(624,), dtype=uint32).\n",
      "Memmaping (shape=(352556, 288), dtype=int64) to old file C:\\Users\\JEFFRE~1.GOM\\AppData\\Local\\Temp\\joblib_memmaping_pool_2776_193460768\\2776-201292096-d47a562ce4fdf84a63c4c4a1b92e0b10.pkl\n",
      "Memmaping (shape=(352556,), dtype=int64) to old file C:\\Users\\JEFFRE~1.GOM\\AppData\\Local\\Temp\\joblib_memmaping_pool_2776_193460768\\2776-201292096-37e9d47f2d553d0c8c1a28b850ef16f7.pkl\n",
      "Memmaping (shape=(264418,), dtype=int32) to new file C:\\Users\\JEFFRE~1.GOM\\AppData\\Local\\Temp\\joblib_memmaping_pool_2776_193460768\\2776-201292096-dd8e24c420aa133ee04cfcc200d637c0.pkl\n",
      "Pickling array (shape=(88138,), dtype=int32).\n"
     ]
    }
   ],
   "source": [
    "nested_cross.score(X_train.values, y_train.values, n_jobs=-1, verbose=100)"
   ]
  },
  {
   "cell_type": "code",
   "execution_count": null,
   "metadata": {
    "collapsed": false
   },
   "outputs": [],
   "source": [
    "extract_scores_from_nested(nested_cross.test_score_datas_).mean()"
   ]
  },
  {
   "cell_type": "code",
   "execution_count": null,
   "metadata": {
    "collapsed": false
   },
   "outputs": [],
   "source": [
    "[est.best_params_ for est in nested_cross.estimators_]"
   ]
  },
  {
   "cell_type": "code",
   "execution_count": null,
   "metadata": {
    "collapsed": true
   },
   "outputs": [],
   "source": []
  }
 ],
 "metadata": {
  "anaconda-cloud": {},
  "kernelspec": {
   "display_name": "CREON",
   "language": "python",
   "name": "creon"
  },
  "language_info": {
   "codemirror_mode": {
    "name": "ipython",
    "version": 3
   },
   "file_extension": ".py",
   "mimetype": "text/x-python",
   "name": "python",
   "nbconvert_exporter": "python",
   "pygments_lexer": "ipython3",
   "version": "3.5.2"
  }
 },
 "nbformat": 4,
 "nbformat_minor": 2
}
